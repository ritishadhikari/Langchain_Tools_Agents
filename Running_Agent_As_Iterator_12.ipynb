{
 "cells": [
  {
   "cell_type": "markdown",
   "id": "1cb8541b-d5a3-465b-bd37-5b32568788aa",
   "metadata": {},
   "source": [
    "<h3>VVI</h3>"
   ]
  },
  {
   "cell_type": "code",
   "execution_count": 1,
   "id": "3a63410f-9a49-4f1d-8ac1-b72917b40fd2",
   "metadata": {},
   "outputs": [],
   "source": [
    "from dotenv import load_dotenv,find_dotenv\n",
    "from langchain_google_genai import ChatGoogleGenerativeAI\n",
    "from langchain_openai import ChatOpenAI\n",
    "\n",
    "from langchain.agents import AgentType, initialize_agent\n",
    "from langchain.chains import LLMMathChain\n",
    "from pydantic import BaseModel,Field\n",
    "from langchain_core.tools import Tool, StructuredTool\n",
    "from langchain import hub\n",
    "from langchain.agents import (create_openai_tools_agent,create_tool_calling_agent,\n",
    "                        AgentExecutor,create_openai_functions_agent)"
   ]
  },
  {
   "cell_type": "code",
   "execution_count": 2,
   "id": "959c9cf4-b3e7-48b6-bb80-f81c77dadb89",
   "metadata": {},
   "outputs": [
    {
     "data": {
      "text/plain": [
       "True"
      ]
     },
     "execution_count": 2,
     "metadata": {},
     "output_type": "execute_result"
    }
   ],
   "source": [
    "load_dotenv(find_dotenv(\"../.env\"))"
   ]
  },
  {
   "cell_type": "code",
   "execution_count": 3,
   "id": "d029dcfd-ddb4-4dea-840e-12a11e8ed3d8",
   "metadata": {},
   "outputs": [],
   "source": [
    "llmGemini=ChatGoogleGenerativeAI(model=\"gemini-2.0-flash-001\")\n",
    "llmOpenAI=ChatOpenAI(model=\"gpt-4o-mini\")"
   ]
  },
  {
   "cell_type": "code",
   "execution_count": 4,
   "id": "7ce6cf7d-b213-4991-b3ca-697e485fb3ca",
   "metadata": {},
   "outputs": [],
   "source": [
    "llmMathChain=LLMMathChain.from_llm(llm=llmOpenAI,verbose=True)"
   ]
  },
  {
   "cell_type": "code",
   "execution_count": 5,
   "id": "3ce97af2-faf4-4728-9cc8-5fc8b556388d",
   "metadata": {},
   "outputs": [
    {
     "name": "stdout",
     "output_type": "stream",
     "text": [
      "\n",
      "\n",
      "\u001b[1m> Entering new LLMMathChain chain...\u001b[0m\n",
      "{'What is 34 to the power 2 plus 43^2?'}\u001b[32;1m\u001b[1;3m```text\n",
      "34**2 + 43**2\n",
      "```\n",
      "...numexpr.evaluate(\"34**2 + 43**2\")...\n",
      "\u001b[0m\n",
      "Answer: \u001b[33;1m\u001b[1;3m3005\u001b[0m\n",
      "\u001b[1m> Finished chain.\u001b[0m\n"
     ]
    },
    {
     "data": {
      "text/plain": [
       "{'question': {'What is 34 to the power 2 plus 43^2?'},\n",
       " 'answer': 'Answer: 3005'}"
      ]
     },
     "execution_count": 5,
     "metadata": {},
     "output_type": "execute_result"
    }
   ],
   "source": [
    "llmMathChain.invoke(input={\"What is 34 to the power 2 plus 43^2?\"})"
   ]
  },
  {
   "cell_type": "code",
   "execution_count": 6,
   "id": "52628890-ac90-466a-8677-d2b2a69662e8",
   "metadata": {},
   "outputs": [],
   "source": [
    "# Define Tools which provides 1) The nth prime number and 2) LLMMathChain to act as the calculator\n",
    "\n",
    "primes={998:7901, 999: 7907, 1000: 7919}\n",
    "\n",
    "##########----------Class Which utilizes in the MathsChain----------############\n",
    "class CalculatorInput(BaseModel):\n",
    "    question:str=Field(description=\"Question to ask to the Calculator\")\n",
    "\n",
    "##########-----------Class for Finding the llm_math_chain ---------------############\n",
    "\n",
    "def getPrime(n: int, primes:dict=primes) ->str:\n",
    "    return str(primes.get(int(n)))\n",
    "\n",
    "async def agetPrime(n: int, primes:dict=primes) ->str:\n",
    "    return str(primes.get(int(n)))\n",
    "\n",
    "class PrimeInput(BaseModel):\n",
    "    n:int=Field()"
   ]
  },
  {
   "cell_type": "code",
   "execution_count": 25,
   "id": "edf67c6c-efc7-4d2a-ade0-0e84ccf93f45",
   "metadata": {},
   "outputs": [],
   "source": [
    "tools=[\n",
    "    Tool(\n",
    "        name=\"GetPrime\",\n",
    "        func=getPrime,\n",
    "        description=\"A Tool that returns the `n`th prime number\",\n",
    "        args_schema=PrimeInput,  # the input\n",
    "        coroutine=agetPrime\n",
    "    ),\n",
    "    Tool(\n",
    "        name=\"Calculator\",\n",
    "        description=\"Useful when you would need to compute mathematical expressions\",\n",
    "        func=llmMathChain.invoke,\n",
    "        args_schema=CalculatorInput,  # the input\n",
    "        coroutine=llmMathChain.ainvoke\n",
    "    )\n",
    "]\n"
   ]
  },
  {
   "cell_type": "code",
   "execution_count": 26,
   "id": "5668e145-49da-46fc-98a9-1df9805403b0",
   "metadata": {},
   "outputs": [],
   "source": [
    "def isPrime(n:int) -> bool:\n",
    "    if n<=1 or (n%2==0 and n>2):\n",
    "        return False\n",
    "    else:\n",
    "        for i in range(3,int(n**0.5)+1,2):\n",
    "            if n%i==0:\n",
    "                return False\n",
    "        return True"
   ]
  },
  {
   "cell_type": "code",
   "execution_count": 27,
   "id": "085e1e9f-c02d-4e1d-bfa5-051f5a1191c9",
   "metadata": {},
   "outputs": [],
   "source": [
    "prompt=hub.pull(owner_repo_commit=\"hwchase17/openai-tools-agent\")"
   ]
  },
  {
   "cell_type": "code",
   "execution_count": 28,
   "id": "09ad9a03-6634-4f1e-844c-b37ecf96b8bd",
   "metadata": {},
   "outputs": [],
   "source": [
    "agent=create_openai_tools_agent(llm=llmOpenAI,tools=tools, prompt=prompt)\n",
    "agentExecutor=AgentExecutor(agent=agent,tools=tools,verbose=True)"
   ]
  },
  {
   "cell_type": "code",
   "execution_count": 29,
   "id": "26ef60ca-4d6a-47db-995b-4b967b451e0b",
   "metadata": {},
   "outputs": [],
   "source": [
    "question=\"What is the product of the 998th, 999th and 1000th prime numbers?\""
   ]
  },
  {
   "cell_type": "code",
   "execution_count": 30,
   "id": "6cddfafb-3c2e-4e3e-9c27-abd455bf4184",
   "metadata": {
    "scrolled": true
   },
   "outputs": [
    {
     "name": "stdout",
     "output_type": "stream",
     "text": [
      "\n",
      "\n",
      "\u001b[1m> Entering new AgentExecutor chain...\u001b[0m\n",
      "\u001b[32;1m\u001b[1;3m\n",
      "Invoking: `GetPrime` with `{'n': 998}`\n",
      "\n",
      "\n",
      "\u001b[0m\u001b[36;1m\u001b[1;3m7901\u001b[0m\u001b[32;1m\u001b[1;3m\n",
      "Invoking: `GetPrime` with `{'n': 999}`\n",
      "\n",
      "\n",
      "\u001b[0m\u001b[36;1m\u001b[1;3m7907\u001b[0m\u001b[32;1m\u001b[1;3m\n",
      "Invoking: `GetPrime` with `{'n': 1000}`\n",
      "\n",
      "\n",
      "\u001b[0m\u001b[36;1m\u001b[1;3m7919\u001b[0m\u001b[32;1m\u001b[1;3m\n",
      "Invoking: `Calculator` with `{'question': '7901 * 7907 * 7919'}`\n",
      "\n",
      "\n",
      "\u001b[0m\n",
      "\n",
      "\u001b[1m> Entering new LLMMathChain chain...\u001b[0m\n",
      "7901 * 7907 * 7919\u001b[32;1m\u001b[1;3m```text\n",
      "7901 * 7907 * 7919\n",
      "```\n",
      "...numexpr.evaluate(\"7901 * 7907 * 7919\")...\n",
      "\u001b[0m\n",
      "Answer: \u001b[33;1m\u001b[1;3m494725326233\u001b[0m\n",
      "\u001b[1m> Finished chain.\u001b[0m\n",
      "\u001b[33;1m\u001b[1;3m{'question': '7901 * 7907 * 7919', 'answer': 'Answer: 494725326233'}\u001b[0m\u001b[32;1m\u001b[1;3mThe product of the 998th, 999th, and 1000th prime numbers (7901, 7907, and 7919) is 494725326233.\u001b[0m\n",
      "\n",
      "\u001b[1m> Finished chain.\u001b[0m\n"
     ]
    },
    {
     "data": {
      "text/plain": [
       "{'input': 'What is the product of the 998th, 999th and 1000th prime numbers?',\n",
       " 'output': 'The product of the 998th, 999th, and 1000th prime numbers (7901, 7907, and 7919) is 494725326233.'}"
      ]
     },
     "execution_count": 30,
     "metadata": {},
     "output_type": "execute_result"
    }
   ],
   "source": [
    "agentExecutor.invoke(input={\"input\":question})"
   ]
  },
  {
   "cell_type": "code",
   "execution_count": 31,
   "id": "3b497bfb-3960-4fb4-993a-08fd8c0a8b9d",
   "metadata": {
    "scrolled": true
   },
   "outputs": [
    {
     "name": "stdout",
     "output_type": "stream",
     "text": [
      "\n",
      "\n",
      "\u001b[1m> Entering new None chain...\u001b[0m\n",
      "\u001b[32;1m\u001b[1;3m\n",
      "Invoking: `GetPrime` with `{'n': 998}`\n",
      "\n",
      "\n",
      "\u001b[0m\u001b[36;1m\u001b[1;3m7901\u001b[0m\u001b[32;1m\u001b[1;3m\n",
      "Invoking: `GetPrime` with `{'n': 999}`\n",
      "\n",
      "\n",
      "\u001b[0m\u001b[36;1m\u001b[1;3m7907\u001b[0m\u001b[32;1m\u001b[1;3m\n",
      "Invoking: `GetPrime` with `{'n': 1000}`\n",
      "\n",
      "\n",
      "\u001b[0m\u001b[36;1m\u001b[1;3m7919\u001b[0m{'intermediate_step': [(ToolAgentAction(tool='GetPrime', tool_input={'n': 998}, log=\"\\nInvoking: `GetPrime` with `{'n': 998}`\\n\\n\\n\", message_log=[AIMessageChunk(content='', additional_kwargs={'tool_calls': [{'index': 0, 'id': 'call_7WP7NvT2qb88YU6wFWEzcSxY', 'function': {'arguments': '{\"n\": 998}', 'name': 'GetPrime'}, 'type': 'function'}, {'index': 1, 'id': 'call_c85TLJUPiCtqCdkVpokSSmu1', 'function': {'arguments': '{\"n\": 999}', 'name': 'GetPrime'}, 'type': 'function'}, {'index': 2, 'id': 'call_BzYbpPyrOru1rYTWUYbsEJeR', 'function': {'arguments': '{\"n\": 1000}', 'name': 'GetPrime'}, 'type': 'function'}]}, response_metadata={'finish_reason': 'tool_calls', 'model_name': 'gpt-4o-mini-2024-07-18', 'system_fingerprint': 'fp_34a54ae93c'}, id='run--5fd5a9cf-b45a-41ce-8bb5-e2c2d1b28252', tool_calls=[{'name': 'GetPrime', 'args': {'n': 998}, 'id': 'call_7WP7NvT2qb88YU6wFWEzcSxY', 'type': 'tool_call'}, {'name': 'GetPrime', 'args': {'n': 999}, 'id': 'call_c85TLJUPiCtqCdkVpokSSmu1', 'type': 'tool_call'}, {'name': 'GetPrime', 'args': {'n': 1000}, 'id': 'call_BzYbpPyrOru1rYTWUYbsEJeR', 'type': 'tool_call'}], tool_call_chunks=[{'name': 'GetPrime', 'args': '{\"n\": 998}', 'id': 'call_7WP7NvT2qb88YU6wFWEzcSxY', 'index': 0, 'type': 'tool_call_chunk'}, {'name': 'GetPrime', 'args': '{\"n\": 999}', 'id': 'call_c85TLJUPiCtqCdkVpokSSmu1', 'index': 1, 'type': 'tool_call_chunk'}, {'name': 'GetPrime', 'args': '{\"n\": 1000}', 'id': 'call_BzYbpPyrOru1rYTWUYbsEJeR', 'index': 2, 'type': 'tool_call_chunk'}])], tool_call_id='call_7WP7NvT2qb88YU6wFWEzcSxY'), '7901'), (ToolAgentAction(tool='GetPrime', tool_input={'n': 999}, log=\"\\nInvoking: `GetPrime` with `{'n': 999}`\\n\\n\\n\", message_log=[AIMessageChunk(content='', additional_kwargs={'tool_calls': [{'index': 0, 'id': 'call_7WP7NvT2qb88YU6wFWEzcSxY', 'function': {'arguments': '{\"n\": 998}', 'name': 'GetPrime'}, 'type': 'function'}, {'index': 1, 'id': 'call_c85TLJUPiCtqCdkVpokSSmu1', 'function': {'arguments': '{\"n\": 999}', 'name': 'GetPrime'}, 'type': 'function'}, {'index': 2, 'id': 'call_BzYbpPyrOru1rYTWUYbsEJeR', 'function': {'arguments': '{\"n\": 1000}', 'name': 'GetPrime'}, 'type': 'function'}]}, response_metadata={'finish_reason': 'tool_calls', 'model_name': 'gpt-4o-mini-2024-07-18', 'system_fingerprint': 'fp_34a54ae93c'}, id='run--5fd5a9cf-b45a-41ce-8bb5-e2c2d1b28252', tool_calls=[{'name': 'GetPrime', 'args': {'n': 998}, 'id': 'call_7WP7NvT2qb88YU6wFWEzcSxY', 'type': 'tool_call'}, {'name': 'GetPrime', 'args': {'n': 999}, 'id': 'call_c85TLJUPiCtqCdkVpokSSmu1', 'type': 'tool_call'}, {'name': 'GetPrime', 'args': {'n': 1000}, 'id': 'call_BzYbpPyrOru1rYTWUYbsEJeR', 'type': 'tool_call'}], tool_call_chunks=[{'name': 'GetPrime', 'args': '{\"n\": 998}', 'id': 'call_7WP7NvT2qb88YU6wFWEzcSxY', 'index': 0, 'type': 'tool_call_chunk'}, {'name': 'GetPrime', 'args': '{\"n\": 999}', 'id': 'call_c85TLJUPiCtqCdkVpokSSmu1', 'index': 1, 'type': 'tool_call_chunk'}, {'name': 'GetPrime', 'args': '{\"n\": 1000}', 'id': 'call_BzYbpPyrOru1rYTWUYbsEJeR', 'index': 2, 'type': 'tool_call_chunk'}])], tool_call_id='call_c85TLJUPiCtqCdkVpokSSmu1'), '7907'), (ToolAgentAction(tool='GetPrime', tool_input={'n': 1000}, log=\"\\nInvoking: `GetPrime` with `{'n': 1000}`\\n\\n\\n\", message_log=[AIMessageChunk(content='', additional_kwargs={'tool_calls': [{'index': 0, 'id': 'call_7WP7NvT2qb88YU6wFWEzcSxY', 'function': {'arguments': '{\"n\": 998}', 'name': 'GetPrime'}, 'type': 'function'}, {'index': 1, 'id': 'call_c85TLJUPiCtqCdkVpokSSmu1', 'function': {'arguments': '{\"n\": 999}', 'name': 'GetPrime'}, 'type': 'function'}, {'index': 2, 'id': 'call_BzYbpPyrOru1rYTWUYbsEJeR', 'function': {'arguments': '{\"n\": 1000}', 'name': 'GetPrime'}, 'type': 'function'}]}, response_metadata={'finish_reason': 'tool_calls', 'model_name': 'gpt-4o-mini-2024-07-18', 'system_fingerprint': 'fp_34a54ae93c'}, id='run--5fd5a9cf-b45a-41ce-8bb5-e2c2d1b28252', tool_calls=[{'name': 'GetPrime', 'args': {'n': 998}, 'id': 'call_7WP7NvT2qb88YU6wFWEzcSxY', 'type': 'tool_call'}, {'name': 'GetPrime', 'args': {'n': 999}, 'id': 'call_c85TLJUPiCtqCdkVpokSSmu1', 'type': 'tool_call'}, {'name': 'GetPrime', 'args': {'n': 1000}, 'id': 'call_BzYbpPyrOru1rYTWUYbsEJeR', 'type': 'tool_call'}], tool_call_chunks=[{'name': 'GetPrime', 'args': '{\"n\": 998}', 'id': 'call_7WP7NvT2qb88YU6wFWEzcSxY', 'index': 0, 'type': 'tool_call_chunk'}, {'name': 'GetPrime', 'args': '{\"n\": 999}', 'id': 'call_c85TLJUPiCtqCdkVpokSSmu1', 'index': 1, 'type': 'tool_call_chunk'}, {'name': 'GetPrime', 'args': '{\"n\": 1000}', 'id': 'call_BzYbpPyrOru1rYTWUYbsEJeR', 'index': 2, 'type': 'tool_call_chunk'}])], tool_call_id='call_BzYbpPyrOru1rYTWUYbsEJeR'), '7919')]}\n",
      "--------\n",
      "\u001b[32;1m\u001b[1;3m\n",
      "Invoking: `Calculator` with `{'question': '7901 * 7907 * 7919'}`\n",
      "\n",
      "\n",
      "\u001b[0m\n",
      "\n",
      "\u001b[1m> Entering new LLMMathChain chain...\u001b[0m\n",
      "7901 * 7907 * 7919\u001b[32;1m\u001b[1;3m```text\n",
      "7901 * 7907 * 7919\n",
      "```\n",
      "...numexpr.evaluate(\"7901 * 7907 * 7919\")...\n",
      "\u001b[0m\n",
      "Answer: \u001b[33;1m\u001b[1;3m494725326233\u001b[0m\n",
      "\u001b[1m> Finished chain.\u001b[0m\n",
      "\u001b[33;1m\u001b[1;3m{'question': '7901 * 7907 * 7919', 'answer': 'Answer: 494725326233'}\u001b[0m{'intermediate_step': [(ToolAgentAction(tool='Calculator', tool_input={'question': '7901 * 7907 * 7919'}, log=\"\\nInvoking: `Calculator` with `{'question': '7901 * 7907 * 7919'}`\\n\\n\\n\", message_log=[AIMessageChunk(content='', additional_kwargs={'tool_calls': [{'index': 0, 'id': 'call_lk9FlqrwMPIkjJpb0TGiAkYo', 'function': {'arguments': '{\"question\":\"7901 * 7907 * 7919\"}', 'name': 'Calculator'}, 'type': 'function'}]}, response_metadata={'finish_reason': 'tool_calls', 'model_name': 'gpt-4o-mini-2024-07-18', 'system_fingerprint': 'fp_34a54ae93c'}, id='run--3f200072-7819-43a5-9d9c-e3122c7bed86', tool_calls=[{'name': 'Calculator', 'args': {'question': '7901 * 7907 * 7919'}, 'id': 'call_lk9FlqrwMPIkjJpb0TGiAkYo', 'type': 'tool_call'}], tool_call_chunks=[{'name': 'Calculator', 'args': '{\"question\":\"7901 * 7907 * 7919\"}', 'id': 'call_lk9FlqrwMPIkjJpb0TGiAkYo', 'index': 0, 'type': 'tool_call_chunk'}])], tool_call_id='call_lk9FlqrwMPIkjJpb0TGiAkYo'), {'question': '7901 * 7907 * 7919', 'answer': 'Answer: 494725326233'})]}\n",
      "--------\n",
      "\u001b[32;1m\u001b[1;3mThe product of the 998th, 999th, and 1000th prime numbers (7901, 7907, and 7919) is 494,725,326,233.\u001b[0m\n",
      "\n",
      "\u001b[1m> Finished chain.\u001b[0m\n",
      "{'output': 'The product of the 998th, 999th, and 1000th prime numbers (7901, 7907, and 7919) is 494,725,326,233.', 'messages': [AIMessage(content='The product of the 998th, 999th, and 1000th prime numbers (7901, 7907, and 7919) is 494,725,326,233.', additional_kwargs={}, response_metadata={})]}\n",
      "--------\n"
     ]
    }
   ],
   "source": [
    "for step in agentExecutor.iter(inputs={\"input\":question}):\n",
    "    print(step)\n",
    "    print(\"--------\")"
   ]
  },
  {
   "cell_type": "code",
   "execution_count": 32,
   "id": "b109461f-331e-4f85-87e3-f853e819fd30",
   "metadata": {},
   "outputs": [
    {
     "name": "stdout",
     "output_type": "stream",
     "text": [
      "\n",
      "\n",
      "\u001b[1m> Entering new None chain...\u001b[0m\n",
      "\u001b[32;1m\u001b[1;3m\n",
      "Invoking: `GetPrime` with `{'n': 998}`\n",
      "\n",
      "\n",
      "\u001b[0m\u001b[36;1m\u001b[1;3m7901\u001b[0m\u001b[32;1m\u001b[1;3m\n",
      "Invoking: `GetPrime` with `{'n': 999}`\n",
      "\n",
      "\n",
      "\u001b[0m\u001b[36;1m\u001b[1;3m7907\u001b[0m\u001b[32;1m\u001b[1;3m\n",
      "Invoking: `GetPrime` with `{'n': 1000}`\n",
      "\n",
      "\n",
      "\u001b[0m\u001b[36;1m\u001b[1;3m7919\u001b[0mChecking whether 7901 is Prime\n"
     ]
    }
   ],
   "source": [
    "for step in agentExecutor.iter(inputs={\"input\":question}):\n",
    "    if step.get('intermediate_step'):\n",
    "        output=step['intermediate_step']\n",
    "        action,value=output[0]\n",
    "        if action.tool==\"GetPrime\":\n",
    "            value=int(value)\n",
    "            print(f\"Checking whether {value} is Prime\")\n",
    "            assert isPrime(value)\n",
    "        # # Ask users if they would want to continue\n",
    "        _continue=input(\"Should the agent continue (Y/n)\") or \"Y\"\n",
    "        if _continue.lower()!=\"y\":\n",
    "            break\n",
    "        print(\"--------\")"
   ]
  },
  {
   "cell_type": "markdown",
   "id": "18fb84c1-b472-4f13-b77b-c4b2aeaf8a6b",
   "metadata": {},
   "source": [
    "<h3> Doing Similar stuffs with Stream</h3>"
   ]
  },
  {
   "cell_type": "code",
   "execution_count": 33,
   "id": "f3b5c954-adcd-4274-ae0d-f9b32801bcb9",
   "metadata": {},
   "outputs": [
    {
     "name": "stdout",
     "output_type": "stream",
     "text": [
      "\n",
      "\n",
      "\u001b[1m> Entering new None chain...\u001b[0m\n",
      "\u001b[32;1m\u001b[1;3m\n",
      "Invoking: `GetPrime` with `{'n': 998}`\n",
      "\n",
      "\n",
      "\u001b[0m\u001b[36;1m\u001b[1;3m7901\u001b[0mChecking whether 7901 is Prime\n"
     ]
    }
   ],
   "source": [
    "for step in agentExecutor.stream(input={\"input\":question}):\n",
    "    if step.get('steps'):\n",
    "        output=step['steps']  # Replace intermediate_step with step\n",
    "        action,value=output[0]\n",
    "        action=action[1]  # Extra Step\n",
    "        if action.tool==\"GetPrime\":\n",
    "            value=value[1]  # Extra Step\n",
    "            value=int(value)\n",
    "            print(f\"Checking whether {value} is Prime\")\n",
    "            assert isPrime(value)\n",
    "        # # Ask users if they would want to continue\n",
    "        _continue=input(\"Should the agent continue (Y/n)\") or \"Y\"\n",
    "        if _continue.lower()!=\"y\":\n",
    "            break\n",
    "        print(\"--------\")"
   ]
  },
  {
   "cell_type": "code",
   "execution_count": null,
   "id": "13d32727-529a-402f-acdf-243a2057021d",
   "metadata": {},
   "outputs": [],
   "source": []
  }
 ],
 "metadata": {
  "kernelspec": {
   "display_name": "lcnenv",
   "language": "python",
   "name": "python3"
  },
  "language_info": {
   "codemirror_mode": {
    "name": "ipython",
    "version": 3
   },
   "file_extension": ".py",
   "mimetype": "text/x-python",
   "name": "python",
   "nbconvert_exporter": "python",
   "pygments_lexer": "ipython3",
   "version": "3.11.11"
  }
 },
 "nbformat": 4,
 "nbformat_minor": 5
}
