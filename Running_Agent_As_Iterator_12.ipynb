{
 "cells": [
  {
   "cell_type": "markdown",
   "id": "1cb8541b-d5a3-465b-bd37-5b32568788aa",
   "metadata": {},
   "source": [
    "<h3>VVI</h3>"
   ]
  },
  {
   "cell_type": "code",
   "execution_count": 2,
   "id": "3a63410f-9a49-4f1d-8ac1-b72917b40fd2",
   "metadata": {},
   "outputs": [
    {
     "name": "stderr",
     "output_type": "stream",
     "text": [
      "C:\\Users\\MSI 1\\.conda\\envs\\oaivenv\\Lib\\site-packages\\tqdm\\auto.py:21: TqdmWarning: IProgress not found. Please update jupyter and ipywidgets. See https://ipywidgets.readthedocs.io/en/stable/user_install.html\n",
      "  from .autonotebook import tqdm as notebook_tqdm\n"
     ]
    }
   ],
   "source": [
    "from dotenv import load_dotenv,find_dotenv\n",
    "from langchain_google_genai import ChatGoogleGenerativeAI\n",
    "from langchain_openai import ChatOpenAI\n",
    "\n",
    "from langchain.agents import AgentType, initialize_agent\n",
    "from langchain.chains import LLMMathChain\n",
    "from pydantic import BaseModel,Field\n",
    "from langchain_core.tools import Tool, StructuredTool\n",
    "from langchain import hub\n",
    "from langchain.agents import (create_openai_tools_agent,create_tool_calling_agent,\n",
    "                        AgentExecutor,create_openai_functions_agent)"
   ]
  },
  {
   "cell_type": "code",
   "execution_count": 3,
   "id": "959c9cf4-b3e7-48b6-bb80-f81c77dadb89",
   "metadata": {},
   "outputs": [
    {
     "data": {
      "text/plain": [
       "True"
      ]
     },
     "execution_count": 3,
     "metadata": {},
     "output_type": "execute_result"
    }
   ],
   "source": [
    "load_dotenv(find_dotenv(\"D:\\LLM Courses\\Master Langchain Udemy\\.env\"))"
   ]
  },
  {
   "cell_type": "code",
   "execution_count": 7,
   "id": "d029dcfd-ddb4-4dea-840e-12a11e8ed3d8",
   "metadata": {},
   "outputs": [],
   "source": [
    "llmGemini=ChatGoogleGenerativeAI(model=\"gemini-1.5-flash\")\n",
    "llmOpenAI=ChatOpenAI(model=\"gpt-3.5-turbo\")"
   ]
  },
  {
   "cell_type": "code",
   "execution_count": 8,
   "id": "7ce6cf7d-b213-4991-b3ca-697e485fb3ca",
   "metadata": {},
   "outputs": [],
   "source": [
    "llmMathChain=LLMMathChain.from_llm(llm=llmOpenAI,verbose=True)"
   ]
  },
  {
   "cell_type": "code",
   "execution_count": 9,
   "id": "3ce97af2-faf4-4728-9cc8-5fc8b556388d",
   "metadata": {},
   "outputs": [
    {
     "name": "stdout",
     "output_type": "stream",
     "text": [
      "\n",
      "\n",
      "\u001b[1m> Entering new LLMMathChain chain...\u001b[0m\n",
      "{'What is 34 to the power 2 plus 43^2?'}\u001b[32;1m\u001b[1;3m```text\n",
      "34**2 + 43**2\n",
      "```\n",
      "...numexpr.evaluate(\"34**2 + 43**2\")...\n",
      "\u001b[0m\n",
      "Answer: \u001b[33;1m\u001b[1;3m3005\u001b[0m\n",
      "\u001b[1m> Finished chain.\u001b[0m\n"
     ]
    },
    {
     "data": {
      "text/plain": [
       "{'question': {'What is 34 to the power 2 plus 43^2?'},\n",
       " 'answer': 'Answer: 3005'}"
      ]
     },
     "execution_count": 9,
     "metadata": {},
     "output_type": "execute_result"
    }
   ],
   "source": [
    "llmMathChain.invoke(input={\"What is 34 to the power 2 plus 43^2?\"})"
   ]
  },
  {
   "cell_type": "code",
   "execution_count": 10,
   "id": "52628890-ac90-466a-8677-d2b2a69662e8",
   "metadata": {},
   "outputs": [],
   "source": [
    "# Define Tools which provides 1) The nth prime number and 2) LLMMathChain to act as the calculator\n",
    "\n",
    "primes={998:7901, 999: 7907, 1000: 7919}\n",
    "\n",
    "##########----------Class Which utilizes in the MathsChain----------############\n",
    "class CalculatorInput(BaseModel):\n",
    "    question:str=Field(description=\"Question to ask to the Calculator\")\n",
    "\n",
    "##########-----------Class for Finding the llm_math_chain ---------------############\n",
    "\n",
    "def getPrime(n: int, primes:dict=primes) ->str:\n",
    "    return str(primes.get(int(n)))\n",
    "\n",
    "async def agetPrime(n: int, primes:dict=primes) ->str:\n",
    "    return str(primes.get(int(n)))\n",
    "\n",
    "class PrimeInput(BaseModel):\n",
    "    n:int=Field()"
   ]
  },
  {
   "cell_type": "code",
   "execution_count": 11,
   "id": "edf67c6c-efc7-4d2a-ade0-0e84ccf93f45",
   "metadata": {},
   "outputs": [],
   "source": [
    "tools=[\n",
    "    Tool(\n",
    "        name=\"GetPrime\",\n",
    "        func=getPrime,\n",
    "        description=\"A Tool that returns the `n`th prime number\",\n",
    "        args_schema=PrimeInput,\n",
    "        coroutine=agetPrime\n",
    "    ),\n",
    "    Tool.from_function(\n",
    "        name=\"Calculator\",\n",
    "        description=\"Useful when you would need to compute mathematical expressions\",\n",
    "        func=llmMathChain.invoke,\n",
    "        args_schema=CalculatorInput,\n",
    "        coroutine=llmMathChain.invoke\n",
    "    )\n",
    "]\n"
   ]
  },
  {
   "cell_type": "code",
   "execution_count": 12,
   "id": "5668e145-49da-46fc-98a9-1df9805403b0",
   "metadata": {},
   "outputs": [],
   "source": [
    "def isPrime(n:int) -> bool:\n",
    "    if n<=1 or (n%2==0 and n>2):\n",
    "        return False\n",
    "    else:\n",
    "        for i in range(3,int(n**0.5)+1,2):\n",
    "            if n%i==0:\n",
    "                return False\n",
    "        return True"
   ]
  },
  {
   "cell_type": "code",
   "execution_count": 13,
   "id": "085e1e9f-c02d-4e1d-bfa5-051f5a1191c9",
   "metadata": {},
   "outputs": [
    {
     "name": "stderr",
     "output_type": "stream",
     "text": [
      "C:\\Users\\MSI 1\\.conda\\envs\\oaivenv\\Lib\\site-packages\\langsmith\\client.py:323: LangSmithMissingAPIKeyWarning: API key must be provided when using hosted LangSmith API\n",
      "  warnings.warn(\n"
     ]
    }
   ],
   "source": [
    "prompt=hub.pull(owner_repo_commit=\"hwchase17/openai-tools-agent\")"
   ]
  },
  {
   "cell_type": "code",
   "execution_count": 17,
   "id": "09ad9a03-6634-4f1e-844c-b37ecf96b8bd",
   "metadata": {},
   "outputs": [],
   "source": [
    "agent=create_openai_tools_agent(llm=llmOpenAI,tools=tools, prompt=prompt)\n",
    "agentExecutor=AgentExecutor(agent=agent,tools=tools,verbose=True)"
   ]
  },
  {
   "cell_type": "code",
   "execution_count": 18,
   "id": "26ef60ca-4d6a-47db-995b-4b967b451e0b",
   "metadata": {},
   "outputs": [],
   "source": [
    "question=\"What is the product of the 998th, 999th and 1000th prime numbers?\""
   ]
  },
  {
   "cell_type": "code",
   "execution_count": 19,
   "id": "6cddfafb-3c2e-4e3e-9c27-abd455bf4184",
   "metadata": {
    "scrolled": true
   },
   "outputs": [
    {
     "name": "stdout",
     "output_type": "stream",
     "text": [
      "\n",
      "\n",
      "\u001b[1m> Entering new AgentExecutor chain...\u001b[0m\n",
      "\u001b[32;1m\u001b[1;3m\n",
      "Invoking: `GetPrime` with `{'n': 998}`\n",
      "\n",
      "\n",
      "\u001b[0m\u001b[36;1m\u001b[1;3m7901\u001b[0m\u001b[32;1m\u001b[1;3m\n",
      "Invoking: `GetPrime` with `{'n': 999}`\n",
      "\n",
      "\n",
      "\u001b[0m\u001b[36;1m\u001b[1;3m7907\u001b[0m\u001b[32;1m\u001b[1;3m\n",
      "Invoking: `GetPrime` with `{'n': 1000}`\n",
      "\n",
      "\n",
      "\u001b[0m\u001b[36;1m\u001b[1;3m7919\u001b[0m\u001b[32;1m\u001b[1;3mThe 998th prime number is 7901, the 999th prime number is 7907, and the 1000th prime number is 7919. \n",
      "\n",
      "The product of these prime numbers is:\n",
      "7901 * 7907 * 7919 = 497287193\n",
      "The product of the 998th, 999th, and 1000th prime numbers is 497287193.\u001b[0m\n",
      "\n",
      "\u001b[1m> Finished chain.\u001b[0m\n"
     ]
    },
    {
     "data": {
      "text/plain": [
       "{'input': 'What is the product of the 998th, 999th and 1000th prime numbers?',\n",
       " 'output': 'The 998th prime number is 7901, the 999th prime number is 7907, and the 1000th prime number is 7919. \\n\\nThe product of these prime numbers is:\\n7901 * 7907 * 7919 = 497287193\\nThe product of the 998th, 999th, and 1000th prime numbers is 497287193.'}"
      ]
     },
     "execution_count": 19,
     "metadata": {},
     "output_type": "execute_result"
    }
   ],
   "source": [
    "agentExecutor.invoke(input={\"input\":question})"
   ]
  },
  {
   "cell_type": "code",
   "execution_count": 126,
   "id": "3b497bfb-3960-4fb4-993a-08fd8c0a8b9d",
   "metadata": {
    "scrolled": true
   },
   "outputs": [
    {
     "name": "stdout",
     "output_type": "stream",
     "text": [
      "\n",
      "\n",
      "\u001b[1m> Entering new None chain...\u001b[0m\n",
      "\u001b[32;1m\u001b[1;3m\n",
      "Invoking: `GetPrime` with `{'n': 998}`\n",
      "\n",
      "\n",
      "\u001b[0m\u001b[36;1m\u001b[1;3m7901\u001b[0m{'intermediate_step': [(ToolAgentAction(tool='GetPrime', tool_input={'n': 998}, log=\"\\nInvoking: `GetPrime` with `{'n': 998}`\\n\\n\\n\", message_log=[AIMessageChunk(content='', additional_kwargs={'tool_calls': [{'index': 0, 'id': 'call_iO2gZYD6vVUERNz1WLpWNdaR', 'function': {'arguments': '{\\n  \"n\": 998\\n}', 'name': 'GetPrime'}, 'type': 'function'}]}, response_metadata={'finish_reason': 'tool_calls', 'model_name': 'gpt-4-0613'}, id='run-ae5517a6-c50e-49e0-9fdb-eac6ffdee293', tool_calls=[{'name': 'GetPrime', 'args': {'n': 998}, 'id': 'call_iO2gZYD6vVUERNz1WLpWNdaR', 'type': 'tool_call'}], tool_call_chunks=[{'name': 'GetPrime', 'args': '{\\n  \"n\": 998\\n}', 'id': 'call_iO2gZYD6vVUERNz1WLpWNdaR', 'index': 0, 'type': 'tool_call_chunk'}])], tool_call_id='call_iO2gZYD6vVUERNz1WLpWNdaR'), '7901')]}\n",
      "--------\n",
      "\u001b[32;1m\u001b[1;3m\n",
      "Invoking: `GetPrime` with `{'n': 999}`\n",
      "\n",
      "\n",
      "\u001b[0m\u001b[36;1m\u001b[1;3m7907\u001b[0m{'intermediate_step': [(ToolAgentAction(tool='GetPrime', tool_input={'n': 999}, log=\"\\nInvoking: `GetPrime` with `{'n': 999}`\\n\\n\\n\", message_log=[AIMessageChunk(content='', additional_kwargs={'tool_calls': [{'index': 0, 'id': 'call_l8zVzwphzVhfRy52wX8tnjAG', 'function': {'arguments': '{\"n\": 999}', 'name': 'GetPrime'}, 'type': 'function'}]}, response_metadata={'finish_reason': 'tool_calls', 'model_name': 'gpt-4-0613'}, id='run-540b1225-405c-4318-858a-15e30f4cb671', tool_calls=[{'name': 'GetPrime', 'args': {'n': 999}, 'id': 'call_l8zVzwphzVhfRy52wX8tnjAG', 'type': 'tool_call'}], tool_call_chunks=[{'name': 'GetPrime', 'args': '{\"n\": 999}', 'id': 'call_l8zVzwphzVhfRy52wX8tnjAG', 'index': 0, 'type': 'tool_call_chunk'}])], tool_call_id='call_l8zVzwphzVhfRy52wX8tnjAG'), '7907')]}\n",
      "--------\n",
      "\u001b[32;1m\u001b[1;3m\n",
      "Invoking: `GetPrime` with `{'n': 1000}`\n",
      "\n",
      "\n",
      "\u001b[0m\u001b[36;1m\u001b[1;3m7919\u001b[0m{'intermediate_step': [(ToolAgentAction(tool='GetPrime', tool_input={'n': 1000}, log=\"\\nInvoking: `GetPrime` with `{'n': 1000}`\\n\\n\\n\", message_log=[AIMessageChunk(content='', additional_kwargs={'tool_calls': [{'index': 0, 'id': 'call_P0XYZHvLuVOZUYsWufcoDblf', 'function': {'arguments': '{\"n\": 1000}', 'name': 'GetPrime'}, 'type': 'function'}]}, response_metadata={'finish_reason': 'tool_calls', 'model_name': 'gpt-4-0613'}, id='run-cecdeb66-50cc-4180-a202-7972cba78cc5', tool_calls=[{'name': 'GetPrime', 'args': {'n': 1000}, 'id': 'call_P0XYZHvLuVOZUYsWufcoDblf', 'type': 'tool_call'}], tool_call_chunks=[{'name': 'GetPrime', 'args': '{\"n\": 1000}', 'id': 'call_P0XYZHvLuVOZUYsWufcoDblf', 'index': 0, 'type': 'tool_call_chunk'}])], tool_call_id='call_P0XYZHvLuVOZUYsWufcoDblf'), '7919')]}\n",
      "--------\n",
      "\u001b[32;1m\u001b[1;3m\n",
      "Invoking: `Calculator` with `{'question': '7901 * 7907 * 7919'}`\n",
      "\n",
      "\n",
      "\u001b[0m\n",
      "\n",
      "\u001b[1m> Entering new LLMMathChain chain...\u001b[0m\n",
      "7901 * 7907 * 7919\u001b[32;1m\u001b[1;3m```text\n",
      "7901 * 7907 * 7919\n",
      "```\n",
      "...numexpr.evaluate(\"7901 * 7907 * 7919\")...\n",
      "\u001b[0m\n",
      "Answer: \u001b[33;1m\u001b[1;3m494725326233\u001b[0m\n",
      "\u001b[1m> Finished chain.\u001b[0m\n",
      "\u001b[33;1m\u001b[1;3m{'question': '7901 * 7907 * 7919', 'answer': 'Answer: 494725326233'}\u001b[0m{'intermediate_step': [(ToolAgentAction(tool='Calculator', tool_input={'question': '7901 * 7907 * 7919'}, log=\"\\nInvoking: `Calculator` with `{'question': '7901 * 7907 * 7919'}`\\n\\n\\n\", message_log=[AIMessageChunk(content='', additional_kwargs={'tool_calls': [{'index': 0, 'id': 'call_FE5RuAp8nMLMjuAwDVQVbf5z', 'function': {'arguments': '{\\n\"question\": \"7901 * 7907 * 7919\"\\n}', 'name': 'Calculator'}, 'type': 'function'}]}, response_metadata={'finish_reason': 'tool_calls', 'model_name': 'gpt-4-0613'}, id='run-19932d34-db3a-477b-9935-e4503e7fff54', tool_calls=[{'name': 'Calculator', 'args': {'question': '7901 * 7907 * 7919'}, 'id': 'call_FE5RuAp8nMLMjuAwDVQVbf5z', 'type': 'tool_call'}], tool_call_chunks=[{'name': 'Calculator', 'args': '{\\n\"question\": \"7901 * 7907 * 7919\"\\n}', 'id': 'call_FE5RuAp8nMLMjuAwDVQVbf5z', 'index': 0, 'type': 'tool_call_chunk'}])], tool_call_id='call_FE5RuAp8nMLMjuAwDVQVbf5z'), {'question': '7901 * 7907 * 7919', 'answer': 'Answer: 494725326233'})]}\n",
      "--------\n",
      "\u001b[32;1m\u001b[1;3mThe product of the 998th, 999th and 1000th prime numbers is 494725326233.\u001b[0m\n",
      "\n",
      "\u001b[1m> Finished chain.\u001b[0m\n",
      "{'output': 'The product of the 998th, 999th and 1000th prime numbers is 494725326233.', 'messages': [AIMessage(content='The product of the 998th, 999th and 1000th prime numbers is 494725326233.', additional_kwargs={}, response_metadata={})]}\n",
      "--------\n"
     ]
    }
   ],
   "source": [
    "for step in agentExecutor.iter(inputs={\"input\":question}):\n",
    "    print(step)\n",
    "    print(\"--------\")"
   ]
  },
  {
   "cell_type": "code",
   "execution_count": 123,
   "id": "b109461f-331e-4f85-87e3-f853e819fd30",
   "metadata": {},
   "outputs": [
    {
     "name": "stdout",
     "output_type": "stream",
     "text": [
      "\n",
      "\n",
      "\u001b[1m> Entering new None chain...\u001b[0m\n",
      "\u001b[32;1m\u001b[1;3m\n",
      "Invoking: `GetPrime` with `{'n': 998}`\n",
      "\n",
      "\n",
      "\u001b[0m\u001b[36;1m\u001b[1;3m7901\u001b[0mChecking whether 7901 is Prime\n"
     ]
    },
    {
     "name": "stdin",
     "output_type": "stream",
     "text": [
      "Should the agent continue (Y/n) y\n"
     ]
    },
    {
     "name": "stdout",
     "output_type": "stream",
     "text": [
      "--------\n",
      "\u001b[32;1m\u001b[1;3m\n",
      "Invoking: `GetPrime` with `{'n': 999}`\n",
      "\n",
      "\n",
      "\u001b[0m\u001b[36;1m\u001b[1;3m7907\u001b[0mChecking whether 7907 is Prime\n"
     ]
    },
    {
     "name": "stdin",
     "output_type": "stream",
     "text": [
      "Should the agent continue (Y/n) y\n"
     ]
    },
    {
     "name": "stdout",
     "output_type": "stream",
     "text": [
      "--------\n",
      "\u001b[32;1m\u001b[1;3m\n",
      "Invoking: `GetPrime` with `{'n': 1000}`\n",
      "\n",
      "\n",
      "\u001b[0m\u001b[36;1m\u001b[1;3m7919\u001b[0mChecking whether 7919 is Prime\n"
     ]
    },
    {
     "name": "stdin",
     "output_type": "stream",
     "text": [
      "Should the agent continue (Y/n) y\n"
     ]
    },
    {
     "name": "stdout",
     "output_type": "stream",
     "text": [
      "--------\n",
      "\u001b[32;1m\u001b[1;3m\n",
      "Invoking: `Calculator` with `{'question': '7901 * 7907 * 7919'}`\n",
      "\n",
      "\n",
      "\u001b[0m\n",
      "\n",
      "\u001b[1m> Entering new LLMMathChain chain...\u001b[0m\n",
      "7901 * 7907 * 7919\u001b[32;1m\u001b[1;3m```text\n",
      "7901 * 7907 * 7919\n",
      "```\n",
      "...numexpr.evaluate(\"7901 * 7907 * 7919\")...\n",
      "\u001b[0m\n",
      "Answer: \u001b[33;1m\u001b[1;3m494725326233\u001b[0m\n",
      "\u001b[1m> Finished chain.\u001b[0m\n",
      "\u001b[33;1m\u001b[1;3m{'question': '7901 * 7907 * 7919', 'answer': 'Answer: 494725326233'}\u001b[0m"
     ]
    },
    {
     "name": "stdin",
     "output_type": "stream",
     "text": [
      "Should the agent continue (Y/n) y\n"
     ]
    },
    {
     "name": "stdout",
     "output_type": "stream",
     "text": [
      "--------\n",
      "\u001b[32;1m\u001b[1;3mThe product of the 998th, 999th and 1000th prime numbers is 494725326233.\u001b[0m\n",
      "\n",
      "\u001b[1m> Finished chain.\u001b[0m\n"
     ]
    }
   ],
   "source": [
    "for step in agentExecutor.iter(inputs={\"input\":question}):\n",
    "    if step.get('intermediate_step'):\n",
    "        output=step['intermediate_step']\n",
    "        action,value=output[0]\n",
    "        if action.tool==\"GetPrime\":\n",
    "            value=int(value)\n",
    "            print(f\"Checking whether {value} is Prime\")\n",
    "            assert isPrime(value)\n",
    "        # # Ask users if they would want to continue\n",
    "        _continue=input(\"Should the agent continue (Y/n)\") or \"Y\"\n",
    "        if _continue.lower()!=\"y\":\n",
    "            break\n",
    "        print(\"--------\")"
   ]
  },
  {
   "cell_type": "markdown",
   "id": "18fb84c1-b472-4f13-b77b-c4b2aeaf8a6b",
   "metadata": {},
   "source": [
    "<h3> Doing Similar stuffs with Stream</h3>"
   ]
  },
  {
   "cell_type": "code",
   "execution_count": 154,
   "id": "f3b5c954-adcd-4274-ae0d-f9b32801bcb9",
   "metadata": {},
   "outputs": [
    {
     "name": "stdout",
     "output_type": "stream",
     "text": [
      "\n",
      "\n",
      "\u001b[1m> Entering new None chain...\u001b[0m\n",
      "\u001b[32;1m\u001b[1;3m\n",
      "Invoking: `GetPrime` with `{'n': 998}`\n",
      "\n",
      "\n",
      "\u001b[0m\u001b[36;1m\u001b[1;3m7901\u001b[0mChecking whether 7901 is Prime\n"
     ]
    },
    {
     "name": "stdin",
     "output_type": "stream",
     "text": [
      "Should the agent continue (Y/n) y\n"
     ]
    },
    {
     "name": "stdout",
     "output_type": "stream",
     "text": [
      "--------\n",
      "\u001b[32;1m\u001b[1;3m\n",
      "Invoking: `GetPrime` with `{'n': 999}`\n",
      "\n",
      "\n",
      "\u001b[0m\u001b[36;1m\u001b[1;3m7907\u001b[0mChecking whether 7907 is Prime\n"
     ]
    },
    {
     "name": "stdin",
     "output_type": "stream",
     "text": [
      "Should the agent continue (Y/n) y\n"
     ]
    },
    {
     "name": "stdout",
     "output_type": "stream",
     "text": [
      "--------\n",
      "\u001b[32;1m\u001b[1;3m\n",
      "Invoking: `GetPrime` with `{'n': 1000}`\n",
      "\n",
      "\n",
      "\u001b[0m\u001b[36;1m\u001b[1;3m7919\u001b[0mChecking whether 7919 is Prime\n"
     ]
    },
    {
     "name": "stdin",
     "output_type": "stream",
     "text": [
      "Should the agent continue (Y/n) y\n"
     ]
    },
    {
     "name": "stdout",
     "output_type": "stream",
     "text": [
      "--------\n",
      "\u001b[32;1m\u001b[1;3m\n",
      "Invoking: `Calculator` with `{'question': '7901 * 7907 * 7919'}`\n",
      "\n",
      "\n",
      "\u001b[0m\n",
      "\n",
      "\u001b[1m> Entering new LLMMathChain chain...\u001b[0m\n",
      "7901 * 7907 * 7919\u001b[32;1m\u001b[1;3m```text\n",
      "7901 * 7907 * 7919\n",
      "```\n",
      "...numexpr.evaluate(\"7901 * 7907 * 7919\")...\n",
      "\u001b[0m\n",
      "Answer: \u001b[33;1m\u001b[1;3m494725326233\u001b[0m\n",
      "\u001b[1m> Finished chain.\u001b[0m\n",
      "\u001b[33;1m\u001b[1;3m{'question': '7901 * 7907 * 7919', 'answer': 'Answer: 494725326233'}\u001b[0m"
     ]
    },
    {
     "name": "stdin",
     "output_type": "stream",
     "text": [
      "Should the agent continue (Y/n) y\n"
     ]
    },
    {
     "name": "stdout",
     "output_type": "stream",
     "text": [
      "--------\n",
      "\u001b[32;1m\u001b[1;3mThe product of the 998th, 999th and 1000th prime numbers is 494725326233.\u001b[0m\n",
      "\n",
      "\u001b[1m> Finished chain.\u001b[0m\n"
     ]
    }
   ],
   "source": [
    "for step in agentExecutor.stream(input={\"input\":question}):\n",
    "    if step.get('steps'):\n",
    "        output=step['steps']  # Replace intermediate_step with step\n",
    "        action,value=output[0]\n",
    "        action=action[1]  # Extra Step\n",
    "        if action.tool==\"GetPrime\":\n",
    "            value=value[1]  # Extra Step\n",
    "            value=int(value)\n",
    "            print(f\"Checking whether {value} is Prime\")\n",
    "            assert isPrime(value)\n",
    "        # # Ask users if they would want to continue\n",
    "        _continue=input(\"Should the agent continue (Y/n)\") or \"Y\"\n",
    "        if _continue.lower()!=\"y\":\n",
    "            break\n",
    "        print(\"--------\")"
   ]
  },
  {
   "cell_type": "code",
   "execution_count": null,
   "id": "13d32727-529a-402f-acdf-243a2057021d",
   "metadata": {},
   "outputs": [],
   "source": []
  }
 ],
 "metadata": {
  "kernelspec": {
   "display_name": "Python 3 (ipykernel)",
   "language": "python",
   "name": "python3"
  },
  "language_info": {
   "codemirror_mode": {
    "name": "ipython",
    "version": 3
   },
   "file_extension": ".py",
   "mimetype": "text/x-python",
   "name": "python",
   "nbconvert_exporter": "python",
   "pygments_lexer": "ipython3",
   "version": "3.11.9"
  }
 },
 "nbformat": 4,
 "nbformat_minor": 5
}
