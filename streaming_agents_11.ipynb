{
 "cells": [
  {
   "cell_type": "code",
   "execution_count": 1,
   "id": "c02896f5-cd57-407c-aa2e-97cf9b43efdc",
   "metadata": {},
   "outputs": [],
   "source": [
    "from dotenv import load_dotenv,find_dotenv\n",
    "from langchain_google_genai import ChatGoogleGenerativeAI\n",
    "from langchain_openai import ChatOpenAI\n",
    "\n",
    "from langchain import hub\n",
    "from langchain.agents import AgentExecutor, create_openai_tools_agent,create_tool_calling_agent\n",
    "from langchain.tools import tool\n",
    "from langchain_core.callbacks import Callbacks\n",
    "from langchain.prompts import ChatPromptTemplate\n",
    "import random\n",
    "import pprint"
   ]
  },
  {
   "cell_type": "code",
   "execution_count": 2,
   "id": "d0e983f7-b03f-4c5a-894d-fe7859447d38",
   "metadata": {},
   "outputs": [
    {
     "data": {
      "text/plain": [
       "True"
      ]
     },
     "execution_count": 2,
     "metadata": {},
     "output_type": "execute_result"
    }
   ],
   "source": [
    "load_dotenv(find_dotenv(\"../.env\"))"
   ]
  },
  {
   "cell_type": "code",
   "execution_count": 21,
   "id": "dda69fa7-ee57-4d95-8c6f-7000a0ef4810",
   "metadata": {},
   "outputs": [],
   "source": [
    "llmGemini=ChatGoogleGenerativeAI(model=\"gemini-2.0-flash-001\")\n",
    "llmOpenAI=ChatOpenAI(model=\"gpt-4o-mini\")"
   ]
  },
  {
   "cell_type": "markdown",
   "id": "04fe5142-75af-493a-99f8-06e5af291d03",
   "metadata": {},
   "source": [
    "<p>Streaming with Agents are made more complicated by the fact that it's not just tokens of the final answer that you will want to stream, but you may also want to stream back the intermediate steps an agent takes</p>"
   ]
  },
  {
   "cell_type": "code",
   "execution_count": 14,
   "id": "974b20d6-e758-4253-982b-a3973ac4e0eb",
   "metadata": {},
   "outputs": [],
   "source": [
    "@tool\n",
    "async def whereCatisHiding() -> str:\n",
    "    \"\"\"\n",
    "        Where the cat is hiding right now?\n",
    "    \"\"\"\n",
    "    return random.choice(seq=[\"On the Bed\",\"On the Shelf\"])"
   ]
  },
  {
   "cell_type": "code",
   "execution_count": 15,
   "id": "1e8b8615-9261-4020-b2c9-7f039d0097aa",
   "metadata": {},
   "outputs": [],
   "source": [
    "@tool\n",
    "async def getItems(place:str) -> str:\n",
    "    \"\"\"\n",
    "        Use this tool to look up which items are in the given place\n",
    "    \"\"\"\n",
    "    if \"bed\" in place:  # For under the bed\n",
    "        return \"socks, shoes and dust bunnies\"\n",
    "    elif \"shelf\" in place:  # For shelf\n",
    "        return \"books, pencils and pictures\"\n",
    "    else:  # if the agent decides to ask about a different place\n",
    "        return \"cat snacks\""
   ]
  },
  {
   "cell_type": "code",
   "execution_count": 16,
   "id": "57afc077-7bc0-4575-a594-a5a66d5cbda5",
   "metadata": {},
   "outputs": [
    {
     "data": {
      "text/plain": [
       "'On the Shelf'"
      ]
     },
     "execution_count": 16,
     "metadata": {},
     "output_type": "execute_result"
    }
   ],
   "source": [
    "await whereCatisHiding.ainvoke(input={})"
   ]
  },
  {
   "cell_type": "code",
   "execution_count": 17,
   "id": "9d125fdc-db43-4618-9ed6-adafdac4ab91",
   "metadata": {},
   "outputs": [
    {
     "data": {
      "text/plain": [
       "'cat snacks'"
      ]
     },
     "execution_count": 17,
     "metadata": {},
     "output_type": "execute_result"
    }
   ],
   "source": [
    "await getItems.ainvoke(input={\"place\":\"almirah\"})"
   ]
  },
  {
   "cell_type": "markdown",
   "id": "793f5a65-f8eb-43c6-8ee5-18a0b4b4dba5",
   "metadata": {},
   "source": [
    "<h3>Initialize the Agent</h3>"
   ]
  },
  {
   "cell_type": "code",
   "execution_count": 19,
   "id": "01ba9131-fb3a-4f70-ad6c-23160634118d",
   "metadata": {},
   "outputs": [],
   "source": [
    "\n",
    "prompt=hub.pull(owner_repo_commit=\"hwchase17/openai-tools-agent\")"
   ]
  },
  {
   "cell_type": "code",
   "execution_count": 9,
   "id": "3675f66e-f96f-477d-ac65-5a5b2370577e",
   "metadata": {},
   "outputs": [],
   "source": [
    "tools=[getItems,whereCatisHiding]"
   ]
  },
  {
   "cell_type": "code",
   "execution_count": 22,
   "id": "fefa084e-83d3-4157-9af5-c54d495b4016",
   "metadata": {},
   "outputs": [],
   "source": [
    "agent=create_openai_tools_agent(\n",
    "    llm=llmOpenAI.with_config({\"tags\":[\"agent_llm\"]}),\n",
    "    tools=tools,\n",
    "    prompt=prompt\n",
    ")"
   ]
  },
  {
   "cell_type": "code",
   "execution_count": 23,
   "id": "3658065f-ba0b-44aa-835b-82a413ab2d9e",
   "metadata": {},
   "outputs": [],
   "source": [
    "agentExecutor=AgentExecutor(agent=agent,tools=tools).\\\n",
    "    with_config({\"run_name\":\"Agent\"})  # this config will be used later with astream_events API"
   ]
  },
  {
   "cell_type": "markdown",
   "id": "2a34ee20-1d6b-4a52-8bf8-0ff6fd3d6f19",
   "metadata": {},
   "source": [
    "<h3> Stream Intermediate Steps</h3>\n",
    "<h4>Actions, Observations and Final Answer</h4>"
   ]
  },
  {
   "cell_type": "code",
   "execution_count": 24,
   "id": "954b7286-297f-448a-a6f3-822de37700f1",
   "metadata": {},
   "outputs": [
    {
     "name": "stdout",
     "output_type": "stream",
     "text": [
      "---------\n",
      "{'actions': [...], 'messages': [...]}\n",
      "---------\n",
      "{'messages': [...], 'steps': [...]}\n",
      "---------\n",
      "{'actions': [...], 'messages': [...]}\n",
      "---------\n",
      "{'messages': [...], 'steps': [...]}\n",
      "---------\n",
      "{'messages': [...],\n",
      " 'output': 'The items located where the cat is hiding (on the shelf) are cat '\n",
      "           'snacks.'}\n"
     ]
    }
   ],
   "source": [
    "chunks=[]\n",
    "async for chunk in agentExecutor.astream(input={\"input\":\"What items are located where the cat is hiding?\"}):\n",
    "    chunks.append(chunk)\n",
    "    print(\"---------\")\n",
    "    pprint.pprint(object=chunk,depth=1)"
   ]
  },
  {
   "cell_type": "code",
   "execution_count": 25,
   "id": "9409b01c-7e57-4fb6-83ba-a4006b4cf213",
   "metadata": {},
   "outputs": [
    {
     "data": {
      "text/plain": [
       "[{'actions': [ToolAgentAction(tool='whereCatisHiding', tool_input={}, log='\\nInvoking: `whereCatisHiding` with `{}`\\n\\n\\n', message_log=[AIMessageChunk(content='', additional_kwargs={'tool_calls': [{'index': 0, 'id': 'call_YJt2KiIs7aNuIa24JJZbJ6L1', 'function': {'arguments': '{}', 'name': 'whereCatisHiding'}, 'type': 'function'}]}, response_metadata={'finish_reason': 'tool_calls', 'model_name': 'gpt-4o-mini-2024-07-18', 'system_fingerprint': 'fp_34a54ae93c'}, id='run--870d49ea-ec8d-47b3-867e-86ab5526fe1c', tool_calls=[{'name': 'whereCatisHiding', 'args': {}, 'id': 'call_YJt2KiIs7aNuIa24JJZbJ6L1', 'type': 'tool_call'}], tool_call_chunks=[{'name': 'whereCatisHiding', 'args': '{}', 'id': 'call_YJt2KiIs7aNuIa24JJZbJ6L1', 'index': 0, 'type': 'tool_call_chunk'}])], tool_call_id='call_YJt2KiIs7aNuIa24JJZbJ6L1')],\n",
       "  'messages': [AIMessageChunk(content='', additional_kwargs={'tool_calls': [{'index': 0, 'id': 'call_YJt2KiIs7aNuIa24JJZbJ6L1', 'function': {'arguments': '{}', 'name': 'whereCatisHiding'}, 'type': 'function'}]}, response_metadata={'finish_reason': 'tool_calls', 'model_name': 'gpt-4o-mini-2024-07-18', 'system_fingerprint': 'fp_34a54ae93c'}, id='run--870d49ea-ec8d-47b3-867e-86ab5526fe1c', tool_calls=[{'name': 'whereCatisHiding', 'args': {}, 'id': 'call_YJt2KiIs7aNuIa24JJZbJ6L1', 'type': 'tool_call'}], tool_call_chunks=[{'name': 'whereCatisHiding', 'args': '{}', 'id': 'call_YJt2KiIs7aNuIa24JJZbJ6L1', 'index': 0, 'type': 'tool_call_chunk'}])]},\n",
       " {'steps': [AgentStep(action=ToolAgentAction(tool='whereCatisHiding', tool_input={}, log='\\nInvoking: `whereCatisHiding` with `{}`\\n\\n\\n', message_log=[AIMessageChunk(content='', additional_kwargs={'tool_calls': [{'index': 0, 'id': 'call_YJt2KiIs7aNuIa24JJZbJ6L1', 'function': {'arguments': '{}', 'name': 'whereCatisHiding'}, 'type': 'function'}]}, response_metadata={'finish_reason': 'tool_calls', 'model_name': 'gpt-4o-mini-2024-07-18', 'system_fingerprint': 'fp_34a54ae93c'}, id='run--870d49ea-ec8d-47b3-867e-86ab5526fe1c', tool_calls=[{'name': 'whereCatisHiding', 'args': {}, 'id': 'call_YJt2KiIs7aNuIa24JJZbJ6L1', 'type': 'tool_call'}], tool_call_chunks=[{'name': 'whereCatisHiding', 'args': '{}', 'id': 'call_YJt2KiIs7aNuIa24JJZbJ6L1', 'index': 0, 'type': 'tool_call_chunk'}])], tool_call_id='call_YJt2KiIs7aNuIa24JJZbJ6L1'), observation='On the Shelf')],\n",
       "  'messages': [FunctionMessage(content='On the Shelf', additional_kwargs={}, response_metadata={}, name='whereCatisHiding')]},\n",
       " {'actions': [ToolAgentAction(tool='getItems', tool_input={'place': 'On the Shelf'}, log=\"\\nInvoking: `getItems` with `{'place': 'On the Shelf'}`\\n\\n\\n\", message_log=[AIMessageChunk(content='', additional_kwargs={'tool_calls': [{'index': 0, 'id': 'call_z67jVNy43X1e89EgJWKhj6cA', 'function': {'arguments': '{\"place\":\"On the Shelf\"}', 'name': 'getItems'}, 'type': 'function'}]}, response_metadata={'finish_reason': 'tool_calls', 'model_name': 'gpt-4o-mini-2024-07-18', 'system_fingerprint': 'fp_34a54ae93c'}, id='run--f3a88c20-1c8b-4817-af10-5bdaf61e8ebd', tool_calls=[{'name': 'getItems', 'args': {'place': 'On the Shelf'}, 'id': 'call_z67jVNy43X1e89EgJWKhj6cA', 'type': 'tool_call'}], tool_call_chunks=[{'name': 'getItems', 'args': '{\"place\":\"On the Shelf\"}', 'id': 'call_z67jVNy43X1e89EgJWKhj6cA', 'index': 0, 'type': 'tool_call_chunk'}])], tool_call_id='call_z67jVNy43X1e89EgJWKhj6cA')],\n",
       "  'messages': [AIMessageChunk(content='', additional_kwargs={'tool_calls': [{'index': 0, 'id': 'call_z67jVNy43X1e89EgJWKhj6cA', 'function': {'arguments': '{\"place\":\"On the Shelf\"}', 'name': 'getItems'}, 'type': 'function'}]}, response_metadata={'finish_reason': 'tool_calls', 'model_name': 'gpt-4o-mini-2024-07-18', 'system_fingerprint': 'fp_34a54ae93c'}, id='run--f3a88c20-1c8b-4817-af10-5bdaf61e8ebd', tool_calls=[{'name': 'getItems', 'args': {'place': 'On the Shelf'}, 'id': 'call_z67jVNy43X1e89EgJWKhj6cA', 'type': 'tool_call'}], tool_call_chunks=[{'name': 'getItems', 'args': '{\"place\":\"On the Shelf\"}', 'id': 'call_z67jVNy43X1e89EgJWKhj6cA', 'index': 0, 'type': 'tool_call_chunk'}])]},\n",
       " {'steps': [AgentStep(action=ToolAgentAction(tool='getItems', tool_input={'place': 'On the Shelf'}, log=\"\\nInvoking: `getItems` with `{'place': 'On the Shelf'}`\\n\\n\\n\", message_log=[AIMessageChunk(content='', additional_kwargs={'tool_calls': [{'index': 0, 'id': 'call_z67jVNy43X1e89EgJWKhj6cA', 'function': {'arguments': '{\"place\":\"On the Shelf\"}', 'name': 'getItems'}, 'type': 'function'}]}, response_metadata={'finish_reason': 'tool_calls', 'model_name': 'gpt-4o-mini-2024-07-18', 'system_fingerprint': 'fp_34a54ae93c'}, id='run--f3a88c20-1c8b-4817-af10-5bdaf61e8ebd', tool_calls=[{'name': 'getItems', 'args': {'place': 'On the Shelf'}, 'id': 'call_z67jVNy43X1e89EgJWKhj6cA', 'type': 'tool_call'}], tool_call_chunks=[{'name': 'getItems', 'args': '{\"place\":\"On the Shelf\"}', 'id': 'call_z67jVNy43X1e89EgJWKhj6cA', 'index': 0, 'type': 'tool_call_chunk'}])], tool_call_id='call_z67jVNy43X1e89EgJWKhj6cA'), observation='cat snacks')],\n",
       "  'messages': [FunctionMessage(content='cat snacks', additional_kwargs={}, response_metadata={}, name='getItems')]},\n",
       " {'output': 'The items located where the cat is hiding (on the shelf) are cat snacks.',\n",
       "  'messages': [AIMessage(content='The items located where the cat is hiding (on the shelf) are cat snacks.', additional_kwargs={}, response_metadata={})]}]"
      ]
     },
     "execution_count": 25,
     "metadata": {},
     "output_type": "execute_result"
    }
   ],
   "source": [
    "chunks"
   ]
  },
  {
   "cell_type": "code",
   "execution_count": 26,
   "id": "6437f975-3570-4765-ab1f-a95d8b5ab858",
   "metadata": {},
   "outputs": [
    {
     "name": "stdout",
     "output_type": "stream",
     "text": [
      "[AIMessageChunk(content='', additional_kwargs={'tool_calls': [{'index': 0, 'id': 'call_YJt2KiIs7aNuIa24JJZbJ6L1', 'function': {'arguments': '{}', 'name': 'whereCatisHiding'}, 'type': 'function'}]}, response_metadata={'finish_reason': 'tool_calls', 'model_name': 'gpt-4o-mini-2024-07-18', 'system_fingerprint': 'fp_34a54ae93c'}, id='run--870d49ea-ec8d-47b3-867e-86ab5526fe1c', tool_calls=[{'name': 'whereCatisHiding', 'args': {}, 'id': 'call_YJt2KiIs7aNuIa24JJZbJ6L1', 'type': 'tool_call'}], tool_call_chunks=[{'name': 'whereCatisHiding', 'args': '{}', 'id': 'call_YJt2KiIs7aNuIa24JJZbJ6L1', 'index': 0, 'type': 'tool_call_chunk'}])]\n",
      "[FunctionMessage(content='On the Shelf', additional_kwargs={}, response_metadata={}, name='whereCatisHiding')]\n",
      "[AIMessageChunk(content='', additional_kwargs={'tool_calls': [{'index': 0, 'id': 'call_z67jVNy43X1e89EgJWKhj6cA', 'function': {'arguments': '{\"place\":\"On the Shelf\"}', 'name': 'getItems'}, 'type': 'function'}]}, response_metadata={'finish_reason': 'tool_calls', 'model_name': 'gpt-4o-mini-2024-07-18', 'system_fingerprint': 'fp_34a54ae93c'}, id='run--f3a88c20-1c8b-4817-af10-5bdaf61e8ebd', tool_calls=[{'name': 'getItems', 'args': {'place': 'On the Shelf'}, 'id': 'call_z67jVNy43X1e89EgJWKhj6cA', 'type': 'tool_call'}], tool_call_chunks=[{'name': 'getItems', 'args': '{\"place\":\"On the Shelf\"}', 'id': 'call_z67jVNy43X1e89EgJWKhj6cA', 'index': 0, 'type': 'tool_call_chunk'}])]\n",
      "[FunctionMessage(content='cat snacks', additional_kwargs={}, response_metadata={}, name='getItems')]\n",
      "[AIMessage(content='The items located where the cat is hiding (on the shelf) are cat snacks.', additional_kwargs={}, response_metadata={})]\n"
     ]
    }
   ],
   "source": [
    "for chunk in chunks:\n",
    "    print(chunk['messages'])"
   ]
  },
  {
   "cell_type": "markdown",
   "id": "da1cedff-9b82-4d94-b36f-d09c6d11050b",
   "metadata": {},
   "source": [
    "<h3>Using AgentAction/Observation</h3>"
   ]
  },
  {
   "cell_type": "code",
   "execution_count": 27,
   "id": "33ee40b8-57b2-49c4-8125-bd4d24a39a7f",
   "metadata": {},
   "outputs": [
    {
     "name": "stdout",
     "output_type": "stream",
     "text": [
      "Calling Tool: whereCatisHiding with Input: {}\n",
      "----\n",
      "Tool Result: On the Shelf\n",
      "----\n",
      "Calling Tool: getItems with Input: {'place': 'On the Shelf'}\n",
      "----\n",
      "Tool Result: cat snacks\n",
      "----\n",
      "Final Output: The items located where the cat is hiding (on the shelf) are cat snacks.\n",
      "----\n"
     ]
    }
   ],
   "source": [
    "async for chunk in agentExecutor.astream(input={\"input\":\"What items are located where the cat is hiding?\"}):\n",
    "    # Agent Action\n",
    "    if \"actions\" in chunk:\n",
    "        for action in chunk['actions']:\n",
    "            print(f\"Calling Tool: {action.tool} with Input: {action.tool_input}\")\n",
    "    # Observation\n",
    "    elif \"steps\" in chunk:\n",
    "        for step in chunk[\"steps\"]:\n",
    "            print(f\"Tool Result: {step.observation}\")\n",
    "    # Final Result\n",
    "    elif \"output\" in chunk:\n",
    "        print(f\"Final Output: {chunk['output']}\")\n",
    "    else:\n",
    "        raise ValueError\n",
    "    print(\"----\")\n",
    "    \n",
    "            \n",
    "        "
   ]
  },
  {
   "cell_type": "markdown",
   "id": "800fd5dd-3c0f-4739-afda-22114fa7472c",
   "metadata": {},
   "source": [
    "<h3> Custom Streaming with Events</h3>"
   ]
  },
  {
   "cell_type": "code",
   "execution_count": 28,
   "id": "457e3b59-a101-4a9e-9b57-aa0be7deadd3",
   "metadata": {
    "scrolled": true
   },
   "outputs": [
    {
     "name": "stdout",
     "output_type": "stream",
     "text": [
      "{'event': 'on_chain_start', 'data': {'input': {'input': 'What items are located where the cat is hiding?'}}, 'name': 'Agent', 'tags': [], 'run_id': 'cc40f459-4c60-4ae4-a001-c05ec6b1ff43', 'metadata': {}, 'parent_ids': []}\n",
      "{'event': 'on_chain_start', 'data': {}, 'name': 'RunnableSequence', 'tags': [], 'run_id': '64e048f8-7955-4a41-bec5-83466cff9370', 'metadata': {}, 'parent_ids': ['cc40f459-4c60-4ae4-a001-c05ec6b1ff43']}\n",
      "{'event': 'on_chain_start', 'data': {}, 'name': 'RunnableAssign<agent_scratchpad>', 'tags': ['seq:step:1'], 'run_id': 'd0b9d1a9-82b4-454e-8947-4cdae2d421dc', 'metadata': {}, 'parent_ids': ['cc40f459-4c60-4ae4-a001-c05ec6b1ff43', '64e048f8-7955-4a41-bec5-83466cff9370']}\n",
      "{'event': 'on_chain_stream', 'run_id': 'd0b9d1a9-82b4-454e-8947-4cdae2d421dc', 'name': 'RunnableAssign<agent_scratchpad>', 'tags': ['seq:step:1'], 'metadata': {}, 'data': {'chunk': {'input': 'What items are located where the cat is hiding?', 'intermediate_steps': []}}, 'parent_ids': ['cc40f459-4c60-4ae4-a001-c05ec6b1ff43', '64e048f8-7955-4a41-bec5-83466cff9370']}\n",
      "{'event': 'on_chain_start', 'data': {}, 'name': 'RunnableParallel<agent_scratchpad>', 'tags': [], 'run_id': '78570b34-c2ab-4131-bb29-c725440816a1', 'metadata': {}, 'parent_ids': ['cc40f459-4c60-4ae4-a001-c05ec6b1ff43', '64e048f8-7955-4a41-bec5-83466cff9370', 'd0b9d1a9-82b4-454e-8947-4cdae2d421dc']}\n",
      "{'event': 'on_chain_start', 'data': {}, 'name': 'RunnableLambda', 'tags': ['map:key:agent_scratchpad'], 'run_id': 'ae69ebe1-277e-48a6-b53c-311ddb7699b8', 'metadata': {}, 'parent_ids': ['cc40f459-4c60-4ae4-a001-c05ec6b1ff43', '64e048f8-7955-4a41-bec5-83466cff9370', 'd0b9d1a9-82b4-454e-8947-4cdae2d421dc', '78570b34-c2ab-4131-bb29-c725440816a1']}\n",
      "{'event': 'on_chain_stream', 'run_id': 'ae69ebe1-277e-48a6-b53c-311ddb7699b8', 'name': 'RunnableLambda', 'tags': ['map:key:agent_scratchpad'], 'metadata': {}, 'data': {'chunk': []}, 'parent_ids': ['cc40f459-4c60-4ae4-a001-c05ec6b1ff43', '64e048f8-7955-4a41-bec5-83466cff9370', 'd0b9d1a9-82b4-454e-8947-4cdae2d421dc', '78570b34-c2ab-4131-bb29-c725440816a1']}\n",
      "{'event': 'on_chain_stream', 'run_id': '78570b34-c2ab-4131-bb29-c725440816a1', 'name': 'RunnableParallel<agent_scratchpad>', 'tags': [], 'metadata': {}, 'data': {'chunk': {'agent_scratchpad': []}}, 'parent_ids': ['cc40f459-4c60-4ae4-a001-c05ec6b1ff43', '64e048f8-7955-4a41-bec5-83466cff9370', 'd0b9d1a9-82b4-454e-8947-4cdae2d421dc']}\n",
      "{'event': 'on_chain_stream', 'run_id': 'd0b9d1a9-82b4-454e-8947-4cdae2d421dc', 'name': 'RunnableAssign<agent_scratchpad>', 'tags': ['seq:step:1'], 'metadata': {}, 'data': {'chunk': {'agent_scratchpad': []}}, 'parent_ids': ['cc40f459-4c60-4ae4-a001-c05ec6b1ff43', '64e048f8-7955-4a41-bec5-83466cff9370']}\n",
      "{'event': 'on_chain_end', 'data': {'output': [], 'input': {'input': 'What items are located where the cat is hiding?', 'intermediate_steps': []}}, 'run_id': 'ae69ebe1-277e-48a6-b53c-311ddb7699b8', 'name': 'RunnableLambda', 'tags': ['map:key:agent_scratchpad'], 'metadata': {}, 'parent_ids': ['cc40f459-4c60-4ae4-a001-c05ec6b1ff43', '64e048f8-7955-4a41-bec5-83466cff9370', 'd0b9d1a9-82b4-454e-8947-4cdae2d421dc', '78570b34-c2ab-4131-bb29-c725440816a1']}\n",
      "{'event': 'on_chain_end', 'data': {'output': {'agent_scratchpad': []}, 'input': {'input': 'What items are located where the cat is hiding?', 'intermediate_steps': []}}, 'run_id': '78570b34-c2ab-4131-bb29-c725440816a1', 'name': 'RunnableParallel<agent_scratchpad>', 'tags': [], 'metadata': {}, 'parent_ids': ['cc40f459-4c60-4ae4-a001-c05ec6b1ff43', '64e048f8-7955-4a41-bec5-83466cff9370', 'd0b9d1a9-82b4-454e-8947-4cdae2d421dc']}\n",
      "{'event': 'on_chain_end', 'data': {'output': {'input': 'What items are located where the cat is hiding?', 'intermediate_steps': [], 'agent_scratchpad': []}, 'input': {'input': 'What items are located where the cat is hiding?', 'intermediate_steps': []}}, 'run_id': 'd0b9d1a9-82b4-454e-8947-4cdae2d421dc', 'name': 'RunnableAssign<agent_scratchpad>', 'tags': ['seq:step:1'], 'metadata': {}, 'parent_ids': ['cc40f459-4c60-4ae4-a001-c05ec6b1ff43', '64e048f8-7955-4a41-bec5-83466cff9370']}\n",
      "{'event': 'on_prompt_start', 'data': {'input': {'input': 'What items are located where the cat is hiding?', 'intermediate_steps': [], 'agent_scratchpad': []}}, 'name': 'ChatPromptTemplate', 'tags': ['seq:step:2'], 'run_id': '30040340-a699-498c-a9d6-fff8473cc117', 'metadata': {'lc_hub_owner': 'hwchase17', 'lc_hub_repo': 'openai-tools-agent', 'lc_hub_commit_hash': 'c18672812789a3b9697656dd539edf0120285dcae36396d0b548ae42a4ed66f5'}, 'parent_ids': ['cc40f459-4c60-4ae4-a001-c05ec6b1ff43', '64e048f8-7955-4a41-bec5-83466cff9370']}\n",
      "{'event': 'on_prompt_end', 'data': {'output': ChatPromptValue(messages=[SystemMessage(content='You are a helpful assistant', additional_kwargs={}, response_metadata={}), HumanMessage(content='What items are located where the cat is hiding?', additional_kwargs={}, response_metadata={})]), 'input': {'input': 'What items are located where the cat is hiding?', 'intermediate_steps': [], 'agent_scratchpad': []}}, 'run_id': '30040340-a699-498c-a9d6-fff8473cc117', 'name': 'ChatPromptTemplate', 'tags': ['seq:step:2'], 'metadata': {'lc_hub_owner': 'hwchase17', 'lc_hub_repo': 'openai-tools-agent', 'lc_hub_commit_hash': 'c18672812789a3b9697656dd539edf0120285dcae36396d0b548ae42a4ed66f5', 'LANGSMITH_ENDPOINT': 'https://api.smith.langchain.com', 'LANGSMITH_PROJECT': 'tutorial-project', 'LANGSMITH_TRACING': 'true', 'revision_id': '173a2d5-dirty'}, 'parent_ids': ['cc40f459-4c60-4ae4-a001-c05ec6b1ff43', '64e048f8-7955-4a41-bec5-83466cff9370']}\n",
      "{'event': 'on_chat_model_start', 'data': {'input': {'messages': [[SystemMessage(content='You are a helpful assistant', additional_kwargs={}, response_metadata={}), HumanMessage(content='What items are located where the cat is hiding?', additional_kwargs={}, response_metadata={})]]}}, 'name': 'ChatOpenAI', 'tags': ['seq:step:3', 'agent_llm'], 'run_id': 'd97f8c1e-4589-41fd-854b-eb1ec3ecd43b', 'metadata': {'ls_provider': 'openai', 'ls_model_name': 'gpt-4o-mini', 'ls_model_type': 'chat', 'ls_temperature': None}, 'parent_ids': ['cc40f459-4c60-4ae4-a001-c05ec6b1ff43', '64e048f8-7955-4a41-bec5-83466cff9370']}\n",
      "{'event': 'on_chat_model_stream', 'data': {'chunk': AIMessageChunk(content='', additional_kwargs={'tool_calls': [{'index': 0, 'id': 'call_FfLucD8dOsQ8w7145SGUFyQb', 'function': {'arguments': '', 'name': 'whereCatisHiding'}, 'type': 'function'}]}, response_metadata={}, id='run--d97f8c1e-4589-41fd-854b-eb1ec3ecd43b', tool_calls=[{'name': 'whereCatisHiding', 'args': {}, 'id': 'call_FfLucD8dOsQ8w7145SGUFyQb', 'type': 'tool_call'}], tool_call_chunks=[{'name': 'whereCatisHiding', 'args': '', 'id': 'call_FfLucD8dOsQ8w7145SGUFyQb', 'index': 0, 'type': 'tool_call_chunk'}])}, 'run_id': 'd97f8c1e-4589-41fd-854b-eb1ec3ecd43b', 'name': 'ChatOpenAI', 'tags': ['seq:step:3', 'agent_llm'], 'metadata': {'ls_provider': 'openai', 'ls_model_name': 'gpt-4o-mini', 'ls_model_type': 'chat', 'ls_temperature': None}, 'parent_ids': ['cc40f459-4c60-4ae4-a001-c05ec6b1ff43', '64e048f8-7955-4a41-bec5-83466cff9370']}\n",
      "{'event': 'on_chat_model_stream', 'data': {'chunk': AIMessageChunk(content='', additional_kwargs={'tool_calls': [{'index': 0, 'id': None, 'function': {'arguments': '{}', 'name': None}, 'type': None}]}, response_metadata={}, id='run--d97f8c1e-4589-41fd-854b-eb1ec3ecd43b', tool_calls=[{'name': '', 'args': {}, 'id': None, 'type': 'tool_call'}], tool_call_chunks=[{'name': None, 'args': '{}', 'id': None, 'index': 0, 'type': 'tool_call_chunk'}])}, 'run_id': 'd97f8c1e-4589-41fd-854b-eb1ec3ecd43b', 'name': 'ChatOpenAI', 'tags': ['seq:step:3', 'agent_llm'], 'metadata': {'ls_provider': 'openai', 'ls_model_name': 'gpt-4o-mini', 'ls_model_type': 'chat', 'ls_temperature': None}, 'parent_ids': ['cc40f459-4c60-4ae4-a001-c05ec6b1ff43', '64e048f8-7955-4a41-bec5-83466cff9370']}\n",
      "{'event': 'on_chat_model_stream', 'data': {'chunk': AIMessageChunk(content='', additional_kwargs={}, response_metadata={'finish_reason': 'tool_calls', 'model_name': 'gpt-4o-mini-2024-07-18', 'system_fingerprint': 'fp_34a54ae93c'}, id='run--d97f8c1e-4589-41fd-854b-eb1ec3ecd43b')}, 'run_id': 'd97f8c1e-4589-41fd-854b-eb1ec3ecd43b', 'name': 'ChatOpenAI', 'tags': ['seq:step:3', 'agent_llm'], 'metadata': {'ls_provider': 'openai', 'ls_model_name': 'gpt-4o-mini', 'ls_model_type': 'chat', 'ls_temperature': None}, 'parent_ids': ['cc40f459-4c60-4ae4-a001-c05ec6b1ff43', '64e048f8-7955-4a41-bec5-83466cff9370']}\n",
      "{'event': 'on_chat_model_end', 'data': {'output': AIMessageChunk(content='', additional_kwargs={'tool_calls': [{'index': 0, 'id': 'call_FfLucD8dOsQ8w7145SGUFyQb', 'function': {'arguments': '{}', 'name': 'whereCatisHiding'}, 'type': 'function'}]}, response_metadata={'finish_reason': 'tool_calls', 'model_name': 'gpt-4o-mini-2024-07-18', 'system_fingerprint': 'fp_34a54ae93c'}, id='run--d97f8c1e-4589-41fd-854b-eb1ec3ecd43b', tool_calls=[{'name': 'whereCatisHiding', 'args': {}, 'id': 'call_FfLucD8dOsQ8w7145SGUFyQb', 'type': 'tool_call'}], tool_call_chunks=[{'name': 'whereCatisHiding', 'args': '{}', 'id': 'call_FfLucD8dOsQ8w7145SGUFyQb', 'index': 0, 'type': 'tool_call_chunk'}]), 'input': {'messages': [[SystemMessage(content='You are a helpful assistant', additional_kwargs={}, response_metadata={}), HumanMessage(content='What items are located where the cat is hiding?', additional_kwargs={}, response_metadata={})]]}}, 'run_id': 'd97f8c1e-4589-41fd-854b-eb1ec3ecd43b', 'name': 'ChatOpenAI', 'tags': ['seq:step:3', 'agent_llm'], 'metadata': {'ls_provider': 'openai', 'ls_model_name': 'gpt-4o-mini', 'ls_model_type': 'chat', 'ls_temperature': None, 'LANGSMITH_ENDPOINT': 'https://api.smith.langchain.com', 'LANGSMITH_PROJECT': 'tutorial-project', 'LANGSMITH_TRACING': 'true', 'revision_id': '173a2d5-dirty'}, 'parent_ids': ['cc40f459-4c60-4ae4-a001-c05ec6b1ff43', '64e048f8-7955-4a41-bec5-83466cff9370']}\n",
      "{'event': 'on_parser_start', 'data': {'input': AIMessageChunk(content='', additional_kwargs={'tool_calls': [{'index': 0, 'id': 'call_FfLucD8dOsQ8w7145SGUFyQb', 'function': {'arguments': '{}', 'name': 'whereCatisHiding'}, 'type': 'function'}]}, response_metadata={'finish_reason': 'tool_calls', 'model_name': 'gpt-4o-mini-2024-07-18', 'system_fingerprint': 'fp_34a54ae93c'}, id='run--d97f8c1e-4589-41fd-854b-eb1ec3ecd43b', tool_calls=[{'name': 'whereCatisHiding', 'args': {}, 'id': 'call_FfLucD8dOsQ8w7145SGUFyQb', 'type': 'tool_call'}], tool_call_chunks=[{'name': 'whereCatisHiding', 'args': '{}', 'id': 'call_FfLucD8dOsQ8w7145SGUFyQb', 'index': 0, 'type': 'tool_call_chunk'}])}, 'name': 'OpenAIToolsAgentOutputParser', 'tags': ['seq:step:4'], 'run_id': '7720517c-0aa7-443e-b309-f681cabbe2d3', 'metadata': {}, 'parent_ids': ['cc40f459-4c60-4ae4-a001-c05ec6b1ff43', '64e048f8-7955-4a41-bec5-83466cff9370']}\n",
      "{'event': 'on_parser_end', 'data': {'output': [ToolAgentAction(tool='whereCatisHiding', tool_input={}, log='\\nInvoking: `whereCatisHiding` with `{}`\\n\\n\\n', message_log=[AIMessageChunk(content='', additional_kwargs={'tool_calls': [{'index': 0, 'id': 'call_FfLucD8dOsQ8w7145SGUFyQb', 'function': {'arguments': '{}', 'name': 'whereCatisHiding'}, 'type': 'function'}]}, response_metadata={'finish_reason': 'tool_calls', 'model_name': 'gpt-4o-mini-2024-07-18', 'system_fingerprint': 'fp_34a54ae93c'}, id='run--d97f8c1e-4589-41fd-854b-eb1ec3ecd43b', tool_calls=[{'name': 'whereCatisHiding', 'args': {}, 'id': 'call_FfLucD8dOsQ8w7145SGUFyQb', 'type': 'tool_call'}], tool_call_chunks=[{'name': 'whereCatisHiding', 'args': '{}', 'id': 'call_FfLucD8dOsQ8w7145SGUFyQb', 'index': 0, 'type': 'tool_call_chunk'}])], tool_call_id='call_FfLucD8dOsQ8w7145SGUFyQb')], 'input': AIMessageChunk(content='', additional_kwargs={'tool_calls': [{'index': 0, 'id': 'call_FfLucD8dOsQ8w7145SGUFyQb', 'function': {'arguments': '{}', 'name': 'whereCatisHiding'}, 'type': 'function'}]}, response_metadata={'finish_reason': 'tool_calls', 'model_name': 'gpt-4o-mini-2024-07-18', 'system_fingerprint': 'fp_34a54ae93c'}, id='run--d97f8c1e-4589-41fd-854b-eb1ec3ecd43b', tool_calls=[{'name': 'whereCatisHiding', 'args': {}, 'id': 'call_FfLucD8dOsQ8w7145SGUFyQb', 'type': 'tool_call'}], tool_call_chunks=[{'name': 'whereCatisHiding', 'args': '{}', 'id': 'call_FfLucD8dOsQ8w7145SGUFyQb', 'index': 0, 'type': 'tool_call_chunk'}])}, 'run_id': '7720517c-0aa7-443e-b309-f681cabbe2d3', 'name': 'OpenAIToolsAgentOutputParser', 'tags': ['seq:step:4'], 'metadata': {}, 'parent_ids': ['cc40f459-4c60-4ae4-a001-c05ec6b1ff43', '64e048f8-7955-4a41-bec5-83466cff9370']}\n",
      "{'event': 'on_chain_stream', 'run_id': '64e048f8-7955-4a41-bec5-83466cff9370', 'name': 'RunnableSequence', 'tags': [], 'metadata': {}, 'data': {'chunk': [ToolAgentAction(tool='whereCatisHiding', tool_input={}, log='\\nInvoking: `whereCatisHiding` with `{}`\\n\\n\\n', message_log=[AIMessageChunk(content='', additional_kwargs={'tool_calls': [{'index': 0, 'id': 'call_FfLucD8dOsQ8w7145SGUFyQb', 'function': {'arguments': '{}', 'name': 'whereCatisHiding'}, 'type': 'function'}]}, response_metadata={'finish_reason': 'tool_calls', 'model_name': 'gpt-4o-mini-2024-07-18', 'system_fingerprint': 'fp_34a54ae93c'}, id='run--d97f8c1e-4589-41fd-854b-eb1ec3ecd43b', tool_calls=[{'name': 'whereCatisHiding', 'args': {}, 'id': 'call_FfLucD8dOsQ8w7145SGUFyQb', 'type': 'tool_call'}], tool_call_chunks=[{'name': 'whereCatisHiding', 'args': '{}', 'id': 'call_FfLucD8dOsQ8w7145SGUFyQb', 'index': 0, 'type': 'tool_call_chunk'}])], tool_call_id='call_FfLucD8dOsQ8w7145SGUFyQb')]}, 'parent_ids': ['cc40f459-4c60-4ae4-a001-c05ec6b1ff43']}\n",
      "{'event': 'on_chain_end', 'data': {'output': [ToolAgentAction(tool='whereCatisHiding', tool_input={}, log='\\nInvoking: `whereCatisHiding` with `{}`\\n\\n\\n', message_log=[AIMessageChunk(content='', additional_kwargs={'tool_calls': [{'index': 0, 'id': 'call_FfLucD8dOsQ8w7145SGUFyQb', 'function': {'arguments': '{}', 'name': 'whereCatisHiding'}, 'type': 'function'}]}, response_metadata={'finish_reason': 'tool_calls', 'model_name': 'gpt-4o-mini-2024-07-18', 'system_fingerprint': 'fp_34a54ae93c'}, id='run--d97f8c1e-4589-41fd-854b-eb1ec3ecd43b', tool_calls=[{'name': 'whereCatisHiding', 'args': {}, 'id': 'call_FfLucD8dOsQ8w7145SGUFyQb', 'type': 'tool_call'}], tool_call_chunks=[{'name': 'whereCatisHiding', 'args': '{}', 'id': 'call_FfLucD8dOsQ8w7145SGUFyQb', 'index': 0, 'type': 'tool_call_chunk'}])], tool_call_id='call_FfLucD8dOsQ8w7145SGUFyQb')], 'input': {'input': 'What items are located where the cat is hiding?', 'intermediate_steps': []}}, 'run_id': '64e048f8-7955-4a41-bec5-83466cff9370', 'name': 'RunnableSequence', 'tags': [], 'metadata': {}, 'parent_ids': ['cc40f459-4c60-4ae4-a001-c05ec6b1ff43']}\n",
      "{'event': 'on_chain_stream', 'run_id': 'cc40f459-4c60-4ae4-a001-c05ec6b1ff43', 'name': 'Agent', 'tags': [], 'metadata': {}, 'data': {'chunk': {'actions': [ToolAgentAction(tool='whereCatisHiding', tool_input={}, log='\\nInvoking: `whereCatisHiding` with `{}`\\n\\n\\n', message_log=[AIMessageChunk(content='', additional_kwargs={'tool_calls': [{'index': 0, 'id': 'call_FfLucD8dOsQ8w7145SGUFyQb', 'function': {'arguments': '{}', 'name': 'whereCatisHiding'}, 'type': 'function'}]}, response_metadata={'finish_reason': 'tool_calls', 'model_name': 'gpt-4o-mini-2024-07-18', 'system_fingerprint': 'fp_34a54ae93c'}, id='run--d97f8c1e-4589-41fd-854b-eb1ec3ecd43b', tool_calls=[{'name': 'whereCatisHiding', 'args': {}, 'id': 'call_FfLucD8dOsQ8w7145SGUFyQb', 'type': 'tool_call'}], tool_call_chunks=[{'name': 'whereCatisHiding', 'args': '{}', 'id': 'call_FfLucD8dOsQ8w7145SGUFyQb', 'index': 0, 'type': 'tool_call_chunk'}])], tool_call_id='call_FfLucD8dOsQ8w7145SGUFyQb')], 'messages': [AIMessageChunk(content='', additional_kwargs={'tool_calls': [{'index': 0, 'id': 'call_FfLucD8dOsQ8w7145SGUFyQb', 'function': {'arguments': '{}', 'name': 'whereCatisHiding'}, 'type': 'function'}]}, response_metadata={'finish_reason': 'tool_calls', 'model_name': 'gpt-4o-mini-2024-07-18', 'system_fingerprint': 'fp_34a54ae93c'}, id='run--d97f8c1e-4589-41fd-854b-eb1ec3ecd43b', tool_calls=[{'name': 'whereCatisHiding', 'args': {}, 'id': 'call_FfLucD8dOsQ8w7145SGUFyQb', 'type': 'tool_call'}], tool_call_chunks=[{'name': 'whereCatisHiding', 'args': '{}', 'id': 'call_FfLucD8dOsQ8w7145SGUFyQb', 'index': 0, 'type': 'tool_call_chunk'}])]}}, 'parent_ids': []}\n",
      "{'event': 'on_tool_start', 'data': {'input': {}}, 'name': 'whereCatisHiding', 'tags': [], 'run_id': '30ebf886-33ae-4043-808c-c40a07b1e16b', 'metadata': {}, 'parent_ids': ['cc40f459-4c60-4ae4-a001-c05ec6b1ff43']}\n",
      "{'event': 'on_tool_end', 'data': {'output': 'On the Bed', 'input': {}}, 'run_id': '30ebf886-33ae-4043-808c-c40a07b1e16b', 'name': 'whereCatisHiding', 'tags': [], 'metadata': {}, 'parent_ids': ['cc40f459-4c60-4ae4-a001-c05ec6b1ff43']}\n",
      "{'event': 'on_chain_stream', 'run_id': 'cc40f459-4c60-4ae4-a001-c05ec6b1ff43', 'name': 'Agent', 'tags': [], 'metadata': {}, 'data': {'chunk': {'steps': [AgentStep(action=ToolAgentAction(tool='whereCatisHiding', tool_input={}, log='\\nInvoking: `whereCatisHiding` with `{}`\\n\\n\\n', message_log=[AIMessageChunk(content='', additional_kwargs={'tool_calls': [{'index': 0, 'id': 'call_FfLucD8dOsQ8w7145SGUFyQb', 'function': {'arguments': '{}', 'name': 'whereCatisHiding'}, 'type': 'function'}]}, response_metadata={'finish_reason': 'tool_calls', 'model_name': 'gpt-4o-mini-2024-07-18', 'system_fingerprint': 'fp_34a54ae93c'}, id='run--d97f8c1e-4589-41fd-854b-eb1ec3ecd43b', tool_calls=[{'name': 'whereCatisHiding', 'args': {}, 'id': 'call_FfLucD8dOsQ8w7145SGUFyQb', 'type': 'tool_call'}], tool_call_chunks=[{'name': 'whereCatisHiding', 'args': '{}', 'id': 'call_FfLucD8dOsQ8w7145SGUFyQb', 'index': 0, 'type': 'tool_call_chunk'}])], tool_call_id='call_FfLucD8dOsQ8w7145SGUFyQb'), observation='On the Bed')], 'messages': [FunctionMessage(content='On the Bed', additional_kwargs={}, response_metadata={}, name='whereCatisHiding')]}}, 'parent_ids': []}\n",
      "{'event': 'on_chain_start', 'data': {}, 'name': 'RunnableSequence', 'tags': [], 'run_id': '22338bbe-5c19-439d-bea7-02bfe2c712ce', 'metadata': {}, 'parent_ids': ['cc40f459-4c60-4ae4-a001-c05ec6b1ff43']}\n",
      "{'event': 'on_chain_start', 'data': {}, 'name': 'RunnableAssign<agent_scratchpad>', 'tags': ['seq:step:1'], 'run_id': '9b8f66ba-6a64-4a4f-bb1c-72dabc6402f3', 'metadata': {}, 'parent_ids': ['cc40f459-4c60-4ae4-a001-c05ec6b1ff43', '22338bbe-5c19-439d-bea7-02bfe2c712ce']}\n",
      "{'event': 'on_chain_stream', 'run_id': '9b8f66ba-6a64-4a4f-bb1c-72dabc6402f3', 'name': 'RunnableAssign<agent_scratchpad>', 'tags': ['seq:step:1'], 'metadata': {}, 'data': {'chunk': {'input': 'What items are located where the cat is hiding?', 'intermediate_steps': [(ToolAgentAction(tool='whereCatisHiding', tool_input={}, log='\\nInvoking: `whereCatisHiding` with `{}`\\n\\n\\n', message_log=[AIMessageChunk(content='', additional_kwargs={'tool_calls': [{'index': 0, 'id': 'call_FfLucD8dOsQ8w7145SGUFyQb', 'function': {'arguments': '{}', 'name': 'whereCatisHiding'}, 'type': 'function'}]}, response_metadata={'finish_reason': 'tool_calls', 'model_name': 'gpt-4o-mini-2024-07-18', 'system_fingerprint': 'fp_34a54ae93c'}, id='run--d97f8c1e-4589-41fd-854b-eb1ec3ecd43b', tool_calls=[{'name': 'whereCatisHiding', 'args': {}, 'id': 'call_FfLucD8dOsQ8w7145SGUFyQb', 'type': 'tool_call'}], tool_call_chunks=[{'name': 'whereCatisHiding', 'args': '{}', 'id': 'call_FfLucD8dOsQ8w7145SGUFyQb', 'index': 0, 'type': 'tool_call_chunk'}])], tool_call_id='call_FfLucD8dOsQ8w7145SGUFyQb'), 'On the Bed')]}}, 'parent_ids': ['cc40f459-4c60-4ae4-a001-c05ec6b1ff43', '22338bbe-5c19-439d-bea7-02bfe2c712ce']}\n",
      "{'event': 'on_chain_start', 'data': {}, 'name': 'RunnableParallel<agent_scratchpad>', 'tags': [], 'run_id': '32c76581-eb83-43fe-84a4-6b20c5591979', 'metadata': {}, 'parent_ids': ['cc40f459-4c60-4ae4-a001-c05ec6b1ff43', '22338bbe-5c19-439d-bea7-02bfe2c712ce', '9b8f66ba-6a64-4a4f-bb1c-72dabc6402f3']}\n",
      "{'event': 'on_chain_start', 'data': {}, 'name': 'RunnableLambda', 'tags': ['map:key:agent_scratchpad'], 'run_id': '9a49f2c3-06e2-43c5-ba9c-347499ee7905', 'metadata': {}, 'parent_ids': ['cc40f459-4c60-4ae4-a001-c05ec6b1ff43', '22338bbe-5c19-439d-bea7-02bfe2c712ce', '9b8f66ba-6a64-4a4f-bb1c-72dabc6402f3', '32c76581-eb83-43fe-84a4-6b20c5591979']}\n",
      "{'event': 'on_chain_stream', 'run_id': '9a49f2c3-06e2-43c5-ba9c-347499ee7905', 'name': 'RunnableLambda', 'tags': ['map:key:agent_scratchpad'], 'metadata': {}, 'data': {'chunk': [AIMessageChunk(content='', additional_kwargs={'tool_calls': [{'index': 0, 'id': 'call_FfLucD8dOsQ8w7145SGUFyQb', 'function': {'arguments': '{}', 'name': 'whereCatisHiding'}, 'type': 'function'}]}, response_metadata={'finish_reason': 'tool_calls', 'model_name': 'gpt-4o-mini-2024-07-18', 'system_fingerprint': 'fp_34a54ae93c'}, id='run--d97f8c1e-4589-41fd-854b-eb1ec3ecd43b', tool_calls=[{'name': 'whereCatisHiding', 'args': {}, 'id': 'call_FfLucD8dOsQ8w7145SGUFyQb', 'type': 'tool_call'}], tool_call_chunks=[{'name': 'whereCatisHiding', 'args': '{}', 'id': 'call_FfLucD8dOsQ8w7145SGUFyQb', 'index': 0, 'type': 'tool_call_chunk'}]), ToolMessage(content='On the Bed', tool_call_id='call_FfLucD8dOsQ8w7145SGUFyQb')]}, 'parent_ids': ['cc40f459-4c60-4ae4-a001-c05ec6b1ff43', '22338bbe-5c19-439d-bea7-02bfe2c712ce', '9b8f66ba-6a64-4a4f-bb1c-72dabc6402f3', '32c76581-eb83-43fe-84a4-6b20c5591979']}\n",
      "{'event': 'on_chain_stream', 'run_id': '32c76581-eb83-43fe-84a4-6b20c5591979', 'name': 'RunnableParallel<agent_scratchpad>', 'tags': [], 'metadata': {}, 'data': {'chunk': {'agent_scratchpad': [AIMessageChunk(content='', additional_kwargs={'tool_calls': [{'index': 0, 'id': 'call_FfLucD8dOsQ8w7145SGUFyQb', 'function': {'arguments': '{}', 'name': 'whereCatisHiding'}, 'type': 'function'}]}, response_metadata={'finish_reason': 'tool_calls', 'model_name': 'gpt-4o-mini-2024-07-18', 'system_fingerprint': 'fp_34a54ae93c'}, id='run--d97f8c1e-4589-41fd-854b-eb1ec3ecd43b', tool_calls=[{'name': 'whereCatisHiding', 'args': {}, 'id': 'call_FfLucD8dOsQ8w7145SGUFyQb', 'type': 'tool_call'}], tool_call_chunks=[{'name': 'whereCatisHiding', 'args': '{}', 'id': 'call_FfLucD8dOsQ8w7145SGUFyQb', 'index': 0, 'type': 'tool_call_chunk'}]), ToolMessage(content='On the Bed', tool_call_id='call_FfLucD8dOsQ8w7145SGUFyQb')]}}, 'parent_ids': ['cc40f459-4c60-4ae4-a001-c05ec6b1ff43', '22338bbe-5c19-439d-bea7-02bfe2c712ce', '9b8f66ba-6a64-4a4f-bb1c-72dabc6402f3']}\n",
      "{'event': 'on_chain_stream', 'run_id': '9b8f66ba-6a64-4a4f-bb1c-72dabc6402f3', 'name': 'RunnableAssign<agent_scratchpad>', 'tags': ['seq:step:1'], 'metadata': {}, 'data': {'chunk': {'agent_scratchpad': [AIMessageChunk(content='', additional_kwargs={'tool_calls': [{'index': 0, 'id': 'call_FfLucD8dOsQ8w7145SGUFyQb', 'function': {'arguments': '{}', 'name': 'whereCatisHiding'}, 'type': 'function'}]}, response_metadata={'finish_reason': 'tool_calls', 'model_name': 'gpt-4o-mini-2024-07-18', 'system_fingerprint': 'fp_34a54ae93c'}, id='run--d97f8c1e-4589-41fd-854b-eb1ec3ecd43b', tool_calls=[{'name': 'whereCatisHiding', 'args': {}, 'id': 'call_FfLucD8dOsQ8w7145SGUFyQb', 'type': 'tool_call'}], tool_call_chunks=[{'name': 'whereCatisHiding', 'args': '{}', 'id': 'call_FfLucD8dOsQ8w7145SGUFyQb', 'index': 0, 'type': 'tool_call_chunk'}]), ToolMessage(content='On the Bed', tool_call_id='call_FfLucD8dOsQ8w7145SGUFyQb')]}}, 'parent_ids': ['cc40f459-4c60-4ae4-a001-c05ec6b1ff43', '22338bbe-5c19-439d-bea7-02bfe2c712ce']}\n",
      "{'event': 'on_chain_end', 'data': {'output': [AIMessageChunk(content='', additional_kwargs={'tool_calls': [{'index': 0, 'id': 'call_FfLucD8dOsQ8w7145SGUFyQb', 'function': {'arguments': '{}', 'name': 'whereCatisHiding'}, 'type': 'function'}]}, response_metadata={'finish_reason': 'tool_calls', 'model_name': 'gpt-4o-mini-2024-07-18', 'system_fingerprint': 'fp_34a54ae93c'}, id='run--d97f8c1e-4589-41fd-854b-eb1ec3ecd43b', tool_calls=[{'name': 'whereCatisHiding', 'args': {}, 'id': 'call_FfLucD8dOsQ8w7145SGUFyQb', 'type': 'tool_call'}], tool_call_chunks=[{'name': 'whereCatisHiding', 'args': '{}', 'id': 'call_FfLucD8dOsQ8w7145SGUFyQb', 'index': 0, 'type': 'tool_call_chunk'}]), ToolMessage(content='On the Bed', tool_call_id='call_FfLucD8dOsQ8w7145SGUFyQb')], 'input': {'input': 'What items are located where the cat is hiding?', 'intermediate_steps': [(ToolAgentAction(tool='whereCatisHiding', tool_input={}, log='\\nInvoking: `whereCatisHiding` with `{}`\\n\\n\\n', message_log=[AIMessageChunk(content='', additional_kwargs={'tool_calls': [{'index': 0, 'id': 'call_FfLucD8dOsQ8w7145SGUFyQb', 'function': {'arguments': '{}', 'name': 'whereCatisHiding'}, 'type': 'function'}]}, response_metadata={'finish_reason': 'tool_calls', 'model_name': 'gpt-4o-mini-2024-07-18', 'system_fingerprint': 'fp_34a54ae93c'}, id='run--d97f8c1e-4589-41fd-854b-eb1ec3ecd43b', tool_calls=[{'name': 'whereCatisHiding', 'args': {}, 'id': 'call_FfLucD8dOsQ8w7145SGUFyQb', 'type': 'tool_call'}], tool_call_chunks=[{'name': 'whereCatisHiding', 'args': '{}', 'id': 'call_FfLucD8dOsQ8w7145SGUFyQb', 'index': 0, 'type': 'tool_call_chunk'}])], tool_call_id='call_FfLucD8dOsQ8w7145SGUFyQb'), 'On the Bed')]}}, 'run_id': '9a49f2c3-06e2-43c5-ba9c-347499ee7905', 'name': 'RunnableLambda', 'tags': ['map:key:agent_scratchpad'], 'metadata': {}, 'parent_ids': ['cc40f459-4c60-4ae4-a001-c05ec6b1ff43', '22338bbe-5c19-439d-bea7-02bfe2c712ce', '9b8f66ba-6a64-4a4f-bb1c-72dabc6402f3', '32c76581-eb83-43fe-84a4-6b20c5591979']}\n",
      "{'event': 'on_chain_end', 'data': {'output': {'agent_scratchpad': [AIMessageChunk(content='', additional_kwargs={'tool_calls': [{'index': 0, 'id': 'call_FfLucD8dOsQ8w7145SGUFyQb', 'function': {'arguments': '{}', 'name': 'whereCatisHiding'}, 'type': 'function'}]}, response_metadata={'finish_reason': 'tool_calls', 'model_name': 'gpt-4o-mini-2024-07-18', 'system_fingerprint': 'fp_34a54ae93c'}, id='run--d97f8c1e-4589-41fd-854b-eb1ec3ecd43b', tool_calls=[{'name': 'whereCatisHiding', 'args': {}, 'id': 'call_FfLucD8dOsQ8w7145SGUFyQb', 'type': 'tool_call'}], tool_call_chunks=[{'name': 'whereCatisHiding', 'args': '{}', 'id': 'call_FfLucD8dOsQ8w7145SGUFyQb', 'index': 0, 'type': 'tool_call_chunk'}]), ToolMessage(content='On the Bed', tool_call_id='call_FfLucD8dOsQ8w7145SGUFyQb')]}, 'input': {'input': 'What items are located where the cat is hiding?', 'intermediate_steps': [(ToolAgentAction(tool='whereCatisHiding', tool_input={}, log='\\nInvoking: `whereCatisHiding` with `{}`\\n\\n\\n', message_log=[AIMessageChunk(content='', additional_kwargs={'tool_calls': [{'index': 0, 'id': 'call_FfLucD8dOsQ8w7145SGUFyQb', 'function': {'arguments': '{}', 'name': 'whereCatisHiding'}, 'type': 'function'}]}, response_metadata={'finish_reason': 'tool_calls', 'model_name': 'gpt-4o-mini-2024-07-18', 'system_fingerprint': 'fp_34a54ae93c'}, id='run--d97f8c1e-4589-41fd-854b-eb1ec3ecd43b', tool_calls=[{'name': 'whereCatisHiding', 'args': {}, 'id': 'call_FfLucD8dOsQ8w7145SGUFyQb', 'type': 'tool_call'}], tool_call_chunks=[{'name': 'whereCatisHiding', 'args': '{}', 'id': 'call_FfLucD8dOsQ8w7145SGUFyQb', 'index': 0, 'type': 'tool_call_chunk'}])], tool_call_id='call_FfLucD8dOsQ8w7145SGUFyQb'), 'On the Bed')]}}, 'run_id': '32c76581-eb83-43fe-84a4-6b20c5591979', 'name': 'RunnableParallel<agent_scratchpad>', 'tags': [], 'metadata': {}, 'parent_ids': ['cc40f459-4c60-4ae4-a001-c05ec6b1ff43', '22338bbe-5c19-439d-bea7-02bfe2c712ce', '9b8f66ba-6a64-4a4f-bb1c-72dabc6402f3']}\n",
      "{'event': 'on_chain_end', 'data': {'output': {'input': 'What items are located where the cat is hiding?', 'intermediate_steps': [(ToolAgentAction(tool='whereCatisHiding', tool_input={}, log='\\nInvoking: `whereCatisHiding` with `{}`\\n\\n\\n', message_log=[AIMessageChunk(content='', additional_kwargs={'tool_calls': [{'index': 0, 'id': 'call_FfLucD8dOsQ8w7145SGUFyQb', 'function': {'arguments': '{}', 'name': 'whereCatisHiding'}, 'type': 'function'}]}, response_metadata={'finish_reason': 'tool_calls', 'model_name': 'gpt-4o-mini-2024-07-18', 'system_fingerprint': 'fp_34a54ae93c'}, id='run--d97f8c1e-4589-41fd-854b-eb1ec3ecd43b', tool_calls=[{'name': 'whereCatisHiding', 'args': {}, 'id': 'call_FfLucD8dOsQ8w7145SGUFyQb', 'type': 'tool_call'}], tool_call_chunks=[{'name': 'whereCatisHiding', 'args': '{}', 'id': 'call_FfLucD8dOsQ8w7145SGUFyQb', 'index': 0, 'type': 'tool_call_chunk'}])], tool_call_id='call_FfLucD8dOsQ8w7145SGUFyQb'), 'On the Bed')], 'agent_scratchpad': [AIMessageChunk(content='', additional_kwargs={'tool_calls': [{'index': 0, 'id': 'call_FfLucD8dOsQ8w7145SGUFyQb', 'function': {'arguments': '{}', 'name': 'whereCatisHiding'}, 'type': 'function'}]}, response_metadata={'finish_reason': 'tool_calls', 'model_name': 'gpt-4o-mini-2024-07-18', 'system_fingerprint': 'fp_34a54ae93c'}, id='run--d97f8c1e-4589-41fd-854b-eb1ec3ecd43b', tool_calls=[{'name': 'whereCatisHiding', 'args': {}, 'id': 'call_FfLucD8dOsQ8w7145SGUFyQb', 'type': 'tool_call'}], tool_call_chunks=[{'name': 'whereCatisHiding', 'args': '{}', 'id': 'call_FfLucD8dOsQ8w7145SGUFyQb', 'index': 0, 'type': 'tool_call_chunk'}]), ToolMessage(content='On the Bed', tool_call_id='call_FfLucD8dOsQ8w7145SGUFyQb')]}, 'input': {'input': 'What items are located where the cat is hiding?', 'intermediate_steps': [(ToolAgentAction(tool='whereCatisHiding', tool_input={}, log='\\nInvoking: `whereCatisHiding` with `{}`\\n\\n\\n', message_log=[AIMessageChunk(content='', additional_kwargs={'tool_calls': [{'index': 0, 'id': 'call_FfLucD8dOsQ8w7145SGUFyQb', 'function': {'arguments': '{}', 'name': 'whereCatisHiding'}, 'type': 'function'}]}, response_metadata={'finish_reason': 'tool_calls', 'model_name': 'gpt-4o-mini-2024-07-18', 'system_fingerprint': 'fp_34a54ae93c'}, id='run--d97f8c1e-4589-41fd-854b-eb1ec3ecd43b', tool_calls=[{'name': 'whereCatisHiding', 'args': {}, 'id': 'call_FfLucD8dOsQ8w7145SGUFyQb', 'type': 'tool_call'}], tool_call_chunks=[{'name': 'whereCatisHiding', 'args': '{}', 'id': 'call_FfLucD8dOsQ8w7145SGUFyQb', 'index': 0, 'type': 'tool_call_chunk'}])], tool_call_id='call_FfLucD8dOsQ8w7145SGUFyQb'), 'On the Bed')]}}, 'run_id': '9b8f66ba-6a64-4a4f-bb1c-72dabc6402f3', 'name': 'RunnableAssign<agent_scratchpad>', 'tags': ['seq:step:1'], 'metadata': {}, 'parent_ids': ['cc40f459-4c60-4ae4-a001-c05ec6b1ff43', '22338bbe-5c19-439d-bea7-02bfe2c712ce']}\n",
      "{'event': 'on_prompt_start', 'data': {'input': {'input': 'What items are located where the cat is hiding?', 'intermediate_steps': [(ToolAgentAction(tool='whereCatisHiding', tool_input={}, log='\\nInvoking: `whereCatisHiding` with `{}`\\n\\n\\n', message_log=[AIMessageChunk(content='', additional_kwargs={'tool_calls': [{'index': 0, 'id': 'call_FfLucD8dOsQ8w7145SGUFyQb', 'function': {'arguments': '{}', 'name': 'whereCatisHiding'}, 'type': 'function'}]}, response_metadata={'finish_reason': 'tool_calls', 'model_name': 'gpt-4o-mini-2024-07-18', 'system_fingerprint': 'fp_34a54ae93c'}, id='run--d97f8c1e-4589-41fd-854b-eb1ec3ecd43b', tool_calls=[{'name': 'whereCatisHiding', 'args': {}, 'id': 'call_FfLucD8dOsQ8w7145SGUFyQb', 'type': 'tool_call'}], tool_call_chunks=[{'name': 'whereCatisHiding', 'args': '{}', 'id': 'call_FfLucD8dOsQ8w7145SGUFyQb', 'index': 0, 'type': 'tool_call_chunk'}])], tool_call_id='call_FfLucD8dOsQ8w7145SGUFyQb'), 'On the Bed')], 'agent_scratchpad': [AIMessageChunk(content='', additional_kwargs={'tool_calls': [{'index': 0, 'id': 'call_FfLucD8dOsQ8w7145SGUFyQb', 'function': {'arguments': '{}', 'name': 'whereCatisHiding'}, 'type': 'function'}]}, response_metadata={'finish_reason': 'tool_calls', 'model_name': 'gpt-4o-mini-2024-07-18', 'system_fingerprint': 'fp_34a54ae93c'}, id='run--d97f8c1e-4589-41fd-854b-eb1ec3ecd43b', tool_calls=[{'name': 'whereCatisHiding', 'args': {}, 'id': 'call_FfLucD8dOsQ8w7145SGUFyQb', 'type': 'tool_call'}], tool_call_chunks=[{'name': 'whereCatisHiding', 'args': '{}', 'id': 'call_FfLucD8dOsQ8w7145SGUFyQb', 'index': 0, 'type': 'tool_call_chunk'}]), ToolMessage(content='On the Bed', tool_call_id='call_FfLucD8dOsQ8w7145SGUFyQb')]}}, 'name': 'ChatPromptTemplate', 'tags': ['seq:step:2'], 'run_id': '7aac9a12-276b-4156-8881-f1e00dd21600', 'metadata': {'lc_hub_owner': 'hwchase17', 'lc_hub_repo': 'openai-tools-agent', 'lc_hub_commit_hash': 'c18672812789a3b9697656dd539edf0120285dcae36396d0b548ae42a4ed66f5'}, 'parent_ids': ['cc40f459-4c60-4ae4-a001-c05ec6b1ff43', '22338bbe-5c19-439d-bea7-02bfe2c712ce']}\n",
      "{'event': 'on_prompt_end', 'data': {'output': ChatPromptValue(messages=[SystemMessage(content='You are a helpful assistant', additional_kwargs={}, response_metadata={}), HumanMessage(content='What items are located where the cat is hiding?', additional_kwargs={}, response_metadata={}), AIMessageChunk(content='', additional_kwargs={'tool_calls': [{'index': 0, 'id': 'call_FfLucD8dOsQ8w7145SGUFyQb', 'function': {'arguments': '{}', 'name': 'whereCatisHiding'}, 'type': 'function'}]}, response_metadata={'finish_reason': 'tool_calls', 'model_name': 'gpt-4o-mini-2024-07-18', 'system_fingerprint': 'fp_34a54ae93c'}, id='run--d97f8c1e-4589-41fd-854b-eb1ec3ecd43b', tool_calls=[{'name': 'whereCatisHiding', 'args': {}, 'id': 'call_FfLucD8dOsQ8w7145SGUFyQb', 'type': 'tool_call'}], tool_call_chunks=[{'name': 'whereCatisHiding', 'args': '{}', 'id': 'call_FfLucD8dOsQ8w7145SGUFyQb', 'index': 0, 'type': 'tool_call_chunk'}]), ToolMessage(content='On the Bed', tool_call_id='call_FfLucD8dOsQ8w7145SGUFyQb')]), 'input': {'input': 'What items are located where the cat is hiding?', 'intermediate_steps': [(ToolAgentAction(tool='whereCatisHiding', tool_input={}, log='\\nInvoking: `whereCatisHiding` with `{}`\\n\\n\\n', message_log=[AIMessageChunk(content='', additional_kwargs={'tool_calls': [{'index': 0, 'id': 'call_FfLucD8dOsQ8w7145SGUFyQb', 'function': {'arguments': '{}', 'name': 'whereCatisHiding'}, 'type': 'function'}]}, response_metadata={'finish_reason': 'tool_calls', 'model_name': 'gpt-4o-mini-2024-07-18', 'system_fingerprint': 'fp_34a54ae93c'}, id='run--d97f8c1e-4589-41fd-854b-eb1ec3ecd43b', tool_calls=[{'name': 'whereCatisHiding', 'args': {}, 'id': 'call_FfLucD8dOsQ8w7145SGUFyQb', 'type': 'tool_call'}], tool_call_chunks=[{'name': 'whereCatisHiding', 'args': '{}', 'id': 'call_FfLucD8dOsQ8w7145SGUFyQb', 'index': 0, 'type': 'tool_call_chunk'}])], tool_call_id='call_FfLucD8dOsQ8w7145SGUFyQb'), 'On the Bed')], 'agent_scratchpad': [AIMessageChunk(content='', additional_kwargs={'tool_calls': [{'index': 0, 'id': 'call_FfLucD8dOsQ8w7145SGUFyQb', 'function': {'arguments': '{}', 'name': 'whereCatisHiding'}, 'type': 'function'}]}, response_metadata={'finish_reason': 'tool_calls', 'model_name': 'gpt-4o-mini-2024-07-18', 'system_fingerprint': 'fp_34a54ae93c'}, id='run--d97f8c1e-4589-41fd-854b-eb1ec3ecd43b', tool_calls=[{'name': 'whereCatisHiding', 'args': {}, 'id': 'call_FfLucD8dOsQ8w7145SGUFyQb', 'type': 'tool_call'}], tool_call_chunks=[{'name': 'whereCatisHiding', 'args': '{}', 'id': 'call_FfLucD8dOsQ8w7145SGUFyQb', 'index': 0, 'type': 'tool_call_chunk'}]), ToolMessage(content='On the Bed', tool_call_id='call_FfLucD8dOsQ8w7145SGUFyQb')]}}, 'run_id': '7aac9a12-276b-4156-8881-f1e00dd21600', 'name': 'ChatPromptTemplate', 'tags': ['seq:step:2'], 'metadata': {'lc_hub_owner': 'hwchase17', 'lc_hub_repo': 'openai-tools-agent', 'lc_hub_commit_hash': 'c18672812789a3b9697656dd539edf0120285dcae36396d0b548ae42a4ed66f5', 'LANGSMITH_ENDPOINT': 'https://api.smith.langchain.com', 'LANGSMITH_PROJECT': 'tutorial-project', 'LANGSMITH_TRACING': 'true', 'revision_id': '173a2d5-dirty'}, 'parent_ids': ['cc40f459-4c60-4ae4-a001-c05ec6b1ff43', '22338bbe-5c19-439d-bea7-02bfe2c712ce']}\n",
      "{'event': 'on_chat_model_start', 'data': {'input': {'messages': [[SystemMessage(content='You are a helpful assistant', additional_kwargs={}, response_metadata={}), HumanMessage(content='What items are located where the cat is hiding?', additional_kwargs={}, response_metadata={}), AIMessageChunk(content='', additional_kwargs={'tool_calls': [{'index': 0, 'id': 'call_FfLucD8dOsQ8w7145SGUFyQb', 'function': {'arguments': '{}', 'name': 'whereCatisHiding'}, 'type': 'function'}]}, response_metadata={'finish_reason': 'tool_calls', 'model_name': 'gpt-4o-mini-2024-07-18', 'system_fingerprint': 'fp_34a54ae93c'}, id='run--d97f8c1e-4589-41fd-854b-eb1ec3ecd43b', tool_calls=[{'name': 'whereCatisHiding', 'args': {}, 'id': 'call_FfLucD8dOsQ8w7145SGUFyQb', 'type': 'tool_call'}], tool_call_chunks=[{'name': 'whereCatisHiding', 'args': '{}', 'id': 'call_FfLucD8dOsQ8w7145SGUFyQb', 'index': 0, 'type': 'tool_call_chunk'}]), ToolMessage(content='On the Bed', tool_call_id='call_FfLucD8dOsQ8w7145SGUFyQb')]]}}, 'name': 'ChatOpenAI', 'tags': ['seq:step:3', 'agent_llm'], 'run_id': '5a523fc4-13f8-4ad7-ac92-aaa885a15df7', 'metadata': {'ls_provider': 'openai', 'ls_model_name': 'gpt-4o-mini', 'ls_model_type': 'chat', 'ls_temperature': None}, 'parent_ids': ['cc40f459-4c60-4ae4-a001-c05ec6b1ff43', '22338bbe-5c19-439d-bea7-02bfe2c712ce']}\n",
      "{'event': 'on_chat_model_stream', 'data': {'chunk': AIMessageChunk(content='', additional_kwargs={'tool_calls': [{'index': 0, 'id': 'call_ruzMK5GmxujuEOOaNMAroNiz', 'function': {'arguments': '', 'name': 'getItems'}, 'type': 'function'}]}, response_metadata={}, id='run--5a523fc4-13f8-4ad7-ac92-aaa885a15df7', tool_calls=[{'name': 'getItems', 'args': {}, 'id': 'call_ruzMK5GmxujuEOOaNMAroNiz', 'type': 'tool_call'}], tool_call_chunks=[{'name': 'getItems', 'args': '', 'id': 'call_ruzMK5GmxujuEOOaNMAroNiz', 'index': 0, 'type': 'tool_call_chunk'}])}, 'run_id': '5a523fc4-13f8-4ad7-ac92-aaa885a15df7', 'name': 'ChatOpenAI', 'tags': ['seq:step:3', 'agent_llm'], 'metadata': {'ls_provider': 'openai', 'ls_model_name': 'gpt-4o-mini', 'ls_model_type': 'chat', 'ls_temperature': None}, 'parent_ids': ['cc40f459-4c60-4ae4-a001-c05ec6b1ff43', '22338bbe-5c19-439d-bea7-02bfe2c712ce']}\n",
      "{'event': 'on_chat_model_stream', 'data': {'chunk': AIMessageChunk(content='', additional_kwargs={'tool_calls': [{'index': 0, 'id': None, 'function': {'arguments': '{\"', 'name': None}, 'type': None}]}, response_metadata={}, id='run--5a523fc4-13f8-4ad7-ac92-aaa885a15df7', tool_calls=[{'name': '', 'args': {}, 'id': None, 'type': 'tool_call'}], tool_call_chunks=[{'name': None, 'args': '{\"', 'id': None, 'index': 0, 'type': 'tool_call_chunk'}])}, 'run_id': '5a523fc4-13f8-4ad7-ac92-aaa885a15df7', 'name': 'ChatOpenAI', 'tags': ['seq:step:3', 'agent_llm'], 'metadata': {'ls_provider': 'openai', 'ls_model_name': 'gpt-4o-mini', 'ls_model_type': 'chat', 'ls_temperature': None}, 'parent_ids': ['cc40f459-4c60-4ae4-a001-c05ec6b1ff43', '22338bbe-5c19-439d-bea7-02bfe2c712ce']}\n",
      "{'event': 'on_chat_model_stream', 'data': {'chunk': AIMessageChunk(content='', additional_kwargs={'tool_calls': [{'index': 0, 'id': None, 'function': {'arguments': 'place', 'name': None}, 'type': None}]}, response_metadata={}, id='run--5a523fc4-13f8-4ad7-ac92-aaa885a15df7', invalid_tool_calls=[{'name': None, 'args': 'place', 'id': None, 'error': None, 'type': 'invalid_tool_call'}], tool_call_chunks=[{'name': None, 'args': 'place', 'id': None, 'index': 0, 'type': 'tool_call_chunk'}])}, 'run_id': '5a523fc4-13f8-4ad7-ac92-aaa885a15df7', 'name': 'ChatOpenAI', 'tags': ['seq:step:3', 'agent_llm'], 'metadata': {'ls_provider': 'openai', 'ls_model_name': 'gpt-4o-mini', 'ls_model_type': 'chat', 'ls_temperature': None}, 'parent_ids': ['cc40f459-4c60-4ae4-a001-c05ec6b1ff43', '22338bbe-5c19-439d-bea7-02bfe2c712ce']}\n",
      "{'event': 'on_chat_model_stream', 'data': {'chunk': AIMessageChunk(content='', additional_kwargs={'tool_calls': [{'index': 0, 'id': None, 'function': {'arguments': '\":\"', 'name': None}, 'type': None}]}, response_metadata={}, id='run--5a523fc4-13f8-4ad7-ac92-aaa885a15df7', invalid_tool_calls=[{'name': None, 'args': '\":\"', 'id': None, 'error': None, 'type': 'invalid_tool_call'}], tool_call_chunks=[{'name': None, 'args': '\":\"', 'id': None, 'index': 0, 'type': 'tool_call_chunk'}])}, 'run_id': '5a523fc4-13f8-4ad7-ac92-aaa885a15df7', 'name': 'ChatOpenAI', 'tags': ['seq:step:3', 'agent_llm'], 'metadata': {'ls_provider': 'openai', 'ls_model_name': 'gpt-4o-mini', 'ls_model_type': 'chat', 'ls_temperature': None}, 'parent_ids': ['cc40f459-4c60-4ae4-a001-c05ec6b1ff43', '22338bbe-5c19-439d-bea7-02bfe2c712ce']}\n",
      "{'event': 'on_chat_model_stream', 'data': {'chunk': AIMessageChunk(content='', additional_kwargs={'tool_calls': [{'index': 0, 'id': None, 'function': {'arguments': 'On', 'name': None}, 'type': None}]}, response_metadata={}, id='run--5a523fc4-13f8-4ad7-ac92-aaa885a15df7', invalid_tool_calls=[{'name': None, 'args': 'On', 'id': None, 'error': None, 'type': 'invalid_tool_call'}], tool_call_chunks=[{'name': None, 'args': 'On', 'id': None, 'index': 0, 'type': 'tool_call_chunk'}])}, 'run_id': '5a523fc4-13f8-4ad7-ac92-aaa885a15df7', 'name': 'ChatOpenAI', 'tags': ['seq:step:3', 'agent_llm'], 'metadata': {'ls_provider': 'openai', 'ls_model_name': 'gpt-4o-mini', 'ls_model_type': 'chat', 'ls_temperature': None}, 'parent_ids': ['cc40f459-4c60-4ae4-a001-c05ec6b1ff43', '22338bbe-5c19-439d-bea7-02bfe2c712ce']}\n",
      "{'event': 'on_chat_model_stream', 'data': {'chunk': AIMessageChunk(content='', additional_kwargs={'tool_calls': [{'index': 0, 'id': None, 'function': {'arguments': ' the', 'name': None}, 'type': None}]}, response_metadata={}, id='run--5a523fc4-13f8-4ad7-ac92-aaa885a15df7', invalid_tool_calls=[{'name': None, 'args': ' the', 'id': None, 'error': None, 'type': 'invalid_tool_call'}], tool_call_chunks=[{'name': None, 'args': ' the', 'id': None, 'index': 0, 'type': 'tool_call_chunk'}])}, 'run_id': '5a523fc4-13f8-4ad7-ac92-aaa885a15df7', 'name': 'ChatOpenAI', 'tags': ['seq:step:3', 'agent_llm'], 'metadata': {'ls_provider': 'openai', 'ls_model_name': 'gpt-4o-mini', 'ls_model_type': 'chat', 'ls_temperature': None}, 'parent_ids': ['cc40f459-4c60-4ae4-a001-c05ec6b1ff43', '22338bbe-5c19-439d-bea7-02bfe2c712ce']}\n",
      "{'event': 'on_chat_model_stream', 'data': {'chunk': AIMessageChunk(content='', additional_kwargs={'tool_calls': [{'index': 0, 'id': None, 'function': {'arguments': ' Bed', 'name': None}, 'type': None}]}, response_metadata={}, id='run--5a523fc4-13f8-4ad7-ac92-aaa885a15df7', invalid_tool_calls=[{'name': None, 'args': ' Bed', 'id': None, 'error': None, 'type': 'invalid_tool_call'}], tool_call_chunks=[{'name': None, 'args': ' Bed', 'id': None, 'index': 0, 'type': 'tool_call_chunk'}])}, 'run_id': '5a523fc4-13f8-4ad7-ac92-aaa885a15df7', 'name': 'ChatOpenAI', 'tags': ['seq:step:3', 'agent_llm'], 'metadata': {'ls_provider': 'openai', 'ls_model_name': 'gpt-4o-mini', 'ls_model_type': 'chat', 'ls_temperature': None}, 'parent_ids': ['cc40f459-4c60-4ae4-a001-c05ec6b1ff43', '22338bbe-5c19-439d-bea7-02bfe2c712ce']}\n",
      "{'event': 'on_chat_model_stream', 'data': {'chunk': AIMessageChunk(content='', additional_kwargs={'tool_calls': [{'index': 0, 'id': None, 'function': {'arguments': '\"}', 'name': None}, 'type': None}]}, response_metadata={}, id='run--5a523fc4-13f8-4ad7-ac92-aaa885a15df7', invalid_tool_calls=[{'name': None, 'args': '\"}', 'id': None, 'error': None, 'type': 'invalid_tool_call'}], tool_call_chunks=[{'name': None, 'args': '\"}', 'id': None, 'index': 0, 'type': 'tool_call_chunk'}])}, 'run_id': '5a523fc4-13f8-4ad7-ac92-aaa885a15df7', 'name': 'ChatOpenAI', 'tags': ['seq:step:3', 'agent_llm'], 'metadata': {'ls_provider': 'openai', 'ls_model_name': 'gpt-4o-mini', 'ls_model_type': 'chat', 'ls_temperature': None}, 'parent_ids': ['cc40f459-4c60-4ae4-a001-c05ec6b1ff43', '22338bbe-5c19-439d-bea7-02bfe2c712ce']}\n",
      "{'event': 'on_chat_model_stream', 'data': {'chunk': AIMessageChunk(content='', additional_kwargs={}, response_metadata={'finish_reason': 'tool_calls', 'model_name': 'gpt-4o-mini-2024-07-18', 'system_fingerprint': 'fp_34a54ae93c'}, id='run--5a523fc4-13f8-4ad7-ac92-aaa885a15df7')}, 'run_id': '5a523fc4-13f8-4ad7-ac92-aaa885a15df7', 'name': 'ChatOpenAI', 'tags': ['seq:step:3', 'agent_llm'], 'metadata': {'ls_provider': 'openai', 'ls_model_name': 'gpt-4o-mini', 'ls_model_type': 'chat', 'ls_temperature': None}, 'parent_ids': ['cc40f459-4c60-4ae4-a001-c05ec6b1ff43', '22338bbe-5c19-439d-bea7-02bfe2c712ce']}\n",
      "{'event': 'on_chat_model_end', 'data': {'output': AIMessageChunk(content='', additional_kwargs={'tool_calls': [{'index': 0, 'id': 'call_ruzMK5GmxujuEOOaNMAroNiz', 'function': {'arguments': '{\"place\":\"On the Bed\"}', 'name': 'getItems'}, 'type': 'function'}]}, response_metadata={'finish_reason': 'tool_calls', 'model_name': 'gpt-4o-mini-2024-07-18', 'system_fingerprint': 'fp_34a54ae93c'}, id='run--5a523fc4-13f8-4ad7-ac92-aaa885a15df7', tool_calls=[{'name': 'getItems', 'args': {'place': 'On the Bed'}, 'id': 'call_ruzMK5GmxujuEOOaNMAroNiz', 'type': 'tool_call'}], tool_call_chunks=[{'name': 'getItems', 'args': '{\"place\":\"On the Bed\"}', 'id': 'call_ruzMK5GmxujuEOOaNMAroNiz', 'index': 0, 'type': 'tool_call_chunk'}]), 'input': {'messages': [[SystemMessage(content='You are a helpful assistant', additional_kwargs={}, response_metadata={}), HumanMessage(content='What items are located where the cat is hiding?', additional_kwargs={}, response_metadata={}), AIMessageChunk(content='', additional_kwargs={'tool_calls': [{'index': 0, 'id': 'call_FfLucD8dOsQ8w7145SGUFyQb', 'function': {'arguments': '{}', 'name': 'whereCatisHiding'}, 'type': 'function'}]}, response_metadata={'finish_reason': 'tool_calls', 'model_name': 'gpt-4o-mini-2024-07-18', 'system_fingerprint': 'fp_34a54ae93c'}, id='run--d97f8c1e-4589-41fd-854b-eb1ec3ecd43b', tool_calls=[{'name': 'whereCatisHiding', 'args': {}, 'id': 'call_FfLucD8dOsQ8w7145SGUFyQb', 'type': 'tool_call'}], tool_call_chunks=[{'name': 'whereCatisHiding', 'args': '{}', 'id': 'call_FfLucD8dOsQ8w7145SGUFyQb', 'index': 0, 'type': 'tool_call_chunk'}]), ToolMessage(content='On the Bed', tool_call_id='call_FfLucD8dOsQ8w7145SGUFyQb')]]}}, 'run_id': '5a523fc4-13f8-4ad7-ac92-aaa885a15df7', 'name': 'ChatOpenAI', 'tags': ['seq:step:3', 'agent_llm'], 'metadata': {'ls_provider': 'openai', 'ls_model_name': 'gpt-4o-mini', 'ls_model_type': 'chat', 'ls_temperature': None, 'LANGSMITH_ENDPOINT': 'https://api.smith.langchain.com', 'LANGSMITH_PROJECT': 'tutorial-project', 'LANGSMITH_TRACING': 'true', 'revision_id': '173a2d5-dirty'}, 'parent_ids': ['cc40f459-4c60-4ae4-a001-c05ec6b1ff43', '22338bbe-5c19-439d-bea7-02bfe2c712ce']}\n",
      "{'event': 'on_parser_start', 'data': {'input': AIMessageChunk(content='', additional_kwargs={'tool_calls': [{'index': 0, 'id': 'call_ruzMK5GmxujuEOOaNMAroNiz', 'function': {'arguments': '{\"place\":\"On the Bed\"}', 'name': 'getItems'}, 'type': 'function'}]}, response_metadata={'finish_reason': 'tool_calls', 'model_name': 'gpt-4o-mini-2024-07-18', 'system_fingerprint': 'fp_34a54ae93c'}, id='run--5a523fc4-13f8-4ad7-ac92-aaa885a15df7', tool_calls=[{'name': 'getItems', 'args': {'place': 'On the Bed'}, 'id': 'call_ruzMK5GmxujuEOOaNMAroNiz', 'type': 'tool_call'}], tool_call_chunks=[{'name': 'getItems', 'args': '{\"place\":\"On the Bed\"}', 'id': 'call_ruzMK5GmxujuEOOaNMAroNiz', 'index': 0, 'type': 'tool_call_chunk'}])}, 'name': 'OpenAIToolsAgentOutputParser', 'tags': ['seq:step:4'], 'run_id': 'a1371580-a576-4121-bec7-922fca4d2af9', 'metadata': {}, 'parent_ids': ['cc40f459-4c60-4ae4-a001-c05ec6b1ff43', '22338bbe-5c19-439d-bea7-02bfe2c712ce']}\n",
      "{'event': 'on_parser_end', 'data': {'output': [ToolAgentAction(tool='getItems', tool_input={'place': 'On the Bed'}, log=\"\\nInvoking: `getItems` with `{'place': 'On the Bed'}`\\n\\n\\n\", message_log=[AIMessageChunk(content='', additional_kwargs={'tool_calls': [{'index': 0, 'id': 'call_ruzMK5GmxujuEOOaNMAroNiz', 'function': {'arguments': '{\"place\":\"On the Bed\"}', 'name': 'getItems'}, 'type': 'function'}]}, response_metadata={'finish_reason': 'tool_calls', 'model_name': 'gpt-4o-mini-2024-07-18', 'system_fingerprint': 'fp_34a54ae93c'}, id='run--5a523fc4-13f8-4ad7-ac92-aaa885a15df7', tool_calls=[{'name': 'getItems', 'args': {'place': 'On the Bed'}, 'id': 'call_ruzMK5GmxujuEOOaNMAroNiz', 'type': 'tool_call'}], tool_call_chunks=[{'name': 'getItems', 'args': '{\"place\":\"On the Bed\"}', 'id': 'call_ruzMK5GmxujuEOOaNMAroNiz', 'index': 0, 'type': 'tool_call_chunk'}])], tool_call_id='call_ruzMK5GmxujuEOOaNMAroNiz')], 'input': AIMessageChunk(content='', additional_kwargs={'tool_calls': [{'index': 0, 'id': 'call_ruzMK5GmxujuEOOaNMAroNiz', 'function': {'arguments': '{\"place\":\"On the Bed\"}', 'name': 'getItems'}, 'type': 'function'}]}, response_metadata={'finish_reason': 'tool_calls', 'model_name': 'gpt-4o-mini-2024-07-18', 'system_fingerprint': 'fp_34a54ae93c'}, id='run--5a523fc4-13f8-4ad7-ac92-aaa885a15df7', tool_calls=[{'name': 'getItems', 'args': {'place': 'On the Bed'}, 'id': 'call_ruzMK5GmxujuEOOaNMAroNiz', 'type': 'tool_call'}], tool_call_chunks=[{'name': 'getItems', 'args': '{\"place\":\"On the Bed\"}', 'id': 'call_ruzMK5GmxujuEOOaNMAroNiz', 'index': 0, 'type': 'tool_call_chunk'}])}, 'run_id': 'a1371580-a576-4121-bec7-922fca4d2af9', 'name': 'OpenAIToolsAgentOutputParser', 'tags': ['seq:step:4'], 'metadata': {}, 'parent_ids': ['cc40f459-4c60-4ae4-a001-c05ec6b1ff43', '22338bbe-5c19-439d-bea7-02bfe2c712ce']}\n",
      "{'event': 'on_chain_stream', 'run_id': '22338bbe-5c19-439d-bea7-02bfe2c712ce', 'name': 'RunnableSequence', 'tags': [], 'metadata': {}, 'data': {'chunk': [ToolAgentAction(tool='getItems', tool_input={'place': 'On the Bed'}, log=\"\\nInvoking: `getItems` with `{'place': 'On the Bed'}`\\n\\n\\n\", message_log=[AIMessageChunk(content='', additional_kwargs={'tool_calls': [{'index': 0, 'id': 'call_ruzMK5GmxujuEOOaNMAroNiz', 'function': {'arguments': '{\"place\":\"On the Bed\"}', 'name': 'getItems'}, 'type': 'function'}]}, response_metadata={'finish_reason': 'tool_calls', 'model_name': 'gpt-4o-mini-2024-07-18', 'system_fingerprint': 'fp_34a54ae93c'}, id='run--5a523fc4-13f8-4ad7-ac92-aaa885a15df7', tool_calls=[{'name': 'getItems', 'args': {'place': 'On the Bed'}, 'id': 'call_ruzMK5GmxujuEOOaNMAroNiz', 'type': 'tool_call'}], tool_call_chunks=[{'name': 'getItems', 'args': '{\"place\":\"On the Bed\"}', 'id': 'call_ruzMK5GmxujuEOOaNMAroNiz', 'index': 0, 'type': 'tool_call_chunk'}])], tool_call_id='call_ruzMK5GmxujuEOOaNMAroNiz')]}, 'parent_ids': ['cc40f459-4c60-4ae4-a001-c05ec6b1ff43']}\n",
      "{'event': 'on_chain_end', 'data': {'output': [ToolAgentAction(tool='getItems', tool_input={'place': 'On the Bed'}, log=\"\\nInvoking: `getItems` with `{'place': 'On the Bed'}`\\n\\n\\n\", message_log=[AIMessageChunk(content='', additional_kwargs={'tool_calls': [{'index': 0, 'id': 'call_ruzMK5GmxujuEOOaNMAroNiz', 'function': {'arguments': '{\"place\":\"On the Bed\"}', 'name': 'getItems'}, 'type': 'function'}]}, response_metadata={'finish_reason': 'tool_calls', 'model_name': 'gpt-4o-mini-2024-07-18', 'system_fingerprint': 'fp_34a54ae93c'}, id='run--5a523fc4-13f8-4ad7-ac92-aaa885a15df7', tool_calls=[{'name': 'getItems', 'args': {'place': 'On the Bed'}, 'id': 'call_ruzMK5GmxujuEOOaNMAroNiz', 'type': 'tool_call'}], tool_call_chunks=[{'name': 'getItems', 'args': '{\"place\":\"On the Bed\"}', 'id': 'call_ruzMK5GmxujuEOOaNMAroNiz', 'index': 0, 'type': 'tool_call_chunk'}])], tool_call_id='call_ruzMK5GmxujuEOOaNMAroNiz')], 'input': {'input': 'What items are located where the cat is hiding?', 'intermediate_steps': [(ToolAgentAction(tool='whereCatisHiding', tool_input={}, log='\\nInvoking: `whereCatisHiding` with `{}`\\n\\n\\n', message_log=[AIMessageChunk(content='', additional_kwargs={'tool_calls': [{'index': 0, 'id': 'call_FfLucD8dOsQ8w7145SGUFyQb', 'function': {'arguments': '{}', 'name': 'whereCatisHiding'}, 'type': 'function'}]}, response_metadata={'finish_reason': 'tool_calls', 'model_name': 'gpt-4o-mini-2024-07-18', 'system_fingerprint': 'fp_34a54ae93c'}, id='run--d97f8c1e-4589-41fd-854b-eb1ec3ecd43b', tool_calls=[{'name': 'whereCatisHiding', 'args': {}, 'id': 'call_FfLucD8dOsQ8w7145SGUFyQb', 'type': 'tool_call'}], tool_call_chunks=[{'name': 'whereCatisHiding', 'args': '{}', 'id': 'call_FfLucD8dOsQ8w7145SGUFyQb', 'index': 0, 'type': 'tool_call_chunk'}])], tool_call_id='call_FfLucD8dOsQ8w7145SGUFyQb'), 'On the Bed')]}}, 'run_id': '22338bbe-5c19-439d-bea7-02bfe2c712ce', 'name': 'RunnableSequence', 'tags': [], 'metadata': {}, 'parent_ids': ['cc40f459-4c60-4ae4-a001-c05ec6b1ff43']}\n",
      "{'event': 'on_chain_stream', 'run_id': 'cc40f459-4c60-4ae4-a001-c05ec6b1ff43', 'name': 'Agent', 'tags': [], 'metadata': {}, 'data': {'chunk': {'actions': [ToolAgentAction(tool='getItems', tool_input={'place': 'On the Bed'}, log=\"\\nInvoking: `getItems` with `{'place': 'On the Bed'}`\\n\\n\\n\", message_log=[AIMessageChunk(content='', additional_kwargs={'tool_calls': [{'index': 0, 'id': 'call_ruzMK5GmxujuEOOaNMAroNiz', 'function': {'arguments': '{\"place\":\"On the Bed\"}', 'name': 'getItems'}, 'type': 'function'}]}, response_metadata={'finish_reason': 'tool_calls', 'model_name': 'gpt-4o-mini-2024-07-18', 'system_fingerprint': 'fp_34a54ae93c'}, id='run--5a523fc4-13f8-4ad7-ac92-aaa885a15df7', tool_calls=[{'name': 'getItems', 'args': {'place': 'On the Bed'}, 'id': 'call_ruzMK5GmxujuEOOaNMAroNiz', 'type': 'tool_call'}], tool_call_chunks=[{'name': 'getItems', 'args': '{\"place\":\"On the Bed\"}', 'id': 'call_ruzMK5GmxujuEOOaNMAroNiz', 'index': 0, 'type': 'tool_call_chunk'}])], tool_call_id='call_ruzMK5GmxujuEOOaNMAroNiz')], 'messages': [AIMessageChunk(content='', additional_kwargs={'tool_calls': [{'index': 0, 'id': 'call_ruzMK5GmxujuEOOaNMAroNiz', 'function': {'arguments': '{\"place\":\"On the Bed\"}', 'name': 'getItems'}, 'type': 'function'}]}, response_metadata={'finish_reason': 'tool_calls', 'model_name': 'gpt-4o-mini-2024-07-18', 'system_fingerprint': 'fp_34a54ae93c'}, id='run--5a523fc4-13f8-4ad7-ac92-aaa885a15df7', tool_calls=[{'name': 'getItems', 'args': {'place': 'On the Bed'}, 'id': 'call_ruzMK5GmxujuEOOaNMAroNiz', 'type': 'tool_call'}], tool_call_chunks=[{'name': 'getItems', 'args': '{\"place\":\"On the Bed\"}', 'id': 'call_ruzMK5GmxujuEOOaNMAroNiz', 'index': 0, 'type': 'tool_call_chunk'}])]}}, 'parent_ids': []}\n",
      "{'event': 'on_tool_start', 'data': {'input': {'place': 'On the Bed'}}, 'name': 'getItems', 'tags': [], 'run_id': 'c5217ab7-90a4-4105-a130-d48cbb315c30', 'metadata': {}, 'parent_ids': ['cc40f459-4c60-4ae4-a001-c05ec6b1ff43']}\n",
      "{'event': 'on_tool_end', 'data': {'output': 'cat snacks', 'input': {'place': 'On the Bed'}}, 'run_id': 'c5217ab7-90a4-4105-a130-d48cbb315c30', 'name': 'getItems', 'tags': [], 'metadata': {}, 'parent_ids': ['cc40f459-4c60-4ae4-a001-c05ec6b1ff43']}\n",
      "{'event': 'on_chain_stream', 'run_id': 'cc40f459-4c60-4ae4-a001-c05ec6b1ff43', 'name': 'Agent', 'tags': [], 'metadata': {}, 'data': {'chunk': {'steps': [AgentStep(action=ToolAgentAction(tool='getItems', tool_input={'place': 'On the Bed'}, log=\"\\nInvoking: `getItems` with `{'place': 'On the Bed'}`\\n\\n\\n\", message_log=[AIMessageChunk(content='', additional_kwargs={'tool_calls': [{'index': 0, 'id': 'call_ruzMK5GmxujuEOOaNMAroNiz', 'function': {'arguments': '{\"place\":\"On the Bed\"}', 'name': 'getItems'}, 'type': 'function'}]}, response_metadata={'finish_reason': 'tool_calls', 'model_name': 'gpt-4o-mini-2024-07-18', 'system_fingerprint': 'fp_34a54ae93c'}, id='run--5a523fc4-13f8-4ad7-ac92-aaa885a15df7', tool_calls=[{'name': 'getItems', 'args': {'place': 'On the Bed'}, 'id': 'call_ruzMK5GmxujuEOOaNMAroNiz', 'type': 'tool_call'}], tool_call_chunks=[{'name': 'getItems', 'args': '{\"place\":\"On the Bed\"}', 'id': 'call_ruzMK5GmxujuEOOaNMAroNiz', 'index': 0, 'type': 'tool_call_chunk'}])], tool_call_id='call_ruzMK5GmxujuEOOaNMAroNiz'), observation='cat snacks')], 'messages': [FunctionMessage(content='cat snacks', additional_kwargs={}, response_metadata={}, name='getItems')]}}, 'parent_ids': []}\n",
      "{'event': 'on_chain_start', 'data': {}, 'name': 'RunnableSequence', 'tags': [], 'run_id': '81a1d8ad-cbb5-46f0-81c5-92ee0fefd530', 'metadata': {}, 'parent_ids': ['cc40f459-4c60-4ae4-a001-c05ec6b1ff43']}\n",
      "{'event': 'on_chain_start', 'data': {}, 'name': 'RunnableAssign<agent_scratchpad>', 'tags': ['seq:step:1'], 'run_id': '57e31639-22e9-41aa-9885-c0dc19c3c1e5', 'metadata': {}, 'parent_ids': ['cc40f459-4c60-4ae4-a001-c05ec6b1ff43', '81a1d8ad-cbb5-46f0-81c5-92ee0fefd530']}\n",
      "{'event': 'on_chain_stream', 'run_id': '57e31639-22e9-41aa-9885-c0dc19c3c1e5', 'name': 'RunnableAssign<agent_scratchpad>', 'tags': ['seq:step:1'], 'metadata': {}, 'data': {'chunk': {'input': 'What items are located where the cat is hiding?', 'intermediate_steps': [(ToolAgentAction(tool='whereCatisHiding', tool_input={}, log='\\nInvoking: `whereCatisHiding` with `{}`\\n\\n\\n', message_log=[AIMessageChunk(content='', additional_kwargs={'tool_calls': [{'index': 0, 'id': 'call_FfLucD8dOsQ8w7145SGUFyQb', 'function': {'arguments': '{}', 'name': 'whereCatisHiding'}, 'type': 'function'}]}, response_metadata={'finish_reason': 'tool_calls', 'model_name': 'gpt-4o-mini-2024-07-18', 'system_fingerprint': 'fp_34a54ae93c'}, id='run--d97f8c1e-4589-41fd-854b-eb1ec3ecd43b', tool_calls=[{'name': 'whereCatisHiding', 'args': {}, 'id': 'call_FfLucD8dOsQ8w7145SGUFyQb', 'type': 'tool_call'}], tool_call_chunks=[{'name': 'whereCatisHiding', 'args': '{}', 'id': 'call_FfLucD8dOsQ8w7145SGUFyQb', 'index': 0, 'type': 'tool_call_chunk'}])], tool_call_id='call_FfLucD8dOsQ8w7145SGUFyQb'), 'On the Bed'), (ToolAgentAction(tool='getItems', tool_input={'place': 'On the Bed'}, log=\"\\nInvoking: `getItems` with `{'place': 'On the Bed'}`\\n\\n\\n\", message_log=[AIMessageChunk(content='', additional_kwargs={'tool_calls': [{'index': 0, 'id': 'call_ruzMK5GmxujuEOOaNMAroNiz', 'function': {'arguments': '{\"place\":\"On the Bed\"}', 'name': 'getItems'}, 'type': 'function'}]}, response_metadata={'finish_reason': 'tool_calls', 'model_name': 'gpt-4o-mini-2024-07-18', 'system_fingerprint': 'fp_34a54ae93c'}, id='run--5a523fc4-13f8-4ad7-ac92-aaa885a15df7', tool_calls=[{'name': 'getItems', 'args': {'place': 'On the Bed'}, 'id': 'call_ruzMK5GmxujuEOOaNMAroNiz', 'type': 'tool_call'}], tool_call_chunks=[{'name': 'getItems', 'args': '{\"place\":\"On the Bed\"}', 'id': 'call_ruzMK5GmxujuEOOaNMAroNiz', 'index': 0, 'type': 'tool_call_chunk'}])], tool_call_id='call_ruzMK5GmxujuEOOaNMAroNiz'), 'cat snacks')]}}, 'parent_ids': ['cc40f459-4c60-4ae4-a001-c05ec6b1ff43', '81a1d8ad-cbb5-46f0-81c5-92ee0fefd530']}\n",
      "{'event': 'on_chain_start', 'data': {}, 'name': 'RunnableParallel<agent_scratchpad>', 'tags': [], 'run_id': '87f2ec8f-6872-4f6a-bb5c-a1810211bf2e', 'metadata': {}, 'parent_ids': ['cc40f459-4c60-4ae4-a001-c05ec6b1ff43', '81a1d8ad-cbb5-46f0-81c5-92ee0fefd530', '57e31639-22e9-41aa-9885-c0dc19c3c1e5']}\n",
      "{'event': 'on_chain_start', 'data': {}, 'name': 'RunnableLambda', 'tags': ['map:key:agent_scratchpad'], 'run_id': '8111a8ba-6a0f-4ccd-95f5-cd0ef1a2d489', 'metadata': {}, 'parent_ids': ['cc40f459-4c60-4ae4-a001-c05ec6b1ff43', '81a1d8ad-cbb5-46f0-81c5-92ee0fefd530', '57e31639-22e9-41aa-9885-c0dc19c3c1e5', '87f2ec8f-6872-4f6a-bb5c-a1810211bf2e']}\n",
      "{'event': 'on_chain_stream', 'run_id': '8111a8ba-6a0f-4ccd-95f5-cd0ef1a2d489', 'name': 'RunnableLambda', 'tags': ['map:key:agent_scratchpad'], 'metadata': {}, 'data': {'chunk': [AIMessageChunk(content='', additional_kwargs={'tool_calls': [{'index': 0, 'id': 'call_FfLucD8dOsQ8w7145SGUFyQb', 'function': {'arguments': '{}', 'name': 'whereCatisHiding'}, 'type': 'function'}]}, response_metadata={'finish_reason': 'tool_calls', 'model_name': 'gpt-4o-mini-2024-07-18', 'system_fingerprint': 'fp_34a54ae93c'}, id='run--d97f8c1e-4589-41fd-854b-eb1ec3ecd43b', tool_calls=[{'name': 'whereCatisHiding', 'args': {}, 'id': 'call_FfLucD8dOsQ8w7145SGUFyQb', 'type': 'tool_call'}], tool_call_chunks=[{'name': 'whereCatisHiding', 'args': '{}', 'id': 'call_FfLucD8dOsQ8w7145SGUFyQb', 'index': 0, 'type': 'tool_call_chunk'}]), ToolMessage(content='On the Bed', tool_call_id='call_FfLucD8dOsQ8w7145SGUFyQb'), AIMessageChunk(content='', additional_kwargs={'tool_calls': [{'index': 0, 'id': 'call_ruzMK5GmxujuEOOaNMAroNiz', 'function': {'arguments': '{\"place\":\"On the Bed\"}', 'name': 'getItems'}, 'type': 'function'}]}, response_metadata={'finish_reason': 'tool_calls', 'model_name': 'gpt-4o-mini-2024-07-18', 'system_fingerprint': 'fp_34a54ae93c'}, id='run--5a523fc4-13f8-4ad7-ac92-aaa885a15df7', tool_calls=[{'name': 'getItems', 'args': {'place': 'On the Bed'}, 'id': 'call_ruzMK5GmxujuEOOaNMAroNiz', 'type': 'tool_call'}], tool_call_chunks=[{'name': 'getItems', 'args': '{\"place\":\"On the Bed\"}', 'id': 'call_ruzMK5GmxujuEOOaNMAroNiz', 'index': 0, 'type': 'tool_call_chunk'}]), ToolMessage(content='cat snacks', tool_call_id='call_ruzMK5GmxujuEOOaNMAroNiz')]}, 'parent_ids': ['cc40f459-4c60-4ae4-a001-c05ec6b1ff43', '81a1d8ad-cbb5-46f0-81c5-92ee0fefd530', '57e31639-22e9-41aa-9885-c0dc19c3c1e5', '87f2ec8f-6872-4f6a-bb5c-a1810211bf2e']}\n",
      "{'event': 'on_chain_stream', 'run_id': '87f2ec8f-6872-4f6a-bb5c-a1810211bf2e', 'name': 'RunnableParallel<agent_scratchpad>', 'tags': [], 'metadata': {}, 'data': {'chunk': {'agent_scratchpad': [AIMessageChunk(content='', additional_kwargs={'tool_calls': [{'index': 0, 'id': 'call_FfLucD8dOsQ8w7145SGUFyQb', 'function': {'arguments': '{}', 'name': 'whereCatisHiding'}, 'type': 'function'}]}, response_metadata={'finish_reason': 'tool_calls', 'model_name': 'gpt-4o-mini-2024-07-18', 'system_fingerprint': 'fp_34a54ae93c'}, id='run--d97f8c1e-4589-41fd-854b-eb1ec3ecd43b', tool_calls=[{'name': 'whereCatisHiding', 'args': {}, 'id': 'call_FfLucD8dOsQ8w7145SGUFyQb', 'type': 'tool_call'}], tool_call_chunks=[{'name': 'whereCatisHiding', 'args': '{}', 'id': 'call_FfLucD8dOsQ8w7145SGUFyQb', 'index': 0, 'type': 'tool_call_chunk'}]), ToolMessage(content='On the Bed', tool_call_id='call_FfLucD8dOsQ8w7145SGUFyQb'), AIMessageChunk(content='', additional_kwargs={'tool_calls': [{'index': 0, 'id': 'call_ruzMK5GmxujuEOOaNMAroNiz', 'function': {'arguments': '{\"place\":\"On the Bed\"}', 'name': 'getItems'}, 'type': 'function'}]}, response_metadata={'finish_reason': 'tool_calls', 'model_name': 'gpt-4o-mini-2024-07-18', 'system_fingerprint': 'fp_34a54ae93c'}, id='run--5a523fc4-13f8-4ad7-ac92-aaa885a15df7', tool_calls=[{'name': 'getItems', 'args': {'place': 'On the Bed'}, 'id': 'call_ruzMK5GmxujuEOOaNMAroNiz', 'type': 'tool_call'}], tool_call_chunks=[{'name': 'getItems', 'args': '{\"place\":\"On the Bed\"}', 'id': 'call_ruzMK5GmxujuEOOaNMAroNiz', 'index': 0, 'type': 'tool_call_chunk'}]), ToolMessage(content='cat snacks', tool_call_id='call_ruzMK5GmxujuEOOaNMAroNiz')]}}, 'parent_ids': ['cc40f459-4c60-4ae4-a001-c05ec6b1ff43', '81a1d8ad-cbb5-46f0-81c5-92ee0fefd530', '57e31639-22e9-41aa-9885-c0dc19c3c1e5']}\n",
      "{'event': 'on_chain_stream', 'run_id': '57e31639-22e9-41aa-9885-c0dc19c3c1e5', 'name': 'RunnableAssign<agent_scratchpad>', 'tags': ['seq:step:1'], 'metadata': {}, 'data': {'chunk': {'agent_scratchpad': [AIMessageChunk(content='', additional_kwargs={'tool_calls': [{'index': 0, 'id': 'call_FfLucD8dOsQ8w7145SGUFyQb', 'function': {'arguments': '{}', 'name': 'whereCatisHiding'}, 'type': 'function'}]}, response_metadata={'finish_reason': 'tool_calls', 'model_name': 'gpt-4o-mini-2024-07-18', 'system_fingerprint': 'fp_34a54ae93c'}, id='run--d97f8c1e-4589-41fd-854b-eb1ec3ecd43b', tool_calls=[{'name': 'whereCatisHiding', 'args': {}, 'id': 'call_FfLucD8dOsQ8w7145SGUFyQb', 'type': 'tool_call'}], tool_call_chunks=[{'name': 'whereCatisHiding', 'args': '{}', 'id': 'call_FfLucD8dOsQ8w7145SGUFyQb', 'index': 0, 'type': 'tool_call_chunk'}]), ToolMessage(content='On the Bed', tool_call_id='call_FfLucD8dOsQ8w7145SGUFyQb'), AIMessageChunk(content='', additional_kwargs={'tool_calls': [{'index': 0, 'id': 'call_ruzMK5GmxujuEOOaNMAroNiz', 'function': {'arguments': '{\"place\":\"On the Bed\"}', 'name': 'getItems'}, 'type': 'function'}]}, response_metadata={'finish_reason': 'tool_calls', 'model_name': 'gpt-4o-mini-2024-07-18', 'system_fingerprint': 'fp_34a54ae93c'}, id='run--5a523fc4-13f8-4ad7-ac92-aaa885a15df7', tool_calls=[{'name': 'getItems', 'args': {'place': 'On the Bed'}, 'id': 'call_ruzMK5GmxujuEOOaNMAroNiz', 'type': 'tool_call'}], tool_call_chunks=[{'name': 'getItems', 'args': '{\"place\":\"On the Bed\"}', 'id': 'call_ruzMK5GmxujuEOOaNMAroNiz', 'index': 0, 'type': 'tool_call_chunk'}]), ToolMessage(content='cat snacks', tool_call_id='call_ruzMK5GmxujuEOOaNMAroNiz')]}}, 'parent_ids': ['cc40f459-4c60-4ae4-a001-c05ec6b1ff43', '81a1d8ad-cbb5-46f0-81c5-92ee0fefd530']}\n",
      "{'event': 'on_chain_end', 'data': {'output': [AIMessageChunk(content='', additional_kwargs={'tool_calls': [{'index': 0, 'id': 'call_FfLucD8dOsQ8w7145SGUFyQb', 'function': {'arguments': '{}', 'name': 'whereCatisHiding'}, 'type': 'function'}]}, response_metadata={'finish_reason': 'tool_calls', 'model_name': 'gpt-4o-mini-2024-07-18', 'system_fingerprint': 'fp_34a54ae93c'}, id='run--d97f8c1e-4589-41fd-854b-eb1ec3ecd43b', tool_calls=[{'name': 'whereCatisHiding', 'args': {}, 'id': 'call_FfLucD8dOsQ8w7145SGUFyQb', 'type': 'tool_call'}], tool_call_chunks=[{'name': 'whereCatisHiding', 'args': '{}', 'id': 'call_FfLucD8dOsQ8w7145SGUFyQb', 'index': 0, 'type': 'tool_call_chunk'}]), ToolMessage(content='On the Bed', tool_call_id='call_FfLucD8dOsQ8w7145SGUFyQb'), AIMessageChunk(content='', additional_kwargs={'tool_calls': [{'index': 0, 'id': 'call_ruzMK5GmxujuEOOaNMAroNiz', 'function': {'arguments': '{\"place\":\"On the Bed\"}', 'name': 'getItems'}, 'type': 'function'}]}, response_metadata={'finish_reason': 'tool_calls', 'model_name': 'gpt-4o-mini-2024-07-18', 'system_fingerprint': 'fp_34a54ae93c'}, id='run--5a523fc4-13f8-4ad7-ac92-aaa885a15df7', tool_calls=[{'name': 'getItems', 'args': {'place': 'On the Bed'}, 'id': 'call_ruzMK5GmxujuEOOaNMAroNiz', 'type': 'tool_call'}], tool_call_chunks=[{'name': 'getItems', 'args': '{\"place\":\"On the Bed\"}', 'id': 'call_ruzMK5GmxujuEOOaNMAroNiz', 'index': 0, 'type': 'tool_call_chunk'}]), ToolMessage(content='cat snacks', tool_call_id='call_ruzMK5GmxujuEOOaNMAroNiz')], 'input': {'input': 'What items are located where the cat is hiding?', 'intermediate_steps': [(ToolAgentAction(tool='whereCatisHiding', tool_input={}, log='\\nInvoking: `whereCatisHiding` with `{}`\\n\\n\\n', message_log=[AIMessageChunk(content='', additional_kwargs={'tool_calls': [{'index': 0, 'id': 'call_FfLucD8dOsQ8w7145SGUFyQb', 'function': {'arguments': '{}', 'name': 'whereCatisHiding'}, 'type': 'function'}]}, response_metadata={'finish_reason': 'tool_calls', 'model_name': 'gpt-4o-mini-2024-07-18', 'system_fingerprint': 'fp_34a54ae93c'}, id='run--d97f8c1e-4589-41fd-854b-eb1ec3ecd43b', tool_calls=[{'name': 'whereCatisHiding', 'args': {}, 'id': 'call_FfLucD8dOsQ8w7145SGUFyQb', 'type': 'tool_call'}], tool_call_chunks=[{'name': 'whereCatisHiding', 'args': '{}', 'id': 'call_FfLucD8dOsQ8w7145SGUFyQb', 'index': 0, 'type': 'tool_call_chunk'}])], tool_call_id='call_FfLucD8dOsQ8w7145SGUFyQb'), 'On the Bed'), (ToolAgentAction(tool='getItems', tool_input={'place': 'On the Bed'}, log=\"\\nInvoking: `getItems` with `{'place': 'On the Bed'}`\\n\\n\\n\", message_log=[AIMessageChunk(content='', additional_kwargs={'tool_calls': [{'index': 0, 'id': 'call_ruzMK5GmxujuEOOaNMAroNiz', 'function': {'arguments': '{\"place\":\"On the Bed\"}', 'name': 'getItems'}, 'type': 'function'}]}, response_metadata={'finish_reason': 'tool_calls', 'model_name': 'gpt-4o-mini-2024-07-18', 'system_fingerprint': 'fp_34a54ae93c'}, id='run--5a523fc4-13f8-4ad7-ac92-aaa885a15df7', tool_calls=[{'name': 'getItems', 'args': {'place': 'On the Bed'}, 'id': 'call_ruzMK5GmxujuEOOaNMAroNiz', 'type': 'tool_call'}], tool_call_chunks=[{'name': 'getItems', 'args': '{\"place\":\"On the Bed\"}', 'id': 'call_ruzMK5GmxujuEOOaNMAroNiz', 'index': 0, 'type': 'tool_call_chunk'}])], tool_call_id='call_ruzMK5GmxujuEOOaNMAroNiz'), 'cat snacks')]}}, 'run_id': '8111a8ba-6a0f-4ccd-95f5-cd0ef1a2d489', 'name': 'RunnableLambda', 'tags': ['map:key:agent_scratchpad'], 'metadata': {}, 'parent_ids': ['cc40f459-4c60-4ae4-a001-c05ec6b1ff43', '81a1d8ad-cbb5-46f0-81c5-92ee0fefd530', '57e31639-22e9-41aa-9885-c0dc19c3c1e5', '87f2ec8f-6872-4f6a-bb5c-a1810211bf2e']}\n",
      "{'event': 'on_chain_end', 'data': {'output': {'agent_scratchpad': [AIMessageChunk(content='', additional_kwargs={'tool_calls': [{'index': 0, 'id': 'call_FfLucD8dOsQ8w7145SGUFyQb', 'function': {'arguments': '{}', 'name': 'whereCatisHiding'}, 'type': 'function'}]}, response_metadata={'finish_reason': 'tool_calls', 'model_name': 'gpt-4o-mini-2024-07-18', 'system_fingerprint': 'fp_34a54ae93c'}, id='run--d97f8c1e-4589-41fd-854b-eb1ec3ecd43b', tool_calls=[{'name': 'whereCatisHiding', 'args': {}, 'id': 'call_FfLucD8dOsQ8w7145SGUFyQb', 'type': 'tool_call'}], tool_call_chunks=[{'name': 'whereCatisHiding', 'args': '{}', 'id': 'call_FfLucD8dOsQ8w7145SGUFyQb', 'index': 0, 'type': 'tool_call_chunk'}]), ToolMessage(content='On the Bed', tool_call_id='call_FfLucD8dOsQ8w7145SGUFyQb'), AIMessageChunk(content='', additional_kwargs={'tool_calls': [{'index': 0, 'id': 'call_ruzMK5GmxujuEOOaNMAroNiz', 'function': {'arguments': '{\"place\":\"On the Bed\"}', 'name': 'getItems'}, 'type': 'function'}]}, response_metadata={'finish_reason': 'tool_calls', 'model_name': 'gpt-4o-mini-2024-07-18', 'system_fingerprint': 'fp_34a54ae93c'}, id='run--5a523fc4-13f8-4ad7-ac92-aaa885a15df7', tool_calls=[{'name': 'getItems', 'args': {'place': 'On the Bed'}, 'id': 'call_ruzMK5GmxujuEOOaNMAroNiz', 'type': 'tool_call'}], tool_call_chunks=[{'name': 'getItems', 'args': '{\"place\":\"On the Bed\"}', 'id': 'call_ruzMK5GmxujuEOOaNMAroNiz', 'index': 0, 'type': 'tool_call_chunk'}]), ToolMessage(content='cat snacks', tool_call_id='call_ruzMK5GmxujuEOOaNMAroNiz')]}, 'input': {'input': 'What items are located where the cat is hiding?', 'intermediate_steps': [(ToolAgentAction(tool='whereCatisHiding', tool_input={}, log='\\nInvoking: `whereCatisHiding` with `{}`\\n\\n\\n', message_log=[AIMessageChunk(content='', additional_kwargs={'tool_calls': [{'index': 0, 'id': 'call_FfLucD8dOsQ8w7145SGUFyQb', 'function': {'arguments': '{}', 'name': 'whereCatisHiding'}, 'type': 'function'}]}, response_metadata={'finish_reason': 'tool_calls', 'model_name': 'gpt-4o-mini-2024-07-18', 'system_fingerprint': 'fp_34a54ae93c'}, id='run--d97f8c1e-4589-41fd-854b-eb1ec3ecd43b', tool_calls=[{'name': 'whereCatisHiding', 'args': {}, 'id': 'call_FfLucD8dOsQ8w7145SGUFyQb', 'type': 'tool_call'}], tool_call_chunks=[{'name': 'whereCatisHiding', 'args': '{}', 'id': 'call_FfLucD8dOsQ8w7145SGUFyQb', 'index': 0, 'type': 'tool_call_chunk'}])], tool_call_id='call_FfLucD8dOsQ8w7145SGUFyQb'), 'On the Bed'), (ToolAgentAction(tool='getItems', tool_input={'place': 'On the Bed'}, log=\"\\nInvoking: `getItems` with `{'place': 'On the Bed'}`\\n\\n\\n\", message_log=[AIMessageChunk(content='', additional_kwargs={'tool_calls': [{'index': 0, 'id': 'call_ruzMK5GmxujuEOOaNMAroNiz', 'function': {'arguments': '{\"place\":\"On the Bed\"}', 'name': 'getItems'}, 'type': 'function'}]}, response_metadata={'finish_reason': 'tool_calls', 'model_name': 'gpt-4o-mini-2024-07-18', 'system_fingerprint': 'fp_34a54ae93c'}, id='run--5a523fc4-13f8-4ad7-ac92-aaa885a15df7', tool_calls=[{'name': 'getItems', 'args': {'place': 'On the Bed'}, 'id': 'call_ruzMK5GmxujuEOOaNMAroNiz', 'type': 'tool_call'}], tool_call_chunks=[{'name': 'getItems', 'args': '{\"place\":\"On the Bed\"}', 'id': 'call_ruzMK5GmxujuEOOaNMAroNiz', 'index': 0, 'type': 'tool_call_chunk'}])], tool_call_id='call_ruzMK5GmxujuEOOaNMAroNiz'), 'cat snacks')]}}, 'run_id': '87f2ec8f-6872-4f6a-bb5c-a1810211bf2e', 'name': 'RunnableParallel<agent_scratchpad>', 'tags': [], 'metadata': {}, 'parent_ids': ['cc40f459-4c60-4ae4-a001-c05ec6b1ff43', '81a1d8ad-cbb5-46f0-81c5-92ee0fefd530', '57e31639-22e9-41aa-9885-c0dc19c3c1e5']}\n",
      "{'event': 'on_chain_end', 'data': {'output': {'input': 'What items are located where the cat is hiding?', 'intermediate_steps': [(ToolAgentAction(tool='whereCatisHiding', tool_input={}, log='\\nInvoking: `whereCatisHiding` with `{}`\\n\\n\\n', message_log=[AIMessageChunk(content='', additional_kwargs={'tool_calls': [{'index': 0, 'id': 'call_FfLucD8dOsQ8w7145SGUFyQb', 'function': {'arguments': '{}', 'name': 'whereCatisHiding'}, 'type': 'function'}]}, response_metadata={'finish_reason': 'tool_calls', 'model_name': 'gpt-4o-mini-2024-07-18', 'system_fingerprint': 'fp_34a54ae93c'}, id='run--d97f8c1e-4589-41fd-854b-eb1ec3ecd43b', tool_calls=[{'name': 'whereCatisHiding', 'args': {}, 'id': 'call_FfLucD8dOsQ8w7145SGUFyQb', 'type': 'tool_call'}], tool_call_chunks=[{'name': 'whereCatisHiding', 'args': '{}', 'id': 'call_FfLucD8dOsQ8w7145SGUFyQb', 'index': 0, 'type': 'tool_call_chunk'}])], tool_call_id='call_FfLucD8dOsQ8w7145SGUFyQb'), 'On the Bed'), (ToolAgentAction(tool='getItems', tool_input={'place': 'On the Bed'}, log=\"\\nInvoking: `getItems` with `{'place': 'On the Bed'}`\\n\\n\\n\", message_log=[AIMessageChunk(content='', additional_kwargs={'tool_calls': [{'index': 0, 'id': 'call_ruzMK5GmxujuEOOaNMAroNiz', 'function': {'arguments': '{\"place\":\"On the Bed\"}', 'name': 'getItems'}, 'type': 'function'}]}, response_metadata={'finish_reason': 'tool_calls', 'model_name': 'gpt-4o-mini-2024-07-18', 'system_fingerprint': 'fp_34a54ae93c'}, id='run--5a523fc4-13f8-4ad7-ac92-aaa885a15df7', tool_calls=[{'name': 'getItems', 'args': {'place': 'On the Bed'}, 'id': 'call_ruzMK5GmxujuEOOaNMAroNiz', 'type': 'tool_call'}], tool_call_chunks=[{'name': 'getItems', 'args': '{\"place\":\"On the Bed\"}', 'id': 'call_ruzMK5GmxujuEOOaNMAroNiz', 'index': 0, 'type': 'tool_call_chunk'}])], tool_call_id='call_ruzMK5GmxujuEOOaNMAroNiz'), 'cat snacks')], 'agent_scratchpad': [AIMessageChunk(content='', additional_kwargs={'tool_calls': [{'index': 0, 'id': 'call_FfLucD8dOsQ8w7145SGUFyQb', 'function': {'arguments': '{}', 'name': 'whereCatisHiding'}, 'type': 'function'}]}, response_metadata={'finish_reason': 'tool_calls', 'model_name': 'gpt-4o-mini-2024-07-18', 'system_fingerprint': 'fp_34a54ae93c'}, id='run--d97f8c1e-4589-41fd-854b-eb1ec3ecd43b', tool_calls=[{'name': 'whereCatisHiding', 'args': {}, 'id': 'call_FfLucD8dOsQ8w7145SGUFyQb', 'type': 'tool_call'}], tool_call_chunks=[{'name': 'whereCatisHiding', 'args': '{}', 'id': 'call_FfLucD8dOsQ8w7145SGUFyQb', 'index': 0, 'type': 'tool_call_chunk'}]), ToolMessage(content='On the Bed', tool_call_id='call_FfLucD8dOsQ8w7145SGUFyQb'), AIMessageChunk(content='', additional_kwargs={'tool_calls': [{'index': 0, 'id': 'call_ruzMK5GmxujuEOOaNMAroNiz', 'function': {'arguments': '{\"place\":\"On the Bed\"}', 'name': 'getItems'}, 'type': 'function'}]}, response_metadata={'finish_reason': 'tool_calls', 'model_name': 'gpt-4o-mini-2024-07-18', 'system_fingerprint': 'fp_34a54ae93c'}, id='run--5a523fc4-13f8-4ad7-ac92-aaa885a15df7', tool_calls=[{'name': 'getItems', 'args': {'place': 'On the Bed'}, 'id': 'call_ruzMK5GmxujuEOOaNMAroNiz', 'type': 'tool_call'}], tool_call_chunks=[{'name': 'getItems', 'args': '{\"place\":\"On the Bed\"}', 'id': 'call_ruzMK5GmxujuEOOaNMAroNiz', 'index': 0, 'type': 'tool_call_chunk'}]), ToolMessage(content='cat snacks', tool_call_id='call_ruzMK5GmxujuEOOaNMAroNiz')]}, 'input': {'input': 'What items are located where the cat is hiding?', 'intermediate_steps': [(ToolAgentAction(tool='whereCatisHiding', tool_input={}, log='\\nInvoking: `whereCatisHiding` with `{}`\\n\\n\\n', message_log=[AIMessageChunk(content='', additional_kwargs={'tool_calls': [{'index': 0, 'id': 'call_FfLucD8dOsQ8w7145SGUFyQb', 'function': {'arguments': '{}', 'name': 'whereCatisHiding'}, 'type': 'function'}]}, response_metadata={'finish_reason': 'tool_calls', 'model_name': 'gpt-4o-mini-2024-07-18', 'system_fingerprint': 'fp_34a54ae93c'}, id='run--d97f8c1e-4589-41fd-854b-eb1ec3ecd43b', tool_calls=[{'name': 'whereCatisHiding', 'args': {}, 'id': 'call_FfLucD8dOsQ8w7145SGUFyQb', 'type': 'tool_call'}], tool_call_chunks=[{'name': 'whereCatisHiding', 'args': '{}', 'id': 'call_FfLucD8dOsQ8w7145SGUFyQb', 'index': 0, 'type': 'tool_call_chunk'}])], tool_call_id='call_FfLucD8dOsQ8w7145SGUFyQb'), 'On the Bed'), (ToolAgentAction(tool='getItems', tool_input={'place': 'On the Bed'}, log=\"\\nInvoking: `getItems` with `{'place': 'On the Bed'}`\\n\\n\\n\", message_log=[AIMessageChunk(content='', additional_kwargs={'tool_calls': [{'index': 0, 'id': 'call_ruzMK5GmxujuEOOaNMAroNiz', 'function': {'arguments': '{\"place\":\"On the Bed\"}', 'name': 'getItems'}, 'type': 'function'}]}, response_metadata={'finish_reason': 'tool_calls', 'model_name': 'gpt-4o-mini-2024-07-18', 'system_fingerprint': 'fp_34a54ae93c'}, id='run--5a523fc4-13f8-4ad7-ac92-aaa885a15df7', tool_calls=[{'name': 'getItems', 'args': {'place': 'On the Bed'}, 'id': 'call_ruzMK5GmxujuEOOaNMAroNiz', 'type': 'tool_call'}], tool_call_chunks=[{'name': 'getItems', 'args': '{\"place\":\"On the Bed\"}', 'id': 'call_ruzMK5GmxujuEOOaNMAroNiz', 'index': 0, 'type': 'tool_call_chunk'}])], tool_call_id='call_ruzMK5GmxujuEOOaNMAroNiz'), 'cat snacks')]}}, 'run_id': '57e31639-22e9-41aa-9885-c0dc19c3c1e5', 'name': 'RunnableAssign<agent_scratchpad>', 'tags': ['seq:step:1'], 'metadata': {}, 'parent_ids': ['cc40f459-4c60-4ae4-a001-c05ec6b1ff43', '81a1d8ad-cbb5-46f0-81c5-92ee0fefd530']}\n",
      "{'event': 'on_prompt_start', 'data': {'input': {'input': 'What items are located where the cat is hiding?', 'intermediate_steps': [(ToolAgentAction(tool='whereCatisHiding', tool_input={}, log='\\nInvoking: `whereCatisHiding` with `{}`\\n\\n\\n', message_log=[AIMessageChunk(content='', additional_kwargs={'tool_calls': [{'index': 0, 'id': 'call_FfLucD8dOsQ8w7145SGUFyQb', 'function': {'arguments': '{}', 'name': 'whereCatisHiding'}, 'type': 'function'}]}, response_metadata={'finish_reason': 'tool_calls', 'model_name': 'gpt-4o-mini-2024-07-18', 'system_fingerprint': 'fp_34a54ae93c'}, id='run--d97f8c1e-4589-41fd-854b-eb1ec3ecd43b', tool_calls=[{'name': 'whereCatisHiding', 'args': {}, 'id': 'call_FfLucD8dOsQ8w7145SGUFyQb', 'type': 'tool_call'}], tool_call_chunks=[{'name': 'whereCatisHiding', 'args': '{}', 'id': 'call_FfLucD8dOsQ8w7145SGUFyQb', 'index': 0, 'type': 'tool_call_chunk'}])], tool_call_id='call_FfLucD8dOsQ8w7145SGUFyQb'), 'On the Bed'), (ToolAgentAction(tool='getItems', tool_input={'place': 'On the Bed'}, log=\"\\nInvoking: `getItems` with `{'place': 'On the Bed'}`\\n\\n\\n\", message_log=[AIMessageChunk(content='', additional_kwargs={'tool_calls': [{'index': 0, 'id': 'call_ruzMK5GmxujuEOOaNMAroNiz', 'function': {'arguments': '{\"place\":\"On the Bed\"}', 'name': 'getItems'}, 'type': 'function'}]}, response_metadata={'finish_reason': 'tool_calls', 'model_name': 'gpt-4o-mini-2024-07-18', 'system_fingerprint': 'fp_34a54ae93c'}, id='run--5a523fc4-13f8-4ad7-ac92-aaa885a15df7', tool_calls=[{'name': 'getItems', 'args': {'place': 'On the Bed'}, 'id': 'call_ruzMK5GmxujuEOOaNMAroNiz', 'type': 'tool_call'}], tool_call_chunks=[{'name': 'getItems', 'args': '{\"place\":\"On the Bed\"}', 'id': 'call_ruzMK5GmxujuEOOaNMAroNiz', 'index': 0, 'type': 'tool_call_chunk'}])], tool_call_id='call_ruzMK5GmxujuEOOaNMAroNiz'), 'cat snacks')], 'agent_scratchpad': [AIMessageChunk(content='', additional_kwargs={'tool_calls': [{'index': 0, 'id': 'call_FfLucD8dOsQ8w7145SGUFyQb', 'function': {'arguments': '{}', 'name': 'whereCatisHiding'}, 'type': 'function'}]}, response_metadata={'finish_reason': 'tool_calls', 'model_name': 'gpt-4o-mini-2024-07-18', 'system_fingerprint': 'fp_34a54ae93c'}, id='run--d97f8c1e-4589-41fd-854b-eb1ec3ecd43b', tool_calls=[{'name': 'whereCatisHiding', 'args': {}, 'id': 'call_FfLucD8dOsQ8w7145SGUFyQb', 'type': 'tool_call'}], tool_call_chunks=[{'name': 'whereCatisHiding', 'args': '{}', 'id': 'call_FfLucD8dOsQ8w7145SGUFyQb', 'index': 0, 'type': 'tool_call_chunk'}]), ToolMessage(content='On the Bed', tool_call_id='call_FfLucD8dOsQ8w7145SGUFyQb'), AIMessageChunk(content='', additional_kwargs={'tool_calls': [{'index': 0, 'id': 'call_ruzMK5GmxujuEOOaNMAroNiz', 'function': {'arguments': '{\"place\":\"On the Bed\"}', 'name': 'getItems'}, 'type': 'function'}]}, response_metadata={'finish_reason': 'tool_calls', 'model_name': 'gpt-4o-mini-2024-07-18', 'system_fingerprint': 'fp_34a54ae93c'}, id='run--5a523fc4-13f8-4ad7-ac92-aaa885a15df7', tool_calls=[{'name': 'getItems', 'args': {'place': 'On the Bed'}, 'id': 'call_ruzMK5GmxujuEOOaNMAroNiz', 'type': 'tool_call'}], tool_call_chunks=[{'name': 'getItems', 'args': '{\"place\":\"On the Bed\"}', 'id': 'call_ruzMK5GmxujuEOOaNMAroNiz', 'index': 0, 'type': 'tool_call_chunk'}]), ToolMessage(content='cat snacks', tool_call_id='call_ruzMK5GmxujuEOOaNMAroNiz')]}}, 'name': 'ChatPromptTemplate', 'tags': ['seq:step:2'], 'run_id': '0f267425-47f2-4f64-8b65-aa7c6aa46648', 'metadata': {'lc_hub_owner': 'hwchase17', 'lc_hub_repo': 'openai-tools-agent', 'lc_hub_commit_hash': 'c18672812789a3b9697656dd539edf0120285dcae36396d0b548ae42a4ed66f5'}, 'parent_ids': ['cc40f459-4c60-4ae4-a001-c05ec6b1ff43', '81a1d8ad-cbb5-46f0-81c5-92ee0fefd530']}\n",
      "{'event': 'on_prompt_end', 'data': {'output': ChatPromptValue(messages=[SystemMessage(content='You are a helpful assistant', additional_kwargs={}, response_metadata={}), HumanMessage(content='What items are located where the cat is hiding?', additional_kwargs={}, response_metadata={}), AIMessageChunk(content='', additional_kwargs={'tool_calls': [{'index': 0, 'id': 'call_FfLucD8dOsQ8w7145SGUFyQb', 'function': {'arguments': '{}', 'name': 'whereCatisHiding'}, 'type': 'function'}]}, response_metadata={'finish_reason': 'tool_calls', 'model_name': 'gpt-4o-mini-2024-07-18', 'system_fingerprint': 'fp_34a54ae93c'}, id='run--d97f8c1e-4589-41fd-854b-eb1ec3ecd43b', tool_calls=[{'name': 'whereCatisHiding', 'args': {}, 'id': 'call_FfLucD8dOsQ8w7145SGUFyQb', 'type': 'tool_call'}], tool_call_chunks=[{'name': 'whereCatisHiding', 'args': '{}', 'id': 'call_FfLucD8dOsQ8w7145SGUFyQb', 'index': 0, 'type': 'tool_call_chunk'}]), ToolMessage(content='On the Bed', tool_call_id='call_FfLucD8dOsQ8w7145SGUFyQb'), AIMessageChunk(content='', additional_kwargs={'tool_calls': [{'index': 0, 'id': 'call_ruzMK5GmxujuEOOaNMAroNiz', 'function': {'arguments': '{\"place\":\"On the Bed\"}', 'name': 'getItems'}, 'type': 'function'}]}, response_metadata={'finish_reason': 'tool_calls', 'model_name': 'gpt-4o-mini-2024-07-18', 'system_fingerprint': 'fp_34a54ae93c'}, id='run--5a523fc4-13f8-4ad7-ac92-aaa885a15df7', tool_calls=[{'name': 'getItems', 'args': {'place': 'On the Bed'}, 'id': 'call_ruzMK5GmxujuEOOaNMAroNiz', 'type': 'tool_call'}], tool_call_chunks=[{'name': 'getItems', 'args': '{\"place\":\"On the Bed\"}', 'id': 'call_ruzMK5GmxujuEOOaNMAroNiz', 'index': 0, 'type': 'tool_call_chunk'}]), ToolMessage(content='cat snacks', tool_call_id='call_ruzMK5GmxujuEOOaNMAroNiz')]), 'input': {'input': 'What items are located where the cat is hiding?', 'intermediate_steps': [(ToolAgentAction(tool='whereCatisHiding', tool_input={}, log='\\nInvoking: `whereCatisHiding` with `{}`\\n\\n\\n', message_log=[AIMessageChunk(content='', additional_kwargs={'tool_calls': [{'index': 0, 'id': 'call_FfLucD8dOsQ8w7145SGUFyQb', 'function': {'arguments': '{}', 'name': 'whereCatisHiding'}, 'type': 'function'}]}, response_metadata={'finish_reason': 'tool_calls', 'model_name': 'gpt-4o-mini-2024-07-18', 'system_fingerprint': 'fp_34a54ae93c'}, id='run--d97f8c1e-4589-41fd-854b-eb1ec3ecd43b', tool_calls=[{'name': 'whereCatisHiding', 'args': {}, 'id': 'call_FfLucD8dOsQ8w7145SGUFyQb', 'type': 'tool_call'}], tool_call_chunks=[{'name': 'whereCatisHiding', 'args': '{}', 'id': 'call_FfLucD8dOsQ8w7145SGUFyQb', 'index': 0, 'type': 'tool_call_chunk'}])], tool_call_id='call_FfLucD8dOsQ8w7145SGUFyQb'), 'On the Bed'), (ToolAgentAction(tool='getItems', tool_input={'place': 'On the Bed'}, log=\"\\nInvoking: `getItems` with `{'place': 'On the Bed'}`\\n\\n\\n\", message_log=[AIMessageChunk(content='', additional_kwargs={'tool_calls': [{'index': 0, 'id': 'call_ruzMK5GmxujuEOOaNMAroNiz', 'function': {'arguments': '{\"place\":\"On the Bed\"}', 'name': 'getItems'}, 'type': 'function'}]}, response_metadata={'finish_reason': 'tool_calls', 'model_name': 'gpt-4o-mini-2024-07-18', 'system_fingerprint': 'fp_34a54ae93c'}, id='run--5a523fc4-13f8-4ad7-ac92-aaa885a15df7', tool_calls=[{'name': 'getItems', 'args': {'place': 'On the Bed'}, 'id': 'call_ruzMK5GmxujuEOOaNMAroNiz', 'type': 'tool_call'}], tool_call_chunks=[{'name': 'getItems', 'args': '{\"place\":\"On the Bed\"}', 'id': 'call_ruzMK5GmxujuEOOaNMAroNiz', 'index': 0, 'type': 'tool_call_chunk'}])], tool_call_id='call_ruzMK5GmxujuEOOaNMAroNiz'), 'cat snacks')], 'agent_scratchpad': [AIMessageChunk(content='', additional_kwargs={'tool_calls': [{'index': 0, 'id': 'call_FfLucD8dOsQ8w7145SGUFyQb', 'function': {'arguments': '{}', 'name': 'whereCatisHiding'}, 'type': 'function'}]}, response_metadata={'finish_reason': 'tool_calls', 'model_name': 'gpt-4o-mini-2024-07-18', 'system_fingerprint': 'fp_34a54ae93c'}, id='run--d97f8c1e-4589-41fd-854b-eb1ec3ecd43b', tool_calls=[{'name': 'whereCatisHiding', 'args': {}, 'id': 'call_FfLucD8dOsQ8w7145SGUFyQb', 'type': 'tool_call'}], tool_call_chunks=[{'name': 'whereCatisHiding', 'args': '{}', 'id': 'call_FfLucD8dOsQ8w7145SGUFyQb', 'index': 0, 'type': 'tool_call_chunk'}]), ToolMessage(content='On the Bed', tool_call_id='call_FfLucD8dOsQ8w7145SGUFyQb'), AIMessageChunk(content='', additional_kwargs={'tool_calls': [{'index': 0, 'id': 'call_ruzMK5GmxujuEOOaNMAroNiz', 'function': {'arguments': '{\"place\":\"On the Bed\"}', 'name': 'getItems'}, 'type': 'function'}]}, response_metadata={'finish_reason': 'tool_calls', 'model_name': 'gpt-4o-mini-2024-07-18', 'system_fingerprint': 'fp_34a54ae93c'}, id='run--5a523fc4-13f8-4ad7-ac92-aaa885a15df7', tool_calls=[{'name': 'getItems', 'args': {'place': 'On the Bed'}, 'id': 'call_ruzMK5GmxujuEOOaNMAroNiz', 'type': 'tool_call'}], tool_call_chunks=[{'name': 'getItems', 'args': '{\"place\":\"On the Bed\"}', 'id': 'call_ruzMK5GmxujuEOOaNMAroNiz', 'index': 0, 'type': 'tool_call_chunk'}]), ToolMessage(content='cat snacks', tool_call_id='call_ruzMK5GmxujuEOOaNMAroNiz')]}}, 'run_id': '0f267425-47f2-4f64-8b65-aa7c6aa46648', 'name': 'ChatPromptTemplate', 'tags': ['seq:step:2'], 'metadata': {'lc_hub_owner': 'hwchase17', 'lc_hub_repo': 'openai-tools-agent', 'lc_hub_commit_hash': 'c18672812789a3b9697656dd539edf0120285dcae36396d0b548ae42a4ed66f5', 'LANGSMITH_ENDPOINT': 'https://api.smith.langchain.com', 'LANGSMITH_PROJECT': 'tutorial-project', 'LANGSMITH_TRACING': 'true', 'revision_id': '173a2d5-dirty'}, 'parent_ids': ['cc40f459-4c60-4ae4-a001-c05ec6b1ff43', '81a1d8ad-cbb5-46f0-81c5-92ee0fefd530']}\n",
      "{'event': 'on_chat_model_start', 'data': {'input': {'messages': [[SystemMessage(content='You are a helpful assistant', additional_kwargs={}, response_metadata={}), HumanMessage(content='What items are located where the cat is hiding?', additional_kwargs={}, response_metadata={}), AIMessageChunk(content='', additional_kwargs={'tool_calls': [{'index': 0, 'id': 'call_FfLucD8dOsQ8w7145SGUFyQb', 'function': {'arguments': '{}', 'name': 'whereCatisHiding'}, 'type': 'function'}]}, response_metadata={'finish_reason': 'tool_calls', 'model_name': 'gpt-4o-mini-2024-07-18', 'system_fingerprint': 'fp_34a54ae93c'}, id='run--d97f8c1e-4589-41fd-854b-eb1ec3ecd43b', tool_calls=[{'name': 'whereCatisHiding', 'args': {}, 'id': 'call_FfLucD8dOsQ8w7145SGUFyQb', 'type': 'tool_call'}], tool_call_chunks=[{'name': 'whereCatisHiding', 'args': '{}', 'id': 'call_FfLucD8dOsQ8w7145SGUFyQb', 'index': 0, 'type': 'tool_call_chunk'}]), ToolMessage(content='On the Bed', tool_call_id='call_FfLucD8dOsQ8w7145SGUFyQb'), AIMessageChunk(content='', additional_kwargs={'tool_calls': [{'index': 0, 'id': 'call_ruzMK5GmxujuEOOaNMAroNiz', 'function': {'arguments': '{\"place\":\"On the Bed\"}', 'name': 'getItems'}, 'type': 'function'}]}, response_metadata={'finish_reason': 'tool_calls', 'model_name': 'gpt-4o-mini-2024-07-18', 'system_fingerprint': 'fp_34a54ae93c'}, id='run--5a523fc4-13f8-4ad7-ac92-aaa885a15df7', tool_calls=[{'name': 'getItems', 'args': {'place': 'On the Bed'}, 'id': 'call_ruzMK5GmxujuEOOaNMAroNiz', 'type': 'tool_call'}], tool_call_chunks=[{'name': 'getItems', 'args': '{\"place\":\"On the Bed\"}', 'id': 'call_ruzMK5GmxujuEOOaNMAroNiz', 'index': 0, 'type': 'tool_call_chunk'}]), ToolMessage(content='cat snacks', tool_call_id='call_ruzMK5GmxujuEOOaNMAroNiz')]]}}, 'name': 'ChatOpenAI', 'tags': ['seq:step:3', 'agent_llm'], 'run_id': 'aa32e97f-34f1-4300-90f8-75e3258b1037', 'metadata': {'ls_provider': 'openai', 'ls_model_name': 'gpt-4o-mini', 'ls_model_type': 'chat', 'ls_temperature': None}, 'parent_ids': ['cc40f459-4c60-4ae4-a001-c05ec6b1ff43', '81a1d8ad-cbb5-46f0-81c5-92ee0fefd530']}\n",
      "{'event': 'on_chat_model_stream', 'data': {'chunk': AIMessageChunk(content='', additional_kwargs={}, response_metadata={}, id='run--aa32e97f-34f1-4300-90f8-75e3258b1037')}, 'run_id': 'aa32e97f-34f1-4300-90f8-75e3258b1037', 'name': 'ChatOpenAI', 'tags': ['seq:step:3', 'agent_llm'], 'metadata': {'ls_provider': 'openai', 'ls_model_name': 'gpt-4o-mini', 'ls_model_type': 'chat', 'ls_temperature': None}, 'parent_ids': ['cc40f459-4c60-4ae4-a001-c05ec6b1ff43', '81a1d8ad-cbb5-46f0-81c5-92ee0fefd530']}\n",
      "{'event': 'on_chat_model_stream', 'data': {'chunk': AIMessageChunk(content='The', additional_kwargs={}, response_metadata={}, id='run--aa32e97f-34f1-4300-90f8-75e3258b1037')}, 'run_id': 'aa32e97f-34f1-4300-90f8-75e3258b1037', 'name': 'ChatOpenAI', 'tags': ['seq:step:3', 'agent_llm'], 'metadata': {'ls_provider': 'openai', 'ls_model_name': 'gpt-4o-mini', 'ls_model_type': 'chat', 'ls_temperature': None}, 'parent_ids': ['cc40f459-4c60-4ae4-a001-c05ec6b1ff43', '81a1d8ad-cbb5-46f0-81c5-92ee0fefd530']}\n",
      "{'event': 'on_chat_model_stream', 'data': {'chunk': AIMessageChunk(content=' items', additional_kwargs={}, response_metadata={}, id='run--aa32e97f-34f1-4300-90f8-75e3258b1037')}, 'run_id': 'aa32e97f-34f1-4300-90f8-75e3258b1037', 'name': 'ChatOpenAI', 'tags': ['seq:step:3', 'agent_llm'], 'metadata': {'ls_provider': 'openai', 'ls_model_name': 'gpt-4o-mini', 'ls_model_type': 'chat', 'ls_temperature': None}, 'parent_ids': ['cc40f459-4c60-4ae4-a001-c05ec6b1ff43', '81a1d8ad-cbb5-46f0-81c5-92ee0fefd530']}\n",
      "{'event': 'on_chat_model_stream', 'data': {'chunk': AIMessageChunk(content=' located', additional_kwargs={}, response_metadata={}, id='run--aa32e97f-34f1-4300-90f8-75e3258b1037')}, 'run_id': 'aa32e97f-34f1-4300-90f8-75e3258b1037', 'name': 'ChatOpenAI', 'tags': ['seq:step:3', 'agent_llm'], 'metadata': {'ls_provider': 'openai', 'ls_model_name': 'gpt-4o-mini', 'ls_model_type': 'chat', 'ls_temperature': None}, 'parent_ids': ['cc40f459-4c60-4ae4-a001-c05ec6b1ff43', '81a1d8ad-cbb5-46f0-81c5-92ee0fefd530']}\n",
      "{'event': 'on_chat_model_stream', 'data': {'chunk': AIMessageChunk(content=' where', additional_kwargs={}, response_metadata={}, id='run--aa32e97f-34f1-4300-90f8-75e3258b1037')}, 'run_id': 'aa32e97f-34f1-4300-90f8-75e3258b1037', 'name': 'ChatOpenAI', 'tags': ['seq:step:3', 'agent_llm'], 'metadata': {'ls_provider': 'openai', 'ls_model_name': 'gpt-4o-mini', 'ls_model_type': 'chat', 'ls_temperature': None}, 'parent_ids': ['cc40f459-4c60-4ae4-a001-c05ec6b1ff43', '81a1d8ad-cbb5-46f0-81c5-92ee0fefd530']}\n",
      "{'event': 'on_chat_model_stream', 'data': {'chunk': AIMessageChunk(content=' the', additional_kwargs={}, response_metadata={}, id='run--aa32e97f-34f1-4300-90f8-75e3258b1037')}, 'run_id': 'aa32e97f-34f1-4300-90f8-75e3258b1037', 'name': 'ChatOpenAI', 'tags': ['seq:step:3', 'agent_llm'], 'metadata': {'ls_provider': 'openai', 'ls_model_name': 'gpt-4o-mini', 'ls_model_type': 'chat', 'ls_temperature': None}, 'parent_ids': ['cc40f459-4c60-4ae4-a001-c05ec6b1ff43', '81a1d8ad-cbb5-46f0-81c5-92ee0fefd530']}\n",
      "{'event': 'on_chat_model_stream', 'data': {'chunk': AIMessageChunk(content=' cat', additional_kwargs={}, response_metadata={}, id='run--aa32e97f-34f1-4300-90f8-75e3258b1037')}, 'run_id': 'aa32e97f-34f1-4300-90f8-75e3258b1037', 'name': 'ChatOpenAI', 'tags': ['seq:step:3', 'agent_llm'], 'metadata': {'ls_provider': 'openai', 'ls_model_name': 'gpt-4o-mini', 'ls_model_type': 'chat', 'ls_temperature': None}, 'parent_ids': ['cc40f459-4c60-4ae4-a001-c05ec6b1ff43', '81a1d8ad-cbb5-46f0-81c5-92ee0fefd530']}\n",
      "{'event': 'on_chat_model_stream', 'data': {'chunk': AIMessageChunk(content=' is', additional_kwargs={}, response_metadata={}, id='run--aa32e97f-34f1-4300-90f8-75e3258b1037')}, 'run_id': 'aa32e97f-34f1-4300-90f8-75e3258b1037', 'name': 'ChatOpenAI', 'tags': ['seq:step:3', 'agent_llm'], 'metadata': {'ls_provider': 'openai', 'ls_model_name': 'gpt-4o-mini', 'ls_model_type': 'chat', 'ls_temperature': None}, 'parent_ids': ['cc40f459-4c60-4ae4-a001-c05ec6b1ff43', '81a1d8ad-cbb5-46f0-81c5-92ee0fefd530']}\n",
      "{'event': 'on_chat_model_stream', 'data': {'chunk': AIMessageChunk(content=' hiding', additional_kwargs={}, response_metadata={}, id='run--aa32e97f-34f1-4300-90f8-75e3258b1037')}, 'run_id': 'aa32e97f-34f1-4300-90f8-75e3258b1037', 'name': 'ChatOpenAI', 'tags': ['seq:step:3', 'agent_llm'], 'metadata': {'ls_provider': 'openai', 'ls_model_name': 'gpt-4o-mini', 'ls_model_type': 'chat', 'ls_temperature': None}, 'parent_ids': ['cc40f459-4c60-4ae4-a001-c05ec6b1ff43', '81a1d8ad-cbb5-46f0-81c5-92ee0fefd530']}\n",
      "{'event': 'on_chat_model_stream', 'data': {'chunk': AIMessageChunk(content=' (', additional_kwargs={}, response_metadata={}, id='run--aa32e97f-34f1-4300-90f8-75e3258b1037')}, 'run_id': 'aa32e97f-34f1-4300-90f8-75e3258b1037', 'name': 'ChatOpenAI', 'tags': ['seq:step:3', 'agent_llm'], 'metadata': {'ls_provider': 'openai', 'ls_model_name': 'gpt-4o-mini', 'ls_model_type': 'chat', 'ls_temperature': None}, 'parent_ids': ['cc40f459-4c60-4ae4-a001-c05ec6b1ff43', '81a1d8ad-cbb5-46f0-81c5-92ee0fefd530']}\n",
      "{'event': 'on_chat_model_stream', 'data': {'chunk': AIMessageChunk(content='on', additional_kwargs={}, response_metadata={}, id='run--aa32e97f-34f1-4300-90f8-75e3258b1037')}, 'run_id': 'aa32e97f-34f1-4300-90f8-75e3258b1037', 'name': 'ChatOpenAI', 'tags': ['seq:step:3', 'agent_llm'], 'metadata': {'ls_provider': 'openai', 'ls_model_name': 'gpt-4o-mini', 'ls_model_type': 'chat', 'ls_temperature': None}, 'parent_ids': ['cc40f459-4c60-4ae4-a001-c05ec6b1ff43', '81a1d8ad-cbb5-46f0-81c5-92ee0fefd530']}\n",
      "{'event': 'on_chat_model_stream', 'data': {'chunk': AIMessageChunk(content=' the', additional_kwargs={}, response_metadata={}, id='run--aa32e97f-34f1-4300-90f8-75e3258b1037')}, 'run_id': 'aa32e97f-34f1-4300-90f8-75e3258b1037', 'name': 'ChatOpenAI', 'tags': ['seq:step:3', 'agent_llm'], 'metadata': {'ls_provider': 'openai', 'ls_model_name': 'gpt-4o-mini', 'ls_model_type': 'chat', 'ls_temperature': None}, 'parent_ids': ['cc40f459-4c60-4ae4-a001-c05ec6b1ff43', '81a1d8ad-cbb5-46f0-81c5-92ee0fefd530']}\n",
      "{'event': 'on_chat_model_stream', 'data': {'chunk': AIMessageChunk(content=' bed', additional_kwargs={}, response_metadata={}, id='run--aa32e97f-34f1-4300-90f8-75e3258b1037')}, 'run_id': 'aa32e97f-34f1-4300-90f8-75e3258b1037', 'name': 'ChatOpenAI', 'tags': ['seq:step:3', 'agent_llm'], 'metadata': {'ls_provider': 'openai', 'ls_model_name': 'gpt-4o-mini', 'ls_model_type': 'chat', 'ls_temperature': None}, 'parent_ids': ['cc40f459-4c60-4ae4-a001-c05ec6b1ff43', '81a1d8ad-cbb5-46f0-81c5-92ee0fefd530']}\n",
      "{'event': 'on_chat_model_stream', 'data': {'chunk': AIMessageChunk(content=')', additional_kwargs={}, response_metadata={}, id='run--aa32e97f-34f1-4300-90f8-75e3258b1037')}, 'run_id': 'aa32e97f-34f1-4300-90f8-75e3258b1037', 'name': 'ChatOpenAI', 'tags': ['seq:step:3', 'agent_llm'], 'metadata': {'ls_provider': 'openai', 'ls_model_name': 'gpt-4o-mini', 'ls_model_type': 'chat', 'ls_temperature': None}, 'parent_ids': ['cc40f459-4c60-4ae4-a001-c05ec6b1ff43', '81a1d8ad-cbb5-46f0-81c5-92ee0fefd530']}\n",
      "{'event': 'on_chat_model_stream', 'data': {'chunk': AIMessageChunk(content=' are', additional_kwargs={}, response_metadata={}, id='run--aa32e97f-34f1-4300-90f8-75e3258b1037')}, 'run_id': 'aa32e97f-34f1-4300-90f8-75e3258b1037', 'name': 'ChatOpenAI', 'tags': ['seq:step:3', 'agent_llm'], 'metadata': {'ls_provider': 'openai', 'ls_model_name': 'gpt-4o-mini', 'ls_model_type': 'chat', 'ls_temperature': None}, 'parent_ids': ['cc40f459-4c60-4ae4-a001-c05ec6b1ff43', '81a1d8ad-cbb5-46f0-81c5-92ee0fefd530']}\n",
      "{'event': 'on_chat_model_stream', 'data': {'chunk': AIMessageChunk(content=' cat', additional_kwargs={}, response_metadata={}, id='run--aa32e97f-34f1-4300-90f8-75e3258b1037')}, 'run_id': 'aa32e97f-34f1-4300-90f8-75e3258b1037', 'name': 'ChatOpenAI', 'tags': ['seq:step:3', 'agent_llm'], 'metadata': {'ls_provider': 'openai', 'ls_model_name': 'gpt-4o-mini', 'ls_model_type': 'chat', 'ls_temperature': None}, 'parent_ids': ['cc40f459-4c60-4ae4-a001-c05ec6b1ff43', '81a1d8ad-cbb5-46f0-81c5-92ee0fefd530']}\n",
      "{'event': 'on_chat_model_stream', 'data': {'chunk': AIMessageChunk(content=' snacks', additional_kwargs={}, response_metadata={}, id='run--aa32e97f-34f1-4300-90f8-75e3258b1037')}, 'run_id': 'aa32e97f-34f1-4300-90f8-75e3258b1037', 'name': 'ChatOpenAI', 'tags': ['seq:step:3', 'agent_llm'], 'metadata': {'ls_provider': 'openai', 'ls_model_name': 'gpt-4o-mini', 'ls_model_type': 'chat', 'ls_temperature': None}, 'parent_ids': ['cc40f459-4c60-4ae4-a001-c05ec6b1ff43', '81a1d8ad-cbb5-46f0-81c5-92ee0fefd530']}\n",
      "{'event': 'on_chat_model_stream', 'data': {'chunk': AIMessageChunk(content='.', additional_kwargs={}, response_metadata={}, id='run--aa32e97f-34f1-4300-90f8-75e3258b1037')}, 'run_id': 'aa32e97f-34f1-4300-90f8-75e3258b1037', 'name': 'ChatOpenAI', 'tags': ['seq:step:3', 'agent_llm'], 'metadata': {'ls_provider': 'openai', 'ls_model_name': 'gpt-4o-mini', 'ls_model_type': 'chat', 'ls_temperature': None}, 'parent_ids': ['cc40f459-4c60-4ae4-a001-c05ec6b1ff43', '81a1d8ad-cbb5-46f0-81c5-92ee0fefd530']}\n",
      "{'event': 'on_chat_model_stream', 'data': {'chunk': AIMessageChunk(content='', additional_kwargs={}, response_metadata={'finish_reason': 'stop', 'model_name': 'gpt-4o-mini-2024-07-18', 'system_fingerprint': 'fp_34a54ae93c'}, id='run--aa32e97f-34f1-4300-90f8-75e3258b1037')}, 'run_id': 'aa32e97f-34f1-4300-90f8-75e3258b1037', 'name': 'ChatOpenAI', 'tags': ['seq:step:3', 'agent_llm'], 'metadata': {'ls_provider': 'openai', 'ls_model_name': 'gpt-4o-mini', 'ls_model_type': 'chat', 'ls_temperature': None}, 'parent_ids': ['cc40f459-4c60-4ae4-a001-c05ec6b1ff43', '81a1d8ad-cbb5-46f0-81c5-92ee0fefd530']}\n",
      "{'event': 'on_chat_model_end', 'data': {'output': AIMessageChunk(content='The items located where the cat is hiding (on the bed) are cat snacks.', additional_kwargs={}, response_metadata={'finish_reason': 'stop', 'model_name': 'gpt-4o-mini-2024-07-18', 'system_fingerprint': 'fp_34a54ae93c'}, id='run--aa32e97f-34f1-4300-90f8-75e3258b1037'), 'input': {'messages': [[SystemMessage(content='You are a helpful assistant', additional_kwargs={}, response_metadata={}), HumanMessage(content='What items are located where the cat is hiding?', additional_kwargs={}, response_metadata={}), AIMessageChunk(content='', additional_kwargs={'tool_calls': [{'index': 0, 'id': 'call_FfLucD8dOsQ8w7145SGUFyQb', 'function': {'arguments': '{}', 'name': 'whereCatisHiding'}, 'type': 'function'}]}, response_metadata={'finish_reason': 'tool_calls', 'model_name': 'gpt-4o-mini-2024-07-18', 'system_fingerprint': 'fp_34a54ae93c'}, id='run--d97f8c1e-4589-41fd-854b-eb1ec3ecd43b', tool_calls=[{'name': 'whereCatisHiding', 'args': {}, 'id': 'call_FfLucD8dOsQ8w7145SGUFyQb', 'type': 'tool_call'}], tool_call_chunks=[{'name': 'whereCatisHiding', 'args': '{}', 'id': 'call_FfLucD8dOsQ8w7145SGUFyQb', 'index': 0, 'type': 'tool_call_chunk'}]), ToolMessage(content='On the Bed', tool_call_id='call_FfLucD8dOsQ8w7145SGUFyQb'), AIMessageChunk(content='', additional_kwargs={'tool_calls': [{'index': 0, 'id': 'call_ruzMK5GmxujuEOOaNMAroNiz', 'function': {'arguments': '{\"place\":\"On the Bed\"}', 'name': 'getItems'}, 'type': 'function'}]}, response_metadata={'finish_reason': 'tool_calls', 'model_name': 'gpt-4o-mini-2024-07-18', 'system_fingerprint': 'fp_34a54ae93c'}, id='run--5a523fc4-13f8-4ad7-ac92-aaa885a15df7', tool_calls=[{'name': 'getItems', 'args': {'place': 'On the Bed'}, 'id': 'call_ruzMK5GmxujuEOOaNMAroNiz', 'type': 'tool_call'}], tool_call_chunks=[{'name': 'getItems', 'args': '{\"place\":\"On the Bed\"}', 'id': 'call_ruzMK5GmxujuEOOaNMAroNiz', 'index': 0, 'type': 'tool_call_chunk'}]), ToolMessage(content='cat snacks', tool_call_id='call_ruzMK5GmxujuEOOaNMAroNiz')]]}}, 'run_id': 'aa32e97f-34f1-4300-90f8-75e3258b1037', 'name': 'ChatOpenAI', 'tags': ['seq:step:3', 'agent_llm'], 'metadata': {'ls_provider': 'openai', 'ls_model_name': 'gpt-4o-mini', 'ls_model_type': 'chat', 'ls_temperature': None, 'LANGSMITH_ENDPOINT': 'https://api.smith.langchain.com', 'LANGSMITH_PROJECT': 'tutorial-project', 'LANGSMITH_TRACING': 'true', 'revision_id': '173a2d5-dirty'}, 'parent_ids': ['cc40f459-4c60-4ae4-a001-c05ec6b1ff43', '81a1d8ad-cbb5-46f0-81c5-92ee0fefd530']}\n",
      "{'event': 'on_parser_start', 'data': {'input': AIMessageChunk(content='The items located where the cat is hiding (on the bed) are cat snacks.', additional_kwargs={}, response_metadata={'finish_reason': 'stop', 'model_name': 'gpt-4o-mini-2024-07-18', 'system_fingerprint': 'fp_34a54ae93c'}, id='run--aa32e97f-34f1-4300-90f8-75e3258b1037')}, 'name': 'OpenAIToolsAgentOutputParser', 'tags': ['seq:step:4'], 'run_id': '2a03fa36-a876-4805-a940-cb097dd9af8c', 'metadata': {}, 'parent_ids': ['cc40f459-4c60-4ae4-a001-c05ec6b1ff43', '81a1d8ad-cbb5-46f0-81c5-92ee0fefd530']}\n",
      "{'event': 'on_parser_end', 'data': {'output': AgentFinish(return_values={'output': 'The items located where the cat is hiding (on the bed) are cat snacks.'}, log='The items located where the cat is hiding (on the bed) are cat snacks.'), 'input': AIMessageChunk(content='The items located where the cat is hiding (on the bed) are cat snacks.', additional_kwargs={}, response_metadata={'finish_reason': 'stop', 'model_name': 'gpt-4o-mini-2024-07-18', 'system_fingerprint': 'fp_34a54ae93c'}, id='run--aa32e97f-34f1-4300-90f8-75e3258b1037')}, 'run_id': '2a03fa36-a876-4805-a940-cb097dd9af8c', 'name': 'OpenAIToolsAgentOutputParser', 'tags': ['seq:step:4'], 'metadata': {}, 'parent_ids': ['cc40f459-4c60-4ae4-a001-c05ec6b1ff43', '81a1d8ad-cbb5-46f0-81c5-92ee0fefd530']}\n",
      "{'event': 'on_chain_stream', 'run_id': '81a1d8ad-cbb5-46f0-81c5-92ee0fefd530', 'name': 'RunnableSequence', 'tags': [], 'metadata': {}, 'data': {'chunk': AgentFinish(return_values={'output': 'The items located where the cat is hiding (on the bed) are cat snacks.'}, log='The items located where the cat is hiding (on the bed) are cat snacks.')}, 'parent_ids': ['cc40f459-4c60-4ae4-a001-c05ec6b1ff43']}\n",
      "{'event': 'on_chain_end', 'data': {'output': AgentFinish(return_values={'output': 'The items located where the cat is hiding (on the bed) are cat snacks.'}, log='The items located where the cat is hiding (on the bed) are cat snacks.'), 'input': {'input': 'What items are located where the cat is hiding?', 'intermediate_steps': [(ToolAgentAction(tool='whereCatisHiding', tool_input={}, log='\\nInvoking: `whereCatisHiding` with `{}`\\n\\n\\n', message_log=[AIMessageChunk(content='', additional_kwargs={'tool_calls': [{'index': 0, 'id': 'call_FfLucD8dOsQ8w7145SGUFyQb', 'function': {'arguments': '{}', 'name': 'whereCatisHiding'}, 'type': 'function'}]}, response_metadata={'finish_reason': 'tool_calls', 'model_name': 'gpt-4o-mini-2024-07-18', 'system_fingerprint': 'fp_34a54ae93c'}, id='run--d97f8c1e-4589-41fd-854b-eb1ec3ecd43b', tool_calls=[{'name': 'whereCatisHiding', 'args': {}, 'id': 'call_FfLucD8dOsQ8w7145SGUFyQb', 'type': 'tool_call'}], tool_call_chunks=[{'name': 'whereCatisHiding', 'args': '{}', 'id': 'call_FfLucD8dOsQ8w7145SGUFyQb', 'index': 0, 'type': 'tool_call_chunk'}])], tool_call_id='call_FfLucD8dOsQ8w7145SGUFyQb'), 'On the Bed'), (ToolAgentAction(tool='getItems', tool_input={'place': 'On the Bed'}, log=\"\\nInvoking: `getItems` with `{'place': 'On the Bed'}`\\n\\n\\n\", message_log=[AIMessageChunk(content='', additional_kwargs={'tool_calls': [{'index': 0, 'id': 'call_ruzMK5GmxujuEOOaNMAroNiz', 'function': {'arguments': '{\"place\":\"On the Bed\"}', 'name': 'getItems'}, 'type': 'function'}]}, response_metadata={'finish_reason': 'tool_calls', 'model_name': 'gpt-4o-mini-2024-07-18', 'system_fingerprint': 'fp_34a54ae93c'}, id='run--5a523fc4-13f8-4ad7-ac92-aaa885a15df7', tool_calls=[{'name': 'getItems', 'args': {'place': 'On the Bed'}, 'id': 'call_ruzMK5GmxujuEOOaNMAroNiz', 'type': 'tool_call'}], tool_call_chunks=[{'name': 'getItems', 'args': '{\"place\":\"On the Bed\"}', 'id': 'call_ruzMK5GmxujuEOOaNMAroNiz', 'index': 0, 'type': 'tool_call_chunk'}])], tool_call_id='call_ruzMK5GmxujuEOOaNMAroNiz'), 'cat snacks')]}}, 'run_id': '81a1d8ad-cbb5-46f0-81c5-92ee0fefd530', 'name': 'RunnableSequence', 'tags': [], 'metadata': {}, 'parent_ids': ['cc40f459-4c60-4ae4-a001-c05ec6b1ff43']}\n",
      "{'event': 'on_chain_end', 'data': {'output': {'output': 'The items located where the cat is hiding (on the bed) are cat snacks.', 'messages': [AIMessage(content='The items located where the cat is hiding (on the bed) are cat snacks.', additional_kwargs={}, response_metadata={})]}}, 'run_id': 'cc40f459-4c60-4ae4-a001-c05ec6b1ff43', 'name': 'Agent', 'tags': [], 'metadata': {}, 'parent_ids': []}\n",
      "{'event': 'on_chain_stream', 'run_id': 'cc40f459-4c60-4ae4-a001-c05ec6b1ff43', 'name': 'Agent', 'tags': [], 'metadata': {}, 'data': {'chunk': {'output': 'The items located where the cat is hiding (on the bed) are cat snacks.', 'messages': [AIMessage(content='The items located where the cat is hiding (on the bed) are cat snacks.', additional_kwargs={}, response_metadata={})]}}, 'parent_ids': []}\n"
     ]
    }
   ],
   "source": [
    "async for chunk in agentExecutor.astream_events(\n",
    "    input={\"input\":\"What items are located where the cat is hiding?\"},\n",
    "    version=\"v2\"\n",
    "    ):\n",
    "    print(chunk)"
   ]
  },
  {
   "cell_type": "code",
   "execution_count": 29,
   "id": "d4175691-5221-4b34-8029-4bb419dd73ea",
   "metadata": {},
   "outputs": [
    {
     "name": "stdout",
     "output_type": "stream",
     "text": [
      "Starting agent: Agent with input: {'input': 'where is the cat hiding? what items are in that location?'}\n",
      "--\n",
      "Starting tool: whereCatisHiding with inputs: {}\n",
      "Done tool: whereCatisHiding\n",
      "Tool output was: On the Bed\n",
      "--\n",
      "--\n",
      "Starting tool: getItems with inputs: {'place': 'On the Bed'}\n",
      "Done tool: getItems\n",
      "Tool output was: cat snacks\n",
      "--\n",
      "The| cat| is| hiding| on| the| bed|,| and| there| are| cat| snacks| in| that| location|.|\n",
      "--\n",
      "Done agent: Agent with output: The cat is hiding on the bed, and there are cat snacks in that location.\n"
     ]
    }
   ],
   "source": [
    "async for event in agentExecutor.astream_events(\n",
    "    {\"input\": \"where is the cat hiding? what items are in that location?\"},\n",
    "    version=\"v2\",\n",
    "):\n",
    "    kind=event[\"event\"]\n",
    "    if kind==\"on_chain_start\":\n",
    "        if (\n",
    "            event[\"name\"]==\"Agent\"\n",
    "        ):  # Was assigned when creating the agent with `.with_config({\"run_name\": \"Agent\"})`\n",
    "            print(\n",
    "                f\"Starting agent: {event['name']} with input: {event['data'].get('input')}\"\n",
    "            )\n",
    "    elif kind==\"on_chain_end\":\n",
    "        if (\n",
    "            event[\"name\"]==\"Agent\"\n",
    "        ):  # Was assigned when creating the agent with `.with_config({\"run_name\": \"Agent\"})`\n",
    "            print()\n",
    "            print(\"--\")\n",
    "            print(\n",
    "                f\"Done agent: {event['name']} with output: {event['data'].get('output')['output']}\"\n",
    "            )\n",
    "    if kind==\"on_chat_model_stream\":\n",
    "        content = event[\"data\"][\"chunk\"].content\n",
    "        if content:\n",
    "            # Empty content in the context of OpenAI means\n",
    "            # that the model is asking for a tool to be invoked.\n",
    "            # So we only print non-empty content\n",
    "            print(content, end=\"|\")\n",
    "    elif kind==\"on_tool_start\":\n",
    "        print(\"--\")\n",
    "        print(\n",
    "            f\"Starting tool: {event['name']} with inputs: {event['data'].get('input')}\"\n",
    "        )\n",
    "    elif kind==\"on_tool_end\":\n",
    "        print(f\"Done tool: {event['name']}\")\n",
    "        print(f\"Tool output was: {event['data'].get('output')}\")\n",
    "        print(\"--\")"
   ]
  },
  {
   "cell_type": "markdown",
   "id": "3255779c-ac66-4dbb-988c-d234feda181e",
   "metadata": {},
   "source": [
    "<p> If your tool leverages Langchain runnable objects, (eg. LCEL Chains, LLMs, retrievers, etc) and you want to stream events from those objects as well, you need to make sure that callbacks are propagated correctly</p> "
   ]
  },
  {
   "cell_type": "markdown",
   "id": "927311d3-a5fb-4eb9-9e52-9ab94a11a840",
   "metadata": {},
   "source": [
    "<h3>Stream Events from within Tools</h3>"
   ]
  },
  {
   "cell_type": "code",
   "execution_count": 30,
   "id": "ba9f4911-17f9-48b5-ae5c-0c69c7ed44c9",
   "metadata": {},
   "outputs": [],
   "source": [
    "@tool\n",
    "async def getItems(place: str, callbacks:Callbacks) -> str:\n",
    "    \"\"\"\n",
    "        Use this tool to look up which items are in the given place\n",
    "    \"\"\"\n",
    "    template=ChatPromptTemplate.from_messages(\n",
    "        messages=[\n",
    "            (\n",
    "                \"human\",\n",
    "                \"Can you tell me what kind of items I might find in the following place: {place}\"\n",
    "                \"List at least 3 such items separating them by coma. And include a brief description of each item..\"\n",
    "            )\n",
    "        ]\n",
    "    )\n",
    "    \n",
    "    chain=template|llmOpenAI.with_config(config={\n",
    "        \"run_name\":\"Get Items LLM\",\n",
    "        \"tags\":[\"tool_llm\"],\n",
    "        \"callbacks\":callbacks\n",
    "    })\n",
    "\n",
    "    chunks=[chunk async for chunk in chain.astream(input={\"place\":place})]\n",
    "    return \"\".join(chunk.content for chunk in chunks)"
   ]
  },
  {
   "cell_type": "code",
   "execution_count": 31,
   "id": "8e794e9e-3a4c-4fec-8358-5c6441242900",
   "metadata": {},
   "outputs": [],
   "source": [
    "prompt=hub.pull(owner_repo_commit=\"hwchase17/openai-tools-agent\")\n",
    "\n",
    "tools=[getItems,whereCatisHiding]\n",
    "\n",
    "agent=create_openai_tools_agent(\n",
    "    llm=llmOpenAI.with_config({\"tags\":[\"agent_llm\"]}),\n",
    "    tools=tools,\n",
    "    prompt=prompt\n",
    ")\n",
    "\n",
    "agentExecutor=AgentExecutor(agent=agent,tools=tools).\\\n",
    "    with_config({\"run_name\":\"Agent\"})  # this config will be used later with astream_events API\n"
   ]
  },
  {
   "cell_type": "code",
   "execution_count": 32,
   "id": "7711e69e-bd66-45e9-8d4b-d20f76aeb010",
   "metadata": {},
   "outputs": [
    {
     "name": "stdout",
     "output_type": "stream",
     "text": [
      "Starting agent: Agent with input: {'input': 'where is the cat hiding? what items are in that location?'}\n",
      "--\n",
      "Starting tool: whereCatisHiding with inputs: {}\n",
      "--\n",
      "Starting tool: getItems with inputs: {'place': 'unknown'}\n",
      "Done tool: whereCatisHiding\n",
      "Tool output was: On the Shelf\n",
      "--\n",
      "Sure|!| However|,| I| need| you| to| specify| what| \"|unknown|List|\"| refers| to| in| order| to| provide| relevant| items|.| Could| you| please| clarify| what| type| of| place| or| category| you're| thinking| about|?|Done tool: getItems\n",
      "Tool output was: Sure! However, I need you to specify what \"unknownList\" refers to in order to provide relevant items. Could you please clarify what type of place or category you're thinking about?\n",
      "--\n",
      "--\n",
      "Starting tool: getItems with inputs: {'place': 'On the Shelf'}\n",
      "Certainly|!| Here| are| three| items| you| might| find| on| a| shelf|:\n",
      "\n",
      "|1|.| **|Book|**|:| A| hardcover| novel| with| a| captivating| storyline|,| perfect| for| curling| up| and| getting| lost| in| another| world|.| It| typically| features| an| engaging| plot| and| well|-developed| characters|.\n",
      "\n",
      "|2|.| **|Cer|amic| Mug|**|:| A| beautifully| crafted| ceramic| mug| featuring| a| colorful| design|,| ideal| for| enjoying| your| favorite| hot| beverages|.| It| often| has| a| comfortable| handle| and| a| sturdy| base|.\n",
      "\n",
      "|3|.| **|P|otted| Plant|**|:| A| small| indoor| plant| in| a| decorative| pot| that| adds| a| touch| of| greenery| to| your| space|.| It| requires| minimal| care|,| making| it| a| great| choice| for| both| novice| and| seasoned| plant| lovers|.|Done tool: getItems\n",
      "Tool output was: Certainly! Here are three items you might find on a shelf:\n",
      "\n",
      "1. **Book**: A hardcover novel with a captivating storyline, perfect for curling up and getting lost in another world. It typically features an engaging plot and well-developed characters.\n",
      "\n",
      "2. **Ceramic Mug**: A beautifully crafted ceramic mug featuring a colorful design, ideal for enjoying your favorite hot beverages. It often has a comfortable handle and a sturdy base.\n",
      "\n",
      "3. **Potted Plant**: A small indoor plant in a decorative pot that adds a touch of greenery to your space. It requires minimal care, making it a great choice for both novice and seasoned plant lovers.\n",
      "--\n",
      "The| cat| is| hiding| **|on| the| shelf|**|.| Here| are| three| items| you| might| find| in| that| location|:\n",
      "\n",
      "|1|.| **|Book|**|:| A| hardcover| novel| with| a| captivating| storyline|,| perfect| for| curling| up| and| getting| lost| in| another| world|.\n",
      "\n",
      "|2|.| **|Cer|amic| Mug|**|:| A| beautifully| crafted| ceramic| mug| featuring| a| colorful| design|,| ideal| for| enjoying| your| favorite| hot| beverages|.\n",
      "\n",
      "|3|.| **|P|otted| Plant|**|:| A| small| indoor| plant| in| a| decorative| pot| that| adds| a| touch| of| greenery| to| your| space|.|\n",
      "--\n",
      "Done agent: Agent with output: The cat is hiding **on the shelf**. Here are three items you might find in that location:\n",
      "\n",
      "1. **Book**: A hardcover novel with a captivating storyline, perfect for curling up and getting lost in another world.\n",
      "\n",
      "2. **Ceramic Mug**: A beautifully crafted ceramic mug featuring a colorful design, ideal for enjoying your favorite hot beverages.\n",
      "\n",
      "3. **Potted Plant**: A small indoor plant in a decorative pot that adds a touch of greenery to your space.\n"
     ]
    }
   ],
   "source": [
    "async for event in agentExecutor.astream_events(\n",
    "    {\"input\": \"where is the cat hiding? what items are in that location?\"},\n",
    "    version=\"v2\",\n",
    "):\n",
    "    kind=event[\"event\"]\n",
    "    if kind==\"on_chain_start\":\n",
    "        if (\n",
    "            event[\"name\"]==\"Agent\"\n",
    "        ):  # Was assigned when creating the agent with `.with_config({\"run_name\": \"Agent\"})`\n",
    "            print(\n",
    "                f\"Starting agent: {event['name']} with input: {event['data'].get('input')}\"\n",
    "            )\n",
    "    elif kind==\"on_chain_end\":\n",
    "        if (\n",
    "            event[\"name\"]==\"Agent\"\n",
    "        ):  # Was assigned when creating the agent with `.with_config({\"run_name\": \"Agent\"})`\n",
    "            print()\n",
    "            print(\"--\")\n",
    "            print(\n",
    "                f\"Done agent: {event['name']} with output: {event['data'].get('output')['output']}\"\n",
    "            )\n",
    "    if kind==\"on_chat_model_stream\":\n",
    "        content = event[\"data\"][\"chunk\"].content\n",
    "        if content:\n",
    "            # Empty content in the context of OpenAI means\n",
    "            # that the model is asking for a tool to be invoked.\n",
    "            # So we only print non-empty content\n",
    "            print(content, end=\"|\")\n",
    "    elif kind==\"on_tool_start\":\n",
    "        print(\"--\")\n",
    "        print(\n",
    "            f\"Starting tool: {event['name']} with inputs: {event['data'].get('input')}\"\n",
    "        )\n",
    "    elif kind==\"on_tool_end\":\n",
    "        print(f\"Done tool: {event['name']}\")\n",
    "        print(f\"Tool output was: {event['data'].get('output')}\")\n",
    "        print(\"--\")"
   ]
  },
  {
   "cell_type": "markdown",
   "id": "9b94bd61-4e2a-460f-8e2f-54c83ce0ab97",
   "metadata": {},
   "source": [
    "<h3> Using AStream Log </h3> <h4>(Recommended to use Astream Log instead of this for Parsing problem)</h4>"
   ]
  },
  {
   "cell_type": "code",
   "execution_count": 33,
   "id": "cc607f7a-0d99-4fdc-928f-51b8d2005052",
   "metadata": {},
   "outputs": [
    {
     "name": "stdout",
     "output_type": "stream",
     "text": [
      "RunLogPatch({'op': 'replace',\n",
      "  'path': '',\n",
      "  'value': {'final_output': None,\n",
      "            'id': '22b7ede4-1ac9-4cc9-9fd2-48d43be67aea',\n",
      "            'logs': {},\n",
      "            'name': 'Agent',\n",
      "            'streamed_output': [],\n",
      "            'type': 'chain'}})\n",
      "RunLogPatch({'op': 'add',\n",
      "  'path': '/logs/RunnableSequence',\n",
      "  'value': {'end_time': None,\n",
      "            'final_output': None,\n",
      "            'id': 'e7a1f47f-cff6-4c34-80c7-56bca7027f89',\n",
      "            'metadata': {},\n",
      "            'name': 'RunnableSequence',\n",
      "            'start_time': '2025-06-30T05:21:17.664+00:00',\n",
      "            'streamed_output': [],\n",
      "            'streamed_output_str': [],\n",
      "            'tags': [],\n",
      "            'type': 'chain'}})\n",
      "RunLogPatch({'op': 'add',\n",
      "  'path': '/logs/RunnableAssign<agent_scratchpad>',\n",
      "  'value': {'end_time': None,\n",
      "            'final_output': None,\n",
      "            'id': '78753f3b-0db3-4fe4-8131-fa062b368b5b',\n",
      "            'metadata': {},\n",
      "            'name': 'RunnableAssign<agent_scratchpad>',\n",
      "            'start_time': '2025-06-30T05:21:17.664+00:00',\n",
      "            'streamed_output': [],\n",
      "            'streamed_output_str': [],\n",
      "            'tags': ['seq:step:1'],\n",
      "            'type': 'chain'}})\n",
      "RunLogPatch({'op': 'add',\n",
      "  'path': '/logs/RunnableAssign<agent_scratchpad>/streamed_output/-',\n",
      "  'value': {'input': 'Where is the cat hiding? What items are in that '\n",
      "                     'location?',\n",
      "            'intermediate_steps': []}})\n",
      "RunLogPatch({'op': 'add',\n",
      "  'path': '/logs/RunnableParallel<agent_scratchpad>',\n",
      "  'value': {'end_time': None,\n",
      "            'final_output': None,\n",
      "            'id': 'c6a464a7-a740-4148-a2b6-b951b01cd515',\n",
      "            'metadata': {},\n",
      "            'name': 'RunnableParallel<agent_scratchpad>',\n",
      "            'start_time': '2025-06-30T05:21:17.671+00:00',\n",
      "            'streamed_output': [],\n",
      "            'streamed_output_str': [],\n",
      "            'tags': [],\n",
      "            'type': 'chain'}})\n",
      "RunLogPatch({'op': 'add',\n",
      "  'path': '/logs/RunnableLambda',\n",
      "  'value': {'end_time': None,\n",
      "            'final_output': None,\n",
      "            'id': '1128ea33-60f2-48e8-828a-ea06cac2a95a',\n",
      "            'metadata': {},\n",
      "            'name': 'RunnableLambda',\n",
      "            'start_time': '2025-06-30T05:21:17.672+00:00',\n",
      "            'streamed_output': [],\n",
      "            'streamed_output_str': [],\n",
      "            'tags': ['map:key:agent_scratchpad'],\n",
      "            'type': 'chain'}})\n",
      "RunLogPatch({'op': 'add', 'path': '/logs/RunnableLambda/streamed_output/-', 'value': []})\n",
      "RunLogPatch({'op': 'add',\n",
      "  'path': '/logs/RunnableParallel<agent_scratchpad>/streamed_output/-',\n",
      "  'value': {'agent_scratchpad': []}})\n",
      "RunLogPatch({'op': 'add',\n",
      "  'path': '/logs/RunnableAssign<agent_scratchpad>/streamed_output/-',\n",
      "  'value': {'agent_scratchpad': []}})\n",
      "RunLogPatch({'op': 'add',\n",
      "  'path': '/logs/RunnableLambda/final_output',\n",
      "  'value': {'output': []}},\n",
      " {'op': 'add',\n",
      "  'path': '/logs/RunnableLambda/end_time',\n",
      "  'value': '2025-06-30T05:21:17.676+00:00'})\n",
      "RunLogPatch({'op': 'add',\n",
      "  'path': '/logs/RunnableParallel<agent_scratchpad>/final_output',\n",
      "  'value': {'agent_scratchpad': []}},\n",
      " {'op': 'add',\n",
      "  'path': '/logs/RunnableParallel<agent_scratchpad>/end_time',\n",
      "  'value': '2025-06-30T05:21:17.678+00:00'})\n",
      "RunLogPatch({'op': 'add',\n",
      "  'path': '/logs/RunnableAssign<agent_scratchpad>/final_output',\n",
      "  'value': {'agent_scratchpad': [],\n",
      "            'input': 'Where is the cat hiding? What items are in that '\n",
      "                     'location?',\n",
      "            'intermediate_steps': []}},\n",
      " {'op': 'add',\n",
      "  'path': '/logs/RunnableAssign<agent_scratchpad>/end_time',\n",
      "  'value': '2025-06-30T05:21:17.678+00:00'})\n",
      "RunLogPatch({'op': 'add',\n",
      "  'path': '/logs/ChatPromptTemplate',\n",
      "  'value': {'end_time': None,\n",
      "            'final_output': None,\n",
      "            'id': '742aacaf-be84-4f41-a24e-d2d0f75673f4',\n",
      "            'metadata': {'lc_hub_commit_hash': 'c18672812789a3b9697656dd539edf0120285dcae36396d0b548ae42a4ed66f5',\n",
      "                         'lc_hub_owner': 'hwchase17',\n",
      "                         'lc_hub_repo': 'openai-tools-agent'},\n",
      "            'name': 'ChatPromptTemplate',\n",
      "            'start_time': '2025-06-30T05:21:17.680+00:00',\n",
      "            'streamed_output': [],\n",
      "            'streamed_output_str': [],\n",
      "            'tags': ['seq:step:2'],\n",
      "            'type': 'prompt'}})\n",
      "RunLogPatch({'op': 'add',\n",
      "  'path': '/logs/ChatPromptTemplate/final_output',\n",
      "  'value': ChatPromptValue(messages=[SystemMessage(content='You are a helpful assistant', additional_kwargs={}, response_metadata={}), HumanMessage(content='Where is the cat hiding? What items are in that location?', additional_kwargs={}, response_metadata={})])},\n",
      " {'op': 'add',\n",
      "  'path': '/logs/ChatPromptTemplate/end_time',\n",
      "  'value': '2025-06-30T05:21:17.683+00:00'})\n",
      "RunLogPatch({'op': 'add',\n",
      "  'path': '/logs/ChatOpenAI',\n",
      "  'value': {'end_time': None,\n",
      "            'final_output': None,\n",
      "            'id': '6049ee37-af55-485c-a961-22a73ab45933',\n",
      "            'metadata': {'ls_model_name': 'gpt-4o-mini',\n",
      "                         'ls_model_type': 'chat',\n",
      "                         'ls_provider': 'openai',\n",
      "                         'ls_temperature': None},\n",
      "            'name': 'ChatOpenAI',\n",
      "            'start_time': '2025-06-30T05:21:17.685+00:00',\n",
      "            'streamed_output': [],\n",
      "            'streamed_output_str': [],\n",
      "            'tags': ['seq:step:3', 'agent_llm'],\n",
      "            'type': 'llm'}})\n",
      "RunLogPatch({'op': 'add', 'path': '/logs/ChatOpenAI/streamed_output_str/-', 'value': ''},\n",
      " {'op': 'add',\n",
      "  'path': '/logs/ChatOpenAI/streamed_output/-',\n",
      "  'value': AIMessageChunk(content='', additional_kwargs={'tool_calls': [{'index': 0, 'id': 'call_PIkAix2J85hLRVvODSgUzAaI', 'function': {'arguments': '', 'name': 'whereCatisHiding'}, 'type': 'function'}]}, response_metadata={}, id='run--6049ee37-af55-485c-a961-22a73ab45933', tool_calls=[{'name': 'whereCatisHiding', 'args': {}, 'id': 'call_PIkAix2J85hLRVvODSgUzAaI', 'type': 'tool_call'}], tool_call_chunks=[{'name': 'whereCatisHiding', 'args': '', 'id': 'call_PIkAix2J85hLRVvODSgUzAaI', 'index': 0, 'type': 'tool_call_chunk'}])})\n",
      "RunLogPatch({'op': 'add', 'path': '/logs/ChatOpenAI/streamed_output_str/-', 'value': ''},\n",
      " {'op': 'add',\n",
      "  'path': '/logs/ChatOpenAI/streamed_output/-',\n",
      "  'value': AIMessageChunk(content='', additional_kwargs={'tool_calls': [{'index': 0, 'id': None, 'function': {'arguments': '{}', 'name': None}, 'type': None}]}, response_metadata={}, id='run--6049ee37-af55-485c-a961-22a73ab45933', tool_calls=[{'name': '', 'args': {}, 'id': None, 'type': 'tool_call'}], tool_call_chunks=[{'name': None, 'args': '{}', 'id': None, 'index': 0, 'type': 'tool_call_chunk'}])})\n",
      "RunLogPatch({'op': 'add', 'path': '/logs/ChatOpenAI/streamed_output_str/-', 'value': ''},\n",
      " {'op': 'add',\n",
      "  'path': '/logs/ChatOpenAI/streamed_output/-',\n",
      "  'value': AIMessageChunk(content='', additional_kwargs={}, response_metadata={'finish_reason': 'tool_calls', 'model_name': 'gpt-4o-mini-2024-07-18', 'system_fingerprint': 'fp_34a54ae93c'}, id='run--6049ee37-af55-485c-a961-22a73ab45933')})\n",
      "RunLogPatch({'op': 'add',\n",
      "  'path': '/logs/ChatOpenAI/final_output',\n",
      "  'value': {'generations': [[{'generation_info': {'finish_reason': 'tool_calls',\n",
      "                                                  'model_name': 'gpt-4o-mini-2024-07-18',\n",
      "                                                  'system_fingerprint': 'fp_34a54ae93c'},\n",
      "                              'message': AIMessageChunk(content='', additional_kwargs={'tool_calls': [{'index': 0, 'id': 'call_PIkAix2J85hLRVvODSgUzAaI', 'function': {'arguments': '{}', 'name': 'whereCatisHiding'}, 'type': 'function'}]}, response_metadata={'finish_reason': 'tool_calls', 'model_name': 'gpt-4o-mini-2024-07-18', 'system_fingerprint': 'fp_34a54ae93c'}, id='run--6049ee37-af55-485c-a961-22a73ab45933', tool_calls=[{'name': 'whereCatisHiding', 'args': {}, 'id': 'call_PIkAix2J85hLRVvODSgUzAaI', 'type': 'tool_call'}], tool_call_chunks=[{'name': 'whereCatisHiding', 'args': '{}', 'id': 'call_PIkAix2J85hLRVvODSgUzAaI', 'index': 0, 'type': 'tool_call_chunk'}]),\n",
      "                              'text': '',\n",
      "                              'type': 'ChatGenerationChunk'}]],\n",
      "            'llm_output': None,\n",
      "            'run': None,\n",
      "            'type': 'LLMResult'}},\n",
      " {'op': 'add',\n",
      "  'path': '/logs/ChatOpenAI/end_time',\n",
      "  'value': '2025-06-30T05:21:18.686+00:00'})\n",
      "RunLogPatch({'op': 'add',\n",
      "  'path': '/logs/OpenAIToolsAgentOutputParser',\n",
      "  'value': {'end_time': None,\n",
      "            'final_output': None,\n",
      "            'id': '30329f82-8669-471b-9e0f-831ffdf40dfe',\n",
      "            'metadata': {},\n",
      "            'name': 'OpenAIToolsAgentOutputParser',\n",
      "            'start_time': '2025-06-30T05:21:18.695+00:00',\n",
      "            'streamed_output': [],\n",
      "            'streamed_output_str': [],\n",
      "            'tags': ['seq:step:4'],\n",
      "            'type': 'parser'}})\n",
      "RunLogPatch({'op': 'add',\n",
      "  'path': '/logs/OpenAIToolsAgentOutputParser/final_output',\n",
      "  'value': {'output': [ToolAgentAction(tool='whereCatisHiding', tool_input={}, log='\\nInvoking: `whereCatisHiding` with `{}`\\n\\n\\n', message_log=[AIMessageChunk(content='', additional_kwargs={'tool_calls': [{'index': 0, 'id': 'call_PIkAix2J85hLRVvODSgUzAaI', 'function': {'arguments': '{}', 'name': 'whereCatisHiding'}, 'type': 'function'}]}, response_metadata={'finish_reason': 'tool_calls', 'model_name': 'gpt-4o-mini-2024-07-18', 'system_fingerprint': 'fp_34a54ae93c'}, id='run--6049ee37-af55-485c-a961-22a73ab45933', tool_calls=[{'name': 'whereCatisHiding', 'args': {}, 'id': 'call_PIkAix2J85hLRVvODSgUzAaI', 'type': 'tool_call'}], tool_call_chunks=[{'name': 'whereCatisHiding', 'args': '{}', 'id': 'call_PIkAix2J85hLRVvODSgUzAaI', 'index': 0, 'type': 'tool_call_chunk'}])], tool_call_id='call_PIkAix2J85hLRVvODSgUzAaI')]}},\n",
      " {'op': 'add',\n",
      "  'path': '/logs/OpenAIToolsAgentOutputParser/end_time',\n",
      "  'value': '2025-06-30T05:21:18.707+00:00'})\n"
     ]
    }
   ],
   "source": [
    "i=0\n",
    "async for chunk in agentExecutor.astream_log(\n",
    "    input={\"input\":\"Where is the cat hiding? What items are in that location?\"}\n",
    "    ):\n",
    "    print(chunk)\n",
    "    i+=1\n",
    "    if i>20: break"
   ]
  },
  {
   "cell_type": "code",
   "execution_count": null,
   "id": "d8629a63-541e-434a-9f19-ee894ae34bd2",
   "metadata": {},
   "outputs": [],
   "source": []
  }
 ],
 "metadata": {
  "kernelspec": {
   "display_name": "lcnenv",
   "language": "python",
   "name": "python3"
  },
  "language_info": {
   "codemirror_mode": {
    "name": "ipython",
    "version": 3
   },
   "file_extension": ".py",
   "mimetype": "text/x-python",
   "name": "python",
   "nbconvert_exporter": "python",
   "pygments_lexer": "ipython3",
   "version": "3.11.11"
  }
 },
 "nbformat": 4,
 "nbformat_minor": 5
}
