{
 "cells": [
  {
   "cell_type": "markdown",
   "metadata": {},
   "source": [
    "<h3>Can Skip</h3>"
   ]
  },
  {
   "cell_type": "code",
   "execution_count": 6,
   "metadata": {},
   "outputs": [],
   "source": [
    "from dotenv import load_dotenv,find_dotenv\n",
    "from langchain_google_genai import ChatGoogleGenerativeAI\n",
    "from langchain_openai import ChatOpenAI\n",
    "from pydantic import BaseModel,Field\n",
    "from langchain_core.tools import StructuredTool,tool,ToolException\n",
    "from langchain_community.tools import MoveFileTool\n",
    "from langchain_core.utils.function_calling import convert_to_openai_function\n",
    "from pprint import pprint"
   ]
  },
  {
   "cell_type": "code",
   "execution_count": 2,
   "metadata": {},
   "outputs": [
    {
     "data": {
      "text/plain": [
       "True"
      ]
     },
     "execution_count": 2,
     "metadata": {},
     "output_type": "execute_result"
    }
   ],
   "source": [
    "load_dotenv(find_dotenv(\"../.env\"))"
   ]
  },
  {
   "cell_type": "code",
   "execution_count": 11,
   "metadata": {},
   "outputs": [],
   "source": [
    "llmGemini=ChatGoogleGenerativeAI(model=\"gemini-2.0-flash-001\")\n",
    "llmOpenAI=ChatOpenAI(model=\"gpt-4o-mini\")"
   ]
  },
  {
   "cell_type": "code",
   "execution_count": 12,
   "metadata": {},
   "outputs": [],
   "source": [
    "tools=[MoveFileTool()]"
   ]
  },
  {
   "cell_type": "code",
   "execution_count": 13,
   "metadata": {},
   "outputs": [
    {
     "data": {
      "text/plain": [
       "[MoveFileTool()]"
      ]
     },
     "execution_count": 13,
     "metadata": {},
     "output_type": "execute_result"
    }
   ],
   "source": [
    "[t for t in tools]"
   ]
  },
  {
   "cell_type": "code",
   "execution_count": 14,
   "metadata": {},
   "outputs": [
    {
     "name": "stdout",
     "output_type": "stream",
     "text": [
      "{'description': 'Move or rename a file from one location to another',\n",
      " 'name': 'move_file',\n",
      " 'parameters': {'properties': {'destination_path': {'description': 'New path '\n",
      "                                                                   'for the '\n",
      "                                                                   'moved file',\n",
      "                                                    'type': 'string'},\n",
      "                               'source_path': {'description': 'Path of the '\n",
      "                                                              'file to move',\n",
      "                                               'type': 'string'}},\n",
      "                'required': ['source_path', 'destination_path'],\n",
      "                'type': 'object'}}\n"
     ]
    }
   ],
   "source": [
    "pprint(convert_to_openai_function(function=MoveFileTool()))"
   ]
  },
  {
   "cell_type": "code",
   "execution_count": 15,
   "metadata": {},
   "outputs": [
    {
     "name": "stdout",
     "output_type": "stream",
     "text": [
      "{'description': 'Move or rename a file from one location to another',\n",
      " 'name': 'move_file',\n",
      " 'parameters': {'properties': {'destination_path': {'description': 'New path '\n",
      "                                                                   'for the '\n",
      "                                                                   'moved file',\n",
      "                                                    'type': 'string'},\n",
      "                               'source_path': {'description': 'Path of the '\n",
      "                                                              'file to move',\n",
      "                                               'type': 'string'}},\n",
      "                'required': ['source_path', 'destination_path'],\n",
      "                'type': 'object'}}\n"
     ]
    }
   ],
   "source": [
    "moveFileFunction=convert_to_openai_function(\n",
    "    function=MoveFileTool()\n",
    "    )\n",
    "pprint(moveFileFunction)"
   ]
  },
  {
   "cell_type": "code",
   "execution_count": 19,
   "metadata": {},
   "outputs": [
    {
     "data": {
      "text/plain": [
       "AIMessage(content='', additional_kwargs={'function_call': {'arguments': '{\"source_path\":\"foo\",\"destination_path\":\"Bar\"}', 'name': 'move_file'}, 'refusal': None}, response_metadata={'token_usage': {'completion_tokens': 20, 'prompt_tokens': 74, 'total_tokens': 94, 'completion_tokens_details': {'accepted_prediction_tokens': 0, 'audio_tokens': 0, 'reasoning_tokens': 0, 'rejected_prediction_tokens': 0}, 'prompt_tokens_details': {'audio_tokens': 0, 'cached_tokens': 0}}, 'model_name': 'gpt-4o-mini-2024-07-18', 'system_fingerprint': 'fp_34a54ae93c', 'id': 'chatcmpl-Bn8xOFZjKAHuonQzl0cTiDT6ZLVry', 'finish_reason': 'function_call', 'logprobs': None}, id='run--74e29074-0ebe-4ee3-a02b-359620c1fafc-0', usage_metadata={'input_tokens': 74, 'output_tokens': 20, 'total_tokens': 94, 'input_token_details': {'audio': 0, 'cache_read': 0}, 'output_token_details': {'audio': 0, 'reasoning': 0}})"
      ]
     },
     "execution_count": 19,
     "metadata": {},
     "output_type": "execute_result"
    }
   ],
   "source": [
    "message=llmOpenAI.invoke(\n",
    "    input=\"Move File foo to Bar\",\n",
    "    functions=[moveFileFunction])\n",
    "message"
   ]
  },
  {
   "cell_type": "code",
   "execution_count": 20,
   "metadata": {},
   "outputs": [
    {
     "data": {
      "text/plain": [
       "{'function_call': {'arguments': '{\"source_path\":\"foo\",\"destination_path\":\"Bar\"}',\n",
       "  'name': 'move_file'},\n",
       " 'refusal': None}"
      ]
     },
     "execution_count": 20,
     "metadata": {},
     "output_type": "execute_result"
    }
   ],
   "source": [
    "message.additional_kwargs"
   ]
  },
  {
   "cell_type": "code",
   "execution_count": 21,
   "metadata": {},
   "outputs": [
    {
     "data": {
      "text/plain": [
       "AIMessage(content='I can help you move the file. What are the source and destination paths?', additional_kwargs={}, response_metadata={'prompt_feedback': {'block_reason': 0, 'safety_ratings': []}, 'finish_reason': 'STOP', 'model_name': 'gemini-2.0-flash-001', 'safety_ratings': []}, id='run--46f83493-4d92-4f42-a99e-fec341d80dc8-0', usage_metadata={'input_tokens': 45, 'output_tokens': 16, 'total_tokens': 61, 'input_token_details': {'cache_read': 0}})"
      ]
     },
     "execution_count": 21,
     "metadata": {},
     "output_type": "execute_result"
    }
   ],
   "source": [
    "llmGemini.invoke(\n",
    "    input=\"Move File foo to Bar\",\n",
    "    functions=[moveFileFunction])"
   ]
  },
  {
   "cell_type": "markdown",
   "metadata": {},
   "source": [
    "<h3> Utilizing the Tools and Functions with bind_tools and bind_function</h3>"
   ]
  },
  {
   "cell_type": "code",
   "execution_count": 22,
   "metadata": {},
   "outputs": [
    {
     "name": "stderr",
     "output_type": "stream",
     "text": [
      "C:\\Users\\MSI\\AppData\\Local\\Temp\\ipykernel_6480\\2887248742.py:1: LangChainDeprecationWarning: The method `BaseChatOpenAI.bind_functions` was deprecated in langchain-openai 0.2.1 and will be removed in 1.0.0. Use :meth:`~langchain_openai.chat_models.base.ChatOpenAI.bind_tools` instead.\n",
      "  llmOpenAIbindFunctions=llmOpenAI.bind_functions(functions=[moveFileFunction])\n"
     ]
    },
    {
     "data": {
      "text/plain": [
       "AIMessage(content='', additional_kwargs={'function_call': {'arguments': '{\"source_path\":\"foo\",\"destination_path\":\"Bar\"}', 'name': 'move_file'}, 'refusal': None}, response_metadata={'token_usage': {'completion_tokens': 20, 'prompt_tokens': 74, 'total_tokens': 94, 'completion_tokens_details': {'accepted_prediction_tokens': 0, 'audio_tokens': 0, 'reasoning_tokens': 0, 'rejected_prediction_tokens': 0}, 'prompt_tokens_details': {'audio_tokens': 0, 'cached_tokens': 0}}, 'model_name': 'gpt-4o-mini-2024-07-18', 'system_fingerprint': 'fp_34a54ae93c', 'id': 'chatcmpl-Bn8yPBIIkNbK49dcOVfvrdp6ZSayt', 'finish_reason': 'function_call', 'logprobs': None}, id='run--6f19cd82-2732-4369-9a67-a738ecccd5e9-0', usage_metadata={'input_tokens': 74, 'output_tokens': 20, 'total_tokens': 94, 'input_token_details': {'audio': 0, 'cache_read': 0}, 'output_token_details': {'audio': 0, 'reasoning': 0}})"
      ]
     },
     "execution_count": 22,
     "metadata": {},
     "output_type": "execute_result"
    }
   ],
   "source": [
    "llmOpenAIbindFunctions=llmOpenAI.bind_functions(functions=[moveFileFunction])\n",
    "llmOpenAIbindFunctions.invoke(input=\"Move File foo to Bar\")"
   ]
  },
  {
   "cell_type": "code",
   "execution_count": 23,
   "metadata": {},
   "outputs": [
    {
     "data": {
      "text/plain": [
       "AIMessage(content='', additional_kwargs={'tool_calls': [{'id': 'call_L0at0Norj84XJoLnptCdq8Bl', 'function': {'arguments': '{\"source_path\":\"foo\",\"destination_path\":\"Bar\"}', 'name': 'move_file'}, 'type': 'function'}], 'refusal': None}, response_metadata={'token_usage': {'completion_tokens': 20, 'prompt_tokens': 74, 'total_tokens': 94, 'completion_tokens_details': {'accepted_prediction_tokens': 0, 'audio_tokens': 0, 'reasoning_tokens': 0, 'rejected_prediction_tokens': 0}, 'prompt_tokens_details': {'audio_tokens': 0, 'cached_tokens': 0}}, 'model_name': 'gpt-4o-mini-2024-07-18', 'system_fingerprint': 'fp_34a54ae93c', 'id': 'chatcmpl-Bn8yS3zrLtmZMlUvt7l1qu6afqD3E', 'finish_reason': 'tool_calls', 'logprobs': None}, id='run--6bfb3fd9-e361-4725-9336-3113d9f9ed8b-0', tool_calls=[{'name': 'move_file', 'args': {'source_path': 'foo', 'destination_path': 'Bar'}, 'id': 'call_L0at0Norj84XJoLnptCdq8Bl', 'type': 'tool_call'}], usage_metadata={'input_tokens': 74, 'output_tokens': 20, 'total_tokens': 94, 'input_token_details': {'audio': 0, 'cache_read': 0}, 'output_token_details': {'audio': 0, 'reasoning': 0}})"
      ]
     },
     "execution_count": 23,
     "metadata": {},
     "output_type": "execute_result"
    }
   ],
   "source": [
    "llmOpenAIbindTools=llmOpenAI.bind_tools(tools=[MoveFileTool()])\n",
    "llmOpenAIbindTools.invoke(input=\"Move File foo to Bar\")"
   ]
  },
  {
   "cell_type": "code",
   "execution_count": null,
   "metadata": {},
   "outputs": [],
   "source": []
  }
 ],
 "metadata": {
  "kernelspec": {
   "display_name": "lcnenv",
   "language": "python",
   "name": "python3"
  },
  "language_info": {
   "codemirror_mode": {
    "name": "ipython",
    "version": 3
   },
   "file_extension": ".py",
   "mimetype": "text/x-python",
   "name": "python",
   "nbconvert_exporter": "python",
   "pygments_lexer": "ipython3",
   "version": "3.11.11"
  }
 },
 "nbformat": 4,
 "nbformat_minor": 4
}
