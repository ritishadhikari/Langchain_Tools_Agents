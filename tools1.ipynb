{
 "cells": [
  {
   "cell_type": "code",
   "execution_count": 56,
   "id": "5f7dada0-5b93-4279-84d4-9884d801b497",
   "metadata": {},
   "outputs": [],
   "source": [
    "import pandas as pd\n",
    "import numpy as np\n",
    "from langchain_google_genai import ChatGoogleGenerativeAI\n",
    "from dotenv import load_dotenv,find_dotenv\n",
    "from langchain.prompts import ChatPromptTemplate,SystemMessagePromptTemplate,HumanMessagePromptTemplate\n",
    "from langchain_openai import ChatOpenAI\n",
    "\n",
    "from operator import itemgetter\n",
    "from langchain_core.tools import tool\n",
    "from langchain_core.runnables import RunnablePassthrough,RunnableLambda\n",
    "from langchain import hub\n",
    "from langchain.agents import AgentExecutor, create_tool_calling_agent"
   ]
  },
  {
   "cell_type": "code",
   "execution_count": 2,
   "id": "c1b6f334-367f-4f0d-a2c5-49bd79128113",
   "metadata": {},
   "outputs": [
    {
     "data": {
      "text/plain": [
       "True"
      ]
     },
     "execution_count": 2,
     "metadata": {},
     "output_type": "execute_result"
    }
   ],
   "source": [
    "load_dotenv(find_dotenv(\"D:\\LLM Courses\\Master Langchain Udemy\\.env\"))"
   ]
  },
  {
   "cell_type": "markdown",
   "id": "4a9ed5e9-0599-495c-9c77-17da0a5f8702",
   "metadata": {},
   "source": [
    "<h3> Creating a Tool </h3>"
   ]
  },
  {
   "cell_type": "code",
   "execution_count": 12,
   "id": "6bc67fa5-6def-4d9e-98aa-9e805c9096f0",
   "metadata": {},
   "outputs": [],
   "source": [
    "@tool\n",
    "def multiply(firstInt:int, secondInt: int) -> int:\n",
    "    \"\"\"\n",
    "        Multiply two integers togather\n",
    "    \"\"\"\n",
    "    return firstInt*secondInt\n",
    "\n",
    "@tool\n",
    "def add(firstInt:int, secondInt: int) -> int:\n",
    "    \"\"\"\n",
    "        Add two integers togather\n",
    "    \"\"\"\n",
    "    return firstInt+secondInt"
   ]
  },
  {
   "cell_type": "code",
   "execution_count": 5,
   "id": "0dcfad99-8aae-4f41-ba91-59854ac1d544",
   "metadata": {},
   "outputs": [
    {
     "data": {
      "text/plain": [
       "langchain_core.tools.structured.StructuredTool"
      ]
     },
     "execution_count": 5,
     "metadata": {},
     "output_type": "execute_result"
    }
   ],
   "source": [
    "type(multiply)"
   ]
  },
  {
   "cell_type": "code",
   "execution_count": 6,
   "id": "4d525990-ea22-4155-b265-a7fae46ff370",
   "metadata": {},
   "outputs": [
    {
     "name": "stdout",
     "output_type": "stream",
     "text": [
      "multiply\n",
      "Multiply two integers togather\n",
      "{'firstInt': {'title': 'Firstint', 'type': 'integer'}, 'secondInt': {'title': 'Secondint', 'type': 'integer'}}\n"
     ]
    }
   ],
   "source": [
    "print(multiply.name)\n",
    "print(multiply.description)\n",
    "print(multiply.args)"
   ]
  },
  {
   "cell_type": "code",
   "execution_count": 8,
   "id": "ea9bde1b-5908-4d2d-a402-dcf4f1be90a1",
   "metadata": {},
   "outputs": [
    {
     "data": {
      "text/plain": [
       "18"
      ]
     },
     "execution_count": 8,
     "metadata": {},
     "output_type": "execute_result"
    }
   ],
   "source": [
    "multiply.invoke(input={\"firstInt\":6,\"secondInt\":3})"
   ]
  },
  {
   "cell_type": "markdown",
   "id": "1014be4f-4403-4287-8164-0d564aea9923",
   "metadata": {},
   "source": [
    "<h3>Chains</h3>"
   ]
  },
  {
   "cell_type": "code",
   "execution_count": 34,
   "id": "f110eba9-d6c0-4c39-af7a-1c4079100d4c",
   "metadata": {},
   "outputs": [
    {
     "data": {
      "text/plain": [
       "ChatGoogleGenerativeAI(model='models/gemini-1.5-flash', client=<google.ai.generativelanguage_v1beta.services.generative_service.client.GenerativeServiceClient object at 0x0000023D3A886210>, async_client=<google.ai.generativelanguage_v1beta.services.generative_service.async_client.GenerativeServiceAsyncClient object at 0x0000023D3A183950>, default_metadata=())"
      ]
     },
     "execution_count": 34,
     "metadata": {},
     "output_type": "execute_result"
    }
   ],
   "source": [
    "llm=ChatGoogleGenerativeAI(model=\"gemini-1.5-flash\")\n",
    "# llm=ChatOpenAI(model=\"gpt-3.5-turbo\")\n",
    "llm"
   ]
  },
  {
   "cell_type": "code",
   "execution_count": null,
   "id": "d164b7af-125d-48f4-8bbc-e88b9ddcbd36",
   "metadata": {},
   "outputs": [],
   "source": []
  },
  {
   "cell_type": "code",
   "execution_count": 35,
   "id": "bd859e78-42b8-400d-993f-c3431e82781a",
   "metadata": {},
   "outputs": [
    {
     "data": {
      "text/plain": [
       "RunnableBinding(bound=ChatGoogleGenerativeAI(model='models/gemini-1.5-flash', client=<google.ai.generativelanguage_v1beta.services.generative_service.client.GenerativeServiceClient object at 0x0000023D3A886210>, async_client=<google.ai.generativelanguage_v1beta.services.generative_service.async_client.GenerativeServiceAsyncClient object at 0x0000023D3A183950>, default_metadata=()), kwargs={'tools': [{'function_declarations': [{'name': 'multiply', 'description': 'Multiply two integers togather', 'parameters': {'type': 'object', 'properties': {'secondInt': {'type': 'integer'}, 'firstInt': {'type': 'integer'}}, 'required': ['firstInt', 'secondInt']}}, {'name': 'add', 'description': 'Add two integers togather', 'parameters': {'type': 'object', 'properties': {'secondInt': {'type': 'integer'}, 'firstInt': {'type': 'integer'}}, 'required': ['firstInt', 'secondInt']}}]}], 'tool_config': None})"
      ]
     },
     "execution_count": 35,
     "metadata": {},
     "output_type": "execute_result"
    }
   ],
   "source": [
    "llmWithTools=llm.bind_tools(tools=[multiply,add])\n",
    "llmWithTools"
   ]
  },
  {
   "cell_type": "code",
   "execution_count": 44,
   "id": "06ad08ec-cf6a-4cc0-aa7a-7e2c89c28275",
   "metadata": {},
   "outputs": [],
   "source": [
    "question=\"What's 5 plus Forty Two?\"\n",
    "response=llmWithTools.invoke(input=question)"
   ]
  },
  {
   "cell_type": "code",
   "execution_count": 40,
   "id": "e4be73f5-8636-4401-ae95-87213144a9cb",
   "metadata": {},
   "outputs": [
    {
     "data": {
      "text/plain": [
       "''"
      ]
     },
     "execution_count": 40,
     "metadata": {},
     "output_type": "execute_result"
    }
   ],
   "source": [
    "response.content"
   ]
  },
  {
   "cell_type": "code",
   "execution_count": 41,
   "id": "71878ba8-406e-4479-9031-d086a76f9f6c",
   "metadata": {},
   "outputs": [
    {
     "data": {
      "text/plain": [
       "[{'name': 'add',\n",
       "  'args': {'secondInt': 42.0, 'firstInt': 5.0},\n",
       "  'id': '10d2a7ab-9186-4115-abcf-3b95de8520b4',\n",
       "  'type': 'tool_call'}]"
      ]
     },
     "execution_count": 41,
     "metadata": {},
     "output_type": "execute_result"
    }
   ],
   "source": [
    "response.tool_calls"
   ]
  },
  {
   "cell_type": "code",
   "execution_count": 45,
   "id": "1058cef8-e69b-4088-8003-2a5a97698d81",
   "metadata": {},
   "outputs": [
    {
     "data": {
      "text/plain": [
       "47"
      ]
     },
     "execution_count": 45,
     "metadata": {},
     "output_type": "execute_result"
    }
   ],
   "source": [
    "add.invoke(response.tool_calls[0]['args'])"
   ]
  },
  {
   "cell_type": "code",
   "execution_count": 55,
   "id": "e7056200-fa2a-42c9-ae29-59979e285fcf",
   "metadata": {},
   "outputs": [
    {
     "data": {
      "text/plain": [
       "47"
      ]
     },
     "execution_count": 55,
     "metadata": {},
     "output_type": "execute_result"
    }
   ],
   "source": [
    "(llmWithTools|RunnableLambda(lambda k : k.tool_calls[0][\"args\"])| add).invoke(input=question)"
   ]
  },
  {
   "cell_type": "markdown",
   "id": "35c41f35-ff5d-4fbe-8e93-b80939095bf4",
   "metadata": {},
   "source": [
    "<h3>Agents</h3>"
   ]
  },
  {
   "cell_type": "code",
   "execution_count": 57,
   "id": "1c0d0f29-6f9e-4d83-9ff7-96a8bb4bd37a",
   "metadata": {},
   "outputs": [],
   "source": [
    "prompt=hub.pull(owner_repo_commit=\"hwchase17/openai-tools-agent\")"
   ]
  },
  {
   "cell_type": "code",
   "execution_count": 59,
   "id": "4331efb5-f03b-43e8-bf08-8e99a2ea52ad",
   "metadata": {},
   "outputs": [
    {
     "name": "stdout",
     "output_type": "stream",
     "text": [
      "================================\u001b[1m System Message \u001b[0m================================\n",
      "\n",
      "You are a helpful assistant\n",
      "\n",
      "=============================\u001b[1m Messages Placeholder \u001b[0m=============================\n",
      "\n",
      "\u001b[33;1m\u001b[1;3m{chat_history}\u001b[0m\n",
      "\n",
      "================================\u001b[1m Human Message \u001b[0m=================================\n",
      "\n",
      "\u001b[33;1m\u001b[1;3m{input}\u001b[0m\n",
      "\n",
      "=============================\u001b[1m Messages Placeholder \u001b[0m=============================\n",
      "\n",
      "\u001b[33;1m\u001b[1;3m{agent_scratchpad}\u001b[0m\n"
     ]
    }
   ],
   "source": [
    "prompt.pretty_print()"
   ]
  },
  {
   "cell_type": "code",
   "execution_count": 62,
   "id": "622376cb-e717-46fd-b211-e79a436885d3",
   "metadata": {},
   "outputs": [
    {
     "data": {
      "text/plain": [
       "(['agent_scratchpad', 'input'], ['chat_history'])"
      ]
     },
     "execution_count": 62,
     "metadata": {},
     "output_type": "execute_result"
    }
   ],
   "source": [
    "prompt.input_variables,prompt.optional_variables"
   ]
  },
  {
   "cell_type": "code",
   "execution_count": 63,
   "id": "32352c43-baa7-4057-856b-3731875e8db6",
   "metadata": {},
   "outputs": [],
   "source": [
    "@tool \n",
    "def exponentiate (base:int, exponent:int) -> int:\n",
    "    \"\"\"\n",
    "        Exponentiate the base to the exponent power\n",
    "    \"\"\"\n",
    "    return base**exponent   "
   ]
  },
  {
   "cell_type": "code",
   "execution_count": 64,
   "id": "bfbd717e-d40f-4e5f-b4e4-f135b5208e16",
   "metadata": {},
   "outputs": [],
   "source": [
    "tools=[multiply, add, exponentiate]"
   ]
  },
  {
   "cell_type": "code",
   "execution_count": 65,
   "id": "aa499281-3635-4e7e-8358-532f1ffe8c0b",
   "metadata": {},
   "outputs": [],
   "source": [
    "agent=create_tool_calling_agent(llm=llm, tools=tools, prompt=prompt)"
   ]
  },
  {
   "cell_type": "code",
   "execution_count": 66,
   "id": "135e5997-4c91-45ec-b43c-63d54211f183",
   "metadata": {},
   "outputs": [
    {
     "data": {
      "text/plain": [
       "RunnableAssign(mapper={\n",
       "  agent_scratchpad: RunnableLambda(lambda x: message_formatter(x['intermediate_steps']))\n",
       "})\n",
       "| ChatPromptTemplate(input_variables=['agent_scratchpad', 'input'], optional_variables=['chat_history'], input_types={'chat_history': typing.List[typing.Union[langchain_core.messages.ai.AIMessage, langchain_core.messages.human.HumanMessage, langchain_core.messages.chat.ChatMessage, langchain_core.messages.system.SystemMessage, langchain_core.messages.function.FunctionMessage, langchain_core.messages.tool.ToolMessage]], 'agent_scratchpad': typing.List[typing.Union[langchain_core.messages.ai.AIMessage, langchain_core.messages.human.HumanMessage, langchain_core.messages.chat.ChatMessage, langchain_core.messages.system.SystemMessage, langchain_core.messages.function.FunctionMessage, langchain_core.messages.tool.ToolMessage]]}, partial_variables={'chat_history': []}, metadata={'lc_hub_owner': 'hwchase17', 'lc_hub_repo': 'openai-tools-agent', 'lc_hub_commit_hash': 'c18672812789a3b9697656dd539edf0120285dcae36396d0b548ae42a4ed66f5'}, messages=[SystemMessagePromptTemplate(prompt=PromptTemplate(input_variables=[], template='You are a helpful assistant')), MessagesPlaceholder(variable_name='chat_history', optional=True), HumanMessagePromptTemplate(prompt=PromptTemplate(input_variables=['input'], template='{input}')), MessagesPlaceholder(variable_name='agent_scratchpad')])\n",
       "| RunnableBinding(bound=ChatGoogleGenerativeAI(model='models/gemini-1.5-flash', client=<google.ai.generativelanguage_v1beta.services.generative_service.client.GenerativeServiceClient object at 0x0000023D3A886210>, async_client=<google.ai.generativelanguage_v1beta.services.generative_service.async_client.GenerativeServiceAsyncClient object at 0x0000023D3A183950>, default_metadata=()), kwargs={'tools': [{'function_declarations': [{'name': 'multiply', 'description': 'Multiply two integers togather', 'parameters': {'type': 'object', 'properties': {'secondInt': {'type': 'integer'}, 'firstInt': {'type': 'integer'}}, 'required': ['firstInt', 'secondInt']}}, {'name': 'add', 'description': 'Add two integers togather', 'parameters': {'type': 'object', 'properties': {'secondInt': {'type': 'integer'}, 'firstInt': {'type': 'integer'}}, 'required': ['firstInt', 'secondInt']}}, {'name': 'exponentiate', 'description': 'Exponentiate the base to the exponent power', 'parameters': {'type': 'object', 'properties': {'exponent': {'type': 'integer'}, 'base': {'type': 'integer'}}, 'required': ['base', 'exponent']}}]}], 'tool_config': None})\n",
       "| ToolsAgentOutputParser()"
      ]
     },
     "execution_count": 66,
     "metadata": {},
     "output_type": "execute_result"
    }
   ],
   "source": [
    "agent"
   ]
  },
  {
   "cell_type": "code",
   "execution_count": 67,
   "id": "154d831a-4beb-44b0-9bd3-22f3e794f862",
   "metadata": {},
   "outputs": [],
   "source": [
    "agentExecutor=AgentExecutor(tools=tools,agent=agent, verbose=True)"
   ]
  },
  {
   "cell_type": "code",
   "execution_count": 68,
   "id": "1cc49453-3a10-4c86-9fa2-1a991ed39d23",
   "metadata": {},
   "outputs": [],
   "source": [
    "question=\"Take 3 to the fifth power and Multiply that by the sum of twelve and three, then square the whole result\""
   ]
  },
  {
   "cell_type": "code",
   "execution_count": 69,
   "id": "0fcf6a82-c51c-4155-8fcb-c19cfc0db145",
   "metadata": {},
   "outputs": [
    {
     "name": "stdout",
     "output_type": "stream",
     "text": [
      "\n",
      "\n",
      "\u001b[1m> Entering new AgentExecutor chain...\u001b[0m\n",
      "\u001b[32;1m\u001b[1;3m\n",
      "Invoking: `exponentiate` with `{'exponent': 5.0, 'base': 3.0}`\n",
      "\n",
      "\n",
      "\u001b[0m\u001b[38;5;200m\u001b[1;3m243\u001b[0m\u001b[32;1m\u001b[1;3m\n",
      "Invoking: `add` with `{'secondInt': 3.0, 'firstInt': 12.0}`\n",
      "\n",
      "\n",
      "\u001b[0m\u001b[33;1m\u001b[1;3m15\u001b[0m\u001b[32;1m\u001b[1;3m\n",
      "Invoking: `multiply` with `{'secondInt': 15.0, 'firstInt': 243.0}`\n",
      "\n",
      "\n",
      "\u001b[0m\u001b[36;1m\u001b[1;3m3645\u001b[0m\u001b[32;1m\u001b[1;3m\n",
      "Invoking: `exponentiate` with `{'exponent': 2.0, 'base': 3645.0}`\n",
      "\n",
      "\n",
      "\u001b[0m\u001b[38;5;200m\u001b[1;3m13286025\u001b[0m\u001b[32;1m\u001b[1;3mThe answer is 13286025. \n",
      "\u001b[0m\n",
      "\n",
      "\u001b[1m> Finished chain.\u001b[0m\n"
     ]
    },
    {
     "data": {
      "text/plain": [
       "{'input': 'Take 3 to the fifth power and Multiply that by the sum of twelve and three, then square the whole result',\n",
       " 'output': 'The answer is 13286025. \\n'}"
      ]
     },
     "execution_count": 69,
     "metadata": {},
     "output_type": "execute_result"
    }
   ],
   "source": [
    "agentExecutor.invoke(input={\n",
    "    \"input\": question\n",
    "})"
   ]
  },
  {
   "cell_type": "code",
   "execution_count": null,
   "id": "cc2d688a-46f7-4c67-90e4-81121ba249f7",
   "metadata": {},
   "outputs": [],
   "source": []
  }
 ],
 "metadata": {
  "kernelspec": {
   "display_name": "Python 3 (ipykernel)",
   "language": "python",
   "name": "python3"
  },
  "language_info": {
   "codemirror_mode": {
    "name": "ipython",
    "version": 3
   },
   "file_extension": ".py",
   "mimetype": "text/x-python",
   "name": "python",
   "nbconvert_exporter": "python",
   "pygments_lexer": "ipython3",
   "version": "3.11.9"
  }
 },
 "nbformat": 4,
 "nbformat_minor": 5
}
