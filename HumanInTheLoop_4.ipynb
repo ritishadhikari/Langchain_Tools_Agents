{
 "cells": [
  {
   "cell_type": "code",
   "execution_count": 1,
   "id": "58e83fc6-9cc1-4f5c-8caa-e71134b64a6f",
   "metadata": {},
   "outputs": [],
   "source": [
    "from langchain.agents import AgentExecutor, create_tool_calling_agent\n",
    "from langchain_core.runnables import RunnablePassthrough,RunnableLambda, Runnable, RunnableParallel\n",
    "from langchain_core.messages import AIMessage\n",
    "from dotenv import load_dotenv,find_dotenv\n",
    "from langchain_google_genai import ChatGoogleGenerativeAI\n",
    "from langchain_openai import ChatOpenAI\n",
    "from langchain.tools.render import render_text_description\n",
    "from langchain.tools import tool\n",
    "from langchain_core.prompts import ChatPromptTemplate,SystemMessagePromptTemplate, HumanMessagePromptTemplate\n",
    "from langchain_core.output_parsers import JsonOutputParser\n",
    "from operator import itemgetter\n",
    "import json"
   ]
  },
  {
   "cell_type": "code",
   "execution_count": 2,
   "id": "742f26f4-1d7c-4f39-b4a3-48840984d509",
   "metadata": {},
   "outputs": [
    {
     "data": {
      "text/plain": [
       "True"
      ]
     },
     "execution_count": 2,
     "metadata": {},
     "output_type": "execute_result"
    }
   ],
   "source": [
    "load_dotenv(find_dotenv(\"../.env\"))"
   ]
  },
  {
   "cell_type": "code",
   "execution_count": 13,
   "id": "d218a8ee-5212-4248-a71d-1ddde6baefd4",
   "metadata": {},
   "outputs": [],
   "source": [
    "llmGemini=ChatGoogleGenerativeAI(model=\"gemini-2.0-flash-001\")\n",
    "llmGPT=ChatOpenAI(model=\"gpt-4o-mini\",max_retries=1)"
   ]
  },
  {
   "cell_type": "code",
   "execution_count": 4,
   "id": "edeb8d86-872f-444a-9182-4af0ca873c5f",
   "metadata": {},
   "outputs": [],
   "source": [
    "@tool\n",
    "def count_emails(last_n_days: int) -> int:\n",
    "    \"\"\"Multiply two integers together.\"\"\"\n",
    "    return last_n_days * 2\n",
    "\n",
    "\n",
    "@tool\n",
    "def send_email(message: str, recipient: str) -> str:\n",
    "    \"Send email message to the recipient\"\n",
    "    return f\"Successfully sent email:\\n{message}\\n to {recipient}.\""
   ]
  },
  {
   "cell_type": "code",
   "execution_count": 14,
   "id": "c55ef16e-1ba4-4ad1-b46f-fae664bcd986",
   "metadata": {},
   "outputs": [],
   "source": [
    "tools=[count_emails,send_email]\n",
    "llmWithTools=llmGPT.bind_tools(tools=tools)"
   ]
  },
  {
   "cell_type": "code",
   "execution_count": 15,
   "id": "9b026b72-d437-49c1-acc1-45c900ec42f4",
   "metadata": {},
   "outputs": [],
   "source": [
    "def toolIdentifier(msg: AIMessage) -> Runnable:\n",
    "    toolMap={tool.name:tool for tool in tools}\n",
    "    for toolInfo in msg.tool_calls:\n",
    "        toolInfo['output']=toolMap[toolInfo['name']].invoke(input=toolInfo['args'])\n",
    "    return msg.tool_calls"
   ]
  },
  {
   "cell_type": "code",
   "execution_count": 16,
   "id": "f2c8df0e-b48d-4984-8b28-b0d1b57f0c02",
   "metadata": {},
   "outputs": [],
   "source": [
    "chain=llmWithTools|toolIdentifier"
   ]
  },
  {
   "cell_type": "code",
   "execution_count": 17,
   "id": "e5e68ee7-157a-4a52-bc39-2bfb092a20d9",
   "metadata": {},
   "outputs": [],
   "source": [
    "question1=\"How many emails did I get in the last 5 days?\""
   ]
  },
  {
   "cell_type": "code",
   "execution_count": 18,
   "id": "1814ed39-2470-4480-b9d6-07b8d30a538f",
   "metadata": {},
   "outputs": [
    {
     "data": {
      "text/plain": [
       "[{'name': 'count_emails',\n",
       "  'args': {'last_n_days': 5},\n",
       "  'id': 'call_17l0uC2QNECl0h7l65q5tXSi',\n",
       "  'type': 'tool_call',\n",
       "  'output': 10}]"
      ]
     },
     "execution_count": 18,
     "metadata": {},
     "output_type": "execute_result"
    }
   ],
   "source": [
    "chain.invoke(input=question1)"
   ]
  },
  {
   "cell_type": "code",
   "execution_count": 19,
   "id": "6a048b0a-6aff-4823-aabc-6a4b77138702",
   "metadata": {},
   "outputs": [],
   "source": [
    "question2=\"Send an Email to Mr. Ritish Adhikari stating that you will be late?\""
   ]
  },
  {
   "cell_type": "code",
   "execution_count": 20,
   "id": "778aaf76-8227-436a-bab9-7ff412762814",
   "metadata": {},
   "outputs": [
    {
     "data": {
      "text/plain": [
       "[{'name': 'send_email',\n",
       "  'args': {'message': 'Dear Mr. Ritish Adhikari,\\n\\nI hope this message finds you well. I wanted to inform you that I will be running late today. I apologize for any inconvenience this may cause and appreciate your understanding.\\n\\nThank you for your patience.\\n\\nBest regards,\\n\\n[Your Name]',\n",
       "   'recipient': 'ritish.adhikari@example.com'},\n",
       "  'id': 'call_JRPpQ3WVpQthowg2PsXFDiTb',\n",
       "  'type': 'tool_call',\n",
       "  'output': 'Successfully sent email:\\nDear Mr. Ritish Adhikari,\\n\\nI hope this message finds you well. I wanted to inform you that I will be running late today. I apologize for any inconvenience this may cause and appreciate your understanding.\\n\\nThank you for your patience.\\n\\nBest regards,\\n\\n[Your Name]\\n to ritish.adhikari@example.com.'}]"
      ]
     },
     "execution_count": 20,
     "metadata": {},
     "output_type": "execute_result"
    }
   ],
   "source": [
    "chain.invoke(input=question2)"
   ]
  },
  {
   "cell_type": "markdown",
   "id": "211de6e3-9663-472f-9af3-62205ee5c936",
   "metadata": {},
   "source": [
    "<h3> Adding of Human Approval </h3>"
   ]
  },
  {
   "cell_type": "code",
   "execution_count": 21,
   "id": "efec5f53-f7e9-4434-b6a7-79bb50c197e9",
   "metadata": {},
   "outputs": [
    {
     "data": {
      "text/plain": [
       "{'name': 'send_email',\n",
       " 'args': {'message': 'Dear Mr. Ritish Adhikari,\\n\\nI hope this message finds you well. I wanted to inform you that I will be late today. I apologize for any inconvenience this may cause.\\n\\nThank you for your understanding.\\n\\nBest regards,\\n\\n[Your Name]',\n",
       "  'recipient': 'ritish.adhikari@example.com'},\n",
       " 'id': 'call_B1v36ha4c1yf2Xb90bQ2yIur',\n",
       " 'type': 'tool_call'}"
      ]
     },
     "execution_count": 21,
     "metadata": {},
     "output_type": "execute_result"
    }
   ],
   "source": [
    "toolCall=llmWithTools.invoke(input=question2).tool_calls[0]\n",
    "toolCall"
   ]
  },
  {
   "cell_type": "code",
   "execution_count": 22,
   "id": "a3b4874f-19d6-46f5-94a0-9c8a3b99a152",
   "metadata": {},
   "outputs": [
    {
     "name": "stdout",
     "output_type": "stream",
     "text": [
      "{\n",
      "  \"name\": \"send_email\",\n",
      "  \"args\": {\n",
      "    \"message\": \"Dear Mr. Ritish Adhikari,\\n\\nI hope this message finds you well. I wanted to inform you that I will be late today. I apologize for any inconvenience this may cause.\\n\\nThank you for your understanding.\\n\\nBest regards,\\n\\n[Your Name]\",\n",
      "    \"recipient\": \"ritish.adhikari@example.com\"\n",
      "  },\n",
      "  \"id\": \"call_B1v36ha4c1yf2Xb90bQ2yIur\",\n",
      "  \"type\": \"tool_call\"\n",
      "}\n"
     ]
    }
   ],
   "source": [
    "print(json.dumps(obj=toolCall,indent=2))"
   ]
  },
  {
   "cell_type": "code",
   "execution_count": 23,
   "id": "ecdaf9c7-f14f-4033-8fcb-3d007bf7b6e3",
   "metadata": {},
   "outputs": [
    {
     "name": "stdout",
     "output_type": "stream",
     "text": [
      "{\n",
      "  \"name\": \"send_email\",\n",
      "  \"args\": {\n",
      "    \"message\": \"Dear Mr. Ritish Adhikari,\\n\\nI hope this message finds you well. I wanted to inform you that I will be late today. I apologize for any inconvenience this may cause and appreciate your understanding.\\n\\nBest regards,\\n\\n[Your Name]\",\n",
      "    \"recipient\": \"ritish.adhikari@example.com\"\n",
      "  },\n",
      "  \"id\": \"call_TjOJ0AI4ms2wfCEXaI4qgnJ2\",\n",
      "  \"type\": \"tool_call\"\n",
      "}\n"
     ]
    }
   ],
   "source": [
    "print(\"\".join(json.dumps(obj=toolcall, indent=2) for toolcall in llmWithTools.invoke(input=question2).tool_calls))"
   ]
  },
  {
   "cell_type": "code",
   "execution_count": 24,
   "id": "a7c265f6-3078-4d27-b809-77b745827759",
   "metadata": {},
   "outputs": [],
   "source": [
    "def humanApproval(msg: AIMessage) -> Runnable:\n",
    "    toolStrs=\"\".join(json.dumps(obj=toolcall, indent=2) for toolcall in msg.tool_calls)\n",
    "\n",
    "    inputMessage=(\n",
    "        f\"Do you approve of the following tool invocations \\n\\n {toolStrs}\\n\\n\"\n",
    "        \"Anything except 'Y'/'Yes' (case-insensitive) will be treated as a No\")\n",
    "\n",
    "    resp=input(inputMessage)\n",
    "    if resp.lower() not in ['y','yes']:\n",
    "        raise ValueError(f\"Tool Invocation is Not approved: \\n\\n {toolStrs}\")\n",
    "    else:\n",
    "        return msg"
   ]
  },
  {
   "cell_type": "code",
   "execution_count": 25,
   "id": "3f94dd08-c01f-4810-980f-0db1eea07e73",
   "metadata": {},
   "outputs": [],
   "source": [
    "chain=llmWithTools|humanApproval|toolIdentifier"
   ]
  },
  {
   "cell_type": "code",
   "execution_count": 26,
   "id": "ed47994a-83d7-4094-ab83-da1fbc9fcd71",
   "metadata": {},
   "outputs": [
    {
     "data": {
      "text/plain": [
       "[{'name': 'send_email',\n",
       "  'args': {'message': 'Dear Mr. Ritish Adhikari,\\n\\nI hope this message finds you well. I wanted to inform you that I will be late. I apologize for any inconvenience this may cause and appreciate your understanding.\\n\\nThank you for your patience.\\n\\nBest regards,\\n\\n[Your Name]',\n",
       "   'recipient': 'ritish.adhikari@example.com'},\n",
       "  'id': 'call_aP7XpFVkinBcEbS7lr4HAvr1',\n",
       "  'type': 'tool_call',\n",
       "  'output': 'Successfully sent email:\\nDear Mr. Ritish Adhikari,\\n\\nI hope this message finds you well. I wanted to inform you that I will be late. I apologize for any inconvenience this may cause and appreciate your understanding.\\n\\nThank you for your patience.\\n\\nBest regards,\\n\\n[Your Name]\\n to ritish.adhikari@example.com.'}]"
      ]
     },
     "execution_count": 26,
     "metadata": {},
     "output_type": "execute_result"
    }
   ],
   "source": [
    "chain.invoke(input=question2)"
   ]
  },
  {
   "cell_type": "code",
   "execution_count": 27,
   "id": "5be40869-c1d4-4772-81f3-3b37dd91f011",
   "metadata": {},
   "outputs": [
    {
     "data": {
      "text/plain": [
       "[{'name': 'count_emails',\n",
       "  'args': {'last_n_days': 5},\n",
       "  'id': 'call_JyUJymaRAhuSj84Qm5mktAdZ',\n",
       "  'type': 'tool_call',\n",
       "  'output': 10}]"
      ]
     },
     "execution_count": 27,
     "metadata": {},
     "output_type": "execute_result"
    }
   ],
   "source": [
    "chain.invoke(input=question1)"
   ]
  },
  {
   "cell_type": "code",
   "execution_count": null,
   "id": "fcda7888-2fda-4ff9-9394-4f48ebcafd98",
   "metadata": {},
   "outputs": [],
   "source": []
  }
 ],
 "metadata": {
  "kernelspec": {
   "display_name": "lcnenv",
   "language": "python",
   "name": "python3"
  },
  "language_info": {
   "codemirror_mode": {
    "name": "ipython",
    "version": 3
   },
   "file_extension": ".py",
   "mimetype": "text/x-python",
   "name": "python",
   "nbconvert_exporter": "python",
   "pygments_lexer": "ipython3",
   "version": "3.11.11"
  }
 },
 "nbformat": 4,
 "nbformat_minor": 5
}
