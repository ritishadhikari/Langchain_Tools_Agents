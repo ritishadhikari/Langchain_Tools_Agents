{
 "cells": [
  {
   "cell_type": "code",
   "execution_count": 22,
   "metadata": {},
   "outputs": [],
   "source": [
    "from dotenv import load_dotenv,find_dotenv\n",
    "from langchain_google_genai import ChatGoogleGenerativeAI\n",
    "from langchain_openai import ChatOpenAI\n",
    "from pydantic import BaseModel,Field,ValidationError\n",
    "from langchain_core.tools import StructuredTool,tool,ToolException\n",
    "\n",
    "from langchain.agents import (AgentExecutor, create_tool_calling_agent)\n",
    "from langchain_core.prompts import ChatPromptTemplate\n",
    "from langchain import hub"
   ]
  },
  {
   "cell_type": "code",
   "execution_count": 2,
   "metadata": {},
   "outputs": [
    {
     "data": {
      "text/plain": [
       "True"
      ]
     },
     "execution_count": 2,
     "metadata": {},
     "output_type": "execute_result"
    }
   ],
   "source": [
    "load_dotenv(find_dotenv(\"../.env\"))"
   ]
  },
  {
   "cell_type": "code",
   "execution_count": 3,
   "metadata": {},
   "outputs": [],
   "source": [
    "llmGemini=ChatGoogleGenerativeAI(model=\"gemini-2.0-flash-001\")\n",
    "llmOpenAI=ChatOpenAI(model=\"gpt-4o-mini\")"
   ]
  },
  {
   "cell_type": "code",
   "execution_count": 4,
   "metadata": {},
   "outputs": [],
   "source": [
    "prompt=ChatPromptTemplate.from_messages(\n",
    "    messages=[\n",
    "        (\"system\",\"You are a helpful assistant.\"),\n",
    "        (\"placeholder\",\"{chat_history}\"),\n",
    "        (\"human\",\"{input}\"),\n",
    "        (\"placeholder\",\"{agent_scratchpad}\")\n",
    "    ]\n",
    ")"
   ]
  },
  {
   "cell_type": "code",
   "execution_count": 5,
   "metadata": {},
   "outputs": [],
   "source": [
    "@tool\n",
    "def search(query:str) -> str:\n",
    "    \"\"\"\n",
    "    Look up things online\n",
    "    \"\"\"\n",
    "    return \"Langchain\""
   ]
  },
  {
   "cell_type": "code",
   "execution_count": 6,
   "metadata": {},
   "outputs": [
    {
     "name": "stdout",
     "output_type": "stream",
     "text": [
      "search\n",
      "Look up things online\n",
      "{'query': {'title': 'Query', 'type': 'string'}}\n"
     ]
    }
   ],
   "source": [
    "print(search.name)\n",
    "print(search.description)\n",
    "print(search.args)"
   ]
  },
  {
   "cell_type": "code",
   "execution_count": 7,
   "metadata": {},
   "outputs": [],
   "source": [
    "@tool\n",
    "def multiply(a:int, b:int) -> int:\n",
    "    \"\"\"\n",
    "    Multiply two numbers\n",
    "    \"\"\"\n",
    "    return a*b"
   ]
  },
  {
   "cell_type": "code",
   "execution_count": 8,
   "metadata": {},
   "outputs": [
    {
     "name": "stdout",
     "output_type": "stream",
     "text": [
      "multiply\n",
      "Multiply two numbers\n",
      "{'a': {'title': 'A', 'type': 'integer'}, 'b': {'title': 'B', 'type': 'integer'}}\n",
      "False\n"
     ]
    }
   ],
   "source": [
    "print(multiply.name)\n",
    "print(multiply.description)\n",
    "print(multiply.args)\n",
    "print(multiply.return_direct)"
   ]
  },
  {
   "cell_type": "code",
   "execution_count": 9,
   "metadata": {},
   "outputs": [],
   "source": [
    "class SearchInput(BaseModel):\n",
    "    query:str=Field(description=\"should be a search query\")\n",
    "\n",
    "@tool(description=\"search-tool\",args_schema=SearchInput,return_direct=True)\n",
    "def search(query:str) -> str:\n",
    "    \"\"\"\n",
    "    Look up things online\n",
    "    \"\"\"\n",
    "    return \"Langchain\""
   ]
  },
  {
   "cell_type": "code",
   "execution_count": 10,
   "metadata": {},
   "outputs": [
    {
     "name": "stdout",
     "output_type": "stream",
     "text": [
      "search\n",
      "search-tool\n",
      "{'query': {'description': 'should be a search query', 'title': 'Query', 'type': 'string'}}\n",
      "True\n"
     ]
    }
   ],
   "source": [
    "print(search.name)\n",
    "print(search.description)\n",
    "print(search.args)\n",
    "print(search.return_direct)"
   ]
  },
  {
   "cell_type": "markdown",
   "metadata": {},
   "source": [
    "<h3> StructuredTool DataClass <h3>"
   ]
  },
  {
   "cell_type": "code",
   "execution_count": 11,
   "metadata": {},
   "outputs": [],
   "source": [
    "def searchFunction(query:str):\n",
    "    return \"Langchain\"\n",
    "\n",
    "search=StructuredTool.from_function(\n",
    "    func=searchFunction,\n",
    "    name=\"Search\",\n",
    "    description=\"Useful when you need to answer questions about current events\"\n",
    ")"
   ]
  },
  {
   "cell_type": "code",
   "execution_count": 12,
   "metadata": {},
   "outputs": [
    {
     "name": "stdout",
     "output_type": "stream",
     "text": [
      "Search\n",
      "Useful when you need to answer questions about current events\n",
      "{'query': {'title': 'Query', 'type': 'string'}}\n"
     ]
    }
   ],
   "source": [
    "print(search.name)\n",
    "print(search.description)\n",
    "print(search.args)"
   ]
  },
  {
   "cell_type": "code",
   "execution_count": null,
   "metadata": {},
   "outputs": [],
   "source": [
    "def exponentiate(base:float,exponent:float) -> float:\n",
    "    \"\"\"\n",
    "        Exponentiate one number with another and return the output\n",
    "        base: The Base Number\n",
    "        exponent: The times you would exponentiate with\n",
    "    \"\"\"\n",
    "    return base**exponent\n",
    "\n",
    "exponent=StructuredTool.from_function(\n",
    "    func=exponentiate,\n",
    "    name=\"exponent\",\n",
    "    description=\"Useful when you need to find the exponent of any given base number\"\n",
    ")"
   ]
  },
  {
   "cell_type": "code",
   "execution_count": 14,
   "metadata": {},
   "outputs": [
    {
     "name": "stdout",
     "output_type": "stream",
     "text": [
      "exponent\n",
      "Useful when you need to find the exponent of any given base number\n",
      "{'base': {'title': 'Base', 'type': 'number'}, 'exponent': {'title': 'Exponent', 'type': 'number'}}\n"
     ]
    }
   ],
   "source": [
    "print(exponent.name)\n",
    "print(exponent.description)\n",
    "print(exponent.args)"
   ]
  },
  {
   "cell_type": "code",
   "execution_count": 15,
   "metadata": {},
   "outputs": [],
   "source": [
    "tools=[exponent]"
   ]
  },
  {
   "cell_type": "code",
   "execution_count": 16,
   "metadata": {},
   "outputs": [],
   "source": [
    "agent=create_tool_calling_agent(llm=llmOpenAI,tools=tools,prompt=prompt)\n",
    "# multiInputAgent=create_tool_calling_agent(llm=llmOpenAI.bind_tools(tools=[exponentiate]),tools=multiInputTools,prompt=prompt)\n",
    "agentExecutor=AgentExecutor(agent=agent,tools=tools,verbose=True)"
   ]
  },
  {
   "cell_type": "code",
   "execution_count": 17,
   "metadata": {},
   "outputs": [
    {
     "name": "stdout",
     "output_type": "stream",
     "text": [
      "\n",
      "\n",
      "\u001b[1m> Entering new AgentExecutor chain...\u001b[0m\n",
      "\u001b[32;1m\u001b[1;3m\n",
      "Invoking: `exponent` with `{'base': 52, 'exponent': 12}`\n",
      "\n",
      "\n",
      "\u001b[0m\u001b[36;1m\u001b[1;3m3.908770064862502e+20\u001b[0m\u001b[32;1m\u001b[1;3m52 to the power of 12 is approximately \\( 3.90877 \\times 10^{20} \\).\u001b[0m\n",
      "\n",
      "\u001b[1m> Finished chain.\u001b[0m\n"
     ]
    },
    {
     "data": {
      "text/plain": [
       "{'input': 'How much is 52 to the power 12',\n",
       " 'output': '52 to the power of 12 is approximately \\\\( 3.90877 \\\\times 10^{20} \\\\).'}"
      ]
     },
     "execution_count": 17,
     "metadata": {},
     "output_type": "execute_result"
    }
   ],
   "source": [
    "agentExecutor.invoke(input={\"input\":\"How much is 52 to the power 12\"})"
   ]
  },
  {
   "cell_type": "markdown",
   "metadata": {},
   "source": [
    "<h3> Using ArgSchema with StructuredTool <h3>"
   ]
  },
  {
   "cell_type": "code",
   "execution_count": 18,
   "metadata": {},
   "outputs": [],
   "source": [
    "class Calculator(BaseModel):\n",
    "    a:int=Field(description=\"first number\",le=5)\n",
    "    b:int=Field(description=\"second number\",le=5)\n",
    "\n",
    "def multiply(a:int, b:int) -> int:\n",
    "    \"\"\"\n",
    "        Multiply two numbers\n",
    "    \"\"\"\n",
    "    return a*b"
   ]
  },
  {
   "cell_type": "code",
   "execution_count": 19,
   "metadata": {},
   "outputs": [],
   "source": [
    "calculator=StructuredTool.from_function(\n",
    "    func=multiply,\n",
    "    name=\"Calculator\",\n",
    "    description=\"Multiply Numbers\",\n",
    "    args_schema=Calculator,\n",
    "    return_direct=True\n",
    ")"
   ]
  },
  {
   "cell_type": "code",
   "execution_count": 20,
   "metadata": {},
   "outputs": [
    {
     "name": "stdout",
     "output_type": "stream",
     "text": [
      "Calculator\n",
      "Multiply Numbers\n",
      "{'a': {'description': 'first number', 'maximum': 5, 'title': 'A', 'type': 'integer'}, 'b': {'description': 'second number', 'maximum': 5, 'title': 'B', 'type': 'integer'}}\n",
      "True\n"
     ]
    }
   ],
   "source": [
    "print(calculator.name)\n",
    "print(calculator.description)\n",
    "print(calculator.args)\n",
    "print(calculator.return_direct)"
   ]
  },
  {
   "cell_type": "code",
   "execution_count": 23,
   "metadata": {
    "scrolled": true
   },
   "outputs": [
    {
     "name": "stdout",
     "output_type": "stream",
     "text": [
      "2 validation errors for Calculator\n",
      "a\n",
      "  Input should be less than or equal to 5 [type=less_than_equal, input_value=7, input_type=int]\n",
      "    For further information visit https://errors.pydantic.dev/2.11/v/less_than_equal\n",
      "b\n",
      "  Input should be less than or equal to 5 [type=less_than_equal, input_value=6, input_type=int]\n",
      "    For further information visit https://errors.pydantic.dev/2.11/v/less_than_equal\n"
     ]
    }
   ],
   "source": [
    "try:\n",
    "    calculator.invoke(input={'a':7,'b':6})\n",
    "except ValidationError as ver:\n",
    "    print(ver)"
   ]
  },
  {
   "cell_type": "code",
   "execution_count": 24,
   "metadata": {},
   "outputs": [
    {
     "data": {
      "text/plain": [
       "12"
      ]
     },
     "execution_count": 24,
     "metadata": {},
     "output_type": "execute_result"
    }
   ],
   "source": [
    "calculator.invoke(input={'a':4,'b':3})"
   ]
  },
  {
   "cell_type": "markdown",
   "metadata": {},
   "source": [
    "<h3> Handling Tool Errors </h3>"
   ]
  },
  {
   "cell_type": "code",
   "execution_count": 38,
   "metadata": {},
   "outputs": [],
   "source": [
    "class Calculator(BaseModel):\n",
    "    a:int=Field(description=\"first number\")\n",
    "    b:int=Field(description=\"second number\")\n",
    "\n",
    "def multiply(a:int, b:int) -> int:\n",
    "    \"\"\"\n",
    "        Multiply two numbers less than 5\n",
    "    \"\"\"\n",
    "    if a<5 and b<5:\n",
    "        return a*b\n",
    "    else:\n",
    "        raise ToolException(f\"Each of the values for {a} and {b} should be less than 5\")\n",
    "\n",
    "calculator=StructuredTool.from_function(\n",
    "    func=multiply,\n",
    "    name=\"Calculator\",\n",
    "    description=\"Multiply Numbers\",\n",
    "    args_schema=Calculator,\n",
    "    return_direct=True,\n",
    "    handle_tool_error=True  # This is a must for getting the error output\n",
    ")"
   ]
  },
  {
   "cell_type": "code",
   "execution_count": 39,
   "metadata": {},
   "outputs": [
    {
     "data": {
      "text/plain": [
       "'Each of the values for 6 and 9 should be less than 5'"
      ]
     },
     "execution_count": 39,
     "metadata": {},
     "output_type": "execute_result"
    }
   ],
   "source": [
    "# calculator.invoke(input={'a':'a','b':6})\n",
    "calculator.invoke(input={'a':6,'b':9})"
   ]
  },
  {
   "cell_type": "code",
   "execution_count": 40,
   "metadata": {},
   "outputs": [],
   "source": [
    "tools=[calculator]\n",
    "\n",
    "agent=create_tool_calling_agent(llm=llmOpenAI,tools=tools,prompt=prompt)\n",
    "# multiInputAgent=create_tool_calling_agent(llm=llmOpenAI.bind_tools(tools=[exponentiate]),tools=multiInputTools,prompt=prompt)\n",
    "agentExecutor=AgentExecutor(agent=agent,tools=tools,verbose=True)"
   ]
  },
  {
   "cell_type": "code",
   "execution_count": 41,
   "metadata": {},
   "outputs": [
    {
     "name": "stdout",
     "output_type": "stream",
     "text": [
      "\n",
      "\n",
      "\u001b[1m> Entering new AgentExecutor chain...\u001b[0m\n",
      "\u001b[32;1m\u001b[1;3m\n",
      "Invoking: `Calculator` with `{'a': 4, 'b': 2}`\n",
      "\n",
      "\n",
      "\u001b[0m\u001b[36;1m\u001b[1;3m8\u001b[0m\n",
      "\u001b[32;1m\u001b[1;3m\u001b[0m\n",
      "\n",
      "\u001b[1m> Finished chain.\u001b[0m\n"
     ]
    },
    {
     "data": {
      "text/plain": [
       "{'input': 'What is the product of 4 and 2', 'output': 8}"
      ]
     },
     "execution_count": 41,
     "metadata": {},
     "output_type": "execute_result"
    }
   ],
   "source": [
    "agentExecutor.invoke(input={\"input\":\"What is the product of 4 and 2\"})"
   ]
  },
  {
   "cell_type": "code",
   "execution_count": 42,
   "metadata": {},
   "outputs": [
    {
     "name": "stdout",
     "output_type": "stream",
     "text": [
      "\n",
      "\n",
      "\u001b[1m> Entering new AgentExecutor chain...\u001b[0m\n",
      "\u001b[32;1m\u001b[1;3m\n",
      "Invoking: `Calculator` with `{'a': 7, 'b': 4}`\n",
      "\n",
      "\n",
      "\u001b[0m\u001b[36;1m\u001b[1;3mEach of the values for 7 and 4 should be less than 5\u001b[0m\n",
      "\u001b[32;1m\u001b[1;3m\u001b[0m\n",
      "\n",
      "\u001b[1m> Finished chain.\u001b[0m\n"
     ]
    },
    {
     "data": {
      "text/plain": [
       "{'input': 'What is the product of 7 and 4',\n",
       " 'output': 'Each of the values for 7 and 4 should be less than 5'}"
      ]
     },
     "execution_count": 42,
     "metadata": {},
     "output_type": "execute_result"
    }
   ],
   "source": [
    "agentExecutor.invoke(input={\"input\":\"What is the product of 7 and 4\"})"
   ]
  },
  {
   "cell_type": "code",
   "execution_count": 43,
   "metadata": {},
   "outputs": [],
   "source": [
    "def search_tool1(s: str):\n",
    "    try:\n",
    "        return s/2\n",
    "    except:\n",
    "        raise ToolException(\"You cannot do this operation with a String\")"
   ]
  },
  {
   "cell_type": "code",
   "execution_count": 44,
   "metadata": {},
   "outputs": [
    {
     "data": {
      "text/plain": [
       "'You cannot do this operation with a String'"
      ]
     },
     "execution_count": 44,
     "metadata": {},
     "output_type": "execute_result"
    }
   ],
   "source": [
    "search = StructuredTool.from_function(\n",
    "    func=search_tool1,\n",
    "    name=\"Search_tool1\",\n",
    "    description=\"A bad tool\",\n",
    "    handle_tool_error=True  # This is a must for getting the error output\n",
    ")\n",
    "\n",
    "search.invoke(input='65')"
   ]
  },
  {
   "cell_type": "code",
   "execution_count": null,
   "metadata": {},
   "outputs": [],
   "source": []
  }
 ],
 "metadata": {
  "kernelspec": {
   "display_name": "lcnenv",
   "language": "python",
   "name": "python3"
  },
  "language_info": {
   "codemirror_mode": {
    "name": "ipython",
    "version": 3
   },
   "file_extension": ".py",
   "mimetype": "text/x-python",
   "name": "python",
   "nbconvert_exporter": "python",
   "pygments_lexer": "ipython3",
   "version": "3.11.11"
  }
 },
 "nbformat": 4,
 "nbformat_minor": 4
}
