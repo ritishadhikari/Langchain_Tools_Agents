{
 "cells": [
  {
   "cell_type": "markdown",
   "id": "e0cef155-e513-4025-94c8-74b7bf291b00",
   "metadata": {},
   "source": [
    "<h3>VVI</h3>"
   ]
  },
  {
   "cell_type": "code",
   "execution_count": 7,
   "id": "f57e3642-ce9f-430a-afe0-f2679446d67f",
   "metadata": {},
   "outputs": [],
   "source": [
    "from dotenv import load_dotenv,find_dotenv\n",
    "from langchain_google_genai import ChatGoogleGenerativeAI\n",
    "from langchain_openai import ChatOpenAI\n",
    "\n",
    "from langchain_community.tools.tavily_search import TavilySearchResults\n",
    "from langchain.document_loaders import WebBaseLoader\n",
    "from langchain.vectorstores import FAISS\n",
    "from langchain.embeddings import SentenceTransformerEmbeddings\n",
    "from langchain.text_splitter import RecursiveCharacterTextSplitter\n",
    "from langchain.tools.retriever import create_retriever_tool\n",
    "from langchain import hub\n",
    "from langchain.agents import create_tool_calling_agent,AgentExecutor\n",
    "from langchain_community.chat_message_histories import ChatMessageHistory\n",
    "from langchain_core.runnables.history import RunnableWithMessageHistory\n",
    "from langchain_community.tools import WikipediaQueryRun\n",
    "from langchain_community.utilities import WikipediaAPIWrapper,SerpAPIWrapper\n",
    "from langchain_core.tools import Tool"
   ]
  },
  {
   "cell_type": "code",
   "execution_count": 8,
   "id": "de480c67-a8ee-4bd4-afe5-8178f23b381e",
   "metadata": {},
   "outputs": [
    {
     "data": {
      "text/plain": [
       "True"
      ]
     },
     "execution_count": 8,
     "metadata": {},
     "output_type": "execute_result"
    }
   ],
   "source": [
    "load_dotenv(find_dotenv(\"D:\\LLM Courses\\Master Langchain Udemy\\.env\"))"
   ]
  },
  {
   "cell_type": "code",
   "execution_count": 9,
   "id": "71c76ff3-6a02-4c9d-a085-dbdd95cad63e",
   "metadata": {},
   "outputs": [],
   "source": [
    "llmGemini=ChatGoogleGenerativeAI(model=\"gemini-1.5-flash\")\n",
    "llmOpenAI=ChatOpenAI(model=\"gpt-3.5-turbo\")"
   ]
  },
  {
   "cell_type": "markdown",
   "id": "2fd35e11-6d7f-454e-a123-3948d505453a",
   "metadata": {},
   "source": [
    "<h3>Tavily Search Tool</h3>"
   ]
  },
  {
   "cell_type": "code",
   "execution_count": 4,
   "id": "287374a4-d971-4379-bf45-9cb8ef631049",
   "metadata": {},
   "outputs": [],
   "source": [
    "searchTavily=TavilySearchResults()"
   ]
  },
  {
   "cell_type": "code",
   "execution_count": 52,
   "id": "9464732b-afb0-4fd0-ad09-a22bd32de85e",
   "metadata": {},
   "outputs": [
    {
     "data": {
      "text/plain": [
       "[{'url': 'https://www.weatherapi.com/',\n",
       "  'content': \"{'location': {'name': 'Kolkata', 'region': 'West Bengal', 'country': 'India', 'lat': 22.5697, 'lon': 88.3697, 'tz_id': 'Asia/Kolkata', 'localtime_epoch': 1730123499, 'localtime': '2024-10-28 19:21'}, 'current': {'last_updated_epoch': 1730123100, 'last_updated': '2024-10-28 19:15', 'temp_c': 27.1, 'temp_f': 80.8, 'is_day': 0, 'condition': {'text': 'Clear', 'icon': '//cdn.weatherapi.com/weather/64x64/night/113.png', 'code': 1000}, 'wind_mph': 6.5, 'wind_kph': 10.4, 'wind_degree': 192, 'wind_dir': 'SSW', 'pressure_mb': 1008.0, 'pressure_in': 29.76, 'precip_mm': 0.0, 'precip_in': 0.0, 'humidity': 74, 'cloud': 6, 'feelslike_c': 29.9, 'feelslike_f': 85.8, 'windchill_c': 27.1, 'windchill_f': 80.9, 'heatindex_c': 29.9, 'heatindex_f': 85.8, 'dewpoint_c': 22.2, 'dewpoint_f': 72.0, 'vis_km': 10.0, 'vis_miles': 6.0, 'uv': 0.0, 'gust_mph': 11.8, 'gust_kph': 18.9}}\"},\n",
       " {'url': 'https://www.hindustantimes.com/cities/kolkata-news/kolkata-weather-today-aqi-and-rain-forecast-updates-october-28-2024-101730079009456.html',\n",
       "  'content': 'Kolkata Weather and AQI Today: Warm start at 24.98 °C, check weather forecast for October 28, 2024 | Kolkata - Hindustan Times Kolkata Weather and AQI Today: Warm start at 24.98 °C, check weather forecast for October 28, 2024 News / Cities / Kolkata / Kolkata Weather and AQI Today: Warm start at 24.98 °C, check weather forecast for October 28, 2024 India News India News Live Cricket News Live US Election 2024 News LIVE India News Live Cricket News Live US Election 2024 News LIVE India News Noida news Live Today October 28, 2024 : Noida Weather and AQI Today: Warm start at 24.16 °C, check weather forecast for October 28, 2024 India News US News india news'},\n",
       " {'url': 'https://www.hindustantimes.com/cities/kolkata-news/kolkata-news-live-latest-breaking-updates-today-october-28-2024-101730079010841.html',\n",
       "  'content': 'Kolkata News LIVE: Kolkata Weather and AQI Today: Warm start at 24.98 °C, check weather forecast for October 28, 2024 Check the weather forecast and air quality updates for Kolkata on October 28'},\n",
       " {'url': 'https://www.telegraphindia.com/my-kolkata/events/kolkata-weather-forecast-and-traffic-alert-for-monday-october-28/cid/2058909',\n",
       "  'content': 'The maximum and minimum temperatures on Monday are likely to be around 32°C and 25°C, respectively. Till 10.45am, Kolkata Traffic Police did not post any list of programmes that may affect the city traffic on Monday (28.10.2024). However, KTP posted a traffic notification for Kali Puja and Diwali'},\n",
       " {'url': 'https://www.timeanddate.com/weather/india/kolkata/ext',\n",
       "  'content': 'Kolkata 14 Day Extended Forecast. Weather Today Weather Hourly 14 Day Forecast Yesterday/Past Weather Climate (Averages) Currently: 77 °F. Fog. (Weather station: Calcutta / Dum Dum, India). See more current weather.'}]"
      ]
     },
     "execution_count": 52,
     "metadata": {},
     "output_type": "execute_result"
    }
   ],
   "source": [
    "searchTavily.invoke(input=\"How is the weather in Kolkata?\")"
   ]
  },
  {
   "cell_type": "markdown",
   "id": "418699ea-f737-43dc-b1ce-862cd6972e18",
   "metadata": {},
   "source": [
    "<h3>Wikipedia Search</h3>"
   ]
  },
  {
   "cell_type": "code",
   "execution_count": 6,
   "id": "d3165bea-55b6-4f8d-a7f0-0cd418fbdff6",
   "metadata": {},
   "outputs": [],
   "source": [
    "wikipediaSearch=WikipediaQueryRun(api_wrapper=WikipediaAPIWrapper())"
   ]
  },
  {
   "cell_type": "markdown",
   "id": "084772ff-6698-4ee7-b483-5b4a012ce933",
   "metadata": {},
   "source": [
    "<h3>SerpAPI Search</h3>"
   ]
  },
  {
   "cell_type": "code",
   "execution_count": 13,
   "id": "b25854d5-bc9e-4ba0-81ef-43b2dc8dcec1",
   "metadata": {},
   "outputs": [],
   "source": [
    "serpAPISearch=Tool(\n",
    "    func=SerpAPIWrapper(search_engine=\"bing\").run,\n",
    "    description=\"Search Tool from SerpAPI\",\n",
    "    name=\"serpAPI_Search\")"
   ]
  },
  {
   "cell_type": "markdown",
   "id": "7c0f1f93-dfe1-4666-be3a-e4827b0d063c",
   "metadata": {},
   "source": [
    "<h3>Retrievers</h3>"
   ]
  },
  {
   "cell_type": "code",
   "execution_count": 14,
   "id": "47173762-8f74-42a3-80db-83f5b8e281f8",
   "metadata": {},
   "outputs": [],
   "source": [
    "# Loaders\n",
    "loader=WebBaseLoader(web_path=\"https://docs.smith.langchain.com/overview\")"
   ]
  },
  {
   "cell_type": "code",
   "execution_count": 15,
   "id": "166abcb3-8560-4980-8378-0525d946c9a3",
   "metadata": {},
   "outputs": [],
   "source": [
    "docs=loader.load()"
   ]
  },
  {
   "cell_type": "code",
   "execution_count": 16,
   "id": "9003832e-2cd7-45a1-abcb-f14c315d374a",
   "metadata": {
    "scrolled": true
   },
   "outputs": [
    {
     "data": {
      "text/plain": [
       "[Document(metadata={'source': 'https://docs.smith.langchain.com/overview', 'title': 'Get started with LangSmith | \\uf8ffü¶úÔ∏è\\uf8ffüõ†Ô∏è LangSmith', 'description': 'LangSmith is a platform for building production-grade LLM applications. It allows you to closely monitor and evaluate your application, so you can ship quickly and with confidence. Use of LangChain is not necessary - LangSmith works on its own!', 'language': 'en'}, page_content='\\n\\n\\n\\n\\nGet started with LangSmith | \\uf8ffü¶úÔ∏è\\uf8ffüõ†Ô∏è LangSmith\\n\\n\\n\\n\\n\\n\\nSkip to main contentGo to API DocsSearchRegionUSEUGo to AppQuick startObservabilityEvaluationPrompt EngineeringDeployment (LangGraph Cloud)AdministrationSelf-hostingReferenceQuick startOn this pageGet started with LangSmith\\nLangSmith is a platform for building production-grade LLM applications. It allows you to closely monitor and evaluate your application, so you can ship quickly and with confidence. Use of LangChain is not necessary - LangSmith works on its own!\\n1. Install LangSmith‚Äã\\nPythonTypeScriptpip install -U langsmithyarn add langsmith\\n2. Create an API key‚Äã\\nTo create an API key head to the Settings page. Then click Create API Key.\\n3. Set up your environment‚Äã\\nShellexport LANGCHAIN_TRACING_V2=trueexport LANGCHAIN_API_KEY=<your-api-key># The below examples use the OpenAI API, though it\\'s not necessary in generalexport OPENAI_API_KEY=<your-openai-api-key>\\n4. Log your first trace‚Äã\\nTracing to LangSmith for LangChain usersThere is no need to use the LangSmith SDK directly if your application is built entirely on LangChain (either Python and JS).We\\'ve outlined a tracing guide specifically for LangChain users here.\\nWe provide multiple ways to log traces to LangSmith. Below, we\\'ll highlight\\nhow to use traceable. See more on the Annotate code for tracing page.\\nPythonTypeScriptimport openaifrom langsmith.wrappers import wrap_openaifrom langsmith import traceable# Auto-trace LLM calls in-contextclient = wrap_openai(openai.Client())@traceable # Auto-trace this functiondef pipeline(user_input: str):    result = client.chat.completions.create(        messages=[{\"role\": \"user\", \"content\": user_input}],        model=\"gpt-3.5-turbo\"    )    return result.choices[0].message.contentpipeline(\"Hello, world!\")# Out:  Hello there! How can I assist you today?import { OpenAI } from \"openai\";import { traceable } from \"langsmith/traceable\";import { wrapOpenAI } from \"langsmith/wrappers\";// Auto-trace LLM calls in-contextconst client = wrapOpenAI(new OpenAI());// Auto-trace this functionconst pipeline = traceable(async (user_input) => {    const result = await client.chat.completions.create({        messages: [{ role: \"user\", content: user_input }],        model: \"gpt-3.5-turbo\",    });    return result.choices[0].message.content;});await pipeline(\"Hello, world!\")// Out: Hello there! How can I assist you today?\\n\\nView a sample output trace.\\nLearn more about tracing in the how-to guides.\\n\\n5. Run your first evaluation‚Äã\\nEvaluation requires a system to test, data to serve as test cases, and optionally evaluators to grade the results. Here we use a built-in accuracy evaluator.\\nPythonTypeScriptfrom langsmith import Clientfrom langsmith.evaluation import evaluateclient = Client()# Define dataset: these are your test casesdataset_name = \"Sample Dataset\"dataset = client.create_dataset(dataset_name, description=\"A sample dataset in LangSmith.\")client.create_examples(  inputs=[      {\"postfix\": \"to LangSmith\"},      {\"postfix\": \"to Evaluations in LangSmith\"},  ],  outputs=[      {\"output\": \"Welcome to LangSmith\"},      {\"output\": \"Welcome to Evaluations in LangSmith\"},  ],  dataset_id=dataset.id,)# Define your evaluatordef exact_match(run, example):  return {\"score\": run.outputs[\"output\"] == example.outputs[\"output\"]}experiment_results = evaluate(  lambda input: \"Welcome \" + input[\\'postfix\\'], # Your AI system goes here  data=dataset_name, # The data to predict and grade over  evaluators=[exact_match], # The evaluators to score the results  experiment_prefix=\"sample-experiment\", # The name of the experiment  metadata={    \"version\": \"1.0.0\",    \"revision_id\": \"beta\"  },)import { Client, Run, Example } from \"langsmith\";import { evaluate } from \"langsmith/evaluation\";import { EvaluationResult } from \"langsmith/evaluation\";const client = new Client();// Define dataset: these are your test casesconst datasetName = \"Sample Dataset\";const dataset = await client.createDataset(datasetName, {  description: \"A sample dataset in LangSmith.\",});await client.createExamples({  inputs: [    { postfix: \"to LangSmith\" },    { postfix: \"to Evaluations in LangSmith\" },  ],  outputs: [    { output: \"Welcome to LangSmith\" },    { output: \"Welcome to Evaluations in LangSmith\" },  ],  datasetId: dataset.id,});// Define your evaluatorconst exactMatch = async (  run: Run,  example: Example): Promise<EvaluationResult> => {  return {    key: \"exact_match\",    score: run.outputs?.output === example?.outputs?.output,  };};await evaluate(  (input: { postfix: string }) => ({ output: `Welcome ${input.postfix}` }),  {    data: datasetName,    evaluators: [exactMatch],    metadata: {      version: \"1.0.0\",      revision_id: \"beta\",    },  });\\n\\nLearn more about evaluation in the how-to guides.\\nWas this page helpful?You can leave detailed feedback on GitHub.NextConcepts1. Install LangSmith2. Create an API key3. Set up your environment4. Log your first trace5. Run your first evaluationCommunityDiscordTwitterGitHubDocs CodeLangSmith SDKPythonJS/TSMoreHomepageBlogLangChain Python DocsLangChain JS/TS DocsCopyright ¬© 2024 LangChain, Inc.\\n\\n')]"
      ]
     },
     "execution_count": 16,
     "metadata": {},
     "output_type": "execute_result"
    }
   ],
   "source": [
    "docs"
   ]
  },
  {
   "cell_type": "code",
   "execution_count": 17,
   "id": "8fef5e0e-0f31-4c87-af6f-d03d8caff757",
   "metadata": {},
   "outputs": [],
   "source": [
    "# Split Documents\n",
    "documentsObj=RecursiveCharacterTextSplitter(chunk_size=1000,chunk_overlap=200)"
   ]
  },
  {
   "cell_type": "code",
   "execution_count": 18,
   "id": "db9c6c5e-3005-4c83-a93a-8c78a92ba0d0",
   "metadata": {},
   "outputs": [],
   "source": [
    "documents=documentsObj.split_documents(documents=docs)"
   ]
  },
  {
   "cell_type": "code",
   "execution_count": 19,
   "id": "6be62ac1-7700-4a24-89b3-11c45915a5a5",
   "metadata": {
    "scrolled": true
   },
   "outputs": [
    {
     "data": {
      "text/plain": [
       "[Document(metadata={'source': 'https://docs.smith.langchain.com/overview', 'title': 'Get started with LangSmith | \\uf8ffü¶úÔ∏è\\uf8ffüõ†Ô∏è LangSmith', 'description': 'LangSmith is a platform for building production-grade LLM applications. It allows you to closely monitor and evaluate your application, so you can ship quickly and with confidence. Use of LangChain is not necessary - LangSmith works on its own!', 'language': 'en'}, page_content='Get started with LangSmith | \\uf8ffü¶úÔ∏è\\uf8ffüõ†Ô∏è LangSmith'),\n",
       " Document(metadata={'source': 'https://docs.smith.langchain.com/overview', 'title': 'Get started with LangSmith | \\uf8ffü¶úÔ∏è\\uf8ffüõ†Ô∏è LangSmith', 'description': 'LangSmith is a platform for building production-grade LLM applications. It allows you to closely monitor and evaluate your application, so you can ship quickly and with confidence. Use of LangChain is not necessary - LangSmith works on its own!', 'language': 'en'}, page_content=\"Skip to main contentGo to API DocsSearchRegionUSEUGo to AppQuick startObservabilityEvaluationPrompt EngineeringDeployment (LangGraph Cloud)AdministrationSelf-hostingReferenceQuick startOn this pageGet started with LangSmith\\nLangSmith is a platform for building production-grade LLM applications. It allows you to closely monitor and evaluate your application, so you can ship quickly and with confidence. Use of LangChain is not necessary - LangSmith works on its own!\\n1. Install LangSmith‚Äã\\nPythonTypeScriptpip install -U langsmithyarn add langsmith\\n2. Create an API key‚Äã\\nTo create an API key head to the Settings page. Then click Create API Key.\\n3. Set up your environment‚Äã\\nShellexport LANGCHAIN_TRACING_V2=trueexport LANGCHAIN_API_KEY=<your-api-key># The below examples use the OpenAI API, though it's not necessary in generalexport OPENAI_API_KEY=<your-openai-api-key>\\n4. Log your first trace‚Äã\"),\n",
       " Document(metadata={'source': 'https://docs.smith.langchain.com/overview', 'title': 'Get started with LangSmith | \\uf8ffü¶úÔ∏è\\uf8ffüõ†Ô∏è LangSmith', 'description': 'LangSmith is a platform for building production-grade LLM applications. It allows you to closely monitor and evaluate your application, so you can ship quickly and with confidence. Use of LangChain is not necessary - LangSmith works on its own!', 'language': 'en'}, page_content=\"4. Log your first trace‚Äã\\nTracing to LangSmith for LangChain usersThere is no need to use the LangSmith SDK directly if your application is built entirely on LangChain (either Python and JS).We've outlined a tracing guide specifically for LangChain users here.\\nWe provide multiple ways to log traces to LangSmith. Below, we'll highlight\\nhow to use traceable. See more on the Annotate code for tracing page.\"),\n",
       " Document(metadata={'source': 'https://docs.smith.langchain.com/overview', 'title': 'Get started with LangSmith | \\uf8ffü¶úÔ∏è\\uf8ffüõ†Ô∏è LangSmith', 'description': 'LangSmith is a platform for building production-grade LLM applications. It allows you to closely monitor and evaluate your application, so you can ship quickly and with confidence. Use of LangChain is not necessary - LangSmith works on its own!', 'language': 'en'}, page_content='PythonTypeScriptimport openaifrom langsmith.wrappers import wrap_openaifrom langsmith import traceable# Auto-trace LLM calls in-contextclient = wrap_openai(openai.Client())@traceable # Auto-trace this functiondef pipeline(user_input: str):    result = client.chat.completions.create(        messages=[{\"role\": \"user\", \"content\": user_input}],        model=\"gpt-3.5-turbo\"    )    return result.choices[0].message.contentpipeline(\"Hello, world!\")# Out:  Hello there! How can I assist you today?import { OpenAI } from \"openai\";import { traceable } from \"langsmith/traceable\";import { wrapOpenAI } from \"langsmith/wrappers\";// Auto-trace LLM calls in-contextconst client = wrapOpenAI(new OpenAI());// Auto-trace this functionconst pipeline = traceable(async (user_input) => {    const result = await client.chat.completions.create({        messages: [{ role: \"user\", content: user_input }],        model: \"gpt-3.5-turbo\",    });    return result.choices[0].message.content;});await pipeline(\"Hello,'),\n",
       " Document(metadata={'source': 'https://docs.smith.langchain.com/overview', 'title': 'Get started with LangSmith | \\uf8ffü¶úÔ∏è\\uf8ffüõ†Ô∏è LangSmith', 'description': 'LangSmith is a platform for building production-grade LLM applications. It allows you to closely monitor and evaluate your application, so you can ship quickly and with confidence. Use of LangChain is not necessary - LangSmith works on its own!', 'language': 'en'}, page_content='client.chat.completions.create({        messages: [{ role: \"user\", content: user_input }],        model: \"gpt-3.5-turbo\",    });    return result.choices[0].message.content;});await pipeline(\"Hello, world!\")// Out: Hello there! How can I assist you today?'),\n",
       " Document(metadata={'source': 'https://docs.smith.langchain.com/overview', 'title': 'Get started with LangSmith | \\uf8ffü¶úÔ∏è\\uf8ffüõ†Ô∏è LangSmith', 'description': 'LangSmith is a platform for building production-grade LLM applications. It allows you to closely monitor and evaluate your application, so you can ship quickly and with confidence. Use of LangChain is not necessary - LangSmith works on its own!', 'language': 'en'}, page_content='View a sample output trace.\\nLearn more about tracing in the how-to guides.'),\n",
       " Document(metadata={'source': 'https://docs.smith.langchain.com/overview', 'title': 'Get started with LangSmith | \\uf8ffü¶úÔ∏è\\uf8ffüõ†Ô∏è LangSmith', 'description': 'LangSmith is a platform for building production-grade LLM applications. It allows you to closely monitor and evaluate your application, so you can ship quickly and with confidence. Use of LangChain is not necessary - LangSmith works on its own!', 'language': 'en'}, page_content='5. Run your first evaluation‚Äã\\nEvaluation requires a system to test, data to serve as test cases, and optionally evaluators to grade the results. Here we use a built-in accuracy evaluator.'),\n",
       " Document(metadata={'source': 'https://docs.smith.langchain.com/overview', 'title': 'Get started with LangSmith | \\uf8ffü¶úÔ∏è\\uf8ffüõ†Ô∏è LangSmith', 'description': 'LangSmith is a platform for building production-grade LLM applications. It allows you to closely monitor and evaluate your application, so you can ship quickly and with confidence. Use of LangChain is not necessary - LangSmith works on its own!', 'language': 'en'}, page_content='PythonTypeScriptfrom langsmith import Clientfrom langsmith.evaluation import evaluateclient = Client()# Define dataset: these are your test casesdataset_name = \"Sample Dataset\"dataset = client.create_dataset(dataset_name, description=\"A sample dataset in LangSmith.\")client.create_examples(  inputs=[      {\"postfix\": \"to LangSmith\"},      {\"postfix\": \"to Evaluations in LangSmith\"},  ],  outputs=[      {\"output\": \"Welcome to LangSmith\"},      {\"output\": \"Welcome to Evaluations in LangSmith\"},  ],  dataset_id=dataset.id,)# Define your evaluatordef exact_match(run, example):  return {\"score\": run.outputs[\"output\"] == example.outputs[\"output\"]}experiment_results = evaluate(  lambda input: \"Welcome \" + input[\\'postfix\\'], # Your AI system goes here  data=dataset_name, # The data to predict and grade over  evaluators=[exact_match], # The evaluators to score the results  experiment_prefix=\"sample-experiment\", # The name of the experiment  metadata={    \"version\": \"1.0.0\",    \"revision_id\":'),\n",
       " Document(metadata={'source': 'https://docs.smith.langchain.com/overview', 'title': 'Get started with LangSmith | \\uf8ffü¶úÔ∏è\\uf8ffüõ†Ô∏è LangSmith', 'description': 'LangSmith is a platform for building production-grade LLM applications. It allows you to closely monitor and evaluate your application, so you can ship quickly and with confidence. Use of LangChain is not necessary - LangSmith works on its own!', 'language': 'en'}, page_content='grade over  evaluators=[exact_match], # The evaluators to score the results  experiment_prefix=\"sample-experiment\", # The name of the experiment  metadata={    \"version\": \"1.0.0\",    \"revision_id\": \"beta\"  },)import { Client, Run, Example } from \"langsmith\";import { evaluate } from \"langsmith/evaluation\";import { EvaluationResult } from \"langsmith/evaluation\";const client = new Client();// Define dataset: these are your test casesconst datasetName = \"Sample Dataset\";const dataset = await client.createDataset(datasetName, {  description: \"A sample dataset in LangSmith.\",});await client.createExamples({  inputs: [    { postfix: \"to LangSmith\" },    { postfix: \"to Evaluations in LangSmith\" },  ],  outputs: [    { output: \"Welcome to LangSmith\" },    { output: \"Welcome to Evaluations in LangSmith\" },  ],  datasetId: dataset.id,});// Define your evaluatorconst exactMatch = async (  run: Run,  example: Example): Promise<EvaluationResult> => {  return {    key: \"exact_match\",    score:'),\n",
       " Document(metadata={'source': 'https://docs.smith.langchain.com/overview', 'title': 'Get started with LangSmith | \\uf8ffü¶úÔ∏è\\uf8ffüõ†Ô∏è LangSmith', 'description': 'LangSmith is a platform for building production-grade LLM applications. It allows you to closely monitor and evaluate your application, so you can ship quickly and with confidence. Use of LangChain is not necessary - LangSmith works on its own!', 'language': 'en'}, page_content='LangSmith\" },  ],  datasetId: dataset.id,});// Define your evaluatorconst exactMatch = async (  run: Run,  example: Example): Promise<EvaluationResult> => {  return {    key: \"exact_match\",    score: run.outputs?.output === example?.outputs?.output,  };};await evaluate(  (input: { postfix: string }) => ({ output: `Welcome ${input.postfix}` }),  {    data: datasetName,    evaluators: [exactMatch],    metadata: {      version: \"1.0.0\",      revision_id: \"beta\",    },  });'),\n",
       " Document(metadata={'source': 'https://docs.smith.langchain.com/overview', 'title': 'Get started with LangSmith | \\uf8ffü¶úÔ∏è\\uf8ffüõ†Ô∏è LangSmith', 'description': 'LangSmith is a platform for building production-grade LLM applications. It allows you to closely monitor and evaluate your application, so you can ship quickly and with confidence. Use of LangChain is not necessary - LangSmith works on its own!', 'language': 'en'}, page_content='Learn more about evaluation in the how-to guides.\\nWas this page helpful?You can leave detailed feedback on GitHub.NextConcepts1. Install LangSmith2. Create an API key3. Set up your environment4. Log your first trace5. Run your first evaluationCommunityDiscordTwitterGitHubDocs CodeLangSmith SDKPythonJS/TSMoreHomepageBlogLangChain Python DocsLangChain JS/TS DocsCopyright ¬© 2024 LangChain, Inc.')]"
      ]
     },
     "execution_count": 19,
     "metadata": {},
     "output_type": "execute_result"
    }
   ],
   "source": [
    "documents"
   ]
  },
  {
   "cell_type": "code",
   "execution_count": 20,
   "id": "a3fc8f38-6677-45e2-995f-abba8a090a10",
   "metadata": {},
   "outputs": [
    {
     "data": {
      "text/plain": [
       "11"
      ]
     },
     "execution_count": 20,
     "metadata": {},
     "output_type": "execute_result"
    }
   ],
   "source": [
    "len(documents)"
   ]
  },
  {
   "cell_type": "code",
   "execution_count": 21,
   "id": "285ea602-8cd3-45e1-a7c0-e8fc73e2662d",
   "metadata": {},
   "outputs": [
    {
     "name": "stderr",
     "output_type": "stream",
     "text": [
      "C:\\Users\\MSI 1\\AppData\\Local\\Temp\\ipykernel_12104\\925654796.py:2: LangChainDeprecationWarning: The class `HuggingFaceEmbeddings` was deprecated in LangChain 0.2.2 and will be removed in 1.0. An updated version of the class exists in the :class:`~langchain-huggingface package and should be used instead. To use it run `pip install -U :class:`~langchain-huggingface` and import as `from :class:`~langchain_huggingface import HuggingFaceEmbeddings``.\n",
      "  vector=FAISS.from_documents(documents=documents,embedding=SentenceTransformerEmbeddings())\n",
      "C:\\Users\\MSI 1\\AppData\\Local\\Temp\\ipykernel_12104\\925654796.py:2: LangChainDeprecationWarning: Default values for HuggingFaceEmbeddings.model_name were deprecated in LangChain 0.2.16 and will be removed in 0.4.0. Explicitly pass a model_name to the HuggingFaceEmbeddings constructor instead.\n",
      "  vector=FAISS.from_documents(documents=documents,embedding=SentenceTransformerEmbeddings())\n"
     ]
    }
   ],
   "source": [
    "# Use Vector DB to Insert Documents\n",
    "vector=FAISS.from_documents(documents=documents,embedding=SentenceTransformerEmbeddings())"
   ]
  },
  {
   "cell_type": "code",
   "execution_count": 22,
   "id": "de7d4a84-7d62-445d-9f86-39923c18d900",
   "metadata": {},
   "outputs": [],
   "source": [
    "retriever=vector.as_retriever()"
   ]
  },
  {
   "cell_type": "code",
   "execution_count": 67,
   "id": "67f5360d-b24f-43c0-8c7b-1e1fd8ab9326",
   "metadata": {},
   "outputs": [
    {
     "data": {
      "text/plain": [
       "[Document(metadata={'source': 'https://docs.smith.langchain.com/overview', 'title': 'Get started with LangSmith | \\uf8ffü¶úÔ∏è\\uf8ffüõ†Ô∏è LangSmith', 'description': 'LangSmith is a platform for building production-grade LLM applications. It allows you to closely monitor and evaluate your application, so you can ship quickly and with confidence. Use of LangChain is not necessary - LangSmith works on its own!', 'language': 'en'}, page_content='Get started with LangSmith | \\uf8ffü¶úÔ∏è\\uf8ffüõ†Ô∏è LangSmith'),\n",
       " Document(metadata={'source': 'https://docs.smith.langchain.com/overview', 'title': 'Get started with LangSmith | \\uf8ffü¶úÔ∏è\\uf8ffüõ†Ô∏è LangSmith', 'description': 'LangSmith is a platform for building production-grade LLM applications. It allows you to closely monitor and evaluate your application, so you can ship quickly and with confidence. Use of LangChain is not necessary - LangSmith works on its own!', 'language': 'en'}, page_content=\"4. Log your first trace‚Äã\\nTracing to LangSmith for LangChain usersThere is no need to use the LangSmith SDK directly if your application is built entirely on LangChain (either Python and JS).We've outlined a tracing guide specifically for LangChain users here.\\nWe provide multiple ways to log traces to LangSmith. Below, we'll highlight\\nhow to use traceable. See more on the Annotate code for tracing page.\"),\n",
       " Document(metadata={'source': 'https://docs.smith.langchain.com/overview', 'title': 'Get started with LangSmith | \\uf8ffü¶úÔ∏è\\uf8ffüõ†Ô∏è LangSmith', 'description': 'LangSmith is a platform for building production-grade LLM applications. It allows you to closely monitor and evaluate your application, so you can ship quickly and with confidence. Use of LangChain is not necessary - LangSmith works on its own!', 'language': 'en'}, page_content='Learn more about evaluation in the how-to guides.\\nWas this page helpful?You can leave detailed feedback on GitHub.NextConcepts1. Install LangSmith2. Create an API key3. Set up your environment4. Log your first trace5. Run your first evaluationCommunityDiscordTwitterGitHubDocs CodeLangSmith SDKPythonJS/TSMoreHomepageBlogLangChain Python DocsLangChain JS/TS DocsCopyright ¬© 2024 LangChain, Inc.'),\n",
       " Document(metadata={'source': 'https://docs.smith.langchain.com/overview', 'title': 'Get started with LangSmith | \\uf8ffü¶úÔ∏è\\uf8ffüõ†Ô∏è LangSmith', 'description': 'LangSmith is a platform for building production-grade LLM applications. It allows you to closely monitor and evaluate your application, so you can ship quickly and with confidence. Use of LangChain is not necessary - LangSmith works on its own!', 'language': 'en'}, page_content=\"Skip to main contentGo to API DocsSearchRegionUSEUGo to AppQuick startObservabilityEvaluationPrompt EngineeringDeployment (LangGraph Cloud)AdministrationSelf-hostingReferenceQuick startOn this pageGet started with LangSmith\\nLangSmith is a platform for building production-grade LLM applications. It allows you to closely monitor and evaluate your application, so you can ship quickly and with confidence. Use of LangChain is not necessary - LangSmith works on its own!\\n1. Install LangSmith‚Äã\\nPythonTypeScriptpip install -U langsmithyarn add langsmith\\n2. Create an API key‚Äã\\nTo create an API key head to the Settings page. Then click Create API Key.\\n3. Set up your environment‚Äã\\nShellexport LANGCHAIN_TRACING_V2=trueexport LANGCHAIN_API_KEY=<your-api-key># The below examples use the OpenAI API, though it's not necessary in generalexport OPENAI_API_KEY=<your-openai-api-key>\\n4. Log your first trace‚Äã\")]"
      ]
     },
     "execution_count": 67,
     "metadata": {},
     "output_type": "execute_result"
    }
   ],
   "source": [
    "retriever.invoke(input=\"What is Langsmith?\")"
   ]
  },
  {
   "cell_type": "markdown",
   "id": "994e7c2c-3388-4423-9306-23114e02b08c",
   "metadata": {},
   "source": [
    "<h3>Create Retriever Tool</h3>"
   ]
  },
  {
   "cell_type": "code",
   "execution_count": 23,
   "id": "478231cd-1222-42b5-a97e-7f8f969c8d5c",
   "metadata": {},
   "outputs": [],
   "source": [
    "retrieverTool=create_retriever_tool(\n",
    "    retriever=retriever,\n",
    "    name=\"langsmith_search\",\n",
    "    description=\"Search for information about Langsmith. For any questions about Langsmith, you must use this tool!\"\n",
    ")"
   ]
  },
  {
   "cell_type": "code",
   "execution_count": 41,
   "id": "88ef308a-55a5-4309-823c-a19a974eb560",
   "metadata": {},
   "outputs": [],
   "source": [
    "# Use Both the Tools - search and retrievertool to use in the downstream\n",
    "tools=[\n",
    "    retrieverTool,\n",
    "    searchTavily,\n",
    "    serpAPISearch,\n",
    "    wikipediaSearch]"
   ]
  },
  {
   "cell_type": "code",
   "execution_count": 42,
   "id": "93b8fd20-ed49-4cf7-8a16-880ce5629797",
   "metadata": {},
   "outputs": [
    {
     "name": "stderr",
     "output_type": "stream",
     "text": [
      "C:\\Users\\MSI 1\\.conda\\envs\\oaivenv\\Lib\\site-packages\\langsmith\\client.py:323: LangSmithMissingAPIKeyWarning: API key must be provided when using hosted LangSmith API\n",
      "  warnings.warn(\n"
     ]
    }
   ],
   "source": [
    "prompt=hub.pull(owner_repo_commit=\"hwchase17/openai-functions-agent\")"
   ]
  },
  {
   "cell_type": "code",
   "execution_count": 43,
   "id": "dd570ea6-8098-4239-86c3-190a7b3a81dd",
   "metadata": {},
   "outputs": [
    {
     "data": {
      "text/plain": [
       "[SystemMessagePromptTemplate(prompt=PromptTemplate(input_variables=[], input_types={}, partial_variables={}, template='You are a helpful assistant'), additional_kwargs={}),\n",
       " MessagesPlaceholder(variable_name='chat_history', optional=True),\n",
       " HumanMessagePromptTemplate(prompt=PromptTemplate(input_variables=['input'], input_types={}, partial_variables={}, template='{input}'), additional_kwargs={}),\n",
       " MessagesPlaceholder(variable_name='agent_scratchpad')]"
      ]
     },
     "execution_count": 43,
     "metadata": {},
     "output_type": "execute_result"
    }
   ],
   "source": [
    "prompt.messages"
   ]
  },
  {
   "cell_type": "code",
   "execution_count": 44,
   "id": "17f5503e-2657-4616-98e8-de4ef0af4a34",
   "metadata": {},
   "outputs": [
    {
     "name": "stderr",
     "output_type": "stream",
     "text": [
      "Key 'title' is not supported in schema, ignoring\n",
      "Key 'title' is not supported in schema, ignoring\n",
      "Key 'title' is not supported in schema, ignoring\n",
      "Key 'title' is not supported in schema, ignoring\n",
      "Key 'title' is not supported in schema, ignoring\n",
      "Key 'title' is not supported in schema, ignoring\n"
     ]
    }
   ],
   "source": [
    "# The agent is responsible for taking in input and deciding what actions to take\n",
    "# The agent does not execute those actions, that is done by the agent executor\n",
    "\n",
    "agent=create_tool_calling_agent(llm=llmGemini,tools=tools,prompt=prompt)"
   ]
  },
  {
   "cell_type": "code",
   "execution_count": 45,
   "id": "eba370b7-f01a-41b0-979e-64b56971cbe0",
   "metadata": {},
   "outputs": [],
   "source": [
    "agentExecutor=AgentExecutor(tools=tools,agent=agent,verbose=True)"
   ]
  },
  {
   "cell_type": "code",
   "execution_count": 29,
   "id": "d3c9ccf3-4342-432a-adfd-9b1ca28def0a",
   "metadata": {},
   "outputs": [
    {
     "name": "stdout",
     "output_type": "stream",
     "text": [
      "\n",
      "\n",
      "\u001b[1m> Entering new AgentExecutor chain...\u001b[0m\n",
      "{'name': 'langsmith_search', 'description': 'Search for information about Langsmith. For any questions about Langsmith, you must use this tool!', 'parameters': {'type_': 6, 'description': 'Input to the retriever.', 'properties': {'query': {'type_': 1, 'description': 'query to look up in retriever', 'format_': '', 'nullable': False, 'enum': [], 'max_items': '0', 'min_items': '0', 'properties': {}, 'required': []}}, 'required': ['query'], 'format_': '', 'nullable': False, 'enum': [], 'max_items': '0', 'min_items': '0'}}\n",
      "{'name': 'serpAPI_Search', 'description': 'Search Tool from SerpAPI', 'parameters': {'type_': 6, 'properties': {'__arg1': {'type_': 1, 'format_': '', 'description': '', 'nullable': False, 'enum': [], 'max_items': '0', 'min_items': '0', 'properties': {}, 'required': []}}, 'required': ['__arg1'], 'format_': '', 'description': '', 'nullable': False, 'enum': [], 'max_items': '0', 'min_items': '0'}}\n",
      "{'name': 'wikipedia', 'description': 'A wrapper around Wikipedia. Useful for when you need to answer general questions about people, places, companies, facts, historical events, or other subjects. Input should be a search query.', 'parameters': {'type_': 6, 'description': 'Input for the WikipediaQuery tool.', 'properties': {'query': {'type_': 1, 'description': 'query to look up on wikipedia', 'format_': '', 'nullable': False, 'enum': [], 'max_items': '0', 'min_items': '0', 'properties': {}, 'required': []}}, 'required': ['query'], 'format_': '', 'nullable': False, 'enum': [], 'max_items': '0', 'min_items': '0'}}\n",
      "\u001b[32;1m\u001b[1;3mHello! 👋 How can I help you today? 😊 \n",
      "\u001b[0m\n",
      "\n",
      "\u001b[1m> Finished chain.\u001b[0m\n"
     ]
    },
    {
     "data": {
      "text/plain": [
       "{'input': 'hi!', 'output': 'Hello! 👋 How can I help you today? 😊 \\n'}"
      ]
     },
     "execution_count": 29,
     "metadata": {},
     "output_type": "execute_result"
    }
   ],
   "source": [
    "agentExecutor.invoke(input={\"input\":\"hi!\"})"
   ]
  },
  {
   "cell_type": "code",
   "execution_count": 75,
   "id": "00c59c9b-1a1e-40ee-99f5-6abc9395e553",
   "metadata": {},
   "outputs": [
    {
     "name": "stdout",
     "output_type": "stream",
     "text": [
      "\n",
      "\n",
      "\u001b[1m> Entering new AgentExecutor chain...\u001b[0m\n",
      "{'name': 'langsmith_search', 'description': 'Search for information about Langsmith. For any questions about Langsmith, you must use this tool!', 'parameters': {'type_': 6, 'description': 'Input to the retriever.', 'properties': {'query': {'type_': 1, 'description': 'query to look up in retriever', 'format_': '', 'nullable': False, 'enum': [], 'max_items': '0', 'min_items': '0', 'properties': {}, 'required': []}}, 'required': ['query'], 'format_': '', 'nullable': False, 'enum': [], 'max_items': '0', 'min_items': '0'}}\n",
      "{'name': 'tavily_search_results_json', 'description': 'A search engine optimized for comprehensive, accurate, and trusted results. Useful for when you need to answer questions about current events. Input should be a search query.', 'parameters': {'type_': 6, 'description': 'Input for the Tavily tool.', 'properties': {'query': {'type_': 1, 'description': 'search query to look up', 'format_': '', 'nullable': False, 'enum': [], 'max_items': '0', 'min_items': '0', 'properties': {}, 'required': []}}, 'required': ['query'], 'format_': '', 'nullable': False, 'enum': [], 'max_items': '0', 'min_items': '0'}}\n",
      "{'name': 'wikipedia', 'description': 'A wrapper around Wikipedia. Useful for when you need to answer general questions about people, places, companies, facts, historical events, or other subjects. Input should be a search query.', 'parameters': {'type_': 6, 'description': 'Input for the WikipediaQuery tool.', 'properties': {'query': {'type_': 1, 'description': 'query to look up on wikipedia', 'format_': '', 'nullable': False, 'enum': [], 'max_items': '0', 'min_items': '0', 'properties': {}, 'required': []}}, 'required': ['query'], 'format_': '', 'nullable': False, 'enum': [], 'max_items': '0', 'min_items': '0'}}\n",
      "\u001b[32;1m\u001b[1;3m\n",
      "Invoking: `langsmith_search` with `{'query': 'How can Langsmith help with Testing?'}`\n",
      "\n",
      "\n",
      "\u001b[0m\u001b[36;1m\u001b[1;3mGet started with LangSmith | ü¶úÔ∏èüõ†Ô∏è LangSmith\n",
      "\n",
      "Learn more about evaluation in the how-to guides.\n",
      "Was this page helpful?You can leave detailed feedback on GitHub.NextConcepts1. Install LangSmith2. Create an API key3. Set up your environment4. Log your first trace5. Run your first evaluationCommunityDiscordTwitterGitHubDocs CodeLangSmith SDKPythonJS/TSMoreHomepageBlogLangChain Python DocsLangChain JS/TS DocsCopyright ¬© 2024 LangChain, Inc.\n",
      "\n",
      "PythonTypeScriptfrom langsmith import Clientfrom langsmith.evaluation import evaluateclient = Client()# Define dataset: these are your test casesdataset_name = \"Sample Dataset\"dataset = client.create_dataset(dataset_name, description=\"A sample dataset in LangSmith.\")client.create_examples(  inputs=[      {\"postfix\": \"to LangSmith\"},      {\"postfix\": \"to Evaluations in LangSmith\"},  ],  outputs=[      {\"output\": \"Welcome to LangSmith\"},      {\"output\": \"Welcome to Evaluations in LangSmith\"},  ],  dataset_id=dataset.id,)# Define your evaluatordef exact_match(run, example):  return {\"score\": run.outputs[\"output\"] == example.outputs[\"output\"]}experiment_results = evaluate(  lambda input: \"Welcome \" + input['postfix'], # Your AI system goes here  data=dataset_name, # The data to predict and grade over  evaluators=[exact_match], # The evaluators to score the results  experiment_prefix=\"sample-experiment\", # The name of the experiment  metadata={    \"version\": \"1.0.0\",    \"revision_id\":\n",
      "\n",
      "4. Log your first trace‚Äã\n",
      "Tracing to LangSmith for LangChain usersThere is no need to use the LangSmith SDK directly if your application is built entirely on LangChain (either Python and JS).We've outlined a tracing guide specifically for LangChain users here.\n",
      "We provide multiple ways to log traces to LangSmith. Below, we'll highlight\n",
      "how to use traceable. See more on the Annotate code for tracing page.\u001b[0m{'name': 'langsmith_search', 'description': 'Search for information about Langsmith. For any questions about Langsmith, you must use this tool!', 'parameters': {'type_': 6, 'description': 'Input to the retriever.', 'properties': {'query': {'type_': 1, 'description': 'query to look up in retriever', 'format_': '', 'nullable': False, 'enum': [], 'max_items': '0', 'min_items': '0', 'properties': {}, 'required': []}}, 'required': ['query'], 'format_': '', 'nullable': False, 'enum': [], 'max_items': '0', 'min_items': '0'}}\n",
      "{'name': 'tavily_search_results_json', 'description': 'A search engine optimized for comprehensive, accurate, and trusted results. Useful for when you need to answer questions about current events. Input should be a search query.', 'parameters': {'type_': 6, 'description': 'Input for the Tavily tool.', 'properties': {'query': {'type_': 1, 'description': 'search query to look up', 'format_': '', 'nullable': False, 'enum': [], 'max_items': '0', 'min_items': '0', 'properties': {}, 'required': []}}, 'required': ['query'], 'format_': '', 'nullable': False, 'enum': [], 'max_items': '0', 'min_items': '0'}}\n",
      "{'name': 'wikipedia', 'description': 'A wrapper around Wikipedia. Useful for when you need to answer general questions about people, places, companies, facts, historical events, or other subjects. Input should be a search query.', 'parameters': {'type_': 6, 'description': 'Input for the WikipediaQuery tool.', 'properties': {'query': {'type_': 1, 'description': 'query to look up on wikipedia', 'format_': '', 'nullable': False, 'enum': [], 'max_items': '0', 'min_items': '0', 'properties': {}, 'required': []}}, 'required': ['query'], 'format_': '', 'nullable': False, 'enum': [], 'max_items': '0', 'min_items': '0'}}\n",
      "\u001b[32;1m\u001b[1;3mLangsmith helps with testing by providing a platform for evaluating and tracking the performance of your AI models. You can create datasets, define evaluators, and run experiments to measure the accuracy and effectiveness of your models. Langsmith also offers tools for tracing and debugging, making it easier to identify and fix issues in your models. \n",
      "\u001b[0m\n",
      "\n",
      "\u001b[1m> Finished chain.\u001b[0m\n"
     ]
    },
    {
     "data": {
      "text/plain": [
       "{'input': 'How can Langsmith help with Testing?',\n",
       " 'output': 'Langsmith helps with testing by providing a platform for evaluating and tracking the performance of your AI models. You can create datasets, define evaluators, and run experiments to measure the accuracy and effectiveness of your models. Langsmith also offers tools for tracing and debugging, making it easier to identify and fix issues in your models. \\n'}"
      ]
     },
     "execution_count": 75,
     "metadata": {},
     "output_type": "execute_result"
    }
   ],
   "source": [
    "agentExecutor.invoke(input={\"input\":\"How can Langsmith help with Testing?\"})"
   ]
  },
  {
   "cell_type": "code",
   "execution_count": 30,
   "id": "b99cdb80-6687-4fcf-9b41-b7d1cd9feb88",
   "metadata": {},
   "outputs": [
    {
     "name": "stdout",
     "output_type": "stream",
     "text": [
      "\n",
      "\n",
      "\u001b[1m> Entering new AgentExecutor chain...\u001b[0m\n",
      "{'name': 'langsmith_search', 'description': 'Search for information about Langsmith. For any questions about Langsmith, you must use this tool!', 'parameters': {'type_': 6, 'description': 'Input to the retriever.', 'properties': {'query': {'type_': 1, 'description': 'query to look up in retriever', 'format_': '', 'nullable': False, 'enum': [], 'max_items': '0', 'min_items': '0', 'properties': {}, 'required': []}}, 'required': ['query'], 'format_': '', 'nullable': False, 'enum': [], 'max_items': '0', 'min_items': '0'}}\n",
      "{'name': 'serpAPI_Search', 'description': 'Search Tool from SerpAPI', 'parameters': {'type_': 6, 'properties': {'__arg1': {'type_': 1, 'format_': '', 'description': '', 'nullable': False, 'enum': [], 'max_items': '0', 'min_items': '0', 'properties': {}, 'required': []}}, 'required': ['__arg1'], 'format_': '', 'description': '', 'nullable': False, 'enum': [], 'max_items': '0', 'min_items': '0'}}\n",
      "{'name': 'wikipedia', 'description': 'A wrapper around Wikipedia. Useful for when you need to answer general questions about people, places, companies, facts, historical events, or other subjects. Input should be a search query.', 'parameters': {'type_': 6, 'description': 'Input for the WikipediaQuery tool.', 'properties': {'query': {'type_': 1, 'description': 'query to look up on wikipedia', 'format_': '', 'nullable': False, 'enum': [], 'max_items': '0', 'min_items': '0', 'properties': {}, 'required': []}}, 'required': ['query'], 'format_': '', 'nullable': False, 'enum': [], 'max_items': '0', 'min_items': '0'}}\n",
      "\u001b[32;1m\u001b[1;3m\n",
      "Invoking: `serpAPI_Search` with `{'query': 'weather in Kolkata'}`\n",
      "\n",
      "\n",
      "\u001b[0m\u001b[33;1m\u001b[1;3m{'type': 'weather_result', 'temperature': '81', 'unit': 'Fahrenheit', 'precipitation': '3%', 'humidity': '88%', 'wind': '1 mph', 'location': 'Kolkata, West Bengal, India', 'date': 'Tuesday 12:00 AM', 'weather': 'Clear with periodic clouds'}\u001b[0m{'name': 'langsmith_search', 'description': 'Search for information about Langsmith. For any questions about Langsmith, you must use this tool!', 'parameters': {'type_': 6, 'description': 'Input to the retriever.', 'properties': {'query': {'type_': 1, 'description': 'query to look up in retriever', 'format_': '', 'nullable': False, 'enum': [], 'max_items': '0', 'min_items': '0', 'properties': {}, 'required': []}}, 'required': ['query'], 'format_': '', 'nullable': False, 'enum': [], 'max_items': '0', 'min_items': '0'}}\n",
      "{'name': 'serpAPI_Search', 'description': 'Search Tool from SerpAPI', 'parameters': {'type_': 6, 'properties': {'__arg1': {'type_': 1, 'format_': '', 'description': '', 'nullable': False, 'enum': [], 'max_items': '0', 'min_items': '0', 'properties': {}, 'required': []}}, 'required': ['__arg1'], 'format_': '', 'description': '', 'nullable': False, 'enum': [], 'max_items': '0', 'min_items': '0'}}\n",
      "{'name': 'wikipedia', 'description': 'A wrapper around Wikipedia. Useful for when you need to answer general questions about people, places, companies, facts, historical events, or other subjects. Input should be a search query.', 'parameters': {'type_': 6, 'description': 'Input for the WikipediaQuery tool.', 'properties': {'query': {'type_': 1, 'description': 'query to look up on wikipedia', 'format_': '', 'nullable': False, 'enum': [], 'max_items': '0', 'min_items': '0', 'properties': {}, 'required': []}}, 'required': ['query'], 'format_': '', 'nullable': False, 'enum': [], 'max_items': '0', 'min_items': '0'}}\n",
      "\u001b[32;1m\u001b[1;3mThe weather in Kolkata, West Bengal, India is clear with periodic clouds. The temperature is 81 degrees Fahrenheit, with 3% precipitation and 88% humidity. The wind speed is 1 mph. \n",
      "\u001b[0m\n",
      "\n",
      "\u001b[1m> Finished chain.\u001b[0m\n"
     ]
    },
    {
     "data": {
      "text/plain": [
       "{'input': 'What is the weather at Kolkata now?',\n",
       " 'output': 'The weather in Kolkata, West Bengal, India is clear with periodic clouds. The temperature is 81 degrees Fahrenheit, with 3% precipitation and 88% humidity. The wind speed is 1 mph. \\n'}"
      ]
     },
     "execution_count": 30,
     "metadata": {},
     "output_type": "execute_result"
    }
   ],
   "source": [
    "agentExecutor.invoke(input={'input':\"What is the weather at Kolkata now?\"})"
   ]
  },
  {
   "cell_type": "markdown",
   "id": "d951014e-7b6a-49fb-a8eb-6e4e8a99b749",
   "metadata": {},
   "source": [
    "<h3> Adding in Memory</h3>"
   ]
  },
  {
   "cell_type": "code",
   "execution_count": 46,
   "id": "505fea38-4537-43b5-b81b-864b42d416ee",
   "metadata": {},
   "outputs": [],
   "source": [
    "messageHistory=ChatMessageHistory()"
   ]
  },
  {
   "cell_type": "code",
   "execution_count": 47,
   "id": "2b67b2f4-7eb8-47fa-93ae-987a010f1d57",
   "metadata": {},
   "outputs": [],
   "source": [
    "agentWithChatHistory=RunnableWithMessageHistory(\n",
    "    runnable=agentExecutor,\n",
    "    get_session_history=lambda session_id: messageHistory,\n",
    "    input_message_key=\"input\",\n",
    "    history_messages_key=\"chat_history\"\n",
    ")"
   ]
  },
  {
   "cell_type": "code",
   "execution_count": 48,
   "id": "4618445c-ea3d-4365-9164-146352563f30",
   "metadata": {},
   "outputs": [
    {
     "name": "stdout",
     "output_type": "stream",
     "text": [
      "\n",
      "\n",
      "\u001b[1m> Entering new AgentExecutor chain...\u001b[0m\n",
      "{'name': 'langsmith_search', 'description': 'Search for information about Langsmith. For any questions about Langsmith, you must use this tool!', 'parameters': {'type_': 6, 'description': 'Input to the retriever.', 'properties': {'query': {'type_': 1, 'description': 'query to look up in retriever', 'format_': '', 'nullable': False, 'enum': [], 'max_items': '0', 'min_items': '0', 'properties': {}, 'required': []}}, 'required': ['query'], 'format_': '', 'nullable': False, 'enum': [], 'max_items': '0', 'min_items': '0'}}\n",
      "{'name': 'tavily_search_results_json', 'description': 'A search engine optimized for comprehensive, accurate, and trusted results. Useful for when you need to answer questions about current events. Input should be a search query.', 'parameters': {'type_': 6, 'description': 'Input for the Tavily tool.', 'properties': {'query': {'type_': 1, 'description': 'search query to look up', 'format_': '', 'nullable': False, 'enum': [], 'max_items': '0', 'min_items': '0', 'properties': {}, 'required': []}}, 'required': ['query'], 'format_': '', 'nullable': False, 'enum': [], 'max_items': '0', 'min_items': '0'}}\n",
      "{'name': 'serpAPI_Search', 'description': 'Search Tool from SerpAPI', 'parameters': {'type_': 6, 'properties': {'__arg1': {'type_': 1, 'format_': '', 'description': '', 'nullable': False, 'enum': [], 'max_items': '0', 'min_items': '0', 'properties': {}, 'required': []}}, 'required': ['__arg1'], 'format_': '', 'description': '', 'nullable': False, 'enum': [], 'max_items': '0', 'min_items': '0'}}\n",
      "{'name': 'wikipedia', 'description': 'A wrapper around Wikipedia. Useful for when you need to answer general questions about people, places, companies, facts, historical events, or other subjects. Input should be a search query.', 'parameters': {'type_': 6, 'description': 'Input for the WikipediaQuery tool.', 'properties': {'query': {'type_': 1, 'description': 'query to look up on wikipedia', 'format_': '', 'nullable': False, 'enum': [], 'max_items': '0', 'min_items': '0', 'properties': {}, 'required': []}}, 'required': ['query'], 'format_': '', 'nullable': False, 'enum': [], 'max_items': '0', 'min_items': '0'}}\n",
      "\u001b[32;1m\u001b[1;3mNice to meet you, Ritish! 👋 What can I do for you today? 😊 \n",
      "\u001b[0m\n",
      "\n",
      "\u001b[1m> Finished chain.\u001b[0m\n"
     ]
    },
    {
     "data": {
      "text/plain": [
       "{'input': 'hi! My Name is Ritish',\n",
       " 'chat_history': [],\n",
       " 'output': 'Nice to meet you, Ritish! 👋 What can I do for you today? 😊 \\n'}"
      ]
     },
     "execution_count": 48,
     "metadata": {},
     "output_type": "execute_result"
    }
   ],
   "source": [
    "agentWithChatHistory.invoke(\n",
    "    input={\"input\":\"hi! My Name is Ritish\"},\n",
    "    config={\"configurable\":{\"session_id\":\"<ritish>\"}}\n",
    ")"
   ]
  },
  {
   "cell_type": "code",
   "execution_count": 49,
   "id": "1bcc668d-9a59-4d0a-a618-9083c92c6566",
   "metadata": {},
   "outputs": [
    {
     "name": "stdout",
     "output_type": "stream",
     "text": [
      "\n",
      "\n",
      "\u001b[1m> Entering new AgentExecutor chain...\u001b[0m\n",
      "{'name': 'langsmith_search', 'description': 'Search for information about Langsmith. For any questions about Langsmith, you must use this tool!', 'parameters': {'type_': 6, 'description': 'Input to the retriever.', 'properties': {'query': {'type_': 1, 'description': 'query to look up in retriever', 'format_': '', 'nullable': False, 'enum': [], 'max_items': '0', 'min_items': '0', 'properties': {}, 'required': []}}, 'required': ['query'], 'format_': '', 'nullable': False, 'enum': [], 'max_items': '0', 'min_items': '0'}}\n",
      "{'name': 'tavily_search_results_json', 'description': 'A search engine optimized for comprehensive, accurate, and trusted results. Useful for when you need to answer questions about current events. Input should be a search query.', 'parameters': {'type_': 6, 'description': 'Input for the Tavily tool.', 'properties': {'query': {'type_': 1, 'description': 'search query to look up', 'format_': '', 'nullable': False, 'enum': [], 'max_items': '0', 'min_items': '0', 'properties': {}, 'required': []}}, 'required': ['query'], 'format_': '', 'nullable': False, 'enum': [], 'max_items': '0', 'min_items': '0'}}\n",
      "{'name': 'serpAPI_Search', 'description': 'Search Tool from SerpAPI', 'parameters': {'type_': 6, 'properties': {'__arg1': {'type_': 1, 'format_': '', 'description': '', 'nullable': False, 'enum': [], 'max_items': '0', 'min_items': '0', 'properties': {}, 'required': []}}, 'required': ['__arg1'], 'format_': '', 'description': '', 'nullable': False, 'enum': [], 'max_items': '0', 'min_items': '0'}}\n",
      "{'name': 'wikipedia', 'description': 'A wrapper around Wikipedia. Useful for when you need to answer general questions about people, places, companies, facts, historical events, or other subjects. Input should be a search query.', 'parameters': {'type_': 6, 'description': 'Input for the WikipediaQuery tool.', 'properties': {'query': {'type_': 1, 'description': 'query to look up on wikipedia', 'format_': '', 'nullable': False, 'enum': [], 'max_items': '0', 'min_items': '0', 'properties': {}, 'required': []}}, 'required': ['query'], 'format_': '', 'nullable': False, 'enum': [], 'max_items': '0', 'min_items': '0'}}\n",
      "\u001b[32;1m\u001b[1;3mYour name is Ritish! 😊 \n",
      "\u001b[0m\n",
      "\n",
      "\u001b[1m> Finished chain.\u001b[0m\n"
     ]
    },
    {
     "data": {
      "text/plain": [
       "{'input': \"What's my name?\",\n",
       " 'chat_history': [HumanMessage(content='hi! My Name is Ritish', additional_kwargs={}, response_metadata={}),\n",
       "  AIMessage(content='Nice to meet you, Ritish! 👋 What can I do for you today? 😊 \\n', additional_kwargs={}, response_metadata={})],\n",
       " 'output': 'Your name is Ritish! 😊 \\n'}"
      ]
     },
     "execution_count": 49,
     "metadata": {},
     "output_type": "execute_result"
    }
   ],
   "source": [
    "agentWithChatHistory.invoke(\n",
    "    input={\"input\":\"What's my name?\"},\n",
    "    config={\"configurable\":{\"session_id\":\"<ritish>\"}}\n",
    ")"
   ]
  },
  {
   "cell_type": "code",
   "execution_count": 50,
   "id": "d30d34e8-acaf-4c0b-98e8-f48a6786e331",
   "metadata": {},
   "outputs": [
    {
     "name": "stdout",
     "output_type": "stream",
     "text": [
      "\n",
      "\n",
      "\u001b[1m> Entering new AgentExecutor chain...\u001b[0m\n",
      "{'name': 'langsmith_search', 'description': 'Search for information about Langsmith. For any questions about Langsmith, you must use this tool!', 'parameters': {'type_': 6, 'description': 'Input to the retriever.', 'properties': {'query': {'type_': 1, 'description': 'query to look up in retriever', 'format_': '', 'nullable': False, 'enum': [], 'max_items': '0', 'min_items': '0', 'properties': {}, 'required': []}}, 'required': ['query'], 'format_': '', 'nullable': False, 'enum': [], 'max_items': '0', 'min_items': '0'}}\n",
      "{'name': 'tavily_search_results_json', 'description': 'A search engine optimized for comprehensive, accurate, and trusted results. Useful for when you need to answer questions about current events. Input should be a search query.', 'parameters': {'type_': 6, 'description': 'Input for the Tavily tool.', 'properties': {'query': {'type_': 1, 'description': 'search query to look up', 'format_': '', 'nullable': False, 'enum': [], 'max_items': '0', 'min_items': '0', 'properties': {}, 'required': []}}, 'required': ['query'], 'format_': '', 'nullable': False, 'enum': [], 'max_items': '0', 'min_items': '0'}}\n",
      "{'name': 'serpAPI_Search', 'description': 'Search Tool from SerpAPI', 'parameters': {'type_': 6, 'properties': {'__arg1': {'type_': 1, 'format_': '', 'description': '', 'nullable': False, 'enum': [], 'max_items': '0', 'min_items': '0', 'properties': {}, 'required': []}}, 'required': ['__arg1'], 'format_': '', 'description': '', 'nullable': False, 'enum': [], 'max_items': '0', 'min_items': '0'}}\n",
      "{'name': 'wikipedia', 'description': 'A wrapper around Wikipedia. Useful for when you need to answer general questions about people, places, companies, facts, historical events, or other subjects. Input should be a search query.', 'parameters': {'type_': 6, 'description': 'Input for the WikipediaQuery tool.', 'properties': {'query': {'type_': 1, 'description': 'query to look up on wikipedia', 'format_': '', 'nullable': False, 'enum': [], 'max_items': '0', 'min_items': '0', 'properties': {}, 'required': []}}, 'required': ['query'], 'format_': '', 'nullable': False, 'enum': [], 'max_items': '0', 'min_items': '0'}}\n",
      "\u001b[32;1m\u001b[1;3m\n",
      "Invoking: `langsmith_search` with `{'query': 'What is Langsmith?'}`\n",
      "\n",
      "\n",
      "\u001b[0m\u001b[36;1m\u001b[1;3mGet started with LangSmith | ü¶úÔ∏èüõ†Ô∏è LangSmith\n",
      "\n",
      "4. Log your first trace‚Äã\n",
      "Tracing to LangSmith for LangChain usersThere is no need to use the LangSmith SDK directly if your application is built entirely on LangChain (either Python and JS).We've outlined a tracing guide specifically for LangChain users here.\n",
      "We provide multiple ways to log traces to LangSmith. Below, we'll highlight\n",
      "how to use traceable. See more on the Annotate code for tracing page.\n",
      "\n",
      "Learn more about evaluation in the how-to guides.\n",
      "Was this page helpful?You can leave detailed feedback on GitHub.NextConcepts1. Install LangSmith2. Create an API key3. Set up your environment4. Log your first trace5. Run your first evaluationCommunityDiscordTwitterGitHubDocs CodeLangSmith SDKPythonJS/TSMoreHomepageBlogLangChain Python DocsLangChain JS/TS DocsCopyright ¬© 2024 LangChain, Inc.\n",
      "\n",
      "Skip to main contentGo to API DocsSearchRegionUSEUGo to AppQuick startObservabilityEvaluationPrompt EngineeringDeployment (LangGraph Cloud)AdministrationSelf-hostingReferenceQuick startOn this pageGet started with LangSmith\n",
      "LangSmith is a platform for building production-grade LLM applications. It allows you to closely monitor and evaluate your application, so you can ship quickly and with confidence. Use of LangChain is not necessary - LangSmith works on its own!\n",
      "1. Install LangSmith‚Äã\n",
      "PythonTypeScriptpip install -U langsmithyarn add langsmith\n",
      "2. Create an API key‚Äã\n",
      "To create an API key head to the Settings page. Then click Create API Key.\n",
      "3. Set up your environment‚Äã\n",
      "Shellexport LANGCHAIN_TRACING_V2=trueexport LANGCHAIN_API_KEY=<your-api-key># The below examples use the OpenAI API, though it's not necessary in generalexport OPENAI_API_KEY=<your-openai-api-key>\n",
      "4. Log your first trace‚Äã\u001b[0m{'name': 'langsmith_search', 'description': 'Search for information about Langsmith. For any questions about Langsmith, you must use this tool!', 'parameters': {'type_': 6, 'description': 'Input to the retriever.', 'properties': {'query': {'type_': 1, 'description': 'query to look up in retriever', 'format_': '', 'nullable': False, 'enum': [], 'max_items': '0', 'min_items': '0', 'properties': {}, 'required': []}}, 'required': ['query'], 'format_': '', 'nullable': False, 'enum': [], 'max_items': '0', 'min_items': '0'}}\n",
      "{'name': 'tavily_search_results_json', 'description': 'A search engine optimized for comprehensive, accurate, and trusted results. Useful for when you need to answer questions about current events. Input should be a search query.', 'parameters': {'type_': 6, 'description': 'Input for the Tavily tool.', 'properties': {'query': {'type_': 1, 'description': 'search query to look up', 'format_': '', 'nullable': False, 'enum': [], 'max_items': '0', 'min_items': '0', 'properties': {}, 'required': []}}, 'required': ['query'], 'format_': '', 'nullable': False, 'enum': [], 'max_items': '0', 'min_items': '0'}}\n",
      "{'name': 'serpAPI_Search', 'description': 'Search Tool from SerpAPI', 'parameters': {'type_': 6, 'properties': {'__arg1': {'type_': 1, 'format_': '', 'description': '', 'nullable': False, 'enum': [], 'max_items': '0', 'min_items': '0', 'properties': {}, 'required': []}}, 'required': ['__arg1'], 'format_': '', 'description': '', 'nullable': False, 'enum': [], 'max_items': '0', 'min_items': '0'}}\n",
      "{'name': 'wikipedia', 'description': 'A wrapper around Wikipedia. Useful for when you need to answer general questions about people, places, companies, facts, historical events, or other subjects. Input should be a search query.', 'parameters': {'type_': 6, 'description': 'Input for the WikipediaQuery tool.', 'properties': {'query': {'type_': 1, 'description': 'query to look up on wikipedia', 'format_': '', 'nullable': False, 'enum': [], 'max_items': '0', 'min_items': '0', 'properties': {}, 'required': []}}, 'required': ['query'], 'format_': '', 'nullable': False, 'enum': [], 'max_items': '0', 'min_items': '0'}}\n",
      "\u001b[32;1m\u001b[1;3mLangsmith is a platform for building production-grade LLM applications. It helps you closely monitor and evaluate your application, allowing you to ship quickly and confidently. You don't need to use LangChain - Langsmith works independently! \n",
      "\u001b[0m\n",
      "\n",
      "\u001b[1m> Finished chain.\u001b[0m\n"
     ]
    },
    {
     "data": {
      "text/plain": [
       "{'input': 'What exactly is Langsmith?',\n",
       " 'chat_history': [HumanMessage(content='hi! My Name is Ritish', additional_kwargs={}, response_metadata={}),\n",
       "  AIMessage(content='Nice to meet you, Ritish! 👋 What can I do for you today? 😊 \\n', additional_kwargs={}, response_metadata={}),\n",
       "  HumanMessage(content=\"What's my name?\", additional_kwargs={}, response_metadata={}),\n",
       "  AIMessage(content='Your name is Ritish! 😊 \\n', additional_kwargs={}, response_metadata={})],\n",
       " 'output': \"Langsmith is a platform for building production-grade LLM applications. It helps you closely monitor and evaluate your application, allowing you to ship quickly and confidently. You don't need to use LangChain - Langsmith works independently! \\n\"}"
      ]
     },
     "execution_count": 50,
     "metadata": {},
     "output_type": "execute_result"
    }
   ],
   "source": [
    "agentWithChatHistory.invoke(\n",
    "    input={\"input\":\"What exactly is Langsmith?\"},\n",
    "    config={\"configurable\":{\"session_id\":\"<ritish>\"}}\n",
    ")"
   ]
  },
  {
   "cell_type": "code",
   "execution_count": 51,
   "id": "60627cfa-d5c6-4459-9962-9779847c6718",
   "metadata": {},
   "outputs": [
    {
     "name": "stdout",
     "output_type": "stream",
     "text": [
      "\n",
      "\n",
      "\u001b[1m> Entering new AgentExecutor chain...\u001b[0m\n",
      "{'name': 'langsmith_search', 'description': 'Search for information about Langsmith. For any questions about Langsmith, you must use this tool!', 'parameters': {'type_': 6, 'description': 'Input to the retriever.', 'properties': {'query': {'type_': 1, 'description': 'query to look up in retriever', 'format_': '', 'nullable': False, 'enum': [], 'max_items': '0', 'min_items': '0', 'properties': {}, 'required': []}}, 'required': ['query'], 'format_': '', 'nullable': False, 'enum': [], 'max_items': '0', 'min_items': '0'}}\n",
      "{'name': 'tavily_search_results_json', 'description': 'A search engine optimized for comprehensive, accurate, and trusted results. Useful for when you need to answer questions about current events. Input should be a search query.', 'parameters': {'type_': 6, 'description': 'Input for the Tavily tool.', 'properties': {'query': {'type_': 1, 'description': 'search query to look up', 'format_': '', 'nullable': False, 'enum': [], 'max_items': '0', 'min_items': '0', 'properties': {}, 'required': []}}, 'required': ['query'], 'format_': '', 'nullable': False, 'enum': [], 'max_items': '0', 'min_items': '0'}}\n",
      "{'name': 'serpAPI_Search', 'description': 'Search Tool from SerpAPI', 'parameters': {'type_': 6, 'properties': {'__arg1': {'type_': 1, 'format_': '', 'description': '', 'nullable': False, 'enum': [], 'max_items': '0', 'min_items': '0', 'properties': {}, 'required': []}}, 'required': ['__arg1'], 'format_': '', 'description': '', 'nullable': False, 'enum': [], 'max_items': '0', 'min_items': '0'}}\n",
      "{'name': 'wikipedia', 'description': 'A wrapper around Wikipedia. Useful for when you need to answer general questions about people, places, companies, facts, historical events, or other subjects. Input should be a search query.', 'parameters': {'type_': 6, 'description': 'Input for the WikipediaQuery tool.', 'properties': {'query': {'type_': 1, 'description': 'query to look up on wikipedia', 'format_': '', 'nullable': False, 'enum': [], 'max_items': '0', 'min_items': '0', 'properties': {}, 'required': []}}, 'required': ['query'], 'format_': '', 'nullable': False, 'enum': [], 'max_items': '0', 'min_items': '0'}}\n",
      "\u001b[32;1m\u001b[1;3m\n",
      "Invoking: `tavily_search_results_json` with `{'query': 'Can India qualify for World Test Championship?'}`\n",
      "\n",
      "\n",
      "\u001b[0m\u001b[33;1m\u001b[1;3m[{'url': 'https://www.hindustantimes.com/cricket/how-india-can-still-qualify-for-wtc-final-despite-crushing-home-series-loss-to-new-zealand-all-scenarios-explained-101729936190419.html', 'content': \"How India can still qualify for WTC final despite crushing home series loss to New Zealand: All scenarios explained | Crickit Can India make it to their third WTC final in a row even after losing the Test series at home to New Zealand? India's chances to qualify for their third World Test Championship (WTC) final in a row took a significant hit after Rohit Sharma and co suffered a shock series loss against New Zealand on Saturday. New Zealand have an outside chance of making it to the final, despite registering their first Test series win in India. News / Cricket News / How India can still qualify for WTC final despite crushing home series loss to New Zealand: All scenarios explained\"}, {'url': 'https://sports.ndtv.com/cricket/world-test-championship-scenario-for-all-teams-how-india-australia-others-can-qualify-for-final-6889389', 'content': 'World Test Championship Scenario For All Teams: How India, Australia, Others Can Qualify For Final | Cricket News Sports Home Cricket News World Test Championship Scenario For All Teams How India Australia Others Can Qualify For Final Regardless of what happens in Mumbai against New Zealand, the five-match series against Australia at the end of the year will be pivotal for India and their chances of reaching a third straight World Test Championship final. Winning a first-ever series in India has given New Zealand some hope of claiming a second World Test Championship title, but they still have plenty of work to do if they are to finish in the top two places in the standings.'}, {'url': 'https://www.bbc.co.uk/sport/cricket/articles/cvg4x4jgek0o', 'content': \"World Test Championship qualification scenarios India While India still lead the way as it stands, back-to-back home losses to New Zealand have made it that much tougher for Rohit Sharma's men to\"}, {'url': 'https://sports.ndtv.com/india-vs-new-zealand-2024/how-can-india-qualify-for-world-test-championship-final-after-loss-against-new-zealand-in-first-test-6832097', 'content': \"Sports Home India vs New Zealand 2024 News How Can India Qualify For World Test Championship Final After Loss Against New Zealand In First Test India will now face New Zealand in two more Tests before heading to Australia for a five-match series. But New Zealand's triumph over India has the Kiwis back in the running for a second appearance in the World Test Championship final, as they overtake England and South Africa to re-claim fourth position. New Zealand host England for three Tests in November and December and may still be in contention for a top two finish on the standings with a pair of positive results from the remaining matches against India. Formula 1 Tennis Hockey Badminton Golf Nba Kabaddi Shooting Swimming Table Tennis\"}, {'url': 'https://www.theweek.in/news/sports/2024/10/26/wtc-point-table-explained-can-india-qualify-for-world-test-championship-final-after-after-new-zealand-series-defeat-5-points-to-know.html', 'content': \"WTC point table explained: Can India qualify for World Test Championship Final after New Zealand series defeat? WTC point table explained: Can India qualify for World Test Championship Final after New Zealand series defeat? New Zealand registered a historic Test series win in India on Saturday after Mitchell Santer produced his career-best performance at the Pune MCA Stadium. While India were handed their first home defeat after 18 consecutive Test series victories, New Zealand celebrated their first-ever series win in the Asian country in nearly 70 years. READ HERE | Mitchell Santner helps New Zealand register historic Test series win against India; as it happened at Pune Surrendering the series also took a hit on India's chances of making the World Test Championship (WTC) final.\"}]\u001b[0m{'name': 'langsmith_search', 'description': 'Search for information about Langsmith. For any questions about Langsmith, you must use this tool!', 'parameters': {'type_': 6, 'description': 'Input to the retriever.', 'properties': {'query': {'type_': 1, 'description': 'query to look up in retriever', 'format_': '', 'nullable': False, 'enum': [], 'max_items': '0', 'min_items': '0', 'properties': {}, 'required': []}}, 'required': ['query'], 'format_': '', 'nullable': False, 'enum': [], 'max_items': '0', 'min_items': '0'}}\n",
      "{'name': 'tavily_search_results_json', 'description': 'A search engine optimized for comprehensive, accurate, and trusted results. Useful for when you need to answer questions about current events. Input should be a search query.', 'parameters': {'type_': 6, 'description': 'Input for the Tavily tool.', 'properties': {'query': {'type_': 1, 'description': 'search query to look up', 'format_': '', 'nullable': False, 'enum': [], 'max_items': '0', 'min_items': '0', 'properties': {}, 'required': []}}, 'required': ['query'], 'format_': '', 'nullable': False, 'enum': [], 'max_items': '0', 'min_items': '0'}}\n",
      "{'name': 'serpAPI_Search', 'description': 'Search Tool from SerpAPI', 'parameters': {'type_': 6, 'properties': {'__arg1': {'type_': 1, 'format_': '', 'description': '', 'nullable': False, 'enum': [], 'max_items': '0', 'min_items': '0', 'properties': {}, 'required': []}}, 'required': ['__arg1'], 'format_': '', 'description': '', 'nullable': False, 'enum': [], 'max_items': '0', 'min_items': '0'}}\n",
      "{'name': 'wikipedia', 'description': 'A wrapper around Wikipedia. Useful for when you need to answer general questions about people, places, companies, facts, historical events, or other subjects. Input should be a search query.', 'parameters': {'type_': 6, 'description': 'Input for the WikipediaQuery tool.', 'properties': {'query': {'type_': 1, 'description': 'query to look up on wikipedia', 'format_': '', 'nullable': False, 'enum': [], 'max_items': '0', 'min_items': '0', 'properties': {}, 'required': []}}, 'required': ['query'], 'format_': '', 'nullable': False, 'enum': [], 'max_items': '0', 'min_items': '0'}}\n",
      "\u001b[32;1m\u001b[1;3mIndia's chances of qualifying for the World Test Championship final are still possible, but they've become more difficult after losing the home series to New Zealand. It's going to be a tight race! They'll need to win most of their upcoming matches against Australia to secure a top two finish.  \n",
      "\u001b[0m\n",
      "\n",
      "\u001b[1m> Finished chain.\u001b[0m\n"
     ]
    },
    {
     "data": {
      "text/plain": [
       "{'input': 'Can India qualify for World Test Championship?',\n",
       " 'chat_history': [HumanMessage(content='hi! My Name is Ritish', additional_kwargs={}, response_metadata={}),\n",
       "  AIMessage(content='Nice to meet you, Ritish! 👋 What can I do for you today? 😊 \\n', additional_kwargs={}, response_metadata={}),\n",
       "  HumanMessage(content=\"What's my name?\", additional_kwargs={}, response_metadata={}),\n",
       "  AIMessage(content='Your name is Ritish! 😊 \\n', additional_kwargs={}, response_metadata={}),\n",
       "  HumanMessage(content='What exactly is Langsmith?', additional_kwargs={}, response_metadata={}),\n",
       "  AIMessage(content=\"Langsmith is a platform for building production-grade LLM applications. It helps you closely monitor and evaluate your application, allowing you to ship quickly and confidently. You don't need to use LangChain - Langsmith works independently! \\n\", additional_kwargs={}, response_metadata={})],\n",
       " 'output': \"India's chances of qualifying for the World Test Championship final are still possible, but they've become more difficult after losing the home series to New Zealand. It's going to be a tight race! They'll need to win most of their upcoming matches against Australia to secure a top two finish.  \\n\"}"
      ]
     },
     "execution_count": 51,
     "metadata": {},
     "output_type": "execute_result"
    }
   ],
   "source": [
    "agentWithChatHistory.invoke(\n",
    "    input={\"input\":\"Can India qualify for World Test Championship?\"},\n",
    "    config={\"configurable\":{\"session_id\":\"<ritish>\"}}\n",
    ")"
   ]
  },
  {
   "cell_type": "code",
   "execution_count": 52,
   "id": "66c91cee-9b0f-4d5d-a876-611ae53a796e",
   "metadata": {},
   "outputs": [
    {
     "name": "stdout",
     "output_type": "stream",
     "text": [
      "\n",
      "\n",
      "\u001b[1m> Entering new AgentExecutor chain...\u001b[0m\n",
      "{'name': 'langsmith_search', 'description': 'Search for information about Langsmith. For any questions about Langsmith, you must use this tool!', 'parameters': {'type_': 6, 'description': 'Input to the retriever.', 'properties': {'query': {'type_': 1, 'description': 'query to look up in retriever', 'format_': '', 'nullable': False, 'enum': [], 'max_items': '0', 'min_items': '0', 'properties': {}, 'required': []}}, 'required': ['query'], 'format_': '', 'nullable': False, 'enum': [], 'max_items': '0', 'min_items': '0'}}\n",
      "{'name': 'tavily_search_results_json', 'description': 'A search engine optimized for comprehensive, accurate, and trusted results. Useful for when you need to answer questions about current events. Input should be a search query.', 'parameters': {'type_': 6, 'description': 'Input for the Tavily tool.', 'properties': {'query': {'type_': 1, 'description': 'search query to look up', 'format_': '', 'nullable': False, 'enum': [], 'max_items': '0', 'min_items': '0', 'properties': {}, 'required': []}}, 'required': ['query'], 'format_': '', 'nullable': False, 'enum': [], 'max_items': '0', 'min_items': '0'}}\n",
      "{'name': 'serpAPI_Search', 'description': 'Search Tool from SerpAPI', 'parameters': {'type_': 6, 'properties': {'__arg1': {'type_': 1, 'format_': '', 'description': '', 'nullable': False, 'enum': [], 'max_items': '0', 'min_items': '0', 'properties': {}, 'required': []}}, 'required': ['__arg1'], 'format_': '', 'description': '', 'nullable': False, 'enum': [], 'max_items': '0', 'min_items': '0'}}\n",
      "{'name': 'wikipedia', 'description': 'A wrapper around Wikipedia. Useful for when you need to answer general questions about people, places, companies, facts, historical events, or other subjects. Input should be a search query.', 'parameters': {'type_': 6, 'description': 'Input for the WikipediaQuery tool.', 'properties': {'query': {'type_': 1, 'description': 'query to look up on wikipedia', 'format_': '', 'nullable': False, 'enum': [], 'max_items': '0', 'min_items': '0', 'properties': {}, 'required': []}}, 'required': ['query'], 'format_': '', 'nullable': False, 'enum': [], 'max_items': '0', 'min_items': '0'}}\n",
      "\u001b[32;1m\u001b[1;3m\n",
      "Invoking: `tavily_search_results_json` with `{'query': 'Which party won the election in Jammu and Kashmir'}`\n",
      "\n",
      "\n",
      "\u001b[0m\u001b[33;1m\u001b[1;3m[{'url': 'https://www.cnbctv18.com/india/politics/jammu-and-kashmir-election-result-2024-full-list-of-winners-19489010.htm', 'content': 'Find out the full list of winners and party performance in the 2024 Jammu and Kashmir Assembly elections, the first since the abrogation of Article 370 in 2019. The Congress-National Conference alliance secured a majority with 48 seats, while the BJP followed with 29 seats.'}, {'url': 'https://www.ndtv.com/india-news/live-updates-jammu-and-kashmir-election-results-2024-who-will-win-in-j-ks-first-poll-in-10-years-6740066', 'content': 'Many key candidates and bigwigs, including two former deputy chief ministers and ex-ministers, lost the maiden assembly elections in Jammu and Kashmir after the abrogation of Article 370, as the National Conference (NC) emerged as the single largest party with 42 seats. Jammu and Kashmir will not benefit from an \"antagonistic relationship\" with the BJP-led central government, National Conference leader Omar Abdullah told NDTV Tuesday evening, shortly after his party and the Congress won the 2024 J&K Assembly election - the first in a decade. Finals results in Jammu and Kashmir Assembly elections are in: National Conference won 42 seats out of 90, followed by the BJP with 29 seats and Congress, which is in alliance with National Conference, won 6. Jammu And Kashmir Elections Result: Congress-National Conference Alliance Wins 46 Seats  '}, {'url': 'https://en.wikipedia.org/wiki/2024_Indian_general_election_in_Jammu_and_Kashmir', 'content': 'The 2024 Indian general election was held in Jammu and Kashmir in 5 phases from 19 April to 20 May 2024 to elect 5 members of the 18th Lok Sabha. The BJP and JKNC won 2 seats each, with BJP leading the popular vote at 24.36% and JKNC at 22.30%.'}, {'url': 'https://www.ndtv.com/india-news/jammu-and-kashmir-2024-elections-full-list-of-winners-6745508', 'content': 'Jammu And Kashmir 2024 Elections: The BJP emerged the second largest party by winning 29 constituencies, improving its all-time high count of 25 seats recorded in 2014 elections.'}, {'url': 'https://www.hindustantimes.com/india-news/jammu-and-kashmir-election-results-who-won-with-the-highest-and-lowest-margins-101728402862314.html', 'content': 'Delhi News Jammu, Oct 08 (ANI): Bharatiya Janata Party (BJP) candidate Devender Singh Rana being garlanded by party supporters as he wins from Nagrota seat in the Jammu and Kashmir Assembly election, in Jammu on Tuesday. In the Jammu and Kashmir assembly elections, BJP candidate Devender Rana achieved the highest victory margin, winning the Nagrota seat by 30,472 votes, according to the Election Commission of India (ECI). News / India News / Jammu and Kashmir election results: Who won with the highest and lowest margins? India News Delhi News India News Live Entertainment News Live Cricket News Live US Election 2024 News LIVE India News Live India News India News US News india news News Photos More from HT'}]\u001b[0m{'name': 'langsmith_search', 'description': 'Search for information about Langsmith. For any questions about Langsmith, you must use this tool!', 'parameters': {'type_': 6, 'description': 'Input to the retriever.', 'properties': {'query': {'type_': 1, 'description': 'query to look up in retriever', 'format_': '', 'nullable': False, 'enum': [], 'max_items': '0', 'min_items': '0', 'properties': {}, 'required': []}}, 'required': ['query'], 'format_': '', 'nullable': False, 'enum': [], 'max_items': '0', 'min_items': '0'}}\n",
      "{'name': 'tavily_search_results_json', 'description': 'A search engine optimized for comprehensive, accurate, and trusted results. Useful for when you need to answer questions about current events. Input should be a search query.', 'parameters': {'type_': 6, 'description': 'Input for the Tavily tool.', 'properties': {'query': {'type_': 1, 'description': 'search query to look up', 'format_': '', 'nullable': False, 'enum': [], 'max_items': '0', 'min_items': '0', 'properties': {}, 'required': []}}, 'required': ['query'], 'format_': '', 'nullable': False, 'enum': [], 'max_items': '0', 'min_items': '0'}}\n",
      "{'name': 'serpAPI_Search', 'description': 'Search Tool from SerpAPI', 'parameters': {'type_': 6, 'properties': {'__arg1': {'type_': 1, 'format_': '', 'description': '', 'nullable': False, 'enum': [], 'max_items': '0', 'min_items': '0', 'properties': {}, 'required': []}}, 'required': ['__arg1'], 'format_': '', 'description': '', 'nullable': False, 'enum': [], 'max_items': '0', 'min_items': '0'}}\n",
      "{'name': 'wikipedia', 'description': 'A wrapper around Wikipedia. Useful for when you need to answer general questions about people, places, companies, facts, historical events, or other subjects. Input should be a search query.', 'parameters': {'type_': 6, 'description': 'Input for the WikipediaQuery tool.', 'properties': {'query': {'type_': 1, 'description': 'query to look up on wikipedia', 'format_': '', 'nullable': False, 'enum': [], 'max_items': '0', 'min_items': '0', 'properties': {}, 'required': []}}, 'required': ['query'], 'format_': '', 'nullable': False, 'enum': [], 'max_items': '0', 'min_items': '0'}}\n",
      "\u001b[32;1m\u001b[1;3mThe Congress-National Conference alliance won the 2024 Jammu and Kashmir Assembly election with 48 seats, while the BJP won 29 seats. \n",
      "\u001b[0m\n",
      "\n",
      "\u001b[1m> Finished chain.\u001b[0m\n"
     ]
    },
    {
     "data": {
      "text/plain": [
       "{'input': 'Which party won the election in Jammu and Kashmir?',\n",
       " 'chat_history': [HumanMessage(content='hi! My Name is Ritish', additional_kwargs={}, response_metadata={}),\n",
       "  AIMessage(content='Nice to meet you, Ritish! 👋 What can I do for you today? 😊 \\n', additional_kwargs={}, response_metadata={}),\n",
       "  HumanMessage(content=\"What's my name?\", additional_kwargs={}, response_metadata={}),\n",
       "  AIMessage(content='Your name is Ritish! 😊 \\n', additional_kwargs={}, response_metadata={}),\n",
       "  HumanMessage(content='What exactly is Langsmith?', additional_kwargs={}, response_metadata={}),\n",
       "  AIMessage(content=\"Langsmith is a platform for building production-grade LLM applications. It helps you closely monitor and evaluate your application, allowing you to ship quickly and confidently. You don't need to use LangChain - Langsmith works independently! \\n\", additional_kwargs={}, response_metadata={}),\n",
       "  HumanMessage(content='Can India qualify for World Test Championship?', additional_kwargs={}, response_metadata={}),\n",
       "  AIMessage(content=\"India's chances of qualifying for the World Test Championship final are still possible, but they've become more difficult after losing the home series to New Zealand. It's going to be a tight race! They'll need to win most of their upcoming matches against Australia to secure a top two finish.  \\n\", additional_kwargs={}, response_metadata={})],\n",
       " 'output': 'The Congress-National Conference alliance won the 2024 Jammu and Kashmir Assembly election with 48 seats, while the BJP won 29 seats. \\n'}"
      ]
     },
     "execution_count": 52,
     "metadata": {},
     "output_type": "execute_result"
    }
   ],
   "source": [
    "agentWithChatHistory.invoke(\n",
    "    input={\"input\":\"Which party won the election in Jammu and Kashmir?\"},\n",
    "    config={\"configurable\":{\"session_id\":\"<ritish>\"}}\n",
    ")"
   ]
  },
  {
   "cell_type": "code",
   "execution_count": 53,
   "id": "27c55e7e-4de1-4aac-b4a5-470971bddbe5",
   "metadata": {},
   "outputs": [
    {
     "name": "stdout",
     "output_type": "stream",
     "text": [
      "\n",
      "\n",
      "\u001b[1m> Entering new AgentExecutor chain...\u001b[0m\n",
      "{'name': 'langsmith_search', 'description': 'Search for information about Langsmith. For any questions about Langsmith, you must use this tool!', 'parameters': {'type_': 6, 'description': 'Input to the retriever.', 'properties': {'query': {'type_': 1, 'description': 'query to look up in retriever', 'format_': '', 'nullable': False, 'enum': [], 'max_items': '0', 'min_items': '0', 'properties': {}, 'required': []}}, 'required': ['query'], 'format_': '', 'nullable': False, 'enum': [], 'max_items': '0', 'min_items': '0'}}\n",
      "{'name': 'tavily_search_results_json', 'description': 'A search engine optimized for comprehensive, accurate, and trusted results. Useful for when you need to answer questions about current events. Input should be a search query.', 'parameters': {'type_': 6, 'description': 'Input for the Tavily tool.', 'properties': {'query': {'type_': 1, 'description': 'search query to look up', 'format_': '', 'nullable': False, 'enum': [], 'max_items': '0', 'min_items': '0', 'properties': {}, 'required': []}}, 'required': ['query'], 'format_': '', 'nullable': False, 'enum': [], 'max_items': '0', 'min_items': '0'}}\n",
      "{'name': 'serpAPI_Search', 'description': 'Search Tool from SerpAPI', 'parameters': {'type_': 6, 'properties': {'__arg1': {'type_': 1, 'format_': '', 'description': '', 'nullable': False, 'enum': [], 'max_items': '0', 'min_items': '0', 'properties': {}, 'required': []}}, 'required': ['__arg1'], 'format_': '', 'description': '', 'nullable': False, 'enum': [], 'max_items': '0', 'min_items': '0'}}\n",
      "{'name': 'wikipedia', 'description': 'A wrapper around Wikipedia. Useful for when you need to answer general questions about people, places, companies, facts, historical events, or other subjects. Input should be a search query.', 'parameters': {'type_': 6, 'description': 'Input for the WikipediaQuery tool.', 'properties': {'query': {'type_': 1, 'description': 'query to look up on wikipedia', 'format_': '', 'nullable': False, 'enum': [], 'max_items': '0', 'min_items': '0', 'properties': {}, 'required': []}}, 'required': ['query'], 'format_': '', 'nullable': False, 'enum': [], 'max_items': '0', 'min_items': '0'}}\n",
      "\u001b[32;1m\u001b[1;3mYou've asked the following questions:\n",
      "\n",
      "1. What's my name? \n",
      "2. What exactly is Langsmith?\n",
      "3. Can India qualify for World Test Championship?\n",
      "4. Which party won the election in Jammu and Kashmir? \n",
      " \n",
      "Let me know if you have any other questions. 😊 \n",
      "\u001b[0m\n",
      "\n",
      "\u001b[1m> Finished chain.\u001b[0m\n"
     ]
    },
    {
     "data": {
      "text/plain": [
       "{'input': \"What's are the questions that I have asked so far?\",\n",
       " 'chat_history': [HumanMessage(content='hi! My Name is Ritish', additional_kwargs={}, response_metadata={}),\n",
       "  AIMessage(content='Nice to meet you, Ritish! 👋 What can I do for you today? 😊 \\n', additional_kwargs={}, response_metadata={}),\n",
       "  HumanMessage(content=\"What's my name?\", additional_kwargs={}, response_metadata={}),\n",
       "  AIMessage(content='Your name is Ritish! 😊 \\n', additional_kwargs={}, response_metadata={}),\n",
       "  HumanMessage(content='What exactly is Langsmith?', additional_kwargs={}, response_metadata={}),\n",
       "  AIMessage(content=\"Langsmith is a platform for building production-grade LLM applications. It helps you closely monitor and evaluate your application, allowing you to ship quickly and confidently. You don't need to use LangChain - Langsmith works independently! \\n\", additional_kwargs={}, response_metadata={}),\n",
       "  HumanMessage(content='Can India qualify for World Test Championship?', additional_kwargs={}, response_metadata={}),\n",
       "  AIMessage(content=\"India's chances of qualifying for the World Test Championship final are still possible, but they've become more difficult after losing the home series to New Zealand. It's going to be a tight race! They'll need to win most of their upcoming matches against Australia to secure a top two finish.  \\n\", additional_kwargs={}, response_metadata={}),\n",
       "  HumanMessage(content='Which party won the election in Jammu and Kashmir?', additional_kwargs={}, response_metadata={}),\n",
       "  AIMessage(content='The Congress-National Conference alliance won the 2024 Jammu and Kashmir Assembly election with 48 seats, while the BJP won 29 seats. \\n', additional_kwargs={}, response_metadata={})],\n",
       " 'output': \"You've asked the following questions:\\n\\n1. What's my name? \\n2. What exactly is Langsmith?\\n3. Can India qualify for World Test Championship?\\n4. Which party won the election in Jammu and Kashmir? \\n \\nLet me know if you have any other questions. 😊 \\n\"}"
      ]
     },
     "execution_count": 53,
     "metadata": {},
     "output_type": "execute_result"
    }
   ],
   "source": [
    "agentWithChatHistory.invoke(\n",
    "    input={\"input\":\"What's are the questions that I have asked so far?\"},\n",
    "    config={\"configurable\":{\"session_id\":\"<ritish>\"}}\n",
    ")"
   ]
  },
  {
   "cell_type": "code",
   "execution_count": 54,
   "id": "e9290e9e-d2c1-40eb-bcff-857cdc8d6f52",
   "metadata": {},
   "outputs": [
    {
     "name": "stdout",
     "output_type": "stream",
     "text": [
      "\n",
      "\n",
      "\u001b[1m> Entering new AgentExecutor chain...\u001b[0m\n",
      "{'name': 'langsmith_search', 'description': 'Search for information about Langsmith. For any questions about Langsmith, you must use this tool!', 'parameters': {'type_': 6, 'description': 'Input to the retriever.', 'properties': {'query': {'type_': 1, 'description': 'query to look up in retriever', 'format_': '', 'nullable': False, 'enum': [], 'max_items': '0', 'min_items': '0', 'properties': {}, 'required': []}}, 'required': ['query'], 'format_': '', 'nullable': False, 'enum': [], 'max_items': '0', 'min_items': '0'}}\n",
      "{'name': 'tavily_search_results_json', 'description': 'A search engine optimized for comprehensive, accurate, and trusted results. Useful for when you need to answer questions about current events. Input should be a search query.', 'parameters': {'type_': 6, 'description': 'Input for the Tavily tool.', 'properties': {'query': {'type_': 1, 'description': 'search query to look up', 'format_': '', 'nullable': False, 'enum': [], 'max_items': '0', 'min_items': '0', 'properties': {}, 'required': []}}, 'required': ['query'], 'format_': '', 'nullable': False, 'enum': [], 'max_items': '0', 'min_items': '0'}}\n",
      "{'name': 'serpAPI_Search', 'description': 'Search Tool from SerpAPI', 'parameters': {'type_': 6, 'properties': {'__arg1': {'type_': 1, 'format_': '', 'description': '', 'nullable': False, 'enum': [], 'max_items': '0', 'min_items': '0', 'properties': {}, 'required': []}}, 'required': ['__arg1'], 'format_': '', 'description': '', 'nullable': False, 'enum': [], 'max_items': '0', 'min_items': '0'}}\n",
      "{'name': 'wikipedia', 'description': 'A wrapper around Wikipedia. Useful for when you need to answer general questions about people, places, companies, facts, historical events, or other subjects. Input should be a search query.', 'parameters': {'type_': 6, 'description': 'Input for the WikipediaQuery tool.', 'properties': {'query': {'type_': 1, 'description': 'query to look up on wikipedia', 'format_': '', 'nullable': False, 'enum': [], 'max_items': '0', 'min_items': '0', 'properties': {}, 'required': []}}, 'required': ['query'], 'format_': '', 'nullable': False, 'enum': [], 'max_items': '0', 'min_items': '0'}}\n",
      "\u001b[32;1m\u001b[1;3mYour name is Ritish!  😊  I remember from our earlier conversation.  Anything else I can help you with? \n",
      "\u001b[0m\n",
      "\n",
      "\u001b[1m> Finished chain.\u001b[0m\n"
     ]
    },
    {
     "data": {
      "text/plain": [
       "{'input': \"What's my name?\",\n",
       " 'chat_history': [HumanMessage(content='hi! My Name is Ritish', additional_kwargs={}, response_metadata={}),\n",
       "  AIMessage(content='Nice to meet you, Ritish! 👋 What can I do for you today? 😊 \\n', additional_kwargs={}, response_metadata={}),\n",
       "  HumanMessage(content=\"What's my name?\", additional_kwargs={}, response_metadata={}),\n",
       "  AIMessage(content='Your name is Ritish! 😊 \\n', additional_kwargs={}, response_metadata={}),\n",
       "  HumanMessage(content='What exactly is Langsmith?', additional_kwargs={}, response_metadata={}),\n",
       "  AIMessage(content=\"Langsmith is a platform for building production-grade LLM applications. It helps you closely monitor and evaluate your application, allowing you to ship quickly and confidently. You don't need to use LangChain - Langsmith works independently! \\n\", additional_kwargs={}, response_metadata={}),\n",
       "  HumanMessage(content='Can India qualify for World Test Championship?', additional_kwargs={}, response_metadata={}),\n",
       "  AIMessage(content=\"India's chances of qualifying for the World Test Championship final are still possible, but they've become more difficult after losing the home series to New Zealand. It's going to be a tight race! They'll need to win most of their upcoming matches against Australia to secure a top two finish.  \\n\", additional_kwargs={}, response_metadata={}),\n",
       "  HumanMessage(content='Which party won the election in Jammu and Kashmir?', additional_kwargs={}, response_metadata={}),\n",
       "  AIMessage(content='The Congress-National Conference alliance won the 2024 Jammu and Kashmir Assembly election with 48 seats, while the BJP won 29 seats. \\n', additional_kwargs={}, response_metadata={}),\n",
       "  HumanMessage(content=\"What's are the questions that I have asked so far?\", additional_kwargs={}, response_metadata={}),\n",
       "  AIMessage(content=\"You've asked the following questions:\\n\\n1. What's my name? \\n2. What exactly is Langsmith?\\n3. Can India qualify for World Test Championship?\\n4. Which party won the election in Jammu and Kashmir? \\n \\nLet me know if you have any other questions. 😊 \\n\", additional_kwargs={}, response_metadata={})],\n",
       " 'output': 'Your name is Ritish!  😊  I remember from our earlier conversation.  Anything else I can help you with? \\n'}"
      ]
     },
     "execution_count": 54,
     "metadata": {},
     "output_type": "execute_result"
    }
   ],
   "source": [
    "agentWithChatHistory.invoke(\n",
    "    input={\"input\":\"What's my name?\"},\n",
    "    config={\"configurable\":{\"session_id\":\"<ritish>\"}}\n",
    ")"
   ]
  },
  {
   "cell_type": "code",
   "execution_count": null,
   "id": "948746ca-462a-475c-9f12-aa5f232441fb",
   "metadata": {},
   "outputs": [],
   "source": []
  }
 ],
 "metadata": {
  "kernelspec": {
   "display_name": "Python 3 (ipykernel)",
   "language": "python",
   "name": "python3"
  },
  "language_info": {
   "codemirror_mode": {
    "name": "ipython",
    "version": 3
   },
   "file_extension": ".py",
   "mimetype": "text/x-python",
   "name": "python",
   "nbconvert_exporter": "python",
   "pygments_lexer": "ipython3",
   "version": "3.11.9"
  }
 },
 "nbformat": 4,
 "nbformat_minor": 5
}
