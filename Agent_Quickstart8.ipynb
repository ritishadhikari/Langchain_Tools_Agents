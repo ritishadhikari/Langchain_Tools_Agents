{
 "cells": [
  {
   "cell_type": "markdown",
   "id": "e0cef155-e513-4025-94c8-74b7bf291b00",
   "metadata": {},
   "source": [
    "<h3>VVI</h3>"
   ]
  },
  {
   "cell_type": "code",
   "execution_count": 49,
   "id": "f57e3642-ce9f-430a-afe0-f2679446d67f",
   "metadata": {},
   "outputs": [],
   "source": [
    "from dotenv import load_dotenv,find_dotenv\n",
    "from langchain_google_genai import ChatGoogleGenerativeAI\n",
    "from langchain_openai import ChatOpenAI\n",
    "\n",
    "from langchain_community.tools.tavily_search import TavilySearchResults\n",
    "from langchain.document_loaders import WebBaseLoader\n",
    "from langchain.vectorstores import FAISS\n",
    "from langchain_openai.embeddings import OpenAIEmbeddings\n",
    "from langchain.text_splitter import RecursiveCharacterTextSplitter\n",
    "from langchain.tools.retriever import create_retriever_tool\n",
    "from langchain import hub\n",
    "from langchain.agents import create_tool_calling_agent,AgentExecutor\n",
    "from langchain_community.chat_message_histories import ChatMessageHistory\n",
    "from langchain_core.runnables.history import RunnableWithMessageHistory\n",
    "from langchain_community.tools import WikipediaQueryRun\n",
    "from langchain_community.utilities import WikipediaAPIWrapper,SerpAPIWrapper\n",
    "from langchain_core.tools import Tool"
   ]
  },
  {
   "cell_type": "code",
   "execution_count": 50,
   "id": "de480c67-a8ee-4bd4-afe5-8178f23b381e",
   "metadata": {},
   "outputs": [
    {
     "data": {
      "text/plain": [
       "True"
      ]
     },
     "execution_count": 50,
     "metadata": {},
     "output_type": "execute_result"
    }
   ],
   "source": [
    "load_dotenv(find_dotenv(\"../.env\"))"
   ]
  },
  {
   "cell_type": "code",
   "execution_count": 51,
   "id": "71c76ff3-6a02-4c9d-a085-dbdd95cad63e",
   "metadata": {},
   "outputs": [],
   "source": [
    "llmGemini=ChatGoogleGenerativeAI(model=\"gemini-1.5-flash\")\n",
    "llmOpenAI=ChatOpenAI(model=\"gpt-3.5-turbo\")"
   ]
  },
  {
   "cell_type": "markdown",
   "id": "2fd35e11-6d7f-454e-a123-3948d505453a",
   "metadata": {},
   "source": [
    "<h3>Tavily Search Tool</h3>"
   ]
  },
  {
   "cell_type": "code",
   "execution_count": 52,
   "id": "287374a4-d971-4379-bf45-9cb8ef631049",
   "metadata": {},
   "outputs": [],
   "source": [
    "searchTavily=TavilySearchResults(max_results=4)"
   ]
  },
  {
   "cell_type": "code",
   "execution_count": 53,
   "id": "9464732b-afb0-4fd0-ad09-a22bd32de85e",
   "metadata": {},
   "outputs": [
    {
     "data": {
      "text/plain": [
       "[{'title': 'Kolkata weather update: Heavy rain expected - Times of India',\n",
       "  'url': 'https://timesofindia.indiatimes.com/city/kolkata/kolkata-weather-update-expect-moderate-rain-showers-and-high-humidity-today/articleshow/122101335.cms',\n",
       "  'content': 'Kolkata residents are set to experience moderate rainfall on June 27, 2025, with temperatures ranging between 33.2°C and 27.3°C amid high humidity of 76%. The city anticipates 14.76 mm of precipitation with a 91% chance of rain, accompanied by moderate winds reaching up to 20.9 km/h.The average temperature will remain around 29.3°C, offering some relief from typical summer conditions. The combination of rain and elevated humidity levels may create uncomfortable conditions throughout the day. [...] Karnataka Beauty Parlour Raid\\n\\nUttarakhand Bus Accident\\n\\nNoida Fire\\n\\nF35 Fighter Jet\\n\\nJagannath Rath Yatra\\n\\nJaggu Bhagwanpuria\\n\\nKarnataka Beauty Parlour Raid\\n\\nUttarakhand Bus Accident\\n\\nKolkata weather update: Heavy rain expected\\n===========================================\\n\\nTIMESOFINDIA.COM / Updated: Jun 27, 2025, 10:55 IST\\n\\nShare\\n\\n\\n\\nAA\\n\\n+Text Size\\n   Small\\n   Medium\\n   Large [...] Published Time: 2025-06-27T06:18:00+05:30\\n\\nKolkata weather update: Heavy rain expected | Kolkata News - Times of India\\n\\n===============\\n\\nEdition\\n\\nIN\\n   IN\\n   US\\n\\nEnglish\\n   English\\n   हिन्दी\\n   मराठी\\n   ಕನ್ನಡ\\n   தமிழ்\\n   বাংলা\\n   മലയാളം\\n   తెలుగు\\n   ગુજરાતી\\n\\nImage 1: TOI logo\\n\\nSubscribe to TOI+\\n\\nSign In\\n\\n   \\n   \\n   \\n   \\n   \\n   \\n\\nTOI\\n--------------------------------------------------',\n",
       "  'score': 0.9770949},\n",
       " {'title': 'Weather in Kolkata in June 2025 (Bengal)',\n",
       "  'url': 'https://world-weather.info/forecast/india/kolkata/june-2025/',\n",
       "  'content': 'Weather in Kolkata in June 2025. Kolkata Weather Forecast for June 2025 ... Friday, 27 June. +81°. Day. +86°. Light intensity drizzle. Saturday, 28 June. +81',\n",
       "  'score': 0.95885104},\n",
       " {'title': 'Weather in Kolkata in June 2025 - Detailed Forecast',\n",
       "  'url': 'https://www.easeweather.com/asia/india/west-bengal/kolkata/june',\n",
       "  'content': 'Weather in Kolkata for June 2025. Your guide to Kolkata weather in June ... 27 Jun. Heavy rain. 30° /27°, 20.7 mm, 2.8. 28 Jun.',\n",
       "  'score': 0.9470345},\n",
       " {'title': 'What will the weather be like in Kolkata on 27 June 2025',\n",
       "  'url': 'https://www.metcheck.com/WEATHER/dayforecast.asp?location=Kolkata&locationID=2412095&lat=22.562630&lon=88.363040&dateFor=27/06/2025',\n",
       "  'content': 'Mainly Clear Expected Soon With Temperature Of 29°c · Starting Cloudy But Hazy Sunshine/High Cloud Later With Max Temp Of 37°c · Hazy Sunshine/',\n",
       "  'score': 0.93762916}]"
      ]
     },
     "execution_count": 53,
     "metadata": {},
     "output_type": "execute_result"
    }
   ],
   "source": [
    "searchTavily.invoke(input=\"How is the weather in Kolkata?\")"
   ]
  },
  {
   "cell_type": "markdown",
   "id": "418699ea-f737-43dc-b1ce-862cd6972e18",
   "metadata": {},
   "source": [
    "<h3>Wikipedia Search</h3>"
   ]
  },
  {
   "cell_type": "code",
   "execution_count": 54,
   "id": "d3165bea-55b6-4f8d-a7f0-0cd418fbdff6",
   "metadata": {},
   "outputs": [],
   "source": [
    "wikipediaSearch=WikipediaQueryRun(api_wrapper=WikipediaAPIWrapper())"
   ]
  },
  {
   "cell_type": "markdown",
   "id": "084772ff-6698-4ee7-b483-5b4a012ce933",
   "metadata": {},
   "source": [
    "<h3>SerpAPI Search</h3>"
   ]
  },
  {
   "cell_type": "code",
   "execution_count": 55,
   "id": "b25854d5-bc9e-4ba0-81ef-43b2dc8dcec1",
   "metadata": {},
   "outputs": [],
   "source": [
    "serpAPISearch=Tool(\n",
    "    func=SerpAPIWrapper(search_engine=\"bing\").run,\n",
    "    description=\"Search Tool from SerpAPI\",\n",
    "    name=\"serpAPI_Search\")"
   ]
  },
  {
   "cell_type": "markdown",
   "id": "7c0f1f93-dfe1-4666-be3a-e4827b0d063c",
   "metadata": {},
   "source": [
    "<h3>Retrievers</h3>"
   ]
  },
  {
   "cell_type": "code",
   "execution_count": 56,
   "id": "47173762-8f74-42a3-80db-83f5b8e281f8",
   "metadata": {},
   "outputs": [],
   "source": [
    "# Loaders\n",
    "loader=WebBaseLoader(web_path=\"https://timesofindia.indiatimes.com/india/kolkata-shocker-victim-alleges-rape-was-videotaped-what-initial-probe-revealed/articleshow/122113479.cms\")"
   ]
  },
  {
   "cell_type": "code",
   "execution_count": 57,
   "id": "166abcb3-8560-4980-8378-0525d946c9a3",
   "metadata": {},
   "outputs": [],
   "source": [
    "docs=loader.load()"
   ]
  },
  {
   "cell_type": "code",
   "execution_count": 58,
   "id": "9003832e-2cd7-45a1-abcb-f14c315d374a",
   "metadata": {
    "scrolled": true
   },
   "outputs": [
    {
     "data": {
      "text/plain": [
       "[Document(metadata={'source': 'https://timesofindia.indiatimes.com/india/kolkata-shocker-victim-alleges-rape-was-videotaped-what-initial-probe-revealed/articleshow/122113479.cms', 'title': 'Kolkata shocker: Victim alleges rape was videotaped; what initial probe revealed | India News - Times of India', 'description': 'India News: Kolkata Police reported the arrest of Manujit Mishra, a former Trinamool Congress Chhatra Parishad leader, for allegedly raping a law student within c', 'language': 'en'}, page_content='Kolkata shocker: Victim alleges rape was videotaped; what initial probe revealed | India News - Times of IndiaEditionININUSEnglishEnglishहिन्दीमराठीಕನ್ನಡதமிழ்বাংলাമലയാളംతెలుగుગુજરાતીSign InTOIindiaOperation SindoorCancel PatriarchyMaharashtraDelhiKarnatakaTamil NaduTelanganaUttar PradeshWest BengalGujaratMadhya PradeshBiharChandigarhRajasthanArunachal PradeshAndhra PradeshAssamChhattisgarhGoaHaryanaHimachal PradeshJammu KashmirJharkhandKeralaManipurMeghalayaMizoramNagalandOdishaPunjabSikkimTripuraUttarakhandAndaman Nicobar IslandsDadra Nagar HaveliDaman DiuLakshadweepPondicherryWeb StoriesSaving Our StripesDigital ArrestToday\\'s ePaperNewsIndia NewsKolkata shocker: Victim alleges rape was videotaped; what initial probe revealedTrendingBest education system CountriesAxiom 4TS PGECET results 2025Ahmedabad Air IndiaIsrael Iran WarIsrael Iran CreasefireNoshir GowadiaMumbai Train DeathsBest education system CountriesAxiom 4TS PGECET results 2025Ahmedabad Air IndiaIsrael Iran WarIsrael Iran CreasefireNoshir GowadiaMumbai Train DeathsBest education system CountriesAxiom 4TS PGECET results 2025Ahmedabad Air IndiaIsrael Iran WarIsrael Iran CreasefireNoshir GowadiaMumbai Train DeathsKolkata shocker: Victim alleges rape was videotaped; what initial probe revealedTOI News Desk / TIMESOFINDIA.COM / Updated: Jun 27, 2025, 20:32 ISTShareAA+Text SizeSmallMediumLargeKolkata Police reported the arrest of Manujit Mishra, a former Trinamool Congress Chhatra Parishad leader, for allegedly raping a law student within college premises. Mishra, also a temporary staff member and lawyer, is accused of filming the assault and threatening to release it.  NEW DELHI: Kolkata Police on Thursday said that the prime accused Manojit Mishra in the rape of an law student inside college premises was former president of the college’s Trinamool Congress Chhatra Parishad unit and the organisational secretary of the south Kolkata wing of the TMC’s student body.Photographs of the key accused available in the public domain also showed him in close proximity to several leaders of the state’s ruling dispensation.Law Student Gangraped Inside Kolkata College; TMC Youth Leader Among 3 Arrested | Shocking DetailsAccording to college authorities, the main accused was also engaged as a temporary non-teaching staff at the institution for a renewable contractual period of 45 days. He was also a practising criminal lawyer at the Alipore Police and Sessions Court.Meanwhile, the vice principal of the college Dr Nayna Chatterji claimed that Mishra was appointed on a renewable contract on the basis of a resolution passed by the governing body (GB) of the institute.“I got the information from the security guard that the police have sealed two rooms of our college. I am trying to find out what has happened. This person was appointed by the GB on a purely temporary basis,\" she said.\\'Accused had kept the mobile footage of the assault and threatened to release it\\'According to Kolkata police, the alleged crime took place inside a guard\\'s room on the ground floor of the college, next to the students\\' union office on June 25.\"Initial investigations revealed that the victim had reached the college in the afternoon to fill up certain academic forms after she was called by some people,\" officials told news agency PTI.\"According to the complaint she filed at the Kasba police station on Thursday, she was asked by the miscreants to stay back. In the evening she was allegedly taken to the room on the ground floor of the college and raped by the accused till around 10 pm. We have sealed the room, and our forensic experts will soon be there to collect evidence,\" the officer added.The victim also alleged that in her complaint that she was filmed while being gang-raped, PTI reported, citing sources.\"She has alleged that the three accused had kept the mobile footage of the assault and threatened to release it on the internet if she talked to anybody about the incident,\" the source told PTI.The mobile phone devices of the three accused have been seized and sent for forensic tests, the officer added.\"We are trying to find out whether the video footage was forwarded to other numbers or not,” he said while adding that the mandatory medical tests on the victim were being conducted.About the AuthorTOI News DeskThe TOI News Desk comprises a dedicated and tireless team of journalists who operate around the clock to deliver the most current and comprehensive news and updates to the readers of The Times of India worldwide. With an unwavering commitment to excellence in journalism, our team is at the forefront of gathering, verifying, and presenting breaking news, in-depth analysis, and insightful reports on a wide range of topics. The TOI News Desk is your trusted source for staying informed and connected to the ever-evolving global landscape, ensuring that our readers are equipped with the latest developments that matter most.\"Read MoreEnd of ArticleFollow Us On Social Media Visual Stories   PreviousNolok to Mukuthi: Traditional nose rings worn by Indian brides in different statesLifestyleRemarkable Character Akshay Kumar Portrayed, Which Took Over The SpotlightEntertainmentIn pics: Gorgeous looks of Antara Swarnakartv10 baby girl names that mean one who is enchantingLifestyle10 books that feel like quiet therapy for the mind and soulLifestyleCharming pics of Karishma TannaEntertainment8 quiet signs of student burnout you shouldn’t ignoreeducation8 mini succulents that can live for over 50 yearsLifestyleSai Pallavi\\'s Sunkissed PicturesEntertainmentSouth divas who love to travelEntertainment Next123 Photostories  Kajol, Indraneil Sengupta, Ronit Roy: Meet the casts of the mythological horror movie \\'Maa\\'5 iconic hotels in India that are over 100 years old!Rosemary water vs Rosemary oil: Which one is better for hair growth?From a Mahadev décor piece gifted by Anupamaa co-star Arvind Vaidya to a piano suggested by Salim Suleiman; Sudhanshu Pandey\\'s vibrant house with quirky pieces9 most common signs of Vitamin D deficiency that we often ignoreJagannath Yatra: 9-day pilgrimage begins - in pics5 early signs of lung cancer that often go unnoticedMeet the Star-Studded Cast of ‘F1’Zodiac Signs That Are Truly Fearless and Bold by Nature5 reasons you shouldn’t oil your hair immediately after shampooing123Hot PicksIsrael Iran NewsZohran MamdaniBank Holiday TodayITR filing 2025-262 wheelers Toll taxIRCTC refund rulesUS Travel AdvisoryTop TrendingTop 7 Clash Royale DecksPatrick MahomesAll Items in peakGarena Free Fire Max Redeem CodesAir India black boxEffective Ways to Optimise your timetableNHL Trade RumorsHow to download Free Fire Max in PCEmma RaducanuJulian EdelmanTired of too many ads?go ad free nowTrending StoriesIn IndiaEntire Website50 years of Emergency: EAM Jaishankar blames 1974 deal for fishermen arrests by Sri Lanka; says consequences still visible in Tamil Nadu\\'Just in time\\': Operation Sindoor displayed naval might, forced adversary to seek ceasefire, says Navy chief Admiral Dinesh K Tripathi\\'Mask has come off\\': Rahul flays RSS over call to drop \\'secular\\' from Constitution; says \\'they want Manusmriti\\'\\'Charade at Pakistan’s behest\\': India calls arbitration court under Indus treaty \\'illegal\\'; rejects its authorityCong claims 14 Indians who went to Russia for jobs \\'missing\\', asks govt to ensure repatriation\\'Acted as mother\\': Latur traffic constable goes viral after slapping girls over scooty violation; watchKolkata gangrape: In controversial remark, TMC\\'s Kalyan Banerjee says \\'What can be done if ... \\'\\'What kind of country are we becoming\\': Man caught stealing life jacket in IndiGo flight; video goes viral\\'Not on students\\' union list\\': TMC distances itself from Kolkata gangrape prime accused; says all 3 \\'deserve to be beaten to death\\'Kolkata shocker: Victim alleges rape was videotaped; what initial probe revealedRath Yatra scare in Ahmedabad: Elephant runs amok near Khadia, tranquilised and isolated; 17 others continue on routeSSC MTS, Havaldar 2025 registration starts at ssc.gov.in: Direct link to apply for over 1000 vacancies, and other key details hereMaharashtra FYCJ first merit list 2025 to be released on this date: Check complete details hereTS PGECET results 2025 declared at pgecet.tgche.ac.in: Direct link to download rank cards here“I can’t afford to pay”: Dwyane Wade’s wife Gabrielle Union opens up about financial pressures despite the NBA legend’s massive net worthZohran Mamdani: Congress\\'s Abhishek Singhvi slams Indian-origin NYC mayoral candidate; says when he speaks, \\'Pakistan PR takes day off\\'Why Huawei\\'s new laptop is being regarded as evidence of how America\\'s \\'China ban\\' is hurting one of the biggest Chinese companyNoshir Gowadia: India-born engineer developed propulsion system of B-2 bombers; later jailed for helping China build cruise missile\\'Picture of pure innocence\\': Baby elephant stops for a quick snack on road; heartwarming moment goes viralDubai: 21 convicted and fined Dh25.2 million in one of the biggest residency visa fraud schemesTired of too many ads?go ad free nowExplore Every CornerAcross The GlobeNBA Trade RumorsCooper FlaggKyler MurrayWhat is Pandoras LunchboxFortnite OGShaquille O NealIga Witek vs Victoria AzarenkaDavid BeckhamTyler WallBank HolidaysMemphis GrizzliesSydney MclaughlinRussell Wilson WifeJagannath Rath Yatra 2025Omead AfsharThe RockShubhanshu ShuklaJustin TuckerNijaree CanadyGisele BundchenBrittany MahomesTaylor SwiftTravis Kelce Favorite Taylor Swift SongStremer EthosRath Yatra AhmedabadDwyane Wades WifeTravis Kelce and Patrick Luxury SteakhouseZul Qarnain Kwane NantambuTom BradyO-1 visaAbout usCreate Your Own AdTerms of Use and Grievance Redressal Policy Privacy policyAdvertise with usRSSNewsletterFeedbackePaperSitemapArchivesLiving and EntertainmentCricbuzzLifestyleNewspaper SubscriptionFood NewsTVTimes PrimeTravel DestinationsWhats HotETimesTimes LifeTimes PetsMyLifeXPServicesCouponDuniaTechGigTimesJobsBollywood NewsTimes MobileGadgetsWork with UsColombiaHot on the WebKannappa Movie ReviewJagannath Rath Yatra WishesMaa Movie ReviewKannappa Movie ReviewPriya Sachdev KapurPanchayat Actors FeesLiver HealthMaa Box Office CollectionBlood PressureKannappa Movie ReviewHeart HealthMaa Movie ReviewPanchayat 4 ReviewHair GrowthSonakshi SinhaCoffee BenefitsIbrahim QadriMahesh AnandKannappa ReviewYukta MookheyVishnu ManchuParrot TypesKuberaa Box Office CollectionSanvikaaWorld Largest SnakesSitaare Zameen Par Box Office CollectionPuja BanerjeeRath Yatra Elephant RogueLeopard Sighting PlacesNoida Road TripsFoods That Makes youngerBest Romantic AnimeHigh Blood Sugar In MorningBlack Mamba FightWorld Richest ManSimpson PredictionBad Breath CausesMicrosoft Sued By AuthorsNikhil KamathGauranga DasCastor Oil BenefitsGeneral Motors RecallsTrending TopicsCristiano RonaldoMaharashtra FYCJ Merit ListBest Education System CountriesCBSE New Exam PatternTNEA Rank ListShikhar DhawanWI vs AUS Test MatchJasprit BumrahMichael ClarkeAjinkya RahaneAcres to Square FeetRicky PontingRohit SharmaHarbhajan SinghIND vs ENG Live StreamingJobs Disappearing in 2025ICC New RulesAhmedabad Jagannath YatraPuri Jagannath Yatra 2025Jaggu BhagwanpuriaBengaluru Airport NewsKolkata GangrapeF35 Fighter JetJammu Terrorist KilledGurgaon Hit And RunMumbai Train DeathsSL vs BANICAI CA Final May 2025REET 2025 CertificateKJSP Result 2025Mackenzie ScottSundar PichaiNYT Strands TodayWordle Today HintsElon MuskMasayoshi SonApp Store FeePewdiepieBill GatesWorld Most Expensive WeddingsDwyane Wade Car CollectionJeff BezosPopular CategoriesHeadlinesSports NewsBusiness NewsIndia NewsWorld NewsBollywood NewsHealth+ TipsIndian TV ShowsTechnologyTravelEtimesHealth & FitnessNFLIntel The Learning CurveIndia vs EnglandAstrologyWeather TodayPlatinum Rate TodaySilver Rate TodayGold Rate TodayDelhi AQI TodayJune Bank HolidaysPublic Holidays in JuneStock Market HolidaysNSE HolidaysBSE HolidaysTechnology NewsInternational SportsPublic HolidaysBank HolidaysLatest NewsBirthright citizenship order: US Supreme Court curbs power of judges to block executive actions; a major victory for TrumpRRB Technician Recruitment 2025: Notification released for 6180 vacancies, check eligibility hereMrBeast removes AI thumbnail generator tool: ‘I definitely missed the mark…’Justin Bieber changes his Instagram handle name? Hailey Bieber reportedly is concerned with his loose-cannon antics - Deets InsideBurnout and brain fog: How the hustle culture is messing with young minds—Here’s why experts are alarmedDavid Beckham gets hospitalised; Source reveals the cause as Victoria shares heartfelt posts50 years of Emergency: EAM Jaishankar blames 1974 deal for fishermen arrests by Sri Lanka; says consequences still visible in Tamil NaduLauren Sanchez\\'s workout routine revealed: How does the 55-year-old stay fit?Trade pain, stock gain: Nike shares jump 15% as it shifts production from China; braces for $1 bn tariff blow, price hikes ahead\\'Just in time\\': Operation Sindoor displayed naval might, forced adversary to seek ceasefire, says Navy chief Admiral Dinesh K TripathiUPPRPB final result for Head Operator recruitment 2022 out at uppbpb.gov.in: 936 candidates selected, download PDF hereDirector Durai Senthilkumar\\'s film featuring Legend Saravanan to hit screens for DeepavaliAI is looming large, but mere 33% are trained for effective use: Is the market ready for an overhaul yet?Buffalo Sabres rejected $65 million Jordan Kyrou trade offer for JJ Peterka, claims insider in explosive NHL rumorHarvard Kennedy School lays off staff amid $53 billion endowment tax threat and federal funding cuts5 simple and doable ways to take control of Blood Pressure now (before it gets too late)Jacob Fatu vs Solo Sikoa: Who leads the charge in Net Worth before WWE Night of Champions 2025?Maahi talks about how he deals with comparisons with father ShaanCopyright © 2025 Bennett, Coleman & Co. Ltd. All rights reserved. For reprint rights: Times Syndication ServiceFollow Us On ')]"
      ]
     },
     "execution_count": 58,
     "metadata": {},
     "output_type": "execute_result"
    }
   ],
   "source": [
    "docs"
   ]
  },
  {
   "cell_type": "code",
   "execution_count": 59,
   "id": "8fef5e0e-0f31-4c87-af6f-d03d8caff757",
   "metadata": {},
   "outputs": [],
   "source": [
    "# Split Documents\n",
    "documentsObj=RecursiveCharacterTextSplitter(chunk_size=1000,chunk_overlap=200)"
   ]
  },
  {
   "cell_type": "code",
   "execution_count": 60,
   "id": "db9c6c5e-3005-4c83-a93a-8c78a92ba0d0",
   "metadata": {},
   "outputs": [],
   "source": [
    "documents=documentsObj.split_documents(documents=docs)"
   ]
  },
  {
   "cell_type": "code",
   "execution_count": 61,
   "id": "6be62ac1-7700-4a24-89b3-11c45915a5a5",
   "metadata": {
    "scrolled": true
   },
   "outputs": [
    {
     "data": {
      "text/plain": [
       "[Document(metadata={'source': 'https://timesofindia.indiatimes.com/india/kolkata-shocker-victim-alleges-rape-was-videotaped-what-initial-probe-revealed/articleshow/122113479.cms', 'title': 'Kolkata shocker: Victim alleges rape was videotaped; what initial probe revealed | India News - Times of India', 'description': 'India News: Kolkata Police reported the arrest of Manujit Mishra, a former Trinamool Congress Chhatra Parishad leader, for allegedly raping a law student within c', 'language': 'en'}, page_content=\"Kolkata shocker: Victim alleges rape was videotaped; what initial probe revealed | India News - Times of IndiaEditionININUSEnglishEnglishहिन्दीमराठीಕನ್ನಡதமிழ்বাংলাമലയാളംతెలుగుગુજરાતીSign InTOIindiaOperation SindoorCancel PatriarchyMaharashtraDelhiKarnatakaTamil NaduTelanganaUttar PradeshWest BengalGujaratMadhya PradeshBiharChandigarhRajasthanArunachal PradeshAndhra PradeshAssamChhattisgarhGoaHaryanaHimachal PradeshJammu KashmirJharkhandKeralaManipurMeghalayaMizoramNagalandOdishaPunjabSikkimTripuraUttarakhandAndaman Nicobar IslandsDadra Nagar HaveliDaman DiuLakshadweepPondicherryWeb StoriesSaving Our StripesDigital ArrestToday's ePaperNewsIndia NewsKolkata shocker: Victim alleges rape was videotaped; what initial probe revealedTrendingBest education system CountriesAxiom 4TS PGECET results 2025Ahmedabad Air IndiaIsrael Iran WarIsrael Iran CreasefireNoshir GowadiaMumbai Train DeathsBest education system CountriesAxiom 4TS PGECET results 2025Ahmedabad Air IndiaIsrael Iran WarIsrael Iran\"),\n",
       " Document(metadata={'source': 'https://timesofindia.indiatimes.com/india/kolkata-shocker-victim-alleges-rape-was-videotaped-what-initial-probe-revealed/articleshow/122113479.cms', 'title': 'Kolkata shocker: Victim alleges rape was videotaped; what initial probe revealed | India News - Times of India', 'description': 'India News: Kolkata Police reported the arrest of Manujit Mishra, a former Trinamool Congress Chhatra Parishad leader, for allegedly raping a law student within c', 'language': 'en'}, page_content='2025Ahmedabad Air IndiaIsrael Iran WarIsrael Iran CreasefireNoshir GowadiaMumbai Train DeathsBest education system CountriesAxiom 4TS PGECET results 2025Ahmedabad Air IndiaIsrael Iran WarIsrael Iran CreasefireNoshir GowadiaMumbai Train DeathsBest education system CountriesAxiom 4TS PGECET results 2025Ahmedabad Air IndiaIsrael Iran WarIsrael Iran CreasefireNoshir GowadiaMumbai Train DeathsKolkata shocker: Victim alleges rape was videotaped; what initial probe revealedTOI News Desk / TIMESOFINDIA.COM / Updated: Jun 27, 2025, 20:32 ISTShareAA+Text SizeSmallMediumLargeKolkata Police reported the arrest of Manujit Mishra, a former Trinamool Congress Chhatra Parishad leader, for allegedly raping a law student within college premises. Mishra, also a temporary staff member and lawyer, is accused of filming the assault and threatening to release it.  NEW DELHI: Kolkata Police on Thursday said that the prime accused Manojit Mishra in the rape of an law student inside college premises was former'),\n",
       " Document(metadata={'source': 'https://timesofindia.indiatimes.com/india/kolkata-shocker-victim-alleges-rape-was-videotaped-what-initial-probe-revealed/articleshow/122113479.cms', 'title': 'Kolkata shocker: Victim alleges rape was videotaped; what initial probe revealed | India News - Times of India', 'description': 'India News: Kolkata Police reported the arrest of Manujit Mishra, a former Trinamool Congress Chhatra Parishad leader, for allegedly raping a law student within c', 'language': 'en'}, page_content='filming the assault and threatening to release it.  NEW DELHI: Kolkata Police on Thursday said that the prime accused Manojit Mishra in the rape of an law student inside college premises was former president of the college’s Trinamool Congress Chhatra Parishad unit and the organisational secretary of the south Kolkata wing of the TMC’s student body.Photographs of the key accused available in the public domain also showed him in close proximity to several leaders of the state’s ruling dispensation.Law Student Gangraped Inside Kolkata College; TMC Youth Leader Among 3 Arrested | Shocking DetailsAccording to college authorities, the main accused was also engaged as a temporary non-teaching staff at the institution for a renewable contractual period of 45 days. He was also a practising criminal lawyer at the Alipore Police and Sessions Court.Meanwhile, the vice principal of the college Dr Nayna Chatterji claimed that Mishra was appointed on a renewable contract on the basis of a'),\n",
       " Document(metadata={'source': 'https://timesofindia.indiatimes.com/india/kolkata-shocker-victim-alleges-rape-was-videotaped-what-initial-probe-revealed/articleshow/122113479.cms', 'title': 'Kolkata shocker: Victim alleges rape was videotaped; what initial probe revealed | India News - Times of India', 'description': 'India News: Kolkata Police reported the arrest of Manujit Mishra, a former Trinamool Congress Chhatra Parishad leader, for allegedly raping a law student within c', 'language': 'en'}, page_content='criminal lawyer at the Alipore Police and Sessions Court.Meanwhile, the vice principal of the college Dr Nayna Chatterji claimed that Mishra was appointed on a renewable contract on the basis of a resolution passed by the governing body (GB) of the institute.“I got the information from the security guard that the police have sealed two rooms of our college. I am trying to find out what has happened. This person was appointed by the GB on a purely temporary basis,\" she said.\\'Accused had kept the mobile footage of the assault and threatened to release it\\'According to Kolkata police, the alleged crime took place inside a guard\\'s room on the ground floor of the college, next to the students\\' union office on June 25.\"Initial investigations revealed that the victim had reached the college in the afternoon to fill up certain academic forms after she was called by some people,\" officials told news agency PTI.\"According to the complaint she filed at the Kasba police station on Thursday, she'),\n",
       " Document(metadata={'source': 'https://timesofindia.indiatimes.com/india/kolkata-shocker-victim-alleges-rape-was-videotaped-what-initial-probe-revealed/articleshow/122113479.cms', 'title': 'Kolkata shocker: Victim alleges rape was videotaped; what initial probe revealed | India News - Times of India', 'description': 'India News: Kolkata Police reported the arrest of Manujit Mishra, a former Trinamool Congress Chhatra Parishad leader, for allegedly raping a law student within c', 'language': 'en'}, page_content='the afternoon to fill up certain academic forms after she was called by some people,\" officials told news agency PTI.\"According to the complaint she filed at the Kasba police station on Thursday, she was asked by the miscreants to stay back. In the evening she was allegedly taken to the room on the ground floor of the college and raped by the accused till around 10 pm. We have sealed the room, and our forensic experts will soon be there to collect evidence,\" the officer added.The victim also alleged that in her complaint that she was filmed while being gang-raped, PTI reported, citing sources.\"She has alleged that the three accused had kept the mobile footage of the assault and threatened to release it on the internet if she talked to anybody about the incident,\" the source told PTI.The mobile phone devices of the three accused have been seized and sent for forensic tests, the officer added.\"We are trying to find out whether the video footage was forwarded to other numbers or not,” he'),\n",
       " Document(metadata={'source': 'https://timesofindia.indiatimes.com/india/kolkata-shocker-victim-alleges-rape-was-videotaped-what-initial-probe-revealed/articleshow/122113479.cms', 'title': 'Kolkata shocker: Victim alleges rape was videotaped; what initial probe revealed | India News - Times of India', 'description': 'India News: Kolkata Police reported the arrest of Manujit Mishra, a former Trinamool Congress Chhatra Parishad leader, for allegedly raping a law student within c', 'language': 'en'}, page_content='phone devices of the three accused have been seized and sent for forensic tests, the officer added.\"We are trying to find out whether the video footage was forwarded to other numbers or not,” he said while adding that the mandatory medical tests on the victim were being conducted.About the AuthorTOI News DeskThe TOI News Desk comprises a dedicated and tireless team of journalists who operate around the clock to deliver the most current and comprehensive news and updates to the readers of The Times of India worldwide. With an unwavering commitment to excellence in journalism, our team is at the forefront of gathering, verifying, and presenting breaking news, in-depth analysis, and insightful reports on a wide range of topics. The TOI News Desk is your trusted source for staying informed and connected to the ever-evolving global landscape, ensuring that our readers are equipped with the latest developments that matter most.\"Read MoreEnd of ArticleFollow Us On Social Media Visual Stories'),\n",
       " Document(metadata={'source': 'https://timesofindia.indiatimes.com/india/kolkata-shocker-victim-alleges-rape-was-videotaped-what-initial-probe-revealed/articleshow/122113479.cms', 'title': 'Kolkata shocker: Victim alleges rape was videotaped; what initial probe revealed | India News - Times of India', 'description': 'India News: Kolkata Police reported the arrest of Manujit Mishra, a former Trinamool Congress Chhatra Parishad leader, for allegedly raping a law student within c', 'language': 'en'}, page_content='connected to the ever-evolving global landscape, ensuring that our readers are equipped with the latest developments that matter most.\"Read MoreEnd of ArticleFollow Us On Social Media Visual Stories   PreviousNolok to Mukuthi: Traditional nose rings worn by Indian brides in different statesLifestyleRemarkable Character Akshay Kumar Portrayed, Which Took Over The SpotlightEntertainmentIn pics: Gorgeous looks of Antara Swarnakartv10 baby girl names that mean one who is enchantingLifestyle10 books that feel like quiet therapy for the mind and soulLifestyleCharming pics of Karishma TannaEntertainment8 quiet signs of student burnout you shouldn’t ignoreeducation8 mini succulents that can live for over 50 yearsLifestyleSai Pallavi\\'s Sunkissed PicturesEntertainmentSouth divas who love to travelEntertainment Next123 Photostories  Kajol, Indraneil Sengupta, Ronit Roy: Meet the casts of the mythological horror movie \\'Maa\\'5 iconic hotels in India that are over 100 years old!Rosemary water vs'),\n",
       " Document(metadata={'source': 'https://timesofindia.indiatimes.com/india/kolkata-shocker-victim-alleges-rape-was-videotaped-what-initial-probe-revealed/articleshow/122113479.cms', 'title': 'Kolkata shocker: Victim alleges rape was videotaped; what initial probe revealed | India News - Times of India', 'description': 'India News: Kolkata Police reported the arrest of Manujit Mishra, a former Trinamool Congress Chhatra Parishad leader, for allegedly raping a law student within c', 'language': 'en'}, page_content=\"Next123 Photostories  Kajol, Indraneil Sengupta, Ronit Roy: Meet the casts of the mythological horror movie 'Maa'5 iconic hotels in India that are over 100 years old!Rosemary water vs Rosemary oil: Which one is better for hair growth?From a Mahadev décor piece gifted by Anupamaa co-star Arvind Vaidya to a piano suggested by Salim Suleiman; Sudhanshu Pandey's vibrant house with quirky pieces9 most common signs of Vitamin D deficiency that we often ignoreJagannath Yatra: 9-day pilgrimage begins - in pics5 early signs of lung cancer that often go unnoticedMeet the Star-Studded Cast of ‘F1’Zodiac Signs That Are Truly Fearless and Bold by Nature5 reasons you shouldn’t oil your hair immediately after shampooing123Hot PicksIsrael Iran NewsZohran MamdaniBank Holiday TodayITR filing 2025-262 wheelers Toll taxIRCTC refund rulesUS Travel AdvisoryTop TrendingTop 7 Clash Royale DecksPatrick MahomesAll Items in peakGarena Free Fire Max Redeem CodesAir India black boxEffective Ways to Optimise your\"),\n",
       " Document(metadata={'source': 'https://timesofindia.indiatimes.com/india/kolkata-shocker-victim-alleges-rape-was-videotaped-what-initial-probe-revealed/articleshow/122113479.cms', 'title': 'Kolkata shocker: Victim alleges rape was videotaped; what initial probe revealed | India News - Times of India', 'description': 'India News: Kolkata Police reported the arrest of Manujit Mishra, a former Trinamool Congress Chhatra Parishad leader, for allegedly raping a law student within c', 'language': 'en'}, page_content=\"Toll taxIRCTC refund rulesUS Travel AdvisoryTop TrendingTop 7 Clash Royale DecksPatrick MahomesAll Items in peakGarena Free Fire Max Redeem CodesAir India black boxEffective Ways to Optimise your timetableNHL Trade RumorsHow to download Free Fire Max in PCEmma RaducanuJulian EdelmanTired of too many ads?go ad free nowTrending StoriesIn IndiaEntire Website50 years of Emergency: EAM Jaishankar blames 1974 deal for fishermen arrests by Sri Lanka; says consequences still visible in Tamil Nadu'Just in time': Operation Sindoor displayed naval might, forced adversary to seek ceasefire, says Navy chief Admiral Dinesh K Tripathi'Mask has come off': Rahul flays RSS over call to drop 'secular' from Constitution; says 'they want Manusmriti''Charade at Pakistan’s behest': India calls arbitration court under Indus treaty 'illegal'; rejects its authorityCong claims 14 Indians who went to Russia for jobs 'missing', asks govt to ensure repatriation'Acted as mother': Latur traffic constable goes viral\"),\n",
       " Document(metadata={'source': 'https://timesofindia.indiatimes.com/india/kolkata-shocker-victim-alleges-rape-was-videotaped-what-initial-probe-revealed/articleshow/122113479.cms', 'title': 'Kolkata shocker: Victim alleges rape was videotaped; what initial probe revealed | India News - Times of India', 'description': 'India News: Kolkata Police reported the arrest of Manujit Mishra, a former Trinamool Congress Chhatra Parishad leader, for allegedly raping a law student within c', 'language': 'en'}, page_content=\"under Indus treaty 'illegal'; rejects its authorityCong claims 14 Indians who went to Russia for jobs 'missing', asks govt to ensure repatriation'Acted as mother': Latur traffic constable goes viral after slapping girls over scooty violation; watchKolkata gangrape: In controversial remark, TMC's Kalyan Banerjee says 'What can be done if ... ''What kind of country are we becoming': Man caught stealing life jacket in IndiGo flight; video goes viral'Not on students' union list': TMC distances itself from Kolkata gangrape prime accused; says all 3 'deserve to be beaten to death'Kolkata shocker: Victim alleges rape was videotaped; what initial probe revealedRath Yatra scare in Ahmedabad: Elephant runs amok near Khadia, tranquilised and isolated; 17 others continue on routeSSC MTS, Havaldar 2025 registration starts at ssc.gov.in: Direct link to apply for over 1000 vacancies, and other key details hereMaharashtra FYCJ first merit list 2025 to be released on this date: Check complete details\"),\n",
       " Document(metadata={'source': 'https://timesofindia.indiatimes.com/india/kolkata-shocker-victim-alleges-rape-was-videotaped-what-initial-probe-revealed/articleshow/122113479.cms', 'title': 'Kolkata shocker: Victim alleges rape was videotaped; what initial probe revealed | India News - Times of India', 'description': 'India News: Kolkata Police reported the arrest of Manujit Mishra, a former Trinamool Congress Chhatra Parishad leader, for allegedly raping a law student within c', 'language': 'en'}, page_content=\"registration starts at ssc.gov.in: Direct link to apply for over 1000 vacancies, and other key details hereMaharashtra FYCJ first merit list 2025 to be released on this date: Check complete details hereTS PGECET results 2025 declared at pgecet.tgche.ac.in: Direct link to download rank cards here“I can’t afford to pay”: Dwyane Wade’s wife Gabrielle Union opens up about financial pressures despite the NBA legend’s massive net worthZohran Mamdani: Congress's Abhishek Singhvi slams Indian-origin NYC mayoral candidate; says when he speaks, 'Pakistan PR takes day off'Why Huawei's new laptop is being regarded as evidence of how America's 'China ban' is hurting one of the biggest Chinese companyNoshir Gowadia: India-born engineer developed propulsion system of B-2 bombers; later jailed for helping China build cruise missile'Picture of pure innocence': Baby elephant stops for a quick snack on road; heartwarming moment goes viralDubai: 21 convicted and fined Dh25.2 million in one of the biggest\"),\n",
       " Document(metadata={'source': 'https://timesofindia.indiatimes.com/india/kolkata-shocker-victim-alleges-rape-was-videotaped-what-initial-probe-revealed/articleshow/122113479.cms', 'title': 'Kolkata shocker: Victim alleges rape was videotaped; what initial probe revealed | India News - Times of India', 'description': 'India News: Kolkata Police reported the arrest of Manujit Mishra, a former Trinamool Congress Chhatra Parishad leader, for allegedly raping a law student within c', 'language': 'en'}, page_content=\"China build cruise missile'Picture of pure innocence': Baby elephant stops for a quick snack on road; heartwarming moment goes viralDubai: 21 convicted and fined Dh25.2 million in one of the biggest residency visa fraud schemesTired of too many ads?go ad free nowExplore Every CornerAcross The GlobeNBA Trade RumorsCooper FlaggKyler MurrayWhat is Pandoras LunchboxFortnite OGShaquille O NealIga Witek vs Victoria AzarenkaDavid BeckhamTyler WallBank HolidaysMemphis GrizzliesSydney MclaughlinRussell Wilson WifeJagannath Rath Yatra 2025Omead AfsharThe RockShubhanshu ShuklaJustin TuckerNijaree CanadyGisele BundchenBrittany MahomesTaylor SwiftTravis Kelce Favorite Taylor Swift SongStremer EthosRath Yatra AhmedabadDwyane Wades WifeTravis Kelce and Patrick Luxury SteakhouseZul Qarnain Kwane NantambuTom BradyO-1 visaAbout usCreate Your Own AdTerms of Use and Grievance Redressal Policy Privacy policyAdvertise with usRSSNewsletterFeedbackePaperSitemapArchivesLiving and\"),\n",
       " Document(metadata={'source': 'https://timesofindia.indiatimes.com/india/kolkata-shocker-victim-alleges-rape-was-videotaped-what-initial-probe-revealed/articleshow/122113479.cms', 'title': 'Kolkata shocker: Victim alleges rape was videotaped; what initial probe revealed | India News - Times of India', 'description': 'India News: Kolkata Police reported the arrest of Manujit Mishra, a former Trinamool Congress Chhatra Parishad leader, for allegedly raping a law student within c', 'language': 'en'}, page_content='Qarnain Kwane NantambuTom BradyO-1 visaAbout usCreate Your Own AdTerms of Use and Grievance Redressal Policy Privacy policyAdvertise with usRSSNewsletterFeedbackePaperSitemapArchivesLiving and EntertainmentCricbuzzLifestyleNewspaper SubscriptionFood NewsTVTimes PrimeTravel DestinationsWhats HotETimesTimes LifeTimes PetsMyLifeXPServicesCouponDuniaTechGigTimesJobsBollywood NewsTimes MobileGadgetsWork with UsColombiaHot on the WebKannappa Movie ReviewJagannath Rath Yatra WishesMaa Movie ReviewKannappa Movie ReviewPriya Sachdev KapurPanchayat Actors FeesLiver HealthMaa Box Office CollectionBlood PressureKannappa Movie ReviewHeart HealthMaa Movie ReviewPanchayat 4 ReviewHair GrowthSonakshi SinhaCoffee BenefitsIbrahim QadriMahesh AnandKannappa ReviewYukta MookheyVishnu ManchuParrot TypesKuberaa Box Office CollectionSanvikaaWorld Largest SnakesSitaare Zameen Par Box Office CollectionPuja BanerjeeRath Yatra Elephant RogueLeopard Sighting PlacesNoida Road TripsFoods That Makes youngerBest'),\n",
       " Document(metadata={'source': 'https://timesofindia.indiatimes.com/india/kolkata-shocker-victim-alleges-rape-was-videotaped-what-initial-probe-revealed/articleshow/122113479.cms', 'title': 'Kolkata shocker: Victim alleges rape was videotaped; what initial probe revealed | India News - Times of India', 'description': 'India News: Kolkata Police reported the arrest of Manujit Mishra, a former Trinamool Congress Chhatra Parishad leader, for allegedly raping a law student within c', 'language': 'en'}, page_content='Box Office CollectionSanvikaaWorld Largest SnakesSitaare Zameen Par Box Office CollectionPuja BanerjeeRath Yatra Elephant RogueLeopard Sighting PlacesNoida Road TripsFoods That Makes youngerBest Romantic AnimeHigh Blood Sugar In MorningBlack Mamba FightWorld Richest ManSimpson PredictionBad Breath CausesMicrosoft Sued By AuthorsNikhil KamathGauranga DasCastor Oil BenefitsGeneral Motors RecallsTrending TopicsCristiano RonaldoMaharashtra FYCJ Merit ListBest Education System CountriesCBSE New Exam PatternTNEA Rank ListShikhar DhawanWI vs AUS Test MatchJasprit BumrahMichael ClarkeAjinkya RahaneAcres to Square FeetRicky PontingRohit SharmaHarbhajan SinghIND vs ENG Live StreamingJobs Disappearing in 2025ICC New RulesAhmedabad Jagannath YatraPuri Jagannath Yatra 2025Jaggu BhagwanpuriaBengaluru Airport NewsKolkata GangrapeF35 Fighter JetJammu Terrorist KilledGurgaon Hit And RunMumbai Train DeathsSL vs BANICAI CA Final May 2025REET 2025 CertificateKJSP Result 2025Mackenzie ScottSundar'),\n",
       " Document(metadata={'source': 'https://timesofindia.indiatimes.com/india/kolkata-shocker-victim-alleges-rape-was-videotaped-what-initial-probe-revealed/articleshow/122113479.cms', 'title': 'Kolkata shocker: Victim alleges rape was videotaped; what initial probe revealed | India News - Times of India', 'description': 'India News: Kolkata Police reported the arrest of Manujit Mishra, a former Trinamool Congress Chhatra Parishad leader, for allegedly raping a law student within c', 'language': 'en'}, page_content='Airport NewsKolkata GangrapeF35 Fighter JetJammu Terrorist KilledGurgaon Hit And RunMumbai Train DeathsSL vs BANICAI CA Final May 2025REET 2025 CertificateKJSP Result 2025Mackenzie ScottSundar PichaiNYT Strands TodayWordle Today HintsElon MuskMasayoshi SonApp Store FeePewdiepieBill GatesWorld Most Expensive WeddingsDwyane Wade Car CollectionJeff BezosPopular CategoriesHeadlinesSports NewsBusiness NewsIndia NewsWorld NewsBollywood NewsHealth+ TipsIndian TV ShowsTechnologyTravelEtimesHealth & FitnessNFLIntel The Learning CurveIndia vs EnglandAstrologyWeather TodayPlatinum Rate TodaySilver Rate TodayGold Rate TodayDelhi AQI TodayJune Bank HolidaysPublic Holidays in JuneStock Market HolidaysNSE HolidaysBSE HolidaysTechnology NewsInternational SportsPublic HolidaysBank HolidaysLatest NewsBirthright citizenship order: US Supreme Court curbs power of judges to block executive actions; a major victory for TrumpRRB Technician Recruitment 2025: Notification released for 6180 vacancies, check'),\n",
       " Document(metadata={'source': 'https://timesofindia.indiatimes.com/india/kolkata-shocker-victim-alleges-rape-was-videotaped-what-initial-probe-revealed/articleshow/122113479.cms', 'title': 'Kolkata shocker: Victim alleges rape was videotaped; what initial probe revealed | India News - Times of India', 'description': 'India News: Kolkata Police reported the arrest of Manujit Mishra, a former Trinamool Congress Chhatra Parishad leader, for allegedly raping a law student within c', 'language': 'en'}, page_content=\"citizenship order: US Supreme Court curbs power of judges to block executive actions; a major victory for TrumpRRB Technician Recruitment 2025: Notification released for 6180 vacancies, check eligibility hereMrBeast removes AI thumbnail generator tool: ‘I definitely missed the mark…’Justin Bieber changes his Instagram handle name? Hailey Bieber reportedly is concerned with his loose-cannon antics - Deets InsideBurnout and brain fog: How the hustle culture is messing with young minds—Here’s why experts are alarmedDavid Beckham gets hospitalised; Source reveals the cause as Victoria shares heartfelt posts50 years of Emergency: EAM Jaishankar blames 1974 deal for fishermen arrests by Sri Lanka; says consequences still visible in Tamil NaduLauren Sanchez's workout routine revealed: How does the 55-year-old stay fit?Trade pain, stock gain: Nike shares jump 15% as it shifts production from China; braces for $1 bn tariff blow, price hikes ahead'Just in time': Operation Sindoor displayed\"),\n",
       " Document(metadata={'source': 'https://timesofindia.indiatimes.com/india/kolkata-shocker-victim-alleges-rape-was-videotaped-what-initial-probe-revealed/articleshow/122113479.cms', 'title': 'Kolkata shocker: Victim alleges rape was videotaped; what initial probe revealed | India News - Times of India', 'description': 'India News: Kolkata Police reported the arrest of Manujit Mishra, a former Trinamool Congress Chhatra Parishad leader, for allegedly raping a law student within c', 'language': 'en'}, page_content=\"the 55-year-old stay fit?Trade pain, stock gain: Nike shares jump 15% as it shifts production from China; braces for $1 bn tariff blow, price hikes ahead'Just in time': Operation Sindoor displayed naval might, forced adversary to seek ceasefire, says Navy chief Admiral Dinesh K TripathiUPPRPB final result for Head Operator recruitment 2022 out at uppbpb.gov.in: 936 candidates selected, download PDF hereDirector Durai Senthilkumar's film featuring Legend Saravanan to hit screens for DeepavaliAI is looming large, but mere 33% are trained for effective use: Is the market ready for an overhaul yet?Buffalo Sabres rejected $65 million Jordan Kyrou trade offer for JJ Peterka, claims insider in explosive NHL rumorHarvard Kennedy School lays off staff amid $53 billion endowment tax threat and federal funding cuts5 simple and doable ways to take control of Blood Pressure now (before it gets too late)Jacob Fatu vs Solo Sikoa: Who leads the charge in Net Worth before WWE Night of Champions\"),\n",
       " Document(metadata={'source': 'https://timesofindia.indiatimes.com/india/kolkata-shocker-victim-alleges-rape-was-videotaped-what-initial-probe-revealed/articleshow/122113479.cms', 'title': 'Kolkata shocker: Victim alleges rape was videotaped; what initial probe revealed | India News - Times of India', 'description': 'India News: Kolkata Police reported the arrest of Manujit Mishra, a former Trinamool Congress Chhatra Parishad leader, for allegedly raping a law student within c', 'language': 'en'}, page_content='federal funding cuts5 simple and doable ways to take control of Blood Pressure now (before it gets too late)Jacob Fatu vs Solo Sikoa: Who leads the charge in Net Worth before WWE Night of Champions 2025?Maahi talks about how he deals with comparisons with father ShaanCopyright © 2025 Bennett, Coleman & Co. Ltd. All rights reserved. For reprint rights: Times Syndication ServiceFollow Us On')]"
      ]
     },
     "execution_count": 61,
     "metadata": {},
     "output_type": "execute_result"
    }
   ],
   "source": [
    "documents"
   ]
  },
  {
   "cell_type": "code",
   "execution_count": 62,
   "id": "a3fc8f38-6677-45e2-995f-abba8a090a10",
   "metadata": {},
   "outputs": [
    {
     "data": {
      "text/plain": [
       "18"
      ]
     },
     "execution_count": 62,
     "metadata": {},
     "output_type": "execute_result"
    }
   ],
   "source": [
    "len(documents)"
   ]
  },
  {
   "cell_type": "code",
   "execution_count": 63,
   "id": "285ea602-8cd3-45e1-a7c0-e8fc73e2662d",
   "metadata": {},
   "outputs": [],
   "source": [
    "# Use Vector DB to Insert Documents\n",
    "vector=FAISS.from_documents(documents=documents,embedding=OpenAIEmbeddings())"
   ]
  },
  {
   "cell_type": "code",
   "execution_count": 64,
   "id": "de7d4a84-7d62-445d-9f86-39923c18d900",
   "metadata": {},
   "outputs": [],
   "source": [
    "retriever=vector.as_retriever()"
   ]
  },
  {
   "cell_type": "code",
   "execution_count": 32,
   "id": "67f5360d-b24f-43c0-8c7b-1e1fd8ab9326",
   "metadata": {},
   "outputs": [
    {
     "data": {
      "text/plain": [
       "[Document(id='1039e4e9-ad83-4915-badc-f618f9d81916', metadata={'source': 'https://timesofindia.indiatimes.com/india/kolkata-shocker-victim-alleges-rape-was-videotaped-what-initial-probe-revealed/articleshow/122113479.cms', 'title': 'Kolkata shocker: Victim alleges rape was videotaped; what initial probe revealed | India News - Times of India', 'description': 'India News: Kolkata Police reported the arrest of Manujit Mishra, a former Trinamool Congress Chhatra Parishad leader, for allegedly raping a law student within c', 'language': 'en'}, page_content='filming the assault and threatening to release it.  NEW DELHI: Kolkata Police on Thursday said that the prime accused Manojit Mishra in the rape of an law student inside college premises was former president of the college’s Trinamool Congress Chhatra Parishad unit and the organisational secretary of the south Kolkata wing of the TMC’s student body.Photographs of the key accused available in the public domain also showed him in close proximity to several leaders of the state’s ruling dispensation.Law Student Gangraped Inside Kolkata College; TMC Youth Leader Among 3 Arrested | Shocking DetailsAccording to college authorities, the main accused was also engaged as a temporary non-teaching staff at the institution for a renewable contractual period of 45 days. He was also a practising criminal lawyer at the Alipore Police and Sessions Court.Meanwhile, the vice principal of the college Dr Nayna Chatterji claimed that Mishra was appointed on a renewable contract on the basis of a'),\n",
       " Document(id='c87dccef-f633-44a6-83c5-52dd15283a3b', metadata={'source': 'https://timesofindia.indiatimes.com/india/kolkata-shocker-victim-alleges-rape-was-videotaped-what-initial-probe-revealed/articleshow/122113479.cms', 'title': 'Kolkata shocker: Victim alleges rape was videotaped; what initial probe revealed | India News - Times of India', 'description': 'India News: Kolkata Police reported the arrest of Manujit Mishra, a former Trinamool Congress Chhatra Parishad leader, for allegedly raping a law student within c', 'language': 'en'}, page_content='criminal lawyer at the Alipore Police and Sessions Court.Meanwhile, the vice principal of the college Dr Nayna Chatterji claimed that Mishra was appointed on a renewable contract on the basis of a resolution passed by the governing body (GB) of the institute.“I got the information from the security guard that the police have sealed two rooms of our college. I am trying to find out what has happened. This person was appointed by the GB on a purely temporary basis,\" she said.\\'Accused had kept the mobile footage of the assault and threatened to release it\\'According to Kolkata police, the alleged crime took place inside a guard\\'s room on the ground floor of the college, next to the students\\' union office on June 25.\"Initial investigations revealed that the victim had reached the college in the afternoon to fill up certain academic forms after she was called by some people,\" officials told news agency PTI.\"According to the complaint she filed at the Kasba police station on Thursday, she'),\n",
       " Document(id='257ef1dc-7ec6-4b12-ae2d-0e31cafd188e', metadata={'source': 'https://timesofindia.indiatimes.com/india/kolkata-shocker-victim-alleges-rape-was-videotaped-what-initial-probe-revealed/articleshow/122113479.cms', 'title': 'Kolkata shocker: Victim alleges rape was videotaped; what initial probe revealed | India News - Times of India', 'description': 'India News: Kolkata Police reported the arrest of Manujit Mishra, a former Trinamool Congress Chhatra Parishad leader, for allegedly raping a law student within c', 'language': 'en'}, page_content='2025Ahmedabad Air IndiaIsrael Iran WarIsrael Iran CreasefireNoshir GowadiaMumbai Train DeathsBest education system CountriesAxiom 4TS PGECET results 2025Ahmedabad Air IndiaIsrael Iran WarIsrael Iran CreasefireNoshir GowadiaMumbai Train DeathsBest education system CountriesAxiom 4TS PGECET results 2025Ahmedabad Air IndiaIsrael Iran WarIsrael Iran CreasefireNoshir GowadiaMumbai Train DeathsKolkata shocker: Victim alleges rape was videotaped; what initial probe revealedTOI News Desk / TIMESOFINDIA.COM / Updated: Jun 27, 2025, 20:32 ISTShareAA+Text SizeSmallMediumLargeKolkata Police reported the arrest of Manujit Mishra, a former Trinamool Congress Chhatra Parishad leader, for allegedly raping a law student within college premises. Mishra, also a temporary staff member and lawyer, is accused of filming the assault and threatening to release it.  NEW DELHI: Kolkata Police on Thursday said that the prime accused Manojit Mishra in the rape of an law student inside college premises was former'),\n",
       " Document(id='6cf5ae2e-a4eb-4e99-a15c-d1368b6ab946', metadata={'source': 'https://timesofindia.indiatimes.com/india/kolkata-shocker-victim-alleges-rape-was-videotaped-what-initial-probe-revealed/articleshow/122113479.cms', 'title': 'Kolkata shocker: Victim alleges rape was videotaped; what initial probe revealed | India News - Times of India', 'description': 'India News: Kolkata Police reported the arrest of Manujit Mishra, a former Trinamool Congress Chhatra Parishad leader, for allegedly raping a law student within c', 'language': 'en'}, page_content=\"Kolkata shocker: Victim alleges rape was videotaped; what initial probe revealed | India News - Times of IndiaEditionININUSEnglishEnglishहिन्दीमराठीಕನ್ನಡதமிழ்বাংলাമലയാളംతెలుగుગુજરાતીSign InTOIindiaOperation SindoorCancel PatriarchyMaharashtraDelhiKarnatakaTamil NaduTelanganaUttar PradeshWest BengalGujaratMadhya PradeshBiharChandigarhRajasthanArunachal PradeshAndhra PradeshAssamChhattisgarhGoaHaryanaHimachal PradeshJammu KashmirJharkhandKeralaManipurMeghalayaMizoramNagalandOdishaPunjabSikkimTripuraUttarakhandAndaman Nicobar IslandsDadra Nagar HaveliDaman DiuLakshadweepPondicherryWeb StoriesSaving Our StripesDigital ArrestToday's ePaperNewsIndia NewsKolkata shocker: Victim alleges rape was videotaped; what initial probe revealedTrendingBest education system CountriesAxiom 4TS PGECET results 2025Ahmedabad Air IndiaIsrael Iran WarIsrael Iran CreasefireNoshir GowadiaMumbai Train DeathsBest education system CountriesAxiom 4TS PGECET results 2025Ahmedabad Air IndiaIsrael Iran WarIsrael Iran\")]"
      ]
     },
     "execution_count": 32,
     "metadata": {},
     "output_type": "execute_result"
    }
   ],
   "source": [
    "retriever.invoke(input=\"Who is the prime accussed?\")"
   ]
  },
  {
   "cell_type": "markdown",
   "id": "994e7c2c-3388-4423-9306-23114e02b08c",
   "metadata": {},
   "source": [
    "<h3>Create Retriever Tool</h3>"
   ]
  },
  {
   "cell_type": "code",
   "execution_count": 72,
   "id": "478231cd-1222-42b5-a97e-7f8f969c8d5c",
   "metadata": {},
   "outputs": [],
   "source": [
    "retrieverTool=create_retriever_tool(\n",
    "    retriever=retriever,\n",
    "    name=\"Kolkata_harrassment_accussed\",\n",
    "    description=\"Search for information about the Kolkata Harrassment incident. For any questions about the Kolkata Harrassment, you must use this tool!\"\n",
    ")"
   ]
  },
  {
   "cell_type": "code",
   "execution_count": 73,
   "id": "88ef308a-55a5-4309-823c-a19a974eb560",
   "metadata": {},
   "outputs": [],
   "source": [
    "# Use Both the Tools - search and retrievertool to use in the downstream\n",
    "tools=[\n",
    "    retrieverTool,\n",
    "    searchTavily,\n",
    "    serpAPISearch,\n",
    "    wikipediaSearch]"
   ]
  },
  {
   "cell_type": "code",
   "execution_count": 74,
   "id": "93b8fd20-ed49-4cf7-8a16-880ce5629797",
   "metadata": {},
   "outputs": [],
   "source": [
    "prompt=hub.pull(owner_repo_commit=\"hwchase17/openai-functions-agent\")"
   ]
  },
  {
   "cell_type": "code",
   "execution_count": 75,
   "id": "dd570ea6-8098-4239-86c3-190a7b3a81dd",
   "metadata": {},
   "outputs": [
    {
     "data": {
      "text/plain": [
       "[SystemMessagePromptTemplate(prompt=PromptTemplate(input_variables=[], input_types={}, partial_variables={}, template='You are a helpful assistant'), additional_kwargs={}),\n",
       " MessagesPlaceholder(variable_name='chat_history', optional=True),\n",
       " HumanMessagePromptTemplate(prompt=PromptTemplate(input_variables=['input'], input_types={}, partial_variables={}, template='{input}'), additional_kwargs={}),\n",
       " MessagesPlaceholder(variable_name='agent_scratchpad')]"
      ]
     },
     "execution_count": 75,
     "metadata": {},
     "output_type": "execute_result"
    }
   ],
   "source": [
    "prompt.messages"
   ]
  },
  {
   "cell_type": "code",
   "execution_count": 76,
   "id": "17f5503e-2657-4616-98e8-de4ef0af4a34",
   "metadata": {},
   "outputs": [],
   "source": [
    "# The agent is responsible for taking in input and deciding what actions to take\n",
    "# The agent does not execute those actions, that is done by the agent executor\n",
    "\n",
    "agent=create_tool_calling_agent(llm=llmOpenAI,tools=tools,prompt=prompt)"
   ]
  },
  {
   "cell_type": "code",
   "execution_count": 77,
   "id": "eba370b7-f01a-41b0-979e-64b56971cbe0",
   "metadata": {},
   "outputs": [],
   "source": [
    "agentExecutor=AgentExecutor(tools=tools,agent=agent,verbose=True)"
   ]
  },
  {
   "cell_type": "code",
   "execution_count": 78,
   "id": "d3c9ccf3-4342-432a-adfd-9b1ca28def0a",
   "metadata": {},
   "outputs": [
    {
     "name": "stdout",
     "output_type": "stream",
     "text": [
      "\n",
      "\n",
      "\u001b[1m> Entering new AgentExecutor chain...\u001b[0m\n",
      "\u001b[32;1m\u001b[1;3mHello! How can I assist you today?\u001b[0m\n",
      "\n",
      "\u001b[1m> Finished chain.\u001b[0m\n"
     ]
    },
    {
     "data": {
      "text/plain": [
       "{'input': 'hi!', 'output': 'Hello! How can I assist you today?'}"
      ]
     },
     "execution_count": 78,
     "metadata": {},
     "output_type": "execute_result"
    }
   ],
   "source": [
    "agentExecutor.invoke(input={\"input\":\"hi!\"})"
   ]
  },
  {
   "cell_type": "code",
   "execution_count": 79,
   "id": "00c59c9b-1a1e-40ee-99f5-6abc9395e553",
   "metadata": {},
   "outputs": [
    {
     "name": "stdout",
     "output_type": "stream",
     "text": [
      "\n",
      "\n",
      "\u001b[1m> Entering new AgentExecutor chain...\u001b[0m\n",
      "\u001b[32;1m\u001b[1;3m\n",
      "Invoking: `Kolkata_harrassment_accussed` with `{'query': 'Prime Accused'}`\n",
      "\n",
      "\n",
      "\u001b[0m\u001b[36;1m\u001b[1;3mfilming the assault and threatening to release it.  NEW DELHI: Kolkata Police on Thursday said that the prime accused Manojit Mishra in the rape of an law student inside college premises was former president of the college’s Trinamool Congress Chhatra Parishad unit and the organisational secretary of the south Kolkata wing of the TMC’s student body.Photographs of the key accused available in the public domain also showed him in close proximity to several leaders of the state’s ruling dispensation.Law Student Gangraped Inside Kolkata College; TMC Youth Leader Among 3 Arrested | Shocking DetailsAccording to college authorities, the main accused was also engaged as a temporary non-teaching staff at the institution for a renewable contractual period of 45 days. He was also a practising criminal lawyer at the Alipore Police and Sessions Court.Meanwhile, the vice principal of the college Dr Nayna Chatterji claimed that Mishra was appointed on a renewable contract on the basis of a\n",
      "\n",
      "criminal lawyer at the Alipore Police and Sessions Court.Meanwhile, the vice principal of the college Dr Nayna Chatterji claimed that Mishra was appointed on a renewable contract on the basis of a resolution passed by the governing body (GB) of the institute.“I got the information from the security guard that the police have sealed two rooms of our college. I am trying to find out what has happened. This person was appointed by the GB on a purely temporary basis,\" she said.'Accused had kept the mobile footage of the assault and threatened to release it'According to Kolkata police, the alleged crime took place inside a guard's room on the ground floor of the college, next to the students' union office on June 25.\"Initial investigations revealed that the victim had reached the college in the afternoon to fill up certain academic forms after she was called by some people,\" officials told news agency PTI.\"According to the complaint she filed at the Kasba police station on Thursday, she\n",
      "\n",
      "Kolkata shocker: Victim alleges rape was videotaped; what initial probe revealed | India News - Times of IndiaEditionININUSEnglishEnglishहिन्दीमराठीಕನ್ನಡதமிழ்বাংলাമലയാളംతెలుగుગુજરાતીSign InTOIindiaOperation SindoorCancel PatriarchyMaharashtraDelhiKarnatakaTamil NaduTelanganaUttar PradeshWest BengalGujaratMadhya PradeshBiharChandigarhRajasthanArunachal PradeshAndhra PradeshAssamChhattisgarhGoaHaryanaHimachal PradeshJammu KashmirJharkhandKeralaManipurMeghalayaMizoramNagalandOdishaPunjabSikkimTripuraUttarakhandAndaman Nicobar IslandsDadra Nagar HaveliDaman DiuLakshadweepPondicherryWeb StoriesSaving Our StripesDigital ArrestToday's ePaperNewsIndia NewsKolkata shocker: Victim alleges rape was videotaped; what initial probe revealedTrendingBest education system CountriesAxiom 4TS PGECET results 2025Ahmedabad Air IndiaIsrael Iran WarIsrael Iran CreasefireNoshir GowadiaMumbai Train DeathsBest education system CountriesAxiom 4TS PGECET results 2025Ahmedabad Air IndiaIsrael Iran WarIsrael Iran\n",
      "\n",
      "2025Ahmedabad Air IndiaIsrael Iran WarIsrael Iran CreasefireNoshir GowadiaMumbai Train DeathsBest education system CountriesAxiom 4TS PGECET results 2025Ahmedabad Air IndiaIsrael Iran WarIsrael Iran CreasefireNoshir GowadiaMumbai Train DeathsBest education system CountriesAxiom 4TS PGECET results 2025Ahmedabad Air IndiaIsrael Iran WarIsrael Iran CreasefireNoshir GowadiaMumbai Train DeathsKolkata shocker: Victim alleges rape was videotaped; what initial probe revealedTOI News Desk / TIMESOFINDIA.COM / Updated: Jun 27, 2025, 20:32 ISTShareAA+Text SizeSmallMediumLargeKolkata Police reported the arrest of Manujit Mishra, a former Trinamool Congress Chhatra Parishad leader, for allegedly raping a law student within college premises. Mishra, also a temporary staff member and lawyer, is accused of filming the assault and threatening to release it.  NEW DELHI: Kolkata Police on Thursday said that the prime accused Manojit Mishra in the rape of an law student inside college premises was former\u001b[0m\u001b[32;1m\u001b[1;3mThe prime accused in the Kolkata harassment incident is Manojit Mishra. He is a former president of the college’s Trinamool Congress Chhatra Parishad unit and the organizational secretary of the south Kolkata wing of the TMC’s student body. Manojit Mishra is accused of raping a law student inside college premises and filming the assault, threatening to release the footage.\u001b[0m\n",
      "\n",
      "\u001b[1m> Finished chain.\u001b[0m\n"
     ]
    },
    {
     "data": {
      "text/plain": [
       "{'input': 'Who is the Prime Accussed?',\n",
       " 'output': 'The prime accused in the Kolkata harassment incident is Manojit Mishra. He is a former president of the college’s Trinamool Congress Chhatra Parishad unit and the organizational secretary of the south Kolkata wing of the TMC’s student body. Manojit Mishra is accused of raping a law student inside college premises and filming the assault, threatening to release the footage.'}"
      ]
     },
     "execution_count": 79,
     "metadata": {},
     "output_type": "execute_result"
    }
   ],
   "source": [
    "agentExecutor.invoke(input={\"input\":\"Who is the Prime Accussed?\"})"
   ]
  },
  {
   "cell_type": "code",
   "execution_count": 80,
   "id": "b99cdb80-6687-4fcf-9b41-b7d1cd9feb88",
   "metadata": {},
   "outputs": [
    {
     "name": "stdout",
     "output_type": "stream",
     "text": [
      "\n",
      "\n",
      "\u001b[1m> Entering new AgentExecutor chain...\u001b[0m\n",
      "\u001b[32;1m\u001b[1;3m\n",
      "Invoking: `serpAPI_Search` with `weather in Kolkata`\n",
      "\n",
      "\n",
      "\u001b[0m\u001b[38;5;200m\u001b[1;3m{'type': 'weather_result', 'temperature': '82', 'unit': 'Fahrenheit', 'precipitation': '75%', 'humidity': '90%', 'wind': '5 mph', 'location': 'Kolkata, West Bengal, India', 'date': 'Saturday 1:00 AM', 'weather': 'Light rain'}\u001b[0m\u001b[32;1m\u001b[1;3mThe current weather in Kolkata is as follows:\n",
      "- Temperature: 82°F\n",
      "- Precipitation: 75%\n",
      "- Humidity: 90%\n",
      "- Wind: 5 mph\n",
      "- Weather: Light rain\n",
      "\n",
      "Please let me know if you need more information.\u001b[0m\n",
      "\n",
      "\u001b[1m> Finished chain.\u001b[0m\n"
     ]
    },
    {
     "data": {
      "text/plain": [
       "{'input': 'What is the weather at Kolkata now?',\n",
       " 'output': 'The current weather in Kolkata is as follows:\\n- Temperature: 82°F\\n- Precipitation: 75%\\n- Humidity: 90%\\n- Wind: 5 mph\\n- Weather: Light rain\\n\\nPlease let me know if you need more information.'}"
      ]
     },
     "execution_count": 80,
     "metadata": {},
     "output_type": "execute_result"
    }
   ],
   "source": [
    "agentExecutor.invoke(input={'input':\"What is the weather at Kolkata now?\"})"
   ]
  },
  {
   "cell_type": "markdown",
   "id": "d951014e-7b6a-49fb-a8eb-6e4e8a99b749",
   "metadata": {},
   "source": [
    "<h3> Adding in Memory</h3>"
   ]
  },
  {
   "cell_type": "code",
   "execution_count": 81,
   "id": "505fea38-4537-43b5-b81b-864b42d416ee",
   "metadata": {},
   "outputs": [],
   "source": [
    "messageHistory=ChatMessageHistory()"
   ]
  },
  {
   "cell_type": "code",
   "execution_count": 82,
   "id": "2b67b2f4-7eb8-47fa-93ae-987a010f1d57",
   "metadata": {},
   "outputs": [],
   "source": [
    "agentWithChatHistory=RunnableWithMessageHistory(\n",
    "    runnable=agentExecutor,\n",
    "    get_session_history=lambda session_id: messageHistory,\n",
    "    input_message_key=\"input\",\n",
    "    history_messages_key=\"chat_history\"\n",
    ")"
   ]
  },
  {
   "cell_type": "code",
   "execution_count": 83,
   "id": "4618445c-ea3d-4365-9164-146352563f30",
   "metadata": {},
   "outputs": [
    {
     "name": "stdout",
     "output_type": "stream",
     "text": [
      "\n",
      "\n",
      "\u001b[1m> Entering new AgentExecutor chain...\u001b[0m\n",
      "\u001b[32;1m\u001b[1;3mHello Ritish! How can I assist you today?\u001b[0m\n",
      "\n",
      "\u001b[1m> Finished chain.\u001b[0m\n"
     ]
    },
    {
     "data": {
      "text/plain": [
       "{'input': 'hi! My Name is Ritish',\n",
       " 'chat_history': [],\n",
       " 'output': 'Hello Ritish! How can I assist you today?'}"
      ]
     },
     "execution_count": 83,
     "metadata": {},
     "output_type": "execute_result"
    }
   ],
   "source": [
    "agentWithChatHistory.invoke(\n",
    "    input={\"input\":\"hi! My Name is Ritish\"},\n",
    "    config={\"configurable\":{\"session_id\":\"<ritish>\"}}\n",
    ")"
   ]
  },
  {
   "cell_type": "code",
   "execution_count": 84,
   "id": "1bcc668d-9a59-4d0a-a618-9083c92c6566",
   "metadata": {},
   "outputs": [
    {
     "name": "stdout",
     "output_type": "stream",
     "text": [
      "\n",
      "\n",
      "\u001b[1m> Entering new AgentExecutor chain...\u001b[0m\n",
      "\u001b[32;1m\u001b[1;3mYour name is Ritish. How can I assist you today, Ritish?\u001b[0m\n",
      "\n",
      "\u001b[1m> Finished chain.\u001b[0m\n"
     ]
    },
    {
     "data": {
      "text/plain": [
       "{'input': \"What's my name?\",\n",
       " 'chat_history': [HumanMessage(content='hi! My Name is Ritish', additional_kwargs={}, response_metadata={}),\n",
       "  AIMessage(content='Hello Ritish! How can I assist you today?', additional_kwargs={}, response_metadata={})],\n",
       " 'output': 'Your name is Ritish. How can I assist you today, Ritish?'}"
      ]
     },
     "execution_count": 84,
     "metadata": {},
     "output_type": "execute_result"
    }
   ],
   "source": [
    "agentWithChatHistory.invoke(\n",
    "    input={\"input\":\"What's my name?\"},\n",
    "    config={\"configurable\":{\"session_id\":\"<ritish>\"}}\n",
    ")"
   ]
  },
  {
   "cell_type": "code",
   "execution_count": 85,
   "id": "d30d34e8-acaf-4c0b-98e8-f48a6786e331",
   "metadata": {},
   "outputs": [
    {
     "name": "stdout",
     "output_type": "stream",
     "text": [
      "\n",
      "\n",
      "\u001b[1m> Entering new AgentExecutor chain...\u001b[0m\n",
      "\u001b[32;1m\u001b[1;3m\n",
      "Invoking: `wikipedia` with `{'query': 'Kolkata Harrassment incident'}`\n",
      "\n",
      "\n",
      "\u001b[0m\u001b[36;1m\u001b[1;3mNo good Wikipedia Search Result was found\u001b[0m\u001b[32;1m\u001b[1;3m\n",
      "Invoking: `Kolkata_harrassment_accussed` with `{'query': 'victim'}`\n",
      "\n",
      "\n",
      "\u001b[0m\u001b[36;1m\u001b[1;3mKolkata shocker: Victim alleges rape was videotaped; what initial probe revealed | India News - Times of IndiaEditionININUSEnglishEnglishहिन्दीमराठीಕನ್ನಡதமிழ்বাংলাമലയാളംతెలుగుગુજરાતીSign InTOIindiaOperation SindoorCancel PatriarchyMaharashtraDelhiKarnatakaTamil NaduTelanganaUttar PradeshWest BengalGujaratMadhya PradeshBiharChandigarhRajasthanArunachal PradeshAndhra PradeshAssamChhattisgarhGoaHaryanaHimachal PradeshJammu KashmirJharkhandKeralaManipurMeghalayaMizoramNagalandOdishaPunjabSikkimTripuraUttarakhandAndaman Nicobar IslandsDadra Nagar HaveliDaman DiuLakshadweepPondicherryWeb StoriesSaving Our StripesDigital ArrestToday's ePaperNewsIndia NewsKolkata shocker: Victim alleges rape was videotaped; what initial probe revealedTrendingBest education system CountriesAxiom 4TS PGECET results 2025Ahmedabad Air IndiaIsrael Iran WarIsrael Iran CreasefireNoshir GowadiaMumbai Train DeathsBest education system CountriesAxiom 4TS PGECET results 2025Ahmedabad Air IndiaIsrael Iran WarIsrael Iran\n",
      "\n",
      "the afternoon to fill up certain academic forms after she was called by some people,\" officials told news agency PTI.\"According to the complaint she filed at the Kasba police station on Thursday, she was asked by the miscreants to stay back. In the evening she was allegedly taken to the room on the ground floor of the college and raped by the accused till around 10 pm. We have sealed the room, and our forensic experts will soon be there to collect evidence,\" the officer added.The victim also alleged that in her complaint that she was filmed while being gang-raped, PTI reported, citing sources.\"She has alleged that the three accused had kept the mobile footage of the assault and threatened to release it on the internet if she talked to anybody about the incident,\" the source told PTI.The mobile phone devices of the three accused have been seized and sent for forensic tests, the officer added.\"We are trying to find out whether the video footage was forwarded to other numbers or not,” he\n",
      "\n",
      "phone devices of the three accused have been seized and sent for forensic tests, the officer added.\"We are trying to find out whether the video footage was forwarded to other numbers or not,” he said while adding that the mandatory medical tests on the victim were being conducted.About the AuthorTOI News DeskThe TOI News Desk comprises a dedicated and tireless team of journalists who operate around the clock to deliver the most current and comprehensive news and updates to the readers of The Times of India worldwide. With an unwavering commitment to excellence in journalism, our team is at the forefront of gathering, verifying, and presenting breaking news, in-depth analysis, and insightful reports on a wide range of topics. The TOI News Desk is your trusted source for staying informed and connected to the ever-evolving global landscape, ensuring that our readers are equipped with the latest developments that matter most.\"Read MoreEnd of ArticleFollow Us On Social Media Visual Stories\n",
      "\n",
      "2025Ahmedabad Air IndiaIsrael Iran WarIsrael Iran CreasefireNoshir GowadiaMumbai Train DeathsBest education system CountriesAxiom 4TS PGECET results 2025Ahmedabad Air IndiaIsrael Iran WarIsrael Iran CreasefireNoshir GowadiaMumbai Train DeathsBest education system CountriesAxiom 4TS PGECET results 2025Ahmedabad Air IndiaIsrael Iran WarIsrael Iran CreasefireNoshir GowadiaMumbai Train DeathsKolkata shocker: Victim alleges rape was videotaped; what initial probe revealedTOI News Desk / TIMESOFINDIA.COM / Updated: Jun 27, 2025, 20:32 ISTShareAA+Text SizeSmallMediumLargeKolkata Police reported the arrest of Manujit Mishra, a former Trinamool Congress Chhatra Parishad leader, for allegedly raping a law student within college premises. Mishra, also a temporary staff member and lawyer, is accused of filming the assault and threatening to release it.  NEW DELHI: Kolkata Police on Thursday said that the prime accused Manojit Mishra in the rape of an law student inside college premises was former\u001b[0m\u001b[32;1m\u001b[1;3mThe victim in the Kolkata Harrassment incident is a law student who alleged that she was raped by the accused, who also filmed the assault and threatened to release it. The prime accused is Manujit Mishra, a former Trinamool Congress Chhatra Parishad leader.\u001b[0m\n",
      "\n",
      "\u001b[1m> Finished chain.\u001b[0m\n"
     ]
    },
    {
     "data": {
      "text/plain": [
       "{'input': 'What is the name of the victim?',\n",
       " 'chat_history': [HumanMessage(content='hi! My Name is Ritish', additional_kwargs={}, response_metadata={}),\n",
       "  AIMessage(content='Hello Ritish! How can I assist you today?', additional_kwargs={}, response_metadata={}),\n",
       "  HumanMessage(content=\"What's my name?\", additional_kwargs={}, response_metadata={}),\n",
       "  AIMessage(content='Your name is Ritish. How can I assist you today, Ritish?', additional_kwargs={}, response_metadata={})],\n",
       " 'output': 'The victim in the Kolkata Harrassment incident is a law student who alleged that she was raped by the accused, who also filmed the assault and threatened to release it. The prime accused is Manujit Mishra, a former Trinamool Congress Chhatra Parishad leader.'}"
      ]
     },
     "execution_count": 85,
     "metadata": {},
     "output_type": "execute_result"
    }
   ],
   "source": [
    "agentWithChatHistory.invoke(\n",
    "    input={\"input\":\"What is the name of the victim?\"},\n",
    "    config={\"configurable\":{\"session_id\":\"<ritish>\"}}\n",
    ")"
   ]
  },
  {
   "cell_type": "code",
   "execution_count": 86,
   "id": "60627cfa-d5c6-4459-9962-9779847c6718",
   "metadata": {},
   "outputs": [
    {
     "name": "stdout",
     "output_type": "stream",
     "text": [
      "\n",
      "\n",
      "\u001b[1m> Entering new AgentExecutor chain...\u001b[0m\n",
      "\u001b[32;1m\u001b[1;3m\n",
      "Invoking: `wikipedia` with `{'query': 'Iran-Israel War'}`\n",
      "\n",
      "\n",
      "\u001b[0m\u001b[36;1m\u001b[1;3mPage: Iran–Israel war\n",
      "Summary: An armed conflict between Iran and Israel began on 13 June 2025, when Israel launched surprise attacks on key military and nuclear facilities in Iran. In the opening hours of the war, Israeli air and ground forces assassinated some of Iran's prominent military leaders, nuclear scientists, and politicians; and damaged or destroyed Iran's air defenses and some of its nuclear and military facilities. Iran retaliated by launching missiles at cities and military sites in Israel. The Iran-allied Houthis in Yemen also fired several missiles at Israel, in an adjunct of the Red Sea crisis. The United States, which defended Israel against Iranian missiles and drones, took offensive action on the ninth day of the war by striking three Iranian nuclear sites. The Houthis took the American strikes as a \"declaration of war\" and unilaterally ended their ceasefire with the United States. \n",
      "The conflict is considered an escalation of decades-long animosity between Israel and Iran, including a proxy conflict, during which Iran challenged Israel's legitimacy and called for its destruction. It also follows more than a decade of international concern about Iran's nuclear program, which Israel considers an existential threat. In 2015, six countries negotiated with Iran a nuclear deal that lifted sanctions on Iran and froze Iran's nuclear program, but in 2018, US president Donald Trump unilaterally withdrew from and voided the deal, after which Iran began stockpiling enriched uranium and the International Atomic Energy Agency (IAEA) lost most of its ability to monitor Iran's nuclear facilities. During the crisis in the Middle East that followed the October 7 attacks in 2023 and the ensuing Gaza war, Israel weakened Iranian proxies such as Hamas and Hezbollah. Direct conflict began in April 2024 when Israel bombed the Iranian consulate in Damascus, Syria, killing senior Iranian officials, and the countries traded strikes in April and October. On 12 June 2025, the IAEA passed a resolution drafted by the US, UK, France and Germany that declared Iran non-compliant with its nuclear obligations. Israel began strikes one day later.\n",
      "The Israeli attacks, which reportedly involved commando units and Mossad operatives in Iran, killed several of Iran's military leaders, leaders of the Islamic Revolutionary Guard Corps (IRGC), at least 10 leading nuclear scientists, and more than 600 Iranian civilians, according to the Iranian Health Ministry and the anti-government Human Rights Activists in Iran News Agency. The Iranian Foreign Ministry said more than 70 Iranian women and children were killed in the first three attacks. The war saw internet blackouts by the Iranian regime, and tens of thousands of civilians displaced. Israeli and US airstrikes damaged the nuclear facilities at Natanz, Isfahan, and Fordow. Israel also hit a missile complex near Tabriz, the Kermanshah Underground Missile Facility, and IRGC facilities near Tehran and in Piranshahr. The attacks also damaged public infrastructure, including a hospital in Kermanshah. The first wave of Iranian retaliation included about 100 missiles and 100 drones. Those and later retaliation strikes killed 24 people, all civilians; Iranian missiles have hit civilian apartments, a university, and a hospital. Iran's nuclear enrichment facilities have been damaged, but its stockpile of enriched uranium has likely been moved, and Iran likely retains most of it. A US intelligence assessment said that Iran's nuclear program has been set back by only a few months.\n",
      "Legal scholars saw the Israeli strikes as a violation of international law. The attacks were condemned by Bolivia, Brazil, China, Cuba, Russia, and South Africa. The initial attacks by Israel were condemned by countries across the Islamic world, including Egypt, Jordan, Pakistan, and Turkey. Israel's attacks were met with approval by Germany, Ukraine, and the United States, who said Iran should agree to a nuclear deal promptly. A numbe\u001b[0m\u001b[32;1m\u001b[1;3mThe information provided does not specify a clear winner in the Iran-Israel war. The conflict between Iran and Israel escalated with both sides engaging in military strikes and retaliation. The situation is complex and ongoing. If you need more specific information or details about the outcome of the conflict, please let me know.\u001b[0m\n",
      "\n",
      "\u001b[1m> Finished chain.\u001b[0m\n"
     ]
    },
    {
     "data": {
      "text/plain": [
       "{'input': 'Who won in the Iran-Israel war?',\n",
       " 'chat_history': [HumanMessage(content='hi! My Name is Ritish', additional_kwargs={}, response_metadata={}),\n",
       "  AIMessage(content='Hello Ritish! How can I assist you today?', additional_kwargs={}, response_metadata={}),\n",
       "  HumanMessage(content=\"What's my name?\", additional_kwargs={}, response_metadata={}),\n",
       "  AIMessage(content='Your name is Ritish. How can I assist you today, Ritish?', additional_kwargs={}, response_metadata={}),\n",
       "  HumanMessage(content='What is the name of the victim?', additional_kwargs={}, response_metadata={}),\n",
       "  AIMessage(content='The victim in the Kolkata Harrassment incident is a law student who alleged that she was raped by the accused, who also filmed the assault and threatened to release it. The prime accused is Manujit Mishra, a former Trinamool Congress Chhatra Parishad leader.', additional_kwargs={}, response_metadata={})],\n",
       " 'output': 'The information provided does not specify a clear winner in the Iran-Israel war. The conflict between Iran and Israel escalated with both sides engaging in military strikes and retaliation. The situation is complex and ongoing. If you need more specific information or details about the outcome of the conflict, please let me know.'}"
      ]
     },
     "execution_count": 86,
     "metadata": {},
     "output_type": "execute_result"
    }
   ],
   "source": [
    "agentWithChatHistory.invoke(\n",
    "    input={\"input\":\"Who won in the Iran-Israel war?\"},\n",
    "    config={\"configurable\":{\"session_id\":\"<ritish>\"}}\n",
    ")"
   ]
  },
  {
   "cell_type": "code",
   "execution_count": 87,
   "id": "66c91cee-9b0f-4d5d-a876-611ae53a796e",
   "metadata": {},
   "outputs": [
    {
     "name": "stdout",
     "output_type": "stream",
     "text": [
      "\n",
      "\n",
      "\u001b[1m> Entering new AgentExecutor chain...\u001b[0m\n",
      "\u001b[32;1m\u001b[1;3m\n",
      "Invoking: `tavily_search_results_json` with `{'query': 'Jammu and Kashmir election results winner'}`\n",
      "\n",
      "\n",
      "\u001b[0m\u001b[33;1m\u001b[1;3m[{'title': 'J&K assembly election results: Check full list of winners', 'url': 'https://www.hindustantimes.com/india-news/jk-full-winners-list-jammu-kashmir-assembly-election-2024-today-oct-8-omar-abdullah-iltija-mufti-ravinder-raina-101728378222213.html', 'content': 'J&K election results full list of winners: After trends showed that the Congress-National Conference pre-poll alliance had crossed the majority mark in Jammu and Kashmir, jubilant Jammu and Kashmir National Conference (JKNC) workers celebrated in Srinagar on Tuesday.\\n\\nJKNC leader Omar Abdullah won the Budgam assembly seat by a margin of over 18,000 votes and also the Ganderbal seat. (Waseem Andrabi/HT photo)\") [...] According to the latest ECI figures, JKNC has secured 42 seats, while Congress has won 6 seats. Allied party CPM has won one seat. The BJP has claimed 29 seats. Mehbooba Mufti\\'s Jammu and Kashmir People\\'s Democratic Party (JKPDP) has won three seats.\\n\\n## Omar Abdullah wins his two seats\\n\\nNational Conference (NC) vice president Omar Abdullah won the Budgam assembly seat, defeating PDP\\'s Aga Syed Muntazir Mehdi by more than 18,000 votes. He also won Ganderbal by over 10,000 votes. [...] | Dr. Narinder Singh Raina | BJP | R.S. Pura – Jammu South | WON |\\n| Vikram Randhawa | BJP | Bahu | WON |\\n| Yudhvir Sethi | BJP | Jammu East | WON |\\n| Devender Singh Rana | BJP | Nagrota | WON |\\n| Arvind Gupta | BJP | Jammu West | WON |\\n| Sham Lal Sharma | BJP | Jammu North | WON |\\n| Surinder Kumar | BJP | Marh (SC) | WON |\\n| Mohan Lal | BJP | Akhnoor (SC) | WON |\\n| Satish Sharma | IND | Chhamb | WON |\\n| Randhir Singh | BJP | Kalakote - Sunderbani | WON |', 'score': 0.89030397}, {'title': 'J&K Election Results 2024: Full List of Winners and Constituencies', 'url': 'https://www.financialexpress.com/india-news/jammu-and-kashmir-election-results-2024-live-full-list-of-winners-and-constituencies/3633577/', 'content': 'Jammu and Kashmir Election 2024 Full List of Winners Constituency-wise: The coalition between the National Conference (NC) and Congress has emerged victorious in the Jammu and Kashmir Assembly Elections, marking the first polls since 2014, the initial elections held in a Union Territory, and the first following the repeal of Article 370, which previously granted the region special status. Out of the 90 seats in J&K, the NC and Congress secured 49, while the BJP won 29 and the PDP claimed three. [...] ## J&K Full list of Winners:\\n\\nKARNAH – JAVAID AHMAD MIRCHAL (JKNC)\\n\\nTREHGAM – SAIFULLAH MIR (JKNC)\\n\\nLOLAB – QAYSAR JAMSHAID LONE (JKNC)\\n\\nSOPORE – IRSHAD RASOOL KAR (JKNC)\\n\\nRAFIABAD- JAVID AHMAD DAR (JKNC)\\n\\nURI – SAJJAD SHAFI (JKNC)\\n\\nBARAMULLA- JAVID HASSAN BAIG (JKNC)\\n\\nGULMARG- PIRZADA FAROOQ AHMED SHAH (JKNC)\\n\\nPATTAN- JAVAID RIYAZ (JKNC)\\n\\nSONAWARI – HILAL AKBAR LONE (JKNC)\\n\\nGUREZ – NAZIR AHMAD KHAN (JKNC)\\n\\nKANGAN – MIAN MEHAR ALI (JKNC)\\n\\nGANDERBAL – OMAR ABDULLAH (JKNC)', 'score': 0.8886914}, {'title': \"Jammu Kashmir election results 2024: BJP's vote share highest ...\", 'url': 'https://www.livemint.com/elections/assembly-elections/jammu-kashmir-election-results-2024-omar-abdullah-bjp-vote-share-highest-independent-candidates-win-pdp-congress-nc-11728407247081.html', 'content': \"The Jammu and Kashmir election results 2024 were declared on Tuesday. It was a clean sweep for the Congress-National Conference (NC) alliance. The NC emerged as the single largest party and won 42 seats, while the Congress won six seats. Their alliance won 48 seats - just two more than the majority mark. [...] Jammu Kashmir Election Results 2024: The Bharatiya Janata Party's (BJP) scored the highest vote share in the Jammu and Kashmir Assembly Elections, despite the Congress-National Conference (NC) alliance's winning the polls. This was the first J&K election after the abrogation of Article 370. The Congress-NC will now form the government as it won the majority number of seats in the J&K assembly. [...] menu\\nmint\\n\\n# Jammu Kashmir election results 2024: BJP's vote share highest, Independent candidates win more seats than PDP\\n\\n## Jammu Kashmir election results 2024: The Congress-NC alliance won the elections and will form the government. Independent candidates won more seats than Mehbooba Mufti's People's Democratic Party (PDP) in the Jammu and Kashmir Elections 2024. Here are details.\\n\\nJammu Kashmir Election Results 2024\", 'score': 0.88705814}, {'title': 'Jammu and Kashmir Election Results 2024: NC-Congress Alliance Wins ...', 'url': 'https://frontline.thehindu.com/politics/jammu-kashmir-assembly-election-2024-results-nc-alliance-wins-majority-bjp-strong-jammu-regional-divide/article68746524.ece', 'content': \"Jammu and Kashmir's first Assembly election in a decade yields a split verdict, with the NC-Congress-CPI(M) alliance winning a majority of 49 seats out of 90. The election results reveal a stark regional divide: the NC alliance dominates the Kashmir Valley with 41 out of 47 seats, while the BJP sweeps Jammu with 29 out of 43 seats. The PDP faces a significant setback, dropping from 29 seats\", 'score': 0.87807417}]\u001b[0m\u001b[32;1m\u001b[1;3mThe National Conference (NC) in alliance with the Congress has emerged as the winner in the Jammu and Kashmir Assembly Elections. The NC and Congress secured 49 seats, while the BJP won 29 seats and the PDP claimed three seats. This coalition between the NC and Congress marks the victory in the first polls since 2014 and the first following the repeal of Article 370, which granted the region special status.\u001b[0m\n",
      "\n",
      "\u001b[1m> Finished chain.\u001b[0m\n"
     ]
    },
    {
     "data": {
      "text/plain": [
       "{'input': 'Which party won the election in Jammu and Kashmir?',\n",
       " 'chat_history': [HumanMessage(content='hi! My Name is Ritish', additional_kwargs={}, response_metadata={}),\n",
       "  AIMessage(content='Hello Ritish! How can I assist you today?', additional_kwargs={}, response_metadata={}),\n",
       "  HumanMessage(content=\"What's my name?\", additional_kwargs={}, response_metadata={}),\n",
       "  AIMessage(content='Your name is Ritish. How can I assist you today, Ritish?', additional_kwargs={}, response_metadata={}),\n",
       "  HumanMessage(content='What is the name of the victim?', additional_kwargs={}, response_metadata={}),\n",
       "  AIMessage(content='The victim in the Kolkata Harrassment incident is a law student who alleged that she was raped by the accused, who also filmed the assault and threatened to release it. The prime accused is Manujit Mishra, a former Trinamool Congress Chhatra Parishad leader.', additional_kwargs={}, response_metadata={}),\n",
       "  HumanMessage(content='Who won in the Iran-Israel war?', additional_kwargs={}, response_metadata={}),\n",
       "  AIMessage(content='The information provided does not specify a clear winner in the Iran-Israel war. The conflict between Iran and Israel escalated with both sides engaging in military strikes and retaliation. The situation is complex and ongoing. If you need more specific information or details about the outcome of the conflict, please let me know.', additional_kwargs={}, response_metadata={})],\n",
       " 'output': 'The National Conference (NC) in alliance with the Congress has emerged as the winner in the Jammu and Kashmir Assembly Elections. The NC and Congress secured 49 seats, while the BJP won 29 seats and the PDP claimed three seats. This coalition between the NC and Congress marks the victory in the first polls since 2014 and the first following the repeal of Article 370, which granted the region special status.'}"
      ]
     },
     "execution_count": 87,
     "metadata": {},
     "output_type": "execute_result"
    }
   ],
   "source": [
    "agentWithChatHistory.invoke(\n",
    "    input={\"input\":\"Which party won the election in Jammu and Kashmir?\"},\n",
    "    config={\"configurable\":{\"session_id\":\"<ritish>\"}}\n",
    ")"
   ]
  },
  {
   "cell_type": "code",
   "execution_count": 88,
   "id": "27c55e7e-4de1-4aac-b4a5-470971bddbe5",
   "metadata": {},
   "outputs": [
    {
     "name": "stdout",
     "output_type": "stream",
     "text": [
      "\n",
      "\n",
      "\u001b[1m> Entering new AgentExecutor chain...\u001b[0m\n",
      "\u001b[32;1m\u001b[1;3mSo far, you have asked the following questions:\n",
      "\n",
      "1. What's my name?\n",
      "2. What is the name of the victim?\n",
      "3. Who won in the Iran-Israel war?\n",
      "4. Which party won the election in Jammu and Kashmir?\n",
      "\n",
      "Is there anything else you would like to know or ask about?\u001b[0m\n",
      "\n",
      "\u001b[1m> Finished chain.\u001b[0m\n"
     ]
    },
    {
     "data": {
      "text/plain": [
       "{'input': \"What's are the questions that I have asked so far?\",\n",
       " 'chat_history': [HumanMessage(content='hi! My Name is Ritish', additional_kwargs={}, response_metadata={}),\n",
       "  AIMessage(content='Hello Ritish! How can I assist you today?', additional_kwargs={}, response_metadata={}),\n",
       "  HumanMessage(content=\"What's my name?\", additional_kwargs={}, response_metadata={}),\n",
       "  AIMessage(content='Your name is Ritish. How can I assist you today, Ritish?', additional_kwargs={}, response_metadata={}),\n",
       "  HumanMessage(content='What is the name of the victim?', additional_kwargs={}, response_metadata={}),\n",
       "  AIMessage(content='The victim in the Kolkata Harrassment incident is a law student who alleged that she was raped by the accused, who also filmed the assault and threatened to release it. The prime accused is Manujit Mishra, a former Trinamool Congress Chhatra Parishad leader.', additional_kwargs={}, response_metadata={}),\n",
       "  HumanMessage(content='Who won in the Iran-Israel war?', additional_kwargs={}, response_metadata={}),\n",
       "  AIMessage(content='The information provided does not specify a clear winner in the Iran-Israel war. The conflict between Iran and Israel escalated with both sides engaging in military strikes and retaliation. The situation is complex and ongoing. If you need more specific information or details about the outcome of the conflict, please let me know.', additional_kwargs={}, response_metadata={}),\n",
       "  HumanMessage(content='Which party won the election in Jammu and Kashmir?', additional_kwargs={}, response_metadata={}),\n",
       "  AIMessage(content='The National Conference (NC) in alliance with the Congress has emerged as the winner in the Jammu and Kashmir Assembly Elections. The NC and Congress secured 49 seats, while the BJP won 29 seats and the PDP claimed three seats. This coalition between the NC and Congress marks the victory in the first polls since 2014 and the first following the repeal of Article 370, which granted the region special status.', additional_kwargs={}, response_metadata={})],\n",
       " 'output': \"So far, you have asked the following questions:\\n\\n1. What's my name?\\n2. What is the name of the victim?\\n3. Who won in the Iran-Israel war?\\n4. Which party won the election in Jammu and Kashmir?\\n\\nIs there anything else you would like to know or ask about?\"}"
      ]
     },
     "execution_count": 88,
     "metadata": {},
     "output_type": "execute_result"
    }
   ],
   "source": [
    "agentWithChatHistory.invoke(\n",
    "    input={\"input\":\"What's are the questions that I have asked so far?\"},\n",
    "    config={\"configurable\":{\"session_id\":\"<ritish>\"}}\n",
    ")"
   ]
  },
  {
   "cell_type": "code",
   "execution_count": 89,
   "id": "e9290e9e-d2c1-40eb-bcff-857cdc8d6f52",
   "metadata": {},
   "outputs": [
    {
     "name": "stdout",
     "output_type": "stream",
     "text": [
      "\n",
      "\n",
      "\u001b[1m> Entering new AgentExecutor chain...\u001b[0m\n",
      "\u001b[32;1m\u001b[1;3mYour name is Ritish. How can I assist you today, Ritish?\u001b[0m\n",
      "\n",
      "\u001b[1m> Finished chain.\u001b[0m\n"
     ]
    }
   ],
   "source": [
    "response=agentWithChatHistory.invoke(\n",
    "    input={\"input\":\"What's my name?\"},\n",
    "    config={\"configurable\":{\"session_id\":\"<ritish>\"}}\n",
    ")"
   ]
  },
  {
   "cell_type": "code",
   "execution_count": 92,
   "id": "948746ca-462a-475c-9f12-aa5f232441fb",
   "metadata": {},
   "outputs": [
    {
     "data": {
      "text/plain": [
       "{'input': \"What's my name?\",\n",
       " 'chat_history': [HumanMessage(content='hi! My Name is Ritish', additional_kwargs={}, response_metadata={}),\n",
       "  AIMessage(content='Hello Ritish! How can I assist you today?', additional_kwargs={}, response_metadata={}),\n",
       "  HumanMessage(content=\"What's my name?\", additional_kwargs={}, response_metadata={}),\n",
       "  AIMessage(content='Your name is Ritish. How can I assist you today, Ritish?', additional_kwargs={}, response_metadata={}),\n",
       "  HumanMessage(content='What is the name of the victim?', additional_kwargs={}, response_metadata={}),\n",
       "  AIMessage(content='The victim in the Kolkata Harrassment incident is a law student who alleged that she was raped by the accused, who also filmed the assault and threatened to release it. The prime accused is Manujit Mishra, a former Trinamool Congress Chhatra Parishad leader.', additional_kwargs={}, response_metadata={}),\n",
       "  HumanMessage(content='Who won in the Iran-Israel war?', additional_kwargs={}, response_metadata={}),\n",
       "  AIMessage(content='The information provided does not specify a clear winner in the Iran-Israel war. The conflict between Iran and Israel escalated with both sides engaging in military strikes and retaliation. The situation is complex and ongoing. If you need more specific information or details about the outcome of the conflict, please let me know.', additional_kwargs={}, response_metadata={}),\n",
       "  HumanMessage(content='Which party won the election in Jammu and Kashmir?', additional_kwargs={}, response_metadata={}),\n",
       "  AIMessage(content='The National Conference (NC) in alliance with the Congress has emerged as the winner in the Jammu and Kashmir Assembly Elections. The NC and Congress secured 49 seats, while the BJP won 29 seats and the PDP claimed three seats. This coalition between the NC and Congress marks the victory in the first polls since 2014 and the first following the repeal of Article 370, which granted the region special status.', additional_kwargs={}, response_metadata={}),\n",
       "  HumanMessage(content=\"What's are the questions that I have asked so far?\", additional_kwargs={}, response_metadata={}),\n",
       "  AIMessage(content=\"So far, you have asked the following questions:\\n\\n1. What's my name?\\n2. What is the name of the victim?\\n3. Who won in the Iran-Israel war?\\n4. Which party won the election in Jammu and Kashmir?\\n\\nIs there anything else you would like to know or ask about?\", additional_kwargs={}, response_metadata={})],\n",
       " 'output': 'Your name is Ritish. How can I assist you today, Ritish?'}"
      ]
     },
     "execution_count": 92,
     "metadata": {},
     "output_type": "execute_result"
    }
   ],
   "source": [
    "response"
   ]
  }
 ],
 "metadata": {
  "kernelspec": {
   "display_name": "lcnenv",
   "language": "python",
   "name": "python3"
  },
  "language_info": {
   "codemirror_mode": {
    "name": "ipython",
    "version": 3
   },
   "file_extension": ".py",
   "mimetype": "text/x-python",
   "name": "python",
   "nbconvert_exporter": "python",
   "pygments_lexer": "ipython3",
   "version": "3.11.11"
  }
 },
 "nbformat": 4,
 "nbformat_minor": 5
}
