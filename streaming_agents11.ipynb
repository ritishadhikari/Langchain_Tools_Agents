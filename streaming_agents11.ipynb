{
 "cells": [
  {
   "cell_type": "code",
   "execution_count": 27,
   "id": "c02896f5-cd57-407c-aa2e-97cf9b43efdc",
   "metadata": {},
   "outputs": [],
   "source": [
    "from dotenv import load_dotenv,find_dotenv\n",
    "from langchain_google_genai import ChatGoogleGenerativeAI\n",
    "from langchain_openai import ChatOpenAI\n",
    "\n",
    "from langchain import hub\n",
    "from langchain.agents import AgentExecutor, create_openai_tools_agent,create_tool_calling_agent\n",
    "from langchain.tools import tool\n",
    "from langchain_core.callbacks import Callbacks\n",
    "from langchain.prompts import ChatPromptTemplate\n",
    "import random\n",
    "import pprint"
   ]
  },
  {
   "cell_type": "code",
   "execution_count": 2,
   "id": "d0e983f7-b03f-4c5a-894d-fe7859447d38",
   "metadata": {},
   "outputs": [
    {
     "data": {
      "text/plain": [
       "True"
      ]
     },
     "execution_count": 2,
     "metadata": {},
     "output_type": "execute_result"
    }
   ],
   "source": [
    "load_dotenv(find_dotenv(\"D:\\LLM Courses\\Master Langchain Udemy\\.env\"))"
   ]
  },
  {
   "cell_type": "code",
   "execution_count": 3,
   "id": "dda69fa7-ee57-4d95-8c6f-7000a0ef4810",
   "metadata": {},
   "outputs": [],
   "source": [
    "llmGemini=ChatGoogleGenerativeAI(model=\"gemini-1.5-flash\")\n",
    "llmOpenAI=ChatOpenAI(model=\"gpt-3.5-turbo\")"
   ]
  },
  {
   "cell_type": "markdown",
   "id": "04fe5142-75af-493a-99f8-06e5af291d03",
   "metadata": {},
   "source": [
    "<p>Streaming with Agents are made more complicated by the fact that it's not just tokens of the final answer that you will want to stream, but you may also want to stream back the intermediate steps an agent takes</p>"
   ]
  },
  {
   "cell_type": "code",
   "execution_count": 47,
   "id": "974b20d6-e758-4253-982b-a3973ac4e0eb",
   "metadata": {},
   "outputs": [],
   "source": [
    "@tool\n",
    "async def whereCatisHiding() -> str:\n",
    "    \"\"\"\n",
    "        Where the cat is hiding right now?\n",
    "    \"\"\"\n",
    "    return random.choice(seq=[\"On the Bed\",\"On the Shelf\"])"
   ]
  },
  {
   "cell_type": "code",
   "execution_count": 48,
   "id": "1e8b8615-9261-4020-b2c9-7f039d0097aa",
   "metadata": {},
   "outputs": [],
   "source": [
    "@tool\n",
    "async def getItems(place:str) -> str:\n",
    "    \"\"\"\n",
    "        Use this tool to look up which items are in the given place\n",
    "    \"\"\"\n",
    "    if \"bed\" in place:  # For under the bed\n",
    "        return \"socks, shoes and dust bunnies\"\n",
    "    elif \"shelf\" in place:  # For shelf\n",
    "        return \"books, penciles and pictures\"\n",
    "    else:  # if the agent decides to ask about a different place\n",
    "        return \"cat snacks\""
   ]
  },
  {
   "cell_type": "code",
   "execution_count": 49,
   "id": "57afc077-7bc0-4575-a594-a5a66d5cbda5",
   "metadata": {},
   "outputs": [
    {
     "data": {
      "text/plain": [
       "'On the Bed'"
      ]
     },
     "execution_count": 49,
     "metadata": {},
     "output_type": "execute_result"
    }
   ],
   "source": [
    "await whereCatisHiding.ainvoke(input={})"
   ]
  },
  {
   "cell_type": "code",
   "execution_count": 50,
   "id": "9d125fdc-db43-4618-9ed6-adafdac4ab91",
   "metadata": {},
   "outputs": [
    {
     "data": {
      "text/plain": [
       "'cat snacks'"
      ]
     },
     "execution_count": 50,
     "metadata": {},
     "output_type": "execute_result"
    }
   ],
   "source": [
    "await getItems.ainvoke(input={\"place\":\"almirah\"})"
   ]
  },
  {
   "cell_type": "markdown",
   "id": "793f5a65-f8eb-43c6-8ee5-18a0b4b4dba5",
   "metadata": {},
   "source": [
    "<h3>Initialize the Agent</h3>"
   ]
  },
  {
   "cell_type": "code",
   "execution_count": 51,
   "id": "01ba9131-fb3a-4f70-ad6c-23160634118d",
   "metadata": {},
   "outputs": [
    {
     "name": "stderr",
     "output_type": "stream",
     "text": [
      "C:\\Users\\MSI 1\\.conda\\envs\\oaivenv\\Lib\\site-packages\\langsmith\\client.py:323: LangSmithMissingAPIKeyWarning: API key must be provided when using hosted LangSmith API\n",
      "  warnings.warn(\n"
     ]
    }
   ],
   "source": [
    "prompt=hub.pull(owner_repo_commit=\"hwchase17/openai-tools-agent\")"
   ]
  },
  {
   "cell_type": "code",
   "execution_count": 52,
   "id": "3675f66e-f96f-477d-ac65-5a5b2370577e",
   "metadata": {},
   "outputs": [],
   "source": [
    "tools=[getItems,whereCatisHiding]"
   ]
  },
  {
   "cell_type": "code",
   "execution_count": 53,
   "id": "fefa084e-83d3-4157-9af5-c54d495b4016",
   "metadata": {},
   "outputs": [],
   "source": [
    "agent=create_openai_tools_agent(\n",
    "    llm=llmOpenAI.with_config({\"tags\":[\"agent_llm\"]}),\n",
    "    tools=tools,\n",
    "    prompt=prompt\n",
    ")"
   ]
  },
  {
   "cell_type": "code",
   "execution_count": 54,
   "id": "3658065f-ba0b-44aa-835b-82a413ab2d9e",
   "metadata": {},
   "outputs": [],
   "source": [
    "agentExecutor=AgentExecutor(agent=agent,tools=tools).\\\n",
    "    with_config({\"run_name\":\"Agent\"})  # this config will be used later with astream_events API"
   ]
  },
  {
   "cell_type": "markdown",
   "id": "2a34ee20-1d6b-4a52-8bf8-0ff6fd3d6f19",
   "metadata": {},
   "source": [
    "<h3> Stream Intermediate Steps</h3>\n",
    "<h4>Actions, Observations and Final Answer</h4>"
   ]
  },
  {
   "cell_type": "code",
   "execution_count": 55,
   "id": "954b7286-297f-448a-a6f3-822de37700f1",
   "metadata": {},
   "outputs": [
    {
     "name": "stdout",
     "output_type": "stream",
     "text": [
      "---------\n",
      "{'actions': [...], 'messages': [...]}\n",
      "---------\n",
      "{'messages': [...], 'steps': [...]}\n",
      "---------\n",
      "{'actions': [...], 'messages': [...]}\n",
      "---------\n",
      "{'messages': [...], 'steps': [...]}\n",
      "---------\n",
      "{'messages': [...],\n",
      " 'output': 'The items located where the cat is hiding (on the bed) are cat '\n",
      "           'snacks.'}\n"
     ]
    }
   ],
   "source": [
    "chunks=[]\n",
    "async for chunk in agentExecutor.astream(input={\"input\":\"What items are located where the cat is hiding?\"}):\n",
    "    chunks.append(chunk)\n",
    "    print(\"---------\")\n",
    "    pprint.pprint(object=chunk,depth=1)"
   ]
  },
  {
   "cell_type": "code",
   "execution_count": 62,
   "id": "9409b01c-7e57-4fb6-83ba-a4006b4cf213",
   "metadata": {},
   "outputs": [
    {
     "data": {
      "text/plain": [
       "[{'actions': [ToolAgentAction(tool='whereCatisHiding', tool_input={}, log='\\nInvoking: `whereCatisHiding` with `{}`\\n\\n\\n', message_log=[AIMessageChunk(content='', additional_kwargs={'tool_calls': [{'index': 0, 'id': 'call_vwqj6ZdL69MdhAQjZADBXUW4', 'function': {'arguments': '{}', 'name': 'whereCatisHiding'}, 'type': 'function'}]}, response_metadata={'finish_reason': 'tool_calls', 'model_name': 'gpt-3.5-turbo-0125'}, id='run-430e0c96-1ea7-426d-a638-b912af21ce51', tool_calls=[{'name': 'whereCatisHiding', 'args': {}, 'id': 'call_vwqj6ZdL69MdhAQjZADBXUW4', 'type': 'tool_call'}], tool_call_chunks=[{'name': 'whereCatisHiding', 'args': '{}', 'id': 'call_vwqj6ZdL69MdhAQjZADBXUW4', 'index': 0, 'type': 'tool_call_chunk'}])], tool_call_id='call_vwqj6ZdL69MdhAQjZADBXUW4')],\n",
       "  'messages': [AIMessageChunk(content='', additional_kwargs={'tool_calls': [{'index': 0, 'id': 'call_vwqj6ZdL69MdhAQjZADBXUW4', 'function': {'arguments': '{}', 'name': 'whereCatisHiding'}, 'type': 'function'}]}, response_metadata={'finish_reason': 'tool_calls', 'model_name': 'gpt-3.5-turbo-0125'}, id='run-430e0c96-1ea7-426d-a638-b912af21ce51', tool_calls=[{'name': 'whereCatisHiding', 'args': {}, 'id': 'call_vwqj6ZdL69MdhAQjZADBXUW4', 'type': 'tool_call'}], tool_call_chunks=[{'name': 'whereCatisHiding', 'args': '{}', 'id': 'call_vwqj6ZdL69MdhAQjZADBXUW4', 'index': 0, 'type': 'tool_call_chunk'}])]},\n",
       " {'steps': [AgentStep(action=ToolAgentAction(tool='whereCatisHiding', tool_input={}, log='\\nInvoking: `whereCatisHiding` with `{}`\\n\\n\\n', message_log=[AIMessageChunk(content='', additional_kwargs={'tool_calls': [{'index': 0, 'id': 'call_vwqj6ZdL69MdhAQjZADBXUW4', 'function': {'arguments': '{}', 'name': 'whereCatisHiding'}, 'type': 'function'}]}, response_metadata={'finish_reason': 'tool_calls', 'model_name': 'gpt-3.5-turbo-0125'}, id='run-430e0c96-1ea7-426d-a638-b912af21ce51', tool_calls=[{'name': 'whereCatisHiding', 'args': {}, 'id': 'call_vwqj6ZdL69MdhAQjZADBXUW4', 'type': 'tool_call'}], tool_call_chunks=[{'name': 'whereCatisHiding', 'args': '{}', 'id': 'call_vwqj6ZdL69MdhAQjZADBXUW4', 'index': 0, 'type': 'tool_call_chunk'}])], tool_call_id='call_vwqj6ZdL69MdhAQjZADBXUW4'), observation='On the Bed')],\n",
       "  'messages': [FunctionMessage(content='On the Bed', additional_kwargs={}, response_metadata={}, name='whereCatisHiding')]},\n",
       " {'actions': [ToolAgentAction(tool='getItems', tool_input={'place': 'On the Bed'}, log=\"\\nInvoking: `getItems` with `{'place': 'On the Bed'}`\\n\\n\\n\", message_log=[AIMessageChunk(content='', additional_kwargs={'tool_calls': [{'index': 0, 'id': 'call_ZvrSfkVXgp5I2q4BlqtRwDRe', 'function': {'arguments': '{\"place\":\"On the Bed\"}', 'name': 'getItems'}, 'type': 'function'}]}, response_metadata={'finish_reason': 'tool_calls', 'model_name': 'gpt-3.5-turbo-0125'}, id='run-8ceb80f8-83a5-43d1-bfa6-9c530945e54d', tool_calls=[{'name': 'getItems', 'args': {'place': 'On the Bed'}, 'id': 'call_ZvrSfkVXgp5I2q4BlqtRwDRe', 'type': 'tool_call'}], tool_call_chunks=[{'name': 'getItems', 'args': '{\"place\":\"On the Bed\"}', 'id': 'call_ZvrSfkVXgp5I2q4BlqtRwDRe', 'index': 0, 'type': 'tool_call_chunk'}])], tool_call_id='call_ZvrSfkVXgp5I2q4BlqtRwDRe')],\n",
       "  'messages': [AIMessageChunk(content='', additional_kwargs={'tool_calls': [{'index': 0, 'id': 'call_ZvrSfkVXgp5I2q4BlqtRwDRe', 'function': {'arguments': '{\"place\":\"On the Bed\"}', 'name': 'getItems'}, 'type': 'function'}]}, response_metadata={'finish_reason': 'tool_calls', 'model_name': 'gpt-3.5-turbo-0125'}, id='run-8ceb80f8-83a5-43d1-bfa6-9c530945e54d', tool_calls=[{'name': 'getItems', 'args': {'place': 'On the Bed'}, 'id': 'call_ZvrSfkVXgp5I2q4BlqtRwDRe', 'type': 'tool_call'}], tool_call_chunks=[{'name': 'getItems', 'args': '{\"place\":\"On the Bed\"}', 'id': 'call_ZvrSfkVXgp5I2q4BlqtRwDRe', 'index': 0, 'type': 'tool_call_chunk'}])]},\n",
       " {'steps': [AgentStep(action=ToolAgentAction(tool='getItems', tool_input={'place': 'On the Bed'}, log=\"\\nInvoking: `getItems` with `{'place': 'On the Bed'}`\\n\\n\\n\", message_log=[AIMessageChunk(content='', additional_kwargs={'tool_calls': [{'index': 0, 'id': 'call_ZvrSfkVXgp5I2q4BlqtRwDRe', 'function': {'arguments': '{\"place\":\"On the Bed\"}', 'name': 'getItems'}, 'type': 'function'}]}, response_metadata={'finish_reason': 'tool_calls', 'model_name': 'gpt-3.5-turbo-0125'}, id='run-8ceb80f8-83a5-43d1-bfa6-9c530945e54d', tool_calls=[{'name': 'getItems', 'args': {'place': 'On the Bed'}, 'id': 'call_ZvrSfkVXgp5I2q4BlqtRwDRe', 'type': 'tool_call'}], tool_call_chunks=[{'name': 'getItems', 'args': '{\"place\":\"On the Bed\"}', 'id': 'call_ZvrSfkVXgp5I2q4BlqtRwDRe', 'index': 0, 'type': 'tool_call_chunk'}])], tool_call_id='call_ZvrSfkVXgp5I2q4BlqtRwDRe'), observation='cat snacks')],\n",
       "  'messages': [FunctionMessage(content='cat snacks', additional_kwargs={}, response_metadata={}, name='getItems')]},\n",
       " {'output': 'The items located where the cat is hiding (on the bed) are cat snacks.',\n",
       "  'messages': [AIMessage(content='The items located where the cat is hiding (on the bed) are cat snacks.', additional_kwargs={}, response_metadata={})]}]"
      ]
     },
     "execution_count": 62,
     "metadata": {},
     "output_type": "execute_result"
    }
   ],
   "source": [
    "chunks"
   ]
  },
  {
   "cell_type": "code",
   "execution_count": 61,
   "id": "6437f975-3570-4765-ab1f-a95d8b5ab858",
   "metadata": {},
   "outputs": [
    {
     "name": "stdout",
     "output_type": "stream",
     "text": [
      "[AIMessageChunk(content='', additional_kwargs={'tool_calls': [{'index': 0, 'id': 'call_vwqj6ZdL69MdhAQjZADBXUW4', 'function': {'arguments': '{}', 'name': 'whereCatisHiding'}, 'type': 'function'}]}, response_metadata={'finish_reason': 'tool_calls', 'model_name': 'gpt-3.5-turbo-0125'}, id='run-430e0c96-1ea7-426d-a638-b912af21ce51', tool_calls=[{'name': 'whereCatisHiding', 'args': {}, 'id': 'call_vwqj6ZdL69MdhAQjZADBXUW4', 'type': 'tool_call'}], tool_call_chunks=[{'name': 'whereCatisHiding', 'args': '{}', 'id': 'call_vwqj6ZdL69MdhAQjZADBXUW4', 'index': 0, 'type': 'tool_call_chunk'}])]\n",
      "[FunctionMessage(content='On the Bed', additional_kwargs={}, response_metadata={}, name='whereCatisHiding')]\n",
      "[AIMessageChunk(content='', additional_kwargs={'tool_calls': [{'index': 0, 'id': 'call_ZvrSfkVXgp5I2q4BlqtRwDRe', 'function': {'arguments': '{\"place\":\"On the Bed\"}', 'name': 'getItems'}, 'type': 'function'}]}, response_metadata={'finish_reason': 'tool_calls', 'model_name': 'gpt-3.5-turbo-0125'}, id='run-8ceb80f8-83a5-43d1-bfa6-9c530945e54d', tool_calls=[{'name': 'getItems', 'args': {'place': 'On the Bed'}, 'id': 'call_ZvrSfkVXgp5I2q4BlqtRwDRe', 'type': 'tool_call'}], tool_call_chunks=[{'name': 'getItems', 'args': '{\"place\":\"On the Bed\"}', 'id': 'call_ZvrSfkVXgp5I2q4BlqtRwDRe', 'index': 0, 'type': 'tool_call_chunk'}])]\n",
      "[FunctionMessage(content='cat snacks', additional_kwargs={}, response_metadata={}, name='getItems')]\n",
      "[AIMessage(content='The items located where the cat is hiding (on the bed) are cat snacks.', additional_kwargs={}, response_metadata={})]\n"
     ]
    }
   ],
   "source": [
    "for chunk in chunks:\n",
    "    print(chunk['messages'])"
   ]
  },
  {
   "cell_type": "markdown",
   "id": "da1cedff-9b82-4d94-b36f-d09c6d11050b",
   "metadata": {},
   "source": [
    "<h3>Using AgentAction/Observation</h3>"
   ]
  },
  {
   "cell_type": "code",
   "execution_count": 66,
   "id": "33ee40b8-57b2-49c4-8125-bd4d24a39a7f",
   "metadata": {},
   "outputs": [
    {
     "name": "stdout",
     "output_type": "stream",
     "text": [
      "Calling Tool: whereCatisHiding with Input: {}\n",
      "----\n",
      "Tool Result: On the Shelf\n",
      "----\n",
      "Calling Tool: getItems with Input: {'place': 'On the Shelf'}\n",
      "----\n",
      "Tool Result: cat snacks\n",
      "----\n",
      "Final Output: The items located where the cat is hiding (On the Shelf) are cat snacks.\n",
      "----\n"
     ]
    }
   ],
   "source": [
    "async for chunk in agentExecutor.astream(input={\"input\":\"What items are located where the cat is hiding?\"}):\n",
    "    # Agent Action\n",
    "    if \"actions\" in chunk:\n",
    "        for action in chunk['actions']:\n",
    "            print(f\"Calling Tool: {action.tool} with Input: {action.tool_input}\")\n",
    "    # Observation\n",
    "    elif \"steps\" in chunk:\n",
    "        for step in chunk[\"steps\"]:\n",
    "            print(f\"Tool Result: {step.observation}\")\n",
    "    # Final Result\n",
    "    elif \"output\" in chunk:\n",
    "        print(f\"Final Output: {chunk['output']}\")\n",
    "    else:\n",
    "        raise ValueError\n",
    "    print(\"----\")\n",
    "    \n",
    "            \n",
    "        "
   ]
  },
  {
   "cell_type": "markdown",
   "id": "800fd5dd-3c0f-4739-afda-22114fa7472c",
   "metadata": {},
   "source": [
    "<h3> Custom Streaming with Events</h3>"
   ]
  },
  {
   "cell_type": "code",
   "execution_count": 67,
   "id": "457e3b59-a101-4a9e-9b57-aa0be7deadd3",
   "metadata": {
    "scrolled": true
   },
   "outputs": [
    {
     "name": "stdout",
     "output_type": "stream",
     "text": [
      "{'event': 'on_chain_start', 'data': {'input': {'input': 'What items are located where the cat is hiding?'}}, 'name': 'Agent', 'tags': [], 'run_id': '81c1794c-706f-4eb6-be41-f8b1a583d798', 'metadata': {}, 'parent_ids': []}\n",
      "{'event': 'on_chain_start', 'data': {}, 'name': 'RunnableSequence', 'tags': [], 'run_id': '8ed945bf-ba92-4406-b0eb-dc4b3be8fab4', 'metadata': {}, 'parent_ids': ['81c1794c-706f-4eb6-be41-f8b1a583d798']}\n",
      "{'event': 'on_chain_start', 'data': {}, 'name': 'RunnableAssign<agent_scratchpad>', 'tags': ['seq:step:1'], 'run_id': 'e8142567-5632-48a9-b519-402b243f27e8', 'metadata': {}, 'parent_ids': ['81c1794c-706f-4eb6-be41-f8b1a583d798', '8ed945bf-ba92-4406-b0eb-dc4b3be8fab4']}\n",
      "{'event': 'on_chain_stream', 'run_id': 'e8142567-5632-48a9-b519-402b243f27e8', 'name': 'RunnableAssign<agent_scratchpad>', 'tags': ['seq:step:1'], 'metadata': {}, 'data': {'chunk': {'input': 'What items are located where the cat is hiding?', 'intermediate_steps': []}}, 'parent_ids': ['81c1794c-706f-4eb6-be41-f8b1a583d798', '8ed945bf-ba92-4406-b0eb-dc4b3be8fab4']}\n",
      "{'event': 'on_chain_start', 'data': {}, 'name': 'RunnableParallel<agent_scratchpad>', 'tags': [], 'run_id': 'f679cb30-f44d-489d-a2a8-f5997ac43b01', 'metadata': {}, 'parent_ids': ['81c1794c-706f-4eb6-be41-f8b1a583d798', '8ed945bf-ba92-4406-b0eb-dc4b3be8fab4', 'e8142567-5632-48a9-b519-402b243f27e8']}\n",
      "{'event': 'on_chain_start', 'data': {}, 'name': 'RunnableLambda', 'tags': ['map:key:agent_scratchpad'], 'run_id': '925e171e-e599-4052-ba4e-1db673ff0106', 'metadata': {}, 'parent_ids': ['81c1794c-706f-4eb6-be41-f8b1a583d798', '8ed945bf-ba92-4406-b0eb-dc4b3be8fab4', 'e8142567-5632-48a9-b519-402b243f27e8', 'f679cb30-f44d-489d-a2a8-f5997ac43b01']}\n",
      "{'event': 'on_chain_stream', 'run_id': '925e171e-e599-4052-ba4e-1db673ff0106', 'name': 'RunnableLambda', 'tags': ['map:key:agent_scratchpad'], 'metadata': {}, 'data': {'chunk': []}, 'parent_ids': ['81c1794c-706f-4eb6-be41-f8b1a583d798', '8ed945bf-ba92-4406-b0eb-dc4b3be8fab4', 'e8142567-5632-48a9-b519-402b243f27e8', 'f679cb30-f44d-489d-a2a8-f5997ac43b01']}\n",
      "{'event': 'on_chain_stream', 'run_id': 'f679cb30-f44d-489d-a2a8-f5997ac43b01', 'name': 'RunnableParallel<agent_scratchpad>', 'tags': [], 'metadata': {}, 'data': {'chunk': {'agent_scratchpad': []}}, 'parent_ids': ['81c1794c-706f-4eb6-be41-f8b1a583d798', '8ed945bf-ba92-4406-b0eb-dc4b3be8fab4', 'e8142567-5632-48a9-b519-402b243f27e8']}\n",
      "{'event': 'on_chain_stream', 'run_id': 'e8142567-5632-48a9-b519-402b243f27e8', 'name': 'RunnableAssign<agent_scratchpad>', 'tags': ['seq:step:1'], 'metadata': {}, 'data': {'chunk': {'agent_scratchpad': []}}, 'parent_ids': ['81c1794c-706f-4eb6-be41-f8b1a583d798', '8ed945bf-ba92-4406-b0eb-dc4b3be8fab4']}\n",
      "{'event': 'on_chain_end', 'data': {'output': [], 'input': {'input': 'What items are located where the cat is hiding?', 'intermediate_steps': []}}, 'run_id': '925e171e-e599-4052-ba4e-1db673ff0106', 'name': 'RunnableLambda', 'tags': ['map:key:agent_scratchpad'], 'metadata': {}, 'parent_ids': ['81c1794c-706f-4eb6-be41-f8b1a583d798', '8ed945bf-ba92-4406-b0eb-dc4b3be8fab4', 'e8142567-5632-48a9-b519-402b243f27e8', 'f679cb30-f44d-489d-a2a8-f5997ac43b01']}\n",
      "{'event': 'on_chain_end', 'data': {'output': {'agent_scratchpad': []}, 'input': {'input': 'What items are located where the cat is hiding?', 'intermediate_steps': []}}, 'run_id': 'f679cb30-f44d-489d-a2a8-f5997ac43b01', 'name': 'RunnableParallel<agent_scratchpad>', 'tags': [], 'metadata': {}, 'parent_ids': ['81c1794c-706f-4eb6-be41-f8b1a583d798', '8ed945bf-ba92-4406-b0eb-dc4b3be8fab4', 'e8142567-5632-48a9-b519-402b243f27e8']}\n",
      "{'event': 'on_chain_end', 'data': {'output': {'input': 'What items are located where the cat is hiding?', 'intermediate_steps': [], 'agent_scratchpad': []}, 'input': {'input': 'What items are located where the cat is hiding?', 'intermediate_steps': []}}, 'run_id': 'e8142567-5632-48a9-b519-402b243f27e8', 'name': 'RunnableAssign<agent_scratchpad>', 'tags': ['seq:step:1'], 'metadata': {}, 'parent_ids': ['81c1794c-706f-4eb6-be41-f8b1a583d798', '8ed945bf-ba92-4406-b0eb-dc4b3be8fab4']}\n",
      "{'event': 'on_prompt_start', 'data': {'input': {'input': 'What items are located where the cat is hiding?', 'intermediate_steps': [], 'agent_scratchpad': []}}, 'name': 'ChatPromptTemplate', 'tags': ['seq:step:2'], 'run_id': 'ecc095da-46ba-4620-8677-a0fa726450bd', 'metadata': {'lc_hub_owner': 'hwchase17', 'lc_hub_repo': 'openai-tools-agent', 'lc_hub_commit_hash': 'c18672812789a3b9697656dd539edf0120285dcae36396d0b548ae42a4ed66f5'}, 'parent_ids': ['81c1794c-706f-4eb6-be41-f8b1a583d798', '8ed945bf-ba92-4406-b0eb-dc4b3be8fab4']}\n",
      "{'event': 'on_prompt_end', 'data': {'output': ChatPromptValue(messages=[SystemMessage(content='You are a helpful assistant', additional_kwargs={}, response_metadata={}), HumanMessage(content='What items are located where the cat is hiding?', additional_kwargs={}, response_metadata={})]), 'input': {'input': 'What items are located where the cat is hiding?', 'intermediate_steps': [], 'agent_scratchpad': []}}, 'run_id': 'ecc095da-46ba-4620-8677-a0fa726450bd', 'name': 'ChatPromptTemplate', 'tags': ['seq:step:2'], 'metadata': {'lc_hub_owner': 'hwchase17', 'lc_hub_repo': 'openai-tools-agent', 'lc_hub_commit_hash': 'c18672812789a3b9697656dd539edf0120285dcae36396d0b548ae42a4ed66f5'}, 'parent_ids': ['81c1794c-706f-4eb6-be41-f8b1a583d798', '8ed945bf-ba92-4406-b0eb-dc4b3be8fab4']}\n",
      "{'event': 'on_chat_model_start', 'data': {'input': {'messages': [[SystemMessage(content='You are a helpful assistant', additional_kwargs={}, response_metadata={}), HumanMessage(content='What items are located where the cat is hiding?', additional_kwargs={}, response_metadata={})]]}}, 'name': 'ChatOpenAI', 'tags': ['seq:step:3', 'agent_llm'], 'run_id': 'f0f4a3e4-70ac-49ba-93ad-2db384329cce', 'metadata': {'ls_provider': 'openai', 'ls_model_name': 'gpt-3.5-turbo', 'ls_model_type': 'chat', 'ls_temperature': 0.7}, 'parent_ids': ['81c1794c-706f-4eb6-be41-f8b1a583d798', '8ed945bf-ba92-4406-b0eb-dc4b3be8fab4']}\n",
      "{'event': 'on_chat_model_stream', 'data': {'chunk': AIMessageChunk(content='', additional_kwargs={'tool_calls': [{'index': 0, 'id': 'call_bOH2sfEJTk2Jv5rwmKGsd602', 'function': {'arguments': '', 'name': 'whereCatisHiding'}, 'type': 'function'}]}, response_metadata={}, id='run-f0f4a3e4-70ac-49ba-93ad-2db384329cce', tool_calls=[{'name': 'whereCatisHiding', 'args': {}, 'id': 'call_bOH2sfEJTk2Jv5rwmKGsd602', 'type': 'tool_call'}], tool_call_chunks=[{'name': 'whereCatisHiding', 'args': '', 'id': 'call_bOH2sfEJTk2Jv5rwmKGsd602', 'index': 0, 'type': 'tool_call_chunk'}])}, 'run_id': 'f0f4a3e4-70ac-49ba-93ad-2db384329cce', 'name': 'ChatOpenAI', 'tags': ['seq:step:3', 'agent_llm'], 'metadata': {'ls_provider': 'openai', 'ls_model_name': 'gpt-3.5-turbo', 'ls_model_type': 'chat', 'ls_temperature': 0.7}, 'parent_ids': ['81c1794c-706f-4eb6-be41-f8b1a583d798', '8ed945bf-ba92-4406-b0eb-dc4b3be8fab4']}\n",
      "{'event': 'on_chat_model_stream', 'data': {'chunk': AIMessageChunk(content='', additional_kwargs={'tool_calls': [{'index': 0, 'id': None, 'function': {'arguments': '{}', 'name': None}, 'type': None}]}, response_metadata={}, id='run-f0f4a3e4-70ac-49ba-93ad-2db384329cce', tool_calls=[{'name': '', 'args': {}, 'id': None, 'type': 'tool_call'}], tool_call_chunks=[{'name': None, 'args': '{}', 'id': None, 'index': 0, 'type': 'tool_call_chunk'}])}, 'run_id': 'f0f4a3e4-70ac-49ba-93ad-2db384329cce', 'name': 'ChatOpenAI', 'tags': ['seq:step:3', 'agent_llm'], 'metadata': {'ls_provider': 'openai', 'ls_model_name': 'gpt-3.5-turbo', 'ls_model_type': 'chat', 'ls_temperature': 0.7}, 'parent_ids': ['81c1794c-706f-4eb6-be41-f8b1a583d798', '8ed945bf-ba92-4406-b0eb-dc4b3be8fab4']}\n",
      "{'event': 'on_chat_model_stream', 'data': {'chunk': AIMessageChunk(content='', additional_kwargs={}, response_metadata={'finish_reason': 'tool_calls', 'model_name': 'gpt-3.5-turbo-0125'}, id='run-f0f4a3e4-70ac-49ba-93ad-2db384329cce')}, 'run_id': 'f0f4a3e4-70ac-49ba-93ad-2db384329cce', 'name': 'ChatOpenAI', 'tags': ['seq:step:3', 'agent_llm'], 'metadata': {'ls_provider': 'openai', 'ls_model_name': 'gpt-3.5-turbo', 'ls_model_type': 'chat', 'ls_temperature': 0.7}, 'parent_ids': ['81c1794c-706f-4eb6-be41-f8b1a583d798', '8ed945bf-ba92-4406-b0eb-dc4b3be8fab4']}\n",
      "{'event': 'on_chat_model_end', 'data': {'output': AIMessageChunk(content='', additional_kwargs={'tool_calls': [{'index': 0, 'id': 'call_bOH2sfEJTk2Jv5rwmKGsd602', 'function': {'arguments': '{}', 'name': 'whereCatisHiding'}, 'type': 'function'}]}, response_metadata={'finish_reason': 'tool_calls', 'model_name': 'gpt-3.5-turbo-0125'}, id='run-f0f4a3e4-70ac-49ba-93ad-2db384329cce', tool_calls=[{'name': 'whereCatisHiding', 'args': {}, 'id': 'call_bOH2sfEJTk2Jv5rwmKGsd602', 'type': 'tool_call'}], tool_call_chunks=[{'name': 'whereCatisHiding', 'args': '{}', 'id': 'call_bOH2sfEJTk2Jv5rwmKGsd602', 'index': 0, 'type': 'tool_call_chunk'}]), 'input': {'messages': [[SystemMessage(content='You are a helpful assistant', additional_kwargs={}, response_metadata={}), HumanMessage(content='What items are located where the cat is hiding?', additional_kwargs={}, response_metadata={})]]}}, 'run_id': 'f0f4a3e4-70ac-49ba-93ad-2db384329cce', 'name': 'ChatOpenAI', 'tags': ['seq:step:3', 'agent_llm'], 'metadata': {'ls_provider': 'openai', 'ls_model_name': 'gpt-3.5-turbo', 'ls_model_type': 'chat', 'ls_temperature': 0.7}, 'parent_ids': ['81c1794c-706f-4eb6-be41-f8b1a583d798', '8ed945bf-ba92-4406-b0eb-dc4b3be8fab4']}\n",
      "{'event': 'on_parser_start', 'data': {'input': AIMessageChunk(content='', additional_kwargs={'tool_calls': [{'index': 0, 'id': 'call_bOH2sfEJTk2Jv5rwmKGsd602', 'function': {'arguments': '{}', 'name': 'whereCatisHiding'}, 'type': 'function'}]}, response_metadata={'finish_reason': 'tool_calls', 'model_name': 'gpt-3.5-turbo-0125'}, id='run-f0f4a3e4-70ac-49ba-93ad-2db384329cce', tool_calls=[{'name': 'whereCatisHiding', 'args': {}, 'id': 'call_bOH2sfEJTk2Jv5rwmKGsd602', 'type': 'tool_call'}], tool_call_chunks=[{'name': 'whereCatisHiding', 'args': '{}', 'id': 'call_bOH2sfEJTk2Jv5rwmKGsd602', 'index': 0, 'type': 'tool_call_chunk'}])}, 'name': 'OpenAIToolsAgentOutputParser', 'tags': ['seq:step:4'], 'run_id': 'fce54dad-a03e-4ed9-aba2-b38efb297b38', 'metadata': {}, 'parent_ids': ['81c1794c-706f-4eb6-be41-f8b1a583d798', '8ed945bf-ba92-4406-b0eb-dc4b3be8fab4']}\n",
      "{'event': 'on_parser_end', 'data': {'output': [ToolAgentAction(tool='whereCatisHiding', tool_input={}, log='\\nInvoking: `whereCatisHiding` with `{}`\\n\\n\\n', message_log=[AIMessageChunk(content='', additional_kwargs={'tool_calls': [{'index': 0, 'id': 'call_bOH2sfEJTk2Jv5rwmKGsd602', 'function': {'arguments': '{}', 'name': 'whereCatisHiding'}, 'type': 'function'}]}, response_metadata={'finish_reason': 'tool_calls', 'model_name': 'gpt-3.5-turbo-0125'}, id='run-f0f4a3e4-70ac-49ba-93ad-2db384329cce', tool_calls=[{'name': 'whereCatisHiding', 'args': {}, 'id': 'call_bOH2sfEJTk2Jv5rwmKGsd602', 'type': 'tool_call'}], tool_call_chunks=[{'name': 'whereCatisHiding', 'args': '{}', 'id': 'call_bOH2sfEJTk2Jv5rwmKGsd602', 'index': 0, 'type': 'tool_call_chunk'}])], tool_call_id='call_bOH2sfEJTk2Jv5rwmKGsd602')], 'input': AIMessageChunk(content='', additional_kwargs={'tool_calls': [{'index': 0, 'id': 'call_bOH2sfEJTk2Jv5rwmKGsd602', 'function': {'arguments': '{}', 'name': 'whereCatisHiding'}, 'type': 'function'}]}, response_metadata={'finish_reason': 'tool_calls', 'model_name': 'gpt-3.5-turbo-0125'}, id='run-f0f4a3e4-70ac-49ba-93ad-2db384329cce', tool_calls=[{'name': 'whereCatisHiding', 'args': {}, 'id': 'call_bOH2sfEJTk2Jv5rwmKGsd602', 'type': 'tool_call'}], tool_call_chunks=[{'name': 'whereCatisHiding', 'args': '{}', 'id': 'call_bOH2sfEJTk2Jv5rwmKGsd602', 'index': 0, 'type': 'tool_call_chunk'}])}, 'run_id': 'fce54dad-a03e-4ed9-aba2-b38efb297b38', 'name': 'OpenAIToolsAgentOutputParser', 'tags': ['seq:step:4'], 'metadata': {}, 'parent_ids': ['81c1794c-706f-4eb6-be41-f8b1a583d798', '8ed945bf-ba92-4406-b0eb-dc4b3be8fab4']}\n",
      "{'event': 'on_chain_stream', 'run_id': '8ed945bf-ba92-4406-b0eb-dc4b3be8fab4', 'name': 'RunnableSequence', 'tags': [], 'metadata': {}, 'data': {'chunk': [ToolAgentAction(tool='whereCatisHiding', tool_input={}, log='\\nInvoking: `whereCatisHiding` with `{}`\\n\\n\\n', message_log=[AIMessageChunk(content='', additional_kwargs={'tool_calls': [{'index': 0, 'id': 'call_bOH2sfEJTk2Jv5rwmKGsd602', 'function': {'arguments': '{}', 'name': 'whereCatisHiding'}, 'type': 'function'}]}, response_metadata={'finish_reason': 'tool_calls', 'model_name': 'gpt-3.5-turbo-0125'}, id='run-f0f4a3e4-70ac-49ba-93ad-2db384329cce', tool_calls=[{'name': 'whereCatisHiding', 'args': {}, 'id': 'call_bOH2sfEJTk2Jv5rwmKGsd602', 'type': 'tool_call'}], tool_call_chunks=[{'name': 'whereCatisHiding', 'args': '{}', 'id': 'call_bOH2sfEJTk2Jv5rwmKGsd602', 'index': 0, 'type': 'tool_call_chunk'}])], tool_call_id='call_bOH2sfEJTk2Jv5rwmKGsd602')]}, 'parent_ids': ['81c1794c-706f-4eb6-be41-f8b1a583d798']}\n",
      "{'event': 'on_chain_end', 'data': {'output': [ToolAgentAction(tool='whereCatisHiding', tool_input={}, log='\\nInvoking: `whereCatisHiding` with `{}`\\n\\n\\n', message_log=[AIMessageChunk(content='', additional_kwargs={'tool_calls': [{'index': 0, 'id': 'call_bOH2sfEJTk2Jv5rwmKGsd602', 'function': {'arguments': '{}', 'name': 'whereCatisHiding'}, 'type': 'function'}]}, response_metadata={'finish_reason': 'tool_calls', 'model_name': 'gpt-3.5-turbo-0125'}, id='run-f0f4a3e4-70ac-49ba-93ad-2db384329cce', tool_calls=[{'name': 'whereCatisHiding', 'args': {}, 'id': 'call_bOH2sfEJTk2Jv5rwmKGsd602', 'type': 'tool_call'}], tool_call_chunks=[{'name': 'whereCatisHiding', 'args': '{}', 'id': 'call_bOH2sfEJTk2Jv5rwmKGsd602', 'index': 0, 'type': 'tool_call_chunk'}])], tool_call_id='call_bOH2sfEJTk2Jv5rwmKGsd602')], 'input': {'input': 'What items are located where the cat is hiding?', 'intermediate_steps': []}}, 'run_id': '8ed945bf-ba92-4406-b0eb-dc4b3be8fab4', 'name': 'RunnableSequence', 'tags': [], 'metadata': {}, 'parent_ids': ['81c1794c-706f-4eb6-be41-f8b1a583d798']}\n",
      "{'event': 'on_chain_stream', 'run_id': '81c1794c-706f-4eb6-be41-f8b1a583d798', 'name': 'Agent', 'tags': [], 'metadata': {}, 'data': {'chunk': {'actions': [ToolAgentAction(tool='whereCatisHiding', tool_input={}, log='\\nInvoking: `whereCatisHiding` with `{}`\\n\\n\\n', message_log=[AIMessageChunk(content='', additional_kwargs={'tool_calls': [{'index': 0, 'id': 'call_bOH2sfEJTk2Jv5rwmKGsd602', 'function': {'arguments': '{}', 'name': 'whereCatisHiding'}, 'type': 'function'}]}, response_metadata={'finish_reason': 'tool_calls', 'model_name': 'gpt-3.5-turbo-0125'}, id='run-f0f4a3e4-70ac-49ba-93ad-2db384329cce', tool_calls=[{'name': 'whereCatisHiding', 'args': {}, 'id': 'call_bOH2sfEJTk2Jv5rwmKGsd602', 'type': 'tool_call'}], tool_call_chunks=[{'name': 'whereCatisHiding', 'args': '{}', 'id': 'call_bOH2sfEJTk2Jv5rwmKGsd602', 'index': 0, 'type': 'tool_call_chunk'}])], tool_call_id='call_bOH2sfEJTk2Jv5rwmKGsd602')], 'messages': [AIMessageChunk(content='', additional_kwargs={'tool_calls': [{'index': 0, 'id': 'call_bOH2sfEJTk2Jv5rwmKGsd602', 'function': {'arguments': '{}', 'name': 'whereCatisHiding'}, 'type': 'function'}]}, response_metadata={'finish_reason': 'tool_calls', 'model_name': 'gpt-3.5-turbo-0125'}, id='run-f0f4a3e4-70ac-49ba-93ad-2db384329cce', tool_calls=[{'name': 'whereCatisHiding', 'args': {}, 'id': 'call_bOH2sfEJTk2Jv5rwmKGsd602', 'type': 'tool_call'}], tool_call_chunks=[{'name': 'whereCatisHiding', 'args': '{}', 'id': 'call_bOH2sfEJTk2Jv5rwmKGsd602', 'index': 0, 'type': 'tool_call_chunk'}])]}}, 'parent_ids': []}\n",
      "{'event': 'on_tool_start', 'data': {'input': {}}, 'name': 'whereCatisHiding', 'tags': [], 'run_id': '5634b6a1-3084-4951-bded-20b81397fd95', 'metadata': {}, 'parent_ids': ['81c1794c-706f-4eb6-be41-f8b1a583d798']}\n",
      "{'event': 'on_tool_end', 'data': {'output': 'On the Bed', 'input': {}}, 'run_id': '5634b6a1-3084-4951-bded-20b81397fd95', 'name': 'whereCatisHiding', 'tags': [], 'metadata': {}, 'parent_ids': ['81c1794c-706f-4eb6-be41-f8b1a583d798']}\n",
      "{'event': 'on_chain_stream', 'run_id': '81c1794c-706f-4eb6-be41-f8b1a583d798', 'name': 'Agent', 'tags': [], 'metadata': {}, 'data': {'chunk': {'steps': [AgentStep(action=ToolAgentAction(tool='whereCatisHiding', tool_input={}, log='\\nInvoking: `whereCatisHiding` with `{}`\\n\\n\\n', message_log=[AIMessageChunk(content='', additional_kwargs={'tool_calls': [{'index': 0, 'id': 'call_bOH2sfEJTk2Jv5rwmKGsd602', 'function': {'arguments': '{}', 'name': 'whereCatisHiding'}, 'type': 'function'}]}, response_metadata={'finish_reason': 'tool_calls', 'model_name': 'gpt-3.5-turbo-0125'}, id='run-f0f4a3e4-70ac-49ba-93ad-2db384329cce', tool_calls=[{'name': 'whereCatisHiding', 'args': {}, 'id': 'call_bOH2sfEJTk2Jv5rwmKGsd602', 'type': 'tool_call'}], tool_call_chunks=[{'name': 'whereCatisHiding', 'args': '{}', 'id': 'call_bOH2sfEJTk2Jv5rwmKGsd602', 'index': 0, 'type': 'tool_call_chunk'}])], tool_call_id='call_bOH2sfEJTk2Jv5rwmKGsd602'), observation='On the Bed')], 'messages': [FunctionMessage(content='On the Bed', additional_kwargs={}, response_metadata={}, name='whereCatisHiding')]}}, 'parent_ids': []}\n",
      "{'event': 'on_chain_start', 'data': {}, 'name': 'RunnableSequence', 'tags': [], 'run_id': '5bc37ddd-ef31-406c-9565-054c78c22643', 'metadata': {}, 'parent_ids': ['81c1794c-706f-4eb6-be41-f8b1a583d798']}\n",
      "{'event': 'on_chain_start', 'data': {}, 'name': 'RunnableAssign<agent_scratchpad>', 'tags': ['seq:step:1'], 'run_id': '74c29b97-ced3-41bd-ac9c-8213dbec11cc', 'metadata': {}, 'parent_ids': ['81c1794c-706f-4eb6-be41-f8b1a583d798', '5bc37ddd-ef31-406c-9565-054c78c22643']}\n",
      "{'event': 'on_chain_stream', 'run_id': '74c29b97-ced3-41bd-ac9c-8213dbec11cc', 'name': 'RunnableAssign<agent_scratchpad>', 'tags': ['seq:step:1'], 'metadata': {}, 'data': {'chunk': {'input': 'What items are located where the cat is hiding?', 'intermediate_steps': [(ToolAgentAction(tool='whereCatisHiding', tool_input={}, log='\\nInvoking: `whereCatisHiding` with `{}`\\n\\n\\n', message_log=[AIMessageChunk(content='', additional_kwargs={'tool_calls': [{'index': 0, 'id': 'call_bOH2sfEJTk2Jv5rwmKGsd602', 'function': {'arguments': '{}', 'name': 'whereCatisHiding'}, 'type': 'function'}]}, response_metadata={'finish_reason': 'tool_calls', 'model_name': 'gpt-3.5-turbo-0125'}, id='run-f0f4a3e4-70ac-49ba-93ad-2db384329cce', tool_calls=[{'name': 'whereCatisHiding', 'args': {}, 'id': 'call_bOH2sfEJTk2Jv5rwmKGsd602', 'type': 'tool_call'}], tool_call_chunks=[{'name': 'whereCatisHiding', 'args': '{}', 'id': 'call_bOH2sfEJTk2Jv5rwmKGsd602', 'index': 0, 'type': 'tool_call_chunk'}])], tool_call_id='call_bOH2sfEJTk2Jv5rwmKGsd602'), 'On the Bed')]}}, 'parent_ids': ['81c1794c-706f-4eb6-be41-f8b1a583d798', '5bc37ddd-ef31-406c-9565-054c78c22643']}\n",
      "{'event': 'on_chain_start', 'data': {}, 'name': 'RunnableParallel<agent_scratchpad>', 'tags': [], 'run_id': 'c228007d-0f03-4dc7-8edc-c45e66e139d7', 'metadata': {}, 'parent_ids': ['81c1794c-706f-4eb6-be41-f8b1a583d798', '5bc37ddd-ef31-406c-9565-054c78c22643', '74c29b97-ced3-41bd-ac9c-8213dbec11cc']}\n",
      "{'event': 'on_chain_start', 'data': {}, 'name': 'RunnableLambda', 'tags': ['map:key:agent_scratchpad'], 'run_id': 'a7b348cb-d839-4990-996a-c8278cbc3273', 'metadata': {}, 'parent_ids': ['81c1794c-706f-4eb6-be41-f8b1a583d798', '5bc37ddd-ef31-406c-9565-054c78c22643', '74c29b97-ced3-41bd-ac9c-8213dbec11cc', 'c228007d-0f03-4dc7-8edc-c45e66e139d7']}\n",
      "{'event': 'on_chain_stream', 'run_id': 'a7b348cb-d839-4990-996a-c8278cbc3273', 'name': 'RunnableLambda', 'tags': ['map:key:agent_scratchpad'], 'metadata': {}, 'data': {'chunk': [AIMessageChunk(content='', additional_kwargs={'tool_calls': [{'index': 0, 'id': 'call_bOH2sfEJTk2Jv5rwmKGsd602', 'function': {'arguments': '{}', 'name': 'whereCatisHiding'}, 'type': 'function'}]}, response_metadata={'finish_reason': 'tool_calls', 'model_name': 'gpt-3.5-turbo-0125'}, id='run-f0f4a3e4-70ac-49ba-93ad-2db384329cce', tool_calls=[{'name': 'whereCatisHiding', 'args': {}, 'id': 'call_bOH2sfEJTk2Jv5rwmKGsd602', 'type': 'tool_call'}], tool_call_chunks=[{'name': 'whereCatisHiding', 'args': '{}', 'id': 'call_bOH2sfEJTk2Jv5rwmKGsd602', 'index': 0, 'type': 'tool_call_chunk'}]), ToolMessage(content='On the Bed', tool_call_id='call_bOH2sfEJTk2Jv5rwmKGsd602')]}, 'parent_ids': ['81c1794c-706f-4eb6-be41-f8b1a583d798', '5bc37ddd-ef31-406c-9565-054c78c22643', '74c29b97-ced3-41bd-ac9c-8213dbec11cc', 'c228007d-0f03-4dc7-8edc-c45e66e139d7']}\n",
      "{'event': 'on_chain_stream', 'run_id': 'c228007d-0f03-4dc7-8edc-c45e66e139d7', 'name': 'RunnableParallel<agent_scratchpad>', 'tags': [], 'metadata': {}, 'data': {'chunk': {'agent_scratchpad': [AIMessageChunk(content='', additional_kwargs={'tool_calls': [{'index': 0, 'id': 'call_bOH2sfEJTk2Jv5rwmKGsd602', 'function': {'arguments': '{}', 'name': 'whereCatisHiding'}, 'type': 'function'}]}, response_metadata={'finish_reason': 'tool_calls', 'model_name': 'gpt-3.5-turbo-0125'}, id='run-f0f4a3e4-70ac-49ba-93ad-2db384329cce', tool_calls=[{'name': 'whereCatisHiding', 'args': {}, 'id': 'call_bOH2sfEJTk2Jv5rwmKGsd602', 'type': 'tool_call'}], tool_call_chunks=[{'name': 'whereCatisHiding', 'args': '{}', 'id': 'call_bOH2sfEJTk2Jv5rwmKGsd602', 'index': 0, 'type': 'tool_call_chunk'}]), ToolMessage(content='On the Bed', tool_call_id='call_bOH2sfEJTk2Jv5rwmKGsd602')]}}, 'parent_ids': ['81c1794c-706f-4eb6-be41-f8b1a583d798', '5bc37ddd-ef31-406c-9565-054c78c22643', '74c29b97-ced3-41bd-ac9c-8213dbec11cc']}\n",
      "{'event': 'on_chain_stream', 'run_id': '74c29b97-ced3-41bd-ac9c-8213dbec11cc', 'name': 'RunnableAssign<agent_scratchpad>', 'tags': ['seq:step:1'], 'metadata': {}, 'data': {'chunk': {'agent_scratchpad': [AIMessageChunk(content='', additional_kwargs={'tool_calls': [{'index': 0, 'id': 'call_bOH2sfEJTk2Jv5rwmKGsd602', 'function': {'arguments': '{}', 'name': 'whereCatisHiding'}, 'type': 'function'}]}, response_metadata={'finish_reason': 'tool_calls', 'model_name': 'gpt-3.5-turbo-0125'}, id='run-f0f4a3e4-70ac-49ba-93ad-2db384329cce', tool_calls=[{'name': 'whereCatisHiding', 'args': {}, 'id': 'call_bOH2sfEJTk2Jv5rwmKGsd602', 'type': 'tool_call'}], tool_call_chunks=[{'name': 'whereCatisHiding', 'args': '{}', 'id': 'call_bOH2sfEJTk2Jv5rwmKGsd602', 'index': 0, 'type': 'tool_call_chunk'}]), ToolMessage(content='On the Bed', tool_call_id='call_bOH2sfEJTk2Jv5rwmKGsd602')]}}, 'parent_ids': ['81c1794c-706f-4eb6-be41-f8b1a583d798', '5bc37ddd-ef31-406c-9565-054c78c22643']}\n",
      "{'event': 'on_chain_end', 'data': {'output': [AIMessageChunk(content='', additional_kwargs={'tool_calls': [{'index': 0, 'id': 'call_bOH2sfEJTk2Jv5rwmKGsd602', 'function': {'arguments': '{}', 'name': 'whereCatisHiding'}, 'type': 'function'}]}, response_metadata={'finish_reason': 'tool_calls', 'model_name': 'gpt-3.5-turbo-0125'}, id='run-f0f4a3e4-70ac-49ba-93ad-2db384329cce', tool_calls=[{'name': 'whereCatisHiding', 'args': {}, 'id': 'call_bOH2sfEJTk2Jv5rwmKGsd602', 'type': 'tool_call'}], tool_call_chunks=[{'name': 'whereCatisHiding', 'args': '{}', 'id': 'call_bOH2sfEJTk2Jv5rwmKGsd602', 'index': 0, 'type': 'tool_call_chunk'}]), ToolMessage(content='On the Bed', tool_call_id='call_bOH2sfEJTk2Jv5rwmKGsd602')], 'input': {'input': 'What items are located where the cat is hiding?', 'intermediate_steps': [(ToolAgentAction(tool='whereCatisHiding', tool_input={}, log='\\nInvoking: `whereCatisHiding` with `{}`\\n\\n\\n', message_log=[AIMessageChunk(content='', additional_kwargs={'tool_calls': [{'index': 0, 'id': 'call_bOH2sfEJTk2Jv5rwmKGsd602', 'function': {'arguments': '{}', 'name': 'whereCatisHiding'}, 'type': 'function'}]}, response_metadata={'finish_reason': 'tool_calls', 'model_name': 'gpt-3.5-turbo-0125'}, id='run-f0f4a3e4-70ac-49ba-93ad-2db384329cce', tool_calls=[{'name': 'whereCatisHiding', 'args': {}, 'id': 'call_bOH2sfEJTk2Jv5rwmKGsd602', 'type': 'tool_call'}], tool_call_chunks=[{'name': 'whereCatisHiding', 'args': '{}', 'id': 'call_bOH2sfEJTk2Jv5rwmKGsd602', 'index': 0, 'type': 'tool_call_chunk'}])], tool_call_id='call_bOH2sfEJTk2Jv5rwmKGsd602'), 'On the Bed')]}}, 'run_id': 'a7b348cb-d839-4990-996a-c8278cbc3273', 'name': 'RunnableLambda', 'tags': ['map:key:agent_scratchpad'], 'metadata': {}, 'parent_ids': ['81c1794c-706f-4eb6-be41-f8b1a583d798', '5bc37ddd-ef31-406c-9565-054c78c22643', '74c29b97-ced3-41bd-ac9c-8213dbec11cc', 'c228007d-0f03-4dc7-8edc-c45e66e139d7']}\n",
      "{'event': 'on_chain_end', 'data': {'output': {'agent_scratchpad': [AIMessageChunk(content='', additional_kwargs={'tool_calls': [{'index': 0, 'id': 'call_bOH2sfEJTk2Jv5rwmKGsd602', 'function': {'arguments': '{}', 'name': 'whereCatisHiding'}, 'type': 'function'}]}, response_metadata={'finish_reason': 'tool_calls', 'model_name': 'gpt-3.5-turbo-0125'}, id='run-f0f4a3e4-70ac-49ba-93ad-2db384329cce', tool_calls=[{'name': 'whereCatisHiding', 'args': {}, 'id': 'call_bOH2sfEJTk2Jv5rwmKGsd602', 'type': 'tool_call'}], tool_call_chunks=[{'name': 'whereCatisHiding', 'args': '{}', 'id': 'call_bOH2sfEJTk2Jv5rwmKGsd602', 'index': 0, 'type': 'tool_call_chunk'}]), ToolMessage(content='On the Bed', tool_call_id='call_bOH2sfEJTk2Jv5rwmKGsd602')]}, 'input': {'input': 'What items are located where the cat is hiding?', 'intermediate_steps': [(ToolAgentAction(tool='whereCatisHiding', tool_input={}, log='\\nInvoking: `whereCatisHiding` with `{}`\\n\\n\\n', message_log=[AIMessageChunk(content='', additional_kwargs={'tool_calls': [{'index': 0, 'id': 'call_bOH2sfEJTk2Jv5rwmKGsd602', 'function': {'arguments': '{}', 'name': 'whereCatisHiding'}, 'type': 'function'}]}, response_metadata={'finish_reason': 'tool_calls', 'model_name': 'gpt-3.5-turbo-0125'}, id='run-f0f4a3e4-70ac-49ba-93ad-2db384329cce', tool_calls=[{'name': 'whereCatisHiding', 'args': {}, 'id': 'call_bOH2sfEJTk2Jv5rwmKGsd602', 'type': 'tool_call'}], tool_call_chunks=[{'name': 'whereCatisHiding', 'args': '{}', 'id': 'call_bOH2sfEJTk2Jv5rwmKGsd602', 'index': 0, 'type': 'tool_call_chunk'}])], tool_call_id='call_bOH2sfEJTk2Jv5rwmKGsd602'), 'On the Bed')]}}, 'run_id': 'c228007d-0f03-4dc7-8edc-c45e66e139d7', 'name': 'RunnableParallel<agent_scratchpad>', 'tags': [], 'metadata': {}, 'parent_ids': ['81c1794c-706f-4eb6-be41-f8b1a583d798', '5bc37ddd-ef31-406c-9565-054c78c22643', '74c29b97-ced3-41bd-ac9c-8213dbec11cc']}\n",
      "{'event': 'on_chain_end', 'data': {'output': {'input': 'What items are located where the cat is hiding?', 'intermediate_steps': [(ToolAgentAction(tool='whereCatisHiding', tool_input={}, log='\\nInvoking: `whereCatisHiding` with `{}`\\n\\n\\n', message_log=[AIMessageChunk(content='', additional_kwargs={'tool_calls': [{'index': 0, 'id': 'call_bOH2sfEJTk2Jv5rwmKGsd602', 'function': {'arguments': '{}', 'name': 'whereCatisHiding'}, 'type': 'function'}]}, response_metadata={'finish_reason': 'tool_calls', 'model_name': 'gpt-3.5-turbo-0125'}, id='run-f0f4a3e4-70ac-49ba-93ad-2db384329cce', tool_calls=[{'name': 'whereCatisHiding', 'args': {}, 'id': 'call_bOH2sfEJTk2Jv5rwmKGsd602', 'type': 'tool_call'}], tool_call_chunks=[{'name': 'whereCatisHiding', 'args': '{}', 'id': 'call_bOH2sfEJTk2Jv5rwmKGsd602', 'index': 0, 'type': 'tool_call_chunk'}])], tool_call_id='call_bOH2sfEJTk2Jv5rwmKGsd602'), 'On the Bed')], 'agent_scratchpad': [AIMessageChunk(content='', additional_kwargs={'tool_calls': [{'index': 0, 'id': 'call_bOH2sfEJTk2Jv5rwmKGsd602', 'function': {'arguments': '{}', 'name': 'whereCatisHiding'}, 'type': 'function'}]}, response_metadata={'finish_reason': 'tool_calls', 'model_name': 'gpt-3.5-turbo-0125'}, id='run-f0f4a3e4-70ac-49ba-93ad-2db384329cce', tool_calls=[{'name': 'whereCatisHiding', 'args': {}, 'id': 'call_bOH2sfEJTk2Jv5rwmKGsd602', 'type': 'tool_call'}], tool_call_chunks=[{'name': 'whereCatisHiding', 'args': '{}', 'id': 'call_bOH2sfEJTk2Jv5rwmKGsd602', 'index': 0, 'type': 'tool_call_chunk'}]), ToolMessage(content='On the Bed', tool_call_id='call_bOH2sfEJTk2Jv5rwmKGsd602')]}, 'input': {'input': 'What items are located where the cat is hiding?', 'intermediate_steps': [(ToolAgentAction(tool='whereCatisHiding', tool_input={}, log='\\nInvoking: `whereCatisHiding` with `{}`\\n\\n\\n', message_log=[AIMessageChunk(content='', additional_kwargs={'tool_calls': [{'index': 0, 'id': 'call_bOH2sfEJTk2Jv5rwmKGsd602', 'function': {'arguments': '{}', 'name': 'whereCatisHiding'}, 'type': 'function'}]}, response_metadata={'finish_reason': 'tool_calls', 'model_name': 'gpt-3.5-turbo-0125'}, id='run-f0f4a3e4-70ac-49ba-93ad-2db384329cce', tool_calls=[{'name': 'whereCatisHiding', 'args': {}, 'id': 'call_bOH2sfEJTk2Jv5rwmKGsd602', 'type': 'tool_call'}], tool_call_chunks=[{'name': 'whereCatisHiding', 'args': '{}', 'id': 'call_bOH2sfEJTk2Jv5rwmKGsd602', 'index': 0, 'type': 'tool_call_chunk'}])], tool_call_id='call_bOH2sfEJTk2Jv5rwmKGsd602'), 'On the Bed')]}}, 'run_id': '74c29b97-ced3-41bd-ac9c-8213dbec11cc', 'name': 'RunnableAssign<agent_scratchpad>', 'tags': ['seq:step:1'], 'metadata': {}, 'parent_ids': ['81c1794c-706f-4eb6-be41-f8b1a583d798', '5bc37ddd-ef31-406c-9565-054c78c22643']}\n",
      "{'event': 'on_prompt_start', 'data': {'input': {'input': 'What items are located where the cat is hiding?', 'intermediate_steps': [(ToolAgentAction(tool='whereCatisHiding', tool_input={}, log='\\nInvoking: `whereCatisHiding` with `{}`\\n\\n\\n', message_log=[AIMessageChunk(content='', additional_kwargs={'tool_calls': [{'index': 0, 'id': 'call_bOH2sfEJTk2Jv5rwmKGsd602', 'function': {'arguments': '{}', 'name': 'whereCatisHiding'}, 'type': 'function'}]}, response_metadata={'finish_reason': 'tool_calls', 'model_name': 'gpt-3.5-turbo-0125'}, id='run-f0f4a3e4-70ac-49ba-93ad-2db384329cce', tool_calls=[{'name': 'whereCatisHiding', 'args': {}, 'id': 'call_bOH2sfEJTk2Jv5rwmKGsd602', 'type': 'tool_call'}], tool_call_chunks=[{'name': 'whereCatisHiding', 'args': '{}', 'id': 'call_bOH2sfEJTk2Jv5rwmKGsd602', 'index': 0, 'type': 'tool_call_chunk'}])], tool_call_id='call_bOH2sfEJTk2Jv5rwmKGsd602'), 'On the Bed')], 'agent_scratchpad': [AIMessageChunk(content='', additional_kwargs={'tool_calls': [{'index': 0, 'id': 'call_bOH2sfEJTk2Jv5rwmKGsd602', 'function': {'arguments': '{}', 'name': 'whereCatisHiding'}, 'type': 'function'}]}, response_metadata={'finish_reason': 'tool_calls', 'model_name': 'gpt-3.5-turbo-0125'}, id='run-f0f4a3e4-70ac-49ba-93ad-2db384329cce', tool_calls=[{'name': 'whereCatisHiding', 'args': {}, 'id': 'call_bOH2sfEJTk2Jv5rwmKGsd602', 'type': 'tool_call'}], tool_call_chunks=[{'name': 'whereCatisHiding', 'args': '{}', 'id': 'call_bOH2sfEJTk2Jv5rwmKGsd602', 'index': 0, 'type': 'tool_call_chunk'}]), ToolMessage(content='On the Bed', tool_call_id='call_bOH2sfEJTk2Jv5rwmKGsd602')]}}, 'name': 'ChatPromptTemplate', 'tags': ['seq:step:2'], 'run_id': 'fdfdf56d-a943-4bfe-beb4-ea2edd98c01c', 'metadata': {'lc_hub_owner': 'hwchase17', 'lc_hub_repo': 'openai-tools-agent', 'lc_hub_commit_hash': 'c18672812789a3b9697656dd539edf0120285dcae36396d0b548ae42a4ed66f5'}, 'parent_ids': ['81c1794c-706f-4eb6-be41-f8b1a583d798', '5bc37ddd-ef31-406c-9565-054c78c22643']}\n",
      "{'event': 'on_prompt_end', 'data': {'output': ChatPromptValue(messages=[SystemMessage(content='You are a helpful assistant', additional_kwargs={}, response_metadata={}), HumanMessage(content='What items are located where the cat is hiding?', additional_kwargs={}, response_metadata={}), AIMessageChunk(content='', additional_kwargs={'tool_calls': [{'index': 0, 'id': 'call_bOH2sfEJTk2Jv5rwmKGsd602', 'function': {'arguments': '{}', 'name': 'whereCatisHiding'}, 'type': 'function'}]}, response_metadata={'finish_reason': 'tool_calls', 'model_name': 'gpt-3.5-turbo-0125'}, id='run-f0f4a3e4-70ac-49ba-93ad-2db384329cce', tool_calls=[{'name': 'whereCatisHiding', 'args': {}, 'id': 'call_bOH2sfEJTk2Jv5rwmKGsd602', 'type': 'tool_call'}], tool_call_chunks=[{'name': 'whereCatisHiding', 'args': '{}', 'id': 'call_bOH2sfEJTk2Jv5rwmKGsd602', 'index': 0, 'type': 'tool_call_chunk'}]), ToolMessage(content='On the Bed', tool_call_id='call_bOH2sfEJTk2Jv5rwmKGsd602')]), 'input': {'input': 'What items are located where the cat is hiding?', 'intermediate_steps': [(ToolAgentAction(tool='whereCatisHiding', tool_input={}, log='\\nInvoking: `whereCatisHiding` with `{}`\\n\\n\\n', message_log=[AIMessageChunk(content='', additional_kwargs={'tool_calls': [{'index': 0, 'id': 'call_bOH2sfEJTk2Jv5rwmKGsd602', 'function': {'arguments': '{}', 'name': 'whereCatisHiding'}, 'type': 'function'}]}, response_metadata={'finish_reason': 'tool_calls', 'model_name': 'gpt-3.5-turbo-0125'}, id='run-f0f4a3e4-70ac-49ba-93ad-2db384329cce', tool_calls=[{'name': 'whereCatisHiding', 'args': {}, 'id': 'call_bOH2sfEJTk2Jv5rwmKGsd602', 'type': 'tool_call'}], tool_call_chunks=[{'name': 'whereCatisHiding', 'args': '{}', 'id': 'call_bOH2sfEJTk2Jv5rwmKGsd602', 'index': 0, 'type': 'tool_call_chunk'}])], tool_call_id='call_bOH2sfEJTk2Jv5rwmKGsd602'), 'On the Bed')], 'agent_scratchpad': [AIMessageChunk(content='', additional_kwargs={'tool_calls': [{'index': 0, 'id': 'call_bOH2sfEJTk2Jv5rwmKGsd602', 'function': {'arguments': '{}', 'name': 'whereCatisHiding'}, 'type': 'function'}]}, response_metadata={'finish_reason': 'tool_calls', 'model_name': 'gpt-3.5-turbo-0125'}, id='run-f0f4a3e4-70ac-49ba-93ad-2db384329cce', tool_calls=[{'name': 'whereCatisHiding', 'args': {}, 'id': 'call_bOH2sfEJTk2Jv5rwmKGsd602', 'type': 'tool_call'}], tool_call_chunks=[{'name': 'whereCatisHiding', 'args': '{}', 'id': 'call_bOH2sfEJTk2Jv5rwmKGsd602', 'index': 0, 'type': 'tool_call_chunk'}]), ToolMessage(content='On the Bed', tool_call_id='call_bOH2sfEJTk2Jv5rwmKGsd602')]}}, 'run_id': 'fdfdf56d-a943-4bfe-beb4-ea2edd98c01c', 'name': 'ChatPromptTemplate', 'tags': ['seq:step:2'], 'metadata': {'lc_hub_owner': 'hwchase17', 'lc_hub_repo': 'openai-tools-agent', 'lc_hub_commit_hash': 'c18672812789a3b9697656dd539edf0120285dcae36396d0b548ae42a4ed66f5'}, 'parent_ids': ['81c1794c-706f-4eb6-be41-f8b1a583d798', '5bc37ddd-ef31-406c-9565-054c78c22643']}\n",
      "{'event': 'on_chat_model_start', 'data': {'input': {'messages': [[SystemMessage(content='You are a helpful assistant', additional_kwargs={}, response_metadata={}), HumanMessage(content='What items are located where the cat is hiding?', additional_kwargs={}, response_metadata={}), AIMessageChunk(content='', additional_kwargs={'tool_calls': [{'index': 0, 'id': 'call_bOH2sfEJTk2Jv5rwmKGsd602', 'function': {'arguments': '{}', 'name': 'whereCatisHiding'}, 'type': 'function'}]}, response_metadata={'finish_reason': 'tool_calls', 'model_name': 'gpt-3.5-turbo-0125'}, id='run-f0f4a3e4-70ac-49ba-93ad-2db384329cce', tool_calls=[{'name': 'whereCatisHiding', 'args': {}, 'id': 'call_bOH2sfEJTk2Jv5rwmKGsd602', 'type': 'tool_call'}], tool_call_chunks=[{'name': 'whereCatisHiding', 'args': '{}', 'id': 'call_bOH2sfEJTk2Jv5rwmKGsd602', 'index': 0, 'type': 'tool_call_chunk'}]), ToolMessage(content='On the Bed', tool_call_id='call_bOH2sfEJTk2Jv5rwmKGsd602')]]}}, 'name': 'ChatOpenAI', 'tags': ['seq:step:3', 'agent_llm'], 'run_id': 'a480adae-9701-4e84-9360-7267b169fcfa', 'metadata': {'ls_provider': 'openai', 'ls_model_name': 'gpt-3.5-turbo', 'ls_model_type': 'chat', 'ls_temperature': 0.7}, 'parent_ids': ['81c1794c-706f-4eb6-be41-f8b1a583d798', '5bc37ddd-ef31-406c-9565-054c78c22643']}\n",
      "{'event': 'on_chat_model_stream', 'data': {'chunk': AIMessageChunk(content='', additional_kwargs={'tool_calls': [{'index': 0, 'id': 'call_GVraqpAULhHlxZiKgYOAtgdI', 'function': {'arguments': '', 'name': 'getItems'}, 'type': 'function'}]}, response_metadata={}, id='run-a480adae-9701-4e84-9360-7267b169fcfa', tool_calls=[{'name': 'getItems', 'args': {}, 'id': 'call_GVraqpAULhHlxZiKgYOAtgdI', 'type': 'tool_call'}], tool_call_chunks=[{'name': 'getItems', 'args': '', 'id': 'call_GVraqpAULhHlxZiKgYOAtgdI', 'index': 0, 'type': 'tool_call_chunk'}])}, 'run_id': 'a480adae-9701-4e84-9360-7267b169fcfa', 'name': 'ChatOpenAI', 'tags': ['seq:step:3', 'agent_llm'], 'metadata': {'ls_provider': 'openai', 'ls_model_name': 'gpt-3.5-turbo', 'ls_model_type': 'chat', 'ls_temperature': 0.7}, 'parent_ids': ['81c1794c-706f-4eb6-be41-f8b1a583d798', '5bc37ddd-ef31-406c-9565-054c78c22643']}\n",
      "{'event': 'on_chat_model_stream', 'data': {'chunk': AIMessageChunk(content='', additional_kwargs={'tool_calls': [{'index': 0, 'id': None, 'function': {'arguments': '{\"', 'name': None}, 'type': None}]}, response_metadata={}, id='run-a480adae-9701-4e84-9360-7267b169fcfa', tool_calls=[{'name': '', 'args': {}, 'id': None, 'type': 'tool_call'}], tool_call_chunks=[{'name': None, 'args': '{\"', 'id': None, 'index': 0, 'type': 'tool_call_chunk'}])}, 'run_id': 'a480adae-9701-4e84-9360-7267b169fcfa', 'name': 'ChatOpenAI', 'tags': ['seq:step:3', 'agent_llm'], 'metadata': {'ls_provider': 'openai', 'ls_model_name': 'gpt-3.5-turbo', 'ls_model_type': 'chat', 'ls_temperature': 0.7}, 'parent_ids': ['81c1794c-706f-4eb6-be41-f8b1a583d798', '5bc37ddd-ef31-406c-9565-054c78c22643']}\n",
      "{'event': 'on_chat_model_stream', 'data': {'chunk': AIMessageChunk(content='', additional_kwargs={'tool_calls': [{'index': 0, 'id': None, 'function': {'arguments': 'place', 'name': None}, 'type': None}]}, response_metadata={}, id='run-a480adae-9701-4e84-9360-7267b169fcfa', invalid_tool_calls=[{'name': None, 'args': 'place', 'id': None, 'error': None, 'type': 'invalid_tool_call'}], tool_call_chunks=[{'name': None, 'args': 'place', 'id': None, 'index': 0, 'type': 'tool_call_chunk'}])}, 'run_id': 'a480adae-9701-4e84-9360-7267b169fcfa', 'name': 'ChatOpenAI', 'tags': ['seq:step:3', 'agent_llm'], 'metadata': {'ls_provider': 'openai', 'ls_model_name': 'gpt-3.5-turbo', 'ls_model_type': 'chat', 'ls_temperature': 0.7}, 'parent_ids': ['81c1794c-706f-4eb6-be41-f8b1a583d798', '5bc37ddd-ef31-406c-9565-054c78c22643']}\n",
      "{'event': 'on_chat_model_stream', 'data': {'chunk': AIMessageChunk(content='', additional_kwargs={'tool_calls': [{'index': 0, 'id': None, 'function': {'arguments': '\":\"', 'name': None}, 'type': None}]}, response_metadata={}, id='run-a480adae-9701-4e84-9360-7267b169fcfa', invalid_tool_calls=[{'name': None, 'args': '\":\"', 'id': None, 'error': None, 'type': 'invalid_tool_call'}], tool_call_chunks=[{'name': None, 'args': '\":\"', 'id': None, 'index': 0, 'type': 'tool_call_chunk'}])}, 'run_id': 'a480adae-9701-4e84-9360-7267b169fcfa', 'name': 'ChatOpenAI', 'tags': ['seq:step:3', 'agent_llm'], 'metadata': {'ls_provider': 'openai', 'ls_model_name': 'gpt-3.5-turbo', 'ls_model_type': 'chat', 'ls_temperature': 0.7}, 'parent_ids': ['81c1794c-706f-4eb6-be41-f8b1a583d798', '5bc37ddd-ef31-406c-9565-054c78c22643']}\n",
      "{'event': 'on_chat_model_stream', 'data': {'chunk': AIMessageChunk(content='', additional_kwargs={'tool_calls': [{'index': 0, 'id': None, 'function': {'arguments': 'On', 'name': None}, 'type': None}]}, response_metadata={}, id='run-a480adae-9701-4e84-9360-7267b169fcfa', invalid_tool_calls=[{'name': None, 'args': 'On', 'id': None, 'error': None, 'type': 'invalid_tool_call'}], tool_call_chunks=[{'name': None, 'args': 'On', 'id': None, 'index': 0, 'type': 'tool_call_chunk'}])}, 'run_id': 'a480adae-9701-4e84-9360-7267b169fcfa', 'name': 'ChatOpenAI', 'tags': ['seq:step:3', 'agent_llm'], 'metadata': {'ls_provider': 'openai', 'ls_model_name': 'gpt-3.5-turbo', 'ls_model_type': 'chat', 'ls_temperature': 0.7}, 'parent_ids': ['81c1794c-706f-4eb6-be41-f8b1a583d798', '5bc37ddd-ef31-406c-9565-054c78c22643']}\n",
      "{'event': 'on_chat_model_stream', 'data': {'chunk': AIMessageChunk(content='', additional_kwargs={'tool_calls': [{'index': 0, 'id': None, 'function': {'arguments': ' the', 'name': None}, 'type': None}]}, response_metadata={}, id='run-a480adae-9701-4e84-9360-7267b169fcfa', invalid_tool_calls=[{'name': None, 'args': ' the', 'id': None, 'error': None, 'type': 'invalid_tool_call'}], tool_call_chunks=[{'name': None, 'args': ' the', 'id': None, 'index': 0, 'type': 'tool_call_chunk'}])}, 'run_id': 'a480adae-9701-4e84-9360-7267b169fcfa', 'name': 'ChatOpenAI', 'tags': ['seq:step:3', 'agent_llm'], 'metadata': {'ls_provider': 'openai', 'ls_model_name': 'gpt-3.5-turbo', 'ls_model_type': 'chat', 'ls_temperature': 0.7}, 'parent_ids': ['81c1794c-706f-4eb6-be41-f8b1a583d798', '5bc37ddd-ef31-406c-9565-054c78c22643']}\n",
      "{'event': 'on_chat_model_stream', 'data': {'chunk': AIMessageChunk(content='', additional_kwargs={'tool_calls': [{'index': 0, 'id': None, 'function': {'arguments': ' Bed', 'name': None}, 'type': None}]}, response_metadata={}, id='run-a480adae-9701-4e84-9360-7267b169fcfa', invalid_tool_calls=[{'name': None, 'args': ' Bed', 'id': None, 'error': None, 'type': 'invalid_tool_call'}], tool_call_chunks=[{'name': None, 'args': ' Bed', 'id': None, 'index': 0, 'type': 'tool_call_chunk'}])}, 'run_id': 'a480adae-9701-4e84-9360-7267b169fcfa', 'name': 'ChatOpenAI', 'tags': ['seq:step:3', 'agent_llm'], 'metadata': {'ls_provider': 'openai', 'ls_model_name': 'gpt-3.5-turbo', 'ls_model_type': 'chat', 'ls_temperature': 0.7}, 'parent_ids': ['81c1794c-706f-4eb6-be41-f8b1a583d798', '5bc37ddd-ef31-406c-9565-054c78c22643']}\n",
      "{'event': 'on_chat_model_stream', 'data': {'chunk': AIMessageChunk(content='', additional_kwargs={'tool_calls': [{'index': 0, 'id': None, 'function': {'arguments': '\"}', 'name': None}, 'type': None}]}, response_metadata={}, id='run-a480adae-9701-4e84-9360-7267b169fcfa', invalid_tool_calls=[{'name': None, 'args': '\"}', 'id': None, 'error': None, 'type': 'invalid_tool_call'}], tool_call_chunks=[{'name': None, 'args': '\"}', 'id': None, 'index': 0, 'type': 'tool_call_chunk'}])}, 'run_id': 'a480adae-9701-4e84-9360-7267b169fcfa', 'name': 'ChatOpenAI', 'tags': ['seq:step:3', 'agent_llm'], 'metadata': {'ls_provider': 'openai', 'ls_model_name': 'gpt-3.5-turbo', 'ls_model_type': 'chat', 'ls_temperature': 0.7}, 'parent_ids': ['81c1794c-706f-4eb6-be41-f8b1a583d798', '5bc37ddd-ef31-406c-9565-054c78c22643']}\n",
      "{'event': 'on_chat_model_stream', 'data': {'chunk': AIMessageChunk(content='', additional_kwargs={}, response_metadata={'finish_reason': 'tool_calls', 'model_name': 'gpt-3.5-turbo-0125'}, id='run-a480adae-9701-4e84-9360-7267b169fcfa')}, 'run_id': 'a480adae-9701-4e84-9360-7267b169fcfa', 'name': 'ChatOpenAI', 'tags': ['seq:step:3', 'agent_llm'], 'metadata': {'ls_provider': 'openai', 'ls_model_name': 'gpt-3.5-turbo', 'ls_model_type': 'chat', 'ls_temperature': 0.7}, 'parent_ids': ['81c1794c-706f-4eb6-be41-f8b1a583d798', '5bc37ddd-ef31-406c-9565-054c78c22643']}\n",
      "{'event': 'on_chat_model_end', 'data': {'output': AIMessageChunk(content='', additional_kwargs={'tool_calls': [{'index': 0, 'id': 'call_GVraqpAULhHlxZiKgYOAtgdI', 'function': {'arguments': '{\"place\":\"On the Bed\"}', 'name': 'getItems'}, 'type': 'function'}]}, response_metadata={'finish_reason': 'tool_calls', 'model_name': 'gpt-3.5-turbo-0125'}, id='run-a480adae-9701-4e84-9360-7267b169fcfa', tool_calls=[{'name': 'getItems', 'args': {'place': 'On the Bed'}, 'id': 'call_GVraqpAULhHlxZiKgYOAtgdI', 'type': 'tool_call'}], tool_call_chunks=[{'name': 'getItems', 'args': '{\"place\":\"On the Bed\"}', 'id': 'call_GVraqpAULhHlxZiKgYOAtgdI', 'index': 0, 'type': 'tool_call_chunk'}]), 'input': {'messages': [[SystemMessage(content='You are a helpful assistant', additional_kwargs={}, response_metadata={}), HumanMessage(content='What items are located where the cat is hiding?', additional_kwargs={}, response_metadata={}), AIMessageChunk(content='', additional_kwargs={'tool_calls': [{'index': 0, 'id': 'call_bOH2sfEJTk2Jv5rwmKGsd602', 'function': {'arguments': '{}', 'name': 'whereCatisHiding'}, 'type': 'function'}]}, response_metadata={'finish_reason': 'tool_calls', 'model_name': 'gpt-3.5-turbo-0125'}, id='run-f0f4a3e4-70ac-49ba-93ad-2db384329cce', tool_calls=[{'name': 'whereCatisHiding', 'args': {}, 'id': 'call_bOH2sfEJTk2Jv5rwmKGsd602', 'type': 'tool_call'}], tool_call_chunks=[{'name': 'whereCatisHiding', 'args': '{}', 'id': 'call_bOH2sfEJTk2Jv5rwmKGsd602', 'index': 0, 'type': 'tool_call_chunk'}]), ToolMessage(content='On the Bed', tool_call_id='call_bOH2sfEJTk2Jv5rwmKGsd602')]]}}, 'run_id': 'a480adae-9701-4e84-9360-7267b169fcfa', 'name': 'ChatOpenAI', 'tags': ['seq:step:3', 'agent_llm'], 'metadata': {'ls_provider': 'openai', 'ls_model_name': 'gpt-3.5-turbo', 'ls_model_type': 'chat', 'ls_temperature': 0.7}, 'parent_ids': ['81c1794c-706f-4eb6-be41-f8b1a583d798', '5bc37ddd-ef31-406c-9565-054c78c22643']}\n",
      "{'event': 'on_parser_start', 'data': {'input': AIMessageChunk(content='', additional_kwargs={'tool_calls': [{'index': 0, 'id': 'call_GVraqpAULhHlxZiKgYOAtgdI', 'function': {'arguments': '{\"place\":\"On the Bed\"}', 'name': 'getItems'}, 'type': 'function'}]}, response_metadata={'finish_reason': 'tool_calls', 'model_name': 'gpt-3.5-turbo-0125'}, id='run-a480adae-9701-4e84-9360-7267b169fcfa', tool_calls=[{'name': 'getItems', 'args': {'place': 'On the Bed'}, 'id': 'call_GVraqpAULhHlxZiKgYOAtgdI', 'type': 'tool_call'}], tool_call_chunks=[{'name': 'getItems', 'args': '{\"place\":\"On the Bed\"}', 'id': 'call_GVraqpAULhHlxZiKgYOAtgdI', 'index': 0, 'type': 'tool_call_chunk'}])}, 'name': 'OpenAIToolsAgentOutputParser', 'tags': ['seq:step:4'], 'run_id': 'f0171fe4-42db-47d8-8b79-1a3823797fa4', 'metadata': {}, 'parent_ids': ['81c1794c-706f-4eb6-be41-f8b1a583d798', '5bc37ddd-ef31-406c-9565-054c78c22643']}\n",
      "{'event': 'on_parser_end', 'data': {'output': [ToolAgentAction(tool='getItems', tool_input={'place': 'On the Bed'}, log=\"\\nInvoking: `getItems` with `{'place': 'On the Bed'}`\\n\\n\\n\", message_log=[AIMessageChunk(content='', additional_kwargs={'tool_calls': [{'index': 0, 'id': 'call_GVraqpAULhHlxZiKgYOAtgdI', 'function': {'arguments': '{\"place\":\"On the Bed\"}', 'name': 'getItems'}, 'type': 'function'}]}, response_metadata={'finish_reason': 'tool_calls', 'model_name': 'gpt-3.5-turbo-0125'}, id='run-a480adae-9701-4e84-9360-7267b169fcfa', tool_calls=[{'name': 'getItems', 'args': {'place': 'On the Bed'}, 'id': 'call_GVraqpAULhHlxZiKgYOAtgdI', 'type': 'tool_call'}], tool_call_chunks=[{'name': 'getItems', 'args': '{\"place\":\"On the Bed\"}', 'id': 'call_GVraqpAULhHlxZiKgYOAtgdI', 'index': 0, 'type': 'tool_call_chunk'}])], tool_call_id='call_GVraqpAULhHlxZiKgYOAtgdI')], 'input': AIMessageChunk(content='', additional_kwargs={'tool_calls': [{'index': 0, 'id': 'call_GVraqpAULhHlxZiKgYOAtgdI', 'function': {'arguments': '{\"place\":\"On the Bed\"}', 'name': 'getItems'}, 'type': 'function'}]}, response_metadata={'finish_reason': 'tool_calls', 'model_name': 'gpt-3.5-turbo-0125'}, id='run-a480adae-9701-4e84-9360-7267b169fcfa', tool_calls=[{'name': 'getItems', 'args': {'place': 'On the Bed'}, 'id': 'call_GVraqpAULhHlxZiKgYOAtgdI', 'type': 'tool_call'}], tool_call_chunks=[{'name': 'getItems', 'args': '{\"place\":\"On the Bed\"}', 'id': 'call_GVraqpAULhHlxZiKgYOAtgdI', 'index': 0, 'type': 'tool_call_chunk'}])}, 'run_id': 'f0171fe4-42db-47d8-8b79-1a3823797fa4', 'name': 'OpenAIToolsAgentOutputParser', 'tags': ['seq:step:4'], 'metadata': {}, 'parent_ids': ['81c1794c-706f-4eb6-be41-f8b1a583d798', '5bc37ddd-ef31-406c-9565-054c78c22643']}\n",
      "{'event': 'on_chain_stream', 'run_id': '5bc37ddd-ef31-406c-9565-054c78c22643', 'name': 'RunnableSequence', 'tags': [], 'metadata': {}, 'data': {'chunk': [ToolAgentAction(tool='getItems', tool_input={'place': 'On the Bed'}, log=\"\\nInvoking: `getItems` with `{'place': 'On the Bed'}`\\n\\n\\n\", message_log=[AIMessageChunk(content='', additional_kwargs={'tool_calls': [{'index': 0, 'id': 'call_GVraqpAULhHlxZiKgYOAtgdI', 'function': {'arguments': '{\"place\":\"On the Bed\"}', 'name': 'getItems'}, 'type': 'function'}]}, response_metadata={'finish_reason': 'tool_calls', 'model_name': 'gpt-3.5-turbo-0125'}, id='run-a480adae-9701-4e84-9360-7267b169fcfa', tool_calls=[{'name': 'getItems', 'args': {'place': 'On the Bed'}, 'id': 'call_GVraqpAULhHlxZiKgYOAtgdI', 'type': 'tool_call'}], tool_call_chunks=[{'name': 'getItems', 'args': '{\"place\":\"On the Bed\"}', 'id': 'call_GVraqpAULhHlxZiKgYOAtgdI', 'index': 0, 'type': 'tool_call_chunk'}])], tool_call_id='call_GVraqpAULhHlxZiKgYOAtgdI')]}, 'parent_ids': ['81c1794c-706f-4eb6-be41-f8b1a583d798']}\n",
      "{'event': 'on_chain_end', 'data': {'output': [ToolAgentAction(tool='getItems', tool_input={'place': 'On the Bed'}, log=\"\\nInvoking: `getItems` with `{'place': 'On the Bed'}`\\n\\n\\n\", message_log=[AIMessageChunk(content='', additional_kwargs={'tool_calls': [{'index': 0, 'id': 'call_GVraqpAULhHlxZiKgYOAtgdI', 'function': {'arguments': '{\"place\":\"On the Bed\"}', 'name': 'getItems'}, 'type': 'function'}]}, response_metadata={'finish_reason': 'tool_calls', 'model_name': 'gpt-3.5-turbo-0125'}, id='run-a480adae-9701-4e84-9360-7267b169fcfa', tool_calls=[{'name': 'getItems', 'args': {'place': 'On the Bed'}, 'id': 'call_GVraqpAULhHlxZiKgYOAtgdI', 'type': 'tool_call'}], tool_call_chunks=[{'name': 'getItems', 'args': '{\"place\":\"On the Bed\"}', 'id': 'call_GVraqpAULhHlxZiKgYOAtgdI', 'index': 0, 'type': 'tool_call_chunk'}])], tool_call_id='call_GVraqpAULhHlxZiKgYOAtgdI')], 'input': {'input': 'What items are located where the cat is hiding?', 'intermediate_steps': [(ToolAgentAction(tool='whereCatisHiding', tool_input={}, log='\\nInvoking: `whereCatisHiding` with `{}`\\n\\n\\n', message_log=[AIMessageChunk(content='', additional_kwargs={'tool_calls': [{'index': 0, 'id': 'call_bOH2sfEJTk2Jv5rwmKGsd602', 'function': {'arguments': '{}', 'name': 'whereCatisHiding'}, 'type': 'function'}]}, response_metadata={'finish_reason': 'tool_calls', 'model_name': 'gpt-3.5-turbo-0125'}, id='run-f0f4a3e4-70ac-49ba-93ad-2db384329cce', tool_calls=[{'name': 'whereCatisHiding', 'args': {}, 'id': 'call_bOH2sfEJTk2Jv5rwmKGsd602', 'type': 'tool_call'}], tool_call_chunks=[{'name': 'whereCatisHiding', 'args': '{}', 'id': 'call_bOH2sfEJTk2Jv5rwmKGsd602', 'index': 0, 'type': 'tool_call_chunk'}])], tool_call_id='call_bOH2sfEJTk2Jv5rwmKGsd602'), 'On the Bed')]}}, 'run_id': '5bc37ddd-ef31-406c-9565-054c78c22643', 'name': 'RunnableSequence', 'tags': [], 'metadata': {}, 'parent_ids': ['81c1794c-706f-4eb6-be41-f8b1a583d798']}\n",
      "{'event': 'on_chain_stream', 'run_id': '81c1794c-706f-4eb6-be41-f8b1a583d798', 'name': 'Agent', 'tags': [], 'metadata': {}, 'data': {'chunk': {'actions': [ToolAgentAction(tool='getItems', tool_input={'place': 'On the Bed'}, log=\"\\nInvoking: `getItems` with `{'place': 'On the Bed'}`\\n\\n\\n\", message_log=[AIMessageChunk(content='', additional_kwargs={'tool_calls': [{'index': 0, 'id': 'call_GVraqpAULhHlxZiKgYOAtgdI', 'function': {'arguments': '{\"place\":\"On the Bed\"}', 'name': 'getItems'}, 'type': 'function'}]}, response_metadata={'finish_reason': 'tool_calls', 'model_name': 'gpt-3.5-turbo-0125'}, id='run-a480adae-9701-4e84-9360-7267b169fcfa', tool_calls=[{'name': 'getItems', 'args': {'place': 'On the Bed'}, 'id': 'call_GVraqpAULhHlxZiKgYOAtgdI', 'type': 'tool_call'}], tool_call_chunks=[{'name': 'getItems', 'args': '{\"place\":\"On the Bed\"}', 'id': 'call_GVraqpAULhHlxZiKgYOAtgdI', 'index': 0, 'type': 'tool_call_chunk'}])], tool_call_id='call_GVraqpAULhHlxZiKgYOAtgdI')], 'messages': [AIMessageChunk(content='', additional_kwargs={'tool_calls': [{'index': 0, 'id': 'call_GVraqpAULhHlxZiKgYOAtgdI', 'function': {'arguments': '{\"place\":\"On the Bed\"}', 'name': 'getItems'}, 'type': 'function'}]}, response_metadata={'finish_reason': 'tool_calls', 'model_name': 'gpt-3.5-turbo-0125'}, id='run-a480adae-9701-4e84-9360-7267b169fcfa', tool_calls=[{'name': 'getItems', 'args': {'place': 'On the Bed'}, 'id': 'call_GVraqpAULhHlxZiKgYOAtgdI', 'type': 'tool_call'}], tool_call_chunks=[{'name': 'getItems', 'args': '{\"place\":\"On the Bed\"}', 'id': 'call_GVraqpAULhHlxZiKgYOAtgdI', 'index': 0, 'type': 'tool_call_chunk'}])]}}, 'parent_ids': []}\n",
      "{'event': 'on_tool_start', 'data': {'input': {'place': 'On the Bed'}}, 'name': 'getItems', 'tags': [], 'run_id': 'ba946092-e77f-4e82-86de-e92d23ca59f0', 'metadata': {}, 'parent_ids': ['81c1794c-706f-4eb6-be41-f8b1a583d798']}\n",
      "{'event': 'on_tool_end', 'data': {'output': 'cat snacks', 'input': {'place': 'On the Bed'}}, 'run_id': 'ba946092-e77f-4e82-86de-e92d23ca59f0', 'name': 'getItems', 'tags': [], 'metadata': {}, 'parent_ids': ['81c1794c-706f-4eb6-be41-f8b1a583d798']}\n",
      "{'event': 'on_chain_stream', 'run_id': '81c1794c-706f-4eb6-be41-f8b1a583d798', 'name': 'Agent', 'tags': [], 'metadata': {}, 'data': {'chunk': {'steps': [AgentStep(action=ToolAgentAction(tool='getItems', tool_input={'place': 'On the Bed'}, log=\"\\nInvoking: `getItems` with `{'place': 'On the Bed'}`\\n\\n\\n\", message_log=[AIMessageChunk(content='', additional_kwargs={'tool_calls': [{'index': 0, 'id': 'call_GVraqpAULhHlxZiKgYOAtgdI', 'function': {'arguments': '{\"place\":\"On the Bed\"}', 'name': 'getItems'}, 'type': 'function'}]}, response_metadata={'finish_reason': 'tool_calls', 'model_name': 'gpt-3.5-turbo-0125'}, id='run-a480adae-9701-4e84-9360-7267b169fcfa', tool_calls=[{'name': 'getItems', 'args': {'place': 'On the Bed'}, 'id': 'call_GVraqpAULhHlxZiKgYOAtgdI', 'type': 'tool_call'}], tool_call_chunks=[{'name': 'getItems', 'args': '{\"place\":\"On the Bed\"}', 'id': 'call_GVraqpAULhHlxZiKgYOAtgdI', 'index': 0, 'type': 'tool_call_chunk'}])], tool_call_id='call_GVraqpAULhHlxZiKgYOAtgdI'), observation='cat snacks')], 'messages': [FunctionMessage(content='cat snacks', additional_kwargs={}, response_metadata={}, name='getItems')]}}, 'parent_ids': []}\n",
      "{'event': 'on_chain_start', 'data': {}, 'name': 'RunnableSequence', 'tags': [], 'run_id': 'a1413941-0def-460b-8fef-23323bbdb72f', 'metadata': {}, 'parent_ids': ['81c1794c-706f-4eb6-be41-f8b1a583d798']}\n",
      "{'event': 'on_chain_start', 'data': {}, 'name': 'RunnableAssign<agent_scratchpad>', 'tags': ['seq:step:1'], 'run_id': 'c63337fb-d35e-4d80-b077-4b99503395dc', 'metadata': {}, 'parent_ids': ['81c1794c-706f-4eb6-be41-f8b1a583d798', 'a1413941-0def-460b-8fef-23323bbdb72f']}\n",
      "{'event': 'on_chain_stream', 'run_id': 'c63337fb-d35e-4d80-b077-4b99503395dc', 'name': 'RunnableAssign<agent_scratchpad>', 'tags': ['seq:step:1'], 'metadata': {}, 'data': {'chunk': {'input': 'What items are located where the cat is hiding?', 'intermediate_steps': [(ToolAgentAction(tool='whereCatisHiding', tool_input={}, log='\\nInvoking: `whereCatisHiding` with `{}`\\n\\n\\n', message_log=[AIMessageChunk(content='', additional_kwargs={'tool_calls': [{'index': 0, 'id': 'call_bOH2sfEJTk2Jv5rwmKGsd602', 'function': {'arguments': '{}', 'name': 'whereCatisHiding'}, 'type': 'function'}]}, response_metadata={'finish_reason': 'tool_calls', 'model_name': 'gpt-3.5-turbo-0125'}, id='run-f0f4a3e4-70ac-49ba-93ad-2db384329cce', tool_calls=[{'name': 'whereCatisHiding', 'args': {}, 'id': 'call_bOH2sfEJTk2Jv5rwmKGsd602', 'type': 'tool_call'}], tool_call_chunks=[{'name': 'whereCatisHiding', 'args': '{}', 'id': 'call_bOH2sfEJTk2Jv5rwmKGsd602', 'index': 0, 'type': 'tool_call_chunk'}])], tool_call_id='call_bOH2sfEJTk2Jv5rwmKGsd602'), 'On the Bed'), (ToolAgentAction(tool='getItems', tool_input={'place': 'On the Bed'}, log=\"\\nInvoking: `getItems` with `{'place': 'On the Bed'}`\\n\\n\\n\", message_log=[AIMessageChunk(content='', additional_kwargs={'tool_calls': [{'index': 0, 'id': 'call_GVraqpAULhHlxZiKgYOAtgdI', 'function': {'arguments': '{\"place\":\"On the Bed\"}', 'name': 'getItems'}, 'type': 'function'}]}, response_metadata={'finish_reason': 'tool_calls', 'model_name': 'gpt-3.5-turbo-0125'}, id='run-a480adae-9701-4e84-9360-7267b169fcfa', tool_calls=[{'name': 'getItems', 'args': {'place': 'On the Bed'}, 'id': 'call_GVraqpAULhHlxZiKgYOAtgdI', 'type': 'tool_call'}], tool_call_chunks=[{'name': 'getItems', 'args': '{\"place\":\"On the Bed\"}', 'id': 'call_GVraqpAULhHlxZiKgYOAtgdI', 'index': 0, 'type': 'tool_call_chunk'}])], tool_call_id='call_GVraqpAULhHlxZiKgYOAtgdI'), 'cat snacks')]}}, 'parent_ids': ['81c1794c-706f-4eb6-be41-f8b1a583d798', 'a1413941-0def-460b-8fef-23323bbdb72f']}\n",
      "{'event': 'on_chain_start', 'data': {}, 'name': 'RunnableParallel<agent_scratchpad>', 'tags': [], 'run_id': '455347fa-1c04-4a0e-ad20-52dbdae50936', 'metadata': {}, 'parent_ids': ['81c1794c-706f-4eb6-be41-f8b1a583d798', 'a1413941-0def-460b-8fef-23323bbdb72f', 'c63337fb-d35e-4d80-b077-4b99503395dc']}\n",
      "{'event': 'on_chain_start', 'data': {}, 'name': 'RunnableLambda', 'tags': ['map:key:agent_scratchpad'], 'run_id': 'cdb1074c-cea4-40f4-98f6-0a1bb2536c81', 'metadata': {}, 'parent_ids': ['81c1794c-706f-4eb6-be41-f8b1a583d798', 'a1413941-0def-460b-8fef-23323bbdb72f', 'c63337fb-d35e-4d80-b077-4b99503395dc', '455347fa-1c04-4a0e-ad20-52dbdae50936']}\n",
      "{'event': 'on_chain_stream', 'run_id': 'cdb1074c-cea4-40f4-98f6-0a1bb2536c81', 'name': 'RunnableLambda', 'tags': ['map:key:agent_scratchpad'], 'metadata': {}, 'data': {'chunk': [AIMessageChunk(content='', additional_kwargs={'tool_calls': [{'index': 0, 'id': 'call_bOH2sfEJTk2Jv5rwmKGsd602', 'function': {'arguments': '{}', 'name': 'whereCatisHiding'}, 'type': 'function'}]}, response_metadata={'finish_reason': 'tool_calls', 'model_name': 'gpt-3.5-turbo-0125'}, id='run-f0f4a3e4-70ac-49ba-93ad-2db384329cce', tool_calls=[{'name': 'whereCatisHiding', 'args': {}, 'id': 'call_bOH2sfEJTk2Jv5rwmKGsd602', 'type': 'tool_call'}], tool_call_chunks=[{'name': 'whereCatisHiding', 'args': '{}', 'id': 'call_bOH2sfEJTk2Jv5rwmKGsd602', 'index': 0, 'type': 'tool_call_chunk'}]), ToolMessage(content='On the Bed', tool_call_id='call_bOH2sfEJTk2Jv5rwmKGsd602'), AIMessageChunk(content='', additional_kwargs={'tool_calls': [{'index': 0, 'id': 'call_GVraqpAULhHlxZiKgYOAtgdI', 'function': {'arguments': '{\"place\":\"On the Bed\"}', 'name': 'getItems'}, 'type': 'function'}]}, response_metadata={'finish_reason': 'tool_calls', 'model_name': 'gpt-3.5-turbo-0125'}, id='run-a480adae-9701-4e84-9360-7267b169fcfa', tool_calls=[{'name': 'getItems', 'args': {'place': 'On the Bed'}, 'id': 'call_GVraqpAULhHlxZiKgYOAtgdI', 'type': 'tool_call'}], tool_call_chunks=[{'name': 'getItems', 'args': '{\"place\":\"On the Bed\"}', 'id': 'call_GVraqpAULhHlxZiKgYOAtgdI', 'index': 0, 'type': 'tool_call_chunk'}]), ToolMessage(content='cat snacks', tool_call_id='call_GVraqpAULhHlxZiKgYOAtgdI')]}, 'parent_ids': ['81c1794c-706f-4eb6-be41-f8b1a583d798', 'a1413941-0def-460b-8fef-23323bbdb72f', 'c63337fb-d35e-4d80-b077-4b99503395dc', '455347fa-1c04-4a0e-ad20-52dbdae50936']}\n",
      "{'event': 'on_chain_stream', 'run_id': '455347fa-1c04-4a0e-ad20-52dbdae50936', 'name': 'RunnableParallel<agent_scratchpad>', 'tags': [], 'metadata': {}, 'data': {'chunk': {'agent_scratchpad': [AIMessageChunk(content='', additional_kwargs={'tool_calls': [{'index': 0, 'id': 'call_bOH2sfEJTk2Jv5rwmKGsd602', 'function': {'arguments': '{}', 'name': 'whereCatisHiding'}, 'type': 'function'}]}, response_metadata={'finish_reason': 'tool_calls', 'model_name': 'gpt-3.5-turbo-0125'}, id='run-f0f4a3e4-70ac-49ba-93ad-2db384329cce', tool_calls=[{'name': 'whereCatisHiding', 'args': {}, 'id': 'call_bOH2sfEJTk2Jv5rwmKGsd602', 'type': 'tool_call'}], tool_call_chunks=[{'name': 'whereCatisHiding', 'args': '{}', 'id': 'call_bOH2sfEJTk2Jv5rwmKGsd602', 'index': 0, 'type': 'tool_call_chunk'}]), ToolMessage(content='On the Bed', tool_call_id='call_bOH2sfEJTk2Jv5rwmKGsd602'), AIMessageChunk(content='', additional_kwargs={'tool_calls': [{'index': 0, 'id': 'call_GVraqpAULhHlxZiKgYOAtgdI', 'function': {'arguments': '{\"place\":\"On the Bed\"}', 'name': 'getItems'}, 'type': 'function'}]}, response_metadata={'finish_reason': 'tool_calls', 'model_name': 'gpt-3.5-turbo-0125'}, id='run-a480adae-9701-4e84-9360-7267b169fcfa', tool_calls=[{'name': 'getItems', 'args': {'place': 'On the Bed'}, 'id': 'call_GVraqpAULhHlxZiKgYOAtgdI', 'type': 'tool_call'}], tool_call_chunks=[{'name': 'getItems', 'args': '{\"place\":\"On the Bed\"}', 'id': 'call_GVraqpAULhHlxZiKgYOAtgdI', 'index': 0, 'type': 'tool_call_chunk'}]), ToolMessage(content='cat snacks', tool_call_id='call_GVraqpAULhHlxZiKgYOAtgdI')]}}, 'parent_ids': ['81c1794c-706f-4eb6-be41-f8b1a583d798', 'a1413941-0def-460b-8fef-23323bbdb72f', 'c63337fb-d35e-4d80-b077-4b99503395dc']}\n",
      "{'event': 'on_chain_stream', 'run_id': 'c63337fb-d35e-4d80-b077-4b99503395dc', 'name': 'RunnableAssign<agent_scratchpad>', 'tags': ['seq:step:1'], 'metadata': {}, 'data': {'chunk': {'agent_scratchpad': [AIMessageChunk(content='', additional_kwargs={'tool_calls': [{'index': 0, 'id': 'call_bOH2sfEJTk2Jv5rwmKGsd602', 'function': {'arguments': '{}', 'name': 'whereCatisHiding'}, 'type': 'function'}]}, response_metadata={'finish_reason': 'tool_calls', 'model_name': 'gpt-3.5-turbo-0125'}, id='run-f0f4a3e4-70ac-49ba-93ad-2db384329cce', tool_calls=[{'name': 'whereCatisHiding', 'args': {}, 'id': 'call_bOH2sfEJTk2Jv5rwmKGsd602', 'type': 'tool_call'}], tool_call_chunks=[{'name': 'whereCatisHiding', 'args': '{}', 'id': 'call_bOH2sfEJTk2Jv5rwmKGsd602', 'index': 0, 'type': 'tool_call_chunk'}]), ToolMessage(content='On the Bed', tool_call_id='call_bOH2sfEJTk2Jv5rwmKGsd602'), AIMessageChunk(content='', additional_kwargs={'tool_calls': [{'index': 0, 'id': 'call_GVraqpAULhHlxZiKgYOAtgdI', 'function': {'arguments': '{\"place\":\"On the Bed\"}', 'name': 'getItems'}, 'type': 'function'}]}, response_metadata={'finish_reason': 'tool_calls', 'model_name': 'gpt-3.5-turbo-0125'}, id='run-a480adae-9701-4e84-9360-7267b169fcfa', tool_calls=[{'name': 'getItems', 'args': {'place': 'On the Bed'}, 'id': 'call_GVraqpAULhHlxZiKgYOAtgdI', 'type': 'tool_call'}], tool_call_chunks=[{'name': 'getItems', 'args': '{\"place\":\"On the Bed\"}', 'id': 'call_GVraqpAULhHlxZiKgYOAtgdI', 'index': 0, 'type': 'tool_call_chunk'}]), ToolMessage(content='cat snacks', tool_call_id='call_GVraqpAULhHlxZiKgYOAtgdI')]}}, 'parent_ids': ['81c1794c-706f-4eb6-be41-f8b1a583d798', 'a1413941-0def-460b-8fef-23323bbdb72f']}\n",
      "{'event': 'on_chain_end', 'data': {'output': [AIMessageChunk(content='', additional_kwargs={'tool_calls': [{'index': 0, 'id': 'call_bOH2sfEJTk2Jv5rwmKGsd602', 'function': {'arguments': '{}', 'name': 'whereCatisHiding'}, 'type': 'function'}]}, response_metadata={'finish_reason': 'tool_calls', 'model_name': 'gpt-3.5-turbo-0125'}, id='run-f0f4a3e4-70ac-49ba-93ad-2db384329cce', tool_calls=[{'name': 'whereCatisHiding', 'args': {}, 'id': 'call_bOH2sfEJTk2Jv5rwmKGsd602', 'type': 'tool_call'}], tool_call_chunks=[{'name': 'whereCatisHiding', 'args': '{}', 'id': 'call_bOH2sfEJTk2Jv5rwmKGsd602', 'index': 0, 'type': 'tool_call_chunk'}]), ToolMessage(content='On the Bed', tool_call_id='call_bOH2sfEJTk2Jv5rwmKGsd602'), AIMessageChunk(content='', additional_kwargs={'tool_calls': [{'index': 0, 'id': 'call_GVraqpAULhHlxZiKgYOAtgdI', 'function': {'arguments': '{\"place\":\"On the Bed\"}', 'name': 'getItems'}, 'type': 'function'}]}, response_metadata={'finish_reason': 'tool_calls', 'model_name': 'gpt-3.5-turbo-0125'}, id='run-a480adae-9701-4e84-9360-7267b169fcfa', tool_calls=[{'name': 'getItems', 'args': {'place': 'On the Bed'}, 'id': 'call_GVraqpAULhHlxZiKgYOAtgdI', 'type': 'tool_call'}], tool_call_chunks=[{'name': 'getItems', 'args': '{\"place\":\"On the Bed\"}', 'id': 'call_GVraqpAULhHlxZiKgYOAtgdI', 'index': 0, 'type': 'tool_call_chunk'}]), ToolMessage(content='cat snacks', tool_call_id='call_GVraqpAULhHlxZiKgYOAtgdI')], 'input': {'input': 'What items are located where the cat is hiding?', 'intermediate_steps': [(ToolAgentAction(tool='whereCatisHiding', tool_input={}, log='\\nInvoking: `whereCatisHiding` with `{}`\\n\\n\\n', message_log=[AIMessageChunk(content='', additional_kwargs={'tool_calls': [{'index': 0, 'id': 'call_bOH2sfEJTk2Jv5rwmKGsd602', 'function': {'arguments': '{}', 'name': 'whereCatisHiding'}, 'type': 'function'}]}, response_metadata={'finish_reason': 'tool_calls', 'model_name': 'gpt-3.5-turbo-0125'}, id='run-f0f4a3e4-70ac-49ba-93ad-2db384329cce', tool_calls=[{'name': 'whereCatisHiding', 'args': {}, 'id': 'call_bOH2sfEJTk2Jv5rwmKGsd602', 'type': 'tool_call'}], tool_call_chunks=[{'name': 'whereCatisHiding', 'args': '{}', 'id': 'call_bOH2sfEJTk2Jv5rwmKGsd602', 'index': 0, 'type': 'tool_call_chunk'}])], tool_call_id='call_bOH2sfEJTk2Jv5rwmKGsd602'), 'On the Bed'), (ToolAgentAction(tool='getItems', tool_input={'place': 'On the Bed'}, log=\"\\nInvoking: `getItems` with `{'place': 'On the Bed'}`\\n\\n\\n\", message_log=[AIMessageChunk(content='', additional_kwargs={'tool_calls': [{'index': 0, 'id': 'call_GVraqpAULhHlxZiKgYOAtgdI', 'function': {'arguments': '{\"place\":\"On the Bed\"}', 'name': 'getItems'}, 'type': 'function'}]}, response_metadata={'finish_reason': 'tool_calls', 'model_name': 'gpt-3.5-turbo-0125'}, id='run-a480adae-9701-4e84-9360-7267b169fcfa', tool_calls=[{'name': 'getItems', 'args': {'place': 'On the Bed'}, 'id': 'call_GVraqpAULhHlxZiKgYOAtgdI', 'type': 'tool_call'}], tool_call_chunks=[{'name': 'getItems', 'args': '{\"place\":\"On the Bed\"}', 'id': 'call_GVraqpAULhHlxZiKgYOAtgdI', 'index': 0, 'type': 'tool_call_chunk'}])], tool_call_id='call_GVraqpAULhHlxZiKgYOAtgdI'), 'cat snacks')]}}, 'run_id': 'cdb1074c-cea4-40f4-98f6-0a1bb2536c81', 'name': 'RunnableLambda', 'tags': ['map:key:agent_scratchpad'], 'metadata': {}, 'parent_ids': ['81c1794c-706f-4eb6-be41-f8b1a583d798', 'a1413941-0def-460b-8fef-23323bbdb72f', 'c63337fb-d35e-4d80-b077-4b99503395dc', '455347fa-1c04-4a0e-ad20-52dbdae50936']}\n",
      "{'event': 'on_chain_end', 'data': {'output': {'agent_scratchpad': [AIMessageChunk(content='', additional_kwargs={'tool_calls': [{'index': 0, 'id': 'call_bOH2sfEJTk2Jv5rwmKGsd602', 'function': {'arguments': '{}', 'name': 'whereCatisHiding'}, 'type': 'function'}]}, response_metadata={'finish_reason': 'tool_calls', 'model_name': 'gpt-3.5-turbo-0125'}, id='run-f0f4a3e4-70ac-49ba-93ad-2db384329cce', tool_calls=[{'name': 'whereCatisHiding', 'args': {}, 'id': 'call_bOH2sfEJTk2Jv5rwmKGsd602', 'type': 'tool_call'}], tool_call_chunks=[{'name': 'whereCatisHiding', 'args': '{}', 'id': 'call_bOH2sfEJTk2Jv5rwmKGsd602', 'index': 0, 'type': 'tool_call_chunk'}]), ToolMessage(content='On the Bed', tool_call_id='call_bOH2sfEJTk2Jv5rwmKGsd602'), AIMessageChunk(content='', additional_kwargs={'tool_calls': [{'index': 0, 'id': 'call_GVraqpAULhHlxZiKgYOAtgdI', 'function': {'arguments': '{\"place\":\"On the Bed\"}', 'name': 'getItems'}, 'type': 'function'}]}, response_metadata={'finish_reason': 'tool_calls', 'model_name': 'gpt-3.5-turbo-0125'}, id='run-a480adae-9701-4e84-9360-7267b169fcfa', tool_calls=[{'name': 'getItems', 'args': {'place': 'On the Bed'}, 'id': 'call_GVraqpAULhHlxZiKgYOAtgdI', 'type': 'tool_call'}], tool_call_chunks=[{'name': 'getItems', 'args': '{\"place\":\"On the Bed\"}', 'id': 'call_GVraqpAULhHlxZiKgYOAtgdI', 'index': 0, 'type': 'tool_call_chunk'}]), ToolMessage(content='cat snacks', tool_call_id='call_GVraqpAULhHlxZiKgYOAtgdI')]}, 'input': {'input': 'What items are located where the cat is hiding?', 'intermediate_steps': [(ToolAgentAction(tool='whereCatisHiding', tool_input={}, log='\\nInvoking: `whereCatisHiding` with `{}`\\n\\n\\n', message_log=[AIMessageChunk(content='', additional_kwargs={'tool_calls': [{'index': 0, 'id': 'call_bOH2sfEJTk2Jv5rwmKGsd602', 'function': {'arguments': '{}', 'name': 'whereCatisHiding'}, 'type': 'function'}]}, response_metadata={'finish_reason': 'tool_calls', 'model_name': 'gpt-3.5-turbo-0125'}, id='run-f0f4a3e4-70ac-49ba-93ad-2db384329cce', tool_calls=[{'name': 'whereCatisHiding', 'args': {}, 'id': 'call_bOH2sfEJTk2Jv5rwmKGsd602', 'type': 'tool_call'}], tool_call_chunks=[{'name': 'whereCatisHiding', 'args': '{}', 'id': 'call_bOH2sfEJTk2Jv5rwmKGsd602', 'index': 0, 'type': 'tool_call_chunk'}])], tool_call_id='call_bOH2sfEJTk2Jv5rwmKGsd602'), 'On the Bed'), (ToolAgentAction(tool='getItems', tool_input={'place': 'On the Bed'}, log=\"\\nInvoking: `getItems` with `{'place': 'On the Bed'}`\\n\\n\\n\", message_log=[AIMessageChunk(content='', additional_kwargs={'tool_calls': [{'index': 0, 'id': 'call_GVraqpAULhHlxZiKgYOAtgdI', 'function': {'arguments': '{\"place\":\"On the Bed\"}', 'name': 'getItems'}, 'type': 'function'}]}, response_metadata={'finish_reason': 'tool_calls', 'model_name': 'gpt-3.5-turbo-0125'}, id='run-a480adae-9701-4e84-9360-7267b169fcfa', tool_calls=[{'name': 'getItems', 'args': {'place': 'On the Bed'}, 'id': 'call_GVraqpAULhHlxZiKgYOAtgdI', 'type': 'tool_call'}], tool_call_chunks=[{'name': 'getItems', 'args': '{\"place\":\"On the Bed\"}', 'id': 'call_GVraqpAULhHlxZiKgYOAtgdI', 'index': 0, 'type': 'tool_call_chunk'}])], tool_call_id='call_GVraqpAULhHlxZiKgYOAtgdI'), 'cat snacks')]}}, 'run_id': '455347fa-1c04-4a0e-ad20-52dbdae50936', 'name': 'RunnableParallel<agent_scratchpad>', 'tags': [], 'metadata': {}, 'parent_ids': ['81c1794c-706f-4eb6-be41-f8b1a583d798', 'a1413941-0def-460b-8fef-23323bbdb72f', 'c63337fb-d35e-4d80-b077-4b99503395dc']}\n",
      "{'event': 'on_chain_end', 'data': {'output': {'input': 'What items are located where the cat is hiding?', 'intermediate_steps': [(ToolAgentAction(tool='whereCatisHiding', tool_input={}, log='\\nInvoking: `whereCatisHiding` with `{}`\\n\\n\\n', message_log=[AIMessageChunk(content='', additional_kwargs={'tool_calls': [{'index': 0, 'id': 'call_bOH2sfEJTk2Jv5rwmKGsd602', 'function': {'arguments': '{}', 'name': 'whereCatisHiding'}, 'type': 'function'}]}, response_metadata={'finish_reason': 'tool_calls', 'model_name': 'gpt-3.5-turbo-0125'}, id='run-f0f4a3e4-70ac-49ba-93ad-2db384329cce', tool_calls=[{'name': 'whereCatisHiding', 'args': {}, 'id': 'call_bOH2sfEJTk2Jv5rwmKGsd602', 'type': 'tool_call'}], tool_call_chunks=[{'name': 'whereCatisHiding', 'args': '{}', 'id': 'call_bOH2sfEJTk2Jv5rwmKGsd602', 'index': 0, 'type': 'tool_call_chunk'}])], tool_call_id='call_bOH2sfEJTk2Jv5rwmKGsd602'), 'On the Bed'), (ToolAgentAction(tool='getItems', tool_input={'place': 'On the Bed'}, log=\"\\nInvoking: `getItems` with `{'place': 'On the Bed'}`\\n\\n\\n\", message_log=[AIMessageChunk(content='', additional_kwargs={'tool_calls': [{'index': 0, 'id': 'call_GVraqpAULhHlxZiKgYOAtgdI', 'function': {'arguments': '{\"place\":\"On the Bed\"}', 'name': 'getItems'}, 'type': 'function'}]}, response_metadata={'finish_reason': 'tool_calls', 'model_name': 'gpt-3.5-turbo-0125'}, id='run-a480adae-9701-4e84-9360-7267b169fcfa', tool_calls=[{'name': 'getItems', 'args': {'place': 'On the Bed'}, 'id': 'call_GVraqpAULhHlxZiKgYOAtgdI', 'type': 'tool_call'}], tool_call_chunks=[{'name': 'getItems', 'args': '{\"place\":\"On the Bed\"}', 'id': 'call_GVraqpAULhHlxZiKgYOAtgdI', 'index': 0, 'type': 'tool_call_chunk'}])], tool_call_id='call_GVraqpAULhHlxZiKgYOAtgdI'), 'cat snacks')], 'agent_scratchpad': [AIMessageChunk(content='', additional_kwargs={'tool_calls': [{'index': 0, 'id': 'call_bOH2sfEJTk2Jv5rwmKGsd602', 'function': {'arguments': '{}', 'name': 'whereCatisHiding'}, 'type': 'function'}]}, response_metadata={'finish_reason': 'tool_calls', 'model_name': 'gpt-3.5-turbo-0125'}, id='run-f0f4a3e4-70ac-49ba-93ad-2db384329cce', tool_calls=[{'name': 'whereCatisHiding', 'args': {}, 'id': 'call_bOH2sfEJTk2Jv5rwmKGsd602', 'type': 'tool_call'}], tool_call_chunks=[{'name': 'whereCatisHiding', 'args': '{}', 'id': 'call_bOH2sfEJTk2Jv5rwmKGsd602', 'index': 0, 'type': 'tool_call_chunk'}]), ToolMessage(content='On the Bed', tool_call_id='call_bOH2sfEJTk2Jv5rwmKGsd602'), AIMessageChunk(content='', additional_kwargs={'tool_calls': [{'index': 0, 'id': 'call_GVraqpAULhHlxZiKgYOAtgdI', 'function': {'arguments': '{\"place\":\"On the Bed\"}', 'name': 'getItems'}, 'type': 'function'}]}, response_metadata={'finish_reason': 'tool_calls', 'model_name': 'gpt-3.5-turbo-0125'}, id='run-a480adae-9701-4e84-9360-7267b169fcfa', tool_calls=[{'name': 'getItems', 'args': {'place': 'On the Bed'}, 'id': 'call_GVraqpAULhHlxZiKgYOAtgdI', 'type': 'tool_call'}], tool_call_chunks=[{'name': 'getItems', 'args': '{\"place\":\"On the Bed\"}', 'id': 'call_GVraqpAULhHlxZiKgYOAtgdI', 'index': 0, 'type': 'tool_call_chunk'}]), ToolMessage(content='cat snacks', tool_call_id='call_GVraqpAULhHlxZiKgYOAtgdI')]}, 'input': {'input': 'What items are located where the cat is hiding?', 'intermediate_steps': [(ToolAgentAction(tool='whereCatisHiding', tool_input={}, log='\\nInvoking: `whereCatisHiding` with `{}`\\n\\n\\n', message_log=[AIMessageChunk(content='', additional_kwargs={'tool_calls': [{'index': 0, 'id': 'call_bOH2sfEJTk2Jv5rwmKGsd602', 'function': {'arguments': '{}', 'name': 'whereCatisHiding'}, 'type': 'function'}]}, response_metadata={'finish_reason': 'tool_calls', 'model_name': 'gpt-3.5-turbo-0125'}, id='run-f0f4a3e4-70ac-49ba-93ad-2db384329cce', tool_calls=[{'name': 'whereCatisHiding', 'args': {}, 'id': 'call_bOH2sfEJTk2Jv5rwmKGsd602', 'type': 'tool_call'}], tool_call_chunks=[{'name': 'whereCatisHiding', 'args': '{}', 'id': 'call_bOH2sfEJTk2Jv5rwmKGsd602', 'index': 0, 'type': 'tool_call_chunk'}])], tool_call_id='call_bOH2sfEJTk2Jv5rwmKGsd602'), 'On the Bed'), (ToolAgentAction(tool='getItems', tool_input={'place': 'On the Bed'}, log=\"\\nInvoking: `getItems` with `{'place': 'On the Bed'}`\\n\\n\\n\", message_log=[AIMessageChunk(content='', additional_kwargs={'tool_calls': [{'index': 0, 'id': 'call_GVraqpAULhHlxZiKgYOAtgdI', 'function': {'arguments': '{\"place\":\"On the Bed\"}', 'name': 'getItems'}, 'type': 'function'}]}, response_metadata={'finish_reason': 'tool_calls', 'model_name': 'gpt-3.5-turbo-0125'}, id='run-a480adae-9701-4e84-9360-7267b169fcfa', tool_calls=[{'name': 'getItems', 'args': {'place': 'On the Bed'}, 'id': 'call_GVraqpAULhHlxZiKgYOAtgdI', 'type': 'tool_call'}], tool_call_chunks=[{'name': 'getItems', 'args': '{\"place\":\"On the Bed\"}', 'id': 'call_GVraqpAULhHlxZiKgYOAtgdI', 'index': 0, 'type': 'tool_call_chunk'}])], tool_call_id='call_GVraqpAULhHlxZiKgYOAtgdI'), 'cat snacks')]}}, 'run_id': 'c63337fb-d35e-4d80-b077-4b99503395dc', 'name': 'RunnableAssign<agent_scratchpad>', 'tags': ['seq:step:1'], 'metadata': {}, 'parent_ids': ['81c1794c-706f-4eb6-be41-f8b1a583d798', 'a1413941-0def-460b-8fef-23323bbdb72f']}\n",
      "{'event': 'on_prompt_start', 'data': {'input': {'input': 'What items are located where the cat is hiding?', 'intermediate_steps': [(ToolAgentAction(tool='whereCatisHiding', tool_input={}, log='\\nInvoking: `whereCatisHiding` with `{}`\\n\\n\\n', message_log=[AIMessageChunk(content='', additional_kwargs={'tool_calls': [{'index': 0, 'id': 'call_bOH2sfEJTk2Jv5rwmKGsd602', 'function': {'arguments': '{}', 'name': 'whereCatisHiding'}, 'type': 'function'}]}, response_metadata={'finish_reason': 'tool_calls', 'model_name': 'gpt-3.5-turbo-0125'}, id='run-f0f4a3e4-70ac-49ba-93ad-2db384329cce', tool_calls=[{'name': 'whereCatisHiding', 'args': {}, 'id': 'call_bOH2sfEJTk2Jv5rwmKGsd602', 'type': 'tool_call'}], tool_call_chunks=[{'name': 'whereCatisHiding', 'args': '{}', 'id': 'call_bOH2sfEJTk2Jv5rwmKGsd602', 'index': 0, 'type': 'tool_call_chunk'}])], tool_call_id='call_bOH2sfEJTk2Jv5rwmKGsd602'), 'On the Bed'), (ToolAgentAction(tool='getItems', tool_input={'place': 'On the Bed'}, log=\"\\nInvoking: `getItems` with `{'place': 'On the Bed'}`\\n\\n\\n\", message_log=[AIMessageChunk(content='', additional_kwargs={'tool_calls': [{'index': 0, 'id': 'call_GVraqpAULhHlxZiKgYOAtgdI', 'function': {'arguments': '{\"place\":\"On the Bed\"}', 'name': 'getItems'}, 'type': 'function'}]}, response_metadata={'finish_reason': 'tool_calls', 'model_name': 'gpt-3.5-turbo-0125'}, id='run-a480adae-9701-4e84-9360-7267b169fcfa', tool_calls=[{'name': 'getItems', 'args': {'place': 'On the Bed'}, 'id': 'call_GVraqpAULhHlxZiKgYOAtgdI', 'type': 'tool_call'}], tool_call_chunks=[{'name': 'getItems', 'args': '{\"place\":\"On the Bed\"}', 'id': 'call_GVraqpAULhHlxZiKgYOAtgdI', 'index': 0, 'type': 'tool_call_chunk'}])], tool_call_id='call_GVraqpAULhHlxZiKgYOAtgdI'), 'cat snacks')], 'agent_scratchpad': [AIMessageChunk(content='', additional_kwargs={'tool_calls': [{'index': 0, 'id': 'call_bOH2sfEJTk2Jv5rwmKGsd602', 'function': {'arguments': '{}', 'name': 'whereCatisHiding'}, 'type': 'function'}]}, response_metadata={'finish_reason': 'tool_calls', 'model_name': 'gpt-3.5-turbo-0125'}, id='run-f0f4a3e4-70ac-49ba-93ad-2db384329cce', tool_calls=[{'name': 'whereCatisHiding', 'args': {}, 'id': 'call_bOH2sfEJTk2Jv5rwmKGsd602', 'type': 'tool_call'}], tool_call_chunks=[{'name': 'whereCatisHiding', 'args': '{}', 'id': 'call_bOH2sfEJTk2Jv5rwmKGsd602', 'index': 0, 'type': 'tool_call_chunk'}]), ToolMessage(content='On the Bed', tool_call_id='call_bOH2sfEJTk2Jv5rwmKGsd602'), AIMessageChunk(content='', additional_kwargs={'tool_calls': [{'index': 0, 'id': 'call_GVraqpAULhHlxZiKgYOAtgdI', 'function': {'arguments': '{\"place\":\"On the Bed\"}', 'name': 'getItems'}, 'type': 'function'}]}, response_metadata={'finish_reason': 'tool_calls', 'model_name': 'gpt-3.5-turbo-0125'}, id='run-a480adae-9701-4e84-9360-7267b169fcfa', tool_calls=[{'name': 'getItems', 'args': {'place': 'On the Bed'}, 'id': 'call_GVraqpAULhHlxZiKgYOAtgdI', 'type': 'tool_call'}], tool_call_chunks=[{'name': 'getItems', 'args': '{\"place\":\"On the Bed\"}', 'id': 'call_GVraqpAULhHlxZiKgYOAtgdI', 'index': 0, 'type': 'tool_call_chunk'}]), ToolMessage(content='cat snacks', tool_call_id='call_GVraqpAULhHlxZiKgYOAtgdI')]}}, 'name': 'ChatPromptTemplate', 'tags': ['seq:step:2'], 'run_id': '9fc5d410-4af4-48f3-aa6b-224a977375cd', 'metadata': {'lc_hub_owner': 'hwchase17', 'lc_hub_repo': 'openai-tools-agent', 'lc_hub_commit_hash': 'c18672812789a3b9697656dd539edf0120285dcae36396d0b548ae42a4ed66f5'}, 'parent_ids': ['81c1794c-706f-4eb6-be41-f8b1a583d798', 'a1413941-0def-460b-8fef-23323bbdb72f']}\n",
      "{'event': 'on_prompt_end', 'data': {'output': ChatPromptValue(messages=[SystemMessage(content='You are a helpful assistant', additional_kwargs={}, response_metadata={}), HumanMessage(content='What items are located where the cat is hiding?', additional_kwargs={}, response_metadata={}), AIMessageChunk(content='', additional_kwargs={'tool_calls': [{'index': 0, 'id': 'call_bOH2sfEJTk2Jv5rwmKGsd602', 'function': {'arguments': '{}', 'name': 'whereCatisHiding'}, 'type': 'function'}]}, response_metadata={'finish_reason': 'tool_calls', 'model_name': 'gpt-3.5-turbo-0125'}, id='run-f0f4a3e4-70ac-49ba-93ad-2db384329cce', tool_calls=[{'name': 'whereCatisHiding', 'args': {}, 'id': 'call_bOH2sfEJTk2Jv5rwmKGsd602', 'type': 'tool_call'}], tool_call_chunks=[{'name': 'whereCatisHiding', 'args': '{}', 'id': 'call_bOH2sfEJTk2Jv5rwmKGsd602', 'index': 0, 'type': 'tool_call_chunk'}]), ToolMessage(content='On the Bed', tool_call_id='call_bOH2sfEJTk2Jv5rwmKGsd602'), AIMessageChunk(content='', additional_kwargs={'tool_calls': [{'index': 0, 'id': 'call_GVraqpAULhHlxZiKgYOAtgdI', 'function': {'arguments': '{\"place\":\"On the Bed\"}', 'name': 'getItems'}, 'type': 'function'}]}, response_metadata={'finish_reason': 'tool_calls', 'model_name': 'gpt-3.5-turbo-0125'}, id='run-a480adae-9701-4e84-9360-7267b169fcfa', tool_calls=[{'name': 'getItems', 'args': {'place': 'On the Bed'}, 'id': 'call_GVraqpAULhHlxZiKgYOAtgdI', 'type': 'tool_call'}], tool_call_chunks=[{'name': 'getItems', 'args': '{\"place\":\"On the Bed\"}', 'id': 'call_GVraqpAULhHlxZiKgYOAtgdI', 'index': 0, 'type': 'tool_call_chunk'}]), ToolMessage(content='cat snacks', tool_call_id='call_GVraqpAULhHlxZiKgYOAtgdI')]), 'input': {'input': 'What items are located where the cat is hiding?', 'intermediate_steps': [(ToolAgentAction(tool='whereCatisHiding', tool_input={}, log='\\nInvoking: `whereCatisHiding` with `{}`\\n\\n\\n', message_log=[AIMessageChunk(content='', additional_kwargs={'tool_calls': [{'index': 0, 'id': 'call_bOH2sfEJTk2Jv5rwmKGsd602', 'function': {'arguments': '{}', 'name': 'whereCatisHiding'}, 'type': 'function'}]}, response_metadata={'finish_reason': 'tool_calls', 'model_name': 'gpt-3.5-turbo-0125'}, id='run-f0f4a3e4-70ac-49ba-93ad-2db384329cce', tool_calls=[{'name': 'whereCatisHiding', 'args': {}, 'id': 'call_bOH2sfEJTk2Jv5rwmKGsd602', 'type': 'tool_call'}], tool_call_chunks=[{'name': 'whereCatisHiding', 'args': '{}', 'id': 'call_bOH2sfEJTk2Jv5rwmKGsd602', 'index': 0, 'type': 'tool_call_chunk'}])], tool_call_id='call_bOH2sfEJTk2Jv5rwmKGsd602'), 'On the Bed'), (ToolAgentAction(tool='getItems', tool_input={'place': 'On the Bed'}, log=\"\\nInvoking: `getItems` with `{'place': 'On the Bed'}`\\n\\n\\n\", message_log=[AIMessageChunk(content='', additional_kwargs={'tool_calls': [{'index': 0, 'id': 'call_GVraqpAULhHlxZiKgYOAtgdI', 'function': {'arguments': '{\"place\":\"On the Bed\"}', 'name': 'getItems'}, 'type': 'function'}]}, response_metadata={'finish_reason': 'tool_calls', 'model_name': 'gpt-3.5-turbo-0125'}, id='run-a480adae-9701-4e84-9360-7267b169fcfa', tool_calls=[{'name': 'getItems', 'args': {'place': 'On the Bed'}, 'id': 'call_GVraqpAULhHlxZiKgYOAtgdI', 'type': 'tool_call'}], tool_call_chunks=[{'name': 'getItems', 'args': '{\"place\":\"On the Bed\"}', 'id': 'call_GVraqpAULhHlxZiKgYOAtgdI', 'index': 0, 'type': 'tool_call_chunk'}])], tool_call_id='call_GVraqpAULhHlxZiKgYOAtgdI'), 'cat snacks')], 'agent_scratchpad': [AIMessageChunk(content='', additional_kwargs={'tool_calls': [{'index': 0, 'id': 'call_bOH2sfEJTk2Jv5rwmKGsd602', 'function': {'arguments': '{}', 'name': 'whereCatisHiding'}, 'type': 'function'}]}, response_metadata={'finish_reason': 'tool_calls', 'model_name': 'gpt-3.5-turbo-0125'}, id='run-f0f4a3e4-70ac-49ba-93ad-2db384329cce', tool_calls=[{'name': 'whereCatisHiding', 'args': {}, 'id': 'call_bOH2sfEJTk2Jv5rwmKGsd602', 'type': 'tool_call'}], tool_call_chunks=[{'name': 'whereCatisHiding', 'args': '{}', 'id': 'call_bOH2sfEJTk2Jv5rwmKGsd602', 'index': 0, 'type': 'tool_call_chunk'}]), ToolMessage(content='On the Bed', tool_call_id='call_bOH2sfEJTk2Jv5rwmKGsd602'), AIMessageChunk(content='', additional_kwargs={'tool_calls': [{'index': 0, 'id': 'call_GVraqpAULhHlxZiKgYOAtgdI', 'function': {'arguments': '{\"place\":\"On the Bed\"}', 'name': 'getItems'}, 'type': 'function'}]}, response_metadata={'finish_reason': 'tool_calls', 'model_name': 'gpt-3.5-turbo-0125'}, id='run-a480adae-9701-4e84-9360-7267b169fcfa', tool_calls=[{'name': 'getItems', 'args': {'place': 'On the Bed'}, 'id': 'call_GVraqpAULhHlxZiKgYOAtgdI', 'type': 'tool_call'}], tool_call_chunks=[{'name': 'getItems', 'args': '{\"place\":\"On the Bed\"}', 'id': 'call_GVraqpAULhHlxZiKgYOAtgdI', 'index': 0, 'type': 'tool_call_chunk'}]), ToolMessage(content='cat snacks', tool_call_id='call_GVraqpAULhHlxZiKgYOAtgdI')]}}, 'run_id': '9fc5d410-4af4-48f3-aa6b-224a977375cd', 'name': 'ChatPromptTemplate', 'tags': ['seq:step:2'], 'metadata': {'lc_hub_owner': 'hwchase17', 'lc_hub_repo': 'openai-tools-agent', 'lc_hub_commit_hash': 'c18672812789a3b9697656dd539edf0120285dcae36396d0b548ae42a4ed66f5'}, 'parent_ids': ['81c1794c-706f-4eb6-be41-f8b1a583d798', 'a1413941-0def-460b-8fef-23323bbdb72f']}\n",
      "{'event': 'on_chat_model_start', 'data': {'input': {'messages': [[SystemMessage(content='You are a helpful assistant', additional_kwargs={}, response_metadata={}), HumanMessage(content='What items are located where the cat is hiding?', additional_kwargs={}, response_metadata={}), AIMessageChunk(content='', additional_kwargs={'tool_calls': [{'index': 0, 'id': 'call_bOH2sfEJTk2Jv5rwmKGsd602', 'function': {'arguments': '{}', 'name': 'whereCatisHiding'}, 'type': 'function'}]}, response_metadata={'finish_reason': 'tool_calls', 'model_name': 'gpt-3.5-turbo-0125'}, id='run-f0f4a3e4-70ac-49ba-93ad-2db384329cce', tool_calls=[{'name': 'whereCatisHiding', 'args': {}, 'id': 'call_bOH2sfEJTk2Jv5rwmKGsd602', 'type': 'tool_call'}], tool_call_chunks=[{'name': 'whereCatisHiding', 'args': '{}', 'id': 'call_bOH2sfEJTk2Jv5rwmKGsd602', 'index': 0, 'type': 'tool_call_chunk'}]), ToolMessage(content='On the Bed', tool_call_id='call_bOH2sfEJTk2Jv5rwmKGsd602'), AIMessageChunk(content='', additional_kwargs={'tool_calls': [{'index': 0, 'id': 'call_GVraqpAULhHlxZiKgYOAtgdI', 'function': {'arguments': '{\"place\":\"On the Bed\"}', 'name': 'getItems'}, 'type': 'function'}]}, response_metadata={'finish_reason': 'tool_calls', 'model_name': 'gpt-3.5-turbo-0125'}, id='run-a480adae-9701-4e84-9360-7267b169fcfa', tool_calls=[{'name': 'getItems', 'args': {'place': 'On the Bed'}, 'id': 'call_GVraqpAULhHlxZiKgYOAtgdI', 'type': 'tool_call'}], tool_call_chunks=[{'name': 'getItems', 'args': '{\"place\":\"On the Bed\"}', 'id': 'call_GVraqpAULhHlxZiKgYOAtgdI', 'index': 0, 'type': 'tool_call_chunk'}]), ToolMessage(content='cat snacks', tool_call_id='call_GVraqpAULhHlxZiKgYOAtgdI')]]}}, 'name': 'ChatOpenAI', 'tags': ['seq:step:3', 'agent_llm'], 'run_id': '5294b37e-3c78-4334-9a36-2cd576ef26fc', 'metadata': {'ls_provider': 'openai', 'ls_model_name': 'gpt-3.5-turbo', 'ls_model_type': 'chat', 'ls_temperature': 0.7}, 'parent_ids': ['81c1794c-706f-4eb6-be41-f8b1a583d798', 'a1413941-0def-460b-8fef-23323bbdb72f']}\n",
      "{'event': 'on_chat_model_stream', 'data': {'chunk': AIMessageChunk(content='', additional_kwargs={}, response_metadata={}, id='run-5294b37e-3c78-4334-9a36-2cd576ef26fc')}, 'run_id': '5294b37e-3c78-4334-9a36-2cd576ef26fc', 'name': 'ChatOpenAI', 'tags': ['seq:step:3', 'agent_llm'], 'metadata': {'ls_provider': 'openai', 'ls_model_name': 'gpt-3.5-turbo', 'ls_model_type': 'chat', 'ls_temperature': 0.7}, 'parent_ids': ['81c1794c-706f-4eb6-be41-f8b1a583d798', 'a1413941-0def-460b-8fef-23323bbdb72f']}\n",
      "{'event': 'on_chat_model_stream', 'data': {'chunk': AIMessageChunk(content='The', additional_kwargs={}, response_metadata={}, id='run-5294b37e-3c78-4334-9a36-2cd576ef26fc')}, 'run_id': '5294b37e-3c78-4334-9a36-2cd576ef26fc', 'name': 'ChatOpenAI', 'tags': ['seq:step:3', 'agent_llm'], 'metadata': {'ls_provider': 'openai', 'ls_model_name': 'gpt-3.5-turbo', 'ls_model_type': 'chat', 'ls_temperature': 0.7}, 'parent_ids': ['81c1794c-706f-4eb6-be41-f8b1a583d798', 'a1413941-0def-460b-8fef-23323bbdb72f']}\n",
      "{'event': 'on_chat_model_stream', 'data': {'chunk': AIMessageChunk(content=' items', additional_kwargs={}, response_metadata={}, id='run-5294b37e-3c78-4334-9a36-2cd576ef26fc')}, 'run_id': '5294b37e-3c78-4334-9a36-2cd576ef26fc', 'name': 'ChatOpenAI', 'tags': ['seq:step:3', 'agent_llm'], 'metadata': {'ls_provider': 'openai', 'ls_model_name': 'gpt-3.5-turbo', 'ls_model_type': 'chat', 'ls_temperature': 0.7}, 'parent_ids': ['81c1794c-706f-4eb6-be41-f8b1a583d798', 'a1413941-0def-460b-8fef-23323bbdb72f']}\n",
      "{'event': 'on_chat_model_stream', 'data': {'chunk': AIMessageChunk(content=' located', additional_kwargs={}, response_metadata={}, id='run-5294b37e-3c78-4334-9a36-2cd576ef26fc')}, 'run_id': '5294b37e-3c78-4334-9a36-2cd576ef26fc', 'name': 'ChatOpenAI', 'tags': ['seq:step:3', 'agent_llm'], 'metadata': {'ls_provider': 'openai', 'ls_model_name': 'gpt-3.5-turbo', 'ls_model_type': 'chat', 'ls_temperature': 0.7}, 'parent_ids': ['81c1794c-706f-4eb6-be41-f8b1a583d798', 'a1413941-0def-460b-8fef-23323bbdb72f']}\n",
      "{'event': 'on_chat_model_stream', 'data': {'chunk': AIMessageChunk(content=' where', additional_kwargs={}, response_metadata={}, id='run-5294b37e-3c78-4334-9a36-2cd576ef26fc')}, 'run_id': '5294b37e-3c78-4334-9a36-2cd576ef26fc', 'name': 'ChatOpenAI', 'tags': ['seq:step:3', 'agent_llm'], 'metadata': {'ls_provider': 'openai', 'ls_model_name': 'gpt-3.5-turbo', 'ls_model_type': 'chat', 'ls_temperature': 0.7}, 'parent_ids': ['81c1794c-706f-4eb6-be41-f8b1a583d798', 'a1413941-0def-460b-8fef-23323bbdb72f']}\n",
      "{'event': 'on_chat_model_stream', 'data': {'chunk': AIMessageChunk(content=' the', additional_kwargs={}, response_metadata={}, id='run-5294b37e-3c78-4334-9a36-2cd576ef26fc')}, 'run_id': '5294b37e-3c78-4334-9a36-2cd576ef26fc', 'name': 'ChatOpenAI', 'tags': ['seq:step:3', 'agent_llm'], 'metadata': {'ls_provider': 'openai', 'ls_model_name': 'gpt-3.5-turbo', 'ls_model_type': 'chat', 'ls_temperature': 0.7}, 'parent_ids': ['81c1794c-706f-4eb6-be41-f8b1a583d798', 'a1413941-0def-460b-8fef-23323bbdb72f']}\n",
      "{'event': 'on_chat_model_stream', 'data': {'chunk': AIMessageChunk(content=' cat', additional_kwargs={}, response_metadata={}, id='run-5294b37e-3c78-4334-9a36-2cd576ef26fc')}, 'run_id': '5294b37e-3c78-4334-9a36-2cd576ef26fc', 'name': 'ChatOpenAI', 'tags': ['seq:step:3', 'agent_llm'], 'metadata': {'ls_provider': 'openai', 'ls_model_name': 'gpt-3.5-turbo', 'ls_model_type': 'chat', 'ls_temperature': 0.7}, 'parent_ids': ['81c1794c-706f-4eb6-be41-f8b1a583d798', 'a1413941-0def-460b-8fef-23323bbdb72f']}\n",
      "{'event': 'on_chat_model_stream', 'data': {'chunk': AIMessageChunk(content=' is', additional_kwargs={}, response_metadata={}, id='run-5294b37e-3c78-4334-9a36-2cd576ef26fc')}, 'run_id': '5294b37e-3c78-4334-9a36-2cd576ef26fc', 'name': 'ChatOpenAI', 'tags': ['seq:step:3', 'agent_llm'], 'metadata': {'ls_provider': 'openai', 'ls_model_name': 'gpt-3.5-turbo', 'ls_model_type': 'chat', 'ls_temperature': 0.7}, 'parent_ids': ['81c1794c-706f-4eb6-be41-f8b1a583d798', 'a1413941-0def-460b-8fef-23323bbdb72f']}\n",
      "{'event': 'on_chat_model_stream', 'data': {'chunk': AIMessageChunk(content=' hiding', additional_kwargs={}, response_metadata={}, id='run-5294b37e-3c78-4334-9a36-2cd576ef26fc')}, 'run_id': '5294b37e-3c78-4334-9a36-2cd576ef26fc', 'name': 'ChatOpenAI', 'tags': ['seq:step:3', 'agent_llm'], 'metadata': {'ls_provider': 'openai', 'ls_model_name': 'gpt-3.5-turbo', 'ls_model_type': 'chat', 'ls_temperature': 0.7}, 'parent_ids': ['81c1794c-706f-4eb6-be41-f8b1a583d798', 'a1413941-0def-460b-8fef-23323bbdb72f']}\n",
      "{'event': 'on_chat_model_stream', 'data': {'chunk': AIMessageChunk(content=' (', additional_kwargs={}, response_metadata={}, id='run-5294b37e-3c78-4334-9a36-2cd576ef26fc')}, 'run_id': '5294b37e-3c78-4334-9a36-2cd576ef26fc', 'name': 'ChatOpenAI', 'tags': ['seq:step:3', 'agent_llm'], 'metadata': {'ls_provider': 'openai', 'ls_model_name': 'gpt-3.5-turbo', 'ls_model_type': 'chat', 'ls_temperature': 0.7}, 'parent_ids': ['81c1794c-706f-4eb6-be41-f8b1a583d798', 'a1413941-0def-460b-8fef-23323bbdb72f']}\n",
      "{'event': 'on_chat_model_stream', 'data': {'chunk': AIMessageChunk(content='on', additional_kwargs={}, response_metadata={}, id='run-5294b37e-3c78-4334-9a36-2cd576ef26fc')}, 'run_id': '5294b37e-3c78-4334-9a36-2cd576ef26fc', 'name': 'ChatOpenAI', 'tags': ['seq:step:3', 'agent_llm'], 'metadata': {'ls_provider': 'openai', 'ls_model_name': 'gpt-3.5-turbo', 'ls_model_type': 'chat', 'ls_temperature': 0.7}, 'parent_ids': ['81c1794c-706f-4eb6-be41-f8b1a583d798', 'a1413941-0def-460b-8fef-23323bbdb72f']}\n",
      "{'event': 'on_chat_model_stream', 'data': {'chunk': AIMessageChunk(content=' the', additional_kwargs={}, response_metadata={}, id='run-5294b37e-3c78-4334-9a36-2cd576ef26fc')}, 'run_id': '5294b37e-3c78-4334-9a36-2cd576ef26fc', 'name': 'ChatOpenAI', 'tags': ['seq:step:3', 'agent_llm'], 'metadata': {'ls_provider': 'openai', 'ls_model_name': 'gpt-3.5-turbo', 'ls_model_type': 'chat', 'ls_temperature': 0.7}, 'parent_ids': ['81c1794c-706f-4eb6-be41-f8b1a583d798', 'a1413941-0def-460b-8fef-23323bbdb72f']}\n",
      "{'event': 'on_chat_model_stream', 'data': {'chunk': AIMessageChunk(content=' bed', additional_kwargs={}, response_metadata={}, id='run-5294b37e-3c78-4334-9a36-2cd576ef26fc')}, 'run_id': '5294b37e-3c78-4334-9a36-2cd576ef26fc', 'name': 'ChatOpenAI', 'tags': ['seq:step:3', 'agent_llm'], 'metadata': {'ls_provider': 'openai', 'ls_model_name': 'gpt-3.5-turbo', 'ls_model_type': 'chat', 'ls_temperature': 0.7}, 'parent_ids': ['81c1794c-706f-4eb6-be41-f8b1a583d798', 'a1413941-0def-460b-8fef-23323bbdb72f']}\n",
      "{'event': 'on_chat_model_stream', 'data': {'chunk': AIMessageChunk(content=')', additional_kwargs={}, response_metadata={}, id='run-5294b37e-3c78-4334-9a36-2cd576ef26fc')}, 'run_id': '5294b37e-3c78-4334-9a36-2cd576ef26fc', 'name': 'ChatOpenAI', 'tags': ['seq:step:3', 'agent_llm'], 'metadata': {'ls_provider': 'openai', 'ls_model_name': 'gpt-3.5-turbo', 'ls_model_type': 'chat', 'ls_temperature': 0.7}, 'parent_ids': ['81c1794c-706f-4eb6-be41-f8b1a583d798', 'a1413941-0def-460b-8fef-23323bbdb72f']}\n",
      "{'event': 'on_chat_model_stream', 'data': {'chunk': AIMessageChunk(content=' are', additional_kwargs={}, response_metadata={}, id='run-5294b37e-3c78-4334-9a36-2cd576ef26fc')}, 'run_id': '5294b37e-3c78-4334-9a36-2cd576ef26fc', 'name': 'ChatOpenAI', 'tags': ['seq:step:3', 'agent_llm'], 'metadata': {'ls_provider': 'openai', 'ls_model_name': 'gpt-3.5-turbo', 'ls_model_type': 'chat', 'ls_temperature': 0.7}, 'parent_ids': ['81c1794c-706f-4eb6-be41-f8b1a583d798', 'a1413941-0def-460b-8fef-23323bbdb72f']}\n",
      "{'event': 'on_chat_model_stream', 'data': {'chunk': AIMessageChunk(content=' cat', additional_kwargs={}, response_metadata={}, id='run-5294b37e-3c78-4334-9a36-2cd576ef26fc')}, 'run_id': '5294b37e-3c78-4334-9a36-2cd576ef26fc', 'name': 'ChatOpenAI', 'tags': ['seq:step:3', 'agent_llm'], 'metadata': {'ls_provider': 'openai', 'ls_model_name': 'gpt-3.5-turbo', 'ls_model_type': 'chat', 'ls_temperature': 0.7}, 'parent_ids': ['81c1794c-706f-4eb6-be41-f8b1a583d798', 'a1413941-0def-460b-8fef-23323bbdb72f']}\n",
      "{'event': 'on_chat_model_stream', 'data': {'chunk': AIMessageChunk(content=' snacks', additional_kwargs={}, response_metadata={}, id='run-5294b37e-3c78-4334-9a36-2cd576ef26fc')}, 'run_id': '5294b37e-3c78-4334-9a36-2cd576ef26fc', 'name': 'ChatOpenAI', 'tags': ['seq:step:3', 'agent_llm'], 'metadata': {'ls_provider': 'openai', 'ls_model_name': 'gpt-3.5-turbo', 'ls_model_type': 'chat', 'ls_temperature': 0.7}, 'parent_ids': ['81c1794c-706f-4eb6-be41-f8b1a583d798', 'a1413941-0def-460b-8fef-23323bbdb72f']}\n",
      "{'event': 'on_chat_model_stream', 'data': {'chunk': AIMessageChunk(content='.', additional_kwargs={}, response_metadata={}, id='run-5294b37e-3c78-4334-9a36-2cd576ef26fc')}, 'run_id': '5294b37e-3c78-4334-9a36-2cd576ef26fc', 'name': 'ChatOpenAI', 'tags': ['seq:step:3', 'agent_llm'], 'metadata': {'ls_provider': 'openai', 'ls_model_name': 'gpt-3.5-turbo', 'ls_model_type': 'chat', 'ls_temperature': 0.7}, 'parent_ids': ['81c1794c-706f-4eb6-be41-f8b1a583d798', 'a1413941-0def-460b-8fef-23323bbdb72f']}\n",
      "{'event': 'on_chat_model_stream', 'data': {'chunk': AIMessageChunk(content='', additional_kwargs={}, response_metadata={'finish_reason': 'stop', 'model_name': 'gpt-3.5-turbo-0125'}, id='run-5294b37e-3c78-4334-9a36-2cd576ef26fc')}, 'run_id': '5294b37e-3c78-4334-9a36-2cd576ef26fc', 'name': 'ChatOpenAI', 'tags': ['seq:step:3', 'agent_llm'], 'metadata': {'ls_provider': 'openai', 'ls_model_name': 'gpt-3.5-turbo', 'ls_model_type': 'chat', 'ls_temperature': 0.7}, 'parent_ids': ['81c1794c-706f-4eb6-be41-f8b1a583d798', 'a1413941-0def-460b-8fef-23323bbdb72f']}\n",
      "{'event': 'on_chat_model_end', 'data': {'output': AIMessageChunk(content='The items located where the cat is hiding (on the bed) are cat snacks.', additional_kwargs={}, response_metadata={'finish_reason': 'stop', 'model_name': 'gpt-3.5-turbo-0125'}, id='run-5294b37e-3c78-4334-9a36-2cd576ef26fc'), 'input': {'messages': [[SystemMessage(content='You are a helpful assistant', additional_kwargs={}, response_metadata={}), HumanMessage(content='What items are located where the cat is hiding?', additional_kwargs={}, response_metadata={}), AIMessageChunk(content='', additional_kwargs={'tool_calls': [{'index': 0, 'id': 'call_bOH2sfEJTk2Jv5rwmKGsd602', 'function': {'arguments': '{}', 'name': 'whereCatisHiding'}, 'type': 'function'}]}, response_metadata={'finish_reason': 'tool_calls', 'model_name': 'gpt-3.5-turbo-0125'}, id='run-f0f4a3e4-70ac-49ba-93ad-2db384329cce', tool_calls=[{'name': 'whereCatisHiding', 'args': {}, 'id': 'call_bOH2sfEJTk2Jv5rwmKGsd602', 'type': 'tool_call'}], tool_call_chunks=[{'name': 'whereCatisHiding', 'args': '{}', 'id': 'call_bOH2sfEJTk2Jv5rwmKGsd602', 'index': 0, 'type': 'tool_call_chunk'}]), ToolMessage(content='On the Bed', tool_call_id='call_bOH2sfEJTk2Jv5rwmKGsd602'), AIMessageChunk(content='', additional_kwargs={'tool_calls': [{'index': 0, 'id': 'call_GVraqpAULhHlxZiKgYOAtgdI', 'function': {'arguments': '{\"place\":\"On the Bed\"}', 'name': 'getItems'}, 'type': 'function'}]}, response_metadata={'finish_reason': 'tool_calls', 'model_name': 'gpt-3.5-turbo-0125'}, id='run-a480adae-9701-4e84-9360-7267b169fcfa', tool_calls=[{'name': 'getItems', 'args': {'place': 'On the Bed'}, 'id': 'call_GVraqpAULhHlxZiKgYOAtgdI', 'type': 'tool_call'}], tool_call_chunks=[{'name': 'getItems', 'args': '{\"place\":\"On the Bed\"}', 'id': 'call_GVraqpAULhHlxZiKgYOAtgdI', 'index': 0, 'type': 'tool_call_chunk'}]), ToolMessage(content='cat snacks', tool_call_id='call_GVraqpAULhHlxZiKgYOAtgdI')]]}}, 'run_id': '5294b37e-3c78-4334-9a36-2cd576ef26fc', 'name': 'ChatOpenAI', 'tags': ['seq:step:3', 'agent_llm'], 'metadata': {'ls_provider': 'openai', 'ls_model_name': 'gpt-3.5-turbo', 'ls_model_type': 'chat', 'ls_temperature': 0.7}, 'parent_ids': ['81c1794c-706f-4eb6-be41-f8b1a583d798', 'a1413941-0def-460b-8fef-23323bbdb72f']}\n",
      "{'event': 'on_parser_start', 'data': {'input': AIMessageChunk(content='The items located where the cat is hiding (on the bed) are cat snacks.', additional_kwargs={}, response_metadata={'finish_reason': 'stop', 'model_name': 'gpt-3.5-turbo-0125'}, id='run-5294b37e-3c78-4334-9a36-2cd576ef26fc')}, 'name': 'OpenAIToolsAgentOutputParser', 'tags': ['seq:step:4'], 'run_id': '0fa4b84b-eb73-4560-a288-cb9d36bf9eb4', 'metadata': {}, 'parent_ids': ['81c1794c-706f-4eb6-be41-f8b1a583d798', 'a1413941-0def-460b-8fef-23323bbdb72f']}\n",
      "{'event': 'on_parser_end', 'data': {'output': AgentFinish(return_values={'output': 'The items located where the cat is hiding (on the bed) are cat snacks.'}, log='The items located where the cat is hiding (on the bed) are cat snacks.'), 'input': AIMessageChunk(content='The items located where the cat is hiding (on the bed) are cat snacks.', additional_kwargs={}, response_metadata={'finish_reason': 'stop', 'model_name': 'gpt-3.5-turbo-0125'}, id='run-5294b37e-3c78-4334-9a36-2cd576ef26fc')}, 'run_id': '0fa4b84b-eb73-4560-a288-cb9d36bf9eb4', 'name': 'OpenAIToolsAgentOutputParser', 'tags': ['seq:step:4'], 'metadata': {}, 'parent_ids': ['81c1794c-706f-4eb6-be41-f8b1a583d798', 'a1413941-0def-460b-8fef-23323bbdb72f']}\n",
      "{'event': 'on_chain_stream', 'run_id': 'a1413941-0def-460b-8fef-23323bbdb72f', 'name': 'RunnableSequence', 'tags': [], 'metadata': {}, 'data': {'chunk': AgentFinish(return_values={'output': 'The items located where the cat is hiding (on the bed) are cat snacks.'}, log='The items located where the cat is hiding (on the bed) are cat snacks.')}, 'parent_ids': ['81c1794c-706f-4eb6-be41-f8b1a583d798']}\n",
      "{'event': 'on_chain_end', 'data': {'output': AgentFinish(return_values={'output': 'The items located where the cat is hiding (on the bed) are cat snacks.'}, log='The items located where the cat is hiding (on the bed) are cat snacks.'), 'input': {'input': 'What items are located where the cat is hiding?', 'intermediate_steps': [(ToolAgentAction(tool='whereCatisHiding', tool_input={}, log='\\nInvoking: `whereCatisHiding` with `{}`\\n\\n\\n', message_log=[AIMessageChunk(content='', additional_kwargs={'tool_calls': [{'index': 0, 'id': 'call_bOH2sfEJTk2Jv5rwmKGsd602', 'function': {'arguments': '{}', 'name': 'whereCatisHiding'}, 'type': 'function'}]}, response_metadata={'finish_reason': 'tool_calls', 'model_name': 'gpt-3.5-turbo-0125'}, id='run-f0f4a3e4-70ac-49ba-93ad-2db384329cce', tool_calls=[{'name': 'whereCatisHiding', 'args': {}, 'id': 'call_bOH2sfEJTk2Jv5rwmKGsd602', 'type': 'tool_call'}], tool_call_chunks=[{'name': 'whereCatisHiding', 'args': '{}', 'id': 'call_bOH2sfEJTk2Jv5rwmKGsd602', 'index': 0, 'type': 'tool_call_chunk'}])], tool_call_id='call_bOH2sfEJTk2Jv5rwmKGsd602'), 'On the Bed'), (ToolAgentAction(tool='getItems', tool_input={'place': 'On the Bed'}, log=\"\\nInvoking: `getItems` with `{'place': 'On the Bed'}`\\n\\n\\n\", message_log=[AIMessageChunk(content='', additional_kwargs={'tool_calls': [{'index': 0, 'id': 'call_GVraqpAULhHlxZiKgYOAtgdI', 'function': {'arguments': '{\"place\":\"On the Bed\"}', 'name': 'getItems'}, 'type': 'function'}]}, response_metadata={'finish_reason': 'tool_calls', 'model_name': 'gpt-3.5-turbo-0125'}, id='run-a480adae-9701-4e84-9360-7267b169fcfa', tool_calls=[{'name': 'getItems', 'args': {'place': 'On the Bed'}, 'id': 'call_GVraqpAULhHlxZiKgYOAtgdI', 'type': 'tool_call'}], tool_call_chunks=[{'name': 'getItems', 'args': '{\"place\":\"On the Bed\"}', 'id': 'call_GVraqpAULhHlxZiKgYOAtgdI', 'index': 0, 'type': 'tool_call_chunk'}])], tool_call_id='call_GVraqpAULhHlxZiKgYOAtgdI'), 'cat snacks')]}}, 'run_id': 'a1413941-0def-460b-8fef-23323bbdb72f', 'name': 'RunnableSequence', 'tags': [], 'metadata': {}, 'parent_ids': ['81c1794c-706f-4eb6-be41-f8b1a583d798']}\n",
      "{'event': 'on_chain_end', 'data': {'output': {'output': 'The items located where the cat is hiding (on the bed) are cat snacks.', 'messages': [AIMessage(content='The items located where the cat is hiding (on the bed) are cat snacks.', additional_kwargs={}, response_metadata={})]}}, 'run_id': '81c1794c-706f-4eb6-be41-f8b1a583d798', 'name': 'Agent', 'tags': [], 'metadata': {}, 'parent_ids': []}\n",
      "{'event': 'on_chain_stream', 'run_id': '81c1794c-706f-4eb6-be41-f8b1a583d798', 'name': 'Agent', 'tags': [], 'metadata': {}, 'data': {'chunk': {'output': 'The items located where the cat is hiding (on the bed) are cat snacks.', 'messages': [AIMessage(content='The items located where the cat is hiding (on the bed) are cat snacks.', additional_kwargs={}, response_metadata={})]}}, 'parent_ids': []}\n"
     ]
    }
   ],
   "source": [
    "async for chunk in agentExecutor.astream_events(\n",
    "    input={\"input\":\"What items are located where the cat is hiding?\"},\n",
    "    version=\"v2\"\n",
    "    ):\n",
    "    print(chunk)"
   ]
  },
  {
   "cell_type": "code",
   "execution_count": 70,
   "id": "d4175691-5221-4b34-8029-4bb419dd73ea",
   "metadata": {},
   "outputs": [
    {
     "name": "stdout",
     "output_type": "stream",
     "text": [
      "Starting agent: Agent with input: {'input': 'where is the cat hiding? what items are in that location?'}\n",
      "--\n",
      "Starting tool: whereCatisHiding with inputs: {}\n",
      "Done tool: whereCatisHiding\n",
      "Tool output was: On the Shelf\n",
      "--\n",
      "--\n",
      "Starting tool: getItems with inputs: {'place': 'On the Shelf'}\n",
      "Done tool: getItems\n",
      "Tool output was: cat snacks\n",
      "--\n",
      "The| cat| is| hiding| on| the| shelf|,| and| the| items| in| that| location| are| cat| snacks|.|\n",
      "--\n",
      "Done agent: Agent with output: The cat is hiding on the shelf, and the items in that location are cat snacks.\n"
     ]
    }
   ],
   "source": [
    "async for event in agentExecutor.astream_events(\n",
    "    {\"input\": \"where is the cat hiding? what items are in that location?\"},\n",
    "    version=\"v2\",\n",
    "):\n",
    "    kind=event[\"event\"]\n",
    "    if kind==\"on_chain_start\":\n",
    "        if (\n",
    "            event[\"name\"]==\"Agent\"\n",
    "        ):  # Was assigned when creating the agent with `.with_config({\"run_name\": \"Agent\"})`\n",
    "            print(\n",
    "                f\"Starting agent: {event['name']} with input: {event['data'].get('input')}\"\n",
    "            )\n",
    "    elif kind==\"on_chain_end\":\n",
    "        if (\n",
    "            event[\"name\"]==\"Agent\"\n",
    "        ):  # Was assigned when creating the agent with `.with_config({\"run_name\": \"Agent\"})`\n",
    "            print()\n",
    "            print(\"--\")\n",
    "            print(\n",
    "                f\"Done agent: {event['name']} with output: {event['data'].get('output')['output']}\"\n",
    "            )\n",
    "    if kind==\"on_chat_model_stream\":\n",
    "        content = event[\"data\"][\"chunk\"].content\n",
    "        if content:\n",
    "            # Empty content in the context of OpenAI means\n",
    "            # that the model is asking for a tool to be invoked.\n",
    "            # So we only print non-empty content\n",
    "            print(content, end=\"|\")\n",
    "    elif kind==\"on_tool_start\":\n",
    "        print(\"--\")\n",
    "        print(\n",
    "            f\"Starting tool: {event['name']} with inputs: {event['data'].get('input')}\"\n",
    "        )\n",
    "    elif kind==\"on_tool_end\":\n",
    "        print(f\"Done tool: {event['name']}\")\n",
    "        print(f\"Tool output was: {event['data'].get('output')}\")\n",
    "        print(\"--\")"
   ]
  },
  {
   "cell_type": "markdown",
   "id": "3255779c-ac66-4dbb-988c-d234feda181e",
   "metadata": {},
   "source": [
    "<p> If your tool leverages Langchain runnable objects, (eg. LCEL Chains, LLMs, retrievers, etc) and you want to stream events from those objects as well, you need to make sure that callbacks are propagated correctly</p> "
   ]
  },
  {
   "cell_type": "markdown",
   "id": "927311d3-a5fb-4eb9-9e52-9ab94a11a840",
   "metadata": {},
   "source": [
    "<h3>Stream Events from within Tools</h3>"
   ]
  },
  {
   "cell_type": "code",
   "execution_count": 74,
   "id": "ba9f4911-17f9-48b5-ae5c-0c69c7ed44c9",
   "metadata": {},
   "outputs": [],
   "source": [
    "@tool\n",
    "async def getItems(place: str, callbacks:Callbacks) -> str:\n",
    "    \"\"\"\n",
    "        Use this tool to look up which items are in the given place\n",
    "    \"\"\"\n",
    "    template=ChatPromptTemplate.from_messages(\n",
    "        messages=[\n",
    "            (\n",
    "                \"human\",\n",
    "                \"Can you tell me what kind of items I might find in the following place: {place}\"\n",
    "                \"List at least 3 such items separating them by coma. And include a brief description of each item..\"\n",
    "            )\n",
    "        ]\n",
    "    )\n",
    "    \n",
    "    chain=template|llmOpenAI.with_config(config={\n",
    "        \"run_name\":\"Get Items LLM\",\n",
    "        \"tags\":[\"tool_llm\"],\n",
    "        \"callbacks\":callbacks\n",
    "    })\n",
    "\n",
    "    chunks=[chunk async for chunk in chain.astream(input={\"place\":place})]\n",
    "    return \"\".join(chunk.content for chunk in chunks)"
   ]
  },
  {
   "cell_type": "code",
   "execution_count": 76,
   "id": "8e794e9e-3a4c-4fec-8358-5c6441242900",
   "metadata": {},
   "outputs": [
    {
     "name": "stderr",
     "output_type": "stream",
     "text": [
      "C:\\Users\\MSI 1\\.conda\\envs\\oaivenv\\Lib\\site-packages\\langsmith\\client.py:323: LangSmithMissingAPIKeyWarning: API key must be provided when using hosted LangSmith API\n",
      "  warnings.warn(\n"
     ]
    }
   ],
   "source": [
    "prompt=hub.pull(owner_repo_commit=\"hwchase17/openai-tools-agent\")\n",
    "\n",
    "tools=[getItems,whereCatisHiding]\n",
    "\n",
    "agent=create_openai_tools_agent(\n",
    "    llm=llmOpenAI.with_config({\"tags\":[\"agent_llm\"]}),\n",
    "    tools=tools,\n",
    "    prompt=prompt\n",
    ")\n",
    "\n",
    "agentExecutor=AgentExecutor(agent=agent,tools=tools).\\\n",
    "    with_config({\"run_name\":\"Agent\"})  # this config will be used later with astream_events API\n"
   ]
  },
  {
   "cell_type": "code",
   "execution_count": 78,
   "id": "7711e69e-bd66-45e9-8d4b-d20f76aeb010",
   "metadata": {},
   "outputs": [
    {
     "name": "stdout",
     "output_type": "stream",
     "text": [
      "Starting agent: Agent with input: {'input': 'where is the cat hiding? what items are in that location?'}\n",
      "--\n",
      "Starting tool: whereCatisHiding with inputs: {}\n",
      "Done tool: whereCatisHiding\n",
      "Tool output was: On the Bed\n",
      "--\n",
      "--\n",
      "Starting tool: getItems with inputs: {'place': 'On the Bed'}\n",
      "1|.| Pill|ows| -| Soft| cushions| used| for| supporting| the| head| or| other| parts| of| the| body| while| sleeping| or| resting|.\n",
      "\n",
      "|2|.| Blank|ets| -| Large| pieces| of| cloth| used| for| keeping| warm| while| sleeping|,| typically| made| of| wool| or| fleece|.\n",
      "\n",
      "|3|.| St|uffed| animals| -| Soft| toys| in| the| shape| of| animals|,| often| used| for| decoration| or| as| comforting| companions| while| sleeping|.|Done tool: getItems\n",
      "Tool output was: 1. Pillows - Soft cushions used for supporting the head or other parts of the body while sleeping or resting.\n",
      "\n",
      "2. Blankets - Large pieces of cloth used for keeping warm while sleeping, typically made of wool or fleece.\n",
      "\n",
      "3. Stuffed animals - Soft toys in the shape of animals, often used for decoration or as comforting companions while sleeping.\n",
      "--\n",
      "The| cat| is| hiding| on| the| bed|.| The| items| in| that| location| are|:\n",
      "|1|.| Pill|ows|\n",
      "|2|.| Blank|ets|\n",
      "|3|.| St|uffed| animals|\n",
      "--\n",
      "Done agent: Agent with output: The cat is hiding on the bed. The items in that location are:\n",
      "1. Pillows\n",
      "2. Blankets\n",
      "3. Stuffed animals\n"
     ]
    }
   ],
   "source": [
    "async for event in agentExecutor.astream_events(\n",
    "    {\"input\": \"where is the cat hiding? what items are in that location?\"},\n",
    "    version=\"v2\",\n",
    "):\n",
    "    kind=event[\"event\"]\n",
    "    if kind==\"on_chain_start\":\n",
    "        if (\n",
    "            event[\"name\"]==\"Agent\"\n",
    "        ):  # Was assigned when creating the agent with `.with_config({\"run_name\": \"Agent\"})`\n",
    "            print(\n",
    "                f\"Starting agent: {event['name']} with input: {event['data'].get('input')}\"\n",
    "            )\n",
    "    elif kind==\"on_chain_end\":\n",
    "        if (\n",
    "            event[\"name\"]==\"Agent\"\n",
    "        ):  # Was assigned when creating the agent with `.with_config({\"run_name\": \"Agent\"})`\n",
    "            print()\n",
    "            print(\"--\")\n",
    "            print(\n",
    "                f\"Done agent: {event['name']} with output: {event['data'].get('output')['output']}\"\n",
    "            )\n",
    "    if kind==\"on_chat_model_stream\":\n",
    "        content = event[\"data\"][\"chunk\"].content\n",
    "        if content:\n",
    "            # Empty content in the context of OpenAI means\n",
    "            # that the model is asking for a tool to be invoked.\n",
    "            # So we only print non-empty content\n",
    "            print(content, end=\"|\")\n",
    "    elif kind==\"on_tool_start\":\n",
    "        print(\"--\")\n",
    "        print(\n",
    "            f\"Starting tool: {event['name']} with inputs: {event['data'].get('input')}\"\n",
    "        )\n",
    "    elif kind==\"on_tool_end\":\n",
    "        print(f\"Done tool: {event['name']}\")\n",
    "        print(f\"Tool output was: {event['data'].get('output')}\")\n",
    "        print(\"--\")"
   ]
  },
  {
   "cell_type": "markdown",
   "id": "9b94bd61-4e2a-460f-8e2f-54c83ce0ab97",
   "metadata": {},
   "source": [
    "<h3> Using AStream Log </h3> <h4>(Recommended to use Astream Log instead of this for Parsing problem)</h4>"
   ]
  },
  {
   "cell_type": "code",
   "execution_count": 72,
   "id": "cc607f7a-0d99-4fdc-928f-51b8d2005052",
   "metadata": {},
   "outputs": [
    {
     "name": "stdout",
     "output_type": "stream",
     "text": [
      "RunLogPatch({'op': 'replace',\n",
      "  'path': '',\n",
      "  'value': {'final_output': None,\n",
      "            'id': 'adcb0b2e-6ad6-4e6c-adba-86a89c6a9a75',\n",
      "            'logs': {},\n",
      "            'name': 'Agent',\n",
      "            'streamed_output': [],\n",
      "            'type': 'chain'}})\n",
      "RunLogPatch({'op': 'add',\n",
      "  'path': '/logs/RunnableSequence',\n",
      "  'value': {'end_time': None,\n",
      "            'final_output': None,\n",
      "            'id': '608bf962-aae1-4c52-aa5e-2703ed69e0d3',\n",
      "            'metadata': {},\n",
      "            'name': 'RunnableSequence',\n",
      "            'start_time': '2024-11-01T14:16:55.248+00:00',\n",
      "            'streamed_output': [],\n",
      "            'streamed_output_str': [],\n",
      "            'tags': [],\n",
      "            'type': 'chain'}})\n",
      "RunLogPatch({'op': 'add',\n",
      "  'path': '/logs/RunnableAssign<agent_scratchpad>',\n",
      "  'value': {'end_time': None,\n",
      "            'final_output': None,\n",
      "            'id': '0b4d099a-bcc3-4d54-8b7a-3098bc8160ee',\n",
      "            'metadata': {},\n",
      "            'name': 'RunnableAssign<agent_scratchpad>',\n",
      "            'start_time': '2024-11-01T14:16:55.250+00:00',\n",
      "            'streamed_output': [],\n",
      "            'streamed_output_str': [],\n",
      "            'tags': ['seq:step:1'],\n",
      "            'type': 'chain'}})\n",
      "RunLogPatch({'op': 'add',\n",
      "  'path': '/logs/RunnableAssign<agent_scratchpad>/streamed_output/-',\n",
      "  'value': {'input': 'Where is the cat hiding? What items are in that '\n",
      "                     'location?',\n",
      "            'intermediate_steps': []}})\n",
      "RunLogPatch({'op': 'add',\n",
      "  'path': '/logs/RunnableParallel<agent_scratchpad>',\n",
      "  'value': {'end_time': None,\n",
      "            'final_output': None,\n",
      "            'id': '8acb119f-1548-4676-81d3-79db1bc22192',\n",
      "            'metadata': {},\n",
      "            'name': 'RunnableParallel<agent_scratchpad>',\n",
      "            'start_time': '2024-11-01T14:16:55.251+00:00',\n",
      "            'streamed_output': [],\n",
      "            'streamed_output_str': [],\n",
      "            'tags': [],\n",
      "            'type': 'chain'}})\n",
      "RunLogPatch({'op': 'add',\n",
      "  'path': '/logs/RunnableLambda',\n",
      "  'value': {'end_time': None,\n",
      "            'final_output': None,\n",
      "            'id': 'c3f15aee-6536-4c27-98c4-ed1759f79c8c',\n",
      "            'metadata': {},\n",
      "            'name': 'RunnableLambda',\n",
      "            'start_time': '2024-11-01T14:16:55.252+00:00',\n",
      "            'streamed_output': [],\n",
      "            'streamed_output_str': [],\n",
      "            'tags': ['map:key:agent_scratchpad'],\n",
      "            'type': 'chain'}})\n",
      "RunLogPatch({'op': 'add', 'path': '/logs/RunnableLambda/streamed_output/-', 'value': []})\n",
      "RunLogPatch({'op': 'add',\n",
      "  'path': '/logs/RunnableParallel<agent_scratchpad>/streamed_output/-',\n",
      "  'value': {'agent_scratchpad': []}})\n",
      "RunLogPatch({'op': 'add',\n",
      "  'path': '/logs/RunnableAssign<agent_scratchpad>/streamed_output/-',\n",
      "  'value': {'agent_scratchpad': []}})\n",
      "RunLogPatch({'op': 'add',\n",
      "  'path': '/logs/RunnableLambda/final_output',\n",
      "  'value': {'output': []}},\n",
      " {'op': 'add',\n",
      "  'path': '/logs/RunnableLambda/end_time',\n",
      "  'value': '2024-11-01T14:16:55.253+00:00'})\n",
      "RunLogPatch({'op': 'add',\n",
      "  'path': '/logs/RunnableParallel<agent_scratchpad>/final_output',\n",
      "  'value': {'agent_scratchpad': []}},\n",
      " {'op': 'add',\n",
      "  'path': '/logs/RunnableParallel<agent_scratchpad>/end_time',\n",
      "  'value': '2024-11-01T14:16:55.254+00:00'})\n",
      "RunLogPatch({'op': 'add',\n",
      "  'path': '/logs/RunnableAssign<agent_scratchpad>/final_output',\n",
      "  'value': {'agent_scratchpad': [],\n",
      "            'input': 'Where is the cat hiding? What items are in that '\n",
      "                     'location?',\n",
      "            'intermediate_steps': []}},\n",
      " {'op': 'add',\n",
      "  'path': '/logs/RunnableAssign<agent_scratchpad>/end_time',\n",
      "  'value': '2024-11-01T14:16:55.254+00:00'})\n",
      "RunLogPatch({'op': 'add',\n",
      "  'path': '/logs/ChatPromptTemplate',\n",
      "  'value': {'end_time': None,\n",
      "            'final_output': None,\n",
      "            'id': 'b594f23c-7911-4e2d-bb58-401a27d257e4',\n",
      "            'metadata': {'lc_hub_commit_hash': 'c18672812789a3b9697656dd539edf0120285dcae36396d0b548ae42a4ed66f5',\n",
      "                         'lc_hub_owner': 'hwchase17',\n",
      "                         'lc_hub_repo': 'openai-tools-agent'},\n",
      "            'name': 'ChatPromptTemplate',\n",
      "            'start_time': '2024-11-01T14:16:55.255+00:00',\n",
      "            'streamed_output': [],\n",
      "            'streamed_output_str': [],\n",
      "            'tags': ['seq:step:2'],\n",
      "            'type': 'prompt'}})\n",
      "RunLogPatch({'op': 'add',\n",
      "  'path': '/logs/ChatPromptTemplate/final_output',\n",
      "  'value': ChatPromptValue(messages=[SystemMessage(content='You are a helpful assistant', additional_kwargs={}, response_metadata={}), HumanMessage(content='Where is the cat hiding? What items are in that location?', additional_kwargs={}, response_metadata={})])},\n",
      " {'op': 'add',\n",
      "  'path': '/logs/ChatPromptTemplate/end_time',\n",
      "  'value': '2024-11-01T14:16:55.256+00:00'})\n",
      "RunLogPatch({'op': 'add',\n",
      "  'path': '/logs/ChatOpenAI',\n",
      "  'value': {'end_time': None,\n",
      "            'final_output': None,\n",
      "            'id': 'c7b4514f-09b8-4ec2-a158-e8df0910e4a0',\n",
      "            'metadata': {'ls_model_name': 'gpt-3.5-turbo',\n",
      "                         'ls_model_type': 'chat',\n",
      "                         'ls_provider': 'openai',\n",
      "                         'ls_temperature': 0.7},\n",
      "            'name': 'ChatOpenAI',\n",
      "            'start_time': '2024-11-01T14:16:55.257+00:00',\n",
      "            'streamed_output': [],\n",
      "            'streamed_output_str': [],\n",
      "            'tags': ['seq:step:3', 'agent_llm'],\n",
      "            'type': 'llm'}})\n",
      "RunLogPatch({'op': 'add', 'path': '/logs/ChatOpenAI/streamed_output_str/-', 'value': ''},\n",
      " {'op': 'add',\n",
      "  'path': '/logs/ChatOpenAI/streamed_output/-',\n",
      "  'value': AIMessageChunk(content='', additional_kwargs={'tool_calls': [{'index': 0, 'id': 'call_HWM1d0TdXely9dQzC6KERkEh', 'function': {'arguments': '', 'name': 'whereCatisHiding'}, 'type': 'function'}]}, response_metadata={}, id='run-c7b4514f-09b8-4ec2-a158-e8df0910e4a0', tool_calls=[{'name': 'whereCatisHiding', 'args': {}, 'id': 'call_HWM1d0TdXely9dQzC6KERkEh', 'type': 'tool_call'}], tool_call_chunks=[{'name': 'whereCatisHiding', 'args': '', 'id': 'call_HWM1d0TdXely9dQzC6KERkEh', 'index': 0, 'type': 'tool_call_chunk'}])})\n",
      "RunLogPatch({'op': 'add', 'path': '/logs/ChatOpenAI/streamed_output_str/-', 'value': ''},\n",
      " {'op': 'add',\n",
      "  'path': '/logs/ChatOpenAI/streamed_output/-',\n",
      "  'value': AIMessageChunk(content='', additional_kwargs={'tool_calls': [{'index': 0, 'id': None, 'function': {'arguments': '{}', 'name': None}, 'type': None}]}, response_metadata={}, id='run-c7b4514f-09b8-4ec2-a158-e8df0910e4a0', tool_calls=[{'name': '', 'args': {}, 'id': None, 'type': 'tool_call'}], tool_call_chunks=[{'name': None, 'args': '{}', 'id': None, 'index': 0, 'type': 'tool_call_chunk'}])})\n",
      "RunLogPatch({'op': 'add', 'path': '/logs/ChatOpenAI/streamed_output_str/-', 'value': ''},\n",
      " {'op': 'add',\n",
      "  'path': '/logs/ChatOpenAI/streamed_output/-',\n",
      "  'value': AIMessageChunk(content='', additional_kwargs={}, response_metadata={'finish_reason': 'tool_calls', 'model_name': 'gpt-3.5-turbo-0125'}, id='run-c7b4514f-09b8-4ec2-a158-e8df0910e4a0')})\n",
      "RunLogPatch({'op': 'add',\n",
      "  'path': '/logs/ChatOpenAI/final_output',\n",
      "  'value': {'generations': [[{'generation_info': {'finish_reason': 'tool_calls',\n",
      "                                                  'model_name': 'gpt-3.5-turbo-0125'},\n",
      "                              'message': AIMessageChunk(content='', additional_kwargs={'tool_calls': [{'index': 0, 'id': 'call_HWM1d0TdXely9dQzC6KERkEh', 'function': {'arguments': '{}', 'name': 'whereCatisHiding'}, 'type': 'function'}]}, response_metadata={'finish_reason': 'tool_calls', 'model_name': 'gpt-3.5-turbo-0125'}, id='run-c7b4514f-09b8-4ec2-a158-e8df0910e4a0', tool_calls=[{'name': 'whereCatisHiding', 'args': {}, 'id': 'call_HWM1d0TdXely9dQzC6KERkEh', 'type': 'tool_call'}], tool_call_chunks=[{'name': 'whereCatisHiding', 'args': '{}', 'id': 'call_HWM1d0TdXely9dQzC6KERkEh', 'index': 0, 'type': 'tool_call_chunk'}]),\n",
      "                              'text': '',\n",
      "                              'type': 'ChatGenerationChunk'}]],\n",
      "            'llm_output': None,\n",
      "            'run': None,\n",
      "            'type': 'LLMResult'}},\n",
      " {'op': 'add',\n",
      "  'path': '/logs/ChatOpenAI/end_time',\n",
      "  'value': '2024-11-01T14:16:56.372+00:00'})\n",
      "RunLogPatch({'op': 'add',\n",
      "  'path': '/logs/OpenAIToolsAgentOutputParser',\n",
      "  'value': {'end_time': None,\n",
      "            'final_output': None,\n",
      "            'id': 'f65150d5-d535-4e1b-8ae5-0bb77f0c7dd6',\n",
      "            'metadata': {},\n",
      "            'name': 'OpenAIToolsAgentOutputParser',\n",
      "            'start_time': '2024-11-01T14:16:56.373+00:00',\n",
      "            'streamed_output': [],\n",
      "            'streamed_output_str': [],\n",
      "            'tags': ['seq:step:4'],\n",
      "            'type': 'parser'}})\n",
      "RunLogPatch({'op': 'add',\n",
      "  'path': '/logs/OpenAIToolsAgentOutputParser/final_output',\n",
      "  'value': {'output': [ToolAgentAction(tool='whereCatisHiding', tool_input={}, log='\\nInvoking: `whereCatisHiding` with `{}`\\n\\n\\n', message_log=[AIMessageChunk(content='', additional_kwargs={'tool_calls': [{'index': 0, 'id': 'call_HWM1d0TdXely9dQzC6KERkEh', 'function': {'arguments': '{}', 'name': 'whereCatisHiding'}, 'type': 'function'}]}, response_metadata={'finish_reason': 'tool_calls', 'model_name': 'gpt-3.5-turbo-0125'}, id='run-c7b4514f-09b8-4ec2-a158-e8df0910e4a0', tool_calls=[{'name': 'whereCatisHiding', 'args': {}, 'id': 'call_HWM1d0TdXely9dQzC6KERkEh', 'type': 'tool_call'}], tool_call_chunks=[{'name': 'whereCatisHiding', 'args': '{}', 'id': 'call_HWM1d0TdXely9dQzC6KERkEh', 'index': 0, 'type': 'tool_call_chunk'}])], tool_call_id='call_HWM1d0TdXely9dQzC6KERkEh')]}},\n",
      " {'op': 'add',\n",
      "  'path': '/logs/OpenAIToolsAgentOutputParser/end_time',\n",
      "  'value': '2024-11-01T14:16:56.374+00:00'})\n"
     ]
    }
   ],
   "source": [
    "i=0\n",
    "async for chunk in agentExecutor.astream_log(\n",
    "    input={\"input\":\"Where is the cat hiding? What items are in that location?\"}\n",
    "    ):\n",
    "    print(chunk)\n",
    "    i+=1\n",
    "    if i>20: break"
   ]
  },
  {
   "cell_type": "code",
   "execution_count": null,
   "id": "d8629a63-541e-434a-9f19-ee894ae34bd2",
   "metadata": {},
   "outputs": [],
   "source": []
  }
 ],
 "metadata": {
  "kernelspec": {
   "display_name": "Python 3 (ipykernel)",
   "language": "python",
   "name": "python3"
  },
  "language_info": {
   "codemirror_mode": {
    "name": "ipython",
    "version": 3
   },
   "file_extension": ".py",
   "mimetype": "text/x-python",
   "name": "python",
   "nbconvert_exporter": "python",
   "pygments_lexer": "ipython3",
   "version": "3.11.9"
  }
 },
 "nbformat": 4,
 "nbformat_minor": 5
}
