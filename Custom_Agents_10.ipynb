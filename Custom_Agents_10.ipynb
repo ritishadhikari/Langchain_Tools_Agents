{
 "cells": [
  {
   "cell_type": "markdown",
   "id": "891b5f92-ef55-461f-a020-4cce20f0b50b",
   "metadata": {},
   "source": [
    "<h3>VVI</h3>"
   ]
  },
  {
   "cell_type": "code",
   "execution_count": 26,
   "id": "050434e3-eb8f-4098-a05d-51a1625b80cf",
   "metadata": {},
   "outputs": [],
   "source": [
    "from dotenv import load_dotenv,find_dotenv\n",
    "from langchain_google_genai import ChatGoogleGenerativeAI\n",
    "from langchain_openai import ChatOpenAI\n",
    "\n",
    "from langchain.agents import tool\n",
    "from langchain.prompts import MessagesPlaceholder, ChatPromptTemplate\n",
    "from langchain.agents.format_scratchpad.openai_tools import format_to_openai_tool_messages\n",
    "from langchain.agents.output_parsers.openai_tools import OpenAIToolsAgentOutputParser\n",
    "from langchain.agents import AgentExecutor\n",
    "from langchain_core.runnables import RunnableWithMessageHistory\n",
    "from langchain_community.chat_message_histories import ChatMessageHistory"
   ]
  },
  {
   "cell_type": "code",
   "execution_count": 2,
   "id": "4f10b29b-6278-49ab-824b-67d6eae66e01",
   "metadata": {},
   "outputs": [
    {
     "data": {
      "text/plain": [
       "True"
      ]
     },
     "execution_count": 2,
     "metadata": {},
     "output_type": "execute_result"
    }
   ],
   "source": [
    "load_dotenv(find_dotenv(\"D:\\LLM Courses\\Master Langchain Udemy\\.env\"))"
   ]
  },
  {
   "cell_type": "code",
   "execution_count": 3,
   "id": "61872524-d837-4802-8a58-5d75a6338b24",
   "metadata": {},
   "outputs": [],
   "source": [
    "llmGemini=ChatGoogleGenerativeAI(model=\"gemini-1.5-flash\")\n",
    "llmOpenAI=ChatOpenAI(model=\"gpt-3.5-turbo\")"
   ]
  },
  {
   "cell_type": "code",
   "execution_count": 5,
   "id": "2c5d849e-7f48-444d-9e77-ad38d6555471",
   "metadata": {},
   "outputs": [],
   "source": [
    "@tool\n",
    "def getWordLength(word: str) -> int:\n",
    "    \"\"\"\n",
    "        Returns the Length of a Word\n",
    "    \"\"\"\n",
    "    return len(word)"
   ]
  },
  {
   "cell_type": "code",
   "execution_count": 6,
   "id": "f4578c31-77c3-44cd-b79c-d12b7cbfcd18",
   "metadata": {},
   "outputs": [
    {
     "data": {
      "text/plain": [
       "3"
      ]
     },
     "execution_count": 6,
     "metadata": {},
     "output_type": "execute_result"
    }
   ],
   "source": [
    "getWordLength.invoke(input={\"word\":\"iku\"})"
   ]
  },
  {
   "cell_type": "code",
   "execution_count": 7,
   "id": "5021bb23-b47e-43ff-b936-7b6b84842a84",
   "metadata": {},
   "outputs": [],
   "source": [
    "tools=[getWordLength]"
   ]
  },
  {
   "cell_type": "code",
   "execution_count": 11,
   "id": "d10e8159-3aac-4a06-8159-7e029772e192",
   "metadata": {},
   "outputs": [],
   "source": [
    "prompt=ChatPromptTemplate.from_messages(\n",
    "    messages=[\n",
    "        (\"system\",\"You are a very powerful assistant, but don't know current events\"),\n",
    "        (\"user\",\"{input}\"),\n",
    "        (\"placeholder\",\"{agent_scratchpad}\")\n",
    "    ]\n",
    ")"
   ]
  },
  {
   "cell_type": "code",
   "execution_count": 12,
   "id": "76b414f9-8aff-4c9a-8f35-cb143d9d8bd4",
   "metadata": {},
   "outputs": [
    {
     "name": "stderr",
     "output_type": "stream",
     "text": [
      "Key 'title' is not supported in schema, ignoring\n",
      "Key 'title' is not supported in schema, ignoring\n"
     ]
    }
   ],
   "source": [
    "llmWithTools=llmGemini.bind_tools(tools=tools)"
   ]
  },
  {
   "cell_type": "code",
   "execution_count": 15,
   "id": "f67714b0-f898-47ec-88ed-d01279ab2dcf",
   "metadata": {},
   "outputs": [],
   "source": [
    "agent={\n",
    "        \"input\":lambda x: x['input'],\n",
    "        \"agent_scratchpad\":lambda x: format_to_openai_tool_messages(x['intermediate_steps']) \n",
    "        }\\\n",
    "        |prompt\\\n",
    "        |llmWithTools\\\n",
    "        |OpenAIToolsAgentOutputParser()"
   ]
  },
  {
   "cell_type": "code",
   "execution_count": 17,
   "id": "a63ec2bd-c2df-438b-bc45-85cbc0e0b5c9",
   "metadata": {},
   "outputs": [],
   "source": [
    "agentExecutor=AgentExecutor(agent=agent, tools=tools,verbose=True)"
   ]
  },
  {
   "cell_type": "code",
   "execution_count": 18,
   "id": "657af8eb-a447-458a-9fbc-085c9a6a86dc",
   "metadata": {},
   "outputs": [
    {
     "name": "stdout",
     "output_type": "stream",
     "text": [
      "\n",
      "\n",
      "\u001b[1m> Entering new AgentExecutor chain...\u001b[0m\n",
      "{'name': 'getWordLength', 'description': 'Returns the Length of a Word', 'parameters': {'type_': 6, 'description': 'Returns the Length of a Word', 'properties': {'word': {'type_': 1, 'format_': '', 'description': '', 'nullable': False, 'enum': [], 'max_items': '0', 'min_items': '0', 'properties': {}, 'required': []}}, 'required': ['word'], 'format_': '', 'nullable': False, 'enum': [], 'max_items': '0', 'min_items': '0'}}\n",
      "\u001b[32;1m\u001b[1;3m\n",
      "Invoking: `getWordLength` with `{'word': 'Eklavya'}`\n",
      "\n",
      "\n",
      "\u001b[0m\u001b[36;1m\u001b[1;3m7\u001b[0m{'name': 'getWordLength', 'description': 'Returns the Length of a Word', 'parameters': {'type_': 6, 'description': 'Returns the Length of a Word', 'properties': {'word': {'type_': 1, 'format_': '', 'description': '', 'nullable': False, 'enum': [], 'max_items': '0', 'min_items': '0', 'properties': {}, 'required': []}}, 'required': ['word'], 'format_': '', 'nullable': False, 'enum': [], 'max_items': '0', 'min_items': '0'}}\n",
      "\u001b[32;1m\u001b[1;3mThere are 7 letters in Eklavya. \n",
      "\u001b[0m\n",
      "\n",
      "\u001b[1m> Finished chain.\u001b[0m\n"
     ]
    },
    {
     "data": {
      "text/plain": [
       "{'input': 'How many letters are there in `Eklavya`',\n",
       " 'output': 'There are 7 letters in Eklavya. \\n'}"
      ]
     },
     "execution_count": 18,
     "metadata": {},
     "output_type": "execute_result"
    }
   ],
   "source": [
    "agentExecutor.invoke(input={\"input\":\"How many letters are there in `Eklavya`\"})"
   ]
  },
  {
   "cell_type": "markdown",
   "id": "d95e938b-509f-4b54-a88c-782d60936021",
   "metadata": {},
   "source": [
    "<h3> Adding Memories </h3>"
   ]
  },
  {
   "cell_type": "code",
   "execution_count": 20,
   "id": "e554ca96-c00e-4348-9409-d37c40e9b94a",
   "metadata": {},
   "outputs": [],
   "source": [
    "prompt=ChatPromptTemplate.from_messages(\n",
    "    messages=[\n",
    "        (\"system\",\"You are a very powerful assistant, but don't know current events\"),\n",
    "        (\"placeholder\",\"{chat_history}\"),\n",
    "        (\"user\",\"{input}\"),\n",
    "        (\"placeholder\",\"{agent_scratchpad}\")\n",
    "    ]\n",
    ")"
   ]
  },
  {
   "cell_type": "code",
   "execution_count": 21,
   "id": "e903d487-818c-43a9-8052-9543ef652ef7",
   "metadata": {},
   "outputs": [],
   "source": [
    "agent={\n",
    "        \"input\":lambda x: x['input'],\n",
    "        \"chat_history\": lambda x: x['chat_history'],\n",
    "        \"agent_scratchpad\":lambda x: format_to_openai_tool_messages(x['intermediate_steps']) \n",
    "        }\\\n",
    "        |prompt\\\n",
    "        |llmWithTools\\\n",
    "        |OpenAIToolsAgentOutputParser()"
   ]
  },
  {
   "cell_type": "code",
   "execution_count": 22,
   "id": "f4c47ad6-4897-4c24-a54c-408e6c5586f1",
   "metadata": {},
   "outputs": [],
   "source": [
    "agentExecutor=AgentExecutor(agent=agent, tools=tools,verbose=True)"
   ]
  },
  {
   "cell_type": "code",
   "execution_count": 27,
   "id": "e4bb6a13-f152-43a8-9fec-10d6d969f66c",
   "metadata": {},
   "outputs": [],
   "source": [
    "messageHistory=ChatMessageHistory()"
   ]
  },
  {
   "cell_type": "code",
   "execution_count": 28,
   "id": "c85f527a-6851-4434-afdd-77a36fca1d54",
   "metadata": {},
   "outputs": [],
   "source": [
    "agentExecutorWithHistory=RunnableWithMessageHistory(\n",
    "    get_session_history=lambda session_id:messageHistory,\n",
    "    runnable=agentExecutor,\n",
    "    input_messages_key=\"input\",\n",
    "    history_messages_key=\"chat_history\",                   \n",
    ")"
   ]
  },
  {
   "cell_type": "code",
   "execution_count": 29,
   "id": "c0c8b224-26d1-4788-96e5-aa0b0c7a9d7d",
   "metadata": {},
   "outputs": [],
   "source": [
    "session_id=\"<iku>\""
   ]
  },
  {
   "cell_type": "code",
   "execution_count": 30,
   "id": "2690856d-f3c9-45e9-98ab-095adbca6543",
   "metadata": {},
   "outputs": [
    {
     "name": "stdout",
     "output_type": "stream",
     "text": [
      "\n",
      "\n",
      "\u001b[1m> Entering new AgentExecutor chain...\u001b[0m\n",
      "{'name': 'getWordLength', 'description': 'Returns the Length of a Word', 'parameters': {'type_': 6, 'description': 'Returns the Length of a Word', 'properties': {'word': {'type_': 1, 'format_': '', 'description': '', 'nullable': False, 'enum': [], 'max_items': '0', 'min_items': '0', 'properties': {}, 'required': []}}, 'required': ['word'], 'format_': '', 'nullable': False, 'enum': [], 'max_items': '0', 'min_items': '0'}}\n",
      "\u001b[32;1m\u001b[1;3m\n",
      "Invoking: `getWordLength` with `{'word': 'Tania'}`\n",
      "\n",
      "\n",
      "\u001b[0m\u001b[36;1m\u001b[1;3m5\u001b[0m{'name': 'getWordLength', 'description': 'Returns the Length of a Word', 'parameters': {'type_': 6, 'description': 'Returns the Length of a Word', 'properties': {'word': {'type_': 1, 'format_': '', 'description': '', 'nullable': False, 'enum': [], 'max_items': '0', 'min_items': '0', 'properties': {}, 'required': []}}, 'required': ['word'], 'format_': '', 'nullable': False, 'enum': [], 'max_items': '0', 'min_items': '0'}}\n",
      "\u001b[32;1m\u001b[1;3mThe total length of the word Tania is 5. \n",
      "\u001b[0m\n",
      "\n",
      "\u001b[1m> Finished chain.\u001b[0m\n"
     ]
    },
    {
     "data": {
      "text/plain": [
       "{'input': 'What is the total length for the word Tania?',\n",
       " 'chat_history': [],\n",
       " 'output': 'The total length of the word Tania is 5. \\n'}"
      ]
     },
     "execution_count": 30,
     "metadata": {},
     "output_type": "execute_result"
    }
   ],
   "source": [
    "agentExecutorWithHistory.invoke(\n",
    "                                input={'input':\"What is the total length for the word Tania?\"},\n",
    "                                config={\"session_id\":session_id}\n",
    "                            )"
   ]
  },
  {
   "cell_type": "code",
   "execution_count": 31,
   "id": "22c3f1a8-6f80-4540-a563-d9049fc41b67",
   "metadata": {},
   "outputs": [
    {
     "name": "stdout",
     "output_type": "stream",
     "text": [
      "\n",
      "\n",
      "\u001b[1m> Entering new AgentExecutor chain...\u001b[0m\n",
      "{'name': 'getWordLength', 'description': 'Returns the Length of a Word', 'parameters': {'type_': 6, 'description': 'Returns the Length of a Word', 'properties': {'word': {'type_': 1, 'format_': '', 'description': '', 'nullable': False, 'enum': [], 'max_items': '0', 'min_items': '0', 'properties': {}, 'required': []}}, 'required': ['word'], 'format_': '', 'nullable': False, 'enum': [], 'max_items': '0', 'min_items': '0'}}\n",
      "\u001b[32;1m\u001b[1;3mYou asked: \"What is the total length for the word Tania?\" \n",
      "\u001b[0m\n",
      "\n",
      "\u001b[1m> Finished chain.\u001b[0m\n"
     ]
    },
    {
     "data": {
      "text/plain": [
       "{'input': 'What question did I ask?',\n",
       " 'chat_history': [HumanMessage(content='What is the total length for the word Tania?', additional_kwargs={}, response_metadata={}),\n",
       "  AIMessage(content='The total length of the word Tania is 5. \\n', additional_kwargs={}, response_metadata={})],\n",
       " 'output': 'You asked: \"What is the total length for the word Tania?\" \\n'}"
      ]
     },
     "execution_count": 31,
     "metadata": {},
     "output_type": "execute_result"
    }
   ],
   "source": [
    "agentExecutorWithHistory.invoke(\n",
    "                                input={'input':\"What question did I ask?\"},\n",
    "                                config={\"session_id\":session_id}\n",
    "                            )"
   ]
  },
  {
   "cell_type": "code",
   "execution_count": 32,
   "id": "ef6aa709-bc28-46f4-8819-14c4718abdb5",
   "metadata": {},
   "outputs": [
    {
     "name": "stdout",
     "output_type": "stream",
     "text": [
      "\n",
      "\n",
      "\u001b[1m> Entering new AgentExecutor chain...\u001b[0m\n",
      "{'name': 'getWordLength', 'description': 'Returns the Length of a Word', 'parameters': {'type_': 6, 'description': 'Returns the Length of a Word', 'properties': {'word': {'type_': 1, 'format_': '', 'description': '', 'nullable': False, 'enum': [], 'max_items': '0', 'min_items': '0', 'properties': {}, 'required': []}}, 'required': ['word'], 'format_': '', 'nullable': False, 'enum': [], 'max_items': '0', 'min_items': '0'}}\n",
      "\u001b[32;1m\u001b[1;3mI do not have access to real-time information, including cultural or origin details about names.  Therefore, I cannot confirm if \"Tania\" is an Indian name. \n",
      "\u001b[0m\n",
      "\n",
      "\u001b[1m> Finished chain.\u001b[0m\n"
     ]
    },
    {
     "data": {
      "text/plain": [
       "{'input': 'Is  this an Indian Name?',\n",
       " 'chat_history': [HumanMessage(content='What is the total length for the word Tania?', additional_kwargs={}, response_metadata={}),\n",
       "  AIMessage(content='The total length of the word Tania is 5. \\n', additional_kwargs={}, response_metadata={}),\n",
       "  HumanMessage(content='What question did I ask?', additional_kwargs={}, response_metadata={}),\n",
       "  AIMessage(content='You asked: \"What is the total length for the word Tania?\" \\n', additional_kwargs={}, response_metadata={})],\n",
       " 'output': 'I do not have access to real-time information, including cultural or origin details about names.  Therefore, I cannot confirm if \"Tania\" is an Indian name. \\n'}"
      ]
     },
     "execution_count": 32,
     "metadata": {},
     "output_type": "execute_result"
    }
   ],
   "source": [
    "agentExecutorWithHistory.invoke(\n",
    "                                input={'input':\"Is  this an Indian Name?\"},\n",
    "                                config={\"session_id\":session_id}\n",
    "                            )"
   ]
  },
  {
   "cell_type": "code",
   "execution_count": 33,
   "id": "c17f2a89-1aa5-4cf0-9dda-79b40c8e2b47",
   "metadata": {},
   "outputs": [
    {
     "name": "stdout",
     "output_type": "stream",
     "text": [
      "\n",
      "\n",
      "\u001b[1m> Entering new AgentExecutor chain...\u001b[0m\n",
      "{'name': 'getWordLength', 'description': 'Returns the Length of a Word', 'parameters': {'type_': 6, 'description': 'Returns the Length of a Word', 'properties': {'word': {'type_': 1, 'format_': '', 'description': '', 'nullable': False, 'enum': [], 'max_items': '0', 'min_items': '0', 'properties': {}, 'required': []}}, 'required': ['word'], 'format_': '', 'nullable': False, 'enum': [], 'max_items': '0', 'min_items': '0'}}\n",
      "\u001b[32;1m\u001b[1;3mI do not have access to real-time information, including dictionaries or language databases. Therefore, I cannot confirm if \"Tania\" is an English word. \n",
      "\u001b[0m\n",
      "\n",
      "\u001b[1m> Finished chain.\u001b[0m\n"
     ]
    },
    {
     "data": {
      "text/plain": [
       "{'input': 'Is this an English Word?',\n",
       " 'chat_history': [HumanMessage(content='What is the total length for the word Tania?', additional_kwargs={}, response_metadata={}),\n",
       "  AIMessage(content='The total length of the word Tania is 5. \\n', additional_kwargs={}, response_metadata={}),\n",
       "  HumanMessage(content='What question did I ask?', additional_kwargs={}, response_metadata={}),\n",
       "  AIMessage(content='You asked: \"What is the total length for the word Tania?\" \\n', additional_kwargs={}, response_metadata={}),\n",
       "  HumanMessage(content='Is  this an Indian Name?', additional_kwargs={}, response_metadata={}),\n",
       "  AIMessage(content='I do not have access to real-time information, including cultural or origin details about names.  Therefore, I cannot confirm if \"Tania\" is an Indian name. \\n', additional_kwargs={}, response_metadata={})],\n",
       " 'output': 'I do not have access to real-time information, including dictionaries or language databases. Therefore, I cannot confirm if \"Tania\" is an English word. \\n'}"
      ]
     },
     "execution_count": 33,
     "metadata": {},
     "output_type": "execute_result"
    }
   ],
   "source": [
    "agentExecutorWithHistory.invoke(\n",
    "                                input={'input':\"Is this an English Word?\"},\n",
    "                                config={\"session_id\":session_id}\n",
    "                            )"
   ]
  },
  {
   "cell_type": "code",
   "execution_count": null,
   "id": "593372a9-0678-4fd8-9646-65aef9e7cb80",
   "metadata": {},
   "outputs": [],
   "source": []
  }
 ],
 "metadata": {
  "kernelspec": {
   "display_name": "Python 3 (ipykernel)",
   "language": "python",
   "name": "python3"
  },
  "language_info": {
   "codemirror_mode": {
    "name": "ipython",
    "version": 3
   },
   "file_extension": ".py",
   "mimetype": "text/x-python",
   "name": "python",
   "nbconvert_exporter": "python",
   "pygments_lexer": "ipython3",
   "version": "3.11.9"
  }
 },
 "nbformat": 4,
 "nbformat_minor": 5
}
