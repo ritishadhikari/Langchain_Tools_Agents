{
 "cells": [
  {
   "cell_type": "code",
   "execution_count": 1,
   "id": "7cb99a60-a12a-4949-a22c-9d975e16e517",
   "metadata": {},
   "outputs": [],
   "source": [
    "from langchain.agents import AgentExecutor, create_tool_calling_agent\n",
    "from langchain_core.runnables import RunnablePassthrough,RunnableLambda, Runnable, RunnableParallel,RunnableConfig\n",
    "from langchain_core.messages import AIMessage\n",
    "from dotenv import load_dotenv,find_dotenv\n",
    "from langchain_google_genai import ChatGoogleGenerativeAI\n",
    "from langchain_openai import ChatOpenAI\n",
    "from langchain.tools import tool\n",
    "from langchain_core.prompts import ChatPromptTemplate,SystemMessagePromptTemplate, HumanMessagePromptTemplate\n",
    "from langchain_core.output_parsers import JsonOutputParser\n",
    "from operator import itemgetter\n",
    "import json"
   ]
  },
  {
   "cell_type": "code",
   "execution_count": 2,
   "id": "8ac1767d-c9b4-46a2-b876-956e275c5133",
   "metadata": {},
   "outputs": [
    {
     "data": {
      "text/plain": [
       "True"
      ]
     },
     "execution_count": 2,
     "metadata": {},
     "output_type": "execute_result"
    }
   ],
   "source": [
    "load_dotenv(find_dotenv(\"../.env\"))"
   ]
  },
  {
   "cell_type": "code",
   "execution_count": 24,
   "id": "f1c1afaf-ba0b-44e4-b56c-74205b0c295d",
   "metadata": {},
   "outputs": [],
   "source": [
    "llmGemini=ChatGoogleGenerativeAI(model=\"gemini-2.0-flash-001\")\n",
    "llmOpenAI=ChatOpenAI(model=\"gpt-3.5-turbo\")"
   ]
  },
  {
   "cell_type": "code",
   "execution_count": 25,
   "id": "dc47a15f-63ba-404d-b30f-19ab1b345bb0",
   "metadata": {},
   "outputs": [],
   "source": [
    "@tool\n",
    "def complexTool(intArg: int, floatArg: float, dictArg: dict) -> int:\n",
    "    \"\"\"\n",
    "        Do something complex with a complex tool\n",
    "    \"\"\"\n",
    "    return intArg*floatArg"
   ]
  },
  {
   "cell_type": "code",
   "execution_count": 26,
   "id": "532c92db-fcc8-43f7-8bc2-91f9237b67f8",
   "metadata": {},
   "outputs": [],
   "source": [
    "llmWithTools=llmOpenAI.bind_tools(tools=[complexTool])"
   ]
  },
  {
   "cell_type": "code",
   "execution_count": 27,
   "id": "455dff02-59a2-4936-aa73-cb3f9e901292",
   "metadata": {},
   "outputs": [],
   "source": [
    "question=\"Use Complex Tool. The args are 5, 2.1 and an empty dictionary. Don't forget dict_arg\""
   ]
  },
  {
   "cell_type": "code",
   "execution_count": 28,
   "id": "d29c5119-742a-420e-9f18-0987a2956d62",
   "metadata": {},
   "outputs": [
    {
     "data": {
      "text/plain": [
       "AIMessage(content='', additional_kwargs={'tool_calls': [{'id': 'call_W9GMoSt0Lb76m9mOZ6Qy2tSB', 'function': {'arguments': '{\"intArg\":5,\"floatArg\":2.1}', 'name': 'complexTool'}, 'type': 'function'}], 'refusal': None}, response_metadata={'token_usage': {'completion_tokens': 23, 'prompt_tokens': 76, 'total_tokens': 99, 'completion_tokens_details': {'accepted_prediction_tokens': 0, 'audio_tokens': 0, 'reasoning_tokens': 0, 'rejected_prediction_tokens': 0}, 'prompt_tokens_details': {'audio_tokens': 0, 'cached_tokens': 0}}, 'model_name': 'gpt-3.5-turbo-0125', 'system_fingerprint': None, 'id': 'chatcmpl-Bmn6egmKzLhgX4MBrh9BzrmoGfgxj', 'finish_reason': 'tool_calls', 'logprobs': None}, id='run--081e2e28-a815-477f-9e6b-a24cb07e5a21-0', tool_calls=[{'name': 'complexTool', 'args': {'intArg': 5, 'floatArg': 2.1}, 'id': 'call_W9GMoSt0Lb76m9mOZ6Qy2tSB', 'type': 'tool_call'}], usage_metadata={'input_tokens': 76, 'output_tokens': 23, 'total_tokens': 99, 'input_token_details': {'audio': 0, 'cache_read': 0}, 'output_token_details': {'audio': 0, 'reasoning': 0}})"
      ]
     },
     "execution_count": 28,
     "metadata": {},
     "output_type": "execute_result"
    }
   ],
   "source": [
    "llmWithTools.invoke(input=question)"
   ]
  },
  {
   "cell_type": "code",
   "execution_count": 29,
   "id": "476f6952-0eb4-4704-b546-b3de7ec60b99",
   "metadata": {},
   "outputs": [],
   "source": [
    "chain=llmWithTools|RunnableLambda(lambda msg: msg.tool_calls[0]['args'])|complexTool"
   ]
  },
  {
   "cell_type": "code",
   "execution_count": 30,
   "id": "e6b8c600-b98b-4eeb-b7ab-4bbf06e45a52",
   "metadata": {},
   "outputs": [
    {
     "data": {
      "text/plain": [
       "10.5"
      ]
     },
     "execution_count": 30,
     "metadata": {},
     "output_type": "execute_result"
    }
   ],
   "source": [
    "chain.invoke(input=question)"
   ]
  },
  {
   "cell_type": "markdown",
   "id": "3ecf69b3-e3ea-45dd-a6af-3c205d158801",
   "metadata": {},
   "source": [
    "<h3> Try Except Tool Call</h3>"
   ]
  },
  {
   "cell_type": "code",
   "execution_count": 31,
   "id": "793df999-87af-42ec-a29e-3567d9e5ffb0",
   "metadata": {},
   "outputs": [],
   "source": [
    "def tryExceptToolCall(toolArgs: dict, config=RunnableConfig) -> Runnable:\n",
    "    try:\n",
    "        return complexTool.invoke(\n",
    "            input=toolArgs,\n",
    "            config=RunnableConfig\n",
    "        )\n",
    "    except Exception as e:\n",
    "        return f\"{toolArgs}:{type(e)}:{e}\"\n",
    "        return f\"Calling Tool with Arguments \\n\\n{toolArgs}\\n\\nraised the following error\\n\\n{type(e):e}\""
   ]
  },
  {
   "cell_type": "code",
   "execution_count": 32,
   "id": "be941c22-9f30-4b6f-86e0-d1fbd9fed8d2",
   "metadata": {},
   "outputs": [],
   "source": [
    "chain=llmWithTools|RunnableLambda(lambda msg: msg.tool_calls[0]['args'])|tryExceptToolCall "
   ]
  },
  {
   "cell_type": "code",
   "execution_count": 33,
   "id": "4e7f04a4-0e74-4da4-8508-f66af29dcd87",
   "metadata": {},
   "outputs": [
    {
     "data": {
      "text/plain": [
       "\"{'intArg': 5, 'floatArg': 2.1}:<class 'TypeError'>:unbound method dict.items() needs an argument\""
      ]
     },
     "execution_count": 33,
     "metadata": {},
     "output_type": "execute_result"
    }
   ],
   "source": [
    "chain.invoke(input=question)"
   ]
  },
  {
   "cell_type": "markdown",
   "id": "57dc4d8d-e7d1-43fc-97d8-c87b54e96e6c",
   "metadata": {},
   "source": [
    "<h3> Falling to a Better Model (Fallbacks) </h3>"
   ]
  },
  {
   "cell_type": "code",
   "execution_count": 34,
   "id": "0ab107ba-fef1-4e12-a8f4-cc51854bce7d",
   "metadata": {},
   "outputs": [],
   "source": [
    "llm=ChatGoogleGenerativeAI(model=\"gemini-1.5-flash\")\n",
    "betterllm=ChatOpenAI(model=\"gpt-3.5-turbo\")"
   ]
  },
  {
   "cell_type": "code",
   "execution_count": 35,
   "id": "75a0d32a-2817-427a-8157-10085546c8f6",
   "metadata": {},
   "outputs": [],
   "source": [
    "llmWithTools=llm.bind_tools(tools=[complexTool])\n",
    "betterllmWithTools=betterllm.bind_tools(tools=[complexTool])"
   ]
  },
  {
   "cell_type": "code",
   "execution_count": 37,
   "id": "01cc9337-52d8-48c3-8e42-d1f72602442c",
   "metadata": {},
   "outputs": [],
   "source": [
    "chain = llmWithTools | (lambda msg: msg.tool_calls[0][\"args\"]) | complexTool\n",
    "betterChain=betterllmWithTools | (lambda msg: msg.tool_calls[0][\"args\"]) | complexTool"
   ]
  },
  {
   "cell_type": "code",
   "execution_count": 38,
   "id": "e5512262-ab4c-4a41-a211-7f2b8261209a",
   "metadata": {},
   "outputs": [],
   "source": [
    "chainWithFallback=chain.with_fallbacks(fallbacks=[betterChain])"
   ]
  },
  {
   "cell_type": "code",
   "execution_count": 39,
   "id": "cf2d4fa8-3789-425e-ba1c-55ff55b34965",
   "metadata": {},
   "outputs": [
    {
     "data": {
      "text/plain": [
       "10.5"
      ]
     },
     "execution_count": 39,
     "metadata": {},
     "output_type": "execute_result"
    }
   ],
   "source": [
    "chainWithFallback.invoke(input=question)"
   ]
  }
 ],
 "metadata": {
  "kernelspec": {
   "display_name": "lcnenv",
   "language": "python",
   "name": "python3"
  },
  "language_info": {
   "codemirror_mode": {
    "name": "ipython",
    "version": 3
   },
   "file_extension": ".py",
   "mimetype": "text/x-python",
   "name": "python",
   "nbconvert_exporter": "python",
   "pygments_lexer": "ipython3",
   "version": "3.11.11"
  }
 },
 "nbformat": 4,
 "nbformat_minor": 5
}
