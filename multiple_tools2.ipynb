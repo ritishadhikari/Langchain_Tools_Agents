{
 "cells": [
  {
   "cell_type": "code",
   "execution_count": 1,
   "id": "1ca2cdde-ba01-4429-821a-12ff16cb1d42",
   "metadata": {},
   "outputs": [
    {
     "name": "stderr",
     "output_type": "stream",
     "text": [
      "C:\\Users\\MSI 1\\.conda\\envs\\oaivenv\\Lib\\site-packages\\tqdm\\auto.py:21: TqdmWarning: IProgress not found. Please update jupyter and ipywidgets. See https://ipywidgets.readthedocs.io/en/stable/user_install.html\n",
      "  from .autonotebook import tqdm as notebook_tqdm\n"
     ]
    }
   ],
   "source": [
    "import pandas as pd\n",
    "import numpy as np\n",
    "from langchain_google_genai import ChatGoogleGenerativeAI\n",
    "from dotenv import load_dotenv,find_dotenv\n",
    "from langchain.prompts import ChatPromptTemplate,SystemMessagePromptTemplate,HumanMessagePromptTemplate\n",
    "from langchain_openai import ChatOpenAI\n",
    "\n",
    "from operator import itemgetter\n",
    "from langchain_core.tools import tool\n",
    "from langchain_core.runnables import RunnablePassthrough,RunnableLambda, Runnable, RunnableParallel\n",
    "from langchain import hub\n",
    "from langchain.agents import AgentExecutor, create_tool_calling_agent\n",
    "from typing import List,Union, Dict\n",
    "from langchain_core.messages import AIMessage\n",
    "from copy import deepcopy"
   ]
  },
  {
   "cell_type": "code",
   "execution_count": 2,
   "id": "54f7e5d8-f49d-4cc0-af8d-a185f98baf29",
   "metadata": {},
   "outputs": [
    {
     "data": {
      "text/plain": [
       "True"
      ]
     },
     "execution_count": 2,
     "metadata": {},
     "output_type": "execute_result"
    }
   ],
   "source": [
    "load_dotenv(find_dotenv(\"D:\\LLM Courses\\Master Langchain Udemy\\.env\"))"
   ]
  },
  {
   "cell_type": "code",
   "execution_count": 3,
   "id": "14bb64f4-61f9-4a2e-b4c7-763158f7d7c5",
   "metadata": {},
   "outputs": [],
   "source": [
    "llm=ChatGoogleGenerativeAI(model=\"gemini-1.5-flash\")"
   ]
  },
  {
   "cell_type": "code",
   "execution_count": 4,
   "id": "37f1898a-cb79-46c5-9827-f90345fd13d7",
   "metadata": {},
   "outputs": [],
   "source": [
    "@tool\n",
    "def multiply(firstInt:int, secondInt: int) -> int:\n",
    "    \"\"\"\n",
    "        Multiply two integers togather\n",
    "    \"\"\"\n",
    "    return firstInt*secondInt\n",
    "\n",
    "@tool\n",
    "def add(firstInt:int, secondInt: int) -> int:\n",
    "    \"\"\"\n",
    "        Add two integers togather\n",
    "    \"\"\"\n",
    "    return firstInt+secondInt\n",
    "\n",
    "@tool \n",
    "def exponentiate (base:int, exponent:int) -> int:\n",
    "    \"\"\"\n",
    "        Exponentiate the base to the exponent power\n",
    "    \"\"\"\n",
    "    return base**exponent   "
   ]
  },
  {
   "cell_type": "code",
   "execution_count": 5,
   "id": "0b257d15-f1bb-4765-91ac-01feaf1223db",
   "metadata": {},
   "outputs": [],
   "source": [
    "tools=[multiply,add,exponentiate]"
   ]
  },
  {
   "cell_type": "code",
   "execution_count": 6,
   "id": "f373044e-de7b-4ca0-a8b8-05ea64989eaf",
   "metadata": {},
   "outputs": [
    {
     "name": "stderr",
     "output_type": "stream",
     "text": [
      "Key 'title' is not supported in schema, ignoring\n",
      "Key 'title' is not supported in schema, ignoring\n",
      "Key 'title' is not supported in schema, ignoring\n",
      "Key 'title' is not supported in schema, ignoring\n",
      "Key 'title' is not supported in schema, ignoring\n",
      "Key 'title' is not supported in schema, ignoring\n",
      "Key 'title' is not supported in schema, ignoring\n",
      "Key 'title' is not supported in schema, ignoring\n",
      "Key 'title' is not supported in schema, ignoring\n"
     ]
    }
   ],
   "source": [
    "llmWithTools=llm.bind_tools(tools=tools)"
   ]
  },
  {
   "cell_type": "code",
   "execution_count": 7,
   "id": "53d77291-0a33-4a36-b71f-d88ed0367996",
   "metadata": {},
   "outputs": [
    {
     "data": {
      "text/plain": [
       "'multiply'"
      ]
     },
     "execution_count": 7,
     "metadata": {},
     "output_type": "execute_result"
    }
   ],
   "source": [
    "multiply.name"
   ]
  },
  {
   "cell_type": "code",
   "execution_count": 8,
   "id": "db74f7d1-2f9a-4003-a96c-519c2dfa5ad4",
   "metadata": {},
   "outputs": [
    {
     "data": {
      "text/plain": [
       "StructuredTool(name='multiply', description='Multiply two integers togather', args_schema=<class 'langchain_core.utils.pydantic.multiply'>, func=<function multiply at 0x000002DA70B6BF60>)"
      ]
     },
     "execution_count": 8,
     "metadata": {},
     "output_type": "execute_result"
    }
   ],
   "source": [
    "multiply"
   ]
  },
  {
   "cell_type": "code",
   "execution_count": 9,
   "id": "02eaa0e8-6c2b-4070-a9ae-646d94164019",
   "metadata": {},
   "outputs": [],
   "source": [
    "toolMap={tool.name:tool for tool in tools}"
   ]
  },
  {
   "cell_type": "code",
   "execution_count": 10,
   "id": "3c094e05-a12d-40a7-8e22-e5d29714001a",
   "metadata": {},
   "outputs": [
    {
     "data": {
      "text/plain": [
       "{'multiply': StructuredTool(name='multiply', description='Multiply two integers togather', args_schema=<class 'langchain_core.utils.pydantic.multiply'>, func=<function multiply at 0x000002DA70B6BF60>),\n",
       " 'add': StructuredTool(name='add', description='Add two integers togather', args_schema=<class 'langchain_core.utils.pydantic.add'>, func=<function add at 0x000002DA0EC49E40>),\n",
       " 'exponentiate': StructuredTool(name='exponentiate', description='Exponentiate the base to the exponent power', args_schema=<class 'langchain_core.utils.pydantic.exponentiate'>, func=<function exponentiate at 0x000002DA0EC49DA0>)}"
      ]
     },
     "execution_count": 10,
     "metadata": {},
     "output_type": "execute_result"
    }
   ],
   "source": [
    "toolMap"
   ]
  },
  {
   "cell_type": "code",
   "execution_count": 11,
   "id": "c99b8bcf-53ff-4001-8a63-a0c36aa8b705",
   "metadata": {},
   "outputs": [
    {
     "name": "stdout",
     "output_type": "stream",
     "text": [
      "{'name': 'multiply', 'description': 'Multiply two integers togather', 'parameters': {'type_': 6, 'description': 'Multiply two integers togather', 'properties': {'secondInt': {'type_': 3, 'format_': '', 'description': '', 'nullable': False, 'enum': [], 'max_items': '0', 'min_items': '0', 'properties': {}, 'required': []}, 'firstInt': {'type_': 3, 'format_': '', 'description': '', 'nullable': False, 'enum': [], 'max_items': '0', 'min_items': '0', 'properties': {}, 'required': []}}, 'required': ['firstInt', 'secondInt'], 'format_': '', 'nullable': False, 'enum': [], 'max_items': '0', 'min_items': '0'}}\n",
      "{'name': 'add', 'description': 'Add two integers togather', 'parameters': {'type_': 6, 'description': 'Add two integers togather', 'properties': {'secondInt': {'type_': 3, 'format_': '', 'description': '', 'nullable': False, 'enum': [], 'max_items': '0', 'min_items': '0', 'properties': {}, 'required': []}, 'firstInt': {'type_': 3, 'format_': '', 'description': '', 'nullable': False, 'enum': [], 'max_items': '0', 'min_items': '0', 'properties': {}, 'required': []}}, 'required': ['firstInt', 'secondInt'], 'format_': '', 'nullable': False, 'enum': [], 'max_items': '0', 'min_items': '0'}}\n",
      "{'name': 'exponentiate', 'description': 'Exponentiate the base to the exponent power', 'parameters': {'type_': 6, 'description': 'Exponentiate the base to the exponent power', 'properties': {'exponent': {'type_': 3, 'format_': '', 'description': '', 'nullable': False, 'enum': [], 'max_items': '0', 'min_items': '0', 'properties': {}, 'required': []}, 'base': {'type_': 3, 'format_': '', 'description': '', 'nullable': False, 'enum': [], 'max_items': '0', 'min_items': '0', 'properties': {}, 'required': []}}, 'required': ['base', 'exponent'], 'format_': '', 'nullable': False, 'enum': [], 'max_items': '0', 'min_items': '0'}}\n"
     ]
    },
    {
     "data": {
      "text/plain": [
       "[{'name': 'exponentiate',\n",
       "  'args': {'exponent': 7.0, 'base': 23.0},\n",
       "  'id': 'f22f3e02-e077-4979-9f9b-9e339c7bffd5',\n",
       "  'type': 'tool_call'}]"
      ]
     },
     "execution_count": 11,
     "metadata": {},
     "output_type": "execute_result"
    }
   ],
   "source": [
    "llmWithTools.invoke(input=\"What's 23 to the power 7?\").tool_calls  # toolCalls"
   ]
  },
  {
   "cell_type": "code",
   "execution_count": 12,
   "id": "6b972ea0-1fa8-44ef-a7b9-5e6ae81effdd",
   "metadata": {},
   "outputs": [],
   "source": [
    "def toolIdentifier(msg: AIMessage) -> Runnable:\n",
    "    toolMap={tool.name:tool for tool in tools}\n",
    "    for toolInfo in msg.tool_calls:\n",
    "        toolInfo['output']=toolMap[toolInfo['name']].invoke(input=toolInfo['args'])\n",
    "    return msg.tool_calls\n",
    "        "
   ]
  },
  {
   "cell_type": "code",
   "execution_count": 13,
   "id": "cd44d545-7fce-4213-8399-57bbe5b9d302",
   "metadata": {},
   "outputs": [],
   "source": [
    "chain=(llmWithTools | toolIdentifier) "
   ]
  },
  {
   "cell_type": "code",
   "execution_count": 14,
   "id": "7a5d8c71-d65e-4429-9f36-427a049b2448",
   "metadata": {},
   "outputs": [
    {
     "name": "stdout",
     "output_type": "stream",
     "text": [
      "{'name': 'multiply', 'description': 'Multiply two integers togather', 'parameters': {'type_': 6, 'description': 'Multiply two integers togather', 'properties': {'secondInt': {'type_': 3, 'format_': '', 'description': '', 'nullable': False, 'enum': [], 'max_items': '0', 'min_items': '0', 'properties': {}, 'required': []}, 'firstInt': {'type_': 3, 'format_': '', 'description': '', 'nullable': False, 'enum': [], 'max_items': '0', 'min_items': '0', 'properties': {}, 'required': []}}, 'required': ['firstInt', 'secondInt'], 'format_': '', 'nullable': False, 'enum': [], 'max_items': '0', 'min_items': '0'}}\n",
      "{'name': 'add', 'description': 'Add two integers togather', 'parameters': {'type_': 6, 'description': 'Add two integers togather', 'properties': {'secondInt': {'type_': 3, 'format_': '', 'description': '', 'nullable': False, 'enum': [], 'max_items': '0', 'min_items': '0', 'properties': {}, 'required': []}, 'firstInt': {'type_': 3, 'format_': '', 'description': '', 'nullable': False, 'enum': [], 'max_items': '0', 'min_items': '0', 'properties': {}, 'required': []}}, 'required': ['firstInt', 'secondInt'], 'format_': '', 'nullable': False, 'enum': [], 'max_items': '0', 'min_items': '0'}}\n",
      "{'name': 'exponentiate', 'description': 'Exponentiate the base to the exponent power', 'parameters': {'type_': 6, 'description': 'Exponentiate the base to the exponent power', 'properties': {'exponent': {'type_': 3, 'format_': '', 'description': '', 'nullable': False, 'enum': [], 'max_items': '0', 'min_items': '0', 'properties': {}, 'required': []}, 'base': {'type_': 3, 'format_': '', 'description': '', 'nullable': False, 'enum': [], 'max_items': '0', 'min_items': '0', 'properties': {}, 'required': []}}, 'required': ['base', 'exponent'], 'format_': '', 'nullable': False, 'enum': [], 'max_items': '0', 'min_items': '0'}}\n"
     ]
    },
    {
     "data": {
      "text/plain": [
       "[{'name': 'exponentiate',\n",
       "  'args': {'exponent': 7.0, 'base': 23.0},\n",
       "  'id': 'fbaa1923-2535-4a72-a793-4fa8a1f2853f',\n",
       "  'type': 'tool_call',\n",
       "  'output': 3404825447}]"
      ]
     },
     "execution_count": 14,
     "metadata": {},
     "output_type": "execute_result"
    }
   ],
   "source": [
    "chain.invoke(input=\"What's 23 to the power 7?\")"
   ]
  },
  {
   "cell_type": "code",
   "execution_count": 15,
   "id": "486f63f4-8925-439c-a241-d838a727f2e4",
   "metadata": {},
   "outputs": [
    {
     "name": "stdout",
     "output_type": "stream",
     "text": [
      "{'name': 'multiply', 'description': 'Multiply two integers togather', 'parameters': {'type_': 6, 'description': 'Multiply two integers togather', 'properties': {'secondInt': {'type_': 3, 'format_': '', 'description': '', 'nullable': False, 'enum': [], 'max_items': '0', 'min_items': '0', 'properties': {}, 'required': []}, 'firstInt': {'type_': 3, 'format_': '', 'description': '', 'nullable': False, 'enum': [], 'max_items': '0', 'min_items': '0', 'properties': {}, 'required': []}}, 'required': ['firstInt', 'secondInt'], 'format_': '', 'nullable': False, 'enum': [], 'max_items': '0', 'min_items': '0'}}\n",
      "{'name': 'add', 'description': 'Add two integers togather', 'parameters': {'type_': 6, 'description': 'Add two integers togather', 'properties': {'secondInt': {'type_': 3, 'format_': '', 'description': '', 'nullable': False, 'enum': [], 'max_items': '0', 'min_items': '0', 'properties': {}, 'required': []}, 'firstInt': {'type_': 3, 'format_': '', 'description': '', 'nullable': False, 'enum': [], 'max_items': '0', 'min_items': '0', 'properties': {}, 'required': []}}, 'required': ['firstInt', 'secondInt'], 'format_': '', 'nullable': False, 'enum': [], 'max_items': '0', 'min_items': '0'}}\n",
      "{'name': 'exponentiate', 'description': 'Exponentiate the base to the exponent power', 'parameters': {'type_': 6, 'description': 'Exponentiate the base to the exponent power', 'properties': {'exponent': {'type_': 3, 'format_': '', 'description': '', 'nullable': False, 'enum': [], 'max_items': '0', 'min_items': '0', 'properties': {}, 'required': []}, 'base': {'type_': 3, 'format_': '', 'description': '', 'nullable': False, 'enum': [], 'max_items': '0', 'min_items': '0', 'properties': {}, 'required': []}}, 'required': ['base', 'exponent'], 'format_': '', 'nullable': False, 'enum': [], 'max_items': '0', 'min_items': '0'}}\n"
     ]
    },
    {
     "data": {
      "text/plain": [
       "[{'name': 'multiply',\n",
       "  'args': {'secondInt': 7.0, 'firstInt': 23.0},\n",
       "  'id': '162faf9f-adf5-4bae-9d4a-c7412d6f6cc8',\n",
       "  'type': 'tool_call',\n",
       "  'output': 161}]"
      ]
     },
     "execution_count": 15,
     "metadata": {},
     "output_type": "execute_result"
    }
   ],
   "source": [
    "chain.invoke(input=\"What's 23 times 7?\")"
   ]
  },
  {
   "cell_type": "code",
   "execution_count": null,
   "id": "c5dae8bd-9b27-4d55-befc-b678633c1672",
   "metadata": {},
   "outputs": [],
   "source": []
  }
 ],
 "metadata": {
  "kernelspec": {
   "display_name": "Python 3 (ipykernel)",
   "language": "python",
   "name": "python3"
  },
  "language_info": {
   "codemirror_mode": {
    "name": "ipython",
    "version": 3
   },
   "file_extension": ".py",
   "mimetype": "text/x-python",
   "name": "python",
   "nbconvert_exporter": "python",
   "pygments_lexer": "ipython3",
   "version": "3.11.9"
  }
 },
 "nbformat": 4,
 "nbformat_minor": 5
}
