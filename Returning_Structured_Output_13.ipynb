{
 "cells": [
  {
   "cell_type": "markdown",
   "id": "1565a92b",
   "metadata": {},
   "source": [
    "<h3>Can Skip</h3>"
   ]
  },
  {
   "cell_type": "code",
   "execution_count": 10,
   "id": "a706ceee-4f3d-4b7e-8297-2535cf29e011",
   "metadata": {},
   "outputs": [],
   "source": [
    "from dotenv import load_dotenv,find_dotenv\n",
    "from langchain_google_genai import ChatGoogleGenerativeAI\n",
    "from langchain_openai import ChatOpenAI\n",
    "\n",
    "from typing import List\n",
    "from langchain.vectorstores import FAISS\n",
    "from langchain_openai.embeddings import OpenAIEmbeddings\n",
    "from langchain.document_loaders import TextLoader\n",
    "from langchain.text_splitter import RecursiveCharacterTextSplitter\n",
    "from langchain.tools.retriever import create_retriever_tool\n",
    "from pydantic import BaseModel, Field\n",
    "import json\n",
    "from langchain_core.agents import AgentActionMessageLog,AgentFinish\n",
    "from langchain.agents import AgentExecutor\n",
    "from langchain.agents.format_scratchpad import format_to_openai_function_messages\n",
    "from langchain.prompts import ChatPromptTemplate,MessagesPlaceholder\n",
    "from langchain.agents.output_parsers.openai_tools import OpenAIToolsAgentOutputParser"
   ]
  },
  {
   "cell_type": "code",
   "execution_count": 2,
   "id": "c36a93e0-5dd8-4904-af4c-7aeb7e2abd2a",
   "metadata": {},
   "outputs": [
    {
     "data": {
      "text/plain": [
       "True"
      ]
     },
     "execution_count": 2,
     "metadata": {},
     "output_type": "execute_result"
    }
   ],
   "source": [
    "load_dotenv(find_dotenv(\"../.env\"))"
   ]
  },
  {
   "cell_type": "code",
   "execution_count": 3,
   "id": "27e4f770-64f4-49a7-b295-0330d132f001",
   "metadata": {},
   "outputs": [],
   "source": [
    "llmGemini=ChatGoogleGenerativeAI(model=\"gemini-2.0-flash-001\")\n",
    "llmOpenAI=ChatOpenAI(model=\"gpt-4o-mini\")"
   ]
  },
  {
   "cell_type": "code",
   "execution_count": 4,
   "id": "7439b1db-1fe9-411d-829c-06926606ba7e",
   "metadata": {},
   "outputs": [],
   "source": [
    "# Load Documents\n",
    "\n",
    "loader=TextLoader(file_path=\"data/state_of_the_union.txt\",encoding=\"utf-8\")\n",
    "documents=loader.load()"
   ]
  },
  {
   "cell_type": "code",
   "execution_count": 5,
   "id": "e24d10bf-fe10-4181-a0cb-94f6ff43df5c",
   "metadata": {},
   "outputs": [],
   "source": [
    "# Split Documents into Chunks\n",
    "textSplitter=RecursiveCharacterTextSplitter(chunk_size=1000, chunk_overlap=0)\n",
    "texts=textSplitter.split_documents(documents=documents)"
   ]
  },
  {
   "cell_type": "code",
   "execution_count": 6,
   "id": "28a8920b-f5ea-45ea-a914-23903f7a851d",
   "metadata": {},
   "outputs": [
    {
     "data": {
      "text/plain": [
       "Document(metadata={'source': 'data/state_of_the_union.txt'}, page_content='And tonight I am announcing that we will join our allies in closing off American air space to all Russian flights – further isolating Russia – and adding an additional squeeze –on their economy. The Ruble has lost 30% of its value. \\n\\nThe Russian stock market has lost 40% of its value and trading remains suspended. Russia’s economy is reeling and Putin alone is to blame. \\n\\nTogether with our allies we are providing support to the Ukrainians in their fight for freedom. Military assistance. Economic assistance. Humanitarian assistance. \\n\\nWe are giving more than $1 Billion in direct assistance to Ukraine. \\n\\nAnd we will continue to aid the Ukrainian people as they defend their country and to help ease their suffering.  \\n\\nLet me be clear, our forces are not engaged and will not engage in conflict with Russian forces in Ukraine.  \\n\\nOur forces are not going to Europe to fight in Ukraine, but to defend our NATO Allies – in the event that Putin decides to keep moving west.')"
      ]
     },
     "execution_count": 6,
     "metadata": {},
     "output_type": "execute_result"
    }
   ],
   "source": [
    "# Illustration\n",
    "texts[4]"
   ]
  },
  {
   "cell_type": "code",
   "execution_count": 7,
   "id": "a550ab13-ff4b-493c-93e9-f2d3dbefcf3b",
   "metadata": {},
   "outputs": [],
   "source": [
    "# Illustration\n",
    "texts[4].metadata[\"page_chunk\"]=4"
   ]
  },
  {
   "cell_type": "code",
   "execution_count": 8,
   "id": "bb996d59-b859-4eff-b27d-e77bdb4baf11",
   "metadata": {},
   "outputs": [
    {
     "data": {
      "text/plain": [
       "Document(metadata={'source': 'data/state_of_the_union.txt', 'page_chunk': 4}, page_content='And tonight I am announcing that we will join our allies in closing off American air space to all Russian flights – further isolating Russia – and adding an additional squeeze –on their economy. The Ruble has lost 30% of its value. \\n\\nThe Russian stock market has lost 40% of its value and trading remains suspended. Russia’s economy is reeling and Putin alone is to blame. \\n\\nTogether with our allies we are providing support to the Ukrainians in their fight for freedom. Military assistance. Economic assistance. Humanitarian assistance. \\n\\nWe are giving more than $1 Billion in direct assistance to Ukraine. \\n\\nAnd we will continue to aid the Ukrainian people as they defend their country and to help ease their suffering.  \\n\\nLet me be clear, our forces are not engaged and will not engage in conflict with Russian forces in Ukraine.  \\n\\nOur forces are not going to Europe to fight in Ukraine, but to defend our NATO Allies – in the event that Putin decides to keep moving west.')"
      ]
     },
     "execution_count": 8,
     "metadata": {},
     "output_type": "execute_result"
    }
   ],
   "source": [
    "# Illustration\n",
    "texts[4]"
   ]
  },
  {
   "cell_type": "code",
   "execution_count": 9,
   "id": "02db1287-0d9c-4989-9fdc-cc756c573d6c",
   "metadata": {},
   "outputs": [],
   "source": [
    "# Add in the fake source information (how is covered in the illustrations above)\n",
    "for i, doc in enumerate(texts):\n",
    "    doc.metadata[\"page_chunk\"]=i"
   ]
  },
  {
   "cell_type": "code",
   "execution_count": 11,
   "id": "268518cc-53c1-4f01-829e-318ba9e140f8",
   "metadata": {},
   "outputs": [],
   "source": [
    "# Create Vectorstore and retriever\n",
    "embeddings=OpenAIEmbeddings()\n",
    "vectorstore=FAISS.from_documents(documents=texts,embedding=embeddings)\n",
    "retriever=vectorstore.as_retriever()"
   ]
  },
  {
   "cell_type": "code",
   "execution_count": 12,
   "id": "337ae4ea-5987-46ff-b0f5-e5678170fdcb",
   "metadata": {},
   "outputs": [],
   "source": [
    "# Create Retriever Tool\n",
    "\n",
    "retrieverTool=create_retriever_tool(\n",
    "    retriever=retriever,\n",
    "    name=\"state-of-union-retriever\",\n",
    "    description=\"Query a retriever to get information about state of the union address\"\n",
    ")"
   ]
  },
  {
   "cell_type": "code",
   "execution_count": 13,
   "id": "51f68682-d44e-4a13-87b4-1d5c5132d6e7",
   "metadata": {},
   "outputs": [],
   "source": [
    "class Response(BaseModel):\n",
    "    \"\"\"\n",
    "        Final response to the question being asked\n",
    "    \"\"\"\n",
    "    answer: str=Field(\n",
    "        description=\"The final answer to respond to the user\"\n",
    "    )\n",
    "\n",
    "    sources: List[int]=Field(\n",
    "        description=\"\"\"\n",
    "            List of page chunks that contain answer to the question.\n",
    "            Only include a page chunk if it contains a relevant information\n",
    "        \"\"\"\n",
    "    )"
   ]
  },
  {
   "cell_type": "code",
   "execution_count": 18,
   "id": "d8c1f405-9bd8-4230-8eb9-38d5a9e136ae",
   "metadata": {},
   "outputs": [],
   "source": [
    "llmWithTools=llmOpenAI.bind_tools(tools=[retrieverTool,Response])"
   ]
  },
  {
   "cell_type": "code",
   "execution_count": 20,
   "id": "b8aced37-a2dd-4464-8d6f-a29398e5fcde",
   "metadata": {},
   "outputs": [],
   "source": [
    "prompt=ChatPromptTemplate.from_messages(\n",
    "    messages=[\n",
    "        (\"system\",\"You are a helpful assistant\"),\n",
    "        (\"user\",\"{input}\"),\n",
    "        (\"placeholder\",\"{agent_scratchpad}\")\n",
    "    ]\n",
    ")"
   ]
  },
  {
   "cell_type": "code",
   "execution_count": 21,
   "id": "7e1bec5f-b3ab-42c9-983a-9fba24ca515f",
   "metadata": {},
   "outputs": [],
   "source": [
    "def parse(output):\n",
    "    # If no function was involved, return to user\n",
    "    if \"function_call\" not in output.additional_kwargs:\n",
    "        return AgentFinish(\n",
    "            return_values={\"output\":output.content},\n",
    "            log=output.content\n",
    "        )\n",
    "    # Else Parse out the content\n",
    "    else:\n",
    "        function_call=output.additional_kwargs['function_call']\n",
    "        name=function_call['name']\n",
    "        inputs=json.loads(function_call['arguments'])\n",
    "\n",
    "        # If the Response Function was invoked, return to the user with the function inputs\n",
    "        if name==\"Response\":\n",
    "            return AgentFinish(return_values=inputs,log=str(function_call))\n",
    "        # if any other function is called, treat it as a tool invocation and return an agent action\n",
    "        else:\n",
    "            return AgentActionMessageLog(tool=name, tool_input=inputs, log=\"\",message_log=[output])\n",
    "            "
   ]
  },
  {
   "cell_type": "code",
   "execution_count": 22,
   "id": "a156b281-6833-4798-b366-0b41d170ef5e",
   "metadata": {},
   "outputs": [],
   "source": [
    "# Creating the Custom Agent\n",
    "agent={\n",
    "    \"input\":lambda x:x['input'],\n",
    "    \"agent_scratchpad\": lambda x: format_to_openai_function_messages(x['intermediate_steps'])\n",
    "    } | prompt | llmWithTools | parse"
   ]
  },
  {
   "cell_type": "code",
   "execution_count": 23,
   "id": "4cf12b54-d42a-477a-bcd3-aa06f741a4a1",
   "metadata": {},
   "outputs": [],
   "source": [
    "agentExecutor=AgentExecutor(agent=agent, tools=[retrieverTool],verbose=True)"
   ]
  },
  {
   "cell_type": "code",
   "execution_count": 24,
   "id": "b46c091e-acbc-4e8c-a816-a080a72e2f67",
   "metadata": {},
   "outputs": [
    {
     "name": "stdout",
     "output_type": "stream",
     "text": [
      "\n",
      "\n",
      "\u001b[1m> Entering new AgentExecutor chain...\u001b[0m\n",
      "\u001b[32;1m\u001b[1;3m\u001b[0m\n",
      "\n",
      "\u001b[1m> Finished chain.\u001b[0m\n"
     ]
    },
    {
     "data": {
      "text/plain": [
       "{'input': 'What did the President say about Putin?', 'output': ''}"
      ]
     },
     "execution_count": 24,
     "metadata": {},
     "output_type": "execute_result"
    }
   ],
   "source": [
    "agentExecutor.invoke(\n",
    "    input={\"input\":\"What did the President say about Putin?\"},\n",
    ")"
   ]
  },
  {
   "cell_type": "code",
   "execution_count": 25,
   "id": "a4b7453f-35ec-4999-aaad-73f2ba7aada3",
   "metadata": {},
   "outputs": [
    {
     "name": "stdout",
     "output_type": "stream",
     "text": [
      "\n",
      "\n",
      "\u001b[1m> Entering new AgentExecutor chain...\u001b[0m\n",
      "\u001b[32;1m\u001b[1;3m\u001b[0m\n",
      "\n",
      "\u001b[1m> Finished chain.\u001b[0m\n"
     ]
    },
    {
     "data": {
      "text/plain": [
       "{'input': 'What did the President say about Ketanji brown Jackson?',\n",
       " 'output': ''}"
      ]
     },
     "execution_count": 25,
     "metadata": {},
     "output_type": "execute_result"
    }
   ],
   "source": [
    "agentExecutor.invoke(\n",
    "    input={\"input\":\"What did the President say about Ketanji brown Jackson?\"},\n",
    ")"
   ]
  },
  {
   "cell_type": "code",
   "execution_count": 26,
   "id": "bb333451-2a9c-4ed5-8f63-7d0c718c763e",
   "metadata": {},
   "outputs": [
    {
     "name": "stdout",
     "output_type": "stream",
     "text": [
      "\n",
      "\n",
      "\u001b[1m> Entering new None chain...\u001b[0m\n",
      "\u001b[32;1m\u001b[1;3m\u001b[0m\n",
      "\n",
      "\u001b[1m> Finished chain.\u001b[0m\n",
      "{'output': '', 'messages': [AIMessage(content='', additional_kwargs={}, response_metadata={})]} -\n",
      "------\n"
     ]
    }
   ],
   "source": [
    "for content in agentExecutor.iter(\n",
    "    inputs={\"input\":\"What did the President say about Putin?\"},\n",
    "    \n",
    "):\n",
    "    print(content,\"-\\n------\")"
   ]
  },
  {
   "cell_type": "code",
   "execution_count": null,
   "id": "162997cf-c9e3-49de-8b85-a33c2ac62d46",
   "metadata": {},
   "outputs": [],
   "source": []
  }
 ],
 "metadata": {
  "kernelspec": {
   "display_name": "lcnenv",
   "language": "python",
   "name": "python3"
  },
  "language_info": {
   "codemirror_mode": {
    "name": "ipython",
    "version": 3
   },
   "file_extension": ".py",
   "mimetype": "text/x-python",
   "name": "python",
   "nbconvert_exporter": "python",
   "pygments_lexer": "ipython3",
   "version": "3.11.11"
  }
 },
 "nbformat": 4,
 "nbformat_minor": 5
}
