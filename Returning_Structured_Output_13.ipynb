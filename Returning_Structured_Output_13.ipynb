{
 "cells": [
  {
   "cell_type": "code",
   "execution_count": 58,
   "id": "a706ceee-4f3d-4b7e-8297-2535cf29e011",
   "metadata": {},
   "outputs": [],
   "source": [
    "from dotenv import load_dotenv,find_dotenv\n",
    "from langchain_google_genai import ChatGoogleGenerativeAI\n",
    "from langchain_openai import ChatOpenAI\n",
    "\n",
    "from typing import List\n",
    "from langchain.vectorstores import FAISS\n",
    "from langchain.embeddings import SentenceTransformerEmbeddings\n",
    "from langchain.document_loaders import TextLoader\n",
    "from langchain.text_splitter import RecursiveCharacterTextSplitter\n",
    "from langchain.tools.retriever import create_retriever_tool\n",
    "from pydantic import BaseModel, Field\n",
    "import json\n",
    "from langchain_core.agents import AgentActionMessageLog,AgentFinish\n",
    "from langchain.agents import AgentExecutor\n",
    "from langchain.agents.format_scratchpad import format_to_openai_function_messages\n",
    "from langchain.prompts import ChatPromptTemplate,MessagesPlaceholder\n",
    "from langchain.agents.output_parsers.openai_tools import OpenAIToolsAgentOutputParser"
   ]
  },
  {
   "cell_type": "code",
   "execution_count": 3,
   "id": "c36a93e0-5dd8-4904-af4c-7aeb7e2abd2a",
   "metadata": {},
   "outputs": [
    {
     "data": {
      "text/plain": [
       "True"
      ]
     },
     "execution_count": 3,
     "metadata": {},
     "output_type": "execute_result"
    }
   ],
   "source": [
    "load_dotenv(find_dotenv(\"D:\\LLM Courses\\Master Langchain Udemy\\.env\"))"
   ]
  },
  {
   "cell_type": "code",
   "execution_count": 4,
   "id": "27e4f770-64f4-49a7-b295-0330d132f001",
   "metadata": {},
   "outputs": [],
   "source": [
    "llmGemini=ChatGoogleGenerativeAI(model=\"gemini-1.5-flash\")\n",
    "llmOpenAI=ChatOpenAI(model=\"gpt-4\")"
   ]
  },
  {
   "cell_type": "code",
   "execution_count": 9,
   "id": "7439b1db-1fe9-411d-829c-06926606ba7e",
   "metadata": {},
   "outputs": [],
   "source": [
    "# Load Documents\n",
    "\n",
    "loader=TextLoader(file_path=\"data/state_of_the_union.txt\",encoding=\"utf-8\")\n",
    "documents=loader.load()"
   ]
  },
  {
   "cell_type": "code",
   "execution_count": 11,
   "id": "e24d10bf-fe10-4181-a0cb-94f6ff43df5c",
   "metadata": {},
   "outputs": [],
   "source": [
    "# Split Documents into Chunks\n",
    "textSplitter=RecursiveCharacterTextSplitter(chunk_size=1000, chunk_overlap=0)\n",
    "texts=textSplitter.split_documents(documents=documents)"
   ]
  },
  {
   "cell_type": "code",
   "execution_count": 18,
   "id": "28a8920b-f5ea-45ea-a914-23903f7a851d",
   "metadata": {},
   "outputs": [
    {
     "data": {
      "text/plain": [
       "Document(metadata={'source': 'data/state_of_the_union.txt', 'page_chunk': 4}, page_content='And tonight I am announcing that we will join our allies in closing off American air space to all Russian flights – further isolating Russia – and adding an additional squeeze –on their economy. The Ruble has lost 30% of its value. \\n\\nThe Russian stock market has lost 40% of its value and trading remains suspended. Russia’s economy is reeling and Putin alone is to blame. \\n\\nTogether with our allies we are providing support to the Ukrainians in their fight for freedom. Military assistance. Economic assistance. Humanitarian assistance. \\n\\nWe are giving more than $1 Billion in direct assistance to Ukraine. \\n\\nAnd we will continue to aid the Ukrainian people as they defend their country and to help ease their suffering.  \\n\\nLet me be clear, our forces are not engaged and will not engage in conflict with Russian forces in Ukraine.  \\n\\nOur forces are not going to Europe to fight in Ukraine, but to defend our NATO Allies – in the event that Putin decides to keep moving west.')"
      ]
     },
     "execution_count": 18,
     "metadata": {},
     "output_type": "execute_result"
    }
   ],
   "source": [
    "# Illustration\n",
    "texts[4]"
   ]
  },
  {
   "cell_type": "code",
   "execution_count": 19,
   "id": "a550ab13-ff4b-493c-93e9-f2d3dbefcf3b",
   "metadata": {},
   "outputs": [],
   "source": [
    "# Illustration\n",
    "texts[4].metadata[\"page_chunk\"]=4"
   ]
  },
  {
   "cell_type": "code",
   "execution_count": 20,
   "id": "bb996d59-b859-4eff-b27d-e77bdb4baf11",
   "metadata": {},
   "outputs": [
    {
     "data": {
      "text/plain": [
       "Document(metadata={'source': 'data/state_of_the_union.txt', 'page_chunk': 4}, page_content='And tonight I am announcing that we will join our allies in closing off American air space to all Russian flights – further isolating Russia – and adding an additional squeeze –on their economy. The Ruble has lost 30% of its value. \\n\\nThe Russian stock market has lost 40% of its value and trading remains suspended. Russia’s economy is reeling and Putin alone is to blame. \\n\\nTogether with our allies we are providing support to the Ukrainians in their fight for freedom. Military assistance. Economic assistance. Humanitarian assistance. \\n\\nWe are giving more than $1 Billion in direct assistance to Ukraine. \\n\\nAnd we will continue to aid the Ukrainian people as they defend their country and to help ease their suffering.  \\n\\nLet me be clear, our forces are not engaged and will not engage in conflict with Russian forces in Ukraine.  \\n\\nOur forces are not going to Europe to fight in Ukraine, but to defend our NATO Allies – in the event that Putin decides to keep moving west.')"
      ]
     },
     "execution_count": 20,
     "metadata": {},
     "output_type": "execute_result"
    }
   ],
   "source": [
    "# Illustration\n",
    "texts[4]"
   ]
  },
  {
   "cell_type": "code",
   "execution_count": 21,
   "id": "02db1287-0d9c-4989-9fdc-cc756c573d6c",
   "metadata": {},
   "outputs": [],
   "source": [
    "# Add in the fake source information (how is covered in the illustrations above)\n",
    "for i, doc in enumerate(texts):\n",
    "    doc.metadata[\"page_chunk\"]=i"
   ]
  },
  {
   "cell_type": "code",
   "execution_count": 24,
   "id": "268518cc-53c1-4f01-829e-318ba9e140f8",
   "metadata": {},
   "outputs": [
    {
     "name": "stderr",
     "output_type": "stream",
     "text": [
      "C:\\Users\\MSI 1\\AppData\\Local\\Temp\\ipykernel_8696\\2889723379.py:2: LangChainDeprecationWarning: Default values for HuggingFaceEmbeddings.model_name were deprecated in LangChain 0.2.16 and will be removed in 0.4.0. Explicitly pass a model_name to the HuggingFaceEmbeddings constructor instead.\n",
      "  embeddings=SentenceTransformerEmbeddings()\n"
     ]
    }
   ],
   "source": [
    "# Create Vectorstore and retriever\n",
    "embeddings=SentenceTransformerEmbeddings()\n",
    "vectorstore=FAISS.from_documents(documents=texts,embedding=embeddings)\n",
    "retriever=vectorstore.as_retriever()"
   ]
  },
  {
   "cell_type": "code",
   "execution_count": 26,
   "id": "337ae4ea-5987-46ff-b0f5-e5678170fdcb",
   "metadata": {},
   "outputs": [],
   "source": [
    "# Create Retriever Tool\n",
    "\n",
    "retrieverTool=create_retriever_tool(\n",
    "    retriever=retriever,\n",
    "    name=\"state-of-union-retriever\",\n",
    "    description=\"Query a retriever to get information about state of the union address\"\n",
    ")"
   ]
  },
  {
   "cell_type": "code",
   "execution_count": 28,
   "id": "51f68682-d44e-4a13-87b4-1d5c5132d6e7",
   "metadata": {},
   "outputs": [],
   "source": [
    "class Response(BaseModel):\n",
    "    \"\"\"\n",
    "        Final response to the question being asked\n",
    "    \"\"\"\n",
    "    answer: str=Field(\n",
    "        description=\"The final answer to respond to the user\"\n",
    "    )\n",
    "\n",
    "    sources: List[int]=Field(\n",
    "        description=\"\"\"\n",
    "            List of page chunks that contain answer to the question.\n",
    "            Only include a page chunk if it contains a relevant information\n",
    "        \"\"\"\n",
    "    )"
   ]
  },
  {
   "cell_type": "code",
   "execution_count": 49,
   "id": "d8c1f405-9bd8-4230-8eb9-38d5a9e136ae",
   "metadata": {},
   "outputs": [],
   "source": [
    "llmWithTools=llmOpenAI.bind_functions(functions=[retrieverTool,Response])"
   ]
  },
  {
   "cell_type": "code",
   "execution_count": 35,
   "id": "b8aced37-a2dd-4464-8d6f-a29398e5fcde",
   "metadata": {},
   "outputs": [],
   "source": [
    "prompt=ChatPromptTemplate.from_messages(\n",
    "    messages=[\n",
    "        (\"system\",\"You are a helpful assistant\"),\n",
    "        (\"user\",\"{input}\"),\n",
    "        (\"placeholder\",\"{agent_scratchpad}\")\n",
    "    ]\n",
    ")"
   ]
  },
  {
   "cell_type": "code",
   "execution_count": 59,
   "id": "7e1bec5f-b3ab-42c9-983a-9fba24ca515f",
   "metadata": {},
   "outputs": [],
   "source": [
    "def parse(output):\n",
    "    # If no function was involved, return to user\n",
    "    if \"function_call\" not in output.additional_kwargs:\n",
    "        return AgentFinish(\n",
    "            return_values={\"output\":output.content},\n",
    "            log=output.content\n",
    "        )\n",
    "    # Else Parse out the content\n",
    "    else:\n",
    "        function_call=output.additional_kwargs['function_call']\n",
    "        name=function_call['name']\n",
    "        inputs=json.loads(function_call['arguments'])\n",
    "\n",
    "        # If the Response Function was invoked, return to the user with the function inputs\n",
    "        if name==\"Response\":\n",
    "            return AgentFinish(return_values=inputs,log=str(function_call))\n",
    "        # if any other function is called, treat it as a tool invocation and return an agent action\n",
    "        else:\n",
    "            return AgentActionMessageLog(tool=name, tool_input=inputs, log=\"\",message_log=[output])\n",
    "            "
   ]
  },
  {
   "cell_type": "code",
   "execution_count": 60,
   "id": "a156b281-6833-4798-b366-0b41d170ef5e",
   "metadata": {},
   "outputs": [],
   "source": [
    "# Creating the Custom Agent\n",
    "agent={\n",
    "    \"input\":lambda x:x['input'],\n",
    "    \"agent_scratchpad\": lambda x: format_to_openai_function_messages(x['intermediate_steps'])\n",
    "    } | prompt | llmWithTools | parse"
   ]
  },
  {
   "cell_type": "code",
   "execution_count": 61,
   "id": "4cf12b54-d42a-477a-bcd3-aa06f741a4a1",
   "metadata": {},
   "outputs": [],
   "source": [
    "agentExecutor=AgentExecutor(agent=agent, tools=[retrieverTool],verbose=True)"
   ]
  },
  {
   "cell_type": "code",
   "execution_count": 62,
   "id": "b46c091e-acbc-4e8c-a816-a080a72e2f67",
   "metadata": {},
   "outputs": [
    {
     "name": "stdout",
     "output_type": "stream",
     "text": [
      "\n",
      "\n",
      "\u001b[1m> Entering new AgentExecutor chain...\u001b[0m\n",
      "\u001b[32;1m\u001b[1;3m\u001b[0m\u001b[36;1m\u001b[1;3mMadam Speaker, Madam Vice President, our First Lady and Second Gentleman. Members of Congress and the Cabinet. Justices of the Supreme Court. My fellow Americans.  \n",
      "\n",
      "Last year COVID-19 kept us apart. This year we are finally together again. \n",
      "\n",
      "Tonight, we meet as Democrats Republicans and Independents. But most importantly as Americans. \n",
      "\n",
      "With a duty to one another to the American people to the Constitution. \n",
      "\n",
      "And with an unwavering resolve that freedom will always triumph over tyranny. \n",
      "\n",
      "Six days ago, Russia’s Vladimir Putin sought to shake the foundations of the free world thinking he could make it bend to his menacing ways. But he badly miscalculated. \n",
      "\n",
      "He thought he could roll into Ukraine and the world would roll over. Instead he met a wall of strength he never imagined. \n",
      "\n",
      "He met the Ukrainian people. \n",
      "\n",
      "From President Zelenskyy to every Ukrainian, their fearlessness, their courage, their determination, inspires the world.\n",
      "\n",
      "And I’m taking robust action to make sure the pain of our sanctions  is targeted at Russia’s economy. And I will use every tool at our disposal to protect American businesses and consumers. \n",
      "\n",
      "Tonight, I can announce that the United States has worked with 30 other countries to release 60 Million barrels of oil from reserves around the world.  \n",
      "\n",
      "America will lead that effort, releasing 30 Million barrels from our own Strategic Petroleum Reserve. And we stand ready to do more if necessary, unified with our allies.  \n",
      "\n",
      "These steps will help blunt gas prices here at home. And I know the news about what’s happening can seem alarming. \n",
      "\n",
      "But I want you to know that we are going to be okay. \n",
      "\n",
      "When the history of this era is written Putin’s war on Ukraine will have left Russia weaker and the rest of the world stronger. \n",
      "\n",
      "While it shouldn’t have taken something so terrible for people around the world to see what’s at stake now everyone sees it clearly.\n",
      "\n",
      "We are inflicting pain on Russia and supporting the people of Ukraine. Putin is now isolated from the world more than ever. \n",
      "\n",
      "Together with our allies –we are right now enforcing powerful economic sanctions. \n",
      "\n",
      "We are cutting off Russia’s largest banks from the international financial system.  \n",
      "\n",
      "Preventing Russia’s central bank from defending the Russian Ruble making Putin’s $630 Billion “war fund” worthless.   \n",
      "\n",
      "We are choking off Russia’s access to technology that will sap its economic strength and weaken its military for years to come.  \n",
      "\n",
      "Tonight I say to the Russian oligarchs and corrupt leaders who have bilked billions of dollars off this violent regime no more. \n",
      "\n",
      "The U.S. Department of Justice is assembling a dedicated task force to go after the crimes of Russian oligarchs.  \n",
      "\n",
      "We are joining with our European allies to find and seize your yachts your luxury apartments your private jets. We are coming for your ill-begotten gains.\n",
      "\n",
      "We see the unity among leaders of nations and a more unified Europe a more unified West. And we see unity among the people who are gathering in cities in large crowds around the world even in Russia to demonstrate their support for Ukraine.  \n",
      "\n",
      "In the battle between democracy and autocracy, democracies are rising to the moment, and the world is clearly choosing the side of peace and security. \n",
      "\n",
      "This is a real test. It’s going to take time. So let us continue to draw inspiration from the iron will of the Ukrainian people. \n",
      "\n",
      "To our fellow Ukrainian Americans who forge a deep bond that connects our two nations we stand with you. \n",
      "\n",
      "Putin may circle Kyiv with tanks, but he will never gain the hearts and souls of the Ukrainian people. \n",
      "\n",
      "He will never extinguish their love of freedom. He will never weaken the resolve of the free world. \n",
      "\n",
      "We meet tonight in an America that has lived through two of the hardest years this nation has ever faced. \n",
      "\n",
      "The pandemic has been punishing.\u001b[0m\u001b[32;1m\u001b[1;3m{'arguments': '{\\n  \"answer\": \"The President spoke about Putin\\'s invasion of Ukraine, stating that Putin miscalculated his actions and instead of the world bending to his will, he met a wall of strength. He mentioned that robust actions are being taken to target Russia\\'s economy with sanctions and that the United States has worked with other countries to release oil from reserves around the world. The President also mentioned that the U.S. Department of Justice is assembling a dedicated task force to go after the crimes of Russian oligarchs. He emphasized that Putin is now more isolated from the world than ever and his war on Ukraine will leave Russia weaker and the rest of the world stronger. He ended by stating that Putin may circle Kyiv with tanks, but he will never gain the hearts and souls of the Ukrainian people.\",\\n  \"sources\": [0]\\n}', 'name': 'Response'}\u001b[0m\n",
      "\n",
      "\u001b[1m> Finished chain.\u001b[0m\n"
     ]
    },
    {
     "data": {
      "text/plain": [
       "{'input': 'What did the President say about Putin?',\n",
       " 'answer': \"The President spoke about Putin's invasion of Ukraine, stating that Putin miscalculated his actions and instead of the world bending to his will, he met a wall of strength. He mentioned that robust actions are being taken to target Russia's economy with sanctions and that the United States has worked with other countries to release oil from reserves around the world. The President also mentioned that the U.S. Department of Justice is assembling a dedicated task force to go after the crimes of Russian oligarchs. He emphasized that Putin is now more isolated from the world than ever and his war on Ukraine will leave Russia weaker and the rest of the world stronger. He ended by stating that Putin may circle Kyiv with tanks, but he will never gain the hearts and souls of the Ukrainian people.\",\n",
       " 'sources': [0]}"
      ]
     },
     "execution_count": 62,
     "metadata": {},
     "output_type": "execute_result"
    }
   ],
   "source": [
    "agentExecutor.invoke(\n",
    "    input={\"input\":\"What did the President say about Putin?\"},\n",
    ")"
   ]
  },
  {
   "cell_type": "code",
   "execution_count": 63,
   "id": "a4b7453f-35ec-4999-aaad-73f2ba7aada3",
   "metadata": {},
   "outputs": [
    {
     "name": "stdout",
     "output_type": "stream",
     "text": [
      "\n",
      "\n",
      "\u001b[1m> Entering new AgentExecutor chain...\u001b[0m\n",
      "\u001b[32;1m\u001b[1;3m\u001b[0m\u001b[36;1m\u001b[1;3mTonight. I call on the Senate to: Pass the Freedom to Vote Act. Pass the John Lewis Voting Rights Act. And while you’re at it, pass the Disclose Act so Americans can know who is funding our elections. \n",
      "\n",
      "Tonight, I’d like to honor someone who has dedicated his life to serve this country: Justice Stephen Breyer—an Army veteran, Constitutional scholar, and retiring Justice of the United States Supreme Court. Justice Breyer, thank you for your service. \n",
      "\n",
      "One of the most serious constitutional responsibilities a President has is nominating someone to serve on the United States Supreme Court. \n",
      "\n",
      "And I did that 4 days ago, when I nominated Circuit Court of Appeals Judge Ketanji Brown Jackson. One of our nation’s top legal minds, who will continue Justice Breyer’s legacy of excellence.\n",
      "\n",
      "A former top litigator in private practice. A former federal public defender. And from a family of public school educators and police officers. A consensus builder. Since she’s been nominated, she’s received a broad range of support—from the Fraternal Order of Police to former judges appointed by Democrats and Republicans. \n",
      "\n",
      "And if we are to advance liberty and justice, we need to secure the Border and fix the immigration system. \n",
      "\n",
      "We can do both. At our border, we’ve installed new technology like cutting-edge scanners to better detect drug smuggling.  \n",
      "\n",
      "We’ve set up joint patrols with Mexico and Guatemala to catch more human traffickers.  \n",
      "\n",
      "We’re putting in place dedicated immigration judges so families fleeing persecution and violence can have their cases heard faster. \n",
      "\n",
      "We’re securing commitments and supporting partners in South and Central America to host more refugees and secure their own borders.\n",
      "\n",
      "And my report is this: the State of the Union is strong—because you, the American people, are strong. \n",
      "\n",
      "We are stronger today than we were a year ago. \n",
      "\n",
      "And we will be stronger a year from now than we are today. \n",
      "\n",
      "Now is our moment to meet and overcome the challenges of our time. \n",
      "\n",
      "And we will, as one people. \n",
      "\n",
      "One America. \n",
      "\n",
      "The United States of America. \n",
      "\n",
      "May God bless you all. May God protect our troops.\n",
      "\n",
      "And built the strongest, freest, and most prosperous nation the world has ever known. \n",
      "\n",
      "Now is the hour. \n",
      "\n",
      "Our moment of responsibility. \n",
      "\n",
      "Our test of resolve and conscience, of history itself. \n",
      "\n",
      "It is in this moment that our character is formed. Our purpose is found. Our future is forged. \n",
      "\n",
      "Well I know this nation.  \n",
      "\n",
      "We will meet the test. \n",
      "\n",
      "To protect freedom and liberty, to expand fairness and opportunity. \n",
      "\n",
      "We will save democracy. \n",
      "\n",
      "As hard as these times have been, I am more optimistic about America today than I have been my whole life. \n",
      "\n",
      "Because I see the future that is within our grasp. \n",
      "\n",
      "Because I know there is simply nothing beyond our capacity. \n",
      "\n",
      "We are the only nation on Earth that has always turned every crisis we have faced into an opportunity. \n",
      "\n",
      "The only nation that can be defined by a single word: possibilities. \n",
      "\n",
      "So on this night, in our 245th year as a nation, I have come to report on the State of the Union.\u001b[0m\u001b[32;1m\u001b[1;3m{'arguments': '{\\n  \"answer\": \"President honored Justice Stephen Breyer and then spoke about his recent nomination of Circuit Court of Appeals Judge Ketanji Brown Jackson to the United States Supreme Court. He described her as one of the nation\\'s top legal minds who will continue Justice Breyer\\'s legacy of excellence. He highlighted her background as a former top litigator in private practice, a former federal public defender and coming from a family of public school educators and police officers. He also mentioned that since her nomination, she has received a broad range of support from the Fraternal Order of Police to former judges appointed by Democrats and Republicans.\",\\n  \"sources\": [0]\\n}', 'name': 'Response'}\u001b[0m\n",
      "\n",
      "\u001b[1m> Finished chain.\u001b[0m\n"
     ]
    },
    {
     "data": {
      "text/plain": [
       "{'input': 'What did the President say about Ketanji brown Jackson?',\n",
       " 'answer': \"President honored Justice Stephen Breyer and then spoke about his recent nomination of Circuit Court of Appeals Judge Ketanji Brown Jackson to the United States Supreme Court. He described her as one of the nation's top legal minds who will continue Justice Breyer's legacy of excellence. He highlighted her background as a former top litigator in private practice, a former federal public defender and coming from a family of public school educators and police officers. He also mentioned that since her nomination, she has received a broad range of support from the Fraternal Order of Police to former judges appointed by Democrats and Republicans.\",\n",
       " 'sources': [0]}"
      ]
     },
     "execution_count": 63,
     "metadata": {},
     "output_type": "execute_result"
    }
   ],
   "source": [
    "agentExecutor.invoke(\n",
    "    input={\"input\":\"What did the President say about Ketanji brown Jackson?\"},\n",
    ")"
   ]
  },
  {
   "cell_type": "code",
   "execution_count": 73,
   "id": "bb333451-2a9c-4ed5-8f63-7d0c718c763e",
   "metadata": {},
   "outputs": [
    {
     "name": "stdout",
     "output_type": "stream",
     "text": [
      "\n",
      "\n",
      "\u001b[1m> Entering new None chain...\u001b[0m\n",
      "\u001b[32;1m\u001b[1;3m\u001b[0m\u001b[36;1m\u001b[1;3mMadam Speaker, Madam Vice President, our First Lady and Second Gentleman. Members of Congress and the Cabinet. Justices of the Supreme Court. My fellow Americans.  \n",
      "\n",
      "Last year COVID-19 kept us apart. This year we are finally together again. \n",
      "\n",
      "Tonight, we meet as Democrats Republicans and Independents. But most importantly as Americans. \n",
      "\n",
      "With a duty to one another to the American people to the Constitution. \n",
      "\n",
      "And with an unwavering resolve that freedom will always triumph over tyranny. \n",
      "\n",
      "Six days ago, Russia’s Vladimir Putin sought to shake the foundations of the free world thinking he could make it bend to his menacing ways. But he badly miscalculated. \n",
      "\n",
      "He thought he could roll into Ukraine and the world would roll over. Instead he met a wall of strength he never imagined. \n",
      "\n",
      "He met the Ukrainian people. \n",
      "\n",
      "From President Zelenskyy to every Ukrainian, their fearlessness, their courage, their determination, inspires the world.\n",
      "\n",
      "And I’m taking robust action to make sure the pain of our sanctions  is targeted at Russia’s economy. And I will use every tool at our disposal to protect American businesses and consumers. \n",
      "\n",
      "Tonight, I can announce that the United States has worked with 30 other countries to release 60 Million barrels of oil from reserves around the world.  \n",
      "\n",
      "America will lead that effort, releasing 30 Million barrels from our own Strategic Petroleum Reserve. And we stand ready to do more if necessary, unified with our allies.  \n",
      "\n",
      "These steps will help blunt gas prices here at home. And I know the news about what’s happening can seem alarming. \n",
      "\n",
      "But I want you to know that we are going to be okay. \n",
      "\n",
      "When the history of this era is written Putin’s war on Ukraine will have left Russia weaker and the rest of the world stronger. \n",
      "\n",
      "While it shouldn’t have taken something so terrible for people around the world to see what’s at stake now everyone sees it clearly.\n",
      "\n",
      "We see the unity among leaders of nations and a more unified Europe a more unified West. And we see unity among the people who are gathering in cities in large crowds around the world even in Russia to demonstrate their support for Ukraine.  \n",
      "\n",
      "In the battle between democracy and autocracy, democracies are rising to the moment, and the world is clearly choosing the side of peace and security. \n",
      "\n",
      "This is a real test. It’s going to take time. So let us continue to draw inspiration from the iron will of the Ukrainian people. \n",
      "\n",
      "To our fellow Ukrainian Americans who forge a deep bond that connects our two nations we stand with you. \n",
      "\n",
      "Putin may circle Kyiv with tanks, but he will never gain the hearts and souls of the Ukrainian people. \n",
      "\n",
      "He will never extinguish their love of freedom. He will never weaken the resolve of the free world. \n",
      "\n",
      "We meet tonight in an America that has lived through two of the hardest years this nation has ever faced. \n",
      "\n",
      "The pandemic has been punishing.\n",
      "\n",
      "We are inflicting pain on Russia and supporting the people of Ukraine. Putin is now isolated from the world more than ever. \n",
      "\n",
      "Together with our allies –we are right now enforcing powerful economic sanctions. \n",
      "\n",
      "We are cutting off Russia’s largest banks from the international financial system.  \n",
      "\n",
      "Preventing Russia’s central bank from defending the Russian Ruble making Putin’s $630 Billion “war fund” worthless.   \n",
      "\n",
      "We are choking off Russia’s access to technology that will sap its economic strength and weaken its military for years to come.  \n",
      "\n",
      "Tonight I say to the Russian oligarchs and corrupt leaders who have bilked billions of dollars off this violent regime no more. \n",
      "\n",
      "The U.S. Department of Justice is assembling a dedicated task force to go after the crimes of Russian oligarchs.  \n",
      "\n",
      "We are joining with our European allies to find and seize your yachts your luxury apartments your private jets. We are coming for your ill-begotten gains.\u001b[0m{'intermediate_step': [(AgentActionMessageLog(tool='state-of-union-retriever', tool_input={'query': 'President Putin remarks'}, log='', message_log=[AIMessageChunk(content='', additional_kwargs={'function_call': {'arguments': '{\\n  \"query\": \"President Putin remarks\"\\n}', 'name': 'state-of-union-retriever'}}, response_metadata={'finish_reason': 'function_call', 'model_name': 'gpt-4-0613'}, id='run-4a78c7b2-6b8a-44b3-b665-923f76d33e9e')]), 'Madam Speaker, Madam Vice President, our First Lady and Second Gentleman. Members of Congress and the Cabinet. Justices of the Supreme Court. My fellow Americans.  \\n\\nLast year COVID-19 kept us apart. This year we are finally together again. \\n\\nTonight, we meet as Democrats Republicans and Independents. But most importantly as Americans. \\n\\nWith a duty to one another to the American people to the Constitution. \\n\\nAnd with an unwavering resolve that freedom will always triumph over tyranny. \\n\\nSix days ago, Russia’s Vladimir Putin sought to shake the foundations of the free world thinking he could make it bend to his menacing ways. But he badly miscalculated. \\n\\nHe thought he could roll into Ukraine and the world would roll over. Instead he met a wall of strength he never imagined. \\n\\nHe met the Ukrainian people. \\n\\nFrom President Zelenskyy to every Ukrainian, their fearlessness, their courage, their determination, inspires the world.\\n\\nAnd I’m taking robust action to make sure the pain of our sanctions  is targeted at Russia’s economy. And I will use every tool at our disposal to protect American businesses and consumers. \\n\\nTonight, I can announce that the United States has worked with 30 other countries to release 60 Million barrels of oil from reserves around the world.  \\n\\nAmerica will lead that effort, releasing 30 Million barrels from our own Strategic Petroleum Reserve. And we stand ready to do more if necessary, unified with our allies.  \\n\\nThese steps will help blunt gas prices here at home. And I know the news about what’s happening can seem alarming. \\n\\nBut I want you to know that we are going to be okay. \\n\\nWhen the history of this era is written Putin’s war on Ukraine will have left Russia weaker and the rest of the world stronger. \\n\\nWhile it shouldn’t have taken something so terrible for people around the world to see what’s at stake now everyone sees it clearly.\\n\\nWe see the unity among leaders of nations and a more unified Europe a more unified West. And we see unity among the people who are gathering in cities in large crowds around the world even in Russia to demonstrate their support for Ukraine.  \\n\\nIn the battle between democracy and autocracy, democracies are rising to the moment, and the world is clearly choosing the side of peace and security. \\n\\nThis is a real test. It’s going to take time. So let us continue to draw inspiration from the iron will of the Ukrainian people. \\n\\nTo our fellow Ukrainian Americans who forge a deep bond that connects our two nations we stand with you. \\n\\nPutin may circle Kyiv with tanks, but he will never gain the hearts and souls of the Ukrainian people. \\n\\nHe will never extinguish their love of freedom. He will never weaken the resolve of the free world. \\n\\nWe meet tonight in an America that has lived through two of the hardest years this nation has ever faced. \\n\\nThe pandemic has been punishing.\\n\\nWe are inflicting pain on Russia and supporting the people of Ukraine. Putin is now isolated from the world more than ever. \\n\\nTogether with our allies –we are right now enforcing powerful economic sanctions. \\n\\nWe are cutting off Russia’s largest banks from the international financial system.  \\n\\nPreventing Russia’s central bank from defending the Russian Ruble making Putin’s $630 Billion “war fund” worthless.   \\n\\nWe are choking off Russia’s access to technology that will sap its economic strength and weaken its military for years to come.  \\n\\nTonight I say to the Russian oligarchs and corrupt leaders who have bilked billions of dollars off this violent regime no more. \\n\\nThe U.S. Department of Justice is assembling a dedicated task force to go after the crimes of Russian oligarchs.  \\n\\nWe are joining with our European allies to find and seize your yachts your luxury apartments your private jets. We are coming for your ill-begotten gains.')]} -\n",
      "------\n",
      "\u001b[32;1m\u001b[1;3m{'arguments': '{\\n  \"answer\": \"In his address, the President expressed unwavering resolve that freedom will always triumph over tyranny. He mentioned that Vladimir Putin has miscalculated by thinking he could make the free world bend to his will. The President applauded the Ukrainian people for their courage and determination, and announced robust actions to target Russia’s economy with sanctions. He also mentioned that the United States has worked with 30 other countries to release 60 Million barrels of oil from reserves around the world to help blunt gas prices. The President expressed confidence that Putin\\'s war on Ukraine will leave Russia weaker and the rest of the world stronger. He emphasized that Putin will never gain the hearts and souls of the Ukrainian people, nor will he weaken the resolve of the free world. He also stated that measures are being taken to choke off Russia\\'s access to technology and go after the crimes of Russian oligarchs.\",\\n  \"sources\": [0]\\n}', 'name': 'Response'}\u001b[0m\n",
      "\n",
      "\u001b[1m> Finished chain.\u001b[0m\n",
      "{'answer': \"In his address, the President expressed unwavering resolve that freedom will always triumph over tyranny. He mentioned that Vladimir Putin has miscalculated by thinking he could make the free world bend to his will. The President applauded the Ukrainian people for their courage and determination, and announced robust actions to target Russia’s economy with sanctions. He also mentioned that the United States has worked with 30 other countries to release 60 Million barrels of oil from reserves around the world to help blunt gas prices. The President expressed confidence that Putin's war on Ukraine will leave Russia weaker and the rest of the world stronger. He emphasized that Putin will never gain the hearts and souls of the Ukrainian people, nor will he weaken the resolve of the free world. He also stated that measures are being taken to choke off Russia's access to technology and go after the crimes of Russian oligarchs.\", 'sources': [0], 'messages': [AIMessage(content='{\\'arguments\\': \\'{\\\\n  \"answer\": \"In his address, the President expressed unwavering resolve that freedom will always triumph over tyranny. He mentioned that Vladimir Putin has miscalculated by thinking he could make the free world bend to his will. The President applauded the Ukrainian people for their courage and determination, and announced robust actions to target Russia’s economy with sanctions. He also mentioned that the United States has worked with 30 other countries to release 60 Million barrels of oil from reserves around the world to help blunt gas prices. The President expressed confidence that Putin\\\\\\'s war on Ukraine will leave Russia weaker and the rest of the world stronger. He emphasized that Putin will never gain the hearts and souls of the Ukrainian people, nor will he weaken the resolve of the free world. He also stated that measures are being taken to choke off Russia\\\\\\'s access to technology and go after the crimes of Russian oligarchs.\",\\\\n  \"sources\": [0]\\\\n}\\', \\'name\\': \\'Response\\'}', additional_kwargs={}, response_metadata={})]} -\n",
      "------\n"
     ]
    }
   ],
   "source": [
    "for content in agentExecutor.iter(\n",
    "    inputs={\"input\":\"What did the President say about Putin?\"},\n",
    "    \n",
    "):\n",
    "    print(content,\"-\\n------\")"
   ]
  },
  {
   "cell_type": "code",
   "execution_count": null,
   "id": "162997cf-c9e3-49de-8b85-a33c2ac62d46",
   "metadata": {},
   "outputs": [],
   "source": []
  }
 ],
 "metadata": {
  "kernelspec": {
   "display_name": "Python 3 (ipykernel)",
   "language": "python",
   "name": "python3"
  },
  "language_info": {
   "codemirror_mode": {
    "name": "ipython",
    "version": 3
   },
   "file_extension": ".py",
   "mimetype": "text/x-python",
   "name": "python",
   "nbconvert_exporter": "python",
   "pygments_lexer": "ipython3",
   "version": "3.11.9"
  }
 },
 "nbformat": 4,
 "nbformat_minor": 5
}
