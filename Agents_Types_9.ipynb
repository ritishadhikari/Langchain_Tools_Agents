{
 "cells": [
  {
   "cell_type": "code",
   "execution_count": 1,
   "id": "101f2840-7e27-4cc8-b691-74160adb6203",
   "metadata": {},
   "outputs": [],
   "source": [
    "from dotenv import load_dotenv,find_dotenv\n",
    "from langchain_google_genai import ChatGoogleGenerativeAI\n",
    "from langchain_openai import ChatOpenAI\n",
    "\n",
    "from langchain.agents import (AgentExecutor, create_tool_calling_agent, \n",
    "            create_openai_tools_agent, create_openai_functions_agent,create_xml_agent,\n",
    "            create_json_chat_agent,create_structured_chat_agent, create_react_agent,\n",
    "            create_self_ask_with_search_agent)\n",
    "from langchain_community.tools.tavily_search import TavilySearchResults,TavilyAnswer\n",
    "from langchain_core.prompts import ChatPromptTemplate\n",
    "from langchain import hub\n",
    "from langchain_core.tools import tool,StructuredTool"
   ]
  },
  {
   "cell_type": "code",
   "execution_count": 2,
   "id": "1f1e0b48-3ae6-4b8b-a829-6d422b209549",
   "metadata": {},
   "outputs": [
    {
     "data": {
      "text/plain": [
       "True"
      ]
     },
     "execution_count": 2,
     "metadata": {},
     "output_type": "execute_result"
    }
   ],
   "source": [
    "load_dotenv(find_dotenv(\"../.env\"))"
   ]
  },
  {
   "cell_type": "code",
   "execution_count": 3,
   "id": "725fe642-829a-4e60-b401-07aac24d3961",
   "metadata": {},
   "outputs": [],
   "source": [
    "llmGemini=ChatGoogleGenerativeAI(model=\"gemini-2.0-flash-001\")\n",
    "llmOpenAI=ChatOpenAI(model=\"gpt-4o-mini\")"
   ]
  },
  {
   "cell_type": "markdown",
   "id": "e643bae7-088c-4208-97d7-a285148daded",
   "metadata": {},
   "source": [
    "<p>The core idea of agents is to use a language model to chose a sequence of actions to take. In chains, a sequence of actions is hardcoded (in code). In agents , a language model is used as a reasoning engine to determine which actions to take and in which order</p>"
   ]
  },
  {
   "cell_type": "code",
   "execution_count": 4,
   "id": "bd04a1d3-9127-4cdf-bff3-d76da9235829",
   "metadata": {},
   "outputs": [],
   "source": [
    "singlePrompt=\"Who is Lawrence Bishnoi?\"\n",
    "multiPrompt=\"As of today, what will be Sachin Tendulkar's age to the power 12?. Use both the tools: `tavily_search_results` as well as `exponentiate`\""
   ]
  },
  {
   "cell_type": "markdown",
   "id": "84f6e52c-66ff-49ab-b290-6bcf3e3c0158",
   "metadata": {},
   "source": [
    "<h3>Tool Calling with Agent</h3>"
   ]
  },
  {
   "cell_type": "code",
   "execution_count": 5,
   "id": "f6f07bde-6df7-4508-a9bc-e81c2082788f",
   "metadata": {},
   "outputs": [],
   "source": [
    "tools=[TavilySearchResults(name=\"tavily_search_results\",max_results=2,)]"
   ]
  },
  {
   "cell_type": "code",
   "execution_count": 6,
   "id": "0d0ac9d2-fa00-4680-98d7-10668a6bbb63",
   "metadata": {},
   "outputs": [],
   "source": [
    "def exponentiate(base:int,exponent:int) -> float:\n",
    "    \"\"\"\n",
    "        Exponentiate one number with another and return the output\n",
    "        base: The Base Number\n",
    "        exponent: The times you would exponentiate with\n",
    "    \"\"\"\n",
    "    return float(base)**float(exponent)\n",
    "\n",
    "exponent=StructuredTool.from_function(\n",
    "    func=exponentiate,\n",
    "    name=\"exponentiate\",\n",
    "    description=\"Useful when you need to find the exponent of any given base number\"\n",
    ")\n",
    "\n",
    "# For Multi Input Tools\n",
    "multiInputTools=[TavilySearchResults(name=\"tavily_search_results\",max_results=2),exponent]"
   ]
  },
  {
   "cell_type": "code",
   "execution_count": 7,
   "id": "128b4c1b-e62f-4248-a5e1-268ac97ab0ec",
   "metadata": {},
   "outputs": [
    {
     "data": {
      "text/plain": [
       "'exponentiate'"
      ]
     },
     "execution_count": 7,
     "metadata": {},
     "output_type": "execute_result"
    }
   ],
   "source": [
    "exponent.name"
   ]
  },
  {
   "cell_type": "code",
   "execution_count": 8,
   "id": "782e8cd1-66d1-4125-9f8d-54a5e5430ac0",
   "metadata": {},
   "outputs": [
    {
     "data": {
      "text/plain": [
       "3.908770064862502e+20"
      ]
     },
     "execution_count": 8,
     "metadata": {},
     "output_type": "execute_result"
    },
    {
     "name": "stderr",
     "output_type": "stream",
     "text": [
      "Failed to send compressed multipart ingest: langsmith.utils.LangSmithError: Failed to POST https://api.smith.langchain.com/runs/multipart in LangSmith API. HTTPError('422 Client Error: unknown for url: https://api.smith.langchain.com/runs/multipart', '{\"error\":\"Unprocessable entity: error reading multipart data: multipart: NextPart: EOF\"}\\n')\n"
     ]
    }
   ],
   "source": [
    "exponent.invoke(input={'base':'52','exponent':'12'})"
   ]
  },
  {
   "cell_type": "code",
   "execution_count": 14,
   "id": "3a64a3c9-506e-45b1-a745-8871ba418a2f",
   "metadata": {},
   "outputs": [],
   "source": [
    "prompt=ChatPromptTemplate.from_messages(\n",
    "    messages=[\n",
    "        (\"system\",\"You are a helpful assistant.\"),\n",
    "        (\"placeholder\",\"{chat_history}\"),\n",
    "        (\"human\",\"{input}\"),\n",
    "        (\"placeholder\",\"{agent_scratchpad}\")\n",
    "    ]\n",
    ")"
   ]
  },
  {
   "cell_type": "code",
   "execution_count": 16,
   "id": "1905042a",
   "metadata": {},
   "outputs": [
    {
     "data": {
      "text/plain": [
       "[SystemMessagePromptTemplate(prompt=PromptTemplate(input_variables=[], input_types={}, partial_variables={}, template='You are a helpful assistant.'), additional_kwargs={}),\n",
       " MessagesPlaceholder(variable_name='chat_history', optional=True),\n",
       " HumanMessagePromptTemplate(prompt=PromptTemplate(input_variables=['input'], input_types={}, partial_variables={}, template='{input}'), additional_kwargs={}),\n",
       " MessagesPlaceholder(variable_name='agent_scratchpad', optional=True)]"
      ]
     },
     "execution_count": 16,
     "metadata": {},
     "output_type": "execute_result"
    }
   ],
   "source": [
    "prompt.messages"
   ]
  },
  {
   "cell_type": "code",
   "execution_count": 10,
   "id": "9993649b-0c7c-44b0-97b7-6a84b5ef6cfe",
   "metadata": {},
   "outputs": [],
   "source": [
    "agent=create_tool_calling_agent(llm=llmOpenAI,tools=tools,prompt=prompt)\n",
    "agentExecutor=AgentExecutor(agent=agent,tools=tools,verbose=True)\n",
    "\n",
    "multiInputAgent=create_tool_calling_agent(llm=llmOpenAI,tools=multiInputTools,prompt=prompt)\n",
    "multiAgentExecutor=AgentExecutor(agent=multiInputAgent,tools=multiInputTools,verbose=True)"
   ]
  },
  {
   "cell_type": "code",
   "execution_count": 11,
   "id": "4c969938-264b-48fe-93be-5cac0f81ac2d",
   "metadata": {},
   "outputs": [
    {
     "name": "stdout",
     "output_type": "stream",
     "text": [
      "\n",
      "\n",
      "\u001b[1m> Entering new AgentExecutor chain...\u001b[0m\n",
      "\u001b[32;1m\u001b[1;3m\n",
      "Invoking: `tavily_search_results` with `{'query': 'Lawrence Bishnoi'}`\n",
      "\n",
      "\n",
      "\u001b[0m\u001b[36;1m\u001b[1;3m[{'title': 'Lawrence Bishnoi - Wikipedia', 'url': 'https://en.wikipedia.org/wiki/Lawrence_Bishnoi', 'content': 'Lawrence Bishnoi (born Balkaran Brar; 12 February 1993) is an Indian gangster who attained notoriety as the boss of the \"Bishnoi gang\", which is reportedly linked to over 700 shooters operating across the world. Bishnoi has been imprisoned since 2014 and faces multiple criminal charges, including those for extortion and murder, however he has denied all allegations.\\n\\n## Early life and education [...] Wikipedia\\nThe Free Encyclopedia\\n\\n## Contents\\n\\n# Lawrence Bishnoi\\n\\nPage semi-protected\\n\\n| Lawrence Bishnoi | |\\n| --- | --- |\\n| Born | Balkaran Brar   (1993-02-12) 12 February 1993 (age 32)  Fazilka district, Punjab, India |\\n| Alma mater | DAV College (B.A.)  Panjab University (LL.B) |\\n| Years active | 2010–present |\\n| Judicial status | Imprisoned |\\n|  | |\\n| Details | |\\n| States | Punjab Rajasthan Haryana |\\n|  | | [...] Lawrence Bishnoi was born as Balkaran Brar on 12 February 1993 in the village of Dutarawali in Fazilka district. His father, a former constable in the Haryana Police, left the force in 1997 and took up farming. Bishnoi completed his early education in Abohar, Punjab, before moving to Chandigarh in 2010 to attend DAV College.', 'score': 0.9392538}, {'title': 'Lawrence Bishnoi: The Indian gangster pulling strings from jail - BBC News', 'url': 'https://www.bbc.co.uk/news/articles/c4gqyxwl27no', 'content': 'The Canadian police were referring to Lawrence Bishnoi, a 31-year-old gangster from India, now back in the spotlight domestically and internationally.', 'score': 0.82895297}]\u001b[0m\u001b[32;1m\u001b[1;3mLawrence Bishnoi, born Balkaran Brar on February 12, 1993, is an Indian gangster known for being the boss of the \"Bishnoi gang,\" which has been linked to a large network of over 700 shooters globally. He has been imprisoned since 2014 and faces multiple criminal charges, including extortion and murder, although he denies all allegations against him.\n",
      "\n",
      "Bishnoi was born in the Fazilka district of Punjab, India, and completed his early education before moving to Chandigarh for higher studies. He has gained notoriety in both India and internationally, and his activities have attracted significant media attention.\n",
      "\n",
      "For more detailed information, you can see the articles from [Wikipedia](https://en.wikipedia.org/wiki/Lawrence_Bishnoi) and [BBC News](https://www.bbc.co.uk/news/articles/c4gqyxwl27no).\u001b[0m\n",
      "\n",
      "\u001b[1m> Finished chain.\u001b[0m\n"
     ]
    },
    {
     "data": {
      "text/plain": [
       "{'input': 'Who is Lawrence Bishnoi?',\n",
       " 'output': 'Lawrence Bishnoi, born Balkaran Brar on February 12, 1993, is an Indian gangster known for being the boss of the \"Bishnoi gang,\" which has been linked to a large network of over 700 shooters globally. He has been imprisoned since 2014 and faces multiple criminal charges, including extortion and murder, although he denies all allegations against him.\\n\\nBishnoi was born in the Fazilka district of Punjab, India, and completed his early education before moving to Chandigarh for higher studies. He has gained notoriety in both India and internationally, and his activities have attracted significant media attention.\\n\\nFor more detailed information, you can see the articles from [Wikipedia](https://en.wikipedia.org/wiki/Lawrence_Bishnoi) and [BBC News](https://www.bbc.co.uk/news/articles/c4gqyxwl27no).'}"
      ]
     },
     "execution_count": 11,
     "metadata": {},
     "output_type": "execute_result"
    }
   ],
   "source": [
    "responseSingleTool=agentExecutor.invoke(input={\"input\":singlePrompt})\n",
    "responseSingleTool"
   ]
  },
  {
   "cell_type": "code",
   "execution_count": 12,
   "id": "5826cb2a-b0dd-44bc-b80f-e75eff92b4c4",
   "metadata": {
    "scrolled": true
   },
   "outputs": [
    {
     "name": "stdout",
     "output_type": "stream",
     "text": [
      "\n",
      "\n",
      "\u001b[1m> Entering new AgentExecutor chain...\u001b[0m\n",
      "\u001b[32;1m\u001b[1;3m\n",
      "Invoking: `tavily_search_results` with `{'query': 'Sachin Tendulkar date of birth'}`\n",
      "\n",
      "\n",
      "\u001b[0m\u001b[36;1m\u001b[1;3m[{'title': 'Sachin Tendulkar - Wikipedia', 'url': 'https://en.wikipedia.org/wiki/Sachin_Tendulkar', 'content': 'Sachin Ramesh Tendulkar (/ˌsʌtʃɪn tɛnˈduːlkər/ ⓘ; Marathi: (/wiki/Help:IPA/Marathi \"Help:IPA/Marathi\"); born 24 April 1973) is an Indian former international cricketer who captained the Indian national team. He is widely regarded as one of the greatest cricketers of all time, and is the holder of several world records, including being the all-time highest run \"Run (cricket)\")-scorer in both ODI and Test cricket, receiving the most player of the match awards in international cricket, and being [...] |  |  |\\n| --- | --- |\\n| Tendulkar in 2017 | |\\n| Personal information | |\\n| Full name | Sachin Ramesh Tendulkar |\\n| Born | (1973-04-24) 24 April 1973 (age 52) Bombay, India |\\n| Nickname |  Little Master  Master Blaster  |\\n| Height | 165 cm (5 ft 5 in) |\\n| Batting | Right-handed |\\n| Bowling |  Right-arm leg break  Right-arm off break |\\n| Role | Top order Batter |\\n| Relations |  Ramesh Tendulkar (father)  Arjun Tendulkar (son) |\\n| Website | sachintendulkar.com |\\n| International information | | [...] Tendulkar was born at the Nirmal Nursing Home in the Dadar neighbourhood of Bombay, Maharashtra on 24 April 1973 into a Maharastrian family. His father, Ramesh Tendulkar, was a Marathi-language novelist and poet while his mother, Rajni, worked in the insurance industry. Tendulkar\\'s father named him after his favourite music director, Sachin Dev Burman. Tendulkar has three older siblings: two half-brothers Nitin and Ajit, and a half-sister Savita. They were his father\\'s children by his first', 'score': 0.9379027}, {'title': 'Sachin Tendulkar Birth Chart | Sachin Tendulkar Kundli | Horoscope by ...', 'url': 'https://astrosage.com/celebrity-horoscope/sachin-tendulkar-birth-chart.asp', 'content': \"Sachin Tendulkar's Horoscope Name: Sachin Tendulkar Date of Birth: Tuesday, April 24, 1973 Time of Birth: 14:25:00 Place of Birth: Mumbai Longitude: 72 E 50 Latitude: 18 N 58\", 'score': 0.9247491}]\u001b[0m\u001b[32;1m\u001b[1;3m\n",
      "Invoking: `exponentiate` with `{'base': 52, 'exponent': 12}`\n",
      "\n",
      "\n",
      "\u001b[0m\u001b[33;1m\u001b[1;3m3.908770064862502e+20\u001b[0m\u001b[32;1m\u001b[1;3mSachin Tendulkar was born on April 24, 1973, which makes him 52 years old as of today. His age raised to the power of 12 is approximately \\( 3.91 \\times 10^{20} \\).\u001b[0m\n",
      "\n",
      "\u001b[1m> Finished chain.\u001b[0m\n"
     ]
    },
    {
     "data": {
      "text/plain": [
       "{'input': \"As of today, what will be Sachin Tendulkar's age to the power 12?. Use both the tools: `tavily_search_results` as well as `exponentiate`\",\n",
       " 'output': 'Sachin Tendulkar was born on April 24, 1973, which makes him 52 years old as of today. His age raised to the power of 12 is approximately \\\\( 3.91 \\\\times 10^{20} \\\\).'}"
      ]
     },
     "execution_count": 12,
     "metadata": {},
     "output_type": "execute_result"
    }
   ],
   "source": [
    "responseMultiTool=multiAgentExecutor.invoke(input={\"input\":multiPrompt})\n",
    "responseMultiTool"
   ]
  },
  {
   "cell_type": "markdown",
   "id": "314fd1b7-c861-4638-8c87-024b60b839d6",
   "metadata": {},
   "source": [
    "<h3> OpenAI Tools with Agents </h3>"
   ]
  },
  {
   "cell_type": "code",
   "execution_count": 13,
   "id": "61ef47d3-119a-4332-a94a-4164e42cdda0",
   "metadata": {},
   "outputs": [],
   "source": [
    "prompt=hub.pull(\"hwchase17/openai-tools-agent\")"
   ]
  },
  {
   "cell_type": "code",
   "execution_count": 210,
   "id": "d6ccfc96-c940-4622-9512-7ffaee408d6d",
   "metadata": {},
   "outputs": [
    {
     "data": {
      "text/plain": [
       "[SystemMessagePromptTemplate(prompt=PromptTemplate(input_variables=[], input_types={}, partial_variables={}, template='You are a helpful assistant'), additional_kwargs={}),\n",
       " MessagesPlaceholder(variable_name='chat_history', optional=True),\n",
       " HumanMessagePromptTemplate(prompt=PromptTemplate(input_variables=['input'], input_types={}, partial_variables={}, template='{input}'), additional_kwargs={}),\n",
       " MessagesPlaceholder(variable_name='agent_scratchpad')]"
      ]
     },
     "execution_count": 210,
     "metadata": {},
     "output_type": "execute_result"
    }
   ],
   "source": [
    "prompt.messages"
   ]
  },
  {
   "cell_type": "code",
   "execution_count": 211,
   "id": "137ab29a-214b-41cf-b59c-7a897da2d4ac",
   "metadata": {},
   "outputs": [],
   "source": [
    "agent=create_openai_tools_agent(llm=llmOpenAI,tools=tools,prompt=prompt)\n",
    "agentExecutor=AgentExecutor(agent=agent,tools=tools,verbose=True)\n",
    "\n",
    "multiInputAgent=create_openai_tools_agent(llm=llmOpenAI,tools=multiInputTools,prompt=prompt)\n",
    "multiAgentExecutor=AgentExecutor(agent=multiInputAgent,tools=multiInputTools,verbose=True)"
   ]
  },
  {
   "cell_type": "code",
   "execution_count": 212,
   "id": "e248a3b6-91a5-4bf0-8421-96ffe88d9da7",
   "metadata": {},
   "outputs": [
    {
     "name": "stdout",
     "output_type": "stream",
     "text": [
      "\n",
      "\n",
      "\u001b[1m> Entering new AgentExecutor chain...\u001b[0m\n",
      "\u001b[32;1m\u001b[1;3m\n",
      "Invoking: `tavily_search_results` with `{'query': 'Lawrence Bishnoi'}`\n",
      "\n",
      "\n",
      "\u001b[0m\u001b[36;1m\u001b[1;3m[{'url': 'https://www.reuters.com/world/who-is-lawrence-bishnoi-centre-row-between-india-canada-2024-10-15/', 'content': 'WHO IS LAWRENCE BISHNOI? The NIA has accused the 31-year-old law graduate, in jail since 2015, of running a trans-national crime syndicate. Born in the northern state of Punjab, Bishnoi is short'}, {'url': 'https://www.bbc.com/news/articles/c4gqyxwl27no', 'content': 'The Canadian police were referring to Lawrence Bishnoi, a 31-year-old gangster from India, now back in the spotlight domestically and internationally. Indian police say his gang is allegedly linked to the killing of a prominent politician in Mumbai at the weekend - gunmen shot dead 66-year-old Baba Siddique near his son’s office. Once among India’s most wanted, Bishnoi has been in prison since 2015, now held far from his native Punjab state in Gujarat. Indian police link Bishnoi\\'s gang to Baba Siddique’s (centre) killing; Salman Khan (left) has also been threatened “He had money, style and guts,” a Chandigarh police officer told Mr Singh, explaining how easily Bishnoi attracted followers. Canada alleges India used \"crime groups like the Bishnoi gang\" to target pro-Khalistan leaders'}]\u001b[0m\u001b[32;1m\u001b[1;3mLawrence Bishnoi is a 31-year-old gangster from India. He is accused of running a trans-national crime syndicate and has been in jail since 2015. Bishnoi, originally from Punjab, has been in the spotlight domestically and internationally for his alleged involvement in criminal activities. Indian police link Bishnoi's gang to various criminal activities, including the killing of a prominent politician in Mumbai. He has attracted followers due to his money, style, and influence. If you need more information, feel free to ask.\u001b[0m\n",
      "\n",
      "\u001b[1m> Finished chain.\u001b[0m\n"
     ]
    },
    {
     "data": {
      "text/plain": [
       "{'input': 'Who is Lawrence Bishnoi?',\n",
       " 'output': \"Lawrence Bishnoi is a 31-year-old gangster from India. He is accused of running a trans-national crime syndicate and has been in jail since 2015. Bishnoi, originally from Punjab, has been in the spotlight domestically and internationally for his alleged involvement in criminal activities. Indian police link Bishnoi's gang to various criminal activities, including the killing of a prominent politician in Mumbai. He has attracted followers due to his money, style, and influence. If you need more information, feel free to ask.\"}"
      ]
     },
     "execution_count": 212,
     "metadata": {},
     "output_type": "execute_result"
    }
   ],
   "source": [
    "responseSingleTool=agentExecutor.invoke(input={\"input\":singlePrompt})\n",
    "responseSingleTool"
   ]
  },
  {
   "cell_type": "code",
   "execution_count": 213,
   "id": "674a0f02-1111-451d-8885-7d89b0c45c28",
   "metadata": {},
   "outputs": [
    {
     "name": "stdout",
     "output_type": "stream",
     "text": [
      "\n",
      "\n",
      "\u001b[1m> Entering new AgentExecutor chain...\u001b[0m\n",
      "\u001b[32;1m\u001b[1;3m\n",
      "Invoking: `exponentiate` with `{'base': 52, 'exponent': 12}`\n",
      "\n",
      "\n",
      "\u001b[0m\u001b[33;1m\u001b[1;3m3.908770064862502e+20\u001b[0m\u001b[32;1m\u001b[1;3m\n",
      "Invoking: `tavily_search_results` with `{'query': 'Sachin Tendulkar age in 2024'}`\n",
      "\n",
      "\n",
      "\u001b[0m\u001b[36;1m\u001b[1;3m[{'url': 'https://celebrityborns.com/biography/sachin-tendulkar/2586', 'content': '14. minutes. 05. seconds. 51 years, 5months, 26 days old age Sachin Tendulkar will turn 52 on 24 April, 2025. Only 6 months, 3 days, 7 hours,15 minutes has left for his next birthday. Sachin Tendulkar Born On.'}, {'url': 'https://wikibio.in/sachin-tendulkar/', 'content': 'As I stood there watching the Indian greats on the field, I kept telling myself that I needed to be a part of the action in the middle.”\\n14-year-old Sachin Tendulkar as a ball boy during the 1987 Cricket World Cup\\nSachin Tendulkar with Vinod Kambli in his school days\\nSachin Tendulkar praying to Lord Ganesha\\nSachin Tendulkar’s restaurant\\nSachin Tendulkar with Bharat Ratna\\nSachin Tendulkar with Michael Schumacher\\nSachin Tendulkar writing with his left hand\\nSachin Tendulkar with his wax statue at Madame Tussauds\\nSachin Tendulkar with his Cricket Kit\\nSachin Tendulkar’s Instagram post\\nSachin Tendulkar Spartan Sports Controversy\\nLove and passion for the game always helps you find new ways to practice, and above all to enjoy what you do.#FlashbackFriday pic.twitter.com/7UHH13fe0Q\\n— Sachin Tendulkar (@sachin_rt) September 27, 2019\\n Swift action from their end is crucial to stopping the… pic.twitter.com/4MwXthxSOM\\n— Sachin Tendulkar (@sachin_rt) January 15, 2024\\nReferences[+][−]\\nVidya Srikkanth (Krishnamachari Srikkanth’s Wife) Wiki, Age, Children, Family, Biography & More\\nIshan Kishan Wiki, Height, Age, Girlfriend, Family, Biography & More\\nKL Rahul Wiki, Height, Age, Girlfriend, Wife, Family, Biography & More\\nFinn Allen Wiki, Height, Age, Girlfriend, Family, Biography & More\\nSikandar Raza Wiki, Height, Age, Girlfriend, Wife, Children, Family, Biography & More\\nAndrew Symonds Wiki, Age, Death, Wife, Children, Family, Biography & More\\nNeha Tanwar (Cricketer) Wiki, Height, Age, Husband, Family, Biography & More\\nRicha Ghosh Wiki, Age, Boyfriend, Family, Biography & More\\nDigvijay Deshmukh (Cricketer) Wiki, Height, Age, Girlfriend, Family, Biography & More\\nKusal Mendis Wiki, Height, Age, Wife, Family, Biography & More\\nSave my name, email, and website in this browser for the next time I comment.\\n Protestors outside Sachin Tendulkar’s residence in Bandra, Mumbai\\nAwards, Honours & Achievements\\nSachin Tendulkar with Arjuna Award\\nSachin Tendulkar with Rajiv Gandhi Khel Ratna\\nSachin Tendulkar receiving Padma Shri\\nSachin Tendulkar receiving Maharashtra Bhushan Award\\nSachin Tendulkar with Padma Vibhushan\\nSachin Tendulkar with Bharat Ratna\\nOther Honours\\nSachin Tendulkar as the group Captain of The Indian Air Force\\nSachin Tendulkar- [8]Forbes India\\nSignature\\nSachin Tendulkar’s signature\\nFavourites\\nSachin Tendulkar with Sunil Gavaskar\\nSachin Tendulkar having food\\nSachin Tendulkar with Aamir Khan\\nSachin Tendulkar with Lata Mangeshkar\\nFacts\\nSachin Tendulkar with a glass of alcohol\\n Sachin Tendulkar with his wife\\nSachin Tendulkar with his son\\nSachin Tendulkar with his daughter\\nSachin Tendulkar with his wife and children\\nMajor Records\\nCareer\\nSachin began his cricket career in 1987 when he got selected to represent Bombay in the Ranji Trophy.'}]\u001b[0m\u001b[32;1m\u001b[1;3mSachin Tendulkar will turn 52 on April 24, 2025. \n",
      "\n",
      "In the year 2024, Sachin Tendulkar's age to the power of 12 will be approximately 3.91 x 10^20.\u001b[0m\n",
      "\n",
      "\u001b[1m> Finished chain.\u001b[0m\n"
     ]
    },
    {
     "data": {
      "text/plain": [
       "{'input': \"In the Year 2024, what will be Sachin Tendulkar's age to the power 12?. Use both the tools: `tavily_search_results` as well as `exponentiate`\",\n",
       " 'output': \"Sachin Tendulkar will turn 52 on April 24, 2025. \\n\\nIn the year 2024, Sachin Tendulkar's age to the power of 12 will be approximately 3.91 x 10^20.\"}"
      ]
     },
     "execution_count": 213,
     "metadata": {},
     "output_type": "execute_result"
    }
   ],
   "source": [
    "responseMultiTool=multiAgentExecutor.invoke(input={\"input\":multiPrompt})\n",
    "responseMultiTool"
   ]
  },
  {
   "cell_type": "markdown",
   "id": "c57bbea4-4b28-41a4-89ee-405e97d88fca",
   "metadata": {},
   "source": [
    "<h3> OpenAI Functions with Agents (Use OpenAI Tools Agent in lieu of this) </h3>"
   ]
  },
  {
   "cell_type": "code",
   "execution_count": 214,
   "id": "a9d84973-d278-4f8a-bf2f-a36bc531c0b3",
   "metadata": {},
   "outputs": [
    {
     "name": "stderr",
     "output_type": "stream",
     "text": [
      "C:\\Users\\MSI 1\\.conda\\envs\\oaivenv\\Lib\\site-packages\\langsmith\\client.py:323: LangSmithMissingAPIKeyWarning: API key must be provided when using hosted LangSmith API\n",
      "  warnings.warn(\n"
     ]
    }
   ],
   "source": [
    "prompt=hub.pull(\"hwchase17/openai-functions-agent\")"
   ]
  },
  {
   "cell_type": "code",
   "execution_count": 215,
   "id": "64558a36-94a5-4974-a5b3-1b0ffa402a4f",
   "metadata": {},
   "outputs": [
    {
     "data": {
      "text/plain": [
       "[SystemMessagePromptTemplate(prompt=PromptTemplate(input_variables=[], input_types={}, partial_variables={}, template='You are a helpful assistant'), additional_kwargs={}),\n",
       " MessagesPlaceholder(variable_name='chat_history', optional=True),\n",
       " HumanMessagePromptTemplate(prompt=PromptTemplate(input_variables=['input'], input_types={}, partial_variables={}, template='{input}'), additional_kwargs={}),\n",
       " MessagesPlaceholder(variable_name='agent_scratchpad')]"
      ]
     },
     "execution_count": 215,
     "metadata": {},
     "output_type": "execute_result"
    }
   ],
   "source": [
    "prompt.messages"
   ]
  },
  {
   "cell_type": "code",
   "execution_count": 17,
   "id": "f9830a6f-97b9-4a6a-afd6-688439489b18",
   "metadata": {},
   "outputs": [],
   "source": [
    "agent=create_openai_functions_agent(llm=llmOpenAI,tools=tools,prompt=prompt)\n",
    "agentExecutor=AgentExecutor(agent=agent,tools=tools,verbose=True)\n",
    "\n",
    "multiInputAgent=create_openai_functions_agent(llm=llmOpenAI,tools=multiInputTools,prompt=prompt)\n",
    "multiAgentExecutor=AgentExecutor(agent=multiInputAgent,tools=multiInputTools,verbose=True)"
   ]
  },
  {
   "cell_type": "code",
   "execution_count": 18,
   "id": "681d5762-8e6f-404a-a617-03f6779811bb",
   "metadata": {
    "scrolled": true
   },
   "outputs": [
    {
     "name": "stdout",
     "output_type": "stream",
     "text": [
      "\n",
      "\n",
      "\u001b[1m> Entering new AgentExecutor chain...\u001b[0m\n",
      "\u001b[32;1m\u001b[1;3m\n",
      "Invoking: `tavily_search_results` with `{'query': 'Lawrence Bishnoi'}`\n",
      "\n",
      "\n",
      "\u001b[0m\u001b[36;1m\u001b[1;3m[{'title': 'Lawrence Bishnoi - Wikipedia', 'url': 'https://en.wikipedia.org/wiki/Lawrence_Bishnoi', 'content': 'Lawrence Bishnoi (born Balkaran Brar; 12 February 1993) is an Indian gangster who attained notoriety as the boss of the \"Bishnoi gang\", which is reportedly linked to over 700 shooters operating across the world. Bishnoi has been imprisoned since 2014 and faces multiple criminal charges, including those for extortion and murder, however he has denied all allegations.\\n\\n## Early life and education [...] Wikipedia\\nThe Free Encyclopedia\\n\\n## Contents\\n\\n# Lawrence Bishnoi\\n\\nPage semi-protected\\n\\n| Lawrence Bishnoi | |\\n| --- | --- |\\n| Born | Balkaran Brar   (1993-02-12) 12 February 1993 (age 32)  Fazilka district, Punjab, India |\\n| Alma mater | DAV College (B.A.)  Panjab University (LL.B) |\\n| Years active | 2010–present |\\n| Judicial status | Imprisoned |\\n|  | |\\n| Details | |\\n| States | Punjab Rajasthan Haryana |\\n|  | | [...] Lawrence Bishnoi was born as Balkaran Brar on 12 February 1993 in the village of Dutarawali in Fazilka district. His father, a former constable in the Haryana Police, left the force in 1997 and took up farming. Bishnoi completed his early education in Abohar, Punjab, before moving to Chandigarh in 2010 to attend DAV College.', 'score': 0.9392538}, {'title': 'Lawrence Bishnoi: The Indian gangster pulling strings from jail - BBC News', 'url': 'https://www.bbc.co.uk/news/articles/c4gqyxwl27no', 'content': 'The Canadian police were referring to Lawrence Bishnoi, a 31-year-old gangster from India, now back in the spotlight domestically and internationally.', 'score': 0.82895297}]\u001b[0m\u001b[32;1m\u001b[1;3mLawrence Bishnoi, born Balkaran Brar on February 12, 1993, is an Indian gangster known for being the leader of the \"Bishnoi gang.\" This gang is reportedly responsible for operating over 700 shooters worldwide. Bishnoi has been imprisoned since 2014 and faces numerous charges, including murder and extortion, which he has denied.\n",
      "\n",
      "He was born in the Fazilka district of Punjab, India, and comes from a family with a law enforcement background, as his father was a former constable in the Haryana Police. Bishnoi completed his early education in Punjab before moving to Chandigarh for further studies.\n",
      "\n",
      "For more detailed information, you can read about him on [Wikipedia](https://en.wikipedia.org/wiki/Lawrence_Bishnoi) or on a news article from the [BBC](https://www.bbc.co.uk/news/articles/c4gqyxwl27no).\u001b[0m\n",
      "\n",
      "\u001b[1m> Finished chain.\u001b[0m\n"
     ]
    },
    {
     "data": {
      "text/plain": [
       "{'input': 'Who is Lawrence Bishnoi?',\n",
       " 'output': 'Lawrence Bishnoi, born Balkaran Brar on February 12, 1993, is an Indian gangster known for being the leader of the \"Bishnoi gang.\" This gang is reportedly responsible for operating over 700 shooters worldwide. Bishnoi has been imprisoned since 2014 and faces numerous charges, including murder and extortion, which he has denied.\\n\\nHe was born in the Fazilka district of Punjab, India, and comes from a family with a law enforcement background, as his father was a former constable in the Haryana Police. Bishnoi completed his early education in Punjab before moving to Chandigarh for further studies.\\n\\nFor more detailed information, you can read about him on [Wikipedia](https://en.wikipedia.org/wiki/Lawrence_Bishnoi) or on a news article from the [BBC](https://www.bbc.co.uk/news/articles/c4gqyxwl27no).'}"
      ]
     },
     "execution_count": 18,
     "metadata": {},
     "output_type": "execute_result"
    }
   ],
   "source": [
    "responseSingleTool=agentExecutor.invoke(input={\"input\":singlePrompt})\n",
    "responseSingleTool"
   ]
  },
  {
   "cell_type": "code",
   "execution_count": 218,
   "id": "16252eb4-f992-4ae3-ae9a-a74fc85ef61f",
   "metadata": {},
   "outputs": [
    {
     "name": "stdout",
     "output_type": "stream",
     "text": [
      "\n",
      "\n",
      "\u001b[1m> Entering new AgentExecutor chain...\u001b[0m\n",
      "\u001b[32;1m\u001b[1;3m\n",
      "Invoking: `tavily_search_results` with `{'query': 'Sachin Tendulkar age in 2024'}`\n",
      "\n",
      "\n",
      "\u001b[0m\u001b[36;1m\u001b[1;3m[{'url': 'https://wikibio.in/sachin-tendulkar/', 'content': 'As I stood there watching the Indian greats on the field, I kept telling myself that I needed to be a part of the action in the middle.”\\n14-year-old Sachin Tendulkar as a ball boy during the 1987 Cricket World Cup\\nSachin Tendulkar with Vinod Kambli in his school days\\nSachin Tendulkar praying to Lord Ganesha\\nSachin Tendulkar’s restaurant\\nSachin Tendulkar with Bharat Ratna\\nSachin Tendulkar with Michael Schumacher\\nSachin Tendulkar writing with his left hand\\nSachin Tendulkar with his wax statue at Madame Tussauds\\nSachin Tendulkar with his Cricket Kit\\nSachin Tendulkar’s Instagram post\\nSachin Tendulkar Spartan Sports Controversy\\nLove and passion for the game always helps you find new ways to practice, and above all to enjoy what you do.#FlashbackFriday pic.twitter.com/7UHH13fe0Q\\n— Sachin Tendulkar (@sachin_rt) September 27, 2019\\n Swift action from their end is crucial to stopping the… pic.twitter.com/4MwXthxSOM\\n— Sachin Tendulkar (@sachin_rt) January 15, 2024\\nReferences[+][−]\\nVidya Srikkanth (Krishnamachari Srikkanth’s Wife) Wiki, Age, Children, Family, Biography & More\\nIshan Kishan Wiki, Height, Age, Girlfriend, Family, Biography & More\\nKL Rahul Wiki, Height, Age, Girlfriend, Wife, Family, Biography & More\\nFinn Allen Wiki, Height, Age, Girlfriend, Family, Biography & More\\nSikandar Raza Wiki, Height, Age, Girlfriend, Wife, Children, Family, Biography & More\\nAndrew Symonds Wiki, Age, Death, Wife, Children, Family, Biography & More\\nNeha Tanwar (Cricketer) Wiki, Height, Age, Husband, Family, Biography & More\\nRicha Ghosh Wiki, Age, Boyfriend, Family, Biography & More\\nDigvijay Deshmukh (Cricketer) Wiki, Height, Age, Girlfriend, Family, Biography & More\\nKusal Mendis Wiki, Height, Age, Wife, Family, Biography & More\\nSave my name, email, and website in this browser for the next time I comment.\\n Protestors outside Sachin Tendulkar’s residence in Bandra, Mumbai\\nAwards, Honours & Achievements\\nSachin Tendulkar with Arjuna Award\\nSachin Tendulkar with Rajiv Gandhi Khel Ratna\\nSachin Tendulkar receiving Padma Shri\\nSachin Tendulkar receiving Maharashtra Bhushan Award\\nSachin Tendulkar with Padma Vibhushan\\nSachin Tendulkar with Bharat Ratna\\nOther Honours\\nSachin Tendulkar as the group Captain of The Indian Air Force\\nSachin Tendulkar- [8]Forbes India\\nSignature\\nSachin Tendulkar’s signature\\nFavourites\\nSachin Tendulkar with Sunil Gavaskar\\nSachin Tendulkar having food\\nSachin Tendulkar with Aamir Khan\\nSachin Tendulkar with Lata Mangeshkar\\nFacts\\nSachin Tendulkar with a glass of alcohol\\n Sachin Tendulkar with his wife\\nSachin Tendulkar with his son\\nSachin Tendulkar with his daughter\\nSachin Tendulkar with his wife and children\\nMajor Records\\nCareer\\nSachin began his cricket career in 1987 when he got selected to represent Bombay in the Ranji Trophy.'}, {'url': 'https://www.cricbuzz.com/profiles/25/sachin-tendulkar', 'content': 'CSA Four-Day Series Division One 2024-25. Western Province vs Dolphins ... it was the popular opinion that Tendulkar was ready, at the tender age of 16, to be playing international cricket. He was'}]\u001b[0m\u001b[32;1m\u001b[1;3m\n",
      "Invoking: `exponentiate` with `{'base': 51, 'exponent': 12}`\n",
      "\n",
      "\n",
      "\u001b[0m\u001b[33;1m\u001b[1;3m3.096293443756214e+20\u001b[0m\u001b[32;1m\u001b[1;3mIn the year 2024, Sachin Tendulkar will be 51 years old. If we calculate Sachin Tendulkar's age to the power of 12, the result is approximately 309,629,344,375,621,400.\u001b[0m\n",
      "\n",
      "\u001b[1m> Finished chain.\u001b[0m\n"
     ]
    },
    {
     "data": {
      "text/plain": [
       "{'input': \"In the Year 2024, what will be Sachin Tendulkar's age to the power 12?. Use both the tools: `tavily_search_results` as well as `exponentiate`\",\n",
       " 'output': \"In the year 2024, Sachin Tendulkar will be 51 years old. If we calculate Sachin Tendulkar's age to the power of 12, the result is approximately 309,629,344,375,621,400.\"}"
      ]
     },
     "execution_count": 218,
     "metadata": {},
     "output_type": "execute_result"
    }
   ],
   "source": [
    "responseMultiTool=multiAgentExecutor.invoke(input={\"input\":multiPrompt})\n",
    "responseMultiTool"
   ]
  },
  {
   "cell_type": "code",
   "execution_count": null,
   "id": "21ab4192-ff26-4715-96b5-7859563bc3c0",
   "metadata": {},
   "outputs": [],
   "source": []
  },
  {
   "cell_type": "markdown",
   "id": "717e95ae-02c7-44dd-b5a1-a2af2c2dba0b",
   "metadata": {},
   "source": [
    "<h3>XML Agent</h3>"
   ]
  },
  {
   "cell_type": "code",
   "execution_count": 19,
   "id": "6c418842-b15f-4fe6-a485-9bd810e38f14",
   "metadata": {},
   "outputs": [],
   "source": [
    "prompt=hub.pull(owner_repo_commit=\"hwchase17/xml-agent-convo\")"
   ]
  },
  {
   "cell_type": "code",
   "execution_count": 20,
   "id": "9e71bd67-2aa4-408d-aa31-ce5aa15b80d7",
   "metadata": {},
   "outputs": [
    {
     "name": "stdout",
     "output_type": "stream",
     "text": [
      "[HumanMessagePromptTemplate(prompt=PromptTemplate(input_variables=['agent_scratchpad', 'chat_history', 'input', 'tools'], input_types={}, partial_variables={}, template=\"You are a helpful assistant. Help the user answer any questions.\\n\\nYou have access to the following tools:\\n\\n{tools}\\n\\nIn order to use a tool, you can use <tool></tool> and <tool_input></tool_input> tags. You will then get back a response in the form <observation></observation>\\nFor example, if you have a tool called 'search' that could run a google search, in order to search for the weather in SF you would respond:\\n\\n<tool>search</tool><tool_input>weather in SF</tool_input>\\n<observation>64 degrees</observation>\\n\\nWhen you are done, respond with a final answer between <final_answer></final_answer>. For example:\\n\\n<final_answer>The weather in SF is 64 degrees</final_answer>\\n\\nBegin!\\n\\nPrevious Conversation:\\n{chat_history}\\n\\nQuestion: {input}\\n{agent_scratchpad}\"), additional_kwargs={})]\n"
     ]
    }
   ],
   "source": [
    "print(prompt.messages)"
   ]
  },
  {
   "cell_type": "code",
   "execution_count": 21,
   "id": "3d050a6a-cd98-42b9-9f0e-f42b32c6a3e0",
   "metadata": {},
   "outputs": [],
   "source": [
    "agent=create_xml_agent(llm=llmOpenAI,tools=tools,prompt=prompt)\n",
    "agentExecutor=AgentExecutor(agent=agent,tools=tools,verbose=True)\n",
    "\n",
    "multiInputAgent=create_xml_agent(llm=llmOpenAI,tools=multiInputTools,prompt=prompt)\n",
    "multiAgentExecutor=AgentExecutor(agent=multiInputAgent,tools=multiInputTools,verbose=True)"
   ]
  },
  {
   "cell_type": "code",
   "execution_count": 22,
   "id": "bb97ef5f-e89a-4a8a-9236-6fb375100ac5",
   "metadata": {},
   "outputs": [
    {
     "name": "stdout",
     "output_type": "stream",
     "text": [
      "\n",
      "\n",
      "\u001b[1m> Entering new AgentExecutor chain...\u001b[0m\n",
      "\u001b[32;1m\u001b[1;3m<tool>tavily_search_results</tool><tool_input>Lawrence Bishnoi biography\u001b[0m\u001b[36;1m\u001b[1;3m[{'title': 'Lawrence Bishnoi Biography - Bio Man', 'url': 'https://bioman.com.ng/lawrence-bishnoi-biography/', 'content': 'Lawrence Bishnoi Biography Lawrence Bishnoi, born on February 12, 1993, in Ferozpur, Punjab, India, is a well-known gangster. He grew up in Abohar and completed his early education there. In 2010, he moved to Chandigarh to attend DAV College. Later, he joined Panjab University, where he earned a law degree (LL.B). During his university years, Bishnoi became involved in student politics. He met', 'score': 0.9092728}, {'title': 'Lawrence Bishnoi - Wikipedia', 'url': 'https://en.wikipedia.org/wiki/Lawrence_Bishnoi', 'content': 'Lawrence Bishnoi (born Balkaran Brar; 12 February 1993) is an Indian gangster who attained notoriety as the boss of the \"Bishnoi gang\", which is reportedly linked to over 700 shooters operating across the world.\\n\\nBishnoi has been imprisoned since 2014 and faces multiple criminal charges, including those for extortion and murder, however he has denied all allegations.\\n\\n## Early life and education [...] | Lawrence Bishnoi | |\\n| --- | --- |\\n| Born | Balkaran Brar   (1993-02-12) 12 February 1993 (age 32)  Fazilka district, Punjab, India |\\n| Alma mater | DAV College (B.A.)  Panjab University (LL.B) |\\n| Years active | 2010–present |\\n| Known for |  Assassination threat to Salman Khan  Planning the murder of Sidhu Moose Wala |\\n| Judicial status | Imprisoned |\\n|  | |\\n| Details | |\\n| States | Punjab Rajasthan Haryana |\\n|  | | [...] Lawrence Bishnoi was born as Balkaran Brar on 12 February 1993 in the village of Dutarawali in Fazilka district, Punjab to a Punjabi Hindu family. His father, a former constable in the Haryana Police, left the force in 1997 and took up farming. Bishnoi completed his early education in Abohar, Punjab, before moving to Chandigarh in 2010 to attend DAV College.', 'score': 0.8482825}]\u001b[0m\u001b[32;1m\u001b[1;3m<final_answer>Lawrence Bishnoi, born Balkaran Brar on February 12, 1993, in Fazilka district, Punjab, India, is an Indian gangster and the leader of the \"Bishnoi gang\". He gained notoriety for his criminal activities, which include extortion and murder, and has been linked to over 700 shooters globally. Bishnoi was involved in student politics during his law studies at Panjab University. He's been imprisoned since 2014 and has denied all allegations against him, including assassination threats to Bollywood actor Salman Khan and planning the murder of Punjabi singer Sidhu Moose Wala.</final_answer>\u001b[0m\n",
      "\n",
      "\u001b[1m> Finished chain.\u001b[0m\n"
     ]
    },
    {
     "data": {
      "text/plain": [
       "{'input': 'Who is Lawrence Bishnoi?',\n",
       " 'output': 'Lawrence Bishnoi, born Balkaran Brar on February 12, 1993, in Fazilka district, Punjab, India, is an Indian gangster and the leader of the \"Bishnoi gang\". He gained notoriety for his criminal activities, which include extortion and murder, and has been linked to over 700 shooters globally. Bishnoi was involved in student politics during his law studies at Panjab University. He\\'s been imprisoned since 2014 and has denied all allegations against him, including assassination threats to Bollywood actor Salman Khan and planning the murder of Punjabi singer Sidhu Moose Wala.'}"
      ]
     },
     "execution_count": 22,
     "metadata": {},
     "output_type": "execute_result"
    }
   ],
   "source": [
    "responseSingleTool=agentExecutor.invoke(input={\"input\":singlePrompt})\n",
    "responseSingleTool"
   ]
  },
  {
   "cell_type": "code",
   "execution_count": 23,
   "id": "2b5a6e25-bbe0-480d-a040-7916a714d5dc",
   "metadata": {},
   "outputs": [
    {
     "name": "stdout",
     "output_type": "stream",
     "text": [
      "\n",
      "\n",
      "\u001b[1m> Entering new AgentExecutor chain...\u001b[0m\n",
      "\u001b[32;1m\u001b[1;3m<tool>tavily_search_results</tool><tool_input>Sachin Tendulkar's date of birth\u001b[0m\u001b[36;1m\u001b[1;3m[{'title': 'Sachin Tendulkar - Wikipedia', 'url': 'https://en.wikipedia.org/wiki/Sachin_Tendulkar', 'content': 'Sachin Ramesh Tendulkar (/ˌsʌtʃɪn tɛnˈduːlkər/ ⓘ; Marathi: (/wiki/Help:IPA/Marathi \"Help:IPA/Marathi\"); born 24 April 1973) is an Indian former international cricketer who captained the Indian national team. He is widely regarded as one of the greatest cricketers of all time, and is the holder of several world records, including being the all-time highest run \"Run (cricket)\")-scorer in both ODI and Test cricket, receiving the most player of the match awards in international cricket, and being [...] |  |  |\\n| --- | --- |\\n| Tendulkar in 2017 | |\\n| Personal information | |\\n| Full name | Sachin Ramesh Tendulkar |\\n| Born | (1973-04-24) 24 April 1973 (age 52) Bombay, India |\\n| Nickname |  Little Master  Master Blaster  |\\n| Height | 165 cm (5 ft 5 in) |\\n| Batting | Right-handed |\\n| Bowling |  Right-arm leg break  Right-arm off break |\\n| Role | Top order Batter |\\n| Relations |  Ramesh Tendulkar (father)  Arjun Tendulkar (son) |\\n| Website | sachintendulkar.com |\\n| International information | | [...] Tendulkar was born at the Nirmal Nursing Home in the Dadar neighbourhood of Bombay, Maharashtra on 24 April 1973 into a Maharastrian family. His father, Ramesh Tendulkar, was a Marathi-language novelist and poet while his mother, Rajni, worked in the insurance industry. Tendulkar\\'s father named him after his favourite music director, Sachin Dev Burman. Tendulkar has three older siblings: two half-brothers Nitin and Ajit, and a half-sister Savita. They were his father\\'s children by his first', 'score': 0.942385}, {'title': 'Sachin Tendulkar | Biography, Stats, & Facts - Britannica', 'url': 'https://www.britannica.com/biography/Sachin-Tendulkar', 'content': 'Sachin Tendulkar (born April 24, 1973, Bombay [Mumbai], India) is a former Indian professional cricket player, considered by many to be one of the greatest batters of all time. He is the leading run scorer in both Test cricket and one-day internationals (ODIs) and the first cricketer to score 100 centuries (100 runs in a single innings) in international cricket. Often compared to Australian great Don Bradman, Tendulkar became known for his confident stroke play off both the front and back foot.', 'score': 0.92857105}]\u001b[0m\u001b[32;1m\u001b[1;3mSachin Tendulkar was born on April 24, 1973. As of today, which is October 5, 2023, we can calculate his age.\n",
      "\n",
      "His age calculation is:\n",
      "- From April 24, 1973, to April 24, 2023, he turned 50 years old.\n",
      "- From April 24, 2023, to October 5, 2023, is an additional 5 months and 11 days.\n",
      "\n",
      "This means he is currently 50 years old, about to turn 51. For the purpose of exponentiation, we'll consider his age as 50.\n",
      "\n",
      "Now, let's calculate 50 to the power of 12.\n",
      "\n",
      "<tool>exponentiate</tool><tool_input>50, 12\u001b[0m"
     ]
    },
    {
     "ename": "ValidationError",
     "evalue": "2 validation errors for exponentiate\nbase\n  Input should be a valid integer, unable to parse string as an integer [type=int_parsing, input_value='50, 12', input_type=str]\n    For further information visit https://errors.pydantic.dev/2.11/v/int_parsing\nexponent\n  Field required [type=missing, input_value={'base': '50, 12'}, input_type=dict]\n    For further information visit https://errors.pydantic.dev/2.11/v/missing",
     "output_type": "error",
     "traceback": [
      "\u001b[31m---------------------------------------------------------------------------\u001b[39m",
      "\u001b[31mValidationError\u001b[39m                           Traceback (most recent call last)",
      "\u001b[36mCell\u001b[39m\u001b[36m \u001b[39m\u001b[32mIn[23]\u001b[39m\u001b[32m, line 1\u001b[39m\n\u001b[32m----> \u001b[39m\u001b[32m1\u001b[39m responseMultiTool=\u001b[43mmultiAgentExecutor\u001b[49m\u001b[43m.\u001b[49m\u001b[43minvoke\u001b[49m\u001b[43m(\u001b[49m\u001b[38;5;28;43minput\u001b[39;49m\u001b[43m=\u001b[49m\u001b[43m{\u001b[49m\u001b[33;43m\"\u001b[39;49m\u001b[33;43minput\u001b[39;49m\u001b[33;43m\"\u001b[39;49m\u001b[43m:\u001b[49m\u001b[43mmultiPrompt\u001b[49m\u001b[43m}\u001b[49m\u001b[43m)\u001b[49m\n\u001b[32m      2\u001b[39m responseMultiTool\n",
      "\u001b[36mFile \u001b[39m\u001b[32mc:\\Users\\MSI\\anaconda3\\envs\\lcnenv\\Lib\\site-packages\\langchain\\chains\\base.py:170\u001b[39m, in \u001b[36mChain.invoke\u001b[39m\u001b[34m(self, input, config, **kwargs)\u001b[39m\n\u001b[32m    168\u001b[39m \u001b[38;5;28;01mexcept\u001b[39;00m \u001b[38;5;167;01mBaseException\u001b[39;00m \u001b[38;5;28;01mas\u001b[39;00m e:\n\u001b[32m    169\u001b[39m     run_manager.on_chain_error(e)\n\u001b[32m--> \u001b[39m\u001b[32m170\u001b[39m     \u001b[38;5;28;01mraise\u001b[39;00m e\n\u001b[32m    171\u001b[39m run_manager.on_chain_end(outputs)\n\u001b[32m    173\u001b[39m \u001b[38;5;28;01mif\u001b[39;00m include_run_info:\n",
      "\u001b[36mFile \u001b[39m\u001b[32mc:\\Users\\MSI\\anaconda3\\envs\\lcnenv\\Lib\\site-packages\\langchain\\chains\\base.py:160\u001b[39m, in \u001b[36mChain.invoke\u001b[39m\u001b[34m(self, input, config, **kwargs)\u001b[39m\n\u001b[32m    157\u001b[39m \u001b[38;5;28;01mtry\u001b[39;00m:\n\u001b[32m    158\u001b[39m     \u001b[38;5;28mself\u001b[39m._validate_inputs(inputs)\n\u001b[32m    159\u001b[39m     outputs = (\n\u001b[32m--> \u001b[39m\u001b[32m160\u001b[39m         \u001b[38;5;28;43mself\u001b[39;49m\u001b[43m.\u001b[49m\u001b[43m_call\u001b[49m\u001b[43m(\u001b[49m\u001b[43minputs\u001b[49m\u001b[43m,\u001b[49m\u001b[43m \u001b[49m\u001b[43mrun_manager\u001b[49m\u001b[43m=\u001b[49m\u001b[43mrun_manager\u001b[49m\u001b[43m)\u001b[49m\n\u001b[32m    161\u001b[39m         \u001b[38;5;28;01mif\u001b[39;00m new_arg_supported\n\u001b[32m    162\u001b[39m         \u001b[38;5;28;01melse\u001b[39;00m \u001b[38;5;28mself\u001b[39m._call(inputs)\n\u001b[32m    163\u001b[39m     )\n\u001b[32m    165\u001b[39m     final_outputs: Dict[\u001b[38;5;28mstr\u001b[39m, Any] = \u001b[38;5;28mself\u001b[39m.prep_outputs(\n\u001b[32m    166\u001b[39m         inputs, outputs, return_only_outputs\n\u001b[32m    167\u001b[39m     )\n\u001b[32m    168\u001b[39m \u001b[38;5;28;01mexcept\u001b[39;00m \u001b[38;5;167;01mBaseException\u001b[39;00m \u001b[38;5;28;01mas\u001b[39;00m e:\n",
      "\u001b[36mFile \u001b[39m\u001b[32mc:\\Users\\MSI\\anaconda3\\envs\\lcnenv\\Lib\\site-packages\\langchain\\agents\\agent.py:1624\u001b[39m, in \u001b[36mAgentExecutor._call\u001b[39m\u001b[34m(self, inputs, run_manager)\u001b[39m\n\u001b[32m   1622\u001b[39m \u001b[38;5;66;03m# We now enter the agent loop (until it returns something).\u001b[39;00m\n\u001b[32m   1623\u001b[39m \u001b[38;5;28;01mwhile\u001b[39;00m \u001b[38;5;28mself\u001b[39m._should_continue(iterations, time_elapsed):\n\u001b[32m-> \u001b[39m\u001b[32m1624\u001b[39m     next_step_output = \u001b[38;5;28;43mself\u001b[39;49m\u001b[43m.\u001b[49m\u001b[43m_take_next_step\u001b[49m\u001b[43m(\u001b[49m\n\u001b[32m   1625\u001b[39m \u001b[43m        \u001b[49m\u001b[43mname_to_tool_map\u001b[49m\u001b[43m,\u001b[49m\n\u001b[32m   1626\u001b[39m \u001b[43m        \u001b[49m\u001b[43mcolor_mapping\u001b[49m\u001b[43m,\u001b[49m\n\u001b[32m   1627\u001b[39m \u001b[43m        \u001b[49m\u001b[43minputs\u001b[49m\u001b[43m,\u001b[49m\n\u001b[32m   1628\u001b[39m \u001b[43m        \u001b[49m\u001b[43mintermediate_steps\u001b[49m\u001b[43m,\u001b[49m\n\u001b[32m   1629\u001b[39m \u001b[43m        \u001b[49m\u001b[43mrun_manager\u001b[49m\u001b[43m=\u001b[49m\u001b[43mrun_manager\u001b[49m\u001b[43m,\u001b[49m\n\u001b[32m   1630\u001b[39m \u001b[43m    \u001b[49m\u001b[43m)\u001b[49m\n\u001b[32m   1631\u001b[39m     \u001b[38;5;28;01mif\u001b[39;00m \u001b[38;5;28misinstance\u001b[39m(next_step_output, AgentFinish):\n\u001b[32m   1632\u001b[39m         \u001b[38;5;28;01mreturn\u001b[39;00m \u001b[38;5;28mself\u001b[39m._return(\n\u001b[32m   1633\u001b[39m             next_step_output, intermediate_steps, run_manager=run_manager\n\u001b[32m   1634\u001b[39m         )\n",
      "\u001b[36mFile \u001b[39m\u001b[32mc:\\Users\\MSI\\anaconda3\\envs\\lcnenv\\Lib\\site-packages\\langchain\\agents\\agent.py:1330\u001b[39m, in \u001b[36mAgentExecutor._take_next_step\u001b[39m\u001b[34m(self, name_to_tool_map, color_mapping, inputs, intermediate_steps, run_manager)\u001b[39m\n\u001b[32m   1321\u001b[39m \u001b[38;5;28;01mdef\u001b[39;00m\u001b[38;5;250m \u001b[39m\u001b[34m_take_next_step\u001b[39m(\n\u001b[32m   1322\u001b[39m     \u001b[38;5;28mself\u001b[39m,\n\u001b[32m   1323\u001b[39m     name_to_tool_map: Dict[\u001b[38;5;28mstr\u001b[39m, BaseTool],\n\u001b[32m   (...)\u001b[39m\u001b[32m   1327\u001b[39m     run_manager: Optional[CallbackManagerForChainRun] = \u001b[38;5;28;01mNone\u001b[39;00m,\n\u001b[32m   1328\u001b[39m ) -> Union[AgentFinish, List[Tuple[AgentAction, \u001b[38;5;28mstr\u001b[39m]]]:\n\u001b[32m   1329\u001b[39m     \u001b[38;5;28;01mreturn\u001b[39;00m \u001b[38;5;28mself\u001b[39m._consume_next_step(\n\u001b[32m-> \u001b[39m\u001b[32m1330\u001b[39m         \u001b[43m[\u001b[49m\n\u001b[32m   1331\u001b[39m \u001b[43m            \u001b[49m\u001b[43ma\u001b[49m\n\u001b[32m   1332\u001b[39m \u001b[43m            \u001b[49m\u001b[38;5;28;43;01mfor\u001b[39;49;00m\u001b[43m \u001b[49m\u001b[43ma\u001b[49m\u001b[43m \u001b[49m\u001b[38;5;129;43;01min\u001b[39;49;00m\u001b[43m \u001b[49m\u001b[38;5;28;43mself\u001b[39;49m\u001b[43m.\u001b[49m\u001b[43m_iter_next_step\u001b[49m\u001b[43m(\u001b[49m\n\u001b[32m   1333\u001b[39m \u001b[43m                \u001b[49m\u001b[43mname_to_tool_map\u001b[49m\u001b[43m,\u001b[49m\n\u001b[32m   1334\u001b[39m \u001b[43m                \u001b[49m\u001b[43mcolor_mapping\u001b[49m\u001b[43m,\u001b[49m\n\u001b[32m   1335\u001b[39m \u001b[43m                \u001b[49m\u001b[43minputs\u001b[49m\u001b[43m,\u001b[49m\n\u001b[32m   1336\u001b[39m \u001b[43m                \u001b[49m\u001b[43mintermediate_steps\u001b[49m\u001b[43m,\u001b[49m\n\u001b[32m   1337\u001b[39m \u001b[43m                \u001b[49m\u001b[43mrun_manager\u001b[49m\u001b[43m,\u001b[49m\n\u001b[32m   1338\u001b[39m \u001b[43m            \u001b[49m\u001b[43m)\u001b[49m\n\u001b[32m   1339\u001b[39m \u001b[43m        \u001b[49m\u001b[43m]\u001b[49m\n\u001b[32m   1340\u001b[39m     )\n",
      "\u001b[36mFile \u001b[39m\u001b[32mc:\\Users\\MSI\\anaconda3\\envs\\lcnenv\\Lib\\site-packages\\langchain\\agents\\agent.py:1330\u001b[39m, in \u001b[36m<listcomp>\u001b[39m\u001b[34m(.0)\u001b[39m\n\u001b[32m   1321\u001b[39m \u001b[38;5;28;01mdef\u001b[39;00m\u001b[38;5;250m \u001b[39m\u001b[34m_take_next_step\u001b[39m(\n\u001b[32m   1322\u001b[39m     \u001b[38;5;28mself\u001b[39m,\n\u001b[32m   1323\u001b[39m     name_to_tool_map: Dict[\u001b[38;5;28mstr\u001b[39m, BaseTool],\n\u001b[32m   (...)\u001b[39m\u001b[32m   1327\u001b[39m     run_manager: Optional[CallbackManagerForChainRun] = \u001b[38;5;28;01mNone\u001b[39;00m,\n\u001b[32m   1328\u001b[39m ) -> Union[AgentFinish, List[Tuple[AgentAction, \u001b[38;5;28mstr\u001b[39m]]]:\n\u001b[32m   1329\u001b[39m     \u001b[38;5;28;01mreturn\u001b[39;00m \u001b[38;5;28mself\u001b[39m._consume_next_step(\n\u001b[32m-> \u001b[39m\u001b[32m1330\u001b[39m         \u001b[43m[\u001b[49m\n\u001b[32m   1331\u001b[39m \u001b[43m            \u001b[49m\u001b[43ma\u001b[49m\n\u001b[32m   1332\u001b[39m \u001b[43m            \u001b[49m\u001b[38;5;28;43;01mfor\u001b[39;49;00m\u001b[43m \u001b[49m\u001b[43ma\u001b[49m\u001b[43m \u001b[49m\u001b[38;5;129;43;01min\u001b[39;49;00m\u001b[43m \u001b[49m\u001b[38;5;28;43mself\u001b[39;49m\u001b[43m.\u001b[49m\u001b[43m_iter_next_step\u001b[49m\u001b[43m(\u001b[49m\n\u001b[32m   1333\u001b[39m \u001b[43m                \u001b[49m\u001b[43mname_to_tool_map\u001b[49m\u001b[43m,\u001b[49m\n\u001b[32m   1334\u001b[39m \u001b[43m                \u001b[49m\u001b[43mcolor_mapping\u001b[49m\u001b[43m,\u001b[49m\n\u001b[32m   1335\u001b[39m \u001b[43m                \u001b[49m\u001b[43minputs\u001b[49m\u001b[43m,\u001b[49m\n\u001b[32m   1336\u001b[39m \u001b[43m                \u001b[49m\u001b[43mintermediate_steps\u001b[49m\u001b[43m,\u001b[49m\n\u001b[32m   1337\u001b[39m \u001b[43m                \u001b[49m\u001b[43mrun_manager\u001b[49m\u001b[43m,\u001b[49m\n\u001b[32m   1338\u001b[39m \u001b[43m            \u001b[49m\u001b[43m)\u001b[49m\n\u001b[32m   1339\u001b[39m \u001b[43m        \u001b[49m\u001b[43m]\u001b[49m\n\u001b[32m   1340\u001b[39m     )\n",
      "\u001b[36mFile \u001b[39m\u001b[32mc:\\Users\\MSI\\anaconda3\\envs\\lcnenv\\Lib\\site-packages\\langchain\\agents\\agent.py:1415\u001b[39m, in \u001b[36mAgentExecutor._iter_next_step\u001b[39m\u001b[34m(self, name_to_tool_map, color_mapping, inputs, intermediate_steps, run_manager)\u001b[39m\n\u001b[32m   1413\u001b[39m     \u001b[38;5;28;01myield\u001b[39;00m agent_action\n\u001b[32m   1414\u001b[39m \u001b[38;5;28;01mfor\u001b[39;00m agent_action \u001b[38;5;129;01min\u001b[39;00m actions:\n\u001b[32m-> \u001b[39m\u001b[32m1415\u001b[39m     \u001b[38;5;28;01myield\u001b[39;00m \u001b[38;5;28;43mself\u001b[39;49m\u001b[43m.\u001b[49m\u001b[43m_perform_agent_action\u001b[49m\u001b[43m(\u001b[49m\n\u001b[32m   1416\u001b[39m \u001b[43m        \u001b[49m\u001b[43mname_to_tool_map\u001b[49m\u001b[43m,\u001b[49m\u001b[43m \u001b[49m\u001b[43mcolor_mapping\u001b[49m\u001b[43m,\u001b[49m\u001b[43m \u001b[49m\u001b[43magent_action\u001b[49m\u001b[43m,\u001b[49m\u001b[43m \u001b[49m\u001b[43mrun_manager\u001b[49m\n\u001b[32m   1417\u001b[39m \u001b[43m    \u001b[49m\u001b[43m)\u001b[49m\n",
      "\u001b[36mFile \u001b[39m\u001b[32mc:\\Users\\MSI\\anaconda3\\envs\\lcnenv\\Lib\\site-packages\\langchain\\agents\\agent.py:1437\u001b[39m, in \u001b[36mAgentExecutor._perform_agent_action\u001b[39m\u001b[34m(self, name_to_tool_map, color_mapping, agent_action, run_manager)\u001b[39m\n\u001b[32m   1435\u001b[39m         tool_run_kwargs[\u001b[33m\"\u001b[39m\u001b[33mllm_prefix\u001b[39m\u001b[33m\"\u001b[39m] = \u001b[33m\"\u001b[39m\u001b[33m\"\u001b[39m\n\u001b[32m   1436\u001b[39m     \u001b[38;5;66;03m# We then call the tool on the tool input to get an observation\u001b[39;00m\n\u001b[32m-> \u001b[39m\u001b[32m1437\u001b[39m     observation = \u001b[43mtool\u001b[49m\u001b[43m.\u001b[49m\u001b[43mrun\u001b[49m\u001b[43m(\u001b[49m\n\u001b[32m   1438\u001b[39m \u001b[43m        \u001b[49m\u001b[43magent_action\u001b[49m\u001b[43m.\u001b[49m\u001b[43mtool_input\u001b[49m\u001b[43m,\u001b[49m\n\u001b[32m   1439\u001b[39m \u001b[43m        \u001b[49m\u001b[43mverbose\u001b[49m\u001b[43m=\u001b[49m\u001b[38;5;28;43mself\u001b[39;49m\u001b[43m.\u001b[49m\u001b[43mverbose\u001b[49m\u001b[43m,\u001b[49m\n\u001b[32m   1440\u001b[39m \u001b[43m        \u001b[49m\u001b[43mcolor\u001b[49m\u001b[43m=\u001b[49m\u001b[43mcolor\u001b[49m\u001b[43m,\u001b[49m\n\u001b[32m   1441\u001b[39m \u001b[43m        \u001b[49m\u001b[43mcallbacks\u001b[49m\u001b[43m=\u001b[49m\u001b[43mrun_manager\u001b[49m\u001b[43m.\u001b[49m\u001b[43mget_child\u001b[49m\u001b[43m(\u001b[49m\u001b[43m)\u001b[49m\u001b[43m \u001b[49m\u001b[38;5;28;43;01mif\u001b[39;49;00m\u001b[43m \u001b[49m\u001b[43mrun_manager\u001b[49m\u001b[43m \u001b[49m\u001b[38;5;28;43;01melse\u001b[39;49;00m\u001b[43m \u001b[49m\u001b[38;5;28;43;01mNone\u001b[39;49;00m\u001b[43m,\u001b[49m\n\u001b[32m   1442\u001b[39m \u001b[43m        \u001b[49m\u001b[43m*\u001b[49m\u001b[43m*\u001b[49m\u001b[43mtool_run_kwargs\u001b[49m\u001b[43m,\u001b[49m\n\u001b[32m   1443\u001b[39m \u001b[43m    \u001b[49m\u001b[43m)\u001b[49m\n\u001b[32m   1444\u001b[39m \u001b[38;5;28;01melse\u001b[39;00m:\n\u001b[32m   1445\u001b[39m     tool_run_kwargs = \u001b[38;5;28mself\u001b[39m._action_agent.tool_run_logging_kwargs()\n",
      "\u001b[36mFile \u001b[39m\u001b[32mc:\\Users\\MSI\\anaconda3\\envs\\lcnenv\\Lib\\site-packages\\langchain_core\\tools\\base.py:771\u001b[39m, in \u001b[36mBaseTool.run\u001b[39m\u001b[34m(self, tool_input, verbose, start_color, color, callbacks, tags, metadata, run_name, run_id, config, tool_call_id, **kwargs)\u001b[39m\n\u001b[32m    769\u001b[39m \u001b[38;5;28;01mif\u001b[39;00m error_to_raise:\n\u001b[32m    770\u001b[39m     run_manager.on_tool_error(error_to_raise)\n\u001b[32m--> \u001b[39m\u001b[32m771\u001b[39m     \u001b[38;5;28;01mraise\u001b[39;00m error_to_raise\n\u001b[32m    772\u001b[39m output = _format_output(content, artifact, tool_call_id, \u001b[38;5;28mself\u001b[39m.name, status)\n\u001b[32m    773\u001b[39m run_manager.on_tool_end(output, color=color, name=\u001b[38;5;28mself\u001b[39m.name, **kwargs)\n",
      "\u001b[36mFile \u001b[39m\u001b[32mc:\\Users\\MSI\\anaconda3\\envs\\lcnenv\\Lib\\site-packages\\langchain_core\\tools\\base.py:733\u001b[39m, in \u001b[36mBaseTool.run\u001b[39m\u001b[34m(self, tool_input, verbose, start_color, color, callbacks, tags, metadata, run_name, run_id, config, tool_call_id, **kwargs)\u001b[39m\n\u001b[32m    731\u001b[39m child_config = patch_config(config, callbacks=run_manager.get_child())\n\u001b[32m    732\u001b[39m \u001b[38;5;28;01mwith\u001b[39;00m set_config_context(child_config) \u001b[38;5;28;01mas\u001b[39;00m context:\n\u001b[32m--> \u001b[39m\u001b[32m733\u001b[39m     tool_args, tool_kwargs = \u001b[38;5;28;43mself\u001b[39;49m\u001b[43m.\u001b[49m\u001b[43m_to_args_and_kwargs\u001b[49m\u001b[43m(\u001b[49m\n\u001b[32m    734\u001b[39m \u001b[43m        \u001b[49m\u001b[43mtool_input\u001b[49m\u001b[43m,\u001b[49m\u001b[43m \u001b[49m\u001b[43mtool_call_id\u001b[49m\n\u001b[32m    735\u001b[39m \u001b[43m    \u001b[49m\u001b[43m)\u001b[49m\n\u001b[32m    736\u001b[39m     \u001b[38;5;28;01mif\u001b[39;00m signature(\u001b[38;5;28mself\u001b[39m._run).parameters.get(\u001b[33m\"\u001b[39m\u001b[33mrun_manager\u001b[39m\u001b[33m\"\u001b[39m):\n\u001b[32m    737\u001b[39m         tool_kwargs = tool_kwargs | {\u001b[33m\"\u001b[39m\u001b[33mrun_manager\u001b[39m\u001b[33m\"\u001b[39m: run_manager}\n",
      "\u001b[36mFile \u001b[39m\u001b[32mc:\\Users\\MSI\\anaconda3\\envs\\lcnenv\\Lib\\site-packages\\langchain_core\\tools\\base.py:648\u001b[39m, in \u001b[36mBaseTool._to_args_and_kwargs\u001b[39m\u001b[34m(self, tool_input, tool_call_id)\u001b[39m\n\u001b[32m    640\u001b[39m \u001b[38;5;28;01mif\u001b[39;00m (\n\u001b[32m    641\u001b[39m     \u001b[38;5;28mself\u001b[39m.args_schema \u001b[38;5;129;01mis\u001b[39;00m \u001b[38;5;129;01mnot\u001b[39;00m \u001b[38;5;28;01mNone\u001b[39;00m\n\u001b[32m    642\u001b[39m     \u001b[38;5;129;01mand\u001b[39;00m \u001b[38;5;28misinstance\u001b[39m(\u001b[38;5;28mself\u001b[39m.args_schema, \u001b[38;5;28mtype\u001b[39m)\n\u001b[32m   (...)\u001b[39m\u001b[32m    645\u001b[39m ):\n\u001b[32m    646\u001b[39m     \u001b[38;5;66;03m# StructuredTool with no args\u001b[39;00m\n\u001b[32m    647\u001b[39m     \u001b[38;5;28;01mreturn\u001b[39;00m (), {}\n\u001b[32m--> \u001b[39m\u001b[32m648\u001b[39m tool_input = \u001b[38;5;28;43mself\u001b[39;49m\u001b[43m.\u001b[49m\u001b[43m_parse_input\u001b[49m\u001b[43m(\u001b[49m\u001b[43mtool_input\u001b[49m\u001b[43m,\u001b[49m\u001b[43m \u001b[49m\u001b[43mtool_call_id\u001b[49m\u001b[43m)\u001b[49m\n\u001b[32m    649\u001b[39m \u001b[38;5;66;03m# For backwards compatibility, if run_input is a string,\u001b[39;00m\n\u001b[32m    650\u001b[39m \u001b[38;5;66;03m# pass as a positional argument.\u001b[39;00m\n\u001b[32m    651\u001b[39m \u001b[38;5;28;01mif\u001b[39;00m \u001b[38;5;28misinstance\u001b[39m(tool_input, \u001b[38;5;28mstr\u001b[39m):\n",
      "\u001b[36mFile \u001b[39m\u001b[32mc:\\Users\\MSI\\anaconda3\\envs\\lcnenv\\Lib\\site-packages\\langchain_core\\tools\\base.py:544\u001b[39m, in \u001b[36mBaseTool._parse_input\u001b[39m\u001b[34m(self, tool_input, tool_call_id)\u001b[39m\n\u001b[32m    542\u001b[39m key_ = \u001b[38;5;28mnext\u001b[39m(\u001b[38;5;28miter\u001b[39m(get_fields(input_args).keys()))\n\u001b[32m    543\u001b[39m \u001b[38;5;28;01mif\u001b[39;00m \u001b[38;5;28mhasattr\u001b[39m(input_args, \u001b[33m\"\u001b[39m\u001b[33mmodel_validate\u001b[39m\u001b[33m\"\u001b[39m):\n\u001b[32m--> \u001b[39m\u001b[32m544\u001b[39m     \u001b[43minput_args\u001b[49m\u001b[43m.\u001b[49m\u001b[43mmodel_validate\u001b[49m\u001b[43m(\u001b[49m\u001b[43m{\u001b[49m\u001b[43mkey_\u001b[49m\u001b[43m:\u001b[49m\u001b[43m \u001b[49m\u001b[43mtool_input\u001b[49m\u001b[43m}\u001b[49m\u001b[43m)\u001b[49m\n\u001b[32m    545\u001b[39m \u001b[38;5;28;01melse\u001b[39;00m:\n\u001b[32m    546\u001b[39m     input_args.parse_obj({key_: tool_input})\n",
      "\u001b[36mFile \u001b[39m\u001b[32mc:\\Users\\MSI\\anaconda3\\envs\\lcnenv\\Lib\\site-packages\\pydantic\\main.py:703\u001b[39m, in \u001b[36mBaseModel.model_validate\u001b[39m\u001b[34m(cls, obj, strict, from_attributes, context, by_alias, by_name)\u001b[39m\n\u001b[32m    697\u001b[39m \u001b[38;5;28;01mif\u001b[39;00m by_alias \u001b[38;5;129;01mis\u001b[39;00m \u001b[38;5;28;01mFalse\u001b[39;00m \u001b[38;5;129;01mand\u001b[39;00m by_name \u001b[38;5;129;01mis\u001b[39;00m \u001b[38;5;129;01mnot\u001b[39;00m \u001b[38;5;28;01mTrue\u001b[39;00m:\n\u001b[32m    698\u001b[39m     \u001b[38;5;28;01mraise\u001b[39;00m PydanticUserError(\n\u001b[32m    699\u001b[39m         \u001b[33m'\u001b[39m\u001b[33mAt least one of `by_alias` or `by_name` must be set to True.\u001b[39m\u001b[33m'\u001b[39m,\n\u001b[32m    700\u001b[39m         code=\u001b[33m'\u001b[39m\u001b[33mvalidate-by-alias-and-name-false\u001b[39m\u001b[33m'\u001b[39m,\n\u001b[32m    701\u001b[39m     )\n\u001b[32m--> \u001b[39m\u001b[32m703\u001b[39m \u001b[38;5;28;01mreturn\u001b[39;00m \u001b[38;5;28;43mcls\u001b[39;49m\u001b[43m.\u001b[49m\u001b[43m__pydantic_validator__\u001b[49m\u001b[43m.\u001b[49m\u001b[43mvalidate_python\u001b[49m\u001b[43m(\u001b[49m\n\u001b[32m    704\u001b[39m \u001b[43m    \u001b[49m\u001b[43mobj\u001b[49m\u001b[43m,\u001b[49m\u001b[43m \u001b[49m\u001b[43mstrict\u001b[49m\u001b[43m=\u001b[49m\u001b[43mstrict\u001b[49m\u001b[43m,\u001b[49m\u001b[43m \u001b[49m\u001b[43mfrom_attributes\u001b[49m\u001b[43m=\u001b[49m\u001b[43mfrom_attributes\u001b[49m\u001b[43m,\u001b[49m\u001b[43m \u001b[49m\u001b[43mcontext\u001b[49m\u001b[43m=\u001b[49m\u001b[43mcontext\u001b[49m\u001b[43m,\u001b[49m\u001b[43m \u001b[49m\u001b[43mby_alias\u001b[49m\u001b[43m=\u001b[49m\u001b[43mby_alias\u001b[49m\u001b[43m,\u001b[49m\u001b[43m \u001b[49m\u001b[43mby_name\u001b[49m\u001b[43m=\u001b[49m\u001b[43mby_name\u001b[49m\n\u001b[32m    705\u001b[39m \u001b[43m\u001b[49m\u001b[43m)\u001b[49m\n",
      "\u001b[31mValidationError\u001b[39m: 2 validation errors for exponentiate\nbase\n  Input should be a valid integer, unable to parse string as an integer [type=int_parsing, input_value='50, 12', input_type=str]\n    For further information visit https://errors.pydantic.dev/2.11/v/int_parsing\nexponent\n  Field required [type=missing, input_value={'base': '50, 12'}, input_type=dict]\n    For further information visit https://errors.pydantic.dev/2.11/v/missing"
     ]
    }
   ],
   "source": [
    "responseMultiTool=multiAgentExecutor.invoke(input={\"input\":multiPrompt})\n",
    "responseMultiTool"
   ]
  },
  {
   "cell_type": "code",
   "execution_count": null,
   "id": "cab6eb4a-6865-4e4e-a476-a95819cab1be",
   "metadata": {},
   "outputs": [],
   "source": []
  },
  {
   "cell_type": "markdown",
   "id": "ab5dfcf5-3afb-4d83-b53d-fc15575ddfc2",
   "metadata": {},
   "source": [
    "<h3>JSON Chat Agent</h3>"
   ]
  },
  {
   "cell_type": "code",
   "execution_count": 24,
   "id": "0e247507-8918-40a7-8fc1-f74f9b58e974",
   "metadata": {
    "scrolled": true
   },
   "outputs": [],
   "source": [
    "prompt=hub.pull(owner_repo_commit=\"hwchase17/react-chat-json\")     "
   ]
  },
  {
   "cell_type": "code",
   "execution_count": 25,
   "id": "9971ecf7-cee8-4ad3-84a3-82b2cb302c88",
   "metadata": {},
   "outputs": [
    {
     "data": {
      "text/plain": [
       "[SystemMessagePromptTemplate(prompt=PromptTemplate(input_variables=[], input_types={}, partial_variables={}, template='Assistant is a large language model trained by OpenAI.\\n\\nAssistant is designed to be able to assist with a wide range of tasks, from answering simple questions to providing in-depth explanations and discussions on a wide range of topics. As a language model, Assistant is able to generate human-like text based on the input it receives, allowing it to engage in natural-sounding conversations and provide responses that are coherent and relevant to the topic at hand.\\n\\nAssistant is constantly learning and improving, and its capabilities are constantly evolving. It is able to process and understand large amounts of text, and can use this knowledge to provide accurate and informative responses to a wide range of questions. Additionally, Assistant is able to generate its own text based on the input it receives, allowing it to engage in discussions and provide explanations and descriptions on a wide range of topics.\\n\\nOverall, Assistant is a powerful system that can help with a wide range of tasks and provide valuable insights and information on a wide range of topics. Whether you need help with a specific question or just want to have a conversation about a particular topic, Assistant is here to assist.'), additional_kwargs={}),\n",
       " MessagesPlaceholder(variable_name='chat_history', optional=True),\n",
       " HumanMessagePromptTemplate(prompt=PromptTemplate(input_variables=['input', 'tool_names', 'tools'], input_types={}, partial_variables={}, template='TOOLS\\n------\\nAssistant can ask the user to use tools to look up information that may be helpful in answering the users original question. The tools the human can use are:\\n\\n{tools}\\n\\nRESPONSE FORMAT INSTRUCTIONS\\n----------------------------\\n\\nWhen responding to me, please output a response in one of two formats:\\n\\n**Option 1:**\\nUse this if you want the human to use a tool.\\nMarkdown code snippet formatted in the following schema:\\n\\n```json\\n{{\\n    \"action\": string, \\\\ The action to take. Must be one of {tool_names}\\n    \"action_input\": string \\\\ The input to the action\\n}}\\n```\\n\\n**Option #2:**\\nUse this if you want to respond directly to the human. Markdown code snippet formatted in the following schema:\\n\\n```json\\n{{\\n    \"action\": \"Final Answer\",\\n    \"action_input\": string \\\\ You should put what you want to return to use here\\n}}\\n```\\n\\nUSER\\'S INPUT\\n--------------------\\nHere is the user\\'s input (remember to respond with a markdown code snippet of a json blob with a single action, and NOTHING else):\\n\\n{input}'), additional_kwargs={}),\n",
       " MessagesPlaceholder(variable_name='agent_scratchpad')]"
      ]
     },
     "execution_count": 25,
     "metadata": {},
     "output_type": "execute_result"
    }
   ],
   "source": [
    "prompt.messages"
   ]
  },
  {
   "cell_type": "code",
   "execution_count": 26,
   "id": "cafc7ae0-30ae-4cff-bbe3-aca6b01e0b00",
   "metadata": {},
   "outputs": [],
   "source": [
    "agent=create_json_chat_agent(llm=llmOpenAI,tools=tools,prompt=prompt)\n",
    "agentExecutor=AgentExecutor(agent=agent,tools=tools,verbose=True)\n",
    "\n",
    "multiInputAgent=create_json_chat_agent(llm=llmOpenAI,tools=multiInputTools,prompt=prompt)\n",
    "multiAgentExecutor=AgentExecutor(agent=multiInputAgent,tools=multiInputTools,verbose=True)"
   ]
  },
  {
   "cell_type": "code",
   "execution_count": 27,
   "id": "d750afd4-1ad1-4d6d-abf9-b5ee5a9ffe10",
   "metadata": {},
   "outputs": [
    {
     "name": "stdout",
     "output_type": "stream",
     "text": [
      "\n",
      "\n",
      "\u001b[1m> Entering new AgentExecutor chain...\u001b[0m\n",
      "\u001b[32;1m\u001b[1;3m```json\n",
      "{\n",
      "    \"action\": \"tavily_search_results\",\n",
      "    \"action_input\": \"Lawrence Bishnoi biography\"\n",
      "}\n",
      "```\u001b[0m\u001b[36;1m\u001b[1;3m[{'title': 'Lawrence Bishnoi Biography - Bio Man', 'url': 'https://bioman.com.ng/lawrence-bishnoi-biography/', 'content': 'Lawrence Bishnoi Biography Lawrence Bishnoi, born on February 12, 1993, in Ferozpur, Punjab, India, is a well-known gangster. He grew up in Abohar and completed his early education there. In 2010, he moved to Chandigarh to attend DAV College. Later, he joined Panjab University, where he earned a law degree (LL.B). During his university years, Bishnoi became involved in student politics. He met', 'score': 0.9092728}, {'title': 'Lawrence Bishnoi - Wikipedia', 'url': 'https://en.wikipedia.org/wiki/Lawrence_Bishnoi', 'content': 'Lawrence Bishnoi (born Balkaran Brar; 12 February 1993) is an Indian gangster who attained notoriety as the boss of the \"Bishnoi gang\", which is reportedly linked to over 700 shooters operating across the world.\\n\\nBishnoi has been imprisoned since 2014 and faces multiple criminal charges, including those for extortion and murder, however he has denied all allegations.\\n\\n## Early life and education [...] | Lawrence Bishnoi | |\\n| --- | --- |\\n| Born | Balkaran Brar   (1993-02-12) 12 February 1993 (age 32)  Fazilka district, Punjab, India |\\n| Alma mater | DAV College (B.A.)  Panjab University (LL.B) |\\n| Years active | 2010–present |\\n| Known for |  Assassination threat to Salman Khan  Planning the murder of Sidhu Moose Wala |\\n| Judicial status | Imprisoned |\\n|  | |\\n| Details | |\\n| States | Punjab Rajasthan Haryana |\\n|  | | [...] Lawrence Bishnoi was born as Balkaran Brar on 12 February 1993 in the village of Dutarawali in Fazilka district, Punjab to a Punjabi Hindu family. His father, a former constable in the Haryana Police, left the force in 1997 and took up farming. Bishnoi completed his early education in Abohar, Punjab, before moving to Chandigarh in 2010 to attend DAV College.', 'score': 0.8482825}]\u001b[0m\u001b[32;1m\u001b[1;3m```json\n",
      "{\n",
      "    \"action\": \"Final Answer\",\n",
      "    \"action_input\": \"Lawrence Bishnoi, born on February 12, 1993, in Fazilka district, Punjab, India, is an Indian gangster known for being the leader of the 'Bishnoi gang,' which is reportedly linked to over 700 shooters. He has been imprisoned since 2014 and faces multiple criminal charges, including extortion and murder, to which he has denied the allegations. He graduated with a law degree from Panjab University and became involved in student politics during his university years.\"\n",
      "}\n",
      "```\u001b[0m\n",
      "\n",
      "\u001b[1m> Finished chain.\u001b[0m\n"
     ]
    },
    {
     "data": {
      "text/plain": [
       "{'input': 'Who is Lawrence Bishnoi?',\n",
       " 'output': \"Lawrence Bishnoi, born on February 12, 1993, in Fazilka district, Punjab, India, is an Indian gangster known for being the leader of the 'Bishnoi gang,' which is reportedly linked to over 700 shooters. He has been imprisoned since 2014 and faces multiple criminal charges, including extortion and murder, to which he has denied the allegations. He graduated with a law degree from Panjab University and became involved in student politics during his university years.\"}"
      ]
     },
     "execution_count": 27,
     "metadata": {},
     "output_type": "execute_result"
    }
   ],
   "source": [
    "responseSingleTool=agentExecutor.invoke(input={\"input\":singlePrompt})\n",
    "responseSingleTool"
   ]
  },
  {
   "cell_type": "code",
   "execution_count": 28,
   "id": "19c845dc-bed6-4a75-87db-afda468f5919",
   "metadata": {},
   "outputs": [
    {
     "name": "stdout",
     "output_type": "stream",
     "text": [
      "\n",
      "\n",
      "\u001b[1m> Entering new AgentExecutor chain...\u001b[0m\n",
      "\u001b[32;1m\u001b[1;3m```json\n",
      "{\n",
      "    \"action\": \"tavily_search_results\",\n",
      "    \"action_input\": \"Sachin Tendulkar's age as of October 2023\"\n",
      "}\n",
      "```\u001b[0m\u001b[36;1m\u001b[1;3m[{'title': 'Sachin Tendulkar Height, Age, Wife, Children, Family, Biography ...', 'url': 'https://starsunfolded.com/sachin-tendulkar/', 'content': 'Entertainment\\n       Bollywood\\n       Hollywood\\n   Journalists\\n   Miscellaneous\\n       Business\\n       Journalists\\n       Famous Personalities\\n   Politician\\n   Sports\\n\\nSachin Tendulkar Height, Age, Wife, Children, Family, Biography, Records & More\\n===============================================================================\\n\\nQuick Info→\\n\\nAge: 52 Years\\n\\nCaste: Rajapur Saraswat Brahmin\\n\\nHeight: 5\\' 5\"\\n\\nImage 2: Sachin Tendulkar Close Up [...] present the Laureus Best Sporting Moment to Sachin Tendulkar\" width=\"150\" height=\"150\" class=\"alignnone size-full wp-image-276673\"><br><br><strong>2023:</strong> Sachin Tendulkar and Brian Lara joined the likes of Sir Donald Bradman, Alan Davidson, and Arthur Morris after the Sydney Cricket Ground honoured them by having a set of gates named in their honour; the gate was unveiled on the occasion of Sachin Tendulkar\\'s 50th birthday. <span class=\"footnote_referrer\"><sup [...] class=\"footnote_item_base\"><span id=\"f+7271+1+17\" class=\"footnote_item_anchor\"></span></span><span class=\"footnote_index_arrow\">↑</span>17</th><td class=\"footnote_plugin_text\">Times of India</td></tr><tr class=\"footnotes_plugin_reference_row\"><th scope=\"row\" class=\"footnote_plugin_index_combi pointer\" onclick=\"if (!window.__cfRLUnblockHandlers) return false; footnote_moveToAnchor_7271_1(\\'footnote_plugin_tooltip_7271_1_18\\');\"><span class=\"footnote_item_base\"><span id=\"f+7271+1+18\"', 'score': 0.76300776}, {'title': 'Sachin Tendulkar - Simple English Wikipedia, the free encyclopedia', 'url': 'https://simple.wikipedia.org/wiki/Sachin_Tendulkar', 'content': '|  |  |\\n| --- | --- |\\n| Tendulkar in 2016 | |\\n| Personal information | |\\n| Full name | Sachin Ramesh Tendulkar |\\n| Born | (1973-04-24) 24 April 1973 (age 52) Bombay (now Mumbai), Maharashtra, India |\\n| Nickname | Little Master, Master Blaster |\\n| Height | 1.65 m (5 ft 5 in) |\\n| Batting | Right-handed |\\n| Bowling | Right-arm medium\"), leg break, off break\") |\\n| Role | Batsman |\\n| International information | |\\n| National side |  India (1989–2013) |', 'score': 0.5996498}]\u001b[0m\u001b[32;1m\u001b[1;3m```json\n",
      "{\n",
      "    \"action\": \"exponentiate\",\n",
      "    \"action_input\": \"52, 12\"\n",
      "}\n",
      "```\u001b[0m"
     ]
    },
    {
     "ename": "ValidationError",
     "evalue": "2 validation errors for exponentiate\nbase\n  Input should be a valid integer, unable to parse string as an integer [type=int_parsing, input_value='52, 12', input_type=str]\n    For further information visit https://errors.pydantic.dev/2.11/v/int_parsing\nexponent\n  Field required [type=missing, input_value={'base': '52, 12'}, input_type=dict]\n    For further information visit https://errors.pydantic.dev/2.11/v/missing",
     "output_type": "error",
     "traceback": [
      "\u001b[31m---------------------------------------------------------------------------\u001b[39m",
      "\u001b[31mValidationError\u001b[39m                           Traceback (most recent call last)",
      "\u001b[36mCell\u001b[39m\u001b[36m \u001b[39m\u001b[32mIn[28]\u001b[39m\u001b[32m, line 1\u001b[39m\n\u001b[32m----> \u001b[39m\u001b[32m1\u001b[39m responseMultiTool=\u001b[43mmultiAgentExecutor\u001b[49m\u001b[43m.\u001b[49m\u001b[43minvoke\u001b[49m\u001b[43m(\u001b[49m\u001b[38;5;28;43minput\u001b[39;49m\u001b[43m=\u001b[49m\u001b[43m{\u001b[49m\u001b[33;43m\"\u001b[39;49m\u001b[33;43minput\u001b[39;49m\u001b[33;43m\"\u001b[39;49m\u001b[43m:\u001b[49m\u001b[43mmultiPrompt\u001b[49m\u001b[43m}\u001b[49m\u001b[43m)\u001b[49m\n\u001b[32m      2\u001b[39m responseMultiTool\n",
      "\u001b[36mFile \u001b[39m\u001b[32mc:\\Users\\MSI\\anaconda3\\envs\\lcnenv\\Lib\\site-packages\\langchain\\chains\\base.py:170\u001b[39m, in \u001b[36mChain.invoke\u001b[39m\u001b[34m(self, input, config, **kwargs)\u001b[39m\n\u001b[32m    168\u001b[39m \u001b[38;5;28;01mexcept\u001b[39;00m \u001b[38;5;167;01mBaseException\u001b[39;00m \u001b[38;5;28;01mas\u001b[39;00m e:\n\u001b[32m    169\u001b[39m     run_manager.on_chain_error(e)\n\u001b[32m--> \u001b[39m\u001b[32m170\u001b[39m     \u001b[38;5;28;01mraise\u001b[39;00m e\n\u001b[32m    171\u001b[39m run_manager.on_chain_end(outputs)\n\u001b[32m    173\u001b[39m \u001b[38;5;28;01mif\u001b[39;00m include_run_info:\n",
      "\u001b[36mFile \u001b[39m\u001b[32mc:\\Users\\MSI\\anaconda3\\envs\\lcnenv\\Lib\\site-packages\\langchain\\chains\\base.py:160\u001b[39m, in \u001b[36mChain.invoke\u001b[39m\u001b[34m(self, input, config, **kwargs)\u001b[39m\n\u001b[32m    157\u001b[39m \u001b[38;5;28;01mtry\u001b[39;00m:\n\u001b[32m    158\u001b[39m     \u001b[38;5;28mself\u001b[39m._validate_inputs(inputs)\n\u001b[32m    159\u001b[39m     outputs = (\n\u001b[32m--> \u001b[39m\u001b[32m160\u001b[39m         \u001b[38;5;28;43mself\u001b[39;49m\u001b[43m.\u001b[49m\u001b[43m_call\u001b[49m\u001b[43m(\u001b[49m\u001b[43minputs\u001b[49m\u001b[43m,\u001b[49m\u001b[43m \u001b[49m\u001b[43mrun_manager\u001b[49m\u001b[43m=\u001b[49m\u001b[43mrun_manager\u001b[49m\u001b[43m)\u001b[49m\n\u001b[32m    161\u001b[39m         \u001b[38;5;28;01mif\u001b[39;00m new_arg_supported\n\u001b[32m    162\u001b[39m         \u001b[38;5;28;01melse\u001b[39;00m \u001b[38;5;28mself\u001b[39m._call(inputs)\n\u001b[32m    163\u001b[39m     )\n\u001b[32m    165\u001b[39m     final_outputs: Dict[\u001b[38;5;28mstr\u001b[39m, Any] = \u001b[38;5;28mself\u001b[39m.prep_outputs(\n\u001b[32m    166\u001b[39m         inputs, outputs, return_only_outputs\n\u001b[32m    167\u001b[39m     )\n\u001b[32m    168\u001b[39m \u001b[38;5;28;01mexcept\u001b[39;00m \u001b[38;5;167;01mBaseException\u001b[39;00m \u001b[38;5;28;01mas\u001b[39;00m e:\n",
      "\u001b[36mFile \u001b[39m\u001b[32mc:\\Users\\MSI\\anaconda3\\envs\\lcnenv\\Lib\\site-packages\\langchain\\agents\\agent.py:1624\u001b[39m, in \u001b[36mAgentExecutor._call\u001b[39m\u001b[34m(self, inputs, run_manager)\u001b[39m\n\u001b[32m   1622\u001b[39m \u001b[38;5;66;03m# We now enter the agent loop (until it returns something).\u001b[39;00m\n\u001b[32m   1623\u001b[39m \u001b[38;5;28;01mwhile\u001b[39;00m \u001b[38;5;28mself\u001b[39m._should_continue(iterations, time_elapsed):\n\u001b[32m-> \u001b[39m\u001b[32m1624\u001b[39m     next_step_output = \u001b[38;5;28;43mself\u001b[39;49m\u001b[43m.\u001b[49m\u001b[43m_take_next_step\u001b[49m\u001b[43m(\u001b[49m\n\u001b[32m   1625\u001b[39m \u001b[43m        \u001b[49m\u001b[43mname_to_tool_map\u001b[49m\u001b[43m,\u001b[49m\n\u001b[32m   1626\u001b[39m \u001b[43m        \u001b[49m\u001b[43mcolor_mapping\u001b[49m\u001b[43m,\u001b[49m\n\u001b[32m   1627\u001b[39m \u001b[43m        \u001b[49m\u001b[43minputs\u001b[49m\u001b[43m,\u001b[49m\n\u001b[32m   1628\u001b[39m \u001b[43m        \u001b[49m\u001b[43mintermediate_steps\u001b[49m\u001b[43m,\u001b[49m\n\u001b[32m   1629\u001b[39m \u001b[43m        \u001b[49m\u001b[43mrun_manager\u001b[49m\u001b[43m=\u001b[49m\u001b[43mrun_manager\u001b[49m\u001b[43m,\u001b[49m\n\u001b[32m   1630\u001b[39m \u001b[43m    \u001b[49m\u001b[43m)\u001b[49m\n\u001b[32m   1631\u001b[39m     \u001b[38;5;28;01mif\u001b[39;00m \u001b[38;5;28misinstance\u001b[39m(next_step_output, AgentFinish):\n\u001b[32m   1632\u001b[39m         \u001b[38;5;28;01mreturn\u001b[39;00m \u001b[38;5;28mself\u001b[39m._return(\n\u001b[32m   1633\u001b[39m             next_step_output, intermediate_steps, run_manager=run_manager\n\u001b[32m   1634\u001b[39m         )\n",
      "\u001b[36mFile \u001b[39m\u001b[32mc:\\Users\\MSI\\anaconda3\\envs\\lcnenv\\Lib\\site-packages\\langchain\\agents\\agent.py:1330\u001b[39m, in \u001b[36mAgentExecutor._take_next_step\u001b[39m\u001b[34m(self, name_to_tool_map, color_mapping, inputs, intermediate_steps, run_manager)\u001b[39m\n\u001b[32m   1321\u001b[39m \u001b[38;5;28;01mdef\u001b[39;00m\u001b[38;5;250m \u001b[39m\u001b[34m_take_next_step\u001b[39m(\n\u001b[32m   1322\u001b[39m     \u001b[38;5;28mself\u001b[39m,\n\u001b[32m   1323\u001b[39m     name_to_tool_map: Dict[\u001b[38;5;28mstr\u001b[39m, BaseTool],\n\u001b[32m   (...)\u001b[39m\u001b[32m   1327\u001b[39m     run_manager: Optional[CallbackManagerForChainRun] = \u001b[38;5;28;01mNone\u001b[39;00m,\n\u001b[32m   1328\u001b[39m ) -> Union[AgentFinish, List[Tuple[AgentAction, \u001b[38;5;28mstr\u001b[39m]]]:\n\u001b[32m   1329\u001b[39m     \u001b[38;5;28;01mreturn\u001b[39;00m \u001b[38;5;28mself\u001b[39m._consume_next_step(\n\u001b[32m-> \u001b[39m\u001b[32m1330\u001b[39m         \u001b[43m[\u001b[49m\n\u001b[32m   1331\u001b[39m \u001b[43m            \u001b[49m\u001b[43ma\u001b[49m\n\u001b[32m   1332\u001b[39m \u001b[43m            \u001b[49m\u001b[38;5;28;43;01mfor\u001b[39;49;00m\u001b[43m \u001b[49m\u001b[43ma\u001b[49m\u001b[43m \u001b[49m\u001b[38;5;129;43;01min\u001b[39;49;00m\u001b[43m \u001b[49m\u001b[38;5;28;43mself\u001b[39;49m\u001b[43m.\u001b[49m\u001b[43m_iter_next_step\u001b[49m\u001b[43m(\u001b[49m\n\u001b[32m   1333\u001b[39m \u001b[43m                \u001b[49m\u001b[43mname_to_tool_map\u001b[49m\u001b[43m,\u001b[49m\n\u001b[32m   1334\u001b[39m \u001b[43m                \u001b[49m\u001b[43mcolor_mapping\u001b[49m\u001b[43m,\u001b[49m\n\u001b[32m   1335\u001b[39m \u001b[43m                \u001b[49m\u001b[43minputs\u001b[49m\u001b[43m,\u001b[49m\n\u001b[32m   1336\u001b[39m \u001b[43m                \u001b[49m\u001b[43mintermediate_steps\u001b[49m\u001b[43m,\u001b[49m\n\u001b[32m   1337\u001b[39m \u001b[43m                \u001b[49m\u001b[43mrun_manager\u001b[49m\u001b[43m,\u001b[49m\n\u001b[32m   1338\u001b[39m \u001b[43m            \u001b[49m\u001b[43m)\u001b[49m\n\u001b[32m   1339\u001b[39m \u001b[43m        \u001b[49m\u001b[43m]\u001b[49m\n\u001b[32m   1340\u001b[39m     )\n",
      "\u001b[36mFile \u001b[39m\u001b[32mc:\\Users\\MSI\\anaconda3\\envs\\lcnenv\\Lib\\site-packages\\langchain\\agents\\agent.py:1330\u001b[39m, in \u001b[36m<listcomp>\u001b[39m\u001b[34m(.0)\u001b[39m\n\u001b[32m   1321\u001b[39m \u001b[38;5;28;01mdef\u001b[39;00m\u001b[38;5;250m \u001b[39m\u001b[34m_take_next_step\u001b[39m(\n\u001b[32m   1322\u001b[39m     \u001b[38;5;28mself\u001b[39m,\n\u001b[32m   1323\u001b[39m     name_to_tool_map: Dict[\u001b[38;5;28mstr\u001b[39m, BaseTool],\n\u001b[32m   (...)\u001b[39m\u001b[32m   1327\u001b[39m     run_manager: Optional[CallbackManagerForChainRun] = \u001b[38;5;28;01mNone\u001b[39;00m,\n\u001b[32m   1328\u001b[39m ) -> Union[AgentFinish, List[Tuple[AgentAction, \u001b[38;5;28mstr\u001b[39m]]]:\n\u001b[32m   1329\u001b[39m     \u001b[38;5;28;01mreturn\u001b[39;00m \u001b[38;5;28mself\u001b[39m._consume_next_step(\n\u001b[32m-> \u001b[39m\u001b[32m1330\u001b[39m         \u001b[43m[\u001b[49m\n\u001b[32m   1331\u001b[39m \u001b[43m            \u001b[49m\u001b[43ma\u001b[49m\n\u001b[32m   1332\u001b[39m \u001b[43m            \u001b[49m\u001b[38;5;28;43;01mfor\u001b[39;49;00m\u001b[43m \u001b[49m\u001b[43ma\u001b[49m\u001b[43m \u001b[49m\u001b[38;5;129;43;01min\u001b[39;49;00m\u001b[43m \u001b[49m\u001b[38;5;28;43mself\u001b[39;49m\u001b[43m.\u001b[49m\u001b[43m_iter_next_step\u001b[49m\u001b[43m(\u001b[49m\n\u001b[32m   1333\u001b[39m \u001b[43m                \u001b[49m\u001b[43mname_to_tool_map\u001b[49m\u001b[43m,\u001b[49m\n\u001b[32m   1334\u001b[39m \u001b[43m                \u001b[49m\u001b[43mcolor_mapping\u001b[49m\u001b[43m,\u001b[49m\n\u001b[32m   1335\u001b[39m \u001b[43m                \u001b[49m\u001b[43minputs\u001b[49m\u001b[43m,\u001b[49m\n\u001b[32m   1336\u001b[39m \u001b[43m                \u001b[49m\u001b[43mintermediate_steps\u001b[49m\u001b[43m,\u001b[49m\n\u001b[32m   1337\u001b[39m \u001b[43m                \u001b[49m\u001b[43mrun_manager\u001b[49m\u001b[43m,\u001b[49m\n\u001b[32m   1338\u001b[39m \u001b[43m            \u001b[49m\u001b[43m)\u001b[49m\n\u001b[32m   1339\u001b[39m \u001b[43m        \u001b[49m\u001b[43m]\u001b[49m\n\u001b[32m   1340\u001b[39m     )\n",
      "\u001b[36mFile \u001b[39m\u001b[32mc:\\Users\\MSI\\anaconda3\\envs\\lcnenv\\Lib\\site-packages\\langchain\\agents\\agent.py:1415\u001b[39m, in \u001b[36mAgentExecutor._iter_next_step\u001b[39m\u001b[34m(self, name_to_tool_map, color_mapping, inputs, intermediate_steps, run_manager)\u001b[39m\n\u001b[32m   1413\u001b[39m     \u001b[38;5;28;01myield\u001b[39;00m agent_action\n\u001b[32m   1414\u001b[39m \u001b[38;5;28;01mfor\u001b[39;00m agent_action \u001b[38;5;129;01min\u001b[39;00m actions:\n\u001b[32m-> \u001b[39m\u001b[32m1415\u001b[39m     \u001b[38;5;28;01myield\u001b[39;00m \u001b[38;5;28;43mself\u001b[39;49m\u001b[43m.\u001b[49m\u001b[43m_perform_agent_action\u001b[49m\u001b[43m(\u001b[49m\n\u001b[32m   1416\u001b[39m \u001b[43m        \u001b[49m\u001b[43mname_to_tool_map\u001b[49m\u001b[43m,\u001b[49m\u001b[43m \u001b[49m\u001b[43mcolor_mapping\u001b[49m\u001b[43m,\u001b[49m\u001b[43m \u001b[49m\u001b[43magent_action\u001b[49m\u001b[43m,\u001b[49m\u001b[43m \u001b[49m\u001b[43mrun_manager\u001b[49m\n\u001b[32m   1417\u001b[39m \u001b[43m    \u001b[49m\u001b[43m)\u001b[49m\n",
      "\u001b[36mFile \u001b[39m\u001b[32mc:\\Users\\MSI\\anaconda3\\envs\\lcnenv\\Lib\\site-packages\\langchain\\agents\\agent.py:1437\u001b[39m, in \u001b[36mAgentExecutor._perform_agent_action\u001b[39m\u001b[34m(self, name_to_tool_map, color_mapping, agent_action, run_manager)\u001b[39m\n\u001b[32m   1435\u001b[39m         tool_run_kwargs[\u001b[33m\"\u001b[39m\u001b[33mllm_prefix\u001b[39m\u001b[33m\"\u001b[39m] = \u001b[33m\"\u001b[39m\u001b[33m\"\u001b[39m\n\u001b[32m   1436\u001b[39m     \u001b[38;5;66;03m# We then call the tool on the tool input to get an observation\u001b[39;00m\n\u001b[32m-> \u001b[39m\u001b[32m1437\u001b[39m     observation = \u001b[43mtool\u001b[49m\u001b[43m.\u001b[49m\u001b[43mrun\u001b[49m\u001b[43m(\u001b[49m\n\u001b[32m   1438\u001b[39m \u001b[43m        \u001b[49m\u001b[43magent_action\u001b[49m\u001b[43m.\u001b[49m\u001b[43mtool_input\u001b[49m\u001b[43m,\u001b[49m\n\u001b[32m   1439\u001b[39m \u001b[43m        \u001b[49m\u001b[43mverbose\u001b[49m\u001b[43m=\u001b[49m\u001b[38;5;28;43mself\u001b[39;49m\u001b[43m.\u001b[49m\u001b[43mverbose\u001b[49m\u001b[43m,\u001b[49m\n\u001b[32m   1440\u001b[39m \u001b[43m        \u001b[49m\u001b[43mcolor\u001b[49m\u001b[43m=\u001b[49m\u001b[43mcolor\u001b[49m\u001b[43m,\u001b[49m\n\u001b[32m   1441\u001b[39m \u001b[43m        \u001b[49m\u001b[43mcallbacks\u001b[49m\u001b[43m=\u001b[49m\u001b[43mrun_manager\u001b[49m\u001b[43m.\u001b[49m\u001b[43mget_child\u001b[49m\u001b[43m(\u001b[49m\u001b[43m)\u001b[49m\u001b[43m \u001b[49m\u001b[38;5;28;43;01mif\u001b[39;49;00m\u001b[43m \u001b[49m\u001b[43mrun_manager\u001b[49m\u001b[43m \u001b[49m\u001b[38;5;28;43;01melse\u001b[39;49;00m\u001b[43m \u001b[49m\u001b[38;5;28;43;01mNone\u001b[39;49;00m\u001b[43m,\u001b[49m\n\u001b[32m   1442\u001b[39m \u001b[43m        \u001b[49m\u001b[43m*\u001b[49m\u001b[43m*\u001b[49m\u001b[43mtool_run_kwargs\u001b[49m\u001b[43m,\u001b[49m\n\u001b[32m   1443\u001b[39m \u001b[43m    \u001b[49m\u001b[43m)\u001b[49m\n\u001b[32m   1444\u001b[39m \u001b[38;5;28;01melse\u001b[39;00m:\n\u001b[32m   1445\u001b[39m     tool_run_kwargs = \u001b[38;5;28mself\u001b[39m._action_agent.tool_run_logging_kwargs()\n",
      "\u001b[36mFile \u001b[39m\u001b[32mc:\\Users\\MSI\\anaconda3\\envs\\lcnenv\\Lib\\site-packages\\langchain_core\\tools\\base.py:771\u001b[39m, in \u001b[36mBaseTool.run\u001b[39m\u001b[34m(self, tool_input, verbose, start_color, color, callbacks, tags, metadata, run_name, run_id, config, tool_call_id, **kwargs)\u001b[39m\n\u001b[32m    769\u001b[39m \u001b[38;5;28;01mif\u001b[39;00m error_to_raise:\n\u001b[32m    770\u001b[39m     run_manager.on_tool_error(error_to_raise)\n\u001b[32m--> \u001b[39m\u001b[32m771\u001b[39m     \u001b[38;5;28;01mraise\u001b[39;00m error_to_raise\n\u001b[32m    772\u001b[39m output = _format_output(content, artifact, tool_call_id, \u001b[38;5;28mself\u001b[39m.name, status)\n\u001b[32m    773\u001b[39m run_manager.on_tool_end(output, color=color, name=\u001b[38;5;28mself\u001b[39m.name, **kwargs)\n",
      "\u001b[36mFile \u001b[39m\u001b[32mc:\\Users\\MSI\\anaconda3\\envs\\lcnenv\\Lib\\site-packages\\langchain_core\\tools\\base.py:733\u001b[39m, in \u001b[36mBaseTool.run\u001b[39m\u001b[34m(self, tool_input, verbose, start_color, color, callbacks, tags, metadata, run_name, run_id, config, tool_call_id, **kwargs)\u001b[39m\n\u001b[32m    731\u001b[39m child_config = patch_config(config, callbacks=run_manager.get_child())\n\u001b[32m    732\u001b[39m \u001b[38;5;28;01mwith\u001b[39;00m set_config_context(child_config) \u001b[38;5;28;01mas\u001b[39;00m context:\n\u001b[32m--> \u001b[39m\u001b[32m733\u001b[39m     tool_args, tool_kwargs = \u001b[38;5;28;43mself\u001b[39;49m\u001b[43m.\u001b[49m\u001b[43m_to_args_and_kwargs\u001b[49m\u001b[43m(\u001b[49m\n\u001b[32m    734\u001b[39m \u001b[43m        \u001b[49m\u001b[43mtool_input\u001b[49m\u001b[43m,\u001b[49m\u001b[43m \u001b[49m\u001b[43mtool_call_id\u001b[49m\n\u001b[32m    735\u001b[39m \u001b[43m    \u001b[49m\u001b[43m)\u001b[49m\n\u001b[32m    736\u001b[39m     \u001b[38;5;28;01mif\u001b[39;00m signature(\u001b[38;5;28mself\u001b[39m._run).parameters.get(\u001b[33m\"\u001b[39m\u001b[33mrun_manager\u001b[39m\u001b[33m\"\u001b[39m):\n\u001b[32m    737\u001b[39m         tool_kwargs = tool_kwargs | {\u001b[33m\"\u001b[39m\u001b[33mrun_manager\u001b[39m\u001b[33m\"\u001b[39m: run_manager}\n",
      "\u001b[36mFile \u001b[39m\u001b[32mc:\\Users\\MSI\\anaconda3\\envs\\lcnenv\\Lib\\site-packages\\langchain_core\\tools\\base.py:648\u001b[39m, in \u001b[36mBaseTool._to_args_and_kwargs\u001b[39m\u001b[34m(self, tool_input, tool_call_id)\u001b[39m\n\u001b[32m    640\u001b[39m \u001b[38;5;28;01mif\u001b[39;00m (\n\u001b[32m    641\u001b[39m     \u001b[38;5;28mself\u001b[39m.args_schema \u001b[38;5;129;01mis\u001b[39;00m \u001b[38;5;129;01mnot\u001b[39;00m \u001b[38;5;28;01mNone\u001b[39;00m\n\u001b[32m    642\u001b[39m     \u001b[38;5;129;01mand\u001b[39;00m \u001b[38;5;28misinstance\u001b[39m(\u001b[38;5;28mself\u001b[39m.args_schema, \u001b[38;5;28mtype\u001b[39m)\n\u001b[32m   (...)\u001b[39m\u001b[32m    645\u001b[39m ):\n\u001b[32m    646\u001b[39m     \u001b[38;5;66;03m# StructuredTool with no args\u001b[39;00m\n\u001b[32m    647\u001b[39m     \u001b[38;5;28;01mreturn\u001b[39;00m (), {}\n\u001b[32m--> \u001b[39m\u001b[32m648\u001b[39m tool_input = \u001b[38;5;28;43mself\u001b[39;49m\u001b[43m.\u001b[49m\u001b[43m_parse_input\u001b[49m\u001b[43m(\u001b[49m\u001b[43mtool_input\u001b[49m\u001b[43m,\u001b[49m\u001b[43m \u001b[49m\u001b[43mtool_call_id\u001b[49m\u001b[43m)\u001b[49m\n\u001b[32m    649\u001b[39m \u001b[38;5;66;03m# For backwards compatibility, if run_input is a string,\u001b[39;00m\n\u001b[32m    650\u001b[39m \u001b[38;5;66;03m# pass as a positional argument.\u001b[39;00m\n\u001b[32m    651\u001b[39m \u001b[38;5;28;01mif\u001b[39;00m \u001b[38;5;28misinstance\u001b[39m(tool_input, \u001b[38;5;28mstr\u001b[39m):\n",
      "\u001b[36mFile \u001b[39m\u001b[32mc:\\Users\\MSI\\anaconda3\\envs\\lcnenv\\Lib\\site-packages\\langchain_core\\tools\\base.py:544\u001b[39m, in \u001b[36mBaseTool._parse_input\u001b[39m\u001b[34m(self, tool_input, tool_call_id)\u001b[39m\n\u001b[32m    542\u001b[39m key_ = \u001b[38;5;28mnext\u001b[39m(\u001b[38;5;28miter\u001b[39m(get_fields(input_args).keys()))\n\u001b[32m    543\u001b[39m \u001b[38;5;28;01mif\u001b[39;00m \u001b[38;5;28mhasattr\u001b[39m(input_args, \u001b[33m\"\u001b[39m\u001b[33mmodel_validate\u001b[39m\u001b[33m\"\u001b[39m):\n\u001b[32m--> \u001b[39m\u001b[32m544\u001b[39m     \u001b[43minput_args\u001b[49m\u001b[43m.\u001b[49m\u001b[43mmodel_validate\u001b[49m\u001b[43m(\u001b[49m\u001b[43m{\u001b[49m\u001b[43mkey_\u001b[49m\u001b[43m:\u001b[49m\u001b[43m \u001b[49m\u001b[43mtool_input\u001b[49m\u001b[43m}\u001b[49m\u001b[43m)\u001b[49m\n\u001b[32m    545\u001b[39m \u001b[38;5;28;01melse\u001b[39;00m:\n\u001b[32m    546\u001b[39m     input_args.parse_obj({key_: tool_input})\n",
      "\u001b[36mFile \u001b[39m\u001b[32mc:\\Users\\MSI\\anaconda3\\envs\\lcnenv\\Lib\\site-packages\\pydantic\\main.py:703\u001b[39m, in \u001b[36mBaseModel.model_validate\u001b[39m\u001b[34m(cls, obj, strict, from_attributes, context, by_alias, by_name)\u001b[39m\n\u001b[32m    697\u001b[39m \u001b[38;5;28;01mif\u001b[39;00m by_alias \u001b[38;5;129;01mis\u001b[39;00m \u001b[38;5;28;01mFalse\u001b[39;00m \u001b[38;5;129;01mand\u001b[39;00m by_name \u001b[38;5;129;01mis\u001b[39;00m \u001b[38;5;129;01mnot\u001b[39;00m \u001b[38;5;28;01mTrue\u001b[39;00m:\n\u001b[32m    698\u001b[39m     \u001b[38;5;28;01mraise\u001b[39;00m PydanticUserError(\n\u001b[32m    699\u001b[39m         \u001b[33m'\u001b[39m\u001b[33mAt least one of `by_alias` or `by_name` must be set to True.\u001b[39m\u001b[33m'\u001b[39m,\n\u001b[32m    700\u001b[39m         code=\u001b[33m'\u001b[39m\u001b[33mvalidate-by-alias-and-name-false\u001b[39m\u001b[33m'\u001b[39m,\n\u001b[32m    701\u001b[39m     )\n\u001b[32m--> \u001b[39m\u001b[32m703\u001b[39m \u001b[38;5;28;01mreturn\u001b[39;00m \u001b[38;5;28;43mcls\u001b[39;49m\u001b[43m.\u001b[49m\u001b[43m__pydantic_validator__\u001b[49m\u001b[43m.\u001b[49m\u001b[43mvalidate_python\u001b[49m\u001b[43m(\u001b[49m\n\u001b[32m    704\u001b[39m \u001b[43m    \u001b[49m\u001b[43mobj\u001b[49m\u001b[43m,\u001b[49m\u001b[43m \u001b[49m\u001b[43mstrict\u001b[49m\u001b[43m=\u001b[49m\u001b[43mstrict\u001b[49m\u001b[43m,\u001b[49m\u001b[43m \u001b[49m\u001b[43mfrom_attributes\u001b[49m\u001b[43m=\u001b[49m\u001b[43mfrom_attributes\u001b[49m\u001b[43m,\u001b[49m\u001b[43m \u001b[49m\u001b[43mcontext\u001b[49m\u001b[43m=\u001b[49m\u001b[43mcontext\u001b[49m\u001b[43m,\u001b[49m\u001b[43m \u001b[49m\u001b[43mby_alias\u001b[49m\u001b[43m=\u001b[49m\u001b[43mby_alias\u001b[49m\u001b[43m,\u001b[49m\u001b[43m \u001b[49m\u001b[43mby_name\u001b[49m\u001b[43m=\u001b[49m\u001b[43mby_name\u001b[49m\n\u001b[32m    705\u001b[39m \u001b[43m\u001b[49m\u001b[43m)\u001b[49m\n",
      "\u001b[31mValidationError\u001b[39m: 2 validation errors for exponentiate\nbase\n  Input should be a valid integer, unable to parse string as an integer [type=int_parsing, input_value='52, 12', input_type=str]\n    For further information visit https://errors.pydantic.dev/2.11/v/int_parsing\nexponent\n  Field required [type=missing, input_value={'base': '52, 12'}, input_type=dict]\n    For further information visit https://errors.pydantic.dev/2.11/v/missing"
     ]
    }
   ],
   "source": [
    "responseMultiTool=multiAgentExecutor.invoke(input={\"input\":multiPrompt})\n",
    "responseMultiTool"
   ]
  },
  {
   "cell_type": "markdown",
   "id": "450ff7f0-01c7-4db6-ab0a-093a119588b7",
   "metadata": {},
   "source": [
    "<h3>Structured Chat (Capable of Taking MultiInput Tools)</h3>"
   ]
  },
  {
   "cell_type": "code",
   "execution_count": 29,
   "id": "a0dbf726-46d7-4dd0-a9b4-7a5147fb2469",
   "metadata": {},
   "outputs": [],
   "source": [
    "prompt=hub.pull(owner_repo_commit=\"hwchase17/structured-chat-agent\")     "
   ]
  },
  {
   "cell_type": "code",
   "execution_count": 30,
   "id": "863c5bf7-0314-4005-aa4e-1e7d169a482b",
   "metadata": {},
   "outputs": [
    {
     "data": {
      "text/plain": [
       "[SystemMessagePromptTemplate(prompt=PromptTemplate(input_variables=['tool_names', 'tools'], input_types={}, partial_variables={}, template='Respond to the human as helpfully and accurately as possible. You have access to the following tools:\\n\\n{tools}\\n\\nUse a json blob to specify a tool by providing an action key (tool name) and an action_input key (tool input).\\n\\nValid \"action\" values: \"Final Answer\" or {tool_names}\\n\\nProvide only ONE action per $JSON_BLOB, as shown:\\n\\n```\\n{{\\n  \"action\": $TOOL_NAME,\\n  \"action_input\": $INPUT\\n}}\\n```\\n\\nFollow this format:\\n\\nQuestion: input question to answer\\nThought: consider previous and subsequent steps\\nAction:\\n```\\n$JSON_BLOB\\n```\\nObservation: action result\\n... (repeat Thought/Action/Observation N times)\\nThought: I know what to respond\\nAction:\\n```\\n{{\\n  \"action\": \"Final Answer\",\\n  \"action_input\": \"Final response to human\"\\n}}\\n\\nBegin! Reminder to ALWAYS respond with a valid json blob of a single action. Use tools if necessary. Respond directly if appropriate. Format is Action:```$JSON_BLOB```then Observation'), additional_kwargs={}),\n",
       " MessagesPlaceholder(variable_name='chat_history', optional=True),\n",
       " HumanMessagePromptTemplate(prompt=PromptTemplate(input_variables=['agent_scratchpad', 'input'], input_types={}, partial_variables={}, template='{input}\\n\\n{agent_scratchpad}\\n (reminder to respond in a JSON blob no matter what)'), additional_kwargs={})]"
      ]
     },
     "execution_count": 30,
     "metadata": {},
     "output_type": "execute_result"
    }
   ],
   "source": [
    "prompt.messages"
   ]
  },
  {
   "cell_type": "code",
   "execution_count": 31,
   "id": "8db9e254-acda-4c28-9c11-ccc053440977",
   "metadata": {},
   "outputs": [],
   "source": [
    "agent=create_structured_chat_agent(llm=llmOpenAI,tools=tools,prompt=prompt)\n",
    "agentExecutor=AgentExecutor(agent=agent,tools=tools,verbose=True)\n",
    "\n",
    "multiInputAgent=create_structured_chat_agent(llm=llmOpenAI,tools=multiInputTools,prompt=prompt)\n",
    "multiAgentExecutor=AgentExecutor(agent=multiInputAgent,tools=multiInputTools,verbose=True)"
   ]
  },
  {
   "cell_type": "code",
   "execution_count": 32,
   "id": "bb3afb3e-8a0c-423a-97c5-371437d2b85e",
   "metadata": {
    "scrolled": true
   },
   "outputs": [
    {
     "name": "stdout",
     "output_type": "stream",
     "text": [
      "\n",
      "\n",
      "\u001b[1m> Entering new AgentExecutor chain...\u001b[0m\n",
      "\u001b[32;1m\u001b[1;3mThought: I need to find current and accurate information about Lawrence Bishnoi.\n",
      "Action:\n",
      "```json\n",
      "{\n",
      "  \"action\": \"tavily_search_results\",\n",
      "  \"action_input\": {\"query\": \"Lawrence Bishnoi\"}\n",
      "}\n",
      "```\u001b[0m\u001b[36;1m\u001b[1;3m[{'title': 'Lawrence Bishnoi - Wikipedia', 'url': 'https://en.wikipedia.org/wiki/Lawrence_Bishnoi', 'content': 'Lawrence Bishnoi (born Balkaran Brar; 12 February 1993) is an Indian gangster who attained notoriety as the boss of the \"Bishnoi gang\", which is reportedly linked to over 700 shooters operating across the world. Bishnoi has been imprisoned since 2014 and faces multiple criminal charges, including those for extortion and murder, however he has denied all allegations.\\n\\n## Early life and education [...] Wikipedia\\nThe Free Encyclopedia\\n\\n## Contents\\n\\n# Lawrence Bishnoi\\n\\nPage semi-protected\\n\\n| Lawrence Bishnoi | |\\n| --- | --- |\\n| Born | Balkaran Brar   (1993-02-12) 12 February 1993 (age 32)  Fazilka district, Punjab, India |\\n| Alma mater | DAV College (B.A.)  Panjab University (LL.B) |\\n| Years active | 2010–present |\\n| Judicial status | Imprisoned |\\n|  | |\\n| Details | |\\n| States | Punjab Rajasthan Haryana |\\n|  | | [...] Lawrence Bishnoi was born as Balkaran Brar on 12 February 1993 in the village of Dutarawali in Fazilka district. His father, a former constable in the Haryana Police, left the force in 1997 and took up farming. Bishnoi completed his early education in Abohar, Punjab, before moving to Chandigarh in 2010 to attend DAV College.', 'score': 0.9392538}, {'title': 'Lawrence Bishnoi: The Indian gangster pulling strings from jail - BBC News', 'url': 'https://www.bbc.co.uk/news/articles/c4gqyxwl27no', 'content': 'The Canadian police were referring to Lawrence Bishnoi, a 31-year-old gangster from India, now back in the spotlight domestically and internationally.', 'score': 0.82895297}]\u001b[0m\u001b[32;1m\u001b[1;3mThought: I have found relevant information about Lawrence Bishnoi, including details about his background and criminal activities.\n",
      "Action:\n",
      "```json\n",
      "{\n",
      "  \"action\": \"Final Answer\",\n",
      "  \"action_input\": \"Lawrence Bishnoi, born Balkaran Brar on February 12, 1993, is an Indian gangster known for being the boss of the 'Bishnoi gang.' He is linked to over 700 shooters globally and has faced multiple criminal charges, including extortion and murder, although he denies all allegations. Bishnoi has been imprisoned since 2014 and is currently considered a significant figure in organized crime in India.\"\n",
      "}\n",
      "```\u001b[0m\n",
      "\n",
      "\u001b[1m> Finished chain.\u001b[0m\n"
     ]
    },
    {
     "data": {
      "text/plain": [
       "{'input': 'Who is Lawrence Bishnoi?',\n",
       " 'output': \"Lawrence Bishnoi, born Balkaran Brar on February 12, 1993, is an Indian gangster known for being the boss of the 'Bishnoi gang.' He is linked to over 700 shooters globally and has faced multiple criminal charges, including extortion and murder, although he denies all allegations. Bishnoi has been imprisoned since 2014 and is currently considered a significant figure in organized crime in India.\"}"
      ]
     },
     "execution_count": 32,
     "metadata": {},
     "output_type": "execute_result"
    }
   ],
   "source": [
    "responseSingleTool=agentExecutor.invoke(input={\"input\":singlePrompt})\n",
    "responseSingleTool"
   ]
  },
  {
   "cell_type": "code",
   "execution_count": 33,
   "id": "cf327037-a641-4ab4-9b4b-d630a5e5ebcf",
   "metadata": {
    "scrolled": true
   },
   "outputs": [
    {
     "name": "stdout",
     "output_type": "stream",
     "text": [
      "\n",
      "\n",
      "\u001b[1m> Entering new AgentExecutor chain...\u001b[0m\n",
      "\u001b[32;1m\u001b[1;3mThought: To find Sachin Tendulkar's age as of today, I need to look up his birth date and calculate his current age. Then I'll use the exponentiation tool to raise his age to the power of 12.\n",
      "\n",
      "Action:\n",
      "```\n",
      "{\n",
      "  \"action\": \"tavily_search_results\",\n",
      "  \"action_input\": {\n",
      "    \"description\": \"Sachin Tendulkar birthdate and current age\",\n",
      "    \"title\": \"Query\",\n",
      "    \"type\": \"string\"\n",
      "  }\n",
      "}\n",
      "```\u001b[0m"
     ]
    },
    {
     "ename": "ValidationError",
     "evalue": "1 validation error for TavilyInput\nquery\n  Field required [type=missing, input_value={'description': 'Sachin T...uery', 'type': 'string'}, input_type=dict]\n    For further information visit https://errors.pydantic.dev/2.11/v/missing",
     "output_type": "error",
     "traceback": [
      "\u001b[31m---------------------------------------------------------------------------\u001b[39m",
      "\u001b[31mValidationError\u001b[39m                           Traceback (most recent call last)",
      "\u001b[36mCell\u001b[39m\u001b[36m \u001b[39m\u001b[32mIn[33]\u001b[39m\u001b[32m, line 1\u001b[39m\n\u001b[32m----> \u001b[39m\u001b[32m1\u001b[39m responseMultiTool=\u001b[43mmultiAgentExecutor\u001b[49m\u001b[43m.\u001b[49m\u001b[43minvoke\u001b[49m\u001b[43m(\u001b[49m\u001b[38;5;28;43minput\u001b[39;49m\u001b[43m=\u001b[49m\u001b[43m{\u001b[49m\u001b[33;43m\"\u001b[39;49m\u001b[33;43minput\u001b[39;49m\u001b[33;43m\"\u001b[39;49m\u001b[43m:\u001b[49m\u001b[43mmultiPrompt\u001b[49m\u001b[43m}\u001b[49m\u001b[43m)\u001b[49m\n\u001b[32m      2\u001b[39m responseMultiTool\n",
      "\u001b[36mFile \u001b[39m\u001b[32mc:\\Users\\MSI\\anaconda3\\envs\\lcnenv\\Lib\\site-packages\\langchain\\chains\\base.py:170\u001b[39m, in \u001b[36mChain.invoke\u001b[39m\u001b[34m(self, input, config, **kwargs)\u001b[39m\n\u001b[32m    168\u001b[39m \u001b[38;5;28;01mexcept\u001b[39;00m \u001b[38;5;167;01mBaseException\u001b[39;00m \u001b[38;5;28;01mas\u001b[39;00m e:\n\u001b[32m    169\u001b[39m     run_manager.on_chain_error(e)\n\u001b[32m--> \u001b[39m\u001b[32m170\u001b[39m     \u001b[38;5;28;01mraise\u001b[39;00m e\n\u001b[32m    171\u001b[39m run_manager.on_chain_end(outputs)\n\u001b[32m    173\u001b[39m \u001b[38;5;28;01mif\u001b[39;00m include_run_info:\n",
      "\u001b[36mFile \u001b[39m\u001b[32mc:\\Users\\MSI\\anaconda3\\envs\\lcnenv\\Lib\\site-packages\\langchain\\chains\\base.py:160\u001b[39m, in \u001b[36mChain.invoke\u001b[39m\u001b[34m(self, input, config, **kwargs)\u001b[39m\n\u001b[32m    157\u001b[39m \u001b[38;5;28;01mtry\u001b[39;00m:\n\u001b[32m    158\u001b[39m     \u001b[38;5;28mself\u001b[39m._validate_inputs(inputs)\n\u001b[32m    159\u001b[39m     outputs = (\n\u001b[32m--> \u001b[39m\u001b[32m160\u001b[39m         \u001b[38;5;28;43mself\u001b[39;49m\u001b[43m.\u001b[49m\u001b[43m_call\u001b[49m\u001b[43m(\u001b[49m\u001b[43minputs\u001b[49m\u001b[43m,\u001b[49m\u001b[43m \u001b[49m\u001b[43mrun_manager\u001b[49m\u001b[43m=\u001b[49m\u001b[43mrun_manager\u001b[49m\u001b[43m)\u001b[49m\n\u001b[32m    161\u001b[39m         \u001b[38;5;28;01mif\u001b[39;00m new_arg_supported\n\u001b[32m    162\u001b[39m         \u001b[38;5;28;01melse\u001b[39;00m \u001b[38;5;28mself\u001b[39m._call(inputs)\n\u001b[32m    163\u001b[39m     )\n\u001b[32m    165\u001b[39m     final_outputs: Dict[\u001b[38;5;28mstr\u001b[39m, Any] = \u001b[38;5;28mself\u001b[39m.prep_outputs(\n\u001b[32m    166\u001b[39m         inputs, outputs, return_only_outputs\n\u001b[32m    167\u001b[39m     )\n\u001b[32m    168\u001b[39m \u001b[38;5;28;01mexcept\u001b[39;00m \u001b[38;5;167;01mBaseException\u001b[39;00m \u001b[38;5;28;01mas\u001b[39;00m e:\n",
      "\u001b[36mFile \u001b[39m\u001b[32mc:\\Users\\MSI\\anaconda3\\envs\\lcnenv\\Lib\\site-packages\\langchain\\agents\\agent.py:1624\u001b[39m, in \u001b[36mAgentExecutor._call\u001b[39m\u001b[34m(self, inputs, run_manager)\u001b[39m\n\u001b[32m   1622\u001b[39m \u001b[38;5;66;03m# We now enter the agent loop (until it returns something).\u001b[39;00m\n\u001b[32m   1623\u001b[39m \u001b[38;5;28;01mwhile\u001b[39;00m \u001b[38;5;28mself\u001b[39m._should_continue(iterations, time_elapsed):\n\u001b[32m-> \u001b[39m\u001b[32m1624\u001b[39m     next_step_output = \u001b[38;5;28;43mself\u001b[39;49m\u001b[43m.\u001b[49m\u001b[43m_take_next_step\u001b[49m\u001b[43m(\u001b[49m\n\u001b[32m   1625\u001b[39m \u001b[43m        \u001b[49m\u001b[43mname_to_tool_map\u001b[49m\u001b[43m,\u001b[49m\n\u001b[32m   1626\u001b[39m \u001b[43m        \u001b[49m\u001b[43mcolor_mapping\u001b[49m\u001b[43m,\u001b[49m\n\u001b[32m   1627\u001b[39m \u001b[43m        \u001b[49m\u001b[43minputs\u001b[49m\u001b[43m,\u001b[49m\n\u001b[32m   1628\u001b[39m \u001b[43m        \u001b[49m\u001b[43mintermediate_steps\u001b[49m\u001b[43m,\u001b[49m\n\u001b[32m   1629\u001b[39m \u001b[43m        \u001b[49m\u001b[43mrun_manager\u001b[49m\u001b[43m=\u001b[49m\u001b[43mrun_manager\u001b[49m\u001b[43m,\u001b[49m\n\u001b[32m   1630\u001b[39m \u001b[43m    \u001b[49m\u001b[43m)\u001b[49m\n\u001b[32m   1631\u001b[39m     \u001b[38;5;28;01mif\u001b[39;00m \u001b[38;5;28misinstance\u001b[39m(next_step_output, AgentFinish):\n\u001b[32m   1632\u001b[39m         \u001b[38;5;28;01mreturn\u001b[39;00m \u001b[38;5;28mself\u001b[39m._return(\n\u001b[32m   1633\u001b[39m             next_step_output, intermediate_steps, run_manager=run_manager\n\u001b[32m   1634\u001b[39m         )\n",
      "\u001b[36mFile \u001b[39m\u001b[32mc:\\Users\\MSI\\anaconda3\\envs\\lcnenv\\Lib\\site-packages\\langchain\\agents\\agent.py:1330\u001b[39m, in \u001b[36mAgentExecutor._take_next_step\u001b[39m\u001b[34m(self, name_to_tool_map, color_mapping, inputs, intermediate_steps, run_manager)\u001b[39m\n\u001b[32m   1321\u001b[39m \u001b[38;5;28;01mdef\u001b[39;00m\u001b[38;5;250m \u001b[39m\u001b[34m_take_next_step\u001b[39m(\n\u001b[32m   1322\u001b[39m     \u001b[38;5;28mself\u001b[39m,\n\u001b[32m   1323\u001b[39m     name_to_tool_map: Dict[\u001b[38;5;28mstr\u001b[39m, BaseTool],\n\u001b[32m   (...)\u001b[39m\u001b[32m   1327\u001b[39m     run_manager: Optional[CallbackManagerForChainRun] = \u001b[38;5;28;01mNone\u001b[39;00m,\n\u001b[32m   1328\u001b[39m ) -> Union[AgentFinish, List[Tuple[AgentAction, \u001b[38;5;28mstr\u001b[39m]]]:\n\u001b[32m   1329\u001b[39m     \u001b[38;5;28;01mreturn\u001b[39;00m \u001b[38;5;28mself\u001b[39m._consume_next_step(\n\u001b[32m-> \u001b[39m\u001b[32m1330\u001b[39m         \u001b[43m[\u001b[49m\n\u001b[32m   1331\u001b[39m \u001b[43m            \u001b[49m\u001b[43ma\u001b[49m\n\u001b[32m   1332\u001b[39m \u001b[43m            \u001b[49m\u001b[38;5;28;43;01mfor\u001b[39;49;00m\u001b[43m \u001b[49m\u001b[43ma\u001b[49m\u001b[43m \u001b[49m\u001b[38;5;129;43;01min\u001b[39;49;00m\u001b[43m \u001b[49m\u001b[38;5;28;43mself\u001b[39;49m\u001b[43m.\u001b[49m\u001b[43m_iter_next_step\u001b[49m\u001b[43m(\u001b[49m\n\u001b[32m   1333\u001b[39m \u001b[43m                \u001b[49m\u001b[43mname_to_tool_map\u001b[49m\u001b[43m,\u001b[49m\n\u001b[32m   1334\u001b[39m \u001b[43m                \u001b[49m\u001b[43mcolor_mapping\u001b[49m\u001b[43m,\u001b[49m\n\u001b[32m   1335\u001b[39m \u001b[43m                \u001b[49m\u001b[43minputs\u001b[49m\u001b[43m,\u001b[49m\n\u001b[32m   1336\u001b[39m \u001b[43m                \u001b[49m\u001b[43mintermediate_steps\u001b[49m\u001b[43m,\u001b[49m\n\u001b[32m   1337\u001b[39m \u001b[43m                \u001b[49m\u001b[43mrun_manager\u001b[49m\u001b[43m,\u001b[49m\n\u001b[32m   1338\u001b[39m \u001b[43m            \u001b[49m\u001b[43m)\u001b[49m\n\u001b[32m   1339\u001b[39m \u001b[43m        \u001b[49m\u001b[43m]\u001b[49m\n\u001b[32m   1340\u001b[39m     )\n",
      "\u001b[36mFile \u001b[39m\u001b[32mc:\\Users\\MSI\\anaconda3\\envs\\lcnenv\\Lib\\site-packages\\langchain\\agents\\agent.py:1330\u001b[39m, in \u001b[36m<listcomp>\u001b[39m\u001b[34m(.0)\u001b[39m\n\u001b[32m   1321\u001b[39m \u001b[38;5;28;01mdef\u001b[39;00m\u001b[38;5;250m \u001b[39m\u001b[34m_take_next_step\u001b[39m(\n\u001b[32m   1322\u001b[39m     \u001b[38;5;28mself\u001b[39m,\n\u001b[32m   1323\u001b[39m     name_to_tool_map: Dict[\u001b[38;5;28mstr\u001b[39m, BaseTool],\n\u001b[32m   (...)\u001b[39m\u001b[32m   1327\u001b[39m     run_manager: Optional[CallbackManagerForChainRun] = \u001b[38;5;28;01mNone\u001b[39;00m,\n\u001b[32m   1328\u001b[39m ) -> Union[AgentFinish, List[Tuple[AgentAction, \u001b[38;5;28mstr\u001b[39m]]]:\n\u001b[32m   1329\u001b[39m     \u001b[38;5;28;01mreturn\u001b[39;00m \u001b[38;5;28mself\u001b[39m._consume_next_step(\n\u001b[32m-> \u001b[39m\u001b[32m1330\u001b[39m         \u001b[43m[\u001b[49m\n\u001b[32m   1331\u001b[39m \u001b[43m            \u001b[49m\u001b[43ma\u001b[49m\n\u001b[32m   1332\u001b[39m \u001b[43m            \u001b[49m\u001b[38;5;28;43;01mfor\u001b[39;49;00m\u001b[43m \u001b[49m\u001b[43ma\u001b[49m\u001b[43m \u001b[49m\u001b[38;5;129;43;01min\u001b[39;49;00m\u001b[43m \u001b[49m\u001b[38;5;28;43mself\u001b[39;49m\u001b[43m.\u001b[49m\u001b[43m_iter_next_step\u001b[49m\u001b[43m(\u001b[49m\n\u001b[32m   1333\u001b[39m \u001b[43m                \u001b[49m\u001b[43mname_to_tool_map\u001b[49m\u001b[43m,\u001b[49m\n\u001b[32m   1334\u001b[39m \u001b[43m                \u001b[49m\u001b[43mcolor_mapping\u001b[49m\u001b[43m,\u001b[49m\n\u001b[32m   1335\u001b[39m \u001b[43m                \u001b[49m\u001b[43minputs\u001b[49m\u001b[43m,\u001b[49m\n\u001b[32m   1336\u001b[39m \u001b[43m                \u001b[49m\u001b[43mintermediate_steps\u001b[49m\u001b[43m,\u001b[49m\n\u001b[32m   1337\u001b[39m \u001b[43m                \u001b[49m\u001b[43mrun_manager\u001b[49m\u001b[43m,\u001b[49m\n\u001b[32m   1338\u001b[39m \u001b[43m            \u001b[49m\u001b[43m)\u001b[49m\n\u001b[32m   1339\u001b[39m \u001b[43m        \u001b[49m\u001b[43m]\u001b[49m\n\u001b[32m   1340\u001b[39m     )\n",
      "\u001b[36mFile \u001b[39m\u001b[32mc:\\Users\\MSI\\anaconda3\\envs\\lcnenv\\Lib\\site-packages\\langchain\\agents\\agent.py:1415\u001b[39m, in \u001b[36mAgentExecutor._iter_next_step\u001b[39m\u001b[34m(self, name_to_tool_map, color_mapping, inputs, intermediate_steps, run_manager)\u001b[39m\n\u001b[32m   1413\u001b[39m     \u001b[38;5;28;01myield\u001b[39;00m agent_action\n\u001b[32m   1414\u001b[39m \u001b[38;5;28;01mfor\u001b[39;00m agent_action \u001b[38;5;129;01min\u001b[39;00m actions:\n\u001b[32m-> \u001b[39m\u001b[32m1415\u001b[39m     \u001b[38;5;28;01myield\u001b[39;00m \u001b[38;5;28;43mself\u001b[39;49m\u001b[43m.\u001b[49m\u001b[43m_perform_agent_action\u001b[49m\u001b[43m(\u001b[49m\n\u001b[32m   1416\u001b[39m \u001b[43m        \u001b[49m\u001b[43mname_to_tool_map\u001b[49m\u001b[43m,\u001b[49m\u001b[43m \u001b[49m\u001b[43mcolor_mapping\u001b[49m\u001b[43m,\u001b[49m\u001b[43m \u001b[49m\u001b[43magent_action\u001b[49m\u001b[43m,\u001b[49m\u001b[43m \u001b[49m\u001b[43mrun_manager\u001b[49m\n\u001b[32m   1417\u001b[39m \u001b[43m    \u001b[49m\u001b[43m)\u001b[49m\n",
      "\u001b[36mFile \u001b[39m\u001b[32mc:\\Users\\MSI\\anaconda3\\envs\\lcnenv\\Lib\\site-packages\\langchain\\agents\\agent.py:1437\u001b[39m, in \u001b[36mAgentExecutor._perform_agent_action\u001b[39m\u001b[34m(self, name_to_tool_map, color_mapping, agent_action, run_manager)\u001b[39m\n\u001b[32m   1435\u001b[39m         tool_run_kwargs[\u001b[33m\"\u001b[39m\u001b[33mllm_prefix\u001b[39m\u001b[33m\"\u001b[39m] = \u001b[33m\"\u001b[39m\u001b[33m\"\u001b[39m\n\u001b[32m   1436\u001b[39m     \u001b[38;5;66;03m# We then call the tool on the tool input to get an observation\u001b[39;00m\n\u001b[32m-> \u001b[39m\u001b[32m1437\u001b[39m     observation = \u001b[43mtool\u001b[49m\u001b[43m.\u001b[49m\u001b[43mrun\u001b[49m\u001b[43m(\u001b[49m\n\u001b[32m   1438\u001b[39m \u001b[43m        \u001b[49m\u001b[43magent_action\u001b[49m\u001b[43m.\u001b[49m\u001b[43mtool_input\u001b[49m\u001b[43m,\u001b[49m\n\u001b[32m   1439\u001b[39m \u001b[43m        \u001b[49m\u001b[43mverbose\u001b[49m\u001b[43m=\u001b[49m\u001b[38;5;28;43mself\u001b[39;49m\u001b[43m.\u001b[49m\u001b[43mverbose\u001b[49m\u001b[43m,\u001b[49m\n\u001b[32m   1440\u001b[39m \u001b[43m        \u001b[49m\u001b[43mcolor\u001b[49m\u001b[43m=\u001b[49m\u001b[43mcolor\u001b[49m\u001b[43m,\u001b[49m\n\u001b[32m   1441\u001b[39m \u001b[43m        \u001b[49m\u001b[43mcallbacks\u001b[49m\u001b[43m=\u001b[49m\u001b[43mrun_manager\u001b[49m\u001b[43m.\u001b[49m\u001b[43mget_child\u001b[49m\u001b[43m(\u001b[49m\u001b[43m)\u001b[49m\u001b[43m \u001b[49m\u001b[38;5;28;43;01mif\u001b[39;49;00m\u001b[43m \u001b[49m\u001b[43mrun_manager\u001b[49m\u001b[43m \u001b[49m\u001b[38;5;28;43;01melse\u001b[39;49;00m\u001b[43m \u001b[49m\u001b[38;5;28;43;01mNone\u001b[39;49;00m\u001b[43m,\u001b[49m\n\u001b[32m   1442\u001b[39m \u001b[43m        \u001b[49m\u001b[43m*\u001b[49m\u001b[43m*\u001b[49m\u001b[43mtool_run_kwargs\u001b[49m\u001b[43m,\u001b[49m\n\u001b[32m   1443\u001b[39m \u001b[43m    \u001b[49m\u001b[43m)\u001b[49m\n\u001b[32m   1444\u001b[39m \u001b[38;5;28;01melse\u001b[39;00m:\n\u001b[32m   1445\u001b[39m     tool_run_kwargs = \u001b[38;5;28mself\u001b[39m._action_agent.tool_run_logging_kwargs()\n",
      "\u001b[36mFile \u001b[39m\u001b[32mc:\\Users\\MSI\\anaconda3\\envs\\lcnenv\\Lib\\site-packages\\langchain_core\\tools\\base.py:771\u001b[39m, in \u001b[36mBaseTool.run\u001b[39m\u001b[34m(self, tool_input, verbose, start_color, color, callbacks, tags, metadata, run_name, run_id, config, tool_call_id, **kwargs)\u001b[39m\n\u001b[32m    769\u001b[39m \u001b[38;5;28;01mif\u001b[39;00m error_to_raise:\n\u001b[32m    770\u001b[39m     run_manager.on_tool_error(error_to_raise)\n\u001b[32m--> \u001b[39m\u001b[32m771\u001b[39m     \u001b[38;5;28;01mraise\u001b[39;00m error_to_raise\n\u001b[32m    772\u001b[39m output = _format_output(content, artifact, tool_call_id, \u001b[38;5;28mself\u001b[39m.name, status)\n\u001b[32m    773\u001b[39m run_manager.on_tool_end(output, color=color, name=\u001b[38;5;28mself\u001b[39m.name, **kwargs)\n",
      "\u001b[36mFile \u001b[39m\u001b[32mc:\\Users\\MSI\\anaconda3\\envs\\lcnenv\\Lib\\site-packages\\langchain_core\\tools\\base.py:733\u001b[39m, in \u001b[36mBaseTool.run\u001b[39m\u001b[34m(self, tool_input, verbose, start_color, color, callbacks, tags, metadata, run_name, run_id, config, tool_call_id, **kwargs)\u001b[39m\n\u001b[32m    731\u001b[39m child_config = patch_config(config, callbacks=run_manager.get_child())\n\u001b[32m    732\u001b[39m \u001b[38;5;28;01mwith\u001b[39;00m set_config_context(child_config) \u001b[38;5;28;01mas\u001b[39;00m context:\n\u001b[32m--> \u001b[39m\u001b[32m733\u001b[39m     tool_args, tool_kwargs = \u001b[38;5;28;43mself\u001b[39;49m\u001b[43m.\u001b[49m\u001b[43m_to_args_and_kwargs\u001b[49m\u001b[43m(\u001b[49m\n\u001b[32m    734\u001b[39m \u001b[43m        \u001b[49m\u001b[43mtool_input\u001b[49m\u001b[43m,\u001b[49m\u001b[43m \u001b[49m\u001b[43mtool_call_id\u001b[49m\n\u001b[32m    735\u001b[39m \u001b[43m    \u001b[49m\u001b[43m)\u001b[49m\n\u001b[32m    736\u001b[39m     \u001b[38;5;28;01mif\u001b[39;00m signature(\u001b[38;5;28mself\u001b[39m._run).parameters.get(\u001b[33m\"\u001b[39m\u001b[33mrun_manager\u001b[39m\u001b[33m\"\u001b[39m):\n\u001b[32m    737\u001b[39m         tool_kwargs = tool_kwargs | {\u001b[33m\"\u001b[39m\u001b[33mrun_manager\u001b[39m\u001b[33m\"\u001b[39m: run_manager}\n",
      "\u001b[36mFile \u001b[39m\u001b[32mc:\\Users\\MSI\\anaconda3\\envs\\lcnenv\\Lib\\site-packages\\langchain_core\\tools\\base.py:648\u001b[39m, in \u001b[36mBaseTool._to_args_and_kwargs\u001b[39m\u001b[34m(self, tool_input, tool_call_id)\u001b[39m\n\u001b[32m    640\u001b[39m \u001b[38;5;28;01mif\u001b[39;00m (\n\u001b[32m    641\u001b[39m     \u001b[38;5;28mself\u001b[39m.args_schema \u001b[38;5;129;01mis\u001b[39;00m \u001b[38;5;129;01mnot\u001b[39;00m \u001b[38;5;28;01mNone\u001b[39;00m\n\u001b[32m    642\u001b[39m     \u001b[38;5;129;01mand\u001b[39;00m \u001b[38;5;28misinstance\u001b[39m(\u001b[38;5;28mself\u001b[39m.args_schema, \u001b[38;5;28mtype\u001b[39m)\n\u001b[32m   (...)\u001b[39m\u001b[32m    645\u001b[39m ):\n\u001b[32m    646\u001b[39m     \u001b[38;5;66;03m# StructuredTool with no args\u001b[39;00m\n\u001b[32m    647\u001b[39m     \u001b[38;5;28;01mreturn\u001b[39;00m (), {}\n\u001b[32m--> \u001b[39m\u001b[32m648\u001b[39m tool_input = \u001b[38;5;28;43mself\u001b[39;49m\u001b[43m.\u001b[49m\u001b[43m_parse_input\u001b[49m\u001b[43m(\u001b[49m\u001b[43mtool_input\u001b[49m\u001b[43m,\u001b[49m\u001b[43m \u001b[49m\u001b[43mtool_call_id\u001b[49m\u001b[43m)\u001b[49m\n\u001b[32m    649\u001b[39m \u001b[38;5;66;03m# For backwards compatibility, if run_input is a string,\u001b[39;00m\n\u001b[32m    650\u001b[39m \u001b[38;5;66;03m# pass as a positional argument.\u001b[39;00m\n\u001b[32m    651\u001b[39m \u001b[38;5;28;01mif\u001b[39;00m \u001b[38;5;28misinstance\u001b[39m(tool_input, \u001b[38;5;28mstr\u001b[39m):\n",
      "\u001b[36mFile \u001b[39m\u001b[32mc:\\Users\\MSI\\anaconda3\\envs\\lcnenv\\Lib\\site-packages\\langchain_core\\tools\\base.py:567\u001b[39m, in \u001b[36mBaseTool._parse_input\u001b[39m\u001b[34m(self, tool_input, tool_call_id)\u001b[39m\n\u001b[32m    565\u001b[39m                 \u001b[38;5;28;01mraise\u001b[39;00m \u001b[38;5;167;01mValueError\u001b[39;00m(msg)\n\u001b[32m    566\u001b[39m             tool_input[k] = tool_call_id\n\u001b[32m--> \u001b[39m\u001b[32m567\u001b[39m     result = \u001b[43minput_args\u001b[49m\u001b[43m.\u001b[49m\u001b[43mmodel_validate\u001b[49m\u001b[43m(\u001b[49m\u001b[43mtool_input\u001b[49m\u001b[43m)\u001b[49m\n\u001b[32m    568\u001b[39m     result_dict = result.model_dump()\n\u001b[32m    569\u001b[39m \u001b[38;5;28;01melif\u001b[39;00m \u001b[38;5;28missubclass\u001b[39m(input_args, BaseModelV1):\n",
      "\u001b[36mFile \u001b[39m\u001b[32mc:\\Users\\MSI\\anaconda3\\envs\\lcnenv\\Lib\\site-packages\\pydantic\\main.py:703\u001b[39m, in \u001b[36mBaseModel.model_validate\u001b[39m\u001b[34m(cls, obj, strict, from_attributes, context, by_alias, by_name)\u001b[39m\n\u001b[32m    697\u001b[39m \u001b[38;5;28;01mif\u001b[39;00m by_alias \u001b[38;5;129;01mis\u001b[39;00m \u001b[38;5;28;01mFalse\u001b[39;00m \u001b[38;5;129;01mand\u001b[39;00m by_name \u001b[38;5;129;01mis\u001b[39;00m \u001b[38;5;129;01mnot\u001b[39;00m \u001b[38;5;28;01mTrue\u001b[39;00m:\n\u001b[32m    698\u001b[39m     \u001b[38;5;28;01mraise\u001b[39;00m PydanticUserError(\n\u001b[32m    699\u001b[39m         \u001b[33m'\u001b[39m\u001b[33mAt least one of `by_alias` or `by_name` must be set to True.\u001b[39m\u001b[33m'\u001b[39m,\n\u001b[32m    700\u001b[39m         code=\u001b[33m'\u001b[39m\u001b[33mvalidate-by-alias-and-name-false\u001b[39m\u001b[33m'\u001b[39m,\n\u001b[32m    701\u001b[39m     )\n\u001b[32m--> \u001b[39m\u001b[32m703\u001b[39m \u001b[38;5;28;01mreturn\u001b[39;00m \u001b[38;5;28;43mcls\u001b[39;49m\u001b[43m.\u001b[49m\u001b[43m__pydantic_validator__\u001b[49m\u001b[43m.\u001b[49m\u001b[43mvalidate_python\u001b[49m\u001b[43m(\u001b[49m\n\u001b[32m    704\u001b[39m \u001b[43m    \u001b[49m\u001b[43mobj\u001b[49m\u001b[43m,\u001b[49m\u001b[43m \u001b[49m\u001b[43mstrict\u001b[49m\u001b[43m=\u001b[49m\u001b[43mstrict\u001b[49m\u001b[43m,\u001b[49m\u001b[43m \u001b[49m\u001b[43mfrom_attributes\u001b[49m\u001b[43m=\u001b[49m\u001b[43mfrom_attributes\u001b[49m\u001b[43m,\u001b[49m\u001b[43m \u001b[49m\u001b[43mcontext\u001b[49m\u001b[43m=\u001b[49m\u001b[43mcontext\u001b[49m\u001b[43m,\u001b[49m\u001b[43m \u001b[49m\u001b[43mby_alias\u001b[49m\u001b[43m=\u001b[49m\u001b[43mby_alias\u001b[49m\u001b[43m,\u001b[49m\u001b[43m \u001b[49m\u001b[43mby_name\u001b[49m\u001b[43m=\u001b[49m\u001b[43mby_name\u001b[49m\n\u001b[32m    705\u001b[39m \u001b[43m\u001b[49m\u001b[43m)\u001b[49m\n",
      "\u001b[31mValidationError\u001b[39m: 1 validation error for TavilyInput\nquery\n  Field required [type=missing, input_value={'description': 'Sachin T...uery', 'type': 'string'}, input_type=dict]\n    For further information visit https://errors.pydantic.dev/2.11/v/missing"
     ]
    }
   ],
   "source": [
    "responseMultiTool=multiAgentExecutor.invoke(input={\"input\":multiPrompt})\n",
    "responseMultiTool"
   ]
  },
  {
   "cell_type": "markdown",
   "id": "cda79aa2-bd0d-4174-8cc0-b235451a79c1",
   "metadata": {},
   "source": [
    "<h3>React Agent</h3>"
   ]
  },
  {
   "cell_type": "code",
   "execution_count": 34,
   "id": "c5fbe870-2e15-4781-bc08-85ffe9b6567b",
   "metadata": {},
   "outputs": [],
   "source": [
    "prompt=hub.pull(owner_repo_commit=\"hwchase17/react\")"
   ]
  },
  {
   "cell_type": "code",
   "execution_count": 35,
   "id": "d574873d-432c-4486-b021-6d6034cda57c",
   "metadata": {},
   "outputs": [
    {
     "data": {
      "text/plain": [
       "[PromptTemplate(input_variables=['agent_scratchpad', 'input', 'tool_names', 'tools'], input_types={}, partial_variables={}, metadata={'lc_hub_owner': 'hwchase17', 'lc_hub_repo': 'react', 'lc_hub_commit_hash': 'd15fe3c426f1c4b3f37c9198853e4a86e20c425ca7f4752ec0c9b0e97ca7ea4d'}, template='Answer the following questions as best you can. You have access to the following tools:\\n\\n{tools}\\n\\nUse the following format:\\n\\nQuestion: the input question you must answer\\nThought: you should always think about what to do\\nAction: the action to take, should be one of [{tool_names}]\\nAction Input: the input to the action\\nObservation: the result of the action\\n... (this Thought/Action/Action Input/Observation can repeat N times)\\nThought: I now know the final answer\\nFinal Answer: the final answer to the original input question\\n\\nBegin!\\n\\nQuestion: {input}\\nThought:{agent_scratchpad}')]"
      ]
     },
     "execution_count": 35,
     "metadata": {},
     "output_type": "execute_result"
    }
   ],
   "source": [
    "prompt.get_prompts()"
   ]
  },
  {
   "cell_type": "code",
   "execution_count": 36,
   "id": "cf759732-b6b5-4f35-ae99-a7ac0064c367",
   "metadata": {},
   "outputs": [],
   "source": [
    "agent=create_react_agent(llm=llmOpenAI,tools=tools,prompt=prompt)\n",
    "agentExecutor=AgentExecutor(agent=agent,tools=tools,verbose=True)\n",
    "\n",
    "multiInputAgent=create_react_agent(llm=llmOpenAI,tools=multiInputTools,prompt=prompt)\n",
    "multiAgentExecutor=AgentExecutor(agent=multiInputAgent,tools=multiInputTools,verbose=True)"
   ]
  },
  {
   "cell_type": "code",
   "execution_count": 37,
   "id": "49475a4a-8dad-47c8-a5b2-c30bac7a434b",
   "metadata": {
    "scrolled": true
   },
   "outputs": [
    {
     "name": "stdout",
     "output_type": "stream",
     "text": [
      "\n",
      "\n",
      "\u001b[1m> Entering new AgentExecutor chain...\u001b[0m\n",
      "\u001b[32;1m\u001b[1;3mLawrence Bishnoi is a person of interest in the news, likely related to criminal activities or significant events. I should search for current information to provide a detailed answer.  \n",
      "Action: tavily_search_results  \n",
      "Action Input: \"Lawrence Bishnoi 2023 news\"  \u001b[0m\u001b[36;1m\u001b[1;3m[{'title': 'Lawrence Bishnoi - Wikipedia', 'url': 'https://en.wikipedia.org/wiki/Lawrence_Bishnoi', 'content': \"On 21 September 2023, Bishnoi claimed responsibility for the killing of Sukhdool Singh Gill (also known as Sukha Duneke), a Khalistani separatist.. [...] ### Salman Khan Threat\\n\\nIn 2018, Bishnoi's associate Sampath Nehra attempted an attack on Salman Khan, linked to the 1998 blackbuck poaching case, as the Bishnoi gang considers the Blackbuck sacred. Bishnoi later issued direct threats against Khan, stating that Khan would be killed in Jodhpur.\\n\\nIn November 2023, Bishnoi claimed responsibility for a shooting at actor-singer Gippy Grewal's home due to his alleged association with Salman Khan. Grewal denied any friendship with Khan. [...] In 2021, Bishnoi was transferred to Tihar Jail in Delhi under charges related to the Maharashtra Control of Organised Crime Act (MCOCA). Authorities reported that Bishnoi was using Voice over IP (VoIP) calls to communicate with his associates. In August 2023, the Gujarat Anti-Terrorism Squad received custody of Bishnoi, citing a case of drug smuggling, and he was transferred to a high-security ward in the Sabarmati Central Jail.\\n\\n## Involvement in high-profile cases\", 'score': 0.8396422}, {'title': 'The life Lawrence Bishnoi leads in jail and the irony of his Sabarmati ...', 'url': 'https://www.newindianexpress.com/web-only/2024/Oct/23/the-life-lawrence-bishnoi-leads-in-jail-and-the-irony-of-his-sabarmati-connection', 'content': \"August 28, 2023: Bishnoi was moved to Gujarat's Sabarmati Jail, where he remains in custody. Investigation Findings: ATS revealed that wanted\", 'score': 0.83549726}]\u001b[0m\u001b[32;1m\u001b[1;3mLawrence Bishnoi is a significant figure in recent news, primarily associated with organized crime and high-profile incidents. From the latest information, he has been implicated in various criminal activities, including responsibility for the killing of Sukhdool Singh Gill (a Khalistani separatist) in September 2023. \n",
      "\n",
      "Bishnoi is connected to numerous instances of violence, including an attempted attack on Bollywood actor Salman Khan and a recent shooting at the home of actor-singer Gippy Grewal. His gang has a notable reverence for blackbucks, which has historically led to violent threats towards Salman Khan over his prior poaching case. As of November 2023, he is in custody in Sabarmati Central Jail and is being investigated for various charges, including drug smuggling and organized crime activities. \n",
      "\n",
      "He has made headlines not just for his criminal activities but also for the way he has continued to orchestrate actions while in jail, utilizing communication technology to maintain connections with his associates. \n",
      "\n",
      "Final Answer: Lawrence Bishnoi is a prominent figure in organized crime, recently known for claiming responsibility for high-profile killings and threats, and is currently incarcerated in Sabarmati Jail, facing multiple serious charges.\u001b[0m\n",
      "\n",
      "\u001b[1m> Finished chain.\u001b[0m\n"
     ]
    },
    {
     "data": {
      "text/plain": [
       "{'input': 'Who is Lawrence Bishnoi?',\n",
       " 'output': 'Lawrence Bishnoi is a prominent figure in organized crime, recently known for claiming responsibility for high-profile killings and threats, and is currently incarcerated in Sabarmati Jail, facing multiple serious charges.'}"
      ]
     },
     "execution_count": 37,
     "metadata": {},
     "output_type": "execute_result"
    }
   ],
   "source": [
    "responseSingleTool=agentExecutor.invoke(input={\"input\":singlePrompt})\n",
    "responseSingleTool"
   ]
  },
  {
   "cell_type": "code",
   "execution_count": 38,
   "id": "3854b042-beda-42bb-a205-d670dc4fdbb1",
   "metadata": {},
   "outputs": [
    {
     "name": "stdout",
     "output_type": "stream",
     "text": [
      "\n",
      "\n",
      "\u001b[1m> Entering new AgentExecutor chain...\u001b[0m\n",
      "\u001b[32;1m\u001b[1;3mI need to find out Sachin Tendulkar's current age to calculate his age to the power of 12. Since today is October 2, 2023, I will search for his birth date to compute his age accurately.\n",
      "\n",
      "Action: tavily_search_results  \n",
      "Action Input: \"Sachin Tendulkar birth date\"  \u001b[0m\u001b[36;1m\u001b[1;3m[{'title': 'Sachin Tendulkar - Wikipedia', 'url': 'https://en.wikipedia.org/wiki/Sachin_Tendulkar', 'content': 'Sachin Ramesh Tendulkar (/ˌsʌtʃɪn tɛnˈduːlkər/ ⓘ; Marathi: (/wiki/Help:IPA/Marathi \"Help:IPA/Marathi\"); born 24 April 1973) is an Indian former international cricketer who captained the Indian national team. He is widely regarded as one of the greatest cricketers of all time, and is the holder of several world records, including being the all-time highest run \"Run (cricket)\")-scorer in both ODI and Test cricket, receiving the most player of the match awards in international cricket, and being [...] |  |  |\\n| --- | --- |\\n| Tendulkar in 2017 | |\\n| Personal information | |\\n| Full name | Sachin Ramesh Tendulkar |\\n| Born | (1973-04-24) 24 April 1973 (age 52) Bombay, India |\\n| Nickname |  Little Master  Master Blaster  |\\n| Height | 165 cm (5 ft 5 in) |\\n| Batting | Right-handed |\\n| Bowling |  Right-arm leg break  Right-arm off break |\\n| Role | Top order Batter |\\n| Relations |  Ramesh Tendulkar (father)  Arjun Tendulkar (son) |\\n| Website | sachintendulkar.com |\\n| International information | | [...] Tendulkar was born at the Nirmal Nursing Home in the Dadar neighbourhood of Bombay, Maharashtra on 24 April 1973 into a Maharastrian family. His father, Ramesh Tendulkar, was a Marathi-language novelist and poet while his mother, Rajni, worked in the insurance industry. Tendulkar\\'s father named him after his favourite music director, Sachin Dev Burman. Tendulkar has three older siblings: two half-brothers Nitin and Ajit, and a half-sister Savita. They were his father\\'s children by his first', 'score': 0.94225764}, {'title': 'Sachin Tendulkar | Biography, Stats, & Facts - Britannica', 'url': 'https://www.britannica.com/biography/Sachin-Tendulkar', 'content': 'Sachin Tendulkar (born April 24, 1973, Bombay [Mumbai], India) is a former Indian professional cricket player, considered by many to be one of the greatest batters of all time. He is the leading run scorer in both Test cricket and one-day internationals (ODIs) and the first cricketer to score 100 centuries (100 runs in a single innings) in international cricket. Often compared to Australian great Don Bradman, Tendulkar became known for his confident stroke play off both the front and back foot.', 'score': 0.9317675}]\u001b[0m\u001b[32;1m\u001b[1;3mSachin Tendulkar was born on April 24, 1973. To determine his age as of today, October 2, 2023, I need to calculate the difference between these dates. \n",
      "\n",
      "First, I calculate his age:\n",
      "- From April 24, 1973, to April 24, 2023, he turned 50. \n",
      "- From April 24, 2023, to October 2, 2023, is an additional 5 months and 8 days, which means his age is now 50 years and a few months, still considered as 50 years for calculations.\n",
      "\n",
      "Now let's use the exponentiation tool to find his age raised to the power of 12. I will use the base as 50.\n",
      "\n",
      "Action: exponentiate  \n",
      "Action Input: (50, 12)  \u001b[0m"
     ]
    },
    {
     "ename": "ValidationError",
     "evalue": "2 validation errors for exponentiate\nbase\n  Input should be a valid integer, unable to parse string as an integer [type=int_parsing, input_value='(50, 12)', input_type=str]\n    For further information visit https://errors.pydantic.dev/2.11/v/int_parsing\nexponent\n  Field required [type=missing, input_value={'base': '(50, 12)'}, input_type=dict]\n    For further information visit https://errors.pydantic.dev/2.11/v/missing",
     "output_type": "error",
     "traceback": [
      "\u001b[31m---------------------------------------------------------------------------\u001b[39m",
      "\u001b[31mValidationError\u001b[39m                           Traceback (most recent call last)",
      "\u001b[36mCell\u001b[39m\u001b[36m \u001b[39m\u001b[32mIn[38]\u001b[39m\u001b[32m, line 1\u001b[39m\n\u001b[32m----> \u001b[39m\u001b[32m1\u001b[39m responseMultiTool=\u001b[43mmultiAgentExecutor\u001b[49m\u001b[43m.\u001b[49m\u001b[43minvoke\u001b[49m\u001b[43m(\u001b[49m\u001b[38;5;28;43minput\u001b[39;49m\u001b[43m=\u001b[49m\u001b[43m{\u001b[49m\u001b[33;43m\"\u001b[39;49m\u001b[33;43minput\u001b[39;49m\u001b[33;43m\"\u001b[39;49m\u001b[43m:\u001b[49m\u001b[43mmultiPrompt\u001b[49m\u001b[43m}\u001b[49m\u001b[43m)\u001b[49m\n\u001b[32m      2\u001b[39m responseMultiTool\n",
      "\u001b[36mFile \u001b[39m\u001b[32mc:\\Users\\MSI\\anaconda3\\envs\\lcnenv\\Lib\\site-packages\\langchain\\chains\\base.py:170\u001b[39m, in \u001b[36mChain.invoke\u001b[39m\u001b[34m(self, input, config, **kwargs)\u001b[39m\n\u001b[32m    168\u001b[39m \u001b[38;5;28;01mexcept\u001b[39;00m \u001b[38;5;167;01mBaseException\u001b[39;00m \u001b[38;5;28;01mas\u001b[39;00m e:\n\u001b[32m    169\u001b[39m     run_manager.on_chain_error(e)\n\u001b[32m--> \u001b[39m\u001b[32m170\u001b[39m     \u001b[38;5;28;01mraise\u001b[39;00m e\n\u001b[32m    171\u001b[39m run_manager.on_chain_end(outputs)\n\u001b[32m    173\u001b[39m \u001b[38;5;28;01mif\u001b[39;00m include_run_info:\n",
      "\u001b[36mFile \u001b[39m\u001b[32mc:\\Users\\MSI\\anaconda3\\envs\\lcnenv\\Lib\\site-packages\\langchain\\chains\\base.py:160\u001b[39m, in \u001b[36mChain.invoke\u001b[39m\u001b[34m(self, input, config, **kwargs)\u001b[39m\n\u001b[32m    157\u001b[39m \u001b[38;5;28;01mtry\u001b[39;00m:\n\u001b[32m    158\u001b[39m     \u001b[38;5;28mself\u001b[39m._validate_inputs(inputs)\n\u001b[32m    159\u001b[39m     outputs = (\n\u001b[32m--> \u001b[39m\u001b[32m160\u001b[39m         \u001b[38;5;28;43mself\u001b[39;49m\u001b[43m.\u001b[49m\u001b[43m_call\u001b[49m\u001b[43m(\u001b[49m\u001b[43minputs\u001b[49m\u001b[43m,\u001b[49m\u001b[43m \u001b[49m\u001b[43mrun_manager\u001b[49m\u001b[43m=\u001b[49m\u001b[43mrun_manager\u001b[49m\u001b[43m)\u001b[49m\n\u001b[32m    161\u001b[39m         \u001b[38;5;28;01mif\u001b[39;00m new_arg_supported\n\u001b[32m    162\u001b[39m         \u001b[38;5;28;01melse\u001b[39;00m \u001b[38;5;28mself\u001b[39m._call(inputs)\n\u001b[32m    163\u001b[39m     )\n\u001b[32m    165\u001b[39m     final_outputs: Dict[\u001b[38;5;28mstr\u001b[39m, Any] = \u001b[38;5;28mself\u001b[39m.prep_outputs(\n\u001b[32m    166\u001b[39m         inputs, outputs, return_only_outputs\n\u001b[32m    167\u001b[39m     )\n\u001b[32m    168\u001b[39m \u001b[38;5;28;01mexcept\u001b[39;00m \u001b[38;5;167;01mBaseException\u001b[39;00m \u001b[38;5;28;01mas\u001b[39;00m e:\n",
      "\u001b[36mFile \u001b[39m\u001b[32mc:\\Users\\MSI\\anaconda3\\envs\\lcnenv\\Lib\\site-packages\\langchain\\agents\\agent.py:1624\u001b[39m, in \u001b[36mAgentExecutor._call\u001b[39m\u001b[34m(self, inputs, run_manager)\u001b[39m\n\u001b[32m   1622\u001b[39m \u001b[38;5;66;03m# We now enter the agent loop (until it returns something).\u001b[39;00m\n\u001b[32m   1623\u001b[39m \u001b[38;5;28;01mwhile\u001b[39;00m \u001b[38;5;28mself\u001b[39m._should_continue(iterations, time_elapsed):\n\u001b[32m-> \u001b[39m\u001b[32m1624\u001b[39m     next_step_output = \u001b[38;5;28;43mself\u001b[39;49m\u001b[43m.\u001b[49m\u001b[43m_take_next_step\u001b[49m\u001b[43m(\u001b[49m\n\u001b[32m   1625\u001b[39m \u001b[43m        \u001b[49m\u001b[43mname_to_tool_map\u001b[49m\u001b[43m,\u001b[49m\n\u001b[32m   1626\u001b[39m \u001b[43m        \u001b[49m\u001b[43mcolor_mapping\u001b[49m\u001b[43m,\u001b[49m\n\u001b[32m   1627\u001b[39m \u001b[43m        \u001b[49m\u001b[43minputs\u001b[49m\u001b[43m,\u001b[49m\n\u001b[32m   1628\u001b[39m \u001b[43m        \u001b[49m\u001b[43mintermediate_steps\u001b[49m\u001b[43m,\u001b[49m\n\u001b[32m   1629\u001b[39m \u001b[43m        \u001b[49m\u001b[43mrun_manager\u001b[49m\u001b[43m=\u001b[49m\u001b[43mrun_manager\u001b[49m\u001b[43m,\u001b[49m\n\u001b[32m   1630\u001b[39m \u001b[43m    \u001b[49m\u001b[43m)\u001b[49m\n\u001b[32m   1631\u001b[39m     \u001b[38;5;28;01mif\u001b[39;00m \u001b[38;5;28misinstance\u001b[39m(next_step_output, AgentFinish):\n\u001b[32m   1632\u001b[39m         \u001b[38;5;28;01mreturn\u001b[39;00m \u001b[38;5;28mself\u001b[39m._return(\n\u001b[32m   1633\u001b[39m             next_step_output, intermediate_steps, run_manager=run_manager\n\u001b[32m   1634\u001b[39m         )\n",
      "\u001b[36mFile \u001b[39m\u001b[32mc:\\Users\\MSI\\anaconda3\\envs\\lcnenv\\Lib\\site-packages\\langchain\\agents\\agent.py:1330\u001b[39m, in \u001b[36mAgentExecutor._take_next_step\u001b[39m\u001b[34m(self, name_to_tool_map, color_mapping, inputs, intermediate_steps, run_manager)\u001b[39m\n\u001b[32m   1321\u001b[39m \u001b[38;5;28;01mdef\u001b[39;00m\u001b[38;5;250m \u001b[39m\u001b[34m_take_next_step\u001b[39m(\n\u001b[32m   1322\u001b[39m     \u001b[38;5;28mself\u001b[39m,\n\u001b[32m   1323\u001b[39m     name_to_tool_map: Dict[\u001b[38;5;28mstr\u001b[39m, BaseTool],\n\u001b[32m   (...)\u001b[39m\u001b[32m   1327\u001b[39m     run_manager: Optional[CallbackManagerForChainRun] = \u001b[38;5;28;01mNone\u001b[39;00m,\n\u001b[32m   1328\u001b[39m ) -> Union[AgentFinish, List[Tuple[AgentAction, \u001b[38;5;28mstr\u001b[39m]]]:\n\u001b[32m   1329\u001b[39m     \u001b[38;5;28;01mreturn\u001b[39;00m \u001b[38;5;28mself\u001b[39m._consume_next_step(\n\u001b[32m-> \u001b[39m\u001b[32m1330\u001b[39m         \u001b[43m[\u001b[49m\n\u001b[32m   1331\u001b[39m \u001b[43m            \u001b[49m\u001b[43ma\u001b[49m\n\u001b[32m   1332\u001b[39m \u001b[43m            \u001b[49m\u001b[38;5;28;43;01mfor\u001b[39;49;00m\u001b[43m \u001b[49m\u001b[43ma\u001b[49m\u001b[43m \u001b[49m\u001b[38;5;129;43;01min\u001b[39;49;00m\u001b[43m \u001b[49m\u001b[38;5;28;43mself\u001b[39;49m\u001b[43m.\u001b[49m\u001b[43m_iter_next_step\u001b[49m\u001b[43m(\u001b[49m\n\u001b[32m   1333\u001b[39m \u001b[43m                \u001b[49m\u001b[43mname_to_tool_map\u001b[49m\u001b[43m,\u001b[49m\n\u001b[32m   1334\u001b[39m \u001b[43m                \u001b[49m\u001b[43mcolor_mapping\u001b[49m\u001b[43m,\u001b[49m\n\u001b[32m   1335\u001b[39m \u001b[43m                \u001b[49m\u001b[43minputs\u001b[49m\u001b[43m,\u001b[49m\n\u001b[32m   1336\u001b[39m \u001b[43m                \u001b[49m\u001b[43mintermediate_steps\u001b[49m\u001b[43m,\u001b[49m\n\u001b[32m   1337\u001b[39m \u001b[43m                \u001b[49m\u001b[43mrun_manager\u001b[49m\u001b[43m,\u001b[49m\n\u001b[32m   1338\u001b[39m \u001b[43m            \u001b[49m\u001b[43m)\u001b[49m\n\u001b[32m   1339\u001b[39m \u001b[43m        \u001b[49m\u001b[43m]\u001b[49m\n\u001b[32m   1340\u001b[39m     )\n",
      "\u001b[36mFile \u001b[39m\u001b[32mc:\\Users\\MSI\\anaconda3\\envs\\lcnenv\\Lib\\site-packages\\langchain\\agents\\agent.py:1330\u001b[39m, in \u001b[36m<listcomp>\u001b[39m\u001b[34m(.0)\u001b[39m\n\u001b[32m   1321\u001b[39m \u001b[38;5;28;01mdef\u001b[39;00m\u001b[38;5;250m \u001b[39m\u001b[34m_take_next_step\u001b[39m(\n\u001b[32m   1322\u001b[39m     \u001b[38;5;28mself\u001b[39m,\n\u001b[32m   1323\u001b[39m     name_to_tool_map: Dict[\u001b[38;5;28mstr\u001b[39m, BaseTool],\n\u001b[32m   (...)\u001b[39m\u001b[32m   1327\u001b[39m     run_manager: Optional[CallbackManagerForChainRun] = \u001b[38;5;28;01mNone\u001b[39;00m,\n\u001b[32m   1328\u001b[39m ) -> Union[AgentFinish, List[Tuple[AgentAction, \u001b[38;5;28mstr\u001b[39m]]]:\n\u001b[32m   1329\u001b[39m     \u001b[38;5;28;01mreturn\u001b[39;00m \u001b[38;5;28mself\u001b[39m._consume_next_step(\n\u001b[32m-> \u001b[39m\u001b[32m1330\u001b[39m         \u001b[43m[\u001b[49m\n\u001b[32m   1331\u001b[39m \u001b[43m            \u001b[49m\u001b[43ma\u001b[49m\n\u001b[32m   1332\u001b[39m \u001b[43m            \u001b[49m\u001b[38;5;28;43;01mfor\u001b[39;49;00m\u001b[43m \u001b[49m\u001b[43ma\u001b[49m\u001b[43m \u001b[49m\u001b[38;5;129;43;01min\u001b[39;49;00m\u001b[43m \u001b[49m\u001b[38;5;28;43mself\u001b[39;49m\u001b[43m.\u001b[49m\u001b[43m_iter_next_step\u001b[49m\u001b[43m(\u001b[49m\n\u001b[32m   1333\u001b[39m \u001b[43m                \u001b[49m\u001b[43mname_to_tool_map\u001b[49m\u001b[43m,\u001b[49m\n\u001b[32m   1334\u001b[39m \u001b[43m                \u001b[49m\u001b[43mcolor_mapping\u001b[49m\u001b[43m,\u001b[49m\n\u001b[32m   1335\u001b[39m \u001b[43m                \u001b[49m\u001b[43minputs\u001b[49m\u001b[43m,\u001b[49m\n\u001b[32m   1336\u001b[39m \u001b[43m                \u001b[49m\u001b[43mintermediate_steps\u001b[49m\u001b[43m,\u001b[49m\n\u001b[32m   1337\u001b[39m \u001b[43m                \u001b[49m\u001b[43mrun_manager\u001b[49m\u001b[43m,\u001b[49m\n\u001b[32m   1338\u001b[39m \u001b[43m            \u001b[49m\u001b[43m)\u001b[49m\n\u001b[32m   1339\u001b[39m \u001b[43m        \u001b[49m\u001b[43m]\u001b[49m\n\u001b[32m   1340\u001b[39m     )\n",
      "\u001b[36mFile \u001b[39m\u001b[32mc:\\Users\\MSI\\anaconda3\\envs\\lcnenv\\Lib\\site-packages\\langchain\\agents\\agent.py:1415\u001b[39m, in \u001b[36mAgentExecutor._iter_next_step\u001b[39m\u001b[34m(self, name_to_tool_map, color_mapping, inputs, intermediate_steps, run_manager)\u001b[39m\n\u001b[32m   1413\u001b[39m     \u001b[38;5;28;01myield\u001b[39;00m agent_action\n\u001b[32m   1414\u001b[39m \u001b[38;5;28;01mfor\u001b[39;00m agent_action \u001b[38;5;129;01min\u001b[39;00m actions:\n\u001b[32m-> \u001b[39m\u001b[32m1415\u001b[39m     \u001b[38;5;28;01myield\u001b[39;00m \u001b[38;5;28;43mself\u001b[39;49m\u001b[43m.\u001b[49m\u001b[43m_perform_agent_action\u001b[49m\u001b[43m(\u001b[49m\n\u001b[32m   1416\u001b[39m \u001b[43m        \u001b[49m\u001b[43mname_to_tool_map\u001b[49m\u001b[43m,\u001b[49m\u001b[43m \u001b[49m\u001b[43mcolor_mapping\u001b[49m\u001b[43m,\u001b[49m\u001b[43m \u001b[49m\u001b[43magent_action\u001b[49m\u001b[43m,\u001b[49m\u001b[43m \u001b[49m\u001b[43mrun_manager\u001b[49m\n\u001b[32m   1417\u001b[39m \u001b[43m    \u001b[49m\u001b[43m)\u001b[49m\n",
      "\u001b[36mFile \u001b[39m\u001b[32mc:\\Users\\MSI\\anaconda3\\envs\\lcnenv\\Lib\\site-packages\\langchain\\agents\\agent.py:1437\u001b[39m, in \u001b[36mAgentExecutor._perform_agent_action\u001b[39m\u001b[34m(self, name_to_tool_map, color_mapping, agent_action, run_manager)\u001b[39m\n\u001b[32m   1435\u001b[39m         tool_run_kwargs[\u001b[33m\"\u001b[39m\u001b[33mllm_prefix\u001b[39m\u001b[33m\"\u001b[39m] = \u001b[33m\"\u001b[39m\u001b[33m\"\u001b[39m\n\u001b[32m   1436\u001b[39m     \u001b[38;5;66;03m# We then call the tool on the tool input to get an observation\u001b[39;00m\n\u001b[32m-> \u001b[39m\u001b[32m1437\u001b[39m     observation = \u001b[43mtool\u001b[49m\u001b[43m.\u001b[49m\u001b[43mrun\u001b[49m\u001b[43m(\u001b[49m\n\u001b[32m   1438\u001b[39m \u001b[43m        \u001b[49m\u001b[43magent_action\u001b[49m\u001b[43m.\u001b[49m\u001b[43mtool_input\u001b[49m\u001b[43m,\u001b[49m\n\u001b[32m   1439\u001b[39m \u001b[43m        \u001b[49m\u001b[43mverbose\u001b[49m\u001b[43m=\u001b[49m\u001b[38;5;28;43mself\u001b[39;49m\u001b[43m.\u001b[49m\u001b[43mverbose\u001b[49m\u001b[43m,\u001b[49m\n\u001b[32m   1440\u001b[39m \u001b[43m        \u001b[49m\u001b[43mcolor\u001b[49m\u001b[43m=\u001b[49m\u001b[43mcolor\u001b[49m\u001b[43m,\u001b[49m\n\u001b[32m   1441\u001b[39m \u001b[43m        \u001b[49m\u001b[43mcallbacks\u001b[49m\u001b[43m=\u001b[49m\u001b[43mrun_manager\u001b[49m\u001b[43m.\u001b[49m\u001b[43mget_child\u001b[49m\u001b[43m(\u001b[49m\u001b[43m)\u001b[49m\u001b[43m \u001b[49m\u001b[38;5;28;43;01mif\u001b[39;49;00m\u001b[43m \u001b[49m\u001b[43mrun_manager\u001b[49m\u001b[43m \u001b[49m\u001b[38;5;28;43;01melse\u001b[39;49;00m\u001b[43m \u001b[49m\u001b[38;5;28;43;01mNone\u001b[39;49;00m\u001b[43m,\u001b[49m\n\u001b[32m   1442\u001b[39m \u001b[43m        \u001b[49m\u001b[43m*\u001b[49m\u001b[43m*\u001b[49m\u001b[43mtool_run_kwargs\u001b[49m\u001b[43m,\u001b[49m\n\u001b[32m   1443\u001b[39m \u001b[43m    \u001b[49m\u001b[43m)\u001b[49m\n\u001b[32m   1444\u001b[39m \u001b[38;5;28;01melse\u001b[39;00m:\n\u001b[32m   1445\u001b[39m     tool_run_kwargs = \u001b[38;5;28mself\u001b[39m._action_agent.tool_run_logging_kwargs()\n",
      "\u001b[36mFile \u001b[39m\u001b[32mc:\\Users\\MSI\\anaconda3\\envs\\lcnenv\\Lib\\site-packages\\langchain_core\\tools\\base.py:771\u001b[39m, in \u001b[36mBaseTool.run\u001b[39m\u001b[34m(self, tool_input, verbose, start_color, color, callbacks, tags, metadata, run_name, run_id, config, tool_call_id, **kwargs)\u001b[39m\n\u001b[32m    769\u001b[39m \u001b[38;5;28;01mif\u001b[39;00m error_to_raise:\n\u001b[32m    770\u001b[39m     run_manager.on_tool_error(error_to_raise)\n\u001b[32m--> \u001b[39m\u001b[32m771\u001b[39m     \u001b[38;5;28;01mraise\u001b[39;00m error_to_raise\n\u001b[32m    772\u001b[39m output = _format_output(content, artifact, tool_call_id, \u001b[38;5;28mself\u001b[39m.name, status)\n\u001b[32m    773\u001b[39m run_manager.on_tool_end(output, color=color, name=\u001b[38;5;28mself\u001b[39m.name, **kwargs)\n",
      "\u001b[36mFile \u001b[39m\u001b[32mc:\\Users\\MSI\\anaconda3\\envs\\lcnenv\\Lib\\site-packages\\langchain_core\\tools\\base.py:733\u001b[39m, in \u001b[36mBaseTool.run\u001b[39m\u001b[34m(self, tool_input, verbose, start_color, color, callbacks, tags, metadata, run_name, run_id, config, tool_call_id, **kwargs)\u001b[39m\n\u001b[32m    731\u001b[39m child_config = patch_config(config, callbacks=run_manager.get_child())\n\u001b[32m    732\u001b[39m \u001b[38;5;28;01mwith\u001b[39;00m set_config_context(child_config) \u001b[38;5;28;01mas\u001b[39;00m context:\n\u001b[32m--> \u001b[39m\u001b[32m733\u001b[39m     tool_args, tool_kwargs = \u001b[38;5;28;43mself\u001b[39;49m\u001b[43m.\u001b[49m\u001b[43m_to_args_and_kwargs\u001b[49m\u001b[43m(\u001b[49m\n\u001b[32m    734\u001b[39m \u001b[43m        \u001b[49m\u001b[43mtool_input\u001b[49m\u001b[43m,\u001b[49m\u001b[43m \u001b[49m\u001b[43mtool_call_id\u001b[49m\n\u001b[32m    735\u001b[39m \u001b[43m    \u001b[49m\u001b[43m)\u001b[49m\n\u001b[32m    736\u001b[39m     \u001b[38;5;28;01mif\u001b[39;00m signature(\u001b[38;5;28mself\u001b[39m._run).parameters.get(\u001b[33m\"\u001b[39m\u001b[33mrun_manager\u001b[39m\u001b[33m\"\u001b[39m):\n\u001b[32m    737\u001b[39m         tool_kwargs = tool_kwargs | {\u001b[33m\"\u001b[39m\u001b[33mrun_manager\u001b[39m\u001b[33m\"\u001b[39m: run_manager}\n",
      "\u001b[36mFile \u001b[39m\u001b[32mc:\\Users\\MSI\\anaconda3\\envs\\lcnenv\\Lib\\site-packages\\langchain_core\\tools\\base.py:648\u001b[39m, in \u001b[36mBaseTool._to_args_and_kwargs\u001b[39m\u001b[34m(self, tool_input, tool_call_id)\u001b[39m\n\u001b[32m    640\u001b[39m \u001b[38;5;28;01mif\u001b[39;00m (\n\u001b[32m    641\u001b[39m     \u001b[38;5;28mself\u001b[39m.args_schema \u001b[38;5;129;01mis\u001b[39;00m \u001b[38;5;129;01mnot\u001b[39;00m \u001b[38;5;28;01mNone\u001b[39;00m\n\u001b[32m    642\u001b[39m     \u001b[38;5;129;01mand\u001b[39;00m \u001b[38;5;28misinstance\u001b[39m(\u001b[38;5;28mself\u001b[39m.args_schema, \u001b[38;5;28mtype\u001b[39m)\n\u001b[32m   (...)\u001b[39m\u001b[32m    645\u001b[39m ):\n\u001b[32m    646\u001b[39m     \u001b[38;5;66;03m# StructuredTool with no args\u001b[39;00m\n\u001b[32m    647\u001b[39m     \u001b[38;5;28;01mreturn\u001b[39;00m (), {}\n\u001b[32m--> \u001b[39m\u001b[32m648\u001b[39m tool_input = \u001b[38;5;28;43mself\u001b[39;49m\u001b[43m.\u001b[49m\u001b[43m_parse_input\u001b[49m\u001b[43m(\u001b[49m\u001b[43mtool_input\u001b[49m\u001b[43m,\u001b[49m\u001b[43m \u001b[49m\u001b[43mtool_call_id\u001b[49m\u001b[43m)\u001b[49m\n\u001b[32m    649\u001b[39m \u001b[38;5;66;03m# For backwards compatibility, if run_input is a string,\u001b[39;00m\n\u001b[32m    650\u001b[39m \u001b[38;5;66;03m# pass as a positional argument.\u001b[39;00m\n\u001b[32m    651\u001b[39m \u001b[38;5;28;01mif\u001b[39;00m \u001b[38;5;28misinstance\u001b[39m(tool_input, \u001b[38;5;28mstr\u001b[39m):\n",
      "\u001b[36mFile \u001b[39m\u001b[32mc:\\Users\\MSI\\anaconda3\\envs\\lcnenv\\Lib\\site-packages\\langchain_core\\tools\\base.py:544\u001b[39m, in \u001b[36mBaseTool._parse_input\u001b[39m\u001b[34m(self, tool_input, tool_call_id)\u001b[39m\n\u001b[32m    542\u001b[39m key_ = \u001b[38;5;28mnext\u001b[39m(\u001b[38;5;28miter\u001b[39m(get_fields(input_args).keys()))\n\u001b[32m    543\u001b[39m \u001b[38;5;28;01mif\u001b[39;00m \u001b[38;5;28mhasattr\u001b[39m(input_args, \u001b[33m\"\u001b[39m\u001b[33mmodel_validate\u001b[39m\u001b[33m\"\u001b[39m):\n\u001b[32m--> \u001b[39m\u001b[32m544\u001b[39m     \u001b[43minput_args\u001b[49m\u001b[43m.\u001b[49m\u001b[43mmodel_validate\u001b[49m\u001b[43m(\u001b[49m\u001b[43m{\u001b[49m\u001b[43mkey_\u001b[49m\u001b[43m:\u001b[49m\u001b[43m \u001b[49m\u001b[43mtool_input\u001b[49m\u001b[43m}\u001b[49m\u001b[43m)\u001b[49m\n\u001b[32m    545\u001b[39m \u001b[38;5;28;01melse\u001b[39;00m:\n\u001b[32m    546\u001b[39m     input_args.parse_obj({key_: tool_input})\n",
      "\u001b[36mFile \u001b[39m\u001b[32mc:\\Users\\MSI\\anaconda3\\envs\\lcnenv\\Lib\\site-packages\\pydantic\\main.py:703\u001b[39m, in \u001b[36mBaseModel.model_validate\u001b[39m\u001b[34m(cls, obj, strict, from_attributes, context, by_alias, by_name)\u001b[39m\n\u001b[32m    697\u001b[39m \u001b[38;5;28;01mif\u001b[39;00m by_alias \u001b[38;5;129;01mis\u001b[39;00m \u001b[38;5;28;01mFalse\u001b[39;00m \u001b[38;5;129;01mand\u001b[39;00m by_name \u001b[38;5;129;01mis\u001b[39;00m \u001b[38;5;129;01mnot\u001b[39;00m \u001b[38;5;28;01mTrue\u001b[39;00m:\n\u001b[32m    698\u001b[39m     \u001b[38;5;28;01mraise\u001b[39;00m PydanticUserError(\n\u001b[32m    699\u001b[39m         \u001b[33m'\u001b[39m\u001b[33mAt least one of `by_alias` or `by_name` must be set to True.\u001b[39m\u001b[33m'\u001b[39m,\n\u001b[32m    700\u001b[39m         code=\u001b[33m'\u001b[39m\u001b[33mvalidate-by-alias-and-name-false\u001b[39m\u001b[33m'\u001b[39m,\n\u001b[32m    701\u001b[39m     )\n\u001b[32m--> \u001b[39m\u001b[32m703\u001b[39m \u001b[38;5;28;01mreturn\u001b[39;00m \u001b[38;5;28;43mcls\u001b[39;49m\u001b[43m.\u001b[49m\u001b[43m__pydantic_validator__\u001b[49m\u001b[43m.\u001b[49m\u001b[43mvalidate_python\u001b[49m\u001b[43m(\u001b[49m\n\u001b[32m    704\u001b[39m \u001b[43m    \u001b[49m\u001b[43mobj\u001b[49m\u001b[43m,\u001b[49m\u001b[43m \u001b[49m\u001b[43mstrict\u001b[49m\u001b[43m=\u001b[49m\u001b[43mstrict\u001b[49m\u001b[43m,\u001b[49m\u001b[43m \u001b[49m\u001b[43mfrom_attributes\u001b[49m\u001b[43m=\u001b[49m\u001b[43mfrom_attributes\u001b[49m\u001b[43m,\u001b[49m\u001b[43m \u001b[49m\u001b[43mcontext\u001b[49m\u001b[43m=\u001b[49m\u001b[43mcontext\u001b[49m\u001b[43m,\u001b[49m\u001b[43m \u001b[49m\u001b[43mby_alias\u001b[49m\u001b[43m=\u001b[49m\u001b[43mby_alias\u001b[49m\u001b[43m,\u001b[49m\u001b[43m \u001b[49m\u001b[43mby_name\u001b[49m\u001b[43m=\u001b[49m\u001b[43mby_name\u001b[49m\n\u001b[32m    705\u001b[39m \u001b[43m\u001b[49m\u001b[43m)\u001b[49m\n",
      "\u001b[31mValidationError\u001b[39m: 2 validation errors for exponentiate\nbase\n  Input should be a valid integer, unable to parse string as an integer [type=int_parsing, input_value='(50, 12)', input_type=str]\n    For further information visit https://errors.pydantic.dev/2.11/v/int_parsing\nexponent\n  Field required [type=missing, input_value={'base': '(50, 12)'}, input_type=dict]\n    For further information visit https://errors.pydantic.dev/2.11/v/missing"
     ]
    }
   ],
   "source": [
    "responseMultiTool=multiAgentExecutor.invoke(input={\"input\":multiPrompt})\n",
    "responseMultiTool"
   ]
  },
  {
   "cell_type": "code",
   "execution_count": null,
   "id": "ac07071c-ded7-4c7f-87c5-06fd67f24679",
   "metadata": {},
   "outputs": [],
   "source": []
  }
 ],
 "metadata": {
  "kernelspec": {
   "display_name": "lcnenv",
   "language": "python",
   "name": "python3"
  },
  "language_info": {
   "codemirror_mode": {
    "name": "ipython",
    "version": 3
   },
   "file_extension": ".py",
   "mimetype": "text/x-python",
   "name": "python",
   "nbconvert_exporter": "python",
   "pygments_lexer": "ipython3",
   "version": "3.11.11"
  }
 },
 "nbformat": 4,
 "nbformat_minor": 5
}
