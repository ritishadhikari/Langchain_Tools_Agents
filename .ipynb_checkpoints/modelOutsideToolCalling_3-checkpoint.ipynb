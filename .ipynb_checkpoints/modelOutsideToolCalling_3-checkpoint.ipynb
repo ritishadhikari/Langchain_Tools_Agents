{
 "cells": [
  {
   "cell_type": "code",
   "execution_count": 48,
   "id": "2119b609-18cb-4d07-8876-52934bf26d43",
   "metadata": {},
   "outputs": [],
   "source": [
    "from langchain.agents import AgentExecutor, create_tool_calling_agent\n",
    "from langchain_core.runnables import RunnablePassthrough,RunnableLambda, Runnable, RunnableParallel\n",
    "from langchain_core.messages import AIMessage\n",
    "from dotenv import load_dotenv,find_dotenv\n",
    "from langchain_google_genai import ChatGoogleGenerativeAI\n",
    "from langchain_openai import ChatOpenAI\n",
    "from langchain.tools.render import render_text_description\n",
    "from langchain.tools import tool\n",
    "from langchain_core.prompts import ChatPromptTemplate,SystemMessagePromptTemplate, HumanMessagePromptTemplate\n",
    "from langchain_core.output_parsers import JsonOutputParser\n",
    "from operator import itemgetter"
   ]
  },
  {
   "cell_type": "code",
   "execution_count": 12,
   "id": "13f6e6d8-156a-4a77-a37d-600e03c41b44",
   "metadata": {},
   "outputs": [
    {
     "data": {
      "text/plain": [
       "True"
      ]
     },
     "execution_count": 12,
     "metadata": {},
     "output_type": "execute_result"
    }
   ],
   "source": [
    "load_dotenv(find_dotenv(\"D:\\LLM Courses\\Master Langchain Udemy\\.env\"))"
   ]
  },
  {
   "cell_type": "code",
   "execution_count": 13,
   "id": "0b98c9bc-fe3d-4f4d-a1ca-286b13b92910",
   "metadata": {},
   "outputs": [],
   "source": [
    "llm=ChatGoogleGenerativeAI(model=\"gemini-1.5-flash\")"
   ]
  },
  {
   "cell_type": "code",
   "execution_count": 14,
   "id": "b57de4a1-706c-4768-89a8-ec3a43acbad9",
   "metadata": {},
   "outputs": [],
   "source": [
    "@tool\n",
    "def multiply(firstInt:int, secondInt: int) -> int:\n",
    "    \"\"\"\n",
    "        Multiply two integers togather\n",
    "    \"\"\"\n",
    "    return firstInt*secondInt\n",
    "\n",
    "@tool\n",
    "def add(firstInt:int, secondInt: int) -> int:\n",
    "    \"\"\"\n",
    "        Add two integers togather\n",
    "    \"\"\"\n",
    "    return firstInt+secondInt\n",
    "\n",
    "@tool \n",
    "def exponentiate (base:int, exponent:int) -> int:\n",
    "    \"\"\"\n",
    "        Exponentiate the base to the exponent power\n",
    "    \"\"\"\n",
    "    return base**exponent   "
   ]
  },
  {
   "cell_type": "code",
   "execution_count": 15,
   "id": "0e5a0514-e61e-4d73-85c8-4fff311f4cb6",
   "metadata": {},
   "outputs": [],
   "source": [
    "renderTools=render_text_description(tools=[multiply,add,exponentiate])"
   ]
  },
  {
   "cell_type": "code",
   "execution_count": 17,
   "id": "1be8b4d8-bd90-47b8-b952-2185d86ac912",
   "metadata": {},
   "outputs": [
    {
     "name": "stdout",
     "output_type": "stream",
     "text": [
      "multiply(firstInt: int, secondInt: int) -> int - Multiply two integers togather\n",
      "add(firstInt: int, secondInt: int) -> int - Add two integers togather\n",
      "exponentiate(base: int, exponent: int) -> int - Exponentiate the base to the exponent power\n"
     ]
    }
   ],
   "source": [
    "print(renderTools)"
   ]
  },
  {
   "cell_type": "code",
   "execution_count": 20,
   "id": "31dfba1b-122f-46b1-9efc-1a229cc90c61",
   "metadata": {},
   "outputs": [],
   "source": [
    "system=SystemMessagePromptTemplate.from_template(template=\n",
    "                                                \"\"\"\n",
    "                                                    You are an assistant that has access to the following set of tools. \n",
    "                                                    Here are the names and descriptions for each tool:\n",
    "\n",
    "                                                    {renderedTools}\n",
    "\n",
    "                                                    Given the user input, return the name and input of the tool to use.\n",
    "                                                    Return your response as a JSON blob with 'name' and 'arguments' keys\n",
    "                                                    \n",
    "                                                \"\"\"\n",
    "                                                ).format(renderedTools=renderTools)\n",
    "\n",
    "user=HumanMessagePromptTemplate.from_template(template=\"\"\"\n",
    "                                            {input}\n",
    "                                        \"\"\")"
   ]
  },
  {
   "cell_type": "code",
   "execution_count": 21,
   "id": "62c7bec9-ff60-4c1c-a876-78e81602d087",
   "metadata": {},
   "outputs": [],
   "source": [
    "prompt=ChatPromptTemplate.from_messages(messages=[\n",
    "                                                    system,\n",
    "                                                    user\n",
    "                                                ])"
   ]
  },
  {
   "cell_type": "code",
   "execution_count": 22,
   "id": "55ac1b5b-49c7-4717-be21-04c6277ef717",
   "metadata": {},
   "outputs": [],
   "source": [
    "chain=prompt |llm"
   ]
  },
  {
   "cell_type": "code",
   "execution_count": 65,
   "id": "a4ecba51-ba47-4221-b33d-2b7f572baa83",
   "metadata": {},
   "outputs": [],
   "source": [
    "question=\"What is Thirteen times 4 plus twelve times 2\""
   ]
  },
  {
   "cell_type": "code",
   "execution_count": 29,
   "id": "c6393743-ebed-4812-b492-8b45e440794d",
   "metadata": {},
   "outputs": [],
   "source": [
    "response=chain.invoke(input={'input':question})"
   ]
  },
  {
   "cell_type": "code",
   "execution_count": 30,
   "id": "6257eab6-022d-4969-9443-105736099447",
   "metadata": {},
   "outputs": [
    {
     "name": "stdout",
     "output_type": "stream",
     "text": [
      "==================================\u001b[1m Ai Message \u001b[0m==================================\n",
      "\n",
      "```json\n",
      "{\n",
      " \"name\": \"add\",\n",
      " \"arguments\": {\n",
      "  \"firstInt\": 52,\n",
      "  \"secondInt\": 24\n",
      " }\n",
      "}\n",
      "```\n"
     ]
    }
   ],
   "source": [
    "response.pretty_print()"
   ]
  },
  {
   "cell_type": "code",
   "execution_count": 32,
   "id": "8f3f8d8d-4049-4b9e-8730-c98f97780b37",
   "metadata": {},
   "outputs": [],
   "source": [
    "chain=prompt |llm | JsonOutputParser()"
   ]
  },
  {
   "cell_type": "code",
   "execution_count": 33,
   "id": "0c71e953-8833-47c3-84aa-3250e19150d8",
   "metadata": {},
   "outputs": [
    {
     "data": {
      "text/plain": [
       "{'name': 'add', 'arguments': {'firstInt': 52, 'secondInt': 24}}"
      ]
     },
     "execution_count": 33,
     "metadata": {},
     "output_type": "execute_result"
    }
   ],
   "source": [
    "chain.invoke(input={'input':question})"
   ]
  },
  {
   "cell_type": "markdown",
   "id": "a36f9a03-a2bc-4e22-b118-79fe02d0d1bf",
   "metadata": {},
   "source": [
    "### Invoking the Output through Tool Chain"
   ]
  },
  {
   "cell_type": "code",
   "execution_count": 66,
   "id": "380dc02a-4389-4a56-a20e-b01d94868a27",
   "metadata": {},
   "outputs": [],
   "source": [
    "tools=[add,multiply,exponentiate]"
   ]
  },
  {
   "cell_type": "code",
   "execution_count": 71,
   "id": "c653ae24-dab1-4d08-baeb-526038c958da",
   "metadata": {},
   "outputs": [],
   "source": [
    "def toolCalls(msg:AIMessage) -> Runnable:\n",
    "    toolMap={tool.name:tool for tool in tools}\n",
    "    chosenTool=toolMap[msg['name']]\n",
    "    # return itemgetter('arguments') | chosenTool\n",
    "    return chosenTool.invoke(input=msg['arguments'])"
   ]
  },
  {
   "cell_type": "code",
   "execution_count": 72,
   "id": "662f94d0-2186-4ef8-8dd6-12f106c6c998",
   "metadata": {},
   "outputs": [],
   "source": [
    "chains=prompt | llm | JsonOutputParser() | toolCalls"
   ]
  },
  {
   "cell_type": "code",
   "execution_count": 73,
   "id": "1173efbd-86b7-43c5-9c05-504da1cdfabc",
   "metadata": {},
   "outputs": [
    {
     "data": {
      "text/plain": [
       "{'name': 'add', 'arguments': {'firstInt': 52, 'secondInt': 24}}"
      ]
     },
     "execution_count": 73,
     "metadata": {},
     "output_type": "execute_result"
    }
   ],
   "source": [
    "chain.invoke(input={'input':question})"
   ]
  },
  {
   "cell_type": "code",
   "execution_count": 74,
   "id": "815d2e55-1b81-45e7-a6ba-3c8803581c62",
   "metadata": {},
   "outputs": [
    {
     "data": {
      "text/plain": [
       "76"
      ]
     },
     "execution_count": 74,
     "metadata": {},
     "output_type": "execute_result"
    }
   ],
   "source": [
    "chains.invoke(input={\"input\":question})"
   ]
  },
  {
   "cell_type": "markdown",
   "id": "7263091c-ed0a-48bf-8b81-ac67e9680289",
   "metadata": {},
   "source": [
    "<h3>Outputing Results along with the input</h3>"
   ]
  },
  {
   "cell_type": "code",
   "execution_count": 77,
   "id": "577b3e4b-5ccf-411b-9bf9-be6f7dd12b55",
   "metadata": {},
   "outputs": [],
   "source": [
    "chains=prompt | llm | JsonOutputParser() | RunnablePassthrough().assign(output=toolCalls)"
   ]
  },
  {
   "cell_type": "code",
   "execution_count": 78,
   "id": "c855f44c-a7f6-4e0d-ab0d-02c24b95da80",
   "metadata": {},
   "outputs": [
    {
     "data": {
      "text/plain": [
       "{'name': 'add', 'arguments': {'firstInt': 52, 'secondInt': 24}, 'output': 76}"
      ]
     },
     "execution_count": 78,
     "metadata": {},
     "output_type": "execute_result"
    }
   ],
   "source": [
    "chains.invoke(input={\"input\":question})"
   ]
  },
  {
   "cell_type": "code",
   "execution_count": null,
   "id": "9b2e4065-eb79-4af8-94d5-4ce9ce7227cc",
   "metadata": {},
   "outputs": [],
   "source": []
  }
 ],
 "metadata": {
  "kernelspec": {
   "display_name": "Python 3 (ipykernel)",
   "language": "python",
   "name": "python3"
  },
  "language_info": {
   "codemirror_mode": {
    "name": "ipython",
    "version": 3
   },
   "file_extension": ".py",
   "mimetype": "text/x-python",
   "name": "python",
   "nbconvert_exporter": "python",
   "pygments_lexer": "ipython3",
   "version": "3.11.9"
  }
 },
 "nbformat": 4,
 "nbformat_minor": 5
}
