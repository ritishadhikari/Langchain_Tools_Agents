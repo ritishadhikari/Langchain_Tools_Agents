{
 "cells": [
  {
   "cell_type": "code",
   "execution_count": 8,
   "id": "7cb99a60-a12a-4949-a22c-9d975e16e517",
   "metadata": {},
   "outputs": [],
   "source": [
    "from langchain.agents import AgentExecutor, create_tool_calling_agent\n",
    "from langchain_core.runnables import RunnablePassthrough,RunnableLambda, Runnable, RunnableParallel,RunnableConfig\n",
    "from langchain_core.messages import AIMessage\n",
    "from dotenv import load_dotenv,find_dotenv\n",
    "from langchain_google_genai import ChatGoogleGenerativeAI\n",
    "from langchain_openai import ChatOpenAI\n",
    "from langchain.tools.render import render_text_description\n",
    "from langchain.tools import tool\n",
    "from langchain_core.prompts import ChatPromptTemplate,SystemMessagePromptTemplate, HumanMessagePromptTemplate\n",
    "from langchain_core.output_parsers import JsonOutputParser\n",
    "from operator import itemgetter\n",
    "import json"
   ]
  },
  {
   "cell_type": "code",
   "execution_count": 2,
   "id": "8ac1767d-c9b4-46a2-b876-956e275c5133",
   "metadata": {},
   "outputs": [
    {
     "data": {
      "text/plain": [
       "True"
      ]
     },
     "execution_count": 2,
     "metadata": {},
     "output_type": "execute_result"
    }
   ],
   "source": [
    "load_dotenv(find_dotenv(\"D:\\LLM Courses\\Master Langchain Udemy\\.env\"))"
   ]
  },
  {
   "cell_type": "code",
   "execution_count": 54,
   "id": "f1c1afaf-ba0b-44e4-b56c-74205b0c295d",
   "metadata": {},
   "outputs": [],
   "source": [
    "llm=ChatGoogleGenerativeAI(model=\"gemini-1.5-flash\")\n",
    "llm=ChatOpenAI(model=\"gpt-3.5-turbo\")"
   ]
  },
  {
   "cell_type": "code",
   "execution_count": 17,
   "id": "dc47a15f-63ba-404d-b30f-19ab1b345bb0",
   "metadata": {},
   "outputs": [],
   "source": [
    "@tool\n",
    "def complexTool(intArg: int, floatArg: float, dictArg: dict) -> int:\n",
    "    \"\"\"\n",
    "        Do something complex with a complex tool\n",
    "    \"\"\"\n",
    "    return intArg*floatArg"
   ]
  },
  {
   "cell_type": "code",
   "execution_count": 18,
   "id": "532c92db-fcc8-43f7-8bc2-91f9237b67f8",
   "metadata": {},
   "outputs": [],
   "source": [
    "llmWithTools=llm.bind_tools(tools=[complexTool])"
   ]
  },
  {
   "cell_type": "code",
   "execution_count": 19,
   "id": "455dff02-59a2-4936-aa73-cb3f9e901292",
   "metadata": {},
   "outputs": [],
   "source": [
    "question=\"Use Complex Tool. The args are 5, 2.1 and an empty dictionary. Don't forget dict_arg\""
   ]
  },
  {
   "cell_type": "code",
   "execution_count": 20,
   "id": "d29c5119-742a-420e-9f18-0987a2956d62",
   "metadata": {},
   "outputs": [
    {
     "data": {
      "text/plain": [
       "AIMessage(content='', additional_kwargs={'tool_calls': [{'id': 'call_oOQS3pI0mUJFSMq4BjgHK2ba', 'function': {'arguments': '{\"intArg\":5,\"floatArg\":2.1,\"dictArg\":{}}', 'name': 'complexTool'}, 'type': 'function'}]}, response_metadata={'token_usage': {'completion_tokens': 28, 'prompt_tokens': 76, 'total_tokens': 104, 'completion_tokens_details': {'reasoning_tokens': 0}}, 'model_name': 'gpt-3.5-turbo', 'system_fingerprint': None, 'finish_reason': 'tool_calls', 'logprobs': None}, id='run-2c1eb147-53e7-4198-a187-39fe2e13eecd-0', tool_calls=[{'name': 'complexTool', 'args': {'intArg': 5, 'floatArg': 2.1, 'dictArg': {}}, 'id': 'call_oOQS3pI0mUJFSMq4BjgHK2ba', 'type': 'tool_call'}])"
      ]
     },
     "execution_count": 20,
     "metadata": {},
     "output_type": "execute_result"
    }
   ],
   "source": [
    "llmWithTools.invoke(input=question)"
   ]
  },
  {
   "cell_type": "code",
   "execution_count": 24,
   "id": "476f6952-0eb4-4704-b546-b3de7ec60b99",
   "metadata": {},
   "outputs": [],
   "source": [
    "chain=llmWithTools|RunnableLambda(lambda msg: msg.tool_calls[0]['args'])|complexTool"
   ]
  },
  {
   "cell_type": "code",
   "execution_count": 25,
   "id": "e6b8c600-b98b-4eeb-b7ab-4bbf06e45a52",
   "metadata": {},
   "outputs": [
    {
     "data": {
      "text/plain": [
       "10.5"
      ]
     },
     "execution_count": 25,
     "metadata": {},
     "output_type": "execute_result"
    }
   ],
   "source": [
    "chain.invoke(input=question)"
   ]
  },
  {
   "cell_type": "markdown",
   "id": "3ecf69b3-e3ea-45dd-a6af-3c205d158801",
   "metadata": {},
   "source": [
    "<h3> Try Except Tool Call</h3>"
   ]
  },
  {
   "cell_type": "code",
   "execution_count": 51,
   "id": "793df999-87af-42ec-a29e-3567d9e5ffb0",
   "metadata": {},
   "outputs": [],
   "source": [
    "def tryExceptToolCall(toolArgs: dict, config=RunnableConfig) -> Runnable:\n",
    "    try:\n",
    "        return complexTool.invoke(\n",
    "            input=toolArgs,\n",
    "            config=RunnableConfig\n",
    "        )\n",
    "    except Exception as e:\n",
    "        return f\"{toolArgs}:{type(e)}:{e}\"\n",
    "        return f\"Calling Tool with Arguments \\n\\n{toolArgs}\\n\\nraised the following error\\n\\n{type(e):e}\""
   ]
  },
  {
   "cell_type": "code",
   "execution_count": 52,
   "id": "be941c22-9f30-4b6f-86e0-d1fbd9fed8d2",
   "metadata": {},
   "outputs": [],
   "source": [
    "chain=llmWithTools|RunnableLambda(lambda msg: msg.tool_calls[0]['args'])|tryExceptToolCall "
   ]
  },
  {
   "cell_type": "code",
   "execution_count": 53,
   "id": "4e7f04a4-0e74-4da4-8508-f66af29dcd87",
   "metadata": {},
   "outputs": [
    {
     "data": {
      "text/plain": [
       "\"{'intArg': 5, 'floatArg': 2.1}:<class 'TypeError'>:unbound method dict.items() needs an argument\""
      ]
     },
     "execution_count": 53,
     "metadata": {},
     "output_type": "execute_result"
    }
   ],
   "source": [
    "chain.invoke(input=question)"
   ]
  },
  {
   "cell_type": "markdown",
   "id": "57dc4d8d-e7d1-43fc-97d8-c87b54e96e6c",
   "metadata": {},
   "source": [
    "<h3> Falling to a Better Model (Fallbacks) </h3>"
   ]
  },
  {
   "cell_type": "code",
   "execution_count": 55,
   "id": "0ab107ba-fef1-4e12-a8f4-cc51854bce7d",
   "metadata": {},
   "outputs": [],
   "source": [
    "llm=ChatGoogleGenerativeAI(model=\"gemini-1.5-flash\")\n",
    "betterllm=ChatOpenAI(model=\"gpt-3.5-turbo\")"
   ]
  },
  {
   "cell_type": "code",
   "execution_count": 56,
   "id": "75a0d32a-2817-427a-8157-10085546c8f6",
   "metadata": {},
   "outputs": [],
   "source": [
    "llmWithTools=llm.bind_tools(tools=[complexTool])\n",
    "betterllmWithTools=betterllm.bind_tools(tools=[complexTool])"
   ]
  },
  {
   "cell_type": "code",
   "execution_count": 58,
   "id": "01cc9337-52d8-48c3-8e42-d1f72602442c",
   "metadata": {},
   "outputs": [],
   "source": [
    "chain = llmWithTools | (lambda msg: msg.tool_calls[0][\"args\"]) | complexTool\n",
    "betterChain=betterllmWithTools | (lambda msg: msg.tool_calls[0][\"args\"]) | complexTool"
   ]
  },
  {
   "cell_type": "code",
   "execution_count": 60,
   "id": "e5512262-ab4c-4a41-a211-7f2b8261209a",
   "metadata": {},
   "outputs": [],
   "source": [
    "chainWithFallback=chain.with_fallbacks(fallbacks=[betterChain])"
   ]
  },
  {
   "cell_type": "code",
   "execution_count": 61,
   "id": "cf2d4fa8-3789-425e-ba1c-55ff55b34965",
   "metadata": {},
   "outputs": [
    {
     "data": {
      "text/plain": [
       "10.5"
      ]
     },
     "execution_count": 61,
     "metadata": {},
     "output_type": "execute_result"
    }
   ],
   "source": [
    "chainWithFallback.invoke(input=question)"
   ]
  },
  {
   "cell_type": "code",
   "execution_count": null,
   "id": "330242cb-af8f-49c0-8b8a-386d5873e11b",
   "metadata": {},
   "outputs": [],
   "source": []
  }
 ],
 "metadata": {
  "kernelspec": {
   "display_name": "Python 3 (ipykernel)",
   "language": "python",
   "name": "python3"
  },
  "language_info": {
   "codemirror_mode": {
    "name": "ipython",
    "version": 3
   },
   "file_extension": ".py",
   "mimetype": "text/x-python",
   "name": "python",
   "nbconvert_exporter": "python",
   "pygments_lexer": "ipython3",
   "version": "3.11.9"
  }
 },
 "nbformat": 4,
 "nbformat_minor": 5
}
