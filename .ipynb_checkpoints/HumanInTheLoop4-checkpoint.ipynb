{
 "cells": [
  {
   "cell_type": "code",
   "execution_count": 28,
   "id": "58e83fc6-9cc1-4f5c-8caa-e71134b64a6f",
   "metadata": {},
   "outputs": [],
   "source": [
    "from langchain.agents import AgentExecutor, create_tool_calling_agent\n",
    "from langchain_core.runnables import RunnablePassthrough,RunnableLambda, Runnable, RunnableParallel\n",
    "from langchain_core.messages import AIMessage\n",
    "from dotenv import load_dotenv,find_dotenv\n",
    "from langchain_google_genai import ChatGoogleGenerativeAI\n",
    "from langchain_openai import ChatOpenAI\n",
    "from langchain.tools.render import render_text_description\n",
    "from langchain.tools import tool\n",
    "from langchain_core.prompts import ChatPromptTemplate,SystemMessagePromptTemplate, HumanMessagePromptTemplate\n",
    "from langchain_core.output_parsers import JsonOutputParser\n",
    "from operator import itemgetter\n",
    "import json"
   ]
  },
  {
   "cell_type": "code",
   "execution_count": 2,
   "id": "742f26f4-1d7c-4f39-b4a3-48840984d509",
   "metadata": {},
   "outputs": [
    {
     "data": {
      "text/plain": [
       "True"
      ]
     },
     "execution_count": 2,
     "metadata": {},
     "output_type": "execute_result"
    }
   ],
   "source": [
    "load_dotenv(find_dotenv(\"D:\\LLM Courses\\Master Langchain Udemy\\.env\"))"
   ]
  },
  {
   "cell_type": "code",
   "execution_count": 3,
   "id": "d218a8ee-5212-4248-a71d-1ddde6baefd4",
   "metadata": {},
   "outputs": [],
   "source": [
    "llm=ChatGoogleGenerativeAI(model=\"gemini-1.5-flash\")"
   ]
  },
  {
   "cell_type": "code",
   "execution_count": 4,
   "id": "edeb8d86-872f-444a-9182-4af0ca873c5f",
   "metadata": {},
   "outputs": [],
   "source": [
    "@tool\n",
    "def count_emails(last_n_days: int) -> int:\n",
    "    \"\"\"Multiply two integers together.\"\"\"\n",
    "    return last_n_days * 2\n",
    "\n",
    "\n",
    "@tool\n",
    "def send_email(message: str, recipient: str) -> str:\n",
    "    \"Add two integers.\"\n",
    "    return f\"Successfully sent email to {recipient}.\""
   ]
  },
  {
   "cell_type": "code",
   "execution_count": 5,
   "id": "c55ef16e-1ba4-4ad1-b46f-fae664bcd986",
   "metadata": {},
   "outputs": [],
   "source": [
    "tools=[count_emails,send_email]\n",
    "llmWithTools=llm.bind_tools(tools=tools)"
   ]
  },
  {
   "cell_type": "code",
   "execution_count": 6,
   "id": "9b026b72-d437-49c1-acc1-45c900ec42f4",
   "metadata": {},
   "outputs": [],
   "source": [
    "def toolIdentifier(msg: AIMessage) -> Runnable:\n",
    "    toolMap={tool.name:tool for tool in tools}\n",
    "    for toolInfo in msg.tool_calls:\n",
    "        toolInfo['output']=toolMap[toolInfo['name']].invoke(input=toolInfo['args'])\n",
    "    return msg.tool_calls"
   ]
  },
  {
   "cell_type": "code",
   "execution_count": 7,
   "id": "f2c8df0e-b48d-4984-8b28-b0d1b57f0c02",
   "metadata": {},
   "outputs": [],
   "source": [
    "chain=llmWithTools|toolIdentifier"
   ]
  },
  {
   "cell_type": "code",
   "execution_count": 11,
   "id": "e5e68ee7-157a-4a52-bc39-2bfb092a20d9",
   "metadata": {},
   "outputs": [],
   "source": [
    "question1=\"How many emails did I get in the last 5 days?\""
   ]
  },
  {
   "cell_type": "code",
   "execution_count": 15,
   "id": "1814ed39-2470-4480-b9d6-07b8d30a538f",
   "metadata": {},
   "outputs": [
    {
     "data": {
      "text/plain": [
       "[{'name': 'count_emails',\n",
       "  'args': {'last_n_days': 5.0},\n",
       "  'id': 'ec63d06a-fec4-42ad-bcd7-9afe197b9d02',\n",
       "  'type': 'tool_call',\n",
       "  'output': 10}]"
      ]
     },
     "execution_count": 15,
     "metadata": {},
     "output_type": "execute_result"
    }
   ],
   "source": [
    "chain.invoke(input=question1)"
   ]
  },
  {
   "cell_type": "code",
   "execution_count": 22,
   "id": "6a048b0a-6aff-4823-aabc-6a4b77138702",
   "metadata": {},
   "outputs": [],
   "source": [
    "question2=\"Send an Email to Mr. Ritish Adhikari stating that you will be late?\""
   ]
  },
  {
   "cell_type": "code",
   "execution_count": 23,
   "id": "778aaf76-8227-436a-bab9-7ff412762814",
   "metadata": {},
   "outputs": [
    {
     "data": {
      "text/plain": [
       "[{'name': 'send_email',\n",
       "  'args': {'recipient': 'Ritish Adhikari', 'message': 'I will be late.'},\n",
       "  'id': '630bb789-a6ee-4f56-859f-cd55725824bd',\n",
       "  'type': 'tool_call',\n",
       "  'output': 'Successfully sent email to Ritish Adhikari.'}]"
      ]
     },
     "execution_count": 23,
     "metadata": {},
     "output_type": "execute_result"
    }
   ],
   "source": [
    "chain.invoke(input=question2)"
   ]
  },
  {
   "cell_type": "markdown",
   "id": "211de6e3-9663-472f-9af3-62205ee5c936",
   "metadata": {},
   "source": [
    "<h3> Adding of Huamn Approval </h3>"
   ]
  },
  {
   "cell_type": "code",
   "execution_count": 29,
   "id": "efec5f53-f7e9-4434-b6a7-79bb50c197e9",
   "metadata": {},
   "outputs": [
    {
     "data": {
      "text/plain": [
       "{'name': 'send_email',\n",
       " 'args': {'recipient': 'Ritish Adhikari', 'message': 'I will be late.'},\n",
       " 'id': '35e86035-7100-4ca6-8f01-b9deef40f68c',\n",
       " 'type': 'tool_call'}"
      ]
     },
     "execution_count": 29,
     "metadata": {},
     "output_type": "execute_result"
    }
   ],
   "source": [
    "toolCall=llmWithTools.invoke(input=question2).tool_calls[0]\n",
    "toolCall"
   ]
  },
  {
   "cell_type": "code",
   "execution_count": 30,
   "id": "a3b4874f-19d6-46f5-94a0-9c8a3b99a152",
   "metadata": {},
   "outputs": [
    {
     "data": {
      "text/plain": [
       "'{\\n  \"name\": \"send_email\",\\n  \"args\": {\\n    \"recipient\": \"Ritish Adhikari\",\\n    \"message\": \"I will be late.\"\\n  },\\n  \"id\": \"35e86035-7100-4ca6-8f01-b9deef40f68c\",\\n  \"type\": \"tool_call\"\\n}'"
      ]
     },
     "execution_count": 30,
     "metadata": {},
     "output_type": "execute_result"
    }
   ],
   "source": [
    "json.dumps(obj=toolCall,indent=2)"
   ]
  },
  {
   "cell_type": "code",
   "execution_count": 31,
   "id": "a7c265f6-3078-4d27-b809-77b745827759",
   "metadata": {},
   "outputs": [],
   "source": [
    "def humanApproval(msg: AIMessage) -> Runnable:\n",
    "    toolStrs=\"\".join(json.dumps(obj=toolcall, indent=2) for toolcall in msg.tool_calls)\n",
    "\n",
    "    inputMessage=(\n",
    "        f\"Do you approve of the following tool invocations \\n\\n {toolStrs}\\n\\n\"\n",
    "        \"Anything except 'Y'/'Yes' (case-insensitive) will be treated as a No\")\n",
    "\n",
    "    resp=input(inputMessage)\n",
    "    if resp.lower() not in ['y','yes']:\n",
    "        raise ValueError(f\"Tool Invocation is Not approved: \\n\\n {toolStrs}\")\n",
    "    else:\n",
    "        return msg"
   ]
  },
  {
   "cell_type": "code",
   "execution_count": 33,
   "id": "3f94dd08-c01f-4810-980f-0db1eea07e73",
   "metadata": {},
   "outputs": [],
   "source": [
    "chain=llmWithTools|humanApproval|toolIdentifier"
   ]
  },
  {
   "cell_type": "code",
   "execution_count": 34,
   "id": "ed47994a-83d7-4094-ab83-da1fbc9fcd71",
   "metadata": {},
   "outputs": [
    {
     "name": "stdin",
     "output_type": "stream",
     "text": [
      "Do you approve of the following tool invocations \n",
      "\n",
      " {\n",
      "  \"name\": \"send_email\",\n",
      "  \"args\": {\n",
      "    \"recipient\": \"Ritish Adhikari\",\n",
      "    \"message\": \"I will be late.\"\n",
      "  },\n",
      "  \"id\": \"ab8a3e3c-2e6a-49fe-a320-665236470ac2\",\n",
      "  \"type\": \"tool_call\"\n",
      "}\n",
      "\n",
      "Anything except 'Y'/'Yes' (case-insensitive) will be treated as a No y\n"
     ]
    },
    {
     "data": {
      "text/plain": [
       "[{'name': 'send_email',\n",
       "  'args': {'recipient': 'Ritish Adhikari', 'message': 'I will be late.'},\n",
       "  'id': 'ab8a3e3c-2e6a-49fe-a320-665236470ac2',\n",
       "  'type': 'tool_call',\n",
       "  'output': 'Successfully sent email to Ritish Adhikari.'}]"
      ]
     },
     "execution_count": 34,
     "metadata": {},
     "output_type": "execute_result"
    }
   ],
   "source": [
    "chain.invoke(input=question2)"
   ]
  },
  {
   "cell_type": "code",
   "execution_count": 35,
   "id": "5be40869-c1d4-4772-81f3-3b37dd91f011",
   "metadata": {},
   "outputs": [
    {
     "name": "stdin",
     "output_type": "stream",
     "text": [
      "Do you approve of the following tool invocations \n",
      "\n",
      " {\n",
      "  \"name\": \"count_emails\",\n",
      "  \"args\": {\n",
      "    \"last_n_days\": 5.0\n",
      "  },\n",
      "  \"id\": \"cdb5407e-55e6-45af-b09e-5a785f65fb27\",\n",
      "  \"type\": \"tool_call\"\n",
      "}\n",
      "\n",
      "Anything except 'Y'/'Yes' (case-insensitive) will be treated as a No y\n"
     ]
    },
    {
     "data": {
      "text/plain": [
       "[{'name': 'count_emails',\n",
       "  'args': {'last_n_days': 5.0},\n",
       "  'id': 'cdb5407e-55e6-45af-b09e-5a785f65fb27',\n",
       "  'type': 'tool_call',\n",
       "  'output': 10}]"
      ]
     },
     "execution_count": 35,
     "metadata": {},
     "output_type": "execute_result"
    }
   ],
   "source": [
    "chain.invoke(input=question1)"
   ]
  },
  {
   "cell_type": "code",
   "execution_count": 36,
   "id": "b0ce4308-b471-4e25-99de-99616d247ade",
   "metadata": {},
   "outputs": [
    {
     "name": "stdin",
     "output_type": "stream",
     "text": [
      "Do you approve of the following tool invocations \n",
      "\n",
      " {\n",
      "  \"name\": \"count_emails\",\n",
      "  \"args\": {\n",
      "    \"last_n_days\": 5.0\n",
      "  },\n",
      "  \"id\": \"6b07b695-b797-4dd5-aba3-d9e975ac03fd\",\n",
      "  \"type\": \"tool_call\"\n",
      "}\n",
      "\n",
      "Anything except 'Y'/'Yes' (case-insensitive) will be treated as a No n\n"
     ]
    },
    {
     "ename": "ValueError",
     "evalue": "Tool Invocation is Not approved: \n\n {\n  \"name\": \"count_emails\",\n  \"args\": {\n    \"last_n_days\": 5.0\n  },\n  \"id\": \"6b07b695-b797-4dd5-aba3-d9e975ac03fd\",\n  \"type\": \"tool_call\"\n}",
     "output_type": "error",
     "traceback": [
      "\u001b[1;31m---------------------------------------------------------------------------\u001b[0m",
      "\u001b[1;31mValueError\u001b[0m                                Traceback (most recent call last)",
      "Cell \u001b[1;32mIn[36], line 1\u001b[0m\n\u001b[1;32m----> 1\u001b[0m \u001b[43mchain\u001b[49m\u001b[38;5;241;43m.\u001b[39;49m\u001b[43minvoke\u001b[49m\u001b[43m(\u001b[49m\u001b[38;5;28;43minput\u001b[39;49m\u001b[38;5;241;43m=\u001b[39;49m\u001b[43mquestion1\u001b[49m\u001b[43m)\u001b[49m\n",
      "File \u001b[1;32m~\\.conda\\envs\\oaivenv\\Lib\\site-packages\\langchain_core\\runnables\\base.py:2879\u001b[0m, in \u001b[0;36mRunnableSequence.invoke\u001b[1;34m(self, input, config, **kwargs)\u001b[0m\n\u001b[0;32m   2877\u001b[0m             \u001b[38;5;28minput\u001b[39m \u001b[38;5;241m=\u001b[39m context\u001b[38;5;241m.\u001b[39mrun(step\u001b[38;5;241m.\u001b[39minvoke, \u001b[38;5;28minput\u001b[39m, config, \u001b[38;5;241m*\u001b[39m\u001b[38;5;241m*\u001b[39mkwargs)\n\u001b[0;32m   2878\u001b[0m         \u001b[38;5;28;01melse\u001b[39;00m:\n\u001b[1;32m-> 2879\u001b[0m             \u001b[38;5;28minput\u001b[39m \u001b[38;5;241m=\u001b[39m context\u001b[38;5;241m.\u001b[39mrun(step\u001b[38;5;241m.\u001b[39minvoke, \u001b[38;5;28minput\u001b[39m, config)\n\u001b[0;32m   2880\u001b[0m \u001b[38;5;66;03m# finish the root run\u001b[39;00m\n\u001b[0;32m   2881\u001b[0m \u001b[38;5;28;01mexcept\u001b[39;00m \u001b[38;5;167;01mBaseException\u001b[39;00m \u001b[38;5;28;01mas\u001b[39;00m e:\n",
      "File \u001b[1;32m~\\.conda\\envs\\oaivenv\\Lib\\site-packages\\langchain_core\\runnables\\base.py:4475\u001b[0m, in \u001b[0;36mRunnableLambda.invoke\u001b[1;34m(self, input, config, **kwargs)\u001b[0m\n\u001b[0;32m   4461\u001b[0m \u001b[38;5;250m\u001b[39m\u001b[38;5;124;03m\"\"\"Invoke this Runnable synchronously.\u001b[39;00m\n\u001b[0;32m   4462\u001b[0m \n\u001b[0;32m   4463\u001b[0m \u001b[38;5;124;03mArgs:\u001b[39;00m\n\u001b[1;32m   (...)\u001b[0m\n\u001b[0;32m   4472\u001b[0m \u001b[38;5;124;03m    TypeError: If the Runnable is a coroutine function.\u001b[39;00m\n\u001b[0;32m   4473\u001b[0m \u001b[38;5;124;03m\"\"\"\u001b[39;00m\n\u001b[0;32m   4474\u001b[0m \u001b[38;5;28;01mif\u001b[39;00m \u001b[38;5;28mhasattr\u001b[39m(\u001b[38;5;28mself\u001b[39m, \u001b[38;5;124m\"\u001b[39m\u001b[38;5;124mfunc\u001b[39m\u001b[38;5;124m\"\u001b[39m):\n\u001b[1;32m-> 4475\u001b[0m     \u001b[38;5;28;01mreturn\u001b[39;00m \u001b[38;5;28;43mself\u001b[39;49m\u001b[38;5;241;43m.\u001b[39;49m\u001b[43m_call_with_config\u001b[49m\u001b[43m(\u001b[49m\n\u001b[0;32m   4476\u001b[0m \u001b[43m        \u001b[49m\u001b[38;5;28;43mself\u001b[39;49m\u001b[38;5;241;43m.\u001b[39;49m\u001b[43m_invoke\u001b[49m\u001b[43m,\u001b[49m\n\u001b[0;32m   4477\u001b[0m \u001b[43m        \u001b[49m\u001b[38;5;28;43minput\u001b[39;49m\u001b[43m,\u001b[49m\n\u001b[0;32m   4478\u001b[0m \u001b[43m        \u001b[49m\u001b[38;5;28;43mself\u001b[39;49m\u001b[38;5;241;43m.\u001b[39;49m\u001b[43m_config\u001b[49m\u001b[43m(\u001b[49m\u001b[43mconfig\u001b[49m\u001b[43m,\u001b[49m\u001b[43m \u001b[49m\u001b[38;5;28;43mself\u001b[39;49m\u001b[38;5;241;43m.\u001b[39;49m\u001b[43mfunc\u001b[49m\u001b[43m)\u001b[49m\u001b[43m,\u001b[49m\n\u001b[0;32m   4479\u001b[0m \u001b[43m        \u001b[49m\u001b[38;5;241;43m*\u001b[39;49m\u001b[38;5;241;43m*\u001b[39;49m\u001b[43mkwargs\u001b[49m\u001b[43m,\u001b[49m\n\u001b[0;32m   4480\u001b[0m \u001b[43m    \u001b[49m\u001b[43m)\u001b[49m\n\u001b[0;32m   4481\u001b[0m \u001b[38;5;28;01melse\u001b[39;00m:\n\u001b[0;32m   4482\u001b[0m     \u001b[38;5;28;01mraise\u001b[39;00m \u001b[38;5;167;01mTypeError\u001b[39;00m(\n\u001b[0;32m   4483\u001b[0m         \u001b[38;5;124m\"\u001b[39m\u001b[38;5;124mCannot invoke a coroutine function synchronously.\u001b[39m\u001b[38;5;124m\"\u001b[39m\n\u001b[0;32m   4484\u001b[0m         \u001b[38;5;124m\"\u001b[39m\u001b[38;5;124mUse `ainvoke` instead.\u001b[39m\u001b[38;5;124m\"\u001b[39m\n\u001b[0;32m   4485\u001b[0m     )\n",
      "File \u001b[1;32m~\\.conda\\envs\\oaivenv\\Lib\\site-packages\\langchain_core\\runnables\\base.py:1786\u001b[0m, in \u001b[0;36mRunnable._call_with_config\u001b[1;34m(self, func, input, config, run_type, serialized, **kwargs)\u001b[0m\n\u001b[0;32m   1782\u001b[0m     context \u001b[38;5;241m=\u001b[39m copy_context()\n\u001b[0;32m   1783\u001b[0m     context\u001b[38;5;241m.\u001b[39mrun(_set_config_context, child_config)\n\u001b[0;32m   1784\u001b[0m     output \u001b[38;5;241m=\u001b[39m cast(\n\u001b[0;32m   1785\u001b[0m         Output,\n\u001b[1;32m-> 1786\u001b[0m         \u001b[43mcontext\u001b[49m\u001b[38;5;241;43m.\u001b[39;49m\u001b[43mrun\u001b[49m\u001b[43m(\u001b[49m\n\u001b[0;32m   1787\u001b[0m \u001b[43m            \u001b[49m\u001b[43mcall_func_with_variable_args\u001b[49m\u001b[43m,\u001b[49m\u001b[43m  \u001b[49m\u001b[38;5;66;43;03m# type: ignore[arg-type]\u001b[39;49;00m\n\u001b[0;32m   1788\u001b[0m \u001b[43m            \u001b[49m\u001b[43mfunc\u001b[49m\u001b[43m,\u001b[49m\u001b[43m  \u001b[49m\u001b[38;5;66;43;03m# type: ignore[arg-type]\u001b[39;49;00m\n\u001b[0;32m   1789\u001b[0m \u001b[43m            \u001b[49m\u001b[38;5;28;43minput\u001b[39;49m\u001b[43m,\u001b[49m\u001b[43m  \u001b[49m\u001b[38;5;66;43;03m# type: ignore[arg-type]\u001b[39;49;00m\n\u001b[0;32m   1790\u001b[0m \u001b[43m            \u001b[49m\u001b[43mconfig\u001b[49m\u001b[43m,\u001b[49m\n\u001b[0;32m   1791\u001b[0m \u001b[43m            \u001b[49m\u001b[43mrun_manager\u001b[49m\u001b[43m,\u001b[49m\n\u001b[0;32m   1792\u001b[0m \u001b[43m            \u001b[49m\u001b[38;5;241;43m*\u001b[39;49m\u001b[38;5;241;43m*\u001b[39;49m\u001b[43mkwargs\u001b[49m\u001b[43m,\u001b[49m\n\u001b[0;32m   1793\u001b[0m \u001b[43m        \u001b[49m\u001b[43m)\u001b[49m,\n\u001b[0;32m   1794\u001b[0m     )\n\u001b[0;32m   1795\u001b[0m \u001b[38;5;28;01mexcept\u001b[39;00m \u001b[38;5;167;01mBaseException\u001b[39;00m \u001b[38;5;28;01mas\u001b[39;00m e:\n\u001b[0;32m   1796\u001b[0m     run_manager\u001b[38;5;241m.\u001b[39mon_chain_error(e)\n",
      "File \u001b[1;32m~\\.conda\\envs\\oaivenv\\Lib\\site-packages\\langchain_core\\runnables\\config.py:398\u001b[0m, in \u001b[0;36mcall_func_with_variable_args\u001b[1;34m(func, input, config, run_manager, **kwargs)\u001b[0m\n\u001b[0;32m    396\u001b[0m \u001b[38;5;28;01mif\u001b[39;00m run_manager \u001b[38;5;129;01mis\u001b[39;00m \u001b[38;5;129;01mnot\u001b[39;00m \u001b[38;5;28;01mNone\u001b[39;00m \u001b[38;5;129;01mand\u001b[39;00m accepts_run_manager(func):\n\u001b[0;32m    397\u001b[0m     kwargs[\u001b[38;5;124m\"\u001b[39m\u001b[38;5;124mrun_manager\u001b[39m\u001b[38;5;124m\"\u001b[39m] \u001b[38;5;241m=\u001b[39m run_manager\n\u001b[1;32m--> 398\u001b[0m \u001b[38;5;28;01mreturn\u001b[39;00m \u001b[43mfunc\u001b[49m\u001b[43m(\u001b[49m\u001b[38;5;28;43minput\u001b[39;49m\u001b[43m,\u001b[49m\u001b[43m \u001b[49m\u001b[38;5;241;43m*\u001b[39;49m\u001b[38;5;241;43m*\u001b[39;49m\u001b[43mkwargs\u001b[49m\u001b[43m)\u001b[49m\n",
      "File \u001b[1;32m~\\.conda\\envs\\oaivenv\\Lib\\site-packages\\langchain_core\\runnables\\base.py:4331\u001b[0m, in \u001b[0;36mRunnableLambda._invoke\u001b[1;34m(self, input, run_manager, config, **kwargs)\u001b[0m\n\u001b[0;32m   4329\u001b[0m                 output \u001b[38;5;241m=\u001b[39m chunk\n\u001b[0;32m   4330\u001b[0m \u001b[38;5;28;01melse\u001b[39;00m:\n\u001b[1;32m-> 4331\u001b[0m     output \u001b[38;5;241m=\u001b[39m \u001b[43mcall_func_with_variable_args\u001b[49m\u001b[43m(\u001b[49m\n\u001b[0;32m   4332\u001b[0m \u001b[43m        \u001b[49m\u001b[38;5;28;43mself\u001b[39;49m\u001b[38;5;241;43m.\u001b[39;49m\u001b[43mfunc\u001b[49m\u001b[43m,\u001b[49m\u001b[43m \u001b[49m\u001b[38;5;28;43minput\u001b[39;49m\u001b[43m,\u001b[49m\u001b[43m \u001b[49m\u001b[43mconfig\u001b[49m\u001b[43m,\u001b[49m\u001b[43m \u001b[49m\u001b[43mrun_manager\u001b[49m\u001b[43m,\u001b[49m\u001b[43m \u001b[49m\u001b[38;5;241;43m*\u001b[39;49m\u001b[38;5;241;43m*\u001b[39;49m\u001b[43mkwargs\u001b[49m\n\u001b[0;32m   4333\u001b[0m \u001b[43m    \u001b[49m\u001b[43m)\u001b[49m\n\u001b[0;32m   4334\u001b[0m \u001b[38;5;66;03m# If the output is a Runnable, invoke it\u001b[39;00m\n\u001b[0;32m   4335\u001b[0m \u001b[38;5;28;01mif\u001b[39;00m \u001b[38;5;28misinstance\u001b[39m(output, Runnable):\n",
      "File \u001b[1;32m~\\.conda\\envs\\oaivenv\\Lib\\site-packages\\langchain_core\\runnables\\config.py:398\u001b[0m, in \u001b[0;36mcall_func_with_variable_args\u001b[1;34m(func, input, config, run_manager, **kwargs)\u001b[0m\n\u001b[0;32m    396\u001b[0m \u001b[38;5;28;01mif\u001b[39;00m run_manager \u001b[38;5;129;01mis\u001b[39;00m \u001b[38;5;129;01mnot\u001b[39;00m \u001b[38;5;28;01mNone\u001b[39;00m \u001b[38;5;129;01mand\u001b[39;00m accepts_run_manager(func):\n\u001b[0;32m    397\u001b[0m     kwargs[\u001b[38;5;124m\"\u001b[39m\u001b[38;5;124mrun_manager\u001b[39m\u001b[38;5;124m\"\u001b[39m] \u001b[38;5;241m=\u001b[39m run_manager\n\u001b[1;32m--> 398\u001b[0m \u001b[38;5;28;01mreturn\u001b[39;00m \u001b[43mfunc\u001b[49m\u001b[43m(\u001b[49m\u001b[38;5;28;43minput\u001b[39;49m\u001b[43m,\u001b[49m\u001b[43m \u001b[49m\u001b[38;5;241;43m*\u001b[39;49m\u001b[38;5;241;43m*\u001b[39;49m\u001b[43mkwargs\u001b[49m\u001b[43m)\u001b[49m\n",
      "Cell \u001b[1;32mIn[31], line 10\u001b[0m, in \u001b[0;36mhumanApproval\u001b[1;34m(msg)\u001b[0m\n\u001b[0;32m      8\u001b[0m resp\u001b[38;5;241m=\u001b[39m\u001b[38;5;28minput\u001b[39m(inputMessage)\n\u001b[0;32m      9\u001b[0m \u001b[38;5;28;01mif\u001b[39;00m resp\u001b[38;5;241m.\u001b[39mlower() \u001b[38;5;129;01mnot\u001b[39;00m \u001b[38;5;129;01min\u001b[39;00m [\u001b[38;5;124m'\u001b[39m\u001b[38;5;124my\u001b[39m\u001b[38;5;124m'\u001b[39m,\u001b[38;5;124m'\u001b[39m\u001b[38;5;124myes\u001b[39m\u001b[38;5;124m'\u001b[39m]:\n\u001b[1;32m---> 10\u001b[0m     \u001b[38;5;28;01mraise\u001b[39;00m \u001b[38;5;167;01mValueError\u001b[39;00m(\u001b[38;5;124mf\u001b[39m\u001b[38;5;124m\"\u001b[39m\u001b[38;5;124mTool Invocation is Not approved: \u001b[39m\u001b[38;5;130;01m\\n\u001b[39;00m\u001b[38;5;130;01m\\n\u001b[39;00m\u001b[38;5;124m \u001b[39m\u001b[38;5;132;01m{\u001b[39;00mtoolStrs\u001b[38;5;132;01m}\u001b[39;00m\u001b[38;5;124m\"\u001b[39m)\n\u001b[0;32m     11\u001b[0m \u001b[38;5;28;01melse\u001b[39;00m:\n\u001b[0;32m     12\u001b[0m     \u001b[38;5;28;01mreturn\u001b[39;00m msg\n",
      "\u001b[1;31mValueError\u001b[0m: Tool Invocation is Not approved: \n\n {\n  \"name\": \"count_emails\",\n  \"args\": {\n    \"last_n_days\": 5.0\n  },\n  \"id\": \"6b07b695-b797-4dd5-aba3-d9e975ac03fd\",\n  \"type\": \"tool_call\"\n}"
     ]
    }
   ],
   "source": [
    "chain.invoke(input=question1)"
   ]
  },
  {
   "cell_type": "code",
   "execution_count": null,
   "id": "fcda7888-2fda-4ff9-9394-4f48ebcafd98",
   "metadata": {},
   "outputs": [],
   "source": []
  }
 ],
 "metadata": {
  "kernelspec": {
   "display_name": "Python 3 (ipykernel)",
   "language": "python",
   "name": "python3"
  },
  "language_info": {
   "codemirror_mode": {
    "name": "ipython",
    "version": 3
   },
   "file_extension": ".py",
   "mimetype": "text/x-python",
   "name": "python",
   "nbconvert_exporter": "python",
   "pygments_lexer": "ipython3",
   "version": "3.11.9"
  }
 },
 "nbformat": 4,
 "nbformat_minor": 5
}
